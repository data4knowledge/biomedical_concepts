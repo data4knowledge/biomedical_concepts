{
  "cells": [
    {
      "cell_type": "markdown",
      "metadata": {
        "id": "FPlw5A04o23L"
      },
      "source": [
        "Install dependencies"
      ]
    },
    {
      "cell_type": "code",
      "execution_count": 115,
      "metadata": {
        "colab": {
          "base_uri": "https://localhost:8080/"
        },
        "id": "nsmOe6weo0Cl",
        "outputId": "3b4c83c4-ddd4-407c-cfee-3abddddc6f10"
      },
      "outputs": [
        {
          "output_type": "stream",
          "name": "stdout",
          "text": [
            "Requirement already satisfied: neo4j in /usr/local/lib/python3.7/dist-packages (4.4.2)\n",
            "Requirement already satisfied: pytz in /usr/local/lib/python3.7/dist-packages (from neo4j) (2018.9)\n",
            "Requirement already satisfied: requests in /usr/local/lib/python3.7/dist-packages (2.23.0)\n",
            "Requirement already satisfied: certifi>=2017.4.17 in /usr/local/lib/python3.7/dist-packages (from requests) (2021.10.8)\n",
            "Requirement already satisfied: chardet<4,>=3.0.2 in /usr/local/lib/python3.7/dist-packages (from requests) (3.0.4)\n",
            "Requirement already satisfied: urllib3!=1.25.0,!=1.25.1,<1.26,>=1.21.1 in /usr/local/lib/python3.7/dist-packages (from requests) (1.24.3)\n",
            "Requirement already satisfied: idna<3,>=2.5 in /usr/local/lib/python3.7/dist-packages (from requests) (2.10)\n"
          ]
        }
      ],
      "source": [
        "!pip install neo4j\n",
        "!pip install requests"
      ]
    },
    {
      "cell_type": "markdown",
      "source": [
        "First thing we need to do is connect to the database. We also define some general purpose methods in this section."
      ],
      "metadata": {
        "id": "lUfZpfdtFmEw"
      }
    },
    {
      "cell_type": "code",
      "execution_count": 116,
      "metadata": {
        "colab": {
          "base_uri": "https://localhost:8080/"
        },
        "id": "fqbZcwbLnKkt",
        "outputId": "a57ece93-a443-481d-eab6-bd7a88f0aeda"
      },
      "outputs": [
        {
          "output_type": "stream",
          "name": "stdout",
          "text": [
            "Ready ...\n"
          ]
        }
      ],
      "source": [
        "from neo4j import GraphDatabase\n",
        "import requests\n",
        "import json\n",
        "import urllib.request\n",
        "\n",
        "# Load file directory\n",
        "load_file_dir = \"https://raw.githubusercontent.com/data4knowledge/biomedical_concepts/main/data/csv_load/\"\n",
        "\n",
        "# Connect to the Neo4j DB. You need a line like one of these examples:\n",
        "# driver = GraphDatabase.driver(\"neo4j://n.n.n.n:7687\", auth=(\"username\", \"password\"))\n",
        "# driver = GraphDatabase.driver(\"neo4j+s://url_for_aura\", auth=(\"username\", \"password\"))\n",
        "\n",
        "\n",
        "# Methods\n",
        "def clear(tx):\n",
        "    tx.run(\"CALL apoc.periodic.iterate('MATCH (n) RETURN n', 'DETACH DELETE n', {batchSize:1000})\")\n",
        "\n",
        "def file_load(load_files):\n",
        "  with driver.session() as session:\n",
        "    nodes = []\n",
        "    relationships = []\n",
        "    for file_item in load_files:\n",
        "      filename = \"%s%s\" % (load_file_dir, file_item[\"filename\"])\n",
        "      if \"label\" in file_item:\n",
        "        nodes.append(\"{ fileName: '%s', labels: ['%s'] }\" % (filename, file_item[\"label\"]) )\n",
        "      else:\n",
        "        relationships.append(\"{ fileName: '%s', type: '%s' }\" % (filename, file_item[\"type\"]) )\n",
        "    query = \"\"\"CALL apoc.import.csv( [%s], [%s], {stringIds: false})\"\"\" % (\", \".join(nodes), \", \".join(relationships))\n",
        "    print(query)\n",
        "    result = session.run(query)\n",
        "    #print(result)\n",
        "    for record in result:\n",
        "      print(record)\n",
        "  driver.close()\n",
        "\n",
        "def load_cl(ct_type, cl):\n",
        "  filename = \"%scdisc_ct_%s_nodes_%s.csv\" % (load_file_dir, ct_type, cl)\n",
        "  with driver.session() as session:\n",
        "    query = \"\"\"MATCH (p:SKOS_CONCEPT) where p.identifier = '%s' \n",
        "      WITH p\n",
        "      LOAD CSV WITH HEADERS FROM '%s' AS row\n",
        "      CREATE (p)-[:SKOS_NARROWER]->(c:SKOS_CONCEPT {id: toInteger(row.id), alt_label: row.alt_label, definition: row.definition, identifier: row.identifier, notation: row.notation, pref_label: row.pref_label, uri: row.uri})\"\"\" % (cl, filename)\n",
        "    result = session.run(query)\n",
        "    for record in result:\n",
        "      print(record)\n",
        "\n",
        "def dump_cl(cl):\n",
        "  with driver.session() as session:\n",
        "    query = \"\"\"MATCH (cs:SKOS_CONCEPT_SCHEME)-[]->(c1:SKOS_CONCEPT)-[]->(c2:SKOS_CONCEPT) WHERE c1.identifier = '%s' RETURN DISTINCT cs.version as version, c1.identifier as cl_identifier, c1.notation as cl_sub, c2.identifier as cli_identifier, c2.notation as cli_sub\"\"\" % (cl) \n",
        "    result = session.run(query, uri_data=uri_data)\n",
        "    for record in result:\n",
        "      print(\"%s: [%s, %s], [%s, %s]\" % (record[\"version\"], record[\"cl_identifier\"], record[\"cl_sub\"], record[\"cli_identifier\"], record[\"cli_sub\"]))\n",
        "  driver.close()\n",
        "\n",
        "with driver.session() as session:\n",
        "    session.write_transaction(clear)\n",
        "driver.close()\n",
        "\n",
        "print(\"Ready ...\")\n"
      ]
    },
    {
      "cell_type": "markdown",
      "metadata": {
        "id": "hCjYsNHTmpXP"
      },
      "source": [
        "First create the FHIR data types. Need this before anything else.\n"
      ]
    },
    {
      "cell_type": "code",
      "source": [
        "stage_1_files = [ \n",
        "    { \"label\": \"FHIR\", \"filename\": \"stage_1_fhir_nodes.csv\" },\n",
        "    { \"label\": \"WEB_SOURCE\", \"filename\": \"stage_1_web_source_nodes.csv\" },\n",
        "    { \"label\": \"FHIR_DATA_TYPE\", \"filename\": \"stage_1_fhir_data_type_nodes.csv\" },\n",
        "    { \"label\": \"FHIR_DATA_TYPE_PROPERTY\", \"filename\": \"stage_1_fhir_data_type_property_nodes.csv\" },\n",
        "    { \"type\": \"HAS_DATA_TYPE_PROPERTY\", \"filename\": \"stage_1_has_data_type_property_relationships.csv\" },\n",
        "    { \"type\": \"FROM_SOURCE\", \"filename\": \"stage_1_from_source_relationships.csv\" },\n",
        "    { \"type\": \"HAS_DATA_TYPE\", \"filename\": \"stage_1_has_data_type_relationships.csv\" }\n",
        "  ]\n",
        "\n",
        "file_load(stage_1_files)"
      ],
      "metadata": {
        "colab": {
          "base_uri": "https://localhost:8080/"
        },
        "id": "p4ulFrLPkpJl",
        "outputId": "9efd2343-fc86-4188-aa12-033244753ba0"
      },
      "execution_count": 117,
      "outputs": [
        {
          "output_type": "stream",
          "name": "stdout",
          "text": [
            "CALL apoc.import.csv( [{ fileName: 'https://raw.githubusercontent.com/data4knowledge/biomedical_concepts/main/data/csv_load/stage_1_fhir_nodes.csv', labels: ['FHIR'] }, { fileName: 'https://raw.githubusercontent.com/data4knowledge/biomedical_concepts/main/data/csv_load/stage_1_web_source_nodes.csv', labels: ['WEB_SOURCE'] }, { fileName: 'https://raw.githubusercontent.com/data4knowledge/biomedical_concepts/main/data/csv_load/stage_1_fhir_data_type_nodes.csv', labels: ['FHIR_DATA_TYPE'] }, { fileName: 'https://raw.githubusercontent.com/data4knowledge/biomedical_concepts/main/data/csv_load/stage_1_fhir_data_type_property_nodes.csv', labels: ['FHIR_DATA_TYPE_PROPERTY'] }], [{ fileName: 'https://raw.githubusercontent.com/data4knowledge/biomedical_concepts/main/data/csv_load/stage_1_has_data_type_property_relationships.csv', type: 'HAS_DATA_TYPE_PROPERTY' }, { fileName: 'https://raw.githubusercontent.com/data4knowledge/biomedical_concepts/main/data/csv_load/stage_1_from_source_relationships.csv', type: 'FROM_SOURCE' }, { fileName: 'https://raw.githubusercontent.com/data4knowledge/biomedical_concepts/main/data/csv_load/stage_1_has_data_type_relationships.csv', type: 'HAS_DATA_TYPE' }], {stringIds: false})\n",
            "<Record file='progress.csv' source='file' format='csv' nodes=16 relationships=15 properties=60 time=1106 rows=0 batchSize=-1 batches=0 done=True data=None>\n"
          ]
        }
      ]
    },
    {
      "cell_type": "markdown",
      "metadata": {
        "id": "y2X4GzLForm7"
      },
      "source": [
        "Now check we have loaded ok. Check the FHIR version, should be 4.0.1"
      ]
    },
    {
      "cell_type": "code",
      "execution_count": 118,
      "metadata": {
        "colab": {
          "base_uri": "https://localhost:8080/"
        },
        "id": "QNsq3ykEnysr",
        "outputId": "70ea7509-2916-4d93-fddd-f9810c960a54"
      },
      "outputs": [
        {
          "output_type": "stream",
          "name": "stdout",
          "text": [
            "Version:  4.0.1\n"
          ]
        }
      ],
      "source": [
        "with driver.session() as session:\n",
        "  query = \"\"\"MATCH (n:FHIR) Return n.version as version\"\"\" \n",
        "  result = session.run(query)\n",
        "  for record in result:\n",
        "    print(\"Version: \", record[\"version\"])\n",
        "\n",
        "driver.close()"
      ]
    },
    {
      "cell_type": "markdown",
      "source": [
        "Now load the canonical model."
      ],
      "metadata": {
        "id": "ARXjjZrAGFbi"
      }
    },
    {
      "cell_type": "code",
      "execution_count": 119,
      "metadata": {
        "colab": {
          "base_uri": "https://localhost:8080/"
        },
        "id": "hklRXVFUKGNK",
        "outputId": "b79a7b20-ada3-4811-fd3e-295326b39a5e"
      },
      "outputs": [
        {
          "output_type": "stream",
          "name": "stdout",
          "text": [
            "CALL apoc.import.csv( [{ fileName: 'https://raw.githubusercontent.com/data4knowledge/biomedical_concepts/main/data/csv_load/stage_2_canonical_model_nodes.csv', labels: ['CANONICAL_MODEL'] }, { fileName: 'https://raw.githubusercontent.com/data4knowledge/biomedical_concepts/main/data/csv_load/stage_2_canonical_node_nodes.csv', labels: ['CANONICAL_NODE'] }, { fileName: 'https://raw.githubusercontent.com/data4knowledge/biomedical_concepts/main/data/csv_load/stage_2_canonical_data_type_nodes.csv', labels: ['CANONICAL_DATA_TYPE'] }, { fileName: 'https://raw.githubusercontent.com/data4knowledge/biomedical_concepts/main/data/csv_load/stage_2_other_source_nodes.csv', labels: ['OTHER_SOURCE'] }], [{ fileName: 'https://raw.githubusercontent.com/data4knowledge/biomedical_concepts/main/data/csv_load/stage_2_consists_of_relationships.csv', type: 'CONSISTS_OF' }, { fileName: 'https://raw.githubusercontent.com/data4knowledge/biomedical_concepts/main/data/csv_load/stage_2_from_source_relationships.csv', type: 'FROM_SOURCE' }, { fileName: 'https://raw.githubusercontent.com/data4knowledge/biomedical_concepts/main/data/csv_load/stage_2_has_sub_model_relationships.csv', type: 'HAS_SUB_MODEL' }, { fileName: 'https://raw.githubusercontent.com/data4knowledge/biomedical_concepts/main/data/csv_load/stage_2_has_data_type_relationships.csv', type: 'HAS_DATA_TYPE' }], {stringIds: false})\n",
            "<Record file='progress.csv' source='file' format='csv' nodes=88 relationships=95 properties=264 time=1267 rows=0 batchSize=-1 batches=0 done=True data=None>\n"
          ]
        }
      ],
      "source": [
        "stage_2_files = [ \n",
        "    { \"label\": \"CANONICAL_MODEL\", \"filename\": \"stage_2_canonical_model_nodes.csv\" },\n",
        "    { \"label\": \"CANONICAL_NODE\", \"filename\": \"stage_2_canonical_node_nodes.csv\" },\n",
        "    { \"label\": \"CANONICAL_DATA_TYPE\", \"filename\": \"stage_2_canonical_data_type_nodes.csv\" },\n",
        "    { \"label\": \"OTHER_SOURCE\", \"filename\": \"stage_2_other_source_nodes.csv\" },\n",
        "    { \"type\": \"CONSISTS_OF\", \"filename\": \"stage_2_consists_of_relationships.csv\" },\n",
        "    { \"type\": \"FROM_SOURCE\", \"filename\": \"stage_2_from_source_relationships.csv\" },\n",
        "    { \"type\": \"HAS_SUB_MODEL\", \"filename\": \"stage_2_has_sub_model_relationships.csv\" },\n",
        "    { \"type\": \"HAS_DATA_TYPE\", \"filename\": \"stage_2_has_data_type_relationships.csv\" }\n",
        "]\n",
        "\n",
        "file_load(stage_2_files)"
      ]
    },
    {
      "cell_type": "markdown",
      "metadata": {
        "id": "592LExsq_Su0"
      },
      "source": [
        "Check a few relationships exist in the canonical model. Should get three results.\n",
        "\n",
        "* THERAPEUTIC INTERVENTION\n",
        "* OBSERVATION\n",
        "* ADVERSE EVENT\n",
        "\n"
      ]
    },
    {
      "cell_type": "code",
      "execution_count": 120,
      "metadata": {
        "colab": {
          "base_uri": "https://localhost:8080/"
        },
        "id": "Xn5dPGqB_Xj6",
        "outputId": "da32471e-f142-47e2-c410-0e342eb6167e"
      },
      "outputs": [
        {
          "output_type": "stream",
          "name": "stdout",
          "text": [
            "CANONICAL MODEL -> ADVERSE EVENT -> Location: \n",
            "CANONICAL MODEL -> OBSERVATION -> Location: \n",
            "CANONICAL MODEL -> THERAPEUTIC INTERVENTION -> Location: \n"
          ]
        }
      ],
      "source": [
        "with driver.session() as session:\n",
        "  query = \"\"\"MATCH (r)-[]->(t)-[]->(n:CANONICAL_NODE) WHERE n.name=\"LOCATION\" RETURN r.name as root_name, t.name as name\"\"\" \n",
        "  result = session.run(query)\n",
        "  for record in result:\n",
        "    print(\"%s -> %s -> Location: \" % (record[\"root_name\"], record[\"name\"]))\n",
        "\n",
        "driver.close()"
      ]
    },
    {
      "cell_type": "markdown",
      "source": [
        "Now link the canonical nodes and the data types using the name as the key. For each \"leaf\" Canonical node we have the meaningful nodes (LOCATION, METHOD etc) and a child node defining the type of data that can be collected. This is keyed by the data type name so we can match them up. Note that there may be more than one data type for each meaningful node."
      ],
      "metadata": {
        "id": "7jVCaoeWtLjw"
      }
    },
    {
      "cell_type": "code",
      "source": [
        "with driver.session() as session:\n",
        "  query = \"\"\"MATCH (n:CANONICAL_NODE)-[]->(m:CANONICAL_DATA_TYPE) RETURN n.name as name, m.uri as uri\"\"\" \n",
        "  result = session.run(query)\n",
        "  for record in result:\n",
        "    query = \"\"\"MATCH (n:CANONICAL_DATA_TYPE{uri:'%s'})\n",
        "      WITH n\n",
        "      MATCH (dt:FHIR_DATA_TYPE {name: n.data_type})\n",
        "      CREATE (n)-[:IS_A]->(dt)\n",
        "      RETURN n.data_type as cn_name, dt.name as dt_name;\n",
        "    \"\"\" % (record[\"uri\"])\n",
        "    inner_result = session.run(query)\n",
        "    for inner_record in inner_result:\n",
        "      print(\"[%s, %s, %s] -> FHIR %s\" % (record['name'], record['uri'], inner_record[\"cn_name\"], inner_record[\"dt_name\"]))\n",
        "\n",
        "driver.close()"
      ],
      "metadata": {
        "id": "3X3RfadUrvAP",
        "colab": {
          "base_uri": "https://localhost:8080/"
        },
        "outputId": "67e926e1-9a3b-4886-d67d-de6b36923ddd"
      },
      "execution_count": 121,
      "outputs": [
        {
          "output_type": "stream",
          "name": "stdout",
          "text": [
            "[TEST, http://id.d4k.dk/dataset/canonical/n42/coding, coding] -> FHIR coding\n",
            "[LATERALITY, http://id.d4k.dk/dataset/canonical/n8/coding, coding] -> FHIR coding\n",
            "[DIRECTIONALITY, http://id.d4k.dk/dataset/canonical/n9/coding, coding] -> FHIR coding\n",
            "[PORTION, http://id.d4k.dk/dataset/canonical/n18/coding, coding] -> FHIR coding\n",
            "[RESULT, http://id.d4k.dk/dataset/canonical/n141/coding, coding] -> FHIR coding\n",
            "[RESULT, http://id.d4k.dk/dataset/canonical/n141/quantity, quantity] -> FHIR quantity\n",
            "[DATE & TIME, http://id.d4k.dk/dataset/canonical/n2/date_time, date_time] -> FHIR date_time\n"
          ]
        }
      ]
    },
    {
      "cell_type": "markdown",
      "metadata": {
        "id": "x1ws1F7zpwdN"
      },
      "source": [
        "Now create the data type nodes for the canonical mode. For each canonical node that references a data type copy the properties of that data type to the canonical node. Give each canonical leaf a unique id (a uri). Also change the lable of the node so they are Canonical Data Type nodes rather than FHIR ones.\n",
        "\n",
        "In the future these nodes should also have a C code reference providing a definition for the data item.\n"
      ]
    },
    {
      "cell_type": "code",
      "execution_count": 122,
      "metadata": {
        "colab": {
          "base_uri": "https://localhost:8080/"
        },
        "id": "-EBgVQrPqDIe",
        "outputId": "5872b96f-1c2d-4a56-c239-1e9b298fdf2a"
      },
      "outputs": [
        {
          "output_type": "stream",
          "name": "stdout",
          "text": [
            "Duplicated for:  http://id.d4k.dk/dataset/canonical/n141/coding\n",
            "Duplicated for:  http://id.d4k.dk/dataset/canonical/n18/coding\n",
            "Duplicated for:  http://id.d4k.dk/dataset/canonical/n9/coding\n",
            "Duplicated for:  http://id.d4k.dk/dataset/canonical/n8/coding\n",
            "Duplicated for:  http://id.d4k.dk/dataset/canonical/n42/coding\n",
            "Duplicated for:  http://id.d4k.dk/dataset/canonical/n141/quantity\n",
            "Duplicated for:  http://id.d4k.dk/dataset/canonical/n2/date_time\n",
            "URIs set.\n"
          ]
        }
      ],
      "source": [
        "uri_data = []\n",
        "with driver.session() as session:\n",
        "  query = \"\"\"MATCH (n:CANONICAL_DATA_TYPE)-[:IS_A]->(dt:FHIR_DATA_TYPE) RETURN n.uri as canonical_uri, dt.uri as data_type\"\"\" \n",
        "  result = session.run(query)\n",
        "  for record in result:\n",
        "    query = \"\"\"MATCH (n:CANONICAL_DATA_TYPE{uri:'%s'}), (dt:FHIR_DATA_TYPE{uri:'%s'})\n",
        "      CALL apoc.path.subgraphAll(dt, {relationshipFilter:'HAS_DATA_TYPE_PROPERTY>'})\n",
        "      YIELD nodes, relationships\n",
        "      CALL apoc.refactor.cloneSubgraph(\n",
        "        nodes,\n",
        "        [rel in relationships WHERE type(rel) = 'HAS_DATA_TYPE_PROPERTY'],\n",
        "        { standinNodes:[[dt, n]] })\n",
        "      YIELD input, output, error\n",
        "      RETURN output;\n",
        "    \"\"\" % (record[\"canonical_uri\"], record[\"data_type\"])\n",
        "    inner_result = session.run(query)\n",
        "    for inner_record in inner_result:\n",
        "      node = inner_record[\"output\"]\n",
        "      uri_data.append({\"id\": node.id, \"uri\": \"%s#%s\" % (record[\"canonical_uri\"], node[\"name\"]) })\n",
        "    print (\"Duplicated for: \", record[\"canonical_uri\"])\n",
        "\n",
        "driver.close()\n",
        "\n",
        "with driver.session() as session:\n",
        "  query = \"\"\"UNWIND $uri_data AS d\n",
        "    MATCH (n) WHERE ID(n)=d.id\n",
        "    SET n.uri = d.uri\n",
        "    REMOVE n:FHIR_DATA_TYPE_PROPERTY\n",
        "    SET n:CANONICAL_DATA_TYPE_PROPERTY\"\"\"\n",
        "  result = session.run(query, uri_data=uri_data)\n",
        "driver.close()\n",
        "print (\"URIs set.\")\n",
        "\n"
      ]
    },
    {
      "cell_type": "markdown",
      "source": [
        "Now load some terminology. We load just the SDTM terms (it is all we need for the moment). Just load the Code List definitions not every single item with every code list, just too big a load in one go."
      ],
      "metadata": {
        "id": "V7gprmFPLtzs"
      }
    },
    {
      "cell_type": "code",
      "execution_count": 123,
      "metadata": {
        "id": "nZ8TGB5bLzuR",
        "colab": {
          "base_uri": "https://localhost:8080/"
        },
        "outputId": "8c338133-fca5-4d77-8c83-231f1a186462"
      },
      "outputs": [
        {
          "output_type": "stream",
          "name": "stdout",
          "text": [
            "CALL apoc.import.csv( [{ fileName: 'https://raw.githubusercontent.com/data4knowledge/biomedical_concepts/main/data/csv_load/stage_3_api_source_nodes.csv', labels: ['API_SOURCE'] }, { fileName: 'https://raw.githubusercontent.com/data4knowledge/biomedical_concepts/main/data/csv_load/stage_3_skos_concept_nodes.csv', labels: ['SKOS_CONCEPT'] }, { fileName: 'https://raw.githubusercontent.com/data4knowledge/biomedical_concepts/main/data/csv_load/stage_3_skos_concept_scheme_nodes.csv', labels: ['SKOS_CONCEPT_SCHEME'] }], [{ fileName: 'https://raw.githubusercontent.com/data4knowledge/biomedical_concepts/main/data/csv_load/stage_3_from_source_relationships.csv', type: 'FROM_SOURCE' }, { fileName: 'https://raw.githubusercontent.com/data4knowledge/biomedical_concepts/main/data/csv_load/stage_3_skos_has_top_concept_relationships.csv', type: 'SKOS_HAS_TOP_CONCEPT' }, { fileName: 'https://raw.githubusercontent.com/data4knowledge/biomedical_concepts/main/data/csv_load/stage_3_skos_narrower_relationships.csv', type: 'SKOS_NARROWER' }], {stringIds: false})\n",
            "<Record file='progress.csv' source='file' format='csv' nodes=986 relationships=985 properties=8868 time=332 rows=0 batchSize=-1 batches=0 done=True data=None>\n"
          ]
        }
      ],
      "source": [
        "stage_3_files = [ \n",
        "    { \"label\": \"API_SOURCE\", \"filename\": \"stage_3_api_source_nodes.csv\" },\n",
        "    { \"label\": \"SKOS_CONCEPT\", \"filename\": \"stage_3_skos_concept_nodes.csv\" },\n",
        "    { \"label\": \"SKOS_CONCEPT_SCHEME\", \"filename\": \"stage_3_skos_concept_scheme_nodes.csv\" },\n",
        "    { \"type\": \"FROM_SOURCE\", \"filename\": \"stage_3_from_source_relationships.csv\" },\n",
        "    { \"type\": \"SKOS_HAS_TOP_CONCEPT\", \"filename\": \"stage_3_skos_has_top_concept_relationships.csv\" },\n",
        "    { \"type\": \"SKOS_NARROWER\", \"filename\": \"stage_3_skos_narrower_relationships.csv\" } # Should be empty\n",
        "  ]\n",
        "\n",
        "file_load(stage_3_files)\n"
      ]
    },
    {
      "cell_type": "markdown",
      "source": [
        "Do a quick test on the CT. Check AGEU and its links"
      ],
      "metadata": {
        "id": "QiRuZP8IAQRA"
      }
    },
    {
      "cell_type": "code",
      "source": [
        "with driver.session() as session:\n",
        "  query = \"\"\"MATCH (cs)-[]->(c1:SKOS_CONCEPT) WHERE c1.notation = 'AGEU' RETURN DISTINCT cs.version as version, c1.identifier as cl_identifier\"\"\" \n",
        "  result = session.run(query, uri_data=uri_data)\n",
        "  for record in result:\n",
        "    print (\"%s: %s\" % (record[\"version\"], record[\"cl_identifier\"]))\n",
        "driver.close()\n"
      ],
      "metadata": {
        "colab": {
          "base_uri": "https://localhost:8080/"
        },
        "id": "OsWcQe73_m5E",
        "outputId": "e3cffca6-2401-4c80-c343-9c67cc469a28"
      },
      "execution_count": 124,
      "outputs": [
        {
          "output_type": "stream",
          "name": "stdout",
          "text": [
            "2021-12-17: C66781\n"
          ]
        }
      ]
    },
    {
      "cell_type": "markdown",
      "source": [
        "Stage 4 to 9 are the CT files for the other areas, ADaM, Protocol, CDASH etc. Not loaded at the moment. Needed to split due to size and limited RAM on the Neo4j server."
      ],
      "metadata": {
        "id": "ra9rORPF_XTs"
      }
    },
    {
      "cell_type": "markdown",
      "source": [
        "Now load BC Templates"
      ],
      "metadata": {
        "id": "XqSSsdqjegVr"
      }
    },
    {
      "cell_type": "code",
      "source": [
        "stage_10_files = [ \n",
        "    { \"label\": \"OTHER_SOURCE\", \"filename\": \"stage_10_other_source_nodes.csv\" },\n",
        "    { \"label\": \"BC_DATA_TYPE\", \"filename\": \"stage_10_bc_data_type_nodes.csv\" },\n",
        "    { \"label\": \"BC_ITEM\", \"filename\": \"stage_10_bc_item_nodes.csv\" },\n",
        "    { \"label\": \"BC_TEMPLATE\", \"filename\": \"stage_10_bc_template_nodes.csv\" },\n",
        "    { \"type\": \"FROM_SOURCE\", \"filename\": \"stage_10_from_source_relationships.csv\" },\n",
        "    { \"type\": \"HAS_DATA_TYPE\", \"filename\": \"stage_10_has_data_type_relationships.csv\" },\n",
        "    { \"type\": \"HAS_IDENTIFIER\", \"filename\": \"stage_10_has_identifier_relationships.csv\" },\n",
        "    { \"type\": \"HAS_ITEM\", \"filename\": \"stage_10_has_item_relationships.csv\" }\n",
        "  ]\n",
        "\n",
        "file_load(stage_10_files)"
      ],
      "metadata": {
        "colab": {
          "base_uri": "https://localhost:8080/"
        },
        "id": "95FBnpzp9T5z",
        "outputId": "15695821-1d29-49b7-a98d-fe05b98c281a"
      },
      "execution_count": 125,
      "outputs": [
        {
          "output_type": "stream",
          "name": "stdout",
          "text": [
            "CALL apoc.import.csv( [{ fileName: 'https://raw.githubusercontent.com/data4knowledge/biomedical_concepts/main/data/csv_load/stage_10_other_source_nodes.csv', labels: ['OTHER_SOURCE'] }, { fileName: 'https://raw.githubusercontent.com/data4knowledge/biomedical_concepts/main/data/csv_load/stage_10_bc_data_type_nodes.csv', labels: ['BC_DATA_TYPE'] }, { fileName: 'https://raw.githubusercontent.com/data4knowledge/biomedical_concepts/main/data/csv_load/stage_10_bc_item_nodes.csv', labels: ['BC_ITEM'] }, { fileName: 'https://raw.githubusercontent.com/data4knowledge/biomedical_concepts/main/data/csv_load/stage_10_bc_template_nodes.csv', labels: ['BC_TEMPLATE'] }], [{ fileName: 'https://raw.githubusercontent.com/data4knowledge/biomedical_concepts/main/data/csv_load/stage_10_from_source_relationships.csv', type: 'FROM_SOURCE' }, { fileName: 'https://raw.githubusercontent.com/data4knowledge/biomedical_concepts/main/data/csv_load/stage_10_has_data_type_relationships.csv', type: 'HAS_DATA_TYPE' }, { fileName: 'https://raw.githubusercontent.com/data4knowledge/biomedical_concepts/main/data/csv_load/stage_10_has_identifier_relationships.csv', type: 'HAS_IDENTIFIER' }, { fileName: 'https://raw.githubusercontent.com/data4knowledge/biomedical_concepts/main/data/csv_load/stage_10_has_item_relationships.csv', type: 'HAS_ITEM' }], {stringIds: false})\n",
            "<Record file='progress.csv' source='file' format='csv' nodes=37 relationships=38 properties=143 time=1370 rows=0 batchSize=-1 batches=0 done=True data=None>\n"
          ]
        }
      ]
    },
    {
      "cell_type": "markdown",
      "source": [
        "Now add in the data types nodes for the templates. Copy from the data types to the templates "
      ],
      "metadata": {
        "id": "E0GmZ2_7IffV"
      }
    },
    {
      "cell_type": "code",
      "source": [
        "with driver.session() as session:\n",
        "  query = \"\"\"MATCH (m:BC_DATA_TYPE) RETURN m.uri as uri\"\"\" \n",
        "  result = session.run(query)\n",
        "  for record in result:\n",
        "    print(record[\"uri\"])\n",
        "    query = \"\"\"MATCH (n:BC_DATA_TYPE{uri:'%s'})\n",
        "      WITH n\n",
        "      MATCH (dt:FHIR_DATA_TYPE{name: n.name})\n",
        "      CREATE (n)-[:IS_A]->(dt)\n",
        "      RETURN n.name as bc_name, dt.name as dt_name;\n",
        "    \"\"\" % (record[\"uri\"])\n",
        "    inner_result = session.run(query)\n",
        "    for inner_record in inner_result:\n",
        "      print(\"%s, %s linked\" % (inner_record[\"bc_name\"], inner_record[\"dt_name\"]))\n",
        "\n",
        "driver.close()\n",
        "\n",
        "uri_data = []\n",
        "with driver.session() as session:\n",
        "  query = \"\"\"MATCH (n:BC_DATA_TYPE)-[:IS_A]->(dt:FHIR_DATA_TYPE) RETURN n.uri as bc_data_type, dt.uri as data_type\"\"\" \n",
        "  result = session.run(query)\n",
        "  for record in result:\n",
        "    query = \"\"\"MATCH (n:BC_DATA_TYPE{uri:'%s'}), (dt:FHIR_DATA_TYPE{uri:'%s'})\n",
        "      CALL apoc.path.subgraphAll(dt, {relationshipFilter:'HAS_DATA_TYPE_PROPERTY>'})\n",
        "      YIELD nodes, relationships\n",
        "      CALL apoc.refactor.cloneSubgraph(\n",
        "        nodes,\n",
        "        [rel in relationships WHERE type(rel) = 'HAS_DATA_TYPE_PROPERTY'],\n",
        "        { standinNodes:[[dt, n]] })\n",
        "      YIELD input, output, error\n",
        "      RETURN output;\n",
        "    \"\"\" % (record[\"bc_data_type\"], record[\"data_type\"])\n",
        "    inner_result = session.run(query)\n",
        "    for inner_record in inner_result:\n",
        "      node = inner_record[\"output\"]\n",
        "      #print(node)\n",
        "      uri_data.append({\"id\": node.id, \"uri\": \"%s#%s\" % (record[\"bc_data_type\"], node[\"name\"]) })\n",
        "    print (\"Duplicated for: \", record[\"bc_data_type\"])\n",
        "\n",
        "driver.close()\n",
        "\n",
        "with driver.session() as session:\n",
        "  query = \"\"\"UNWIND $uri_data AS d\n",
        "    MATCH (n) WHERE ID(n)=d.id\n",
        "    SET n.uri = d.uri;\"\"\" \n",
        "  result = session.run(query, uri_data=uri_data)\n",
        "driver.close()\n",
        "print (\"URIs set.\")"
      ],
      "metadata": {
        "colab": {
          "base_uri": "https://localhost:8080/"
        },
        "id": "iCWSwyC5GLdm",
        "outputId": "81cdc3d6-34f8-4f7e-9aaa-5aef79c5165e"
      },
      "execution_count": 126,
      "outputs": [
        {
          "output_type": "stream",
          "name": "stdout",
          "text": [
            "http://id.d4k.dk/dataset/bc_template/base_observation/test/coding\n",
            "coding, coding linked\n",
            "http://id.d4k.dk/dataset/bc_template/base_observation/position/coding\n",
            "coding, coding linked\n",
            "http://id.d4k.dk/dataset/bc_template/base_observation/site_of_administration/coding\n",
            "coding, coding linked\n",
            "http://id.d4k.dk/dataset/bc_template/base_observation/laterality/coding\n",
            "coding, coding linked\n",
            "http://id.d4k.dk/dataset/bc_template/base_observation/method/coding\n",
            "coding, coding linked\n",
            "http://id.d4k.dk/dataset/bc_template/base_observation/date_time/datetime\n",
            "http://id.d4k.dk/dataset/bc_template/base_observation/result/quantity\n",
            "quantity, quantity linked\n",
            "http://id.d4k.dk/dataset/bc_template/base_observation/result/coding\n",
            "coding, coding linked\n",
            "http://id.d4k.dk/dataset/bc_template/base_laboratory/test/coding\n",
            "coding, coding linked\n",
            "http://id.d4k.dk/dataset/bc_template/base_laboratory/position/coding\n",
            "coding, coding linked\n",
            "http://id.d4k.dk/dataset/bc_template/base_laboratory/site_of_administration/coding\n",
            "coding, coding linked\n",
            "http://id.d4k.dk/dataset/bc_template/base_laboratory/laterality/coding\n",
            "coding, coding linked\n",
            "http://id.d4k.dk/dataset/bc_template/base_laboratory/directionality/coding\n",
            "coding, coding linked\n",
            "http://id.d4k.dk/dataset/bc_template/base_laboratory/method/coding\n",
            "coding, coding linked\n",
            "http://id.d4k.dk/dataset/bc_template/base_laboratory/date_time/datetime\n",
            "http://id.d4k.dk/dataset/bc_template/base_laboratory/result/quantity\n",
            "quantity, quantity linked\n",
            "http://id.d4k.dk/dataset/bc_template/base_laboratory/result/coding\n",
            "coding, coding linked\n",
            "http://id.d4k.dk/dataset/bc_template/base_laboratory/specimen/coding\n",
            "coding, coding linked\n",
            "Duplicated for:  http://id.d4k.dk/dataset/bc_template/base_laboratory/specimen/coding\n",
            "Duplicated for:  http://id.d4k.dk/dataset/bc_template/base_laboratory/result/coding\n",
            "Duplicated for:  http://id.d4k.dk/dataset/bc_template/base_laboratory/method/coding\n",
            "Duplicated for:  http://id.d4k.dk/dataset/bc_template/base_laboratory/directionality/coding\n",
            "Duplicated for:  http://id.d4k.dk/dataset/bc_template/base_laboratory/laterality/coding\n",
            "Duplicated for:  http://id.d4k.dk/dataset/bc_template/base_laboratory/site_of_administration/coding\n",
            "Duplicated for:  http://id.d4k.dk/dataset/bc_template/base_laboratory/position/coding\n",
            "Duplicated for:  http://id.d4k.dk/dataset/bc_template/base_laboratory/test/coding\n",
            "Duplicated for:  http://id.d4k.dk/dataset/bc_template/base_observation/result/coding\n",
            "Duplicated for:  http://id.d4k.dk/dataset/bc_template/base_observation/method/coding\n",
            "Duplicated for:  http://id.d4k.dk/dataset/bc_template/base_observation/laterality/coding\n",
            "Duplicated for:  http://id.d4k.dk/dataset/bc_template/base_observation/site_of_administration/coding\n",
            "Duplicated for:  http://id.d4k.dk/dataset/bc_template/base_observation/position/coding\n",
            "Duplicated for:  http://id.d4k.dk/dataset/bc_template/base_observation/test/coding\n",
            "Duplicated for:  http://id.d4k.dk/dataset/bc_template/base_laboratory/result/quantity\n",
            "Duplicated for:  http://id.d4k.dk/dataset/bc_template/base_observation/result/quantity\n",
            "URIs set.\n"
          ]
        }
      ]
    },
    {
      "cell_type": "code",
      "source": [
        "stage_11_files = [ \n",
        "    { \"label\": \"OTHER_SOURCE\", \"filename\": \"stage_11_other_source_nodes.csv\" },\n",
        "    { \"label\": \"BC_VALUE_SET\", \"filename\": \"stage_11_bc_value_set_nodes.csv\" },\n",
        "    { \"label\": \"BC_DATA_PROPERTY\", \"filename\": \"stage_11_bc_data_property_nodes.csv\" },\n",
        "    { \"label\": \"BC_DATA_TYPE\", \"filename\": \"stage_11_bc_data_type_nodes.csv\" },\n",
        "    { \"label\": \"BC_ITEM\", \"filename\": \"stage_11_bc_item_nodes.csv\" },\n",
        "    { \"label\": \"BC_INSTANCE\", \"filename\": \"stage_11_bc_instance_nodes.csv\" },\n",
        "    { \"type\": \"FROM_SOURCE\", \"filename\": \"stage_11_from_source_relationships.csv\" },\n",
        "    { \"type\": \"HAS_RESPONSE\", \"filename\": \"stage_11_has_response_relationships.csv\" },\n",
        "    { \"type\": \"HAS_DATA_PROPERTY\", \"filename\": \"stage_11_has_data_property_relationships.csv\" },\n",
        "    { \"type\": \"HAS_DATA_TYPE\", \"filename\": \"stage_11_has_data_type_relationships.csv\" },\n",
        "    { \"type\": \"HAS_IDENTIFIER\", \"filename\": \"stage_11_has_identifier_relationships.csv\" },\n",
        "    { \"type\": \"HAS_ITEM\", \"filename\": \"stage_11_has_item_relationships.csv\" }\n",
        "  ]\n",
        "\n",
        "file_load(stage_11_files)"
      ],
      "metadata": {
        "colab": {
          "base_uri": "https://localhost:8080/"
        },
        "id": "nKEod92dmIc_",
        "outputId": "09df777b-3fb1-4c14-f1f0-a1df2cdb27a4"
      },
      "execution_count": 127,
      "outputs": [
        {
          "output_type": "stream",
          "name": "stdout",
          "text": [
            "CALL apoc.import.csv( [{ fileName: 'https://raw.githubusercontent.com/data4knowledge/biomedical_concepts/main/data/csv_load/stage_11_other_source_nodes.csv', labels: ['OTHER_SOURCE'] }, { fileName: 'https://raw.githubusercontent.com/data4knowledge/biomedical_concepts/main/data/csv_load/stage_11_bc_value_set_nodes.csv', labels: ['BC_VALUE_SET'] }, { fileName: 'https://raw.githubusercontent.com/data4knowledge/biomedical_concepts/main/data/csv_load/stage_11_bc_data_property_nodes.csv', labels: ['BC_DATA_PROPERTY'] }, { fileName: 'https://raw.githubusercontent.com/data4knowledge/biomedical_concepts/main/data/csv_load/stage_11_bc_data_type_nodes.csv', labels: ['BC_DATA_TYPE'] }, { fileName: 'https://raw.githubusercontent.com/data4knowledge/biomedical_concepts/main/data/csv_load/stage_11_bc_item_nodes.csv', labels: ['BC_ITEM'] }, { fileName: 'https://raw.githubusercontent.com/data4knowledge/biomedical_concepts/main/data/csv_load/stage_11_bc_instance_nodes.csv', labels: ['BC_INSTANCE'] }], [{ fileName: 'https://raw.githubusercontent.com/data4knowledge/biomedical_concepts/main/data/csv_load/stage_11_from_source_relationships.csv', type: 'FROM_SOURCE' }, { fileName: 'https://raw.githubusercontent.com/data4knowledge/biomedical_concepts/main/data/csv_load/stage_11_has_response_relationships.csv', type: 'HAS_RESPONSE' }, { fileName: 'https://raw.githubusercontent.com/data4knowledge/biomedical_concepts/main/data/csv_load/stage_11_has_data_property_relationships.csv', type: 'HAS_DATA_PROPERTY' }, { fileName: 'https://raw.githubusercontent.com/data4knowledge/biomedical_concepts/main/data/csv_load/stage_11_has_data_type_relationships.csv', type: 'HAS_DATA_TYPE' }, { fileName: 'https://raw.githubusercontent.com/data4knowledge/biomedical_concepts/main/data/csv_load/stage_11_has_identifier_relationships.csv', type: 'HAS_IDENTIFIER' }, { fileName: 'https://raw.githubusercontent.com/data4knowledge/biomedical_concepts/main/data/csv_load/stage_11_has_item_relationships.csv', type: 'HAS_ITEM' }], {stringIds: false})\n",
            "<Record file='progress.csv' source='file' format='csv' nodes=24 relationships=24 properties=98 time=2419 rows=0 batchSize=-1 batches=0 done=True data=None>\n"
          ]
        }
      ]
    },
    {
      "cell_type": "markdown",
      "source": [
        "Check that we can see the coded values for the BC loaded. Should get three results\n",
        "\n",
        "- [C66741, C25208]\n",
        "- [C66770, C28252]\n",
        "- [C66770, C48531]"
      ],
      "metadata": {
        "id": "eLme2u3BCkcE"
      }
    },
    {
      "cell_type": "code",
      "source": [
        "with driver.session() as session:\n",
        "  query = \"\"\"MATCH (n:BC_DATA_PROPERTY)-[:HAS_RESPONSE]->(d) RETURN n.name as name, d.cl as cl, d.cli as cli, d.uri as uri\"\"\" \n",
        "  result = session.run(query)\n",
        "  for record in result:\n",
        "    print (\"%s: [%s, %s], uri=%s\" % (record[\"name\"], record[\"cl\"], record[\"cli\"], record[\"uri\"]))\n",
        "driver.close()"
      ],
      "metadata": {
        "colab": {
          "base_uri": "https://localhost:8080/"
        },
        "id": "cqgJqRtjwRWT",
        "outputId": "b08492a2-33bc-4da4-ad20-a9e2778fb59f"
      },
      "execution_count": 128,
      "outputs": [
        {
          "output_type": "stream",
          "name": "stdout",
          "text": [
            "code: [C66741, C25208], uri=http://id.d4k.dk/dataset/bc_instance/weight/test/coding/code/c66741-c25208\n",
            "code: [C66770, C28252], uri=http://id.d4k.dk/dataset/bc_instance/weight/result/quantity/code/c66770-c28252\n",
            "code: [C66770, C48531], uri=http://id.d4k.dk/dataset/bc_instance/weight/result/quantity/code/c66770-c48531\n"
          ]
        }
      ]
    },
    {
      "cell_type": "markdown",
      "source": [
        "Now load any Code Lists used by the BCs. Check loaded OK.\n",
        "\n",
        "- C66741 - VSTESTCD\n",
        "- C66770 - VSRESU"
      ],
      "metadata": {
        "id": "afn_QfsHBHK1"
      }
    },
    {
      "cell_type": "code",
      "source": [
        "load_cl(\"sdtm\", \"C66741\")\n",
        "load_cl(\"sdtm\", \"C66770\")\n",
        "dump_cl(\"C66741\")\n",
        "dump_cl(\"C66770\")\n"
      ],
      "metadata": {
        "colab": {
          "base_uri": "https://localhost:8080/"
        },
        "id": "X3LEAFoNBBwN",
        "outputId": "e52f803f-e2d4-4a01-ac38-a173f9663a5f"
      },
      "execution_count": 129,
      "outputs": [
        {
          "output_type": "stream",
          "name": "stdout",
          "text": [
            "2021-12-17: [C66741, VSTESTCD], [C100947, HIPCIR]\n",
            "2021-12-17: [C66741, VSTESTCD], [C181553, ARMSPAN]\n",
            "2021-12-17: [C66741, VSTESTCD], [C156606, CHESTCIR]\n",
            "2021-12-17: [C66741, VSTESTCD], [C25208, WEIGHT]\n",
            "2021-12-17: [C66741, VSTESTCD], [C174311, SAO2FIO2]\n",
            "2021-12-17: [C66741, VSTESTCD], [C25347, HEIGHT]\n",
            "2021-12-17: [C66741, VSTESTCD], [C163569, WTAPCTL]\n",
            "2021-12-17: [C66741, VSTESTCD], [C178060, CALFCIR]\n",
            "2021-12-17: [C66741, VSTESTCD], [C98785, SSSKNF]\n",
            "2021-12-17: [C66741, VSTESTCD], [C163567, BMIAPCTL]\n",
            "2021-12-17: [C66741, VSTESTCD], [C170639, CRWNHEEL]\n",
            "2021-12-17: [C66741, VSTESTCD], [C174371, TEMPPB]\n",
            "2021-12-17: [C66741, VSTESTCD], [C100945, PULSEPR]\n",
            "2021-12-17: [C66741, VSTESTCD], [C71258, LBM]\n",
            "2021-12-17: [C66741, VSTESTCD], [C132482, EWEIGHT]\n",
            "2021-12-17: [C66741, VSTESTCD], [C17651, WAISTHIP]\n",
            "2021-12-17: [C66741, VSTESTCD], [C163570, WTHTPCTL]\n",
            "2021-12-17: [C66741, VSTESTCD], [C174373, FTSAD]\n",
            "2021-12-17: [C66741, VSTESTCD], [C174370, TEMPCB]\n",
            "2021-12-17: [C66741, VSTESTCD], [C41255, INTP]\n",
            "2021-12-17: [C66741, VSTESTCD], [C49679, MAP]\n",
            "2021-12-17: [C66741, VSTESTCD], [C174376, ULNARL]\n",
            "2021-12-17: [C66741, VSTESTCD], [C25298, SYSBP]\n",
            "2021-12-17: [C66741, VSTESTCD], [C174375, FTMANDL]\n",
            "2021-12-17: [C66741, VSTESTCD], [C76325, BRTHWT]\n",
            "2021-12-17: [C66741, VSTESTCD], [C98793, TRSKNF]\n",
            "2021-12-17: [C66741, VSTESTCD], [C172609, DBPHPCTL]\n",
            "2021-12-17: [C66741, VSTESTCD], [C172607, SBPHPCTL]\n",
            "2021-12-17: [C66741, VSTESTCD], [C103346, ABSKNF]\n",
            "2021-12-17: [C66741, VSTESTCD], [C84372, KNEEHEEL]\n",
            "2021-12-17: [C66741, VSTESTCD], [C147492, MAXPREHR]\n",
            "2021-12-17: [C66741, VSTESTCD], [C126083, BMR]\n",
            "2021-12-17: [C66741, VSTESTCD], [C49676, PULSE]\n",
            "2021-12-17: [C66741, VSTESTCD], [C49677, HR]\n",
            "2021-12-17: [C66741, VSTESTCD], [C25157, BSA]\n",
            "2021-12-17: [C66741, VSTESTCD], [C49678, RESP]\n",
            "2021-12-17: [C66741, VSTESTCD], [C16358, BMI]\n",
            "2021-12-17: [C66741, VSTESTCD], [C174374, FTWTGAPL]\n",
            "2021-12-17: [C66741, VSTESTCD], [C172608, SBPAPCTL]\n",
            "2021-12-17: [C66741, VSTESTCD], [C92716, FTHR]\n",
            "2021-12-17: [C66741, VSTESTCD], [C38082, FIO2]\n",
            "2021-12-17: [C66741, VSTESTCD], [C81298, BODLNGTH]\n",
            "2021-12-17: [C66741, VSTESTCD], [C124475, MUARMCIR]\n",
            "2021-12-17: [C66741, VSTESTCD], [C49680, FRMSIZE]\n",
            "2021-12-17: [C66741, VSTESTCD], [C100948, WSTCIR]\n",
            "2021-12-17: [C66741, VSTESTCD], [C174372, FTEWT]\n",
            "2021-12-17: [C66741, VSTESTCD], [C147491, ENRGEXP]\n",
            "2021-12-17: [C66741, VSTESTCD], [C122232, BODYFATM]\n",
            "2021-12-17: [C66741, VSTESTCD], [C104622, TBW]\n",
            "2021-12-17: [C66741, VSTESTCD], [C163568, HTAPCTL]\n",
            "2021-12-17: [C66741, VSTESTCD], [C25299, DIABP]\n",
            "2021-12-17: [C66741, VSTESTCD], [C174446, TEMP]\n",
            "2021-12-17: [C66741, VSTESTCD], [C181552, WASTHEEL]\n",
            "2021-12-17: [C66741, VSTESTCD], [C100946, FARMCIR]\n",
            "2021-12-17: [C66741, VSTESTCD], [C158297, FTHDCIRC]\n",
            "2021-12-17: [C66741, VSTESTCD], [C81255, HDCIRC]\n",
            "2021-12-17: [C66741, VSTESTCD], [C154891, NECKCIR]\n",
            "2021-12-17: [C66741, VSTESTCD], [C87054, SAD]\n",
            "2021-12-17: [C66741, VSTESTCD], [C172610, DBPAPCTL]\n",
            "2021-12-17: [C66741, VSTESTCD], [C60832, OXYSAT]\n",
            "2021-12-17: [C66741, VSTESTCD], [C168125, CPLRFLT]\n",
            "2021-12-17: [C66741, VSTESTCD], [C174233, MANDL]\n",
            "2021-12-17: [C66741, VSTESTCD], [C117976, IDEALWT]\n",
            "2021-12-17: [C66770, VSRESU], [C49671, kg/m2]\n",
            "2021-12-17: [C66770, VSRESU], [C127805, MET]\n",
            "2021-12-17: [C66770, VSRESU], [C49668, cm]\n",
            "2021-12-17: [C66770, VSRESU], [C48155, g]\n",
            "2021-12-17: [C66770, VSRESU], [C42559, C]\n",
            "2021-12-17: [C66770, VSRESU], [C147129, cmHg]\n",
            "2021-12-17: [C66770, VSRESU], [C28252, kg]\n",
            "2021-12-17: [C66770, VSRESU], [C44277, F]\n",
            "2021-12-17: [C66770, VSRESU], [C28251, mm]\n",
            "2021-12-17: [C66770, VSRESU], [C48500, in]\n",
            "2021-12-17: [C66770, VSRESU], [C42549, Watt]\n",
            "2021-12-17: [C66770, VSRESU], [C42537, K]\n",
            "2021-12-17: [C66770, VSRESU], [C44256, RATIO]\n",
            "2021-12-17: [C66770, VSRESU], [C49673, beats/min]\n",
            "2021-12-17: [C66770, VSRESU], [C48531, LB]\n",
            "2021-12-17: [C66770, VSRESU], [C42545, Hz]\n",
            "2021-12-17: [C66770, VSRESU], [C139135, kcal/day]\n",
            "2021-12-17: [C66770, VSRESU], [C49670, mmHg]\n",
            "2021-12-17: [C66770, VSRESU], [C42547, Pa]\n",
            "2021-12-17: [C66770, VSRESU], [C49674, breaths/min]\n",
            "2021-12-17: [C66770, VSRESU], [C42569, m2]\n",
            "2021-12-17: [C66770, VSRESU], [C25613, %]\n",
            "2021-12-17: [C66770, VSRESU], [C41139, m]\n"
          ]
        }
      ]
    },
    {
      "cell_type": "markdown",
      "source": [
        "Now load the DDF study example data. Provides an example of a \"industry standard\" design."
      ],
      "metadata": {
        "id": "cH-7_-DXzN_R"
      }
    },
    {
      "cell_type": "code",
      "source": [
        "stage_12_files = [    \n",
        "    { \"label\": \"ENDPOINT\", \"filename\": \"stage_12_endpoint_nodes.csv\" },\n",
        "    { \"label\": \"STUDY_DATA\", \"filename\": \"stage_12_study_data_nodes.csv\" },\n",
        "    { \"label\": \"PROCEDURE\", \"filename\": \"stage_12_procedure_nodes.csv\" },\n",
        "    { \"label\": \"ACTIVITY\", \"filename\": \"stage_12_activity_nodes.csv\" },\n",
        "    { \"label\": \"WORKFLOW_ITEM\", \"filename\": \"stage_12_workflow_item_nodes.csv\" },\n",
        "    { \"label\": \"VISIT\", \"filename\": \"stage_12_visit_nodes.csv\" },\n",
        "    { \"label\": \"STUDY_CELL\", \"filename\": \"stage_12_study_cell_nodes.csv\" },\n",
        "    { \"label\": \"RULE\", \"filename\": \"stage_12_rule_nodes.csv\" },\n",
        "    { \"label\": \"STUDY_ELEMENT\", \"filename\": \"stage_12_study_element_nodes.csv\" },\n",
        "    { \"label\": \"EPOCH\", \"filename\": \"stage_12_study_epoch_nodes.csv\" },\n",
        "    { \"label\": \"STUDY_ARM\", \"filename\": \"stage_12_study_arm_nodes.csv\" },\n",
        "    { \"label\": \"OBJECTIVE\", \"filename\": \"stage_12_objective_nodes.csv\" },\n",
        "    { \"label\": \"CODE\", \"filename\": \"stage_12_code_nodes.csv\" },\n",
        "    { \"label\": \"INVESTIGATIONAL_INTERVENTIONS\", \"filename\": \"stage_12_investigational_interventions_nodes.csv\" },\n",
        "    { \"label\": \"POPULATION\", \"filename\": \"stage_12_population_nodes.csv\" },\n",
        "    { \"label\": \"STUDY_DESIGN\", \"filename\": \"stage_12_study_design_nodes.csv\" },\n",
        "    { \"label\": \"INDICATION\", \"filename\": \"stage_12_indication_nodes.csv\" },\n",
        "    { \"label\": \"STUDY_PROTOCOL\", \"filename\": \"stage_12_study_protocol_nodes.csv\" },\n",
        "    { \"label\": \"STUDY_PHASE\", \"filename\": \"stage_12_study_phase_nodes.csv\" },\n",
        "    { \"label\": \"STUDY_TYPE\", \"filename\": \"stage_12_study_type_nodes.csv\" },\n",
        "    { \"label\": \"STUDY_IDENTIFIER\", \"filename\": \"stage_12_study_identifier_nodes.csv\" },\n",
        "    { \"label\": \"STUDY\", \"filename\": \"stage_12_study_nodes.csv\" },\n",
        "    { \"type\": \"HAS_CODED\", \"filename\": \"stage_12_has_coded_relationships.csv\" },\n",
        "    { \"type\": \"HAS_ENDPOINT\", \"filename\": \"stage_12_has_endpoint_relationships.csv\" },\n",
        "    { \"type\": \"HAS_STUDY_DATA\", \"filename\": \"stage_12_has_study_data_relationships.csv\" },\n",
        "    { \"type\": \"HAS_PROCEDURE\", \"filename\": \"stage_12_has_procedure_relationships.csv\" },\n",
        "    { \"type\": \"HAS_PREVIOUS_ACTIVITY\", \"filename\": \"stage_12_has_previous_activity_relationships.csv\" },\n",
        "    { \"type\": \"HAS_PREVIOUS_WORKFLOW\", \"filename\": \"stage_12_has_previous_workflow_relationships.csv\" },\n",
        "    { \"type\": \"USED_IN_VISIT\", \"filename\": \"stage_12_used_in_visit_relationships.csv\" },\n",
        "    { \"type\": \"HAS_ACTIVITY\", \"filename\": \"stage_12_has_activity_relationships.csv\" },\n",
        "    { \"type\": \"HAS_VISIT\", \"filename\": \"stage_12_has_visit_relationships.csv\" },\n",
        "    { \"type\": \"HAS_END_RULE\", \"filename\": \"stage_12_has_end_rule_relationships.csv\" },\n",
        "    { \"type\": \"HAS_START_RULE\", \"filename\": \"stage_12_has_start_rule_relationships.csv\" },\n",
        "    { \"type\": \"HAS_ELEMENT\", \"filename\": \"stage_12_has_element_relationships.csv\" },\n",
        "    { \"type\": \"HAS_EPOCH\", \"filename\": \"stage_12_has_epoch_relationships.csv\" },\n",
        "    { \"type\": \"HAS_ARM\", \"filename\": \"stage_12_has_arm_relationships.csv\" },\n",
        "    { \"type\": \"HAS_CELL\", \"filename\": \"stage_12_has_cell_relationships.csv\" },\n",
        "    { \"type\": \"HAS_OBJECTIVE\", \"filename\": \"stage_12_has_objective_relationships.csv\" },\n",
        "    { \"type\": \"HAS_INDICATION\", \"filename\": \"stage_12_has_indication_relationships.csv\" },\n",
        "    { \"type\": \"HAS_INVESTIGATIONAL_INTERVENTION\", \"filename\": \"stage_12_has_investigational_intervention_relationships.csv\" },\n",
        "    { \"type\": \"HAS_POPULATION\", \"filename\": \"stage_12_has_population_relationships.csv\" },\n",
        "    { \"type\": \"HAS_STUDY_DESIGN\", \"filename\": \"stage_12_has_study_design_relationships.csv\" },\n",
        "    { \"type\": \"HAS_PROTOCOL\", \"filename\": \"stage_12_has_protocol_relationships.csv\" },\n",
        "    { \"type\": \"HAS_STUDY_PHASE\", \"filename\": \"stage_12_has_study_phase_relationships.csv\" },\n",
        "    { \"type\": \"HAS_STUDY_TYPE\", \"filename\": \"stage_12_has_study_type_relationships.csv\" },\n",
        "    { \"type\": \"HAS_IDENTIFIER\", \"filename\": \"stage_12_has_identifier_relationships.csv\" }\n",
        "  ]\n",
        "\n",
        "file_load(stage_12_files)"
      ],
      "metadata": {
        "colab": {
          "base_uri": "https://localhost:8080/"
        },
        "id": "yLEatFJT6WGB",
        "outputId": "f2b82382-1b87-4a11-8254-d8c939cbbae7"
      },
      "execution_count": 130,
      "outputs": [
        {
          "output_type": "stream",
          "name": "stdout",
          "text": [
            "CALL apoc.import.csv( [{ fileName: 'https://raw.githubusercontent.com/data4knowledge/biomedical_concepts/main/data/csv_load/stage_12_endpoint_nodes.csv', labels: ['ENDPOINT'] }, { fileName: 'https://raw.githubusercontent.com/data4knowledge/biomedical_concepts/main/data/csv_load/stage_12_study_data_nodes.csv', labels: ['STUDY_DATA'] }, { fileName: 'https://raw.githubusercontent.com/data4knowledge/biomedical_concepts/main/data/csv_load/stage_12_procedure_nodes.csv', labels: ['PROCEDURE'] }, { fileName: 'https://raw.githubusercontent.com/data4knowledge/biomedical_concepts/main/data/csv_load/stage_12_activity_nodes.csv', labels: ['ACTIVITY'] }, { fileName: 'https://raw.githubusercontent.com/data4knowledge/biomedical_concepts/main/data/csv_load/stage_12_workflow_item_nodes.csv', labels: ['WORKFLOW_ITEM'] }, { fileName: 'https://raw.githubusercontent.com/data4knowledge/biomedical_concepts/main/data/csv_load/stage_12_visit_nodes.csv', labels: ['VISIT'] }, { fileName: 'https://raw.githubusercontent.com/data4knowledge/biomedical_concepts/main/data/csv_load/stage_12_study_cell_nodes.csv', labels: ['STUDY_CELL'] }, { fileName: 'https://raw.githubusercontent.com/data4knowledge/biomedical_concepts/main/data/csv_load/stage_12_rule_nodes.csv', labels: ['RULE'] }, { fileName: 'https://raw.githubusercontent.com/data4knowledge/biomedical_concepts/main/data/csv_load/stage_12_study_element_nodes.csv', labels: ['STUDY_ELEMENT'] }, { fileName: 'https://raw.githubusercontent.com/data4knowledge/biomedical_concepts/main/data/csv_load/stage_12_study_epoch_nodes.csv', labels: ['EPOCH'] }, { fileName: 'https://raw.githubusercontent.com/data4knowledge/biomedical_concepts/main/data/csv_load/stage_12_study_arm_nodes.csv', labels: ['STUDY_ARM'] }, { fileName: 'https://raw.githubusercontent.com/data4knowledge/biomedical_concepts/main/data/csv_load/stage_12_objective_nodes.csv', labels: ['OBJECTIVE'] }, { fileName: 'https://raw.githubusercontent.com/data4knowledge/biomedical_concepts/main/data/csv_load/stage_12_code_nodes.csv', labels: ['CODE'] }, { fileName: 'https://raw.githubusercontent.com/data4knowledge/biomedical_concepts/main/data/csv_load/stage_12_investigational_interventions_nodes.csv', labels: ['INVESTIGATIONAL_INTERVENTIONS'] }, { fileName: 'https://raw.githubusercontent.com/data4knowledge/biomedical_concepts/main/data/csv_load/stage_12_population_nodes.csv', labels: ['POPULATION'] }, { fileName: 'https://raw.githubusercontent.com/data4knowledge/biomedical_concepts/main/data/csv_load/stage_12_study_design_nodes.csv', labels: ['STUDY_DESIGN'] }, { fileName: 'https://raw.githubusercontent.com/data4knowledge/biomedical_concepts/main/data/csv_load/stage_12_indication_nodes.csv', labels: ['INDICATION'] }, { fileName: 'https://raw.githubusercontent.com/data4knowledge/biomedical_concepts/main/data/csv_load/stage_12_study_protocol_nodes.csv', labels: ['STUDY_PROTOCOL'] }, { fileName: 'https://raw.githubusercontent.com/data4knowledge/biomedical_concepts/main/data/csv_load/stage_12_study_phase_nodes.csv', labels: ['STUDY_PHASE'] }, { fileName: 'https://raw.githubusercontent.com/data4knowledge/biomedical_concepts/main/data/csv_load/stage_12_study_type_nodes.csv', labels: ['STUDY_TYPE'] }, { fileName: 'https://raw.githubusercontent.com/data4knowledge/biomedical_concepts/main/data/csv_load/stage_12_study_identifier_nodes.csv', labels: ['STUDY_IDENTIFIER'] }, { fileName: 'https://raw.githubusercontent.com/data4knowledge/biomedical_concepts/main/data/csv_load/stage_12_study_nodes.csv', labels: ['STUDY'] }], [{ fileName: 'https://raw.githubusercontent.com/data4knowledge/biomedical_concepts/main/data/csv_load/stage_12_has_coded_relationships.csv', type: 'HAS_CODED' }, { fileName: 'https://raw.githubusercontent.com/data4knowledge/biomedical_concepts/main/data/csv_load/stage_12_has_endpoint_relationships.csv', type: 'HAS_ENDPOINT' }, { fileName: 'https://raw.githubusercontent.com/data4knowledge/biomedical_concepts/main/data/csv_load/stage_12_has_study_data_relationships.csv', type: 'HAS_STUDY_DATA' }, { fileName: 'https://raw.githubusercontent.com/data4knowledge/biomedical_concepts/main/data/csv_load/stage_12_has_procedure_relationships.csv', type: 'HAS_PROCEDURE' }, { fileName: 'https://raw.githubusercontent.com/data4knowledge/biomedical_concepts/main/data/csv_load/stage_12_has_previous_activity_relationships.csv', type: 'HAS_PREVIOUS_ACTIVITY' }, { fileName: 'https://raw.githubusercontent.com/data4knowledge/biomedical_concepts/main/data/csv_load/stage_12_has_previous_workflow_relationships.csv', type: 'HAS_PREVIOUS_WORKFLOW' }, { fileName: 'https://raw.githubusercontent.com/data4knowledge/biomedical_concepts/main/data/csv_load/stage_12_used_in_visit_relationships.csv', type: 'USED_IN_VISIT' }, { fileName: 'https://raw.githubusercontent.com/data4knowledge/biomedical_concepts/main/data/csv_load/stage_12_has_activity_relationships.csv', type: 'HAS_ACTIVITY' }, { fileName: 'https://raw.githubusercontent.com/data4knowledge/biomedical_concepts/main/data/csv_load/stage_12_has_visit_relationships.csv', type: 'HAS_VISIT' }, { fileName: 'https://raw.githubusercontent.com/data4knowledge/biomedical_concepts/main/data/csv_load/stage_12_has_end_rule_relationships.csv', type: 'HAS_END_RULE' }, { fileName: 'https://raw.githubusercontent.com/data4knowledge/biomedical_concepts/main/data/csv_load/stage_12_has_start_rule_relationships.csv', type: 'HAS_START_RULE' }, { fileName: 'https://raw.githubusercontent.com/data4knowledge/biomedical_concepts/main/data/csv_load/stage_12_has_element_relationships.csv', type: 'HAS_ELEMENT' }, { fileName: 'https://raw.githubusercontent.com/data4knowledge/biomedical_concepts/main/data/csv_load/stage_12_has_epoch_relationships.csv', type: 'HAS_EPOCH' }, { fileName: 'https://raw.githubusercontent.com/data4knowledge/biomedical_concepts/main/data/csv_load/stage_12_has_arm_relationships.csv', type: 'HAS_ARM' }, { fileName: 'https://raw.githubusercontent.com/data4knowledge/biomedical_concepts/main/data/csv_load/stage_12_has_cell_relationships.csv', type: 'HAS_CELL' }, { fileName: 'https://raw.githubusercontent.com/data4knowledge/biomedical_concepts/main/data/csv_load/stage_12_has_objective_relationships.csv', type: 'HAS_OBJECTIVE' }, { fileName: 'https://raw.githubusercontent.com/data4knowledge/biomedical_concepts/main/data/csv_load/stage_12_has_indication_relationships.csv', type: 'HAS_INDICATION' }, { fileName: 'https://raw.githubusercontent.com/data4knowledge/biomedical_concepts/main/data/csv_load/stage_12_has_investigational_intervention_relationships.csv', type: 'HAS_INVESTIGATIONAL_INTERVENTION' }, { fileName: 'https://raw.githubusercontent.com/data4knowledge/biomedical_concepts/main/data/csv_load/stage_12_has_population_relationships.csv', type: 'HAS_POPULATION' }, { fileName: 'https://raw.githubusercontent.com/data4knowledge/biomedical_concepts/main/data/csv_load/stage_12_has_study_design_relationships.csv', type: 'HAS_STUDY_DESIGN' }, { fileName: 'https://raw.githubusercontent.com/data4knowledge/biomedical_concepts/main/data/csv_load/stage_12_has_protocol_relationships.csv', type: 'HAS_PROTOCOL' }, { fileName: 'https://raw.githubusercontent.com/data4knowledge/biomedical_concepts/main/data/csv_load/stage_12_has_study_phase_relationships.csv', type: 'HAS_STUDY_PHASE' }, { fileName: 'https://raw.githubusercontent.com/data4knowledge/biomedical_concepts/main/data/csv_load/stage_12_has_study_type_relationships.csv', type: 'HAS_STUDY_TYPE' }, { fileName: 'https://raw.githubusercontent.com/data4knowledge/biomedical_concepts/main/data/csv_load/stage_12_has_identifier_relationships.csv', type: 'HAS_IDENTIFIER' }], {stringIds: false})\n",
            "<Record file='progress.csv' source='file' format='csv' nodes=209 relationships=293 properties=746 time=831 rows=0 batchSize=-1 batches=0 done=True data=None>\n"
          ]
        }
      ]
    },
    {
      "cell_type": "markdown",
      "source": [
        "Duplicate the BC. The study activity Study data node uses WGHT as a code, really need to update it to be \"Weight\" so we can name match all BCs. Just work round this for the moment."
      ],
      "metadata": {
        "id": "YKum1W4B4kFn"
      }
    },
    {
      "cell_type": "code",
      "source": [
        "with driver.session() as session:\n",
        "  query = \"\"\"MATCH (a:ACTIVITY)-[]->(sd:STUDY_DATA) WHERE sd.name = \"WGHT\"\n",
        "    WITH a, sd\n",
        "    MATCH (bc:BC_INSTANCE) WHERE bc.name = \"Weight\"\n",
        "    WITH a, sd, bc\n",
        "    CREATE (a)-[:HAS_BC]->(new:STUDY_BC_INSTANCE)\n",
        "    SET new = bc\n",
        "    WITH bc, new\n",
        "    CALL apoc.path.subgraphAll(bc, {relationshipFilter:'HAS_ITEM>|HAS_DATA_TYPE>|HAS_DATA_PROPERTY>|HAS_RESPONSE>'})\n",
        "    YIELD nodes, relationships\n",
        "    CALL apoc.refactor.cloneSubgraph(\n",
        "      nodes,\n",
        "      [rel in relationships WHERE type(rel) = 'HAS_DATA_TYPE_PROPERTY'],\n",
        "      { standinNodes:[[bc, new]] })\n",
        "    YIELD input, output, error\n",
        "    RETURN output;\n",
        "    \"\"\"\n",
        "  result = session.run(query)\n",
        "  for record in result:\n",
        "    node = inner_record[\"output\"]\n",
        "    print(node)\n",
        "\n",
        "driver.close()\n",
        "\n"
      ],
      "metadata": {
        "colab": {
          "base_uri": "https://localhost:8080/"
        },
        "id": "kuX-JoiR4msA",
        "outputId": "386604a2-9eeb-460d-d26a-9c7e04e37f1c"
      },
      "execution_count": 131,
      "outputs": [
        {
          "output_type": "stream",
          "name": "stdout",
          "text": [
            "<Node id=1237 labels=frozenset({'FHIR_DATA_TYPE_PROPERTY'}) properties={'name': 'value', 'simple_data_type': 'float', 'id': 8, 'uri': 'http://id.d4k.dk/dataset/hl7/fhir/datatypes#quantity_value'}>\n",
            "<Node id=1237 labels=frozenset({'FHIR_DATA_TYPE_PROPERTY'}) properties={'name': 'value', 'simple_data_type': 'float', 'id': 8, 'uri': 'http://id.d4k.dk/dataset/hl7/fhir/datatypes#quantity_value'}>\n",
            "<Node id=1237 labels=frozenset({'FHIR_DATA_TYPE_PROPERTY'}) properties={'name': 'value', 'simple_data_type': 'float', 'id': 8, 'uri': 'http://id.d4k.dk/dataset/hl7/fhir/datatypes#quantity_value'}>\n",
            "<Node id=1237 labels=frozenset({'FHIR_DATA_TYPE_PROPERTY'}) properties={'name': 'value', 'simple_data_type': 'float', 'id': 8, 'uri': 'http://id.d4k.dk/dataset/hl7/fhir/datatypes#quantity_value'}>\n",
            "<Node id=1237 labels=frozenset({'FHIR_DATA_TYPE_PROPERTY'}) properties={'name': 'value', 'simple_data_type': 'float', 'id': 8, 'uri': 'http://id.d4k.dk/dataset/hl7/fhir/datatypes#quantity_value'}>\n",
            "<Node id=1237 labels=frozenset({'FHIR_DATA_TYPE_PROPERTY'}) properties={'name': 'value', 'simple_data_type': 'float', 'id': 8, 'uri': 'http://id.d4k.dk/dataset/hl7/fhir/datatypes#quantity_value'}>\n",
            "<Node id=1237 labels=frozenset({'FHIR_DATA_TYPE_PROPERTY'}) properties={'name': 'value', 'simple_data_type': 'float', 'id': 8, 'uri': 'http://id.d4k.dk/dataset/hl7/fhir/datatypes#quantity_value'}>\n",
            "<Node id=1237 labels=frozenset({'FHIR_DATA_TYPE_PROPERTY'}) properties={'name': 'value', 'simple_data_type': 'float', 'id': 8, 'uri': 'http://id.d4k.dk/dataset/hl7/fhir/datatypes#quantity_value'}>\n",
            "<Node id=1237 labels=frozenset({'FHIR_DATA_TYPE_PROPERTY'}) properties={'name': 'value', 'simple_data_type': 'float', 'id': 8, 'uri': 'http://id.d4k.dk/dataset/hl7/fhir/datatypes#quantity_value'}>\n",
            "<Node id=1237 labels=frozenset({'FHIR_DATA_TYPE_PROPERTY'}) properties={'name': 'value', 'simple_data_type': 'float', 'id': 8, 'uri': 'http://id.d4k.dk/dataset/hl7/fhir/datatypes#quantity_value'}>\n",
            "<Node id=1237 labels=frozenset({'FHIR_DATA_TYPE_PROPERTY'}) properties={'name': 'value', 'simple_data_type': 'float', 'id': 8, 'uri': 'http://id.d4k.dk/dataset/hl7/fhir/datatypes#quantity_value'}>\n",
            "<Node id=1237 labels=frozenset({'FHIR_DATA_TYPE_PROPERTY'}) properties={'name': 'value', 'simple_data_type': 'float', 'id': 8, 'uri': 'http://id.d4k.dk/dataset/hl7/fhir/datatypes#quantity_value'}>\n",
            "<Node id=1237 labels=frozenset({'FHIR_DATA_TYPE_PROPERTY'}) properties={'name': 'value', 'simple_data_type': 'float', 'id': 8, 'uri': 'http://id.d4k.dk/dataset/hl7/fhir/datatypes#quantity_value'}>\n",
            "<Node id=1237 labels=frozenset({'FHIR_DATA_TYPE_PROPERTY'}) properties={'name': 'value', 'simple_data_type': 'float', 'id': 8, 'uri': 'http://id.d4k.dk/dataset/hl7/fhir/datatypes#quantity_value'}>\n",
            "<Node id=1237 labels=frozenset({'FHIR_DATA_TYPE_PROPERTY'}) properties={'name': 'value', 'simple_data_type': 'float', 'id': 8, 'uri': 'http://id.d4k.dk/dataset/hl7/fhir/datatypes#quantity_value'}>\n",
            "<Node id=1237 labels=frozenset({'FHIR_DATA_TYPE_PROPERTY'}) properties={'name': 'value', 'simple_data_type': 'float', 'id': 8, 'uri': 'http://id.d4k.dk/dataset/hl7/fhir/datatypes#quantity_value'}>\n",
            "<Node id=1237 labels=frozenset({'FHIR_DATA_TYPE_PROPERTY'}) properties={'name': 'value', 'simple_data_type': 'float', 'id': 8, 'uri': 'http://id.d4k.dk/dataset/hl7/fhir/datatypes#quantity_value'}>\n",
            "<Node id=1237 labels=frozenset({'FHIR_DATA_TYPE_PROPERTY'}) properties={'name': 'value', 'simple_data_type': 'float', 'id': 8, 'uri': 'http://id.d4k.dk/dataset/hl7/fhir/datatypes#quantity_value'}>\n",
            "<Node id=1237 labels=frozenset({'FHIR_DATA_TYPE_PROPERTY'}) properties={'name': 'value', 'simple_data_type': 'float', 'id': 8, 'uri': 'http://id.d4k.dk/dataset/hl7/fhir/datatypes#quantity_value'}>\n",
            "<Node id=1237 labels=frozenset({'FHIR_DATA_TYPE_PROPERTY'}) properties={'name': 'value', 'simple_data_type': 'float', 'id': 8, 'uri': 'http://id.d4k.dk/dataset/hl7/fhir/datatypes#quantity_value'}>\n",
            "<Node id=1237 labels=frozenset({'FHIR_DATA_TYPE_PROPERTY'}) properties={'name': 'value', 'simple_data_type': 'float', 'id': 8, 'uri': 'http://id.d4k.dk/dataset/hl7/fhir/datatypes#quantity_value'}>\n",
            "<Node id=1237 labels=frozenset({'FHIR_DATA_TYPE_PROPERTY'}) properties={'name': 'value', 'simple_data_type': 'float', 'id': 8, 'uri': 'http://id.d4k.dk/dataset/hl7/fhir/datatypes#quantity_value'}>\n"
          ]
        }
      ]
    },
    {
      "cell_type": "markdown",
      "source": [
        "Now create a unique UUID (should really be a URI) for each leaf value node. This is a simple example of FAIR, each data point in a study has a unique id and can be addressed.\n",
        "\n",
        "Also, the DDF model does not allow us to easily get a unique BC instance for each actual BC, that is the WorkFlow Item. Keep it simple for the moment by going via the Activity and Study Data nodes."
      ],
      "metadata": {
        "id": "J-hC-_XMy-rn"
      }
    },
    {
      "cell_type": "code",
      "source": [
        "save_for_later = {}\n",
        "\n",
        "with driver.session() as session:\n",
        "  query = \"\"\"MATCH (bc:STUDY_BC_INSTANCE)-[*]->(v:BC_DATA_PROPERTY) WHERE v.name='value' OR v.name='unit'\n",
        "    WITH collect(v) as nodes, apoc.create.uuid() as uuid\n",
        "    FOREACH (n in nodes | SET n.uuid = uuid)\n",
        "    \"\"\"\n",
        "  result = session.run(query)\n",
        "  query = \"\"\"MATCH (bc:STUDY_BC_INSTANCE)-[]->(i:BC_ITEM)-[*]->(v:BC_DATA_PROPERTY) WHERE i.name='Result' AND v.name='value' OR v.name='unit'\n",
        "    RETURN DISTINCT bc.name as bc_name, v.name as name, v.uuid as uuid\"\"\"\n",
        "  result = session.run(query)\n",
        "  for record in result:\n",
        "    print(\"BC %s property '%s' has uuid: '%s'\" % (record[\"bc_name\"], record[\"name\"], record[\"uuid\"]))\n",
        "    save_for_later[record[\"name\"]] = record[\"uuid\"]\n",
        "\n",
        "driver.close()\n",
        "print(save_for_later)"
      ],
      "metadata": {
        "colab": {
          "base_uri": "https://localhost:8080/"
        },
        "id": "L7mIKGAby_H-",
        "outputId": "ab8988d0-7f17-4b43-b3f5-534e7ae8a932"
      },
      "execution_count": 132,
      "outputs": [
        {
          "output_type": "stream",
          "name": "stdout",
          "text": [
            "BC Weight property 'unit' has uuid: '3fe3d51d-0bb4-4df0-9ba0-235eea259e49'\n",
            "BC Weight property 'value' has uuid: '344569d6-aa3c-480a-8c6e-f2aa57de3932'\n",
            "{'unit': '3fe3d51d-0bb4-4df0-9ba0-235eea259e49', 'value': '344569d6-aa3c-480a-8c6e-f2aa57de3932'}\n"
          ]
        }
      ]
    },
    {
      "cell_type": "markdown",
      "source": [
        "Now link up to the CT for the library BCs and the Study versions"
      ],
      "metadata": {
        "id": "HbJjJlWRvIst"
      }
    },
    {
      "cell_type": "code",
      "source": [
        "with driver.session() as session:\n",
        "  query = \"\"\"MATCH (n:BC_DATA_PROPERTY)-[:HAS_RESPONSE]->(d) \n",
        "    WITH n,d\n",
        "    MATCH (cl:SKOS_CONCEPT {identifier: d.cl})-[]->(cli:SKOS_CONCEPT {identifier: d.cli})\n",
        "    MERGE (n)-[:HAS_RESPONSE]->(cli)\n",
        "    DETACH DELETE d\n",
        "    RETURN n.name as name, cli.uri as uri\n",
        "  \"\"\" \n",
        "  result = session.run(query)\n",
        "  for record in result:\n",
        "    print (\"%s -> %s\" % (record[\"name\"], record[\"uri\"]))\n",
        "driver.close()"
      ],
      "metadata": {
        "colab": {
          "base_uri": "https://localhost:8080/"
        },
        "id": "SKmdXytqu964",
        "outputId": "b2b73eff-a6c9-4fc2-ac91-93f9c6fb2992"
      },
      "execution_count": 133,
      "outputs": [
        {
          "output_type": "stream",
          "name": "stdout",
          "text": [
            "code -> http://id.d4k.dk/dataset/cdisc/ct/v48/sdtm/C66770-C28252\n",
            "code -> http://id.d4k.dk/dataset/cdisc/ct/v48/sdtm/C66770-C28252\n",
            "code -> http://id.d4k.dk/dataset/cdisc/ct/v48/sdtm/C66770-C48531\n",
            "code -> http://id.d4k.dk/dataset/cdisc/ct/v48/sdtm/C66770-C48531\n",
            "code -> http://id.d4k.dk/dataset/cdisc/ct/v48/sdtm/C66741-C25208\n",
            "code -> http://id.d4k.dk/dataset/cdisc/ct/v48/sdtm/C66741-C25208\n"
          ]
        }
      ]
    },
    {
      "cell_type": "markdown",
      "source": [
        "Now add in some data points. A data point will point at the BC and the visit to which is applies (of the WorkFlow Item). This is the nature of the DDF model. I think we can make it better."
      ],
      "metadata": {
        "id": "2zF0UNGp-IS1"
      }
    },
    {
      "cell_type": "code",
      "source": [
        "with driver.session() as session:\n",
        "  query = \"\"\"MATCH (v:VISIT)<-[]-(w:WORKFLOW_ITEM)-[]->(a:ACTIVITY)-[]->(bc:STUDY_BC_INSTANCE) RETURN v.name as visit, w.id as wfi , a.description as activity, bc.name as bc\"\"\" \n",
        "  result = session.run(query)\n",
        "  for record in result:\n",
        "    print (\"%s -> %s -> %s -> %s\" % (record[\"visit\"], record[\"wfi\"], record[\"activity\"], record[\"bc\"]))\n",
        "driver.close()"
      ],
      "metadata": {
        "colab": {
          "base_uri": "https://localhost:8080/"
        },
        "id": "yWGusP1IAj9y",
        "outputId": "97b6e54b-26b9-4e1a-c948-52fa8e6c157d"
      },
      "execution_count": 134,
      "outputs": [
        {
          "output_type": "stream",
          "name": "stdout",
          "text": [
            "CYCLE 1, TREATMENT DAY 1 -> 1512 -> Weight -> Weight\n",
            "FU 1 -> 1514 -> Weight -> Weight\n",
            "CYCLE 2, TREATMENT DAY 1 -> 1513 -> Weight -> Weight\n"
          ]
        }
      ]
    },
    {
      "cell_type": "markdown",
      "source": [
        "Create some simple data. We need the actual data point plus just enough information to attach it to the study graph. So \n",
        "\n",
        "- Create subjects\n",
        "- Create data points and link into the study design and the BC attached to (the Study instance, not the definition of the BC that we copied earlier)"
      ],
      "metadata": {
        "id": "OGtpGMvUTNwa"
      }
    },
    {
      "cell_type": "code",
      "source": [
        "subjects = [ \n",
        "  { \"subject_id\": \"1234\"}, \n",
        "  { \"subject_id\": \"1235\" }, \n",
        "  { \"subject_id\": \"1236\" }, \n",
        "  { \"subject_id\": \"1237\" }\n",
        "]\n",
        "subject_data = [\n",
        "  { \"subject_id\": \"1234\", \"visit\": \"CYCLE 1, TREATMENT DAY 1\", \"data_point\": save_for_later[\"value\"], \"value\": \"76\" },\n",
        "  { \"subject_id\": \"1234\", \"visit\": \"CYCLE 1, TREATMENT DAY 1\", \"data_point\": save_for_later[\"unit\"], \"value\": \"kg\" },\n",
        "  { \"subject_id\": \"1234\", \"visit\": \"CYCLE 2, TREATMENT DAY 1\", \"data_point\": save_for_later[\"value\"], \"value\": \"78\" },\n",
        "  { \"subject_id\": \"1234\", \"visit\": \"CYCLE 2, TREATMENT DAY 1\", \"data_point\": save_for_later[\"unit\"], \"value\": \"kg\" },\n",
        "  { \"subject_id\": \"1234\", \"visit\": \"FU 1\", \"data_point\": save_for_later[\"value\"], \"value\": \"77\" },\n",
        "  { \"subject_id\": \"1234\", \"visit\": \"FU 1\", \"data_point\": save_for_later[\"unit\"], \"value\": \"kg\" },\n",
        "  { \"subject_id\": \"1235\", \"visit\": \"CYCLE 1, TREATMENT DAY 1\", \"data_point\": save_for_later[\"value\"], \"value\": \"42\" },\n",
        "  { \"subject_id\": \"1235\", \"visit\": \"CYCLE 1, TREATMENT DAY 1\", \"data_point\": save_for_later[\"unit\"], \"value\": \"kg\" },\n",
        "  { \"subject_id\": \"1235\", \"visit\": \"CYCLE 2, TREATMENT DAY 1\", \"data_point\": save_for_later[\"value\"], \"value\": \"44\" },\n",
        "  { \"subject_id\": \"1235\", \"visit\": \"CYCLE 2, TREATMENT DAY 1\", \"data_point\": save_for_later[\"unit\"], \"value\": \"kg\" },\n",
        "  { \"subject_id\": \"1235\", \"visit\": \"FU 1\", \"data_point\": save_for_later[\"value\"], \"value\": \"43\" },\n",
        "  { \"subject_id\": \"1235\", \"visit\": \"FU 1\", \"data_point\": save_for_later[\"unit\"], \"value\": \"kg\" },\n",
        "]\n",
        "\n",
        "print(subject_data)"
      ],
      "metadata": {
        "colab": {
          "base_uri": "https://localhost:8080/"
        },
        "id": "rCiifSaj-Cs_",
        "outputId": "018f2c02-3f6d-476d-bb30-1d95398120a1"
      },
      "execution_count": 135,
      "outputs": [
        {
          "output_type": "stream",
          "name": "stdout",
          "text": [
            "[{'subject_id': '1234', 'visit': 'CYCLE 1, TREATMENT DAY 1', 'data_point': '344569d6-aa3c-480a-8c6e-f2aa57de3932', 'value': '76'}, {'subject_id': '1234', 'visit': 'CYCLE 1, TREATMENT DAY 1', 'data_point': '3fe3d51d-0bb4-4df0-9ba0-235eea259e49', 'value': 'kg'}, {'subject_id': '1234', 'visit': 'CYCLE 2, TREATMENT DAY 1', 'data_point': '344569d6-aa3c-480a-8c6e-f2aa57de3932', 'value': '78'}, {'subject_id': '1234', 'visit': 'CYCLE 2, TREATMENT DAY 1', 'data_point': '3fe3d51d-0bb4-4df0-9ba0-235eea259e49', 'value': 'kg'}, {'subject_id': '1234', 'visit': 'FU 1', 'data_point': '344569d6-aa3c-480a-8c6e-f2aa57de3932', 'value': '77'}, {'subject_id': '1234', 'visit': 'FU 1', 'data_point': '3fe3d51d-0bb4-4df0-9ba0-235eea259e49', 'value': 'kg'}, {'subject_id': '1235', 'visit': 'CYCLE 1, TREATMENT DAY 1', 'data_point': '344569d6-aa3c-480a-8c6e-f2aa57de3932', 'value': '42'}, {'subject_id': '1235', 'visit': 'CYCLE 1, TREATMENT DAY 1', 'data_point': '3fe3d51d-0bb4-4df0-9ba0-235eea259e49', 'value': 'kg'}, {'subject_id': '1235', 'visit': 'CYCLE 2, TREATMENT DAY 1', 'data_point': '344569d6-aa3c-480a-8c6e-f2aa57de3932', 'value': '44'}, {'subject_id': '1235', 'visit': 'CYCLE 2, TREATMENT DAY 1', 'data_point': '3fe3d51d-0bb4-4df0-9ba0-235eea259e49', 'value': 'kg'}, {'subject_id': '1235', 'visit': 'FU 1', 'data_point': '344569d6-aa3c-480a-8c6e-f2aa57de3932', 'value': '43'}, {'subject_id': '1235', 'visit': 'FU 1', 'data_point': '3fe3d51d-0bb4-4df0-9ba0-235eea259e49', 'value': 'kg'}]\n"
          ]
        }
      ]
    },
    {
      "cell_type": "markdown",
      "source": [
        "Create the subjects."
      ],
      "metadata": {
        "id": "-gz6-GXnWXdj"
      }
    },
    {
      "cell_type": "code",
      "source": [
        "with driver.session() as session:\n",
        "  for subject in subjects:\n",
        "    query = \"\"\"MATCH (p:STUDY_PROTOCOL {brief_title:'DDR'})<-[]-(s:STUDY)\n",
        "      WITH s\n",
        "      CREATE (s)<-[:ENROLLED_IN]-(ss:STUDY_SUBJECT)\n",
        "      SET ss.identifier = '%s'\n",
        "    \"\"\" % (subject[\"subject_id\"]) \n",
        "    result = session.run(query)\n",
        "  query = \"\"\"MATCH (s:STUDY_SUBJECT) RETURN s.identifier as subject\"\"\"\n",
        "  result = session.run(query)\n",
        "  for record in result:\n",
        "    print (\"Subject %s created\" % (record[\"subject\"]))\n",
        "driver.close()"
      ],
      "metadata": {
        "colab": {
          "base_uri": "https://localhost:8080/"
        },
        "id": "qXHRMNAkTZce",
        "outputId": "f90d06e8-1347-4087-d9cb-b988fca1bfb1"
      },
      "execution_count": 136,
      "outputs": [
        {
          "output_type": "stream",
          "name": "stdout",
          "text": [
            "Subject 1234 created\n",
            "Subject 1235 created\n",
            "Subject 1236 created\n",
            "Subject 1237 created\n"
          ]
        }
      ]
    },
    {
      "cell_type": "markdown",
      "source": [
        "Now add in the data"
      ],
      "metadata": {
        "id": "MHE4C6dUWaU2"
      }
    },
    {
      "cell_type": "code",
      "source": [
        "with driver.session() as session:\n",
        "  for item in subject_data:\n",
        "    query = \"\"\"MATCH (s:STUDY_SUBJECT {identifier: '%s'})\n",
        "      WITH s\n",
        "      MATCH (v:VISIT {name: '%s'})<-[]-(wi:WORKFLOW_ITEM)-[:HAS_ACTIVITY]->(a)-[:HAS_BC]->(bc)-[:HAS_ITEM]->\n",
        "        (i)-[:HAS_DATA_TYPE]->(dt)-[:HAS_DATA_PROPERTY]->(d:BC_DATA_PROPERTY {uuid: '%s'})\n",
        "      WITH s, wi, d\n",
        "      CREATE (s)<-[:FOR_SUBJECT]-(sdp:STUDY_DATA_POINT)-[:FOR_WORKFLOW_ITEM]->(wi)\n",
        "      WITH sdp, d\n",
        "      CREATE (sdp)-[:FOR_VALUE]->(d)\n",
        "      SET sdp.value = '%s'\n",
        "      SET sdp.uuid = apoc.create.uuid()\n",
        "    \"\"\" % (item[\"subject_id\"], item[\"visit\"], item[\"data_point\"], item[\"value\"]) \n",
        "    result = session.run(query)\n",
        "  query = \"\"\"MATCH (s:STUDY_DATA_POINT) RETURN DISTINCT s.value as value, s.uuid as uuid\"\"\"\n",
        "  result = session.run(query)\n",
        "  for record in result:\n",
        "    print (\"Value %s, %s created\" % (record[\"value\"], record[\"uuid\"]))\n",
        "driver.close()"
      ],
      "metadata": {
        "colab": {
          "base_uri": "https://localhost:8080/"
        },
        "id": "vuxeda8PWeFP",
        "outputId": "ffb8863b-ccfa-458a-b1d3-2ff7f505d369"
      },
      "execution_count": 137,
      "outputs": [
        {
          "output_type": "stream",
          "name": "stdout",
          "text": [
            "Value 76, c4147952-bbd0-4f10-ad19-f68e2ed728ae created\n",
            "Value kg, 7a90d8b4-d638-4beb-8196-645803da3d68 created\n",
            "Value 78, bcefabc6-f013-4c4c-b858-7f8e34e3f559 created\n",
            "Value kg, 7571c33c-c8b1-4fda-989d-181484540da2 created\n",
            "Value 77, f3626c3d-db8d-4604-86fd-ee96f4ce8e51 created\n",
            "Value kg, 30a32840-6936-4e90-83b7-e50ed33a8c00 created\n",
            "Value 42, 4cb2f176-29db-4039-a658-3064ffc721cc created\n",
            "Value kg, 892e2725-0675-4bbd-8123-9cc227886de7 created\n",
            "Value 44, 72a4014c-f6c3-4055-80ea-447248685519 created\n",
            "Value kg, bf2e4234-0a04-48b7-bbfa-5a5e128425ed created\n",
            "Value 43, 8616fe7d-a54a-4fec-bb3c-48221d3b8048 created\n",
            "Value kg, 3ebe0718-2d61-4f01-970c-4cd39f190503 created\n"
          ]
        }
      ]
    },
    {
      "cell_type": "markdown",
      "source": [
        "Now load the SDTM IG so we can link the SDTM to the canonical model."
      ],
      "metadata": {
        "id": "QsxAK7iarrAZ"
      }
    },
    {
      "cell_type": "code",
      "source": [
        "stage_13_files = [ \n",
        "    { \"label\": \"API_SOURCE\", \"filename\": \"stage_13_api_source_nodes.csv\" },\n",
        "    { \"label\": \"SDTM_IG\", \"filename\": \"stage_13_sdtm_ig_nodes.csv\" },\n",
        "    { \"label\": \"SDTM_DATASET\", \"filename\": \"stage_13_sdtm_dataset_nodes.csv\" },\n",
        "    { \"label\": \"SDTM_VARIABLE\", \"filename\": \"stage_13_sdtm_variable_nodes.csv\" },\n",
        "    { \"type\": \"FROM_SOURCE\", \"filename\": \"stage_13_from_source_relationships.csv\" },\n",
        "    { \"type\": \"HAS_DATASET\", \"filename\": \"stage_13_has_dataset_relationships.csv\" },\n",
        "    { \"type\": \"HAS_VARIABLE\", \"filename\": \"stage_13_has_variable_relationships.csv\" }\n",
        "  ]\n",
        "\n",
        "file_load(stage_13_files)"
      ],
      "metadata": {
        "colab": {
          "base_uri": "https://localhost:8080/"
        },
        "id": "xrGI4UvLq18A",
        "outputId": "6da8dfc4-812b-4f04-943a-a9188fa8ea80"
      },
      "execution_count": 138,
      "outputs": [
        {
          "output_type": "stream",
          "name": "stdout",
          "text": [
            "CALL apoc.import.csv( [{ fileName: 'https://raw.githubusercontent.com/data4knowledge/biomedical_concepts/main/data/csv_load/stage_13_api_source_nodes.csv', labels: ['API_SOURCE'] }, { fileName: 'https://raw.githubusercontent.com/data4knowledge/biomedical_concepts/main/data/csv_load/stage_13_sdtm_ig_nodes.csv', labels: ['SDTM_IG'] }, { fileName: 'https://raw.githubusercontent.com/data4knowledge/biomedical_concepts/main/data/csv_load/stage_13_sdtm_dataset_nodes.csv', labels: ['SDTM_DATASET'] }, { fileName: 'https://raw.githubusercontent.com/data4knowledge/biomedical_concepts/main/data/csv_load/stage_13_sdtm_variable_nodes.csv', labels: ['SDTM_VARIABLE'] }], [{ fileName: 'https://raw.githubusercontent.com/data4knowledge/biomedical_concepts/main/data/csv_load/stage_13_from_source_relationships.csv', type: 'FROM_SOURCE' }, { fileName: 'https://raw.githubusercontent.com/data4knowledge/biomedical_concepts/main/data/csv_load/stage_13_has_dataset_relationships.csv', type: 'HAS_DATASET' }, { fileName: 'https://raw.githubusercontent.com/data4knowledge/biomedical_concepts/main/data/csv_load/stage_13_has_variable_relationships.csv', type: 'HAS_VARIABLE' }], {stringIds: false})\n",
            "<Record file='progress.csv' source='file' format='csv' nodes=1982 relationships=1981 properties=21534 time=2100 rows=0 batchSize=-1 batches=0 done=True data=None>\n"
          ]
        }
      ]
    },
    {
      "cell_type": "markdown",
      "source": [
        "Check SDTM loaded"
      ],
      "metadata": {
        "id": "nDPLkFicrzu9"
      }
    },
    {
      "cell_type": "code",
      "source": [
        "with driver.session() as session:\n",
        "  query = \"\"\"MATCH (ds:SDTM_DATASET) RETURN DISTINCT ds.name as name\"\"\"\n",
        "  result = session.run(query)\n",
        "  for record in result:\n",
        "    print (\"Dataset %s loaded\" % (record[\"name\"]))\n",
        "driver.close()"
      ],
      "metadata": {
        "colab": {
          "base_uri": "https://localhost:8080/"
        },
        "id": "XMP9ZqWsr1dW",
        "outputId": "af485a24-b8a0-49ef-ae10-bdd6948583f7"
      },
      "execution_count": 139,
      "outputs": [
        {
          "output_type": "stream",
          "name": "stdout",
          "text": [
            "Dataset AG loaded\n",
            "Dataset CM loaded\n",
            "Dataset EC loaded\n",
            "Dataset EX loaded\n",
            "Dataset ML loaded\n",
            "Dataset PR loaded\n",
            "Dataset SU loaded\n",
            "Dataset AE loaded\n",
            "Dataset BE loaded\n",
            "Dataset CE loaded\n",
            "Dataset DS loaded\n",
            "Dataset DV loaded\n",
            "Dataset HO loaded\n",
            "Dataset MH loaded\n",
            "Dataset BS loaded\n",
            "Dataset CP loaded\n",
            "Dataset CV loaded\n",
            "Dataset DA loaded\n",
            "Dataset DD loaded\n",
            "Dataset EG loaded\n",
            "Dataset FT loaded\n",
            "Dataset GF loaded\n",
            "Dataset IE loaded\n",
            "Dataset IS loaded\n",
            "Dataset LB loaded\n",
            "Dataset MB loaded\n",
            "Dataset MI loaded\n",
            "Dataset MK loaded\n",
            "Dataset MS loaded\n",
            "Dataset NV loaded\n",
            "Dataset OE loaded\n",
            "Dataset PC loaded\n",
            "Dataset PE loaded\n",
            "Dataset PP loaded\n",
            "Dataset QS loaded\n",
            "Dataset RE loaded\n",
            "Dataset RP loaded\n",
            "Dataset RS loaded\n",
            "Dataset SC loaded\n",
            "Dataset SS loaded\n",
            "Dataset TR loaded\n",
            "Dataset TU loaded\n",
            "Dataset UR loaded\n",
            "Dataset VS loaded\n",
            "Dataset FA loaded\n",
            "Dataset SR loaded\n",
            "Dataset CO loaded\n",
            "Dataset DM loaded\n",
            "Dataset SE loaded\n",
            "Dataset SM loaded\n",
            "Dataset SV loaded\n",
            "Dataset TA loaded\n",
            "Dataset TD loaded\n",
            "Dataset TE loaded\n",
            "Dataset TI loaded\n",
            "Dataset TM loaded\n",
            "Dataset TS loaded\n",
            "Dataset TV loaded\n",
            "Dataset OI loaded\n",
            "Dataset RELREC loaded\n",
            "Dataset RELSPEC loaded\n",
            "Dataset RELSUB loaded\n",
            "Dataset SUPPQUAL loaded\n"
          ]
        }
      ]
    },
    {
      "cell_type": "markdown",
      "source": [
        "Now link the VS domain to the canonical model. Do it simply for the moment by hand. This should be automatic via SDTM class definitions which should be loaded."
      ],
      "metadata": {
        "id": "Jm6swki_auaT"
      }
    },
    {
      "cell_type": "code",
      "source": [
        "# The Canonical Model References\n",
        "#\n",
        "# Quantity\n",
        "# http://id.d4k.dk/dataset/canonical/n141/quantity#value\n",
        "# http://id.d4k.dk/dataset/canonical/n141/quantity#unit\n",
        "\n",
        "# Coded\n",
        "# http://id.d4k.dk/dataset/canonical/n141/coding#code\n",
        "\n",
        "with driver.session() as session:\n",
        "  query = \"\"\"MATCH (s:SDTM_DATASET {name: 'VS'}), \n",
        "    (s)-[]->(v1:SDTM_VARIABLE {name: 'VSORRES'}), \n",
        "    (s)-[]->(v2:SDTM_VARIABLE {name: 'VSORRESU'}), \n",
        "    (c1:CANONICAL_DATA_TYPE_PROPERTY {uri: \"http://id.d4k.dk/dataset/canonical/n141/quantity#value\"}), \n",
        "    (c2:CANONICAL_DATA_TYPE_PROPERTY {uri: \"http://id.d4k.dk/dataset/canonical/n141/quantity#unit\"}),\n",
        "    (c3:CANONICAL_DATA_TYPE_PROPERTY {uri: \"http://id.d4k.dk/dataset/canonical/n141/coding#code\"})\n",
        "    WITH s, v1, v2, c1, c2, c3\n",
        "    CREATE (v1)-[:IS_A]->(cv1:SDTM_MODEL_VARIABLE {name: '--ORRES'})-[:IS_CANONICAL_REF]->(c1)\n",
        "    CREATE (v2)-[:IS_A]->(cv2:SDTM_MODEL_VARIABLE {name: '--ORRESU'})-[:IS_CANONICAL_REF]->(c2)\n",
        "    CREATE (v1)-[:IS_CANONICAL_REF]->(c3)\n",
        "  \"\"\"\n",
        "  result = session.run(query)\n",
        "  query = \"\"\"MATCH (s:SDTM_MODEL_VARIABLE)-[]->(d:CANONICAL_DATA_TYPE_PROPERTY) RETURN DISTINCT s.name as name, d.uri as uri\"\"\"\n",
        "  result = session.run(query)\n",
        "  for record in result:\n",
        "    print (\"Value %s, %s created\" % (record[\"name\"], record[\"uri\"]))\n",
        "driver.close()"
      ],
      "metadata": {
        "colab": {
          "base_uri": "https://localhost:8080/"
        },
        "id": "dJZlfw8eWxxT",
        "outputId": "a1cbb124-1fa6-44b8-d791-e2b3a859cf76"
      },
      "execution_count": 140,
      "outputs": [
        {
          "output_type": "stream",
          "name": "stdout",
          "text": [
            "Value --ORRES, http://id.d4k.dk/dataset/canonical/n141/quantity#value created\n",
            "Value --ORRESU, http://id.d4k.dk/dataset/canonical/n141/quantity#unit created\n"
          ]
        }
      ]
    },
    {
      "cell_type": "markdown",
      "source": [
        "Now link in the Study BC Instance to the canonical model. Again by hand but this should be automated."
      ],
      "metadata": {
        "id": "6cGwVMWPeDOU"
      }
    },
    {
      "cell_type": "code",
      "source": [
        "# http://id.d4k.dk/dataset/bc_instance/weight/result/quantity/value = save_for_later['value']\n",
        "# http://id.d4k.dk/dataset/canonical/n141/quantity#unit = save_for_later['unit']\n",
        "\n",
        "print(save_for_later)\n",
        "\n",
        "with driver.session() as session:\n",
        "  query = \"\"\"MATCH (bc1:BC_DATA_PROPERTY {uuid: '%s'}), (bc2:BC_DATA_PROPERTY {uuid: '%s'}),\n",
        "    (c1:CANONICAL_DATA_TYPE_PROPERTY {uri: \"http://id.d4k.dk/dataset/canonical/n141/quantity#value\"}),\n",
        "    (c2:CANONICAL_DATA_TYPE_PROPERTY {uri: \"http://id.d4k.dk/dataset/canonical/n141/quantity#unit\"})\n",
        "    WITH bc1, bc2, c1, c2\n",
        "    CREATE (bc1)-[:IS_CANONICAL_REF]->(c1)\n",
        "    CREATE (bc2)-[:IS_CANONICAL_REF]->(c2)\n",
        "  \"\"\" % (save_for_later['value'], save_for_later['unit'])\n",
        "  result = session.run(query)\n",
        "  query = \"\"\"MATCH (s:BC_DATA_PROPERTY)-[]->(d:FHIR_DATA_TYPE_PROPERTY) RETURN DISTINCT s.name as name, d.uri as uri\"\"\"\n",
        "  result = session.run(query)\n",
        "  for record in result:\n",
        "    print (\"Value %s, %s created\" % (record[\"name\"], record[\"uri\"]))\n",
        "driver.close()"
      ],
      "metadata": {
        "colab": {
          "base_uri": "https://localhost:8080/"
        },
        "id": "693lyiwYeDY-",
        "outputId": "45f4a872-d4b1-4bee-af55-d28d8af38a58"
      },
      "execution_count": 141,
      "outputs": [
        {
          "output_type": "stream",
          "name": "stdout",
          "text": [
            "{'unit': '3fe3d51d-0bb4-4df0-9ba0-235eea259e49', 'value': '344569d6-aa3c-480a-8c6e-f2aa57de3932'}\n"
          ]
        }
      ]
    },
    {
      "cell_type": "markdown",
      "source": [
        "So having linked the very basic data we have all the pieces in place. We can now start getting data out, simple at the moment but ...\n",
        "\n",
        "Query the VS domain"
      ],
      "metadata": {
        "id": "2SnRZjSE7gD5"
      }
    },
    {
      "cell_type": "code",
      "source": [
        "with driver.session() as session:\n",
        "  query = \"\"\"MATCH (sd:SDTM_DATASET {name: 'VS'})-[]->(sv:SDTM_VARIABLE)-[]->(cv:SDTM_MODEL_VARIABLE)-[:IS_CANONICAL_REF]->(fdt:CANONICAL_DATA_TYPE_PROPERTY)\n",
        "  <-[:IS_CANONICAL_REF]-(bdt:BC_DATA_PROPERTY)<-[:FOR_VALUE]-(sdp:STUDY_DATA_POINT)-[]->(wfi:WORKFLOW_ITEM), \n",
        "  (wfi)-[:USED_IN_VISIT]->(v:VISIT), \n",
        "  (sdp)-[:FOR_SUBJECT]->(subj:STUDY_SUBJECT),\n",
        "  (e:EPOCH)-[]->(v)\n",
        "RETURN sd.name as domain, sv.name as variable, sdp.value as data, v.name as visit, e.study_epoch_name as epoch, subj.identifier as subject\n",
        "  \"\"\"\n",
        "  result = session.run(query)\n",
        "  for record in result:\n",
        "    print (\"%s, %s, %s, %s, %s %s\" % (record[\"domain\"], record[\"variable\"], record[\"data\"], record[\"visit\"], record[\"epoch\"], record[\"subject\"]))\n",
        "driver.close()"
      ],
      "metadata": {
        "colab": {
          "base_uri": "https://localhost:8080/"
        },
        "id": "o4Ox-rCR7gRa",
        "outputId": "46054075-4ead-483d-bc20-e4d44f1ad805"
      },
      "execution_count": 142,
      "outputs": [
        {
          "output_type": "stream",
          "name": "stdout",
          "text": [
            "VS, VSORRES, 43, FU 1, FOLLOW-UP 1235\n",
            "VS, VSORRES, 44, CYCLE 2, TREATMENT DAY 1, TREATMENT 1235\n",
            "VS, VSORRES, 42, CYCLE 1, TREATMENT DAY 1, TREATMENT 1235\n",
            "VS, VSORRES, 77, FU 1, FOLLOW-UP 1234\n",
            "VS, VSORRES, 78, CYCLE 2, TREATMENT DAY 1, TREATMENT 1234\n",
            "VS, VSORRES, 76, CYCLE 1, TREATMENT DAY 1, TREATMENT 1234\n",
            "VS, VSORRESU, kg, FU 1, FOLLOW-UP 1235\n",
            "VS, VSORRESU, kg, CYCLE 2, TREATMENT DAY 1, TREATMENT 1235\n",
            "VS, VSORRESU, kg, CYCLE 1, TREATMENT DAY 1, TREATMENT 1235\n",
            "VS, VSORRESU, kg, FU 1, FOLLOW-UP 1234\n",
            "VS, VSORRESU, kg, CYCLE 2, TREATMENT DAY 1, TREATMENT 1234\n",
            "VS, VSORRESU, kg, CYCLE 1, TREATMENT DAY 1, TREATMENT 1234\n"
          ]
        }
      ]
    },
    {
      "cell_type": "markdown",
      "source": [
        "So, next ...\n",
        "- Expand, adding more BCs, data etc\n",
        "- Generate a CRF for the study\n",
        "- Generate an aCRF\n",
        "- Generate a define.xml\n",
        "- Expand, adding more BCs, data etc"
      ],
      "metadata": {
        "id": "BrEdmj0e9FL8"
      }
    }
  ],
  "metadata": {
    "colab": {
      "collapsed_sections": [],
      "name": "Biomedical_Concepts.ipynb",
      "provenance": []
    },
    "kernelspec": {
      "display_name": "Python 3",
      "name": "python3"
    },
    "language_info": {
      "name": "python"
    }
  },
  "nbformat": 4,
  "nbformat_minor": 0
}