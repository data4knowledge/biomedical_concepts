{
  "cells": [
    {
      "cell_type": "markdown",
      "metadata": {
        "id": "FPlw5A04o23L"
      },
      "source": [
        "Install dependencies"
      ]
    },
    {
      "cell_type": "code",
      "execution_count": 1,
      "metadata": {
        "colab": {
          "base_uri": "https://localhost:8080/"
        },
        "id": "nsmOe6weo0Cl",
        "outputId": "6a940e26-6ab4-4e56-a48a-32ed9a258baa"
      },
      "outputs": [
        {
          "output_type": "stream",
          "name": "stdout",
          "text": [
            "Collecting neo4j\n",
            "  Downloading neo4j-4.4.1.tar.gz (89 kB)\n",
            "\u001b[?25l\r\u001b[K     |███▊                            | 10 kB 11.2 MB/s eta 0:00:01\r\u001b[K     |███████▍                        | 20 kB 15.1 MB/s eta 0:00:01\r\u001b[K     |███████████                     | 30 kB 7.4 MB/s eta 0:00:01\r\u001b[K     |██████████████▊                 | 40 kB 6.4 MB/s eta 0:00:01\r\u001b[K     |██████████████████▍             | 51 kB 2.8 MB/s eta 0:00:01\r\u001b[K     |██████████████████████          | 61 kB 3.4 MB/s eta 0:00:01\r\u001b[K     |█████████████████████████▊      | 71 kB 3.5 MB/s eta 0:00:01\r\u001b[K     |█████████████████████████████▍  | 81 kB 3.8 MB/s eta 0:00:01\r\u001b[K     |████████████████████████████████| 89 kB 2.7 MB/s \n",
            "\u001b[?25hRequirement already satisfied: pytz in /usr/local/lib/python3.7/dist-packages (from neo4j) (2018.9)\n",
            "Building wheels for collected packages: neo4j\n",
            "  Building wheel for neo4j (setup.py) ... \u001b[?25l\u001b[?25hdone\n",
            "  Created wheel for neo4j: filename=neo4j-4.4.1-py3-none-any.whl size=114783 sha256=3d9ef8ae7e919f9c3e1b7ad6bfda5ead527ceaa32066b83d15a0dc014c9ae7a5\n",
            "  Stored in directory: /root/.cache/pip/wheels/fd/15/02/8379f87426cd1b74fd5891f49df9fb978423feb97650cd639b\n",
            "Successfully built neo4j\n",
            "Installing collected packages: neo4j\n",
            "Successfully installed neo4j-4.4.1\n",
            "Requirement already satisfied: requests in /usr/local/lib/python3.7/dist-packages (2.23.0)\n",
            "Requirement already satisfied: idna<3,>=2.5 in /usr/local/lib/python3.7/dist-packages (from requests) (2.10)\n",
            "Requirement already satisfied: certifi>=2017.4.17 in /usr/local/lib/python3.7/dist-packages (from requests) (2021.10.8)\n",
            "Requirement already satisfied: urllib3!=1.25.0,!=1.25.1,<1.26,>=1.21.1 in /usr/local/lib/python3.7/dist-packages (from requests) (1.24.3)\n",
            "Requirement already satisfied: chardet<4,>=3.0.2 in /usr/local/lib/python3.7/dist-packages (from requests) (3.0.4)\n"
          ]
        }
      ],
      "source": [
        "!pip install neo4j\n",
        "!pip install requests"
      ]
    },
    {
      "cell_type": "markdown",
      "metadata": {
        "id": "hCjYsNHTmpXP"
      },
      "source": [
        "First create the FHIR data types. Need this before anything else.\n"
      ]
    },
    {
      "cell_type": "code",
      "execution_count": 11,
      "metadata": {
        "colab": {
          "base_uri": "https://localhost:8080/"
        },
        "id": "fqbZcwbLnKkt",
        "outputId": "21c8290b-4006-4c0b-f652-b59bd49d32e5"
      },
      "outputs": [
        {
          "output_type": "stream",
          "name": "stdout",
          "text": [
            "Ready ...\n"
          ]
        }
      ],
      "source": [
        "from neo4j import GraphDatabase\n",
        "import requests\n",
        "import json\n",
        "import urllib.request\n",
        "\n",
        "# Connect to the Neo4j DB. You need a line like one of these examples:\n",
        "# driver = GraphDatabase.driver(\"neo4j://n.n.n.n:7687\", auth=(\"username\", \"password\"))\n",
        "# driver = GraphDatabase.driver(\"neo4j+s://url_for_aura\", auth=(\"username\", \"password\"))\n",
        "\n",
        "load_file_dir = \"https://raw.githubusercontent.com/data4knowledge/biomedical_concepts/main/data/\"\n",
        "\n",
        "def clear(tx):\n",
        "    tx.run(\"CALL apoc.periodic.iterate('MATCH (n) RETURN n', 'DETACH DELETE n', {batchSize:1000})\")\n",
        "\n",
        "def file_load(load_files):\n",
        "  with driver.session() as session:\n",
        "    nodes = []\n",
        "    relationships = []\n",
        "    for file_item in load_files:\n",
        "      filename = \"%s%s\" % (load_file_dir, file_item[\"filename\"])#\n",
        "      if \"label\" in file_item:\n",
        "        nodes.append(\"{ fileName: '%s', labels: ['%s'] }\" % (filename, file_item[\"label\"]) )\n",
        "      else:\n",
        "        relationships.append(\"{ fileName: '%s', type: '%s' }\" % (filename, file_item[\"type\"]) )\n",
        "    query = \"\"\"CALL apoc.import.csv( [%s], [%s], {stringIds: false})\"\"\" % (\", \".join(nodes), \", \".join(relationships))\n",
        "    print(query)\n",
        "    result = session.run(query)\n",
        "    print(result)\n",
        "    for record in result:\n",
        "      print(record)\n",
        "  driver.close()\n",
        "\n",
        "with driver.session() as session:\n",
        "    session.write_transaction(clear)\n",
        "driver.close()\n",
        "\n",
        "print(\"Ready ...\")\n"
      ]
    },
    {
      "cell_type": "code",
      "source": [
        "stage_1_files = [ \n",
        "    { \"label\": \"FHIR\", \"filename\": \"stage_1_fhir_nodes.csv\" },\n",
        "    { \"label\": \"WEB_SOURCE\", \"filename\": \"stage_1_web_source_nodes.csv\" },\n",
        "    { \"label\": \"FHIR_DATA_TYPE\", \"filename\": \"stage_1_fhir_data_type_nodes.csv\" },\n",
        "    { \"label\": \"FHIR_DATA_TYPE_PROPERTY\", \"filename\": \"stage_1_fhir_data_type_property_nodes.csv\" },\n",
        "    { \"type\": \"HAS_DATA_TYPE_PROPERTY\", \"filename\": \"stage_1_has_data_type_property_relationships.csv\" },\n",
        "    { \"type\": \"FROM_SOURCE\", \"filename\": \"stage_1_from_source_relationships.csv\" },\n",
        "    { \"type\": \"HAS_DATA_TYPE\", \"filename\": \"stage_1_has_data_type_relationships.csv\" }\n",
        "  ]\n",
        "\n",
        "file_load(stage_1_files)"
      ],
      "metadata": {
        "colab": {
          "base_uri": "https://localhost:8080/"
        },
        "id": "p4ulFrLPkpJl",
        "outputId": "7cf0c0e0-06f2-48e7-808c-81dd4ca15f9e"
      },
      "execution_count": 12,
      "outputs": [
        {
          "output_type": "stream",
          "name": "stdout",
          "text": [
            "CALL apoc.import.csv( [{ fileName: 'https://raw.githubusercontent.com/data4knowledge/biomedical_concepts/main/data/stage_1_fhir_nodes.csv', labels: ['FHIR'] }, { fileName: 'https://raw.githubusercontent.com/data4knowledge/biomedical_concepts/main/data/stage_1_web_source_nodes.csv', labels: ['WEB_SOURCE'] }, { fileName: 'https://raw.githubusercontent.com/data4knowledge/biomedical_concepts/main/data/stage_1_fhir_data_type_nodes.csv', labels: ['FHIR_DATA_TYPE'] }, { fileName: 'https://raw.githubusercontent.com/data4knowledge/biomedical_concepts/main/data/stage_1_fhir_data_type_property_nodes.csv', labels: ['FHIR_DATA_TYPE_PROPERTY'] }], [{ fileName: 'https://raw.githubusercontent.com/data4knowledge/biomedical_concepts/main/data/stage_1_has_data_type_property_relationships.csv', type: 'HAS_DATA_TYPE_PROPERTY' }, { fileName: 'https://raw.githubusercontent.com/data4knowledge/biomedical_concepts/main/data/stage_1_from_source_relationships.csv', type: 'FROM_SOURCE' }, { fileName: 'https://raw.githubusercontent.com/data4knowledge/biomedical_concepts/main/data/stage_1_has_data_type_relationships.csv', type: 'HAS_DATA_TYPE' }], {stringIds: false})\n",
            "<neo4j.work.result.Result object at 0x7f4b63241410>\n",
            "<Record file='progress.csv' source='file' format='csv' nodes=14 relationships=13 properties=53 time=112 rows=0 batchSize=-1 batches=0 done=True data=None>\n"
          ]
        }
      ]
    },
    {
      "cell_type": "markdown",
      "metadata": {
        "id": "y2X4GzLForm7"
      },
      "source": [
        "Now check we have loaded ok. Check the FHIR version, should be 4.0.1"
      ]
    },
    {
      "cell_type": "code",
      "execution_count": 13,
      "metadata": {
        "colab": {
          "base_uri": "https://localhost:8080/"
        },
        "id": "QNsq3ykEnysr",
        "outputId": "eb96dcbf-d07e-498a-f819-4ba8caca015c"
      },
      "outputs": [
        {
          "output_type": "stream",
          "name": "stdout",
          "text": [
            "Version:  4.0.1\n"
          ]
        }
      ],
      "source": [
        "with driver.session() as session:\n",
        "  query = \"\"\"MATCH (n:FHIR) Return n.version as version\"\"\" \n",
        "  result = session.run(query)\n",
        "  for record in result:\n",
        "    print(\"Version: \", record[\"version\"])\n",
        "\n",
        "driver.close()"
      ]
    },
    {
      "cell_type": "code",
      "execution_count": 14,
      "metadata": {
        "colab": {
          "base_uri": "https://localhost:8080/"
        },
        "id": "hklRXVFUKGNK",
        "outputId": "422990e2-ebff-4a13-8540-6b81b83c970b"
      },
      "outputs": [
        {
          "output_type": "stream",
          "name": "stdout",
          "text": [
            "CALL apoc.import.csv( [{ fileName: 'https://raw.githubusercontent.com/data4knowledge/biomedical_concepts/main/data/stage_2_canonical_model_nodes.csv', labels: ['CANONICAL_MODEL'] }, { fileName: 'https://raw.githubusercontent.com/data4knowledge/biomedical_concepts/main/data/stage_2_canonical_node_nodes.csv', labels: ['CANONICAL_NODE'] }, { fileName: 'https://raw.githubusercontent.com/data4knowledge/biomedical_concepts/main/data/stage_2_canonical_data_type_nodes.csv', labels: ['CANONICAL_DATA_TYPE'] }, { fileName: 'https://raw.githubusercontent.com/data4knowledge/biomedical_concepts/main/data/stage_2_other_source_nodes.csv', labels: ['OTHER_SOURCE'] }], [{ fileName: 'https://raw.githubusercontent.com/data4knowledge/biomedical_concepts/main/data/stage_2_consists_of_relationships.csv', type: 'CONSISTS_OF' }, { fileName: 'https://raw.githubusercontent.com/data4knowledge/biomedical_concepts/main/data/stage_2_from_source_relationships.csv', type: 'FROM_SOURCE' }, { fileName: 'https://raw.githubusercontent.com/data4knowledge/biomedical_concepts/main/data/stage_2_has_sub_model_relationships.csv', type: 'HAS_SUB_MODEL' }, { fileName: 'https://raw.githubusercontent.com/data4knowledge/biomedical_concepts/main/data/stage_2_has_data_type_relationships.csv', type: 'HAS_DATA_TYPE' }], {stringIds: false})\n",
            "<neo4j.work.result.Result object at 0x7f4b6323e5d0>\n",
            "<Record file='progress.csv' source='file' format='csv' nodes=85 relationships=92 properties=255 time=971 rows=0 batchSize=-1 batches=0 done=True data=None>\n"
          ]
        }
      ],
      "source": [
        "stage_2_files = [ \n",
        "    { \"label\": \"CANONICAL_MODEL\", \"filename\": \"stage_2_canonical_model_nodes.csv\" },\n",
        "    { \"label\": \"CANONICAL_NODE\", \"filename\": \"stage_2_canonical_node_nodes.csv\" },\n",
        "    { \"label\": \"CANONICAL_DATA_TYPE\", \"filename\": \"stage_2_canonical_data_type_nodes.csv\" },\n",
        "    { \"label\": \"OTHER_SOURCE\", \"filename\": \"stage_2_other_source_nodes.csv\" },\n",
        "    { \"type\": \"CONSISTS_OF\", \"filename\": \"stage_2_consists_of_relationships.csv\" },\n",
        "    { \"type\": \"FROM_SOURCE\", \"filename\": \"stage_2_from_source_relationships.csv\" },\n",
        "    { \"type\": \"HAS_SUB_MODEL\", \"filename\": \"stage_2_has_sub_model_relationships.csv\" },\n",
        "    { \"type\": \"HAS_DATA_TYPE\", \"filename\": \"stage_2_has_data_type_relationships.csv\" }\n",
        "]\n",
        "\n",
        "file_load(stage_2_files)"
      ]
    },
    {
      "cell_type": "markdown",
      "metadata": {
        "id": "592LExsq_Su0"
      },
      "source": [
        "Check a few relationships exist in the canonical model. Should get three results.\n",
        "\n",
        "* THERAPEUTIC INTERVENTION\n",
        "* OBSERVATION\n",
        "* ADVERSE EVENT\n",
        "\n"
      ]
    },
    {
      "cell_type": "code",
      "execution_count": 15,
      "metadata": {
        "colab": {
          "base_uri": "https://localhost:8080/"
        },
        "id": "Xn5dPGqB_Xj6",
        "outputId": "b2031f3e-c419-44ea-81fa-9a3f828b6d93"
      },
      "outputs": [
        {
          "output_type": "stream",
          "name": "stdout",
          "text": [
            "CANONICAL MODEL -> ADVERSE EVENT -> Location: \n",
            "CANONICAL MODEL -> THERAPEUTIC INTERVENTION -> Location: \n",
            "CANONICAL MODEL -> OBSERVATION -> Location: \n"
          ]
        }
      ],
      "source": [
        "with driver.session() as session:\n",
        "  query = \"\"\"MATCH (r)-[]->(t)-[]->(n:CANONICAL_NODE) WHERE n.name=\"LOCATION\" RETURN r.name as root_name, t.name as name\"\"\" \n",
        "  result = session.run(query)\n",
        "  for record in result:\n",
        "    print(\"%s -> %s -> Location: \" % (record[\"root_name\"], record[\"name\"]))\n",
        "\n",
        "driver.close()"
      ]
    },
    {
      "cell_type": "markdown",
      "source": [
        "Now link the canonical nodes and the data types using the name as the key."
      ],
      "metadata": {
        "id": "7jVCaoeWtLjw"
      }
    },
    {
      "cell_type": "code",
      "source": [
        "with driver.session() as session:\n",
        "  query = \"\"\"MATCH (n:CANONICAL_NODE)-[]->(m:CANONICAL_DATA_TYPE) RETURN m.uri as uri\"\"\" \n",
        "  result = session.run(query)\n",
        "  for record in result:\n",
        "    print(record[\"uri\"])\n",
        "    query = \"\"\"MATCH (n:CANONICAL_DATA_TYPE{uri:'%s'})\n",
        "      WITH n\n",
        "      MATCH (dt:FHIR_DATA_TYPE{name: n.data_type})\n",
        "      CREATE (n)-[:IS_A]->(dt)\n",
        "      RETURN n.data_type as cn_name, dt.name as dt_name;\n",
        "    \"\"\" % (record[\"uri\"])\n",
        "    inner_result = session.run(query)\n",
        "    for inner_record in inner_result:\n",
        "      print(\"%s, %s linked\" % (inner_record[\"cn_name\"], inner_record[\"dt_name\"]))\n",
        "\n",
        "driver.close()"
      ],
      "metadata": {
        "id": "3X3RfadUrvAP",
        "colab": {
          "base_uri": "https://localhost:8080/"
        },
        "outputId": "503bb0c8-80c7-498c-af94-d9b646d9fb88"
      },
      "execution_count": 16,
      "outputs": [
        {
          "output_type": "stream",
          "name": "stdout",
          "text": [
            "http://id.d4k.dk/dataset/canonical/n8/coding\n",
            "coding, coding linked\n",
            "http://id.d4k.dk/dataset/canonical/n9/coding\n",
            "coding, coding linked\n",
            "http://id.d4k.dk/dataset/canonical/n18/coding\n",
            "coding, coding linked\n"
          ]
        }
      ]
    },
    {
      "cell_type": "markdown",
      "metadata": {
        "id": "x1ws1F7zpwdN"
      },
      "source": [
        "Now create the data type nodes for the canonical mode. For each canonical node that references a data type copy the properties for that data type to the canonical node. Give each canonical leaf a unique id. These nodes should also have a C code reference providig a definition for the data item.\n"
      ]
    },
    {
      "cell_type": "code",
      "execution_count": 17,
      "metadata": {
        "colab": {
          "base_uri": "https://localhost:8080/"
        },
        "id": "-EBgVQrPqDIe",
        "outputId": "83e30c9e-80ee-45e7-bbfc-a346ac448ea7"
      },
      "outputs": [
        {
          "output_type": "stream",
          "name": "stdout",
          "text": [
            "Duplicated for:  http://id.d4k.dk/dataset/canonical/n8/coding\n",
            "Duplicated for:  http://id.d4k.dk/dataset/canonical/n9/coding\n",
            "Duplicated for:  http://id.d4k.dk/dataset/canonical/n18/coding\n",
            "URIs set.\n"
          ]
        }
      ],
      "source": [
        "uri_data = []\n",
        "with driver.session() as session:\n",
        "  query = \"\"\"MATCH (n:CANONICAL_DATA_TYPE)-[:IS_A]->(dt:FHIR_DATA_TYPE) RETURN n.uri as canonical, dt.uri as data_type\"\"\" \n",
        "  result = session.run(query)\n",
        "  for record in result:\n",
        "    query = \"\"\"MATCH (n:CANONICAL_DATA_TYPE{uri:'%s'}), (dt:FHIR_DATA_TYPE{uri:'%s'})\n",
        "      CALL apoc.path.subgraphAll(dt, {relationshipFilter:'HAS_DATA_TYPE_PROPERTY>'})\n",
        "      YIELD nodes, relationships\n",
        "      CALL apoc.refactor.cloneSubgraph(\n",
        "        nodes,\n",
        "        [rel in relationships WHERE type(rel) = 'HAS_DATA_TYPE_PROPERTY'],\n",
        "        { standinNodes:[[dt, n]] })\n",
        "      YIELD input, output, error\n",
        "      RETURN output;\n",
        "    \"\"\" % (record[\"canonical\"], record[\"data_type\"])\n",
        "    inner_result = session.run(query)\n",
        "    for inner_record in inner_result:\n",
        "      node = inner_record[\"output\"]\n",
        "      uri_data.append({\"id\": node.id, \"uri\": \"%s#%s\" % (record[\"canonical\"], node[\"name\"]) })\n",
        "    print (\"Duplicated for: \", record[\"canonical\"])\n",
        "\n",
        "driver.close()\n",
        "\n",
        "with driver.session() as session:\n",
        "  query = \"\"\"UNWIND $uri_data AS d\n",
        "    MATCH (n) WHERE ID(n)=d.id\n",
        "    SET n.uri = d.uri;\"\"\" \n",
        "  result = session.run(query, uri_data=uri_data)\n",
        "driver.close()\n",
        "print (\"URIs set.\")\n",
        "\n"
      ]
    },
    {
      "cell_type": "code",
      "execution_count": 18,
      "metadata": {
        "id": "nZ8TGB5bLzuR",
        "colab": {
          "base_uri": "https://localhost:8080/"
        },
        "outputId": "d55f57a8-7761-4c86-c4bd-ed76673f9df2"
      },
      "outputs": [
        {
          "output_type": "stream",
          "name": "stdout",
          "text": [
            "CALL apoc.import.csv( [{ fileName: 'https://raw.githubusercontent.com/data4knowledge/biomedical_concepts/main/data/stage_3_api_source_nodes.csv', labels: ['API_SOURCE'] }, { fileName: 'https://raw.githubusercontent.com/data4knowledge/biomedical_concepts/main/data/stage_3_skos_concept_nodes.csv', labels: ['SKOS_CONCEPT'] }, { fileName: 'https://raw.githubusercontent.com/data4knowledge/biomedical_concepts/main/data/stage_3_skos_concept_scheme_nodes.csv', labels: ['SKOS_CONCEPT_SCHEME'] }], [{ fileName: 'https://raw.githubusercontent.com/data4knowledge/biomedical_concepts/main/data/stage_3_from_source_relationships.csv', type: 'FROM_SOURCE' }, { fileName: 'https://raw.githubusercontent.com/data4knowledge/biomedical_concepts/main/data/stage_3_skos_has_top_concept_relationships.csv', type: 'SKOS_HAS_TOP_CONCEPT' }, { fileName: 'https://raw.githubusercontent.com/data4knowledge/biomedical_concepts/main/data/stage_3_skos_narrower_relationships.csv', type: 'SKOS_NARROWER' }], {stringIds: false})\n",
            "<neo4j.work.result.Result object at 0x7f4b63258050>\n",
            "<Record file='progress.csv' source='file' format='csv' nodes=36788 relationships=36787 properties=331086 time=13669 rows=0 batchSize=-1 batches=0 done=True data=None>\n"
          ]
        }
      ],
      "source": [
        "stage_3_files = [ \n",
        "    { \"label\": \"API_SOURCE\", \"filename\": \"stage_3_api_source_nodes.csv\" },\n",
        "    { \"label\": \"SKOS_CONCEPT\", \"filename\": \"stage_3_skos_concept_nodes.csv\" },\n",
        "    { \"label\": \"SKOS_CONCEPT_SCHEME\", \"filename\": \"stage_3_skos_concept_scheme_nodes.csv\" },\n",
        "    { \"type\": \"FROM_SOURCE\", \"filename\": \"stage_3_from_source_relationships.csv\" },\n",
        "    { \"type\": \"SKOS_HAS_TOP_CONCEPT\", \"filename\": \"stage_3_skos_has_top_concept_relationships.csv\" },\n",
        "    { \"type\": \"SKOS_NARROWER\", \"filename\": \"stage_3_skos_narrower_relationships.csv\" }\n",
        "  ]\n",
        "\n",
        "file_load(stage_3_files)\n"
      ]
    },
    {
      "cell_type": "markdown",
      "source": [
        "Do a quick test on the CT. Check AGEU and its links"
      ],
      "metadata": {
        "id": "QiRuZP8IAQRA"
      }
    },
    {
      "cell_type": "code",
      "source": [
        "with driver.session() as session:\n",
        "  query = \"\"\"MATCH (cs)-[]->(c1:SKOS_CONCEPT)-[]->(c2) WHERE c1.notation = 'AGEU' RETURN DISTINCT cs.version as version, c1.identifier as cl_identifier, c2.identifier as cli_identifier, c2.notation as cli_notation\"\"\" \n",
        "  result = session.run(query, uri_data=uri_data)\n",
        "  for record in result:\n",
        "    print (\"%s: %s, %s, %s\" % (record[\"version\"], record[\"cl_identifier\"], record[\"cli_identifier\"], record[\"cli_notation\"]))\n",
        "driver.close()\n"
      ],
      "metadata": {
        "colab": {
          "base_uri": "https://localhost:8080/"
        },
        "id": "OsWcQe73_m5E",
        "outputId": "6dd58122-a5a1-4fd8-b627-3214e4c522ab"
      },
      "execution_count": 19,
      "outputs": [
        {
          "output_type": "stream",
          "name": "stdout",
          "text": [
            "2021-12-17: C66781, C29844, WEEKS\n",
            "2021-12-17: C66781, C25529, HOURS\n",
            "2021-12-17: C66781, C29848, YEARS\n",
            "2021-12-17: C66781, C29846, MONTHS\n",
            "2021-12-17: C66781, C25301, DAYS\n"
          ]
        }
      ]
    },
    {
      "cell_type": "markdown",
      "source": [
        "Stage 4 to 9 are the CT files for the other areas, ADaM, Protocol, CDASH etc. Not loaded at the moment. Needed to split due to size and limited RAM on the Neo4j server."
      ],
      "metadata": {
        "id": "ra9rORPF_XTs"
      }
    },
    {
      "cell_type": "code",
      "source": [
        "stage_10_files = [ \n",
        "    { \"label\": \"OTHER_SOURCE\", \"filename\": \"stage_10_other_source_nodes.csv\" },\n",
        "    { \"label\": \"BC_DATA_TYPE\", \"filename\": \"stage_10_bc_data_type_nodes.csv\" },\n",
        "    { \"label\": \"BC_ITEM\", \"filename\": \"stage_10_bc_item_nodes.csv\" },\n",
        "    { \"label\": \"BC_TEMPLATE\", \"filename\": \"stage_10_bc_template_nodes.csv\" },\n",
        "    { \"type\": \"FROM_SOURCE\", \"filename\": \"stage_10_from_source_relationships.csv\" },\n",
        "    { \"type\": \"HAS_DATA_TYPE\", \"filename\": \"stage_10_has_data_type_relationships.csv\" },\n",
        "    { \"type\": \"HAS_IDENTIFIER\", \"filename\": \"stage_10_has_identifier_relationships.csv\" },\n",
        "    { \"type\": \"HAS_ITEM\", \"filename\": \"stage_10_has_item_relationships.csv\" }\n",
        "  ]\n",
        "\n",
        "file_load(stage_10_files)"
      ],
      "metadata": {
        "colab": {
          "base_uri": "https://localhost:8080/"
        },
        "id": "95FBnpzp9T5z",
        "outputId": "02ad7b9a-d480-47ff-dae7-68b5d439b8f9"
      },
      "execution_count": 20,
      "outputs": [
        {
          "output_type": "stream",
          "name": "stdout",
          "text": [
            "CALL apoc.import.csv( [{ fileName: 'https://raw.githubusercontent.com/data4knowledge/biomedical_concepts/main/data/stage_10_other_source_nodes.csv', labels: ['OTHER_SOURCE'] }, { fileName: 'https://raw.githubusercontent.com/data4knowledge/biomedical_concepts/main/data/stage_10_bc_data_type_nodes.csv', labels: ['BC_DATA_TYPE'] }, { fileName: 'https://raw.githubusercontent.com/data4knowledge/biomedical_concepts/main/data/stage_10_bc_item_nodes.csv', labels: ['BC_ITEM'] }, { fileName: 'https://raw.githubusercontent.com/data4knowledge/biomedical_concepts/main/data/stage_10_bc_template_nodes.csv', labels: ['BC_TEMPLATE'] }], [{ fileName: 'https://raw.githubusercontent.com/data4knowledge/biomedical_concepts/main/data/stage_10_from_source_relationships.csv', type: 'FROM_SOURCE' }, { fileName: 'https://raw.githubusercontent.com/data4knowledge/biomedical_concepts/main/data/stage_10_has_data_type_relationships.csv', type: 'HAS_DATA_TYPE' }, { fileName: 'https://raw.githubusercontent.com/data4knowledge/biomedical_concepts/main/data/stage_10_has_identifier_relationships.csv', type: 'HAS_IDENTIFIER' }, { fileName: 'https://raw.githubusercontent.com/data4knowledge/biomedical_concepts/main/data/stage_10_has_item_relationships.csv', type: 'HAS_ITEM' }], {stringIds: false})\n",
            "<neo4j.work.result.Result object at 0x7f4b63241b90>\n",
            "<Record file='progress.csv' source='file' format='csv' nodes=37 relationships=38 properties=143 time=699 rows=0 batchSize=-1 batches=0 done=True data=None>\n"
          ]
        }
      ]
    },
    {
      "cell_type": "markdown",
      "source": [
        "Now add in the data types notes for the templates. Copy from the data types to the templates "
      ],
      "metadata": {
        "id": "E0GmZ2_7IffV"
      }
    },
    {
      "cell_type": "code",
      "source": [
        "with driver.session() as session:\n",
        "  query = \"\"\"MATCH (m:BC_DATA_TYPE) RETURN m.uri as uri\"\"\" \n",
        "  result = session.run(query)\n",
        "  for record in result:\n",
        "    print(record[\"uri\"])\n",
        "    query = \"\"\"MATCH (n:BC_DATA_TYPE{uri:'%s'})\n",
        "      WITH n\n",
        "      MATCH (dt:FHIR_DATA_TYPE{name: n.name})\n",
        "      CREATE (n)-[:IS_A]->(dt)\n",
        "      RETURN n.name as bc_name, dt.name as dt_name;\n",
        "    \"\"\" % (record[\"uri\"])\n",
        "    inner_result = session.run(query)\n",
        "    for inner_record in inner_result:\n",
        "      print(\"%s, %s linked\" % (inner_record[\"bc_name\"], inner_record[\"dt_name\"]))\n",
        "\n",
        "driver.close()\n",
        "\n",
        "uri_data = []\n",
        "with driver.session() as session:\n",
        "  query = \"\"\"MATCH (n:BC_DATA_TYPE)-[:IS_A]->(dt:FHIR_DATA_TYPE) RETURN n.uri as bc_data_type, dt.uri as data_type\"\"\" \n",
        "  result = session.run(query)\n",
        "  for record in result:\n",
        "    query = \"\"\"MATCH (n:BC_DATA_TYPE{uri:'%s'}), (dt:FHIR_DATA_TYPE{uri:'%s'})\n",
        "      CALL apoc.path.subgraphAll(dt, {relationshipFilter:'HAS_DATA_TYPE_PROPERTY>'})\n",
        "      YIELD nodes, relationships\n",
        "      CALL apoc.refactor.cloneSubgraph(\n",
        "        nodes,\n",
        "        [rel in relationships WHERE type(rel) = 'HAS_DATA_TYPE_PROPERTY'],\n",
        "        { standinNodes:[[dt, n]] })\n",
        "      YIELD input, output, error\n",
        "      RETURN output;\n",
        "    \"\"\" % (record[\"bc_data_type\"], record[\"data_type\"])\n",
        "    inner_result = session.run(query)\n",
        "    for inner_record in inner_result:\n",
        "      node = inner_record[\"output\"]\n",
        "      print(node)\n",
        "      uri_data.append({\"id\": node.id, \"uri\": \"%s#%s\" % (record[\"bc_data_type\"], node[\"name\"]) })\n",
        "    print (\"Duplicated for: \", record[\"bc_data_type\"])\n",
        "\n",
        "driver.close()\n",
        "\n",
        "with driver.session() as session:\n",
        "  query = \"\"\"UNWIND $uri_data AS d\n",
        "    MATCH (n) WHERE ID(n)=d.id\n",
        "    SET n.uri = d.uri;\"\"\" \n",
        "  result = session.run(query, uri_data=uri_data)\n",
        "driver.close()\n",
        "print (\"URIs set.\")"
      ],
      "metadata": {
        "colab": {
          "base_uri": "https://localhost:8080/"
        },
        "id": "iCWSwyC5GLdm",
        "outputId": "ea8004b7-c19d-4c58-b254-258b51a0cd69"
      },
      "execution_count": 21,
      "outputs": [
        {
          "output_type": "stream",
          "name": "stdout",
          "text": [
            "http://id.d4k.dk/dataset/bc_template/base_observation/test/coding\n",
            "coding, coding linked\n",
            "http://id.d4k.dk/dataset/bc_template/base_observation/position/coding\n",
            "coding, coding linked\n",
            "http://id.d4k.dk/dataset/bc_template/base_observation/site_of_administration/coding\n",
            "coding, coding linked\n",
            "http://id.d4k.dk/dataset/bc_template/base_observation/laterality/coding\n",
            "coding, coding linked\n",
            "http://id.d4k.dk/dataset/bc_template/base_observation/method/coding\n",
            "coding, coding linked\n",
            "http://id.d4k.dk/dataset/bc_template/base_observation/date_time/datetime\n",
            "http://id.d4k.dk/dataset/bc_template/base_observation/result/quantity\n",
            "quantity, quantity linked\n",
            "http://id.d4k.dk/dataset/bc_template/base_observation/result/coding\n",
            "coding, coding linked\n",
            "http://id.d4k.dk/dataset/bc_template/base_laboratory/test/coding\n",
            "coding, coding linked\n",
            "http://id.d4k.dk/dataset/bc_template/base_laboratory/position/coding\n",
            "coding, coding linked\n",
            "http://id.d4k.dk/dataset/bc_template/base_laboratory/site_of_administration/coding\n",
            "coding, coding linked\n",
            "http://id.d4k.dk/dataset/bc_template/base_laboratory/laterality/coding\n",
            "coding, coding linked\n",
            "http://id.d4k.dk/dataset/bc_template/base_laboratory/directionality/coding\n",
            "coding, coding linked\n",
            "http://id.d4k.dk/dataset/bc_template/base_laboratory/method/coding\n",
            "coding, coding linked\n",
            "http://id.d4k.dk/dataset/bc_template/base_laboratory/date_time/datetime\n",
            "http://id.d4k.dk/dataset/bc_template/base_laboratory/result/quantity\n",
            "quantity, quantity linked\n",
            "http://id.d4k.dk/dataset/bc_template/base_laboratory/result/coding\n",
            "coding, coding linked\n",
            "http://id.d4k.dk/dataset/bc_template/base_laboratory/specimen/coding\n",
            "coding, coding linked\n",
            "<Node id=140368 labels=frozenset({'FHIR_DATA_TYPE_PROPERTY'}) properties={'name': 'display', 'simple_data_type': 'string', 'id': 11, 'uri': 'http://id.d4k.dk/dataset/hl7/fhir/datatypes#coding_display'}>\n",
            "<Node id=140369 labels=frozenset({'FHIR_DATA_TYPE_PROPERTY'}) properties={'name': 'code', 'simple_data_type': 'code', 'id': 13, 'uri': 'http://id.d4k.dk/dataset/hl7/fhir/datatypes#coding_code'}>\n",
            "<Node id=140370 labels=frozenset({'FHIR_DATA_TYPE_PROPERTY'}) properties={'name': 'system', 'simple_data_type': 'string', 'id': 10, 'uri': 'http://id.d4k.dk/dataset/hl7/fhir/datatypes#coding_system'}>\n",
            "<Node id=140371 labels=frozenset({'FHIR_DATA_TYPE_PROPERTY'}) properties={'name': 'version', 'simple_data_type': 'string', 'id': 14, 'uri': 'http://id.d4k.dk/dataset/hl7/fhir/datatypes#coding_version'}>\n",
            "<Node id=140372 labels=frozenset({'FHIR_DATA_TYPE_PROPERTY'}) properties={'name': 'user_selected', 'simple_data_type': 'boolean', 'id': 12, 'uri': 'http://id.d4k.dk/dataset/hl7/fhir/datatypes#coding_user_selected'}>\n",
            "Duplicated for:  http://id.d4k.dk/dataset/bc_template/base_laboratory/specimen/coding\n",
            "<Node id=140373 labels=frozenset({'FHIR_DATA_TYPE_PROPERTY'}) properties={'name': 'display', 'simple_data_type': 'string', 'id': 11, 'uri': 'http://id.d4k.dk/dataset/hl7/fhir/datatypes#coding_display'}>\n",
            "<Node id=140374 labels=frozenset({'FHIR_DATA_TYPE_PROPERTY'}) properties={'name': 'code', 'simple_data_type': 'code', 'id': 13, 'uri': 'http://id.d4k.dk/dataset/hl7/fhir/datatypes#coding_code'}>\n",
            "<Node id=140375 labels=frozenset({'FHIR_DATA_TYPE_PROPERTY'}) properties={'name': 'system', 'simple_data_type': 'string', 'id': 10, 'uri': 'http://id.d4k.dk/dataset/hl7/fhir/datatypes#coding_system'}>\n",
            "<Node id=140376 labels=frozenset({'FHIR_DATA_TYPE_PROPERTY'}) properties={'name': 'version', 'simple_data_type': 'string', 'id': 14, 'uri': 'http://id.d4k.dk/dataset/hl7/fhir/datatypes#coding_version'}>\n",
            "<Node id=140377 labels=frozenset({'FHIR_DATA_TYPE_PROPERTY'}) properties={'name': 'user_selected', 'simple_data_type': 'boolean', 'id': 12, 'uri': 'http://id.d4k.dk/dataset/hl7/fhir/datatypes#coding_user_selected'}>\n",
            "Duplicated for:  http://id.d4k.dk/dataset/bc_template/base_laboratory/result/coding\n",
            "<Node id=140378 labels=frozenset({'FHIR_DATA_TYPE_PROPERTY'}) properties={'name': 'display', 'simple_data_type': 'string', 'id': 11, 'uri': 'http://id.d4k.dk/dataset/hl7/fhir/datatypes#coding_display'}>\n",
            "<Node id=140379 labels=frozenset({'FHIR_DATA_TYPE_PROPERTY'}) properties={'name': 'code', 'simple_data_type': 'code', 'id': 13, 'uri': 'http://id.d4k.dk/dataset/hl7/fhir/datatypes#coding_code'}>\n",
            "<Node id=140380 labels=frozenset({'FHIR_DATA_TYPE_PROPERTY'}) properties={'name': 'system', 'simple_data_type': 'string', 'id': 10, 'uri': 'http://id.d4k.dk/dataset/hl7/fhir/datatypes#coding_system'}>\n",
            "<Node id=140381 labels=frozenset({'FHIR_DATA_TYPE_PROPERTY'}) properties={'name': 'version', 'simple_data_type': 'string', 'id': 14, 'uri': 'http://id.d4k.dk/dataset/hl7/fhir/datatypes#coding_version'}>\n",
            "<Node id=140382 labels=frozenset({'FHIR_DATA_TYPE_PROPERTY'}) properties={'name': 'user_selected', 'simple_data_type': 'boolean', 'id': 12, 'uri': 'http://id.d4k.dk/dataset/hl7/fhir/datatypes#coding_user_selected'}>\n",
            "Duplicated for:  http://id.d4k.dk/dataset/bc_template/base_laboratory/method/coding\n",
            "<Node id=140383 labels=frozenset({'FHIR_DATA_TYPE_PROPERTY'}) properties={'name': 'display', 'simple_data_type': 'string', 'id': 11, 'uri': 'http://id.d4k.dk/dataset/hl7/fhir/datatypes#coding_display'}>\n",
            "<Node id=140384 labels=frozenset({'FHIR_DATA_TYPE_PROPERTY'}) properties={'name': 'code', 'simple_data_type': 'code', 'id': 13, 'uri': 'http://id.d4k.dk/dataset/hl7/fhir/datatypes#coding_code'}>\n",
            "<Node id=140385 labels=frozenset({'FHIR_DATA_TYPE_PROPERTY'}) properties={'name': 'system', 'simple_data_type': 'string', 'id': 10, 'uri': 'http://id.d4k.dk/dataset/hl7/fhir/datatypes#coding_system'}>\n",
            "<Node id=140386 labels=frozenset({'FHIR_DATA_TYPE_PROPERTY'}) properties={'name': 'version', 'simple_data_type': 'string', 'id': 14, 'uri': 'http://id.d4k.dk/dataset/hl7/fhir/datatypes#coding_version'}>\n",
            "<Node id=140387 labels=frozenset({'FHIR_DATA_TYPE_PROPERTY'}) properties={'name': 'user_selected', 'simple_data_type': 'boolean', 'id': 12, 'uri': 'http://id.d4k.dk/dataset/hl7/fhir/datatypes#coding_user_selected'}>\n",
            "Duplicated for:  http://id.d4k.dk/dataset/bc_template/base_laboratory/directionality/coding\n",
            "<Node id=140388 labels=frozenset({'FHIR_DATA_TYPE_PROPERTY'}) properties={'name': 'display', 'simple_data_type': 'string', 'id': 11, 'uri': 'http://id.d4k.dk/dataset/hl7/fhir/datatypes#coding_display'}>\n",
            "<Node id=140389 labels=frozenset({'FHIR_DATA_TYPE_PROPERTY'}) properties={'name': 'code', 'simple_data_type': 'code', 'id': 13, 'uri': 'http://id.d4k.dk/dataset/hl7/fhir/datatypes#coding_code'}>\n",
            "<Node id=140390 labels=frozenset({'FHIR_DATA_TYPE_PROPERTY'}) properties={'name': 'system', 'simple_data_type': 'string', 'id': 10, 'uri': 'http://id.d4k.dk/dataset/hl7/fhir/datatypes#coding_system'}>\n",
            "<Node id=140391 labels=frozenset({'FHIR_DATA_TYPE_PROPERTY'}) properties={'name': 'version', 'simple_data_type': 'string', 'id': 14, 'uri': 'http://id.d4k.dk/dataset/hl7/fhir/datatypes#coding_version'}>\n",
            "<Node id=140392 labels=frozenset({'FHIR_DATA_TYPE_PROPERTY'}) properties={'name': 'user_selected', 'simple_data_type': 'boolean', 'id': 12, 'uri': 'http://id.d4k.dk/dataset/hl7/fhir/datatypes#coding_user_selected'}>\n",
            "Duplicated for:  http://id.d4k.dk/dataset/bc_template/base_laboratory/laterality/coding\n",
            "<Node id=140393 labels=frozenset({'FHIR_DATA_TYPE_PROPERTY'}) properties={'name': 'display', 'simple_data_type': 'string', 'id': 11, 'uri': 'http://id.d4k.dk/dataset/hl7/fhir/datatypes#coding_display'}>\n",
            "<Node id=140394 labels=frozenset({'FHIR_DATA_TYPE_PROPERTY'}) properties={'name': 'code', 'simple_data_type': 'code', 'id': 13, 'uri': 'http://id.d4k.dk/dataset/hl7/fhir/datatypes#coding_code'}>\n",
            "<Node id=140395 labels=frozenset({'FHIR_DATA_TYPE_PROPERTY'}) properties={'name': 'system', 'simple_data_type': 'string', 'id': 10, 'uri': 'http://id.d4k.dk/dataset/hl7/fhir/datatypes#coding_system'}>\n",
            "<Node id=140396 labels=frozenset({'FHIR_DATA_TYPE_PROPERTY'}) properties={'name': 'version', 'simple_data_type': 'string', 'id': 14, 'uri': 'http://id.d4k.dk/dataset/hl7/fhir/datatypes#coding_version'}>\n",
            "<Node id=140397 labels=frozenset({'FHIR_DATA_TYPE_PROPERTY'}) properties={'name': 'user_selected', 'simple_data_type': 'boolean', 'id': 12, 'uri': 'http://id.d4k.dk/dataset/hl7/fhir/datatypes#coding_user_selected'}>\n",
            "Duplicated for:  http://id.d4k.dk/dataset/bc_template/base_laboratory/site_of_administration/coding\n",
            "<Node id=140398 labels=frozenset({'FHIR_DATA_TYPE_PROPERTY'}) properties={'name': 'display', 'simple_data_type': 'string', 'id': 11, 'uri': 'http://id.d4k.dk/dataset/hl7/fhir/datatypes#coding_display'}>\n",
            "<Node id=140399 labels=frozenset({'FHIR_DATA_TYPE_PROPERTY'}) properties={'name': 'code', 'simple_data_type': 'code', 'id': 13, 'uri': 'http://id.d4k.dk/dataset/hl7/fhir/datatypes#coding_code'}>\n",
            "<Node id=140400 labels=frozenset({'FHIR_DATA_TYPE_PROPERTY'}) properties={'name': 'system', 'simple_data_type': 'string', 'id': 10, 'uri': 'http://id.d4k.dk/dataset/hl7/fhir/datatypes#coding_system'}>\n",
            "<Node id=140401 labels=frozenset({'FHIR_DATA_TYPE_PROPERTY'}) properties={'name': 'version', 'simple_data_type': 'string', 'id': 14, 'uri': 'http://id.d4k.dk/dataset/hl7/fhir/datatypes#coding_version'}>\n",
            "<Node id=140402 labels=frozenset({'FHIR_DATA_TYPE_PROPERTY'}) properties={'name': 'user_selected', 'simple_data_type': 'boolean', 'id': 12, 'uri': 'http://id.d4k.dk/dataset/hl7/fhir/datatypes#coding_user_selected'}>\n",
            "Duplicated for:  http://id.d4k.dk/dataset/bc_template/base_laboratory/position/coding\n",
            "<Node id=140403 labels=frozenset({'FHIR_DATA_TYPE_PROPERTY'}) properties={'name': 'display', 'simple_data_type': 'string', 'id': 11, 'uri': 'http://id.d4k.dk/dataset/hl7/fhir/datatypes#coding_display'}>\n",
            "<Node id=140404 labels=frozenset({'FHIR_DATA_TYPE_PROPERTY'}) properties={'name': 'code', 'simple_data_type': 'code', 'id': 13, 'uri': 'http://id.d4k.dk/dataset/hl7/fhir/datatypes#coding_code'}>\n",
            "<Node id=140405 labels=frozenset({'FHIR_DATA_TYPE_PROPERTY'}) properties={'name': 'system', 'simple_data_type': 'string', 'id': 10, 'uri': 'http://id.d4k.dk/dataset/hl7/fhir/datatypes#coding_system'}>\n",
            "<Node id=140406 labels=frozenset({'FHIR_DATA_TYPE_PROPERTY'}) properties={'name': 'version', 'simple_data_type': 'string', 'id': 14, 'uri': 'http://id.d4k.dk/dataset/hl7/fhir/datatypes#coding_version'}>\n",
            "<Node id=140407 labels=frozenset({'FHIR_DATA_TYPE_PROPERTY'}) properties={'name': 'user_selected', 'simple_data_type': 'boolean', 'id': 12, 'uri': 'http://id.d4k.dk/dataset/hl7/fhir/datatypes#coding_user_selected'}>\n",
            "Duplicated for:  http://id.d4k.dk/dataset/bc_template/base_laboratory/test/coding\n",
            "<Node id=140408 labels=frozenset({'FHIR_DATA_TYPE_PROPERTY'}) properties={'name': 'display', 'simple_data_type': 'string', 'id': 11, 'uri': 'http://id.d4k.dk/dataset/hl7/fhir/datatypes#coding_display'}>\n",
            "<Node id=140409 labels=frozenset({'FHIR_DATA_TYPE_PROPERTY'}) properties={'name': 'code', 'simple_data_type': 'code', 'id': 13, 'uri': 'http://id.d4k.dk/dataset/hl7/fhir/datatypes#coding_code'}>\n",
            "<Node id=140410 labels=frozenset({'FHIR_DATA_TYPE_PROPERTY'}) properties={'name': 'system', 'simple_data_type': 'string', 'id': 10, 'uri': 'http://id.d4k.dk/dataset/hl7/fhir/datatypes#coding_system'}>\n",
            "<Node id=140411 labels=frozenset({'FHIR_DATA_TYPE_PROPERTY'}) properties={'name': 'version', 'simple_data_type': 'string', 'id': 14, 'uri': 'http://id.d4k.dk/dataset/hl7/fhir/datatypes#coding_version'}>\n",
            "<Node id=140412 labels=frozenset({'FHIR_DATA_TYPE_PROPERTY'}) properties={'name': 'user_selected', 'simple_data_type': 'boolean', 'id': 12, 'uri': 'http://id.d4k.dk/dataset/hl7/fhir/datatypes#coding_user_selected'}>\n",
            "Duplicated for:  http://id.d4k.dk/dataset/bc_template/base_observation/result/coding\n",
            "<Node id=140413 labels=frozenset({'FHIR_DATA_TYPE_PROPERTY'}) properties={'name': 'display', 'simple_data_type': 'string', 'id': 11, 'uri': 'http://id.d4k.dk/dataset/hl7/fhir/datatypes#coding_display'}>\n",
            "<Node id=140414 labels=frozenset({'FHIR_DATA_TYPE_PROPERTY'}) properties={'name': 'code', 'simple_data_type': 'code', 'id': 13, 'uri': 'http://id.d4k.dk/dataset/hl7/fhir/datatypes#coding_code'}>\n",
            "<Node id=140415 labels=frozenset({'FHIR_DATA_TYPE_PROPERTY'}) properties={'name': 'system', 'simple_data_type': 'string', 'id': 10, 'uri': 'http://id.d4k.dk/dataset/hl7/fhir/datatypes#coding_system'}>\n",
            "<Node id=140416 labels=frozenset({'FHIR_DATA_TYPE_PROPERTY'}) properties={'name': 'version', 'simple_data_type': 'string', 'id': 14, 'uri': 'http://id.d4k.dk/dataset/hl7/fhir/datatypes#coding_version'}>\n",
            "<Node id=140417 labels=frozenset({'FHIR_DATA_TYPE_PROPERTY'}) properties={'name': 'user_selected', 'simple_data_type': 'boolean', 'id': 12, 'uri': 'http://id.d4k.dk/dataset/hl7/fhir/datatypes#coding_user_selected'}>\n",
            "Duplicated for:  http://id.d4k.dk/dataset/bc_template/base_observation/method/coding\n",
            "<Node id=140418 labels=frozenset({'FHIR_DATA_TYPE_PROPERTY'}) properties={'name': 'display', 'simple_data_type': 'string', 'id': 11, 'uri': 'http://id.d4k.dk/dataset/hl7/fhir/datatypes#coding_display'}>\n",
            "<Node id=140419 labels=frozenset({'FHIR_DATA_TYPE_PROPERTY'}) properties={'name': 'code', 'simple_data_type': 'code', 'id': 13, 'uri': 'http://id.d4k.dk/dataset/hl7/fhir/datatypes#coding_code'}>\n",
            "<Node id=140420 labels=frozenset({'FHIR_DATA_TYPE_PROPERTY'}) properties={'name': 'system', 'simple_data_type': 'string', 'id': 10, 'uri': 'http://id.d4k.dk/dataset/hl7/fhir/datatypes#coding_system'}>\n",
            "<Node id=140421 labels=frozenset({'FHIR_DATA_TYPE_PROPERTY'}) properties={'name': 'version', 'simple_data_type': 'string', 'id': 14, 'uri': 'http://id.d4k.dk/dataset/hl7/fhir/datatypes#coding_version'}>\n",
            "<Node id=140422 labels=frozenset({'FHIR_DATA_TYPE_PROPERTY'}) properties={'name': 'user_selected', 'simple_data_type': 'boolean', 'id': 12, 'uri': 'http://id.d4k.dk/dataset/hl7/fhir/datatypes#coding_user_selected'}>\n",
            "Duplicated for:  http://id.d4k.dk/dataset/bc_template/base_observation/laterality/coding\n",
            "<Node id=140423 labels=frozenset({'FHIR_DATA_TYPE_PROPERTY'}) properties={'name': 'display', 'simple_data_type': 'string', 'id': 11, 'uri': 'http://id.d4k.dk/dataset/hl7/fhir/datatypes#coding_display'}>\n",
            "<Node id=140424 labels=frozenset({'FHIR_DATA_TYPE_PROPERTY'}) properties={'name': 'code', 'simple_data_type': 'code', 'id': 13, 'uri': 'http://id.d4k.dk/dataset/hl7/fhir/datatypes#coding_code'}>\n",
            "<Node id=140425 labels=frozenset({'FHIR_DATA_TYPE_PROPERTY'}) properties={'name': 'system', 'simple_data_type': 'string', 'id': 10, 'uri': 'http://id.d4k.dk/dataset/hl7/fhir/datatypes#coding_system'}>\n",
            "<Node id=140426 labels=frozenset({'FHIR_DATA_TYPE_PROPERTY'}) properties={'name': 'version', 'simple_data_type': 'string', 'id': 14, 'uri': 'http://id.d4k.dk/dataset/hl7/fhir/datatypes#coding_version'}>\n",
            "<Node id=140427 labels=frozenset({'FHIR_DATA_TYPE_PROPERTY'}) properties={'name': 'user_selected', 'simple_data_type': 'boolean', 'id': 12, 'uri': 'http://id.d4k.dk/dataset/hl7/fhir/datatypes#coding_user_selected'}>\n",
            "Duplicated for:  http://id.d4k.dk/dataset/bc_template/base_observation/site_of_administration/coding\n",
            "<Node id=140428 labels=frozenset({'FHIR_DATA_TYPE_PROPERTY'}) properties={'name': 'display', 'simple_data_type': 'string', 'id': 11, 'uri': 'http://id.d4k.dk/dataset/hl7/fhir/datatypes#coding_display'}>\n",
            "<Node id=140429 labels=frozenset({'FHIR_DATA_TYPE_PROPERTY'}) properties={'name': 'code', 'simple_data_type': 'code', 'id': 13, 'uri': 'http://id.d4k.dk/dataset/hl7/fhir/datatypes#coding_code'}>\n",
            "<Node id=140430 labels=frozenset({'FHIR_DATA_TYPE_PROPERTY'}) properties={'name': 'system', 'simple_data_type': 'string', 'id': 10, 'uri': 'http://id.d4k.dk/dataset/hl7/fhir/datatypes#coding_system'}>\n",
            "<Node id=140431 labels=frozenset({'FHIR_DATA_TYPE_PROPERTY'}) properties={'name': 'version', 'simple_data_type': 'string', 'id': 14, 'uri': 'http://id.d4k.dk/dataset/hl7/fhir/datatypes#coding_version'}>\n",
            "<Node id=140432 labels=frozenset({'FHIR_DATA_TYPE_PROPERTY'}) properties={'name': 'user_selected', 'simple_data_type': 'boolean', 'id': 12, 'uri': 'http://id.d4k.dk/dataset/hl7/fhir/datatypes#coding_user_selected'}>\n",
            "Duplicated for:  http://id.d4k.dk/dataset/bc_template/base_observation/position/coding\n",
            "<Node id=140433 labels=frozenset({'FHIR_DATA_TYPE_PROPERTY'}) properties={'name': 'display', 'simple_data_type': 'string', 'id': 11, 'uri': 'http://id.d4k.dk/dataset/hl7/fhir/datatypes#coding_display'}>\n",
            "<Node id=140434 labels=frozenset({'FHIR_DATA_TYPE_PROPERTY'}) properties={'name': 'code', 'simple_data_type': 'code', 'id': 13, 'uri': 'http://id.d4k.dk/dataset/hl7/fhir/datatypes#coding_code'}>\n",
            "<Node id=140435 labels=frozenset({'FHIR_DATA_TYPE_PROPERTY'}) properties={'name': 'system', 'simple_data_type': 'string', 'id': 10, 'uri': 'http://id.d4k.dk/dataset/hl7/fhir/datatypes#coding_system'}>\n",
            "<Node id=140436 labels=frozenset({'FHIR_DATA_TYPE_PROPERTY'}) properties={'name': 'version', 'simple_data_type': 'string', 'id': 14, 'uri': 'http://id.d4k.dk/dataset/hl7/fhir/datatypes#coding_version'}>\n",
            "<Node id=140437 labels=frozenset({'FHIR_DATA_TYPE_PROPERTY'}) properties={'name': 'user_selected', 'simple_data_type': 'boolean', 'id': 12, 'uri': 'http://id.d4k.dk/dataset/hl7/fhir/datatypes#coding_user_selected'}>\n",
            "Duplicated for:  http://id.d4k.dk/dataset/bc_template/base_observation/test/coding\n",
            "<Node id=140438 labels=frozenset({'FHIR_DATA_TYPE_PROPERTY'}) properties={'name': 'value', 'simple_data_type': 'float', 'id': 6, 'uri': 'http://id.d4k.dk/dataset/hl7/fhir/datatypes#quantity_value'}>\n",
            "<Node id=140439 labels=frozenset({'FHIR_DATA_TYPE_PROPERTY'}) properties={'name': 'system', 'simple_data_type': 'string', 'id': 5, 'uri': 'http://id.d4k.dk/dataset/hl7/fhir/datatypes#quantity_system'}>\n",
            "<Node id=140440 labels=frozenset({'FHIR_DATA_TYPE_PROPERTY'}) properties={'name': 'unit', 'simple_data_type': 'string', 'id': 8, 'uri': 'http://id.d4k.dk/dataset/hl7/fhir/datatypes#quantity_unit'}>\n",
            "<Node id=140441 labels=frozenset({'FHIR_DATA_TYPE_PROPERTY'}) properties={'name': 'code', 'simple_data_type': 'code', 'id': 9, 'uri': 'http://id.d4k.dk/dataset/hl7/fhir/datatypes#quantity_code'}>\n",
            "<Node id=140442 labels=frozenset({'FHIR_DATA_TYPE_PROPERTY'}) properties={'name': 'comparator', 'simple_data_type': 'code', 'id': 7, 'uri': 'http://id.d4k.dk/dataset/hl7/fhir/datatypes#quantity_comparator'}>\n",
            "Duplicated for:  http://id.d4k.dk/dataset/bc_template/base_laboratory/result/quantity\n",
            "<Node id=140443 labels=frozenset({'FHIR_DATA_TYPE_PROPERTY'}) properties={'name': 'value', 'simple_data_type': 'float', 'id': 6, 'uri': 'http://id.d4k.dk/dataset/hl7/fhir/datatypes#quantity_value'}>\n",
            "<Node id=140444 labels=frozenset({'FHIR_DATA_TYPE_PROPERTY'}) properties={'name': 'system', 'simple_data_type': 'string', 'id': 5, 'uri': 'http://id.d4k.dk/dataset/hl7/fhir/datatypes#quantity_system'}>\n",
            "<Node id=140445 labels=frozenset({'FHIR_DATA_TYPE_PROPERTY'}) properties={'name': 'unit', 'simple_data_type': 'string', 'id': 8, 'uri': 'http://id.d4k.dk/dataset/hl7/fhir/datatypes#quantity_unit'}>\n",
            "<Node id=140446 labels=frozenset({'FHIR_DATA_TYPE_PROPERTY'}) properties={'name': 'code', 'simple_data_type': 'code', 'id': 9, 'uri': 'http://id.d4k.dk/dataset/hl7/fhir/datatypes#quantity_code'}>\n",
            "<Node id=140447 labels=frozenset({'FHIR_DATA_TYPE_PROPERTY'}) properties={'name': 'comparator', 'simple_data_type': 'code', 'id': 7, 'uri': 'http://id.d4k.dk/dataset/hl7/fhir/datatypes#quantity_comparator'}>\n",
            "Duplicated for:  http://id.d4k.dk/dataset/bc_template/base_observation/result/quantity\n",
            "URIs set.\n"
          ]
        }
      ]
    },
    {
      "cell_type": "code",
      "source": [
        "stage_11_files = [ \n",
        "    { \"label\": \"OTHER_SOURCE\", \"filename\": \"stage_11_other_source_nodes.csv\" },\n",
        "    { \"label\": \"BC_VALUE_SET\", \"filename\": \"stage_11_bc_value_set_nodes.csv\" },\n",
        "    { \"label\": \"BC_DATA_PROPERTY\", \"filename\": \"stage_11_bc_data_property_nodes.csv\" },\n",
        "    { \"label\": \"BC_DATA_TYPE\", \"filename\": \"stage_11_bc_data_type_nodes.csv\" },\n",
        "    { \"label\": \"BC_ITEM\", \"filename\": \"stage_11_bc_item_nodes.csv\" },\n",
        "    { \"label\": \"BC_INSTANCE\", \"filename\": \"stage_11_bc_instance_nodes.csv\" },\n",
        "    { \"type\": \"FROM_SOURCE\", \"filename\": \"stage_11_from_source_relationships.csv\" },\n",
        "    { \"type\": \"HAS_RESPONSE\", \"filename\": \"stage_11_has_response_relationships.csv\" },\n",
        "    { \"type\": \"HAS_DATA_PROPERTY\", \"filename\": \"stage_11_has_data_property_relationships.csv\" },\n",
        "    { \"type\": \"HAS_DATA_TYPE\", \"filename\": \"stage_11_has_data_type_relationships.csv\" },\n",
        "    { \"type\": \"HAS_IDENTIFIER\", \"filename\": \"stage_11_has_identifier_relationships.csv\" },\n",
        "    { \"type\": \"HAS_ITEM\", \"filename\": \"stage_11_has_item_relationships.csv\" }\n",
        "  ]\n",
        "\n",
        "file_load(stage_11_files)"
      ],
      "metadata": {
        "colab": {
          "base_uri": "https://localhost:8080/"
        },
        "id": "nKEod92dmIc_",
        "outputId": "bb1282a0-7e15-4648-ba3d-41b12892d878"
      },
      "execution_count": 22,
      "outputs": [
        {
          "output_type": "stream",
          "name": "stdout",
          "text": [
            "CALL apoc.import.csv( [{ fileName: 'https://raw.githubusercontent.com/data4knowledge/biomedical_concepts/main/data/stage_11_other_source_nodes.csv', labels: ['OTHER_SOURCE'] }, { fileName: 'https://raw.githubusercontent.com/data4knowledge/biomedical_concepts/main/data/stage_11_bc_value_set_nodes.csv', labels: ['BC_VALUE_SET'] }, { fileName: 'https://raw.githubusercontent.com/data4knowledge/biomedical_concepts/main/data/stage_11_bc_data_property_nodes.csv', labels: ['BC_DATA_PROPERTY'] }, { fileName: 'https://raw.githubusercontent.com/data4knowledge/biomedical_concepts/main/data/stage_11_bc_data_type_nodes.csv', labels: ['BC_DATA_TYPE'] }, { fileName: 'https://raw.githubusercontent.com/data4knowledge/biomedical_concepts/main/data/stage_11_bc_item_nodes.csv', labels: ['BC_ITEM'] }, { fileName: 'https://raw.githubusercontent.com/data4knowledge/biomedical_concepts/main/data/stage_11_bc_instance_nodes.csv', labels: ['BC_INSTANCE'] }], [{ fileName: 'https://raw.githubusercontent.com/data4knowledge/biomedical_concepts/main/data/stage_11_from_source_relationships.csv', type: 'FROM_SOURCE' }, { fileName: 'https://raw.githubusercontent.com/data4knowledge/biomedical_concepts/main/data/stage_11_has_response_relationships.csv', type: 'HAS_RESPONSE' }, { fileName: 'https://raw.githubusercontent.com/data4knowledge/biomedical_concepts/main/data/stage_11_has_data_property_relationships.csv', type: 'HAS_DATA_PROPERTY' }, { fileName: 'https://raw.githubusercontent.com/data4knowledge/biomedical_concepts/main/data/stage_11_has_data_type_relationships.csv', type: 'HAS_DATA_TYPE' }, { fileName: 'https://raw.githubusercontent.com/data4knowledge/biomedical_concepts/main/data/stage_11_has_identifier_relationships.csv', type: 'HAS_IDENTIFIER' }, { fileName: 'https://raw.githubusercontent.com/data4knowledge/biomedical_concepts/main/data/stage_11_has_item_relationships.csv', type: 'HAS_ITEM' }], {stringIds: false})\n",
            "<neo4j.work.result.Result object at 0x7f4b631f1a90>\n",
            "<Record file='progress.csv' source='file' format='csv' nodes=24 relationships=24 properties=98 time=1055 rows=0 batchSize=-1 batches=0 done=True data=None>\n"
          ]
        }
      ]
    },
    {
      "cell_type": "code",
      "source": [
        "with driver.session() as session:\n",
        "  query = \"\"\"MATCH (n:BC_DATA_PROPERTY)-[:HAS_RESPONSE]->(d) RETURN n.name as name, d.cl as cl, d.cli as cli, d.uri as uri\"\"\" \n",
        "  result = session.run(query)\n",
        "  for record in result:\n",
        "    print (\"%s: [%s, %s], uri=%s\" % (record[\"name\"], record[\"cl\"], record[\"cli\"], record[\"uri\"]))\n",
        "driver.close()"
      ],
      "metadata": {
        "colab": {
          "base_uri": "https://localhost:8080/"
        },
        "id": "cqgJqRtjwRWT",
        "outputId": "3ca1a680-5753-4639-fdff-6d3917e28330"
      },
      "execution_count": 23,
      "outputs": [
        {
          "output_type": "stream",
          "name": "stdout",
          "text": [
            "code: [c66741, c25208], uri=http://id.d4k.dk/dataset/bc_instance/weight/test/coding/code/c66741-c25208\n",
            "code: [c66770, c28252], uri=http://id.d4k.dk/dataset/bc_instance/weight/result/quantity/code/c66770-c28252\n",
            "code: [c66770, c48531], uri=http://id.d4k.dk/dataset/bc_instance/weight/result/quantity/code/c66770-c48531\n"
          ]
        }
      ]
    },
    {
      "cell_type": "markdown",
      "source": [
        "Need to\n",
        "- Link to the template\n",
        "- Link the BC to any CT"
      ],
      "metadata": {
        "id": "cH-7_-DXzN_R"
      }
    },
    {
      "cell_type": "code",
      "source": [
        " stage_12_files = [    \n",
        "    { \"label\": \"ENDPOINT\", \"filename\": \"stage_12_endpoint_nodes.csv\" },\n",
        "    { \"label\": \"STUDY_DATA\", \"filename\": \"stage_12_study_data_nodes.csv\" },\n",
        "    { \"label\": \"PROCEDURE\", \"filename\": \"stage_12_procedure_nodes.csv\" },\n",
        "    { \"label\": \"ACTIVITY\", \"filename\": \"stage_12_activity_nodes.csv\" },\n",
        "    { \"label\": \"WORKFLOW_ITEM\", \"filename\": \"stage_12_workflow_item_nodes.csv\" },\n",
        "    { \"label\": \"VISIT\", \"filename\": \"stage_12_visit_nodes.csv\" },\n",
        "    { \"label\": \"STUDY_CELL\", \"filename\": \"stage_12_study_cell_nodes.csv\" },\n",
        "    { \"label\": \"RULE\", \"filename\": \"stage_12_rule_nodes.csv\" },\n",
        "    { \"label\": \"STUDY_ELEMENT\", \"filename\": \"stage_12_study_element_nodes.csv\" },\n",
        "    { \"label\": \"EPOCH\", \"filename\": \"stage_12_study_epoch_nodes.csv\" },\n",
        "    { \"label\": \"STUDY_ARM\", \"filename\": \"stage_12_study_arm_nodes.csv\" },\n",
        "    { \"label\": \"OBJECTIVE\", \"filename\": \"stage_12_objective_nodes.csv\" },\n",
        "    { \"label\": \"CODE\", \"filename\": \"stage_12_code_nodes.csv\" },\n",
        "    { \"label\": \"INVESTIGATIONAL_INTERVENTIONS\", \"filename\": \"stage_12_investigational_interventions_nodes.csv\" },\n",
        "    { \"label\": \"POPULATION\", \"filename\": \"stage_12_population_nodes.csv\" },\n",
        "    { \"label\": \"STUDY_DESIGN\", \"filename\": \"stage_12_study_design_nodes.csv\" },\n",
        "    { \"label\": \"INDICATION\", \"filename\": \"stage_12_indication_nodes.csv\" },\n",
        "    { \"label\": \"STUDY_PROTOCOL\", \"filename\": \"stage_12_study_protocol_nodes.csv\" },\n",
        "    { \"label\": \"STUDY_PHASE\", \"filename\": \"stage_12_study_phase_nodes.csv\" },\n",
        "    { \"label\": \"STUDY_TYPE\", \"filename\": \"stage_12_study_type_nodes.csv\" },\n",
        "    { \"label\": \"STUDY_IDENTIFIER\", \"filename\": \"stage_12_study_identifier_nodes.csv\" },\n",
        "    { \"label\": \"STUDY\", \"filename\": \"stage_12_study_nodes.csv\" },\n",
        "    { \"type\": \"HAS_CODED\", \"filename\": \"stage_12_has_coded_relationships.csv\" },\n",
        "    { \"type\": \"HAS_ENDPOINT\", \"filename\": \"stage_12_has_endpoint_relationships.csv\" },\n",
        "    { \"type\": \"HAS_STUDY_DATA\", \"filename\": \"stage_12_has_study_data_relationships.csv\" },\n",
        "    { \"type\": \"HAS_PROCEDURE\", \"filename\": \"stage_12_has_procedure_relationships.csv\" },\n",
        "    { \"type\": \"HAS_PREVIOUS_ACTIVITY\", \"filename\": \"stage_12_has_previous_activity_relationships.csv\" },\n",
        "    { \"type\": \"HAS_PREVIOUS_WORKFLOW\", \"filename\": \"stage_12_has_previous_workflow_relationships.csv\" },\n",
        "    { \"type\": \"USED_IN_VISIT\", \"filename\": \"stage_12_used_in_visit_relationships.csv\" },\n",
        "    { \"type\": \"HAS_ACTIVITY\", \"filename\": \"stage_12_has_activity_relationships.csv\" },\n",
        "    { \"type\": \"HAS_VISIT\", \"filename\": \"stage_12_has_visit_relationships.csv\" },\n",
        "    { \"type\": \"HAS_END_RULE\", \"filename\": \"stage_12_has_end_rule_relationships.csv\" },\n",
        "    { \"type\": \"HAS_START_RULE\", \"filename\": \"stage_12_has_start_rule_relationships.csv\" },\n",
        "    { \"type\": \"HAS_ELEMENT\", \"filename\": \"stage_12_has_element_relationships.csv\" },\n",
        "    { \"type\": \"HAS_EPOCH\", \"filename\": \"stage_12_has_epoch_relationships.csv\" },\n",
        "    { \"type\": \"HAS_ARM\", \"filename\": \"stage_12_has_arm_relationships.csv\" },\n",
        "    { \"type\": \"HAS_CELL\", \"filename\": \"stage_12_has_cell_relationships.csv\" },\n",
        "    { \"type\": \"HAS_OBJECTIVE\", \"filename\": \"stage_12_has_objective_relationships.csv\" },\n",
        "    { \"type\": \"HAS_INDICATION\", \"filename\": \"stage_12_has_indication_relationships.csv\" },\n",
        "    { \"type\": \"HAS_INVESTIGATIONAL_INTERVENTION\", \"filename\": \"stage_12_has_investigational_intervention_relationships.csv\" },\n",
        "    { \"type\": \"HAS_POPULATION\", \"filename\": \"stage_12_has_population_relationships.csv\" },\n",
        "    { \"type\": \"HAS_STUDY_DESIGN\", \"filename\": \"stage_12_has_study_design_relationships.csv\" },\n",
        "    { \"type\": \"HAS_PROTOCOL\", \"filename\": \"stage_12_has_protocol_relationships.csv\" },\n",
        "    { \"type\": \"HAS_STUDY_PHASE\", \"filename\": \"stage_12_has_study_phase_relationships.csv\" },\n",
        "    { \"type\": \"HAS_STUDY_TYPE\", \"filename\": \"stage_12_has_study_type_relationships.csv\" },\n",
        "    { \"type\": \"HAS_IDENTIFIER\", \"filename\": \"stage_12_has_identifier_relationships.csv\" }\n",
        "  ]\n",
        "\n",
        "file_load(stage_12_files)"
      ],
      "metadata": {
        "colab": {
          "base_uri": "https://localhost:8080/"
        },
        "id": "yLEatFJT6WGB",
        "outputId": "681e9040-5b78-4ef0-b6f1-5e13c2d76d42"
      },
      "execution_count": 24,
      "outputs": [
        {
          "output_type": "stream",
          "name": "stdout",
          "text": [
            "CALL apoc.import.csv( [{ fileName: 'https://raw.githubusercontent.com/data4knowledge/biomedical_concepts/main/data/stage_12_endpoint_nodes.csv', labels: ['ENDPOINT'] }, { fileName: 'https://raw.githubusercontent.com/data4knowledge/biomedical_concepts/main/data/stage_12_study_data_nodes.csv', labels: ['STUDY_DATA'] }, { fileName: 'https://raw.githubusercontent.com/data4knowledge/biomedical_concepts/main/data/stage_12_procedure_nodes.csv', labels: ['PROCEDURE'] }, { fileName: 'https://raw.githubusercontent.com/data4knowledge/biomedical_concepts/main/data/stage_12_activity_nodes.csv', labels: ['ACTIVITY'] }, { fileName: 'https://raw.githubusercontent.com/data4knowledge/biomedical_concepts/main/data/stage_12_workflow_item_nodes.csv', labels: ['WORKFLOW_ITEM'] }, { fileName: 'https://raw.githubusercontent.com/data4knowledge/biomedical_concepts/main/data/stage_12_visit_nodes.csv', labels: ['VISIT'] }, { fileName: 'https://raw.githubusercontent.com/data4knowledge/biomedical_concepts/main/data/stage_12_study_cell_nodes.csv', labels: ['STUDY_CELL'] }, { fileName: 'https://raw.githubusercontent.com/data4knowledge/biomedical_concepts/main/data/stage_12_rule_nodes.csv', labels: ['RULE'] }, { fileName: 'https://raw.githubusercontent.com/data4knowledge/biomedical_concepts/main/data/stage_12_study_element_nodes.csv', labels: ['STUDY_ELEMENT'] }, { fileName: 'https://raw.githubusercontent.com/data4knowledge/biomedical_concepts/main/data/stage_12_study_epoch_nodes.csv', labels: ['EPOCH'] }, { fileName: 'https://raw.githubusercontent.com/data4knowledge/biomedical_concepts/main/data/stage_12_study_arm_nodes.csv', labels: ['STUDY_ARM'] }, { fileName: 'https://raw.githubusercontent.com/data4knowledge/biomedical_concepts/main/data/stage_12_objective_nodes.csv', labels: ['OBJECTIVE'] }, { fileName: 'https://raw.githubusercontent.com/data4knowledge/biomedical_concepts/main/data/stage_12_code_nodes.csv', labels: ['CODE'] }, { fileName: 'https://raw.githubusercontent.com/data4knowledge/biomedical_concepts/main/data/stage_12_investigational_interventions_nodes.csv', labels: ['INVESTIGATIONAL_INTERVENTIONS'] }, { fileName: 'https://raw.githubusercontent.com/data4knowledge/biomedical_concepts/main/data/stage_12_population_nodes.csv', labels: ['POPULATION'] }, { fileName: 'https://raw.githubusercontent.com/data4knowledge/biomedical_concepts/main/data/stage_12_study_design_nodes.csv', labels: ['STUDY_DESIGN'] }, { fileName: 'https://raw.githubusercontent.com/data4knowledge/biomedical_concepts/main/data/stage_12_indication_nodes.csv', labels: ['INDICATION'] }, { fileName: 'https://raw.githubusercontent.com/data4knowledge/biomedical_concepts/main/data/stage_12_study_protocol_nodes.csv', labels: ['STUDY_PROTOCOL'] }, { fileName: 'https://raw.githubusercontent.com/data4knowledge/biomedical_concepts/main/data/stage_12_study_phase_nodes.csv', labels: ['STUDY_PHASE'] }, { fileName: 'https://raw.githubusercontent.com/data4knowledge/biomedical_concepts/main/data/stage_12_study_type_nodes.csv', labels: ['STUDY_TYPE'] }, { fileName: 'https://raw.githubusercontent.com/data4knowledge/biomedical_concepts/main/data/stage_12_study_identifier_nodes.csv', labels: ['STUDY_IDENTIFIER'] }, { fileName: 'https://raw.githubusercontent.com/data4knowledge/biomedical_concepts/main/data/stage_12_study_nodes.csv', labels: ['STUDY'] }], [{ fileName: 'https://raw.githubusercontent.com/data4knowledge/biomedical_concepts/main/data/stage_12_has_coded_relationships.csv', type: 'HAS_CODED' }, { fileName: 'https://raw.githubusercontent.com/data4knowledge/biomedical_concepts/main/data/stage_12_has_endpoint_relationships.csv', type: 'HAS_ENDPOINT' }, { fileName: 'https://raw.githubusercontent.com/data4knowledge/biomedical_concepts/main/data/stage_12_has_study_data_relationships.csv', type: 'HAS_STUDY_DATA' }, { fileName: 'https://raw.githubusercontent.com/data4knowledge/biomedical_concepts/main/data/stage_12_has_procedure_relationships.csv', type: 'HAS_PROCEDURE' }, { fileName: 'https://raw.githubusercontent.com/data4knowledge/biomedical_concepts/main/data/stage_12_has_previous_activity_relationships.csv', type: 'HAS_PREVIOUS_ACTIVITY' }, { fileName: 'https://raw.githubusercontent.com/data4knowledge/biomedical_concepts/main/data/stage_12_has_previous_workflow_relationships.csv', type: 'HAS_PREVIOUS_WORKFLOW' }, { fileName: 'https://raw.githubusercontent.com/data4knowledge/biomedical_concepts/main/data/stage_12_used_in_visit_relationships.csv', type: 'USED_IN_VISIT' }, { fileName: 'https://raw.githubusercontent.com/data4knowledge/biomedical_concepts/main/data/stage_12_has_activity_relationships.csv', type: 'HAS_ACTIVITY' }, { fileName: 'https://raw.githubusercontent.com/data4knowledge/biomedical_concepts/main/data/stage_12_has_visit_relationships.csv', type: 'HAS_VISIT' }, { fileName: 'https://raw.githubusercontent.com/data4knowledge/biomedical_concepts/main/data/stage_12_has_end_rule_relationships.csv', type: 'HAS_END_RULE' }, { fileName: 'https://raw.githubusercontent.com/data4knowledge/biomedical_concepts/main/data/stage_12_has_start_rule_relationships.csv', type: 'HAS_START_RULE' }, { fileName: 'https://raw.githubusercontent.com/data4knowledge/biomedical_concepts/main/data/stage_12_has_element_relationships.csv', type: 'HAS_ELEMENT' }, { fileName: 'https://raw.githubusercontent.com/data4knowledge/biomedical_concepts/main/data/stage_12_has_epoch_relationships.csv', type: 'HAS_EPOCH' }, { fileName: 'https://raw.githubusercontent.com/data4knowledge/biomedical_concepts/main/data/stage_12_has_arm_relationships.csv', type: 'HAS_ARM' }, { fileName: 'https://raw.githubusercontent.com/data4knowledge/biomedical_concepts/main/data/stage_12_has_cell_relationships.csv', type: 'HAS_CELL' }, { fileName: 'https://raw.githubusercontent.com/data4knowledge/biomedical_concepts/main/data/stage_12_has_objective_relationships.csv', type: 'HAS_OBJECTIVE' }, { fileName: 'https://raw.githubusercontent.com/data4knowledge/biomedical_concepts/main/data/stage_12_has_indication_relationships.csv', type: 'HAS_INDICATION' }, { fileName: 'https://raw.githubusercontent.com/data4knowledge/biomedical_concepts/main/data/stage_12_has_investigational_intervention_relationships.csv', type: 'HAS_INVESTIGATIONAL_INTERVENTION' }, { fileName: 'https://raw.githubusercontent.com/data4knowledge/biomedical_concepts/main/data/stage_12_has_population_relationships.csv', type: 'HAS_POPULATION' }, { fileName: 'https://raw.githubusercontent.com/data4knowledge/biomedical_concepts/main/data/stage_12_has_study_design_relationships.csv', type: 'HAS_STUDY_DESIGN' }, { fileName: 'https://raw.githubusercontent.com/data4knowledge/biomedical_concepts/main/data/stage_12_has_protocol_relationships.csv', type: 'HAS_PROTOCOL' }, { fileName: 'https://raw.githubusercontent.com/data4knowledge/biomedical_concepts/main/data/stage_12_has_study_phase_relationships.csv', type: 'HAS_STUDY_PHASE' }, { fileName: 'https://raw.githubusercontent.com/data4knowledge/biomedical_concepts/main/data/stage_12_has_study_type_relationships.csv', type: 'HAS_STUDY_TYPE' }, { fileName: 'https://raw.githubusercontent.com/data4knowledge/biomedical_concepts/main/data/stage_12_has_identifier_relationships.csv', type: 'HAS_IDENTIFIER' }], {stringIds: false})\n",
            "<neo4j.work.result.Result object at 0x7f4b6324b0d0>\n",
            "<Record file='progress.csv' source='file' format='csv' nodes=209 relationships=293 properties=746 time=3754 rows=0 batchSize=-1 batches=0 done=True data=None>\n"
          ]
        }
      ]
    },
    {
      "cell_type": "markdown",
      "source": [
        "So, next ...\n",
        "- Duplicate the BC and link to the study via the Study Data element\n",
        "- We could link the Study to CT\n",
        "- Add more BCs\n",
        "- Add a second study"
      ],
      "metadata": {
        "id": "BrEdmj0e9FL8"
      }
    }
  ],
  "metadata": {
    "colab": {
      "collapsed_sections": [],
      "name": "Biomedical_Concepts.ipynb",
      "provenance": []
    },
    "kernelspec": {
      "display_name": "Python 3",
      "name": "python3"
    },
    "language_info": {
      "name": "python"
    }
  },
  "nbformat": 4,
  "nbformat_minor": 0
}