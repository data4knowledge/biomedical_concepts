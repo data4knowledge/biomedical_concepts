{
  "cells": [
    {
      "cell_type": "markdown",
      "metadata": {
        "id": "FPlw5A04o23L"
      },
      "source": [
        "Install dependencies"
      ]
    },
    {
      "cell_type": "code",
      "execution_count": 85,
      "metadata": {
        "colab": {
          "base_uri": "https://localhost:8080/"
        },
        "id": "nsmOe6weo0Cl",
        "outputId": "b62ab5a8-d47b-4c35-bf3b-5ad1e0649103"
      },
      "outputs": [
        {
          "output_type": "stream",
          "name": "stdout",
          "text": [
            "Requirement already satisfied: neo4j in /usr/local/lib/python3.7/dist-packages (4.4.2)\n",
            "Requirement already satisfied: pytz in /usr/local/lib/python3.7/dist-packages (from neo4j) (2018.9)\n",
            "Requirement already satisfied: requests in /usr/local/lib/python3.7/dist-packages (2.23.0)\n",
            "Requirement already satisfied: idna<3,>=2.5 in /usr/local/lib/python3.7/dist-packages (from requests) (2.10)\n",
            "Requirement already satisfied: urllib3!=1.25.0,!=1.25.1,<1.26,>=1.21.1 in /usr/local/lib/python3.7/dist-packages (from requests) (1.24.3)\n",
            "Requirement already satisfied: chardet<4,>=3.0.2 in /usr/local/lib/python3.7/dist-packages (from requests) (3.0.4)\n",
            "Requirement already satisfied: certifi>=2017.4.17 in /usr/local/lib/python3.7/dist-packages (from requests) (2021.10.8)\n"
          ]
        }
      ],
      "source": [
        "!pip install neo4j\n",
        "!pip install requests"
      ]
    },
    {
      "cell_type": "markdown",
      "metadata": {
        "id": "hCjYsNHTmpXP"
      },
      "source": [
        "First create the FHIR data types. Need this before anything else.\n"
      ]
    },
    {
      "cell_type": "code",
      "execution_count": 138,
      "metadata": {
        "colab": {
          "base_uri": "https://localhost:8080/"
        },
        "id": "fqbZcwbLnKkt",
        "outputId": "9d92b53f-df09-4b2a-9609-23be642558ac"
      },
      "outputs": [
        {
          "output_type": "stream",
          "name": "stdout",
          "text": [
            "Ready ...\n"
          ]
        }
      ],
      "source": [
        "from neo4j import GraphDatabase\n",
        "import requests\n",
        "import json\n",
        "import urllib.request\n",
        "\n",
        "# Load file directory\n",
        "load_file_dir = \"https://raw.githubusercontent.com/data4knowledge/biomedical_concepts/main/data/csv_load/\"\n",
        "\n",
        "# Connect to the Neo4j DB. You need a line like one of these examples:\n",
        "# driver = GraphDatabase.driver(\"neo4j://n.n.n.n:7687\", auth=(\"username\", \"password\"))\n",
        "# driver = GraphDatabase.driver(\"neo4j+s://url_for_aura\", auth=(\"username\", \"password\"))\n",
        "\n",
        "\n",
        "# Methods\n",
        "def clear(tx):\n",
        "    tx.run(\"CALL apoc.periodic.iterate('MATCH (n) RETURN n', 'DETACH DELETE n', {batchSize:1000})\")\n",
        "\n",
        "def file_load(load_files):\n",
        "  with driver.session() as session:\n",
        "    nodes = []\n",
        "    relationships = []\n",
        "    for file_item in load_files:\n",
        "      filename = \"%s%s\" % (load_file_dir, file_item[\"filename\"])\n",
        "      if \"label\" in file_item:\n",
        "        nodes.append(\"{ fileName: '%s', labels: ['%s'] }\" % (filename, file_item[\"label\"]) )\n",
        "      else:\n",
        "        relationships.append(\"{ fileName: '%s', type: '%s' }\" % (filename, file_item[\"type\"]) )\n",
        "    query = \"\"\"CALL apoc.import.csv( [%s], [%s], {stringIds: false})\"\"\" % (\", \".join(nodes), \", \".join(relationships))\n",
        "    print(query)\n",
        "    result = session.run(query)\n",
        "    print(result)\n",
        "    for record in result:\n",
        "      print(record)\n",
        "  driver.close()\n",
        "\n",
        "def load_cl(ct_type, cl):\n",
        "  filename = \"%scdisc_ct_%s_nodes_%s.csv\" % (load_file_dir, ct_type, cl)\n",
        "  with driver.session() as session:\n",
        "    query = \"\"\"MATCH (p:SKOS_CONCEPT) where p.identifier = '%s' \n",
        "      WITH p\n",
        "      LOAD CSV WITH HEADERS FROM '%s' AS row\n",
        "      CREATE (p)-[:SKOS_NARROWER]->(c:SKOS_CONCEPT {id: toInteger(row.id), alt_label: row.alt_label, definition: row.definition, identifier: row.identifier, notation: row.notation, pref_label: row.pref_label, uri: row.uri})\"\"\" % (cl, filename)\n",
        "    result = session.run(query)\n",
        "    for record in result:\n",
        "      print(record)\n",
        "\n",
        "with driver.session() as session:\n",
        "    session.write_transaction(clear)\n",
        "driver.close()\n",
        "\n",
        "print(\"Ready ...\")\n"
      ]
    },
    {
      "cell_type": "code",
      "source": [
        "stage_1_files = [ \n",
        "    { \"label\": \"FHIR\", \"filename\": \"stage_1_fhir_nodes.csv\" },\n",
        "    { \"label\": \"WEB_SOURCE\", \"filename\": \"stage_1_web_source_nodes.csv\" },\n",
        "    { \"label\": \"FHIR_DATA_TYPE\", \"filename\": \"stage_1_fhir_data_type_nodes.csv\" },\n",
        "    { \"label\": \"FHIR_DATA_TYPE_PROPERTY\", \"filename\": \"stage_1_fhir_data_type_property_nodes.csv\" },\n",
        "    { \"type\": \"HAS_DATA_TYPE_PROPERTY\", \"filename\": \"stage_1_has_data_type_property_relationships.csv\" },\n",
        "    { \"type\": \"FROM_SOURCE\", \"filename\": \"stage_1_from_source_relationships.csv\" },\n",
        "    { \"type\": \"HAS_DATA_TYPE\", \"filename\": \"stage_1_has_data_type_relationships.csv\" }\n",
        "  ]\n",
        "\n",
        "file_load(stage_1_files)"
      ],
      "metadata": {
        "colab": {
          "base_uri": "https://localhost:8080/"
        },
        "id": "p4ulFrLPkpJl",
        "outputId": "648cf665-60e5-4795-e3b1-c21f35bca81a"
      },
      "execution_count": 139,
      "outputs": [
        {
          "output_type": "stream",
          "name": "stdout",
          "text": [
            "CALL apoc.import.csv( [{ fileName: 'https://raw.githubusercontent.com/data4knowledge/biomedical_concepts/main/data/csv_load/stage_1_fhir_nodes.csv', labels: ['FHIR'] }, { fileName: 'https://raw.githubusercontent.com/data4knowledge/biomedical_concepts/main/data/csv_load/stage_1_web_source_nodes.csv', labels: ['WEB_SOURCE'] }, { fileName: 'https://raw.githubusercontent.com/data4knowledge/biomedical_concepts/main/data/csv_load/stage_1_fhir_data_type_nodes.csv', labels: ['FHIR_DATA_TYPE'] }, { fileName: 'https://raw.githubusercontent.com/data4knowledge/biomedical_concepts/main/data/csv_load/stage_1_fhir_data_type_property_nodes.csv', labels: ['FHIR_DATA_TYPE_PROPERTY'] }], [{ fileName: 'https://raw.githubusercontent.com/data4knowledge/biomedical_concepts/main/data/csv_load/stage_1_has_data_type_property_relationships.csv', type: 'HAS_DATA_TYPE_PROPERTY' }, { fileName: 'https://raw.githubusercontent.com/data4knowledge/biomedical_concepts/main/data/csv_load/stage_1_from_source_relationships.csv', type: 'FROM_SOURCE' }, { fileName: 'https://raw.githubusercontent.com/data4knowledge/biomedical_concepts/main/data/csv_load/stage_1_has_data_type_relationships.csv', type: 'HAS_DATA_TYPE' }], {stringIds: false})\n",
            "<neo4j.work.result.Result object at 0x7f29ab2ef510>\n",
            "<Record file='progress.csv' source='file' format='csv' nodes=14 relationships=13 properties=53 time=1383 rows=0 batchSize=-1 batches=0 done=True data=None>\n"
          ]
        }
      ]
    },
    {
      "cell_type": "markdown",
      "metadata": {
        "id": "y2X4GzLForm7"
      },
      "source": [
        "Now check we have loaded ok. Check the FHIR version, should be 4.0.1"
      ]
    },
    {
      "cell_type": "code",
      "execution_count": 140,
      "metadata": {
        "colab": {
          "base_uri": "https://localhost:8080/"
        },
        "id": "QNsq3ykEnysr",
        "outputId": "835443ee-58b2-4377-a718-793156b86e1a"
      },
      "outputs": [
        {
          "output_type": "stream",
          "name": "stdout",
          "text": [
            "Version:  4.0.1\n"
          ]
        }
      ],
      "source": [
        "with driver.session() as session:\n",
        "  query = \"\"\"MATCH (n:FHIR) Return n.version as version\"\"\" \n",
        "  result = session.run(query)\n",
        "  for record in result:\n",
        "    print(\"Version: \", record[\"version\"])\n",
        "\n",
        "driver.close()"
      ]
    },
    {
      "cell_type": "code",
      "execution_count": 141,
      "metadata": {
        "colab": {
          "base_uri": "https://localhost:8080/"
        },
        "id": "hklRXVFUKGNK",
        "outputId": "80ba266e-9d1f-4898-c811-063948509de5"
      },
      "outputs": [
        {
          "output_type": "stream",
          "name": "stdout",
          "text": [
            "CALL apoc.import.csv( [{ fileName: 'https://raw.githubusercontent.com/data4knowledge/biomedical_concepts/main/data/csv_load/stage_2_canonical_model_nodes.csv', labels: ['CANONICAL_MODEL'] }, { fileName: 'https://raw.githubusercontent.com/data4knowledge/biomedical_concepts/main/data/csv_load/stage_2_canonical_node_nodes.csv', labels: ['CANONICAL_NODE'] }, { fileName: 'https://raw.githubusercontent.com/data4knowledge/biomedical_concepts/main/data/csv_load/stage_2_canonical_data_type_nodes.csv', labels: ['CANONICAL_DATA_TYPE'] }, { fileName: 'https://raw.githubusercontent.com/data4knowledge/biomedical_concepts/main/data/csv_load/stage_2_other_source_nodes.csv', labels: ['OTHER_SOURCE'] }], [{ fileName: 'https://raw.githubusercontent.com/data4knowledge/biomedical_concepts/main/data/csv_load/stage_2_consists_of_relationships.csv', type: 'CONSISTS_OF' }, { fileName: 'https://raw.githubusercontent.com/data4knowledge/biomedical_concepts/main/data/csv_load/stage_2_from_source_relationships.csv', type: 'FROM_SOURCE' }, { fileName: 'https://raw.githubusercontent.com/data4knowledge/biomedical_concepts/main/data/csv_load/stage_2_has_sub_model_relationships.csv', type: 'HAS_SUB_MODEL' }, { fileName: 'https://raw.githubusercontent.com/data4knowledge/biomedical_concepts/main/data/csv_load/stage_2_has_data_type_relationships.csv', type: 'HAS_DATA_TYPE' }], {stringIds: false})\n",
            "<neo4j.work.result.Result object at 0x7f29ab2db410>\n",
            "<Record file='progress.csv' source='file' format='csv' nodes=85 relationships=92 properties=255 time=1416 rows=0 batchSize=-1 batches=0 done=True data=None>\n"
          ]
        }
      ],
      "source": [
        "stage_2_files = [ \n",
        "    { \"label\": \"CANONICAL_MODEL\", \"filename\": \"stage_2_canonical_model_nodes.csv\" },\n",
        "    { \"label\": \"CANONICAL_NODE\", \"filename\": \"stage_2_canonical_node_nodes.csv\" },\n",
        "    { \"label\": \"CANONICAL_DATA_TYPE\", \"filename\": \"stage_2_canonical_data_type_nodes.csv\" },\n",
        "    { \"label\": \"OTHER_SOURCE\", \"filename\": \"stage_2_other_source_nodes.csv\" },\n",
        "    { \"type\": \"CONSISTS_OF\", \"filename\": \"stage_2_consists_of_relationships.csv\" },\n",
        "    { \"type\": \"FROM_SOURCE\", \"filename\": \"stage_2_from_source_relationships.csv\" },\n",
        "    { \"type\": \"HAS_SUB_MODEL\", \"filename\": \"stage_2_has_sub_model_relationships.csv\" },\n",
        "    { \"type\": \"HAS_DATA_TYPE\", \"filename\": \"stage_2_has_data_type_relationships.csv\" }\n",
        "]\n",
        "\n",
        "file_load(stage_2_files)"
      ]
    },
    {
      "cell_type": "markdown",
      "metadata": {
        "id": "592LExsq_Su0"
      },
      "source": [
        "Check a few relationships exist in the canonical model. Should get three results.\n",
        "\n",
        "* THERAPEUTIC INTERVENTION\n",
        "* OBSERVATION\n",
        "* ADVERSE EVENT\n",
        "\n"
      ]
    },
    {
      "cell_type": "code",
      "execution_count": 142,
      "metadata": {
        "colab": {
          "base_uri": "https://localhost:8080/"
        },
        "id": "Xn5dPGqB_Xj6",
        "outputId": "a70ce367-8395-4f18-a8b8-a21bc738f429"
      },
      "outputs": [
        {
          "output_type": "stream",
          "name": "stdout",
          "text": [
            "CANONICAL MODEL -> OBSERVATION -> Location: \n",
            "CANONICAL MODEL -> THERAPEUTIC INTERVENTION -> Location: \n",
            "CANONICAL MODEL -> ADVERSE EVENT -> Location: \n"
          ]
        }
      ],
      "source": [
        "with driver.session() as session:\n",
        "  query = \"\"\"MATCH (r)-[]->(t)-[]->(n:CANONICAL_NODE) WHERE n.name=\"LOCATION\" RETURN r.name as root_name, t.name as name\"\"\" \n",
        "  result = session.run(query)\n",
        "  for record in result:\n",
        "    print(\"%s -> %s -> Location: \" % (record[\"root_name\"], record[\"name\"]))\n",
        "\n",
        "driver.close()"
      ]
    },
    {
      "cell_type": "markdown",
      "source": [
        "Now link the canonical nodes and the data types using the name as the key."
      ],
      "metadata": {
        "id": "7jVCaoeWtLjw"
      }
    },
    {
      "cell_type": "code",
      "source": [
        "with driver.session() as session:\n",
        "  query = \"\"\"MATCH (n:CANONICAL_NODE)-[]->(m:CANONICAL_DATA_TYPE) RETURN m.uri as uri\"\"\" \n",
        "  result = session.run(query)\n",
        "  for record in result:\n",
        "    print(record[\"uri\"])\n",
        "    query = \"\"\"MATCH (n:CANONICAL_DATA_TYPE{uri:'%s'})\n",
        "      WITH n\n",
        "      MATCH (dt:FHIR_DATA_TYPE{name: n.data_type})\n",
        "      CREATE (n)-[:IS_A]->(dt)\n",
        "      RETURN n.data_type as cn_name, dt.name as dt_name;\n",
        "    \"\"\" % (record[\"uri\"])\n",
        "    inner_result = session.run(query)\n",
        "    for inner_record in inner_result:\n",
        "      print(\"%s, %s linked\" % (inner_record[\"cn_name\"], inner_record[\"dt_name\"]))\n",
        "\n",
        "driver.close()"
      ],
      "metadata": {
        "id": "3X3RfadUrvAP",
        "colab": {
          "base_uri": "https://localhost:8080/"
        },
        "outputId": "5cd75b3f-cd2f-4271-8c1e-03d76b44c9e0"
      },
      "execution_count": 143,
      "outputs": [
        {
          "output_type": "stream",
          "name": "stdout",
          "text": [
            "http://id.d4k.dk/dataset/canonical/n8/coding\n",
            "coding, coding linked\n",
            "http://id.d4k.dk/dataset/canonical/n9/coding\n",
            "coding, coding linked\n",
            "http://id.d4k.dk/dataset/canonical/n18/coding\n",
            "coding, coding linked\n"
          ]
        }
      ]
    },
    {
      "cell_type": "markdown",
      "metadata": {
        "id": "x1ws1F7zpwdN"
      },
      "source": [
        "Now create the data type nodes for the canonical mode. For each canonical node that references a data type copy the properties for that data type to the canonical node. Give each canonical leaf a unique id. These nodes should also have a C code reference providig a definition for the data item.\n"
      ]
    },
    {
      "cell_type": "code",
      "execution_count": 144,
      "metadata": {
        "colab": {
          "base_uri": "https://localhost:8080/"
        },
        "id": "-EBgVQrPqDIe",
        "outputId": "8fa9d022-0b1e-4922-afd4-035fea466097"
      },
      "outputs": [
        {
          "output_type": "stream",
          "name": "stdout",
          "text": [
            "Duplicated for:  http://id.d4k.dk/dataset/canonical/n8/coding\n",
            "Duplicated for:  http://id.d4k.dk/dataset/canonical/n9/coding\n",
            "Duplicated for:  http://id.d4k.dk/dataset/canonical/n18/coding\n",
            "URIs set.\n"
          ]
        }
      ],
      "source": [
        "uri_data = []\n",
        "with driver.session() as session:\n",
        "  query = \"\"\"MATCH (n:CANONICAL_DATA_TYPE)-[:IS_A]->(dt:FHIR_DATA_TYPE) RETURN n.uri as canonical, dt.uri as data_type\"\"\" \n",
        "  result = session.run(query)\n",
        "  for record in result:\n",
        "    query = \"\"\"MATCH (n:CANONICAL_DATA_TYPE{uri:'%s'}), (dt:FHIR_DATA_TYPE{uri:'%s'})\n",
        "      CALL apoc.path.subgraphAll(dt, {relationshipFilter:'HAS_DATA_TYPE_PROPERTY>'})\n",
        "      YIELD nodes, relationships\n",
        "      CALL apoc.refactor.cloneSubgraph(\n",
        "        nodes,\n",
        "        [rel in relationships WHERE type(rel) = 'HAS_DATA_TYPE_PROPERTY'],\n",
        "        { standinNodes:[[dt, n]] })\n",
        "      YIELD input, output, error\n",
        "      RETURN output;\n",
        "    \"\"\" % (record[\"canonical\"], record[\"data_type\"])\n",
        "    inner_result = session.run(query)\n",
        "    for inner_record in inner_result:\n",
        "      node = inner_record[\"output\"]\n",
        "      uri_data.append({\"id\": node.id, \"uri\": \"%s#%s\" % (record[\"canonical\"], node[\"name\"]) })\n",
        "    print (\"Duplicated for: \", record[\"canonical\"])\n",
        "\n",
        "driver.close()\n",
        "\n",
        "with driver.session() as session:\n",
        "  query = \"\"\"UNWIND $uri_data AS d\n",
        "    MATCH (n) WHERE ID(n)=d.id\n",
        "    SET n.uri = d.uri;\"\"\" \n",
        "  result = session.run(query, uri_data=uri_data)\n",
        "driver.close()\n",
        "print (\"URIs set.\")\n",
        "\n"
      ]
    },
    {
      "cell_type": "code",
      "execution_count": 145,
      "metadata": {
        "id": "nZ8TGB5bLzuR",
        "colab": {
          "base_uri": "https://localhost:8080/"
        },
        "outputId": "0e9a60ca-d2cc-4873-b302-40de8f5c237b"
      },
      "outputs": [
        {
          "output_type": "stream",
          "name": "stdout",
          "text": [
            "CALL apoc.import.csv( [{ fileName: 'https://raw.githubusercontent.com/data4knowledge/biomedical_concepts/main/data/csv_load/stage_3_api_source_nodes.csv', labels: ['API_SOURCE'] }, { fileName: 'https://raw.githubusercontent.com/data4knowledge/biomedical_concepts/main/data/csv_load/stage_3_skos_concept_nodes.csv', labels: ['SKOS_CONCEPT'] }, { fileName: 'https://raw.githubusercontent.com/data4knowledge/biomedical_concepts/main/data/csv_load/stage_3_skos_concept_scheme_nodes.csv', labels: ['SKOS_CONCEPT_SCHEME'] }], [{ fileName: 'https://raw.githubusercontent.com/data4knowledge/biomedical_concepts/main/data/csv_load/stage_3_from_source_relationships.csv', type: 'FROM_SOURCE' }, { fileName: 'https://raw.githubusercontent.com/data4knowledge/biomedical_concepts/main/data/csv_load/stage_3_skos_has_top_concept_relationships.csv', type: 'SKOS_HAS_TOP_CONCEPT' }, { fileName: 'https://raw.githubusercontent.com/data4knowledge/biomedical_concepts/main/data/csv_load/stage_3_skos_narrower_relationships.csv', type: 'SKOS_NARROWER' }], {stringIds: false})\n",
            "<neo4j.work.result.Result object at 0x7f29ab296b90>\n",
            "<Record file='progress.csv' source='file' format='csv' nodes=986 relationships=985 properties=8868 time=1408 rows=0 batchSize=-1 batches=0 done=True data=None>\n"
          ]
        }
      ],
      "source": [
        "stage_3_files = [ \n",
        "    { \"label\": \"API_SOURCE\", \"filename\": \"stage_3_api_source_nodes.csv\" },\n",
        "    { \"label\": \"SKOS_CONCEPT\", \"filename\": \"stage_3_skos_concept_nodes.csv\" },\n",
        "    { \"label\": \"SKOS_CONCEPT_SCHEME\", \"filename\": \"stage_3_skos_concept_scheme_nodes.csv\" },\n",
        "    { \"type\": \"FROM_SOURCE\", \"filename\": \"stage_3_from_source_relationships.csv\" },\n",
        "    { \"type\": \"SKOS_HAS_TOP_CONCEPT\", \"filename\": \"stage_3_skos_has_top_concept_relationships.csv\" },\n",
        "    { \"type\": \"SKOS_NARROWER\", \"filename\": \"stage_3_skos_narrower_relationships.csv\" } # Should be empty\n",
        "  ]\n",
        "\n",
        "file_load(stage_3_files)\n"
      ]
    },
    {
      "cell_type": "markdown",
      "source": [
        "Do a quick test on the CT. Check AGEU and its links"
      ],
      "metadata": {
        "id": "QiRuZP8IAQRA"
      }
    },
    {
      "cell_type": "code",
      "source": [
        "with driver.session() as session:\n",
        "  query = \"\"\"MATCH (cs)-[]->(c1:SKOS_CONCEPT) WHERE c1.notation = 'AGEU' RETURN DISTINCT cs.version as version, c1.identifier as cl_identifier\"\"\" \n",
        "  result = session.run(query, uri_data=uri_data)\n",
        "  for record in result:\n",
        "    print (\"%s: %s\" % (record[\"version\"], record[\"cl_identifier\"]))\n",
        "driver.close()\n"
      ],
      "metadata": {
        "colab": {
          "base_uri": "https://localhost:8080/"
        },
        "id": "OsWcQe73_m5E",
        "outputId": "36d73de9-7f6c-4522-d477-8ee24e64778e"
      },
      "execution_count": 146,
      "outputs": [
        {
          "output_type": "stream",
          "name": "stdout",
          "text": [
            "2021-12-17: C66781\n"
          ]
        }
      ]
    },
    {
      "cell_type": "markdown",
      "source": [
        "Stage 4 to 9 are the CT files for the other areas, ADaM, Protocol, CDASH etc. Not loaded at the moment. Needed to split due to size and limited RAM on the Neo4j server."
      ],
      "metadata": {
        "id": "ra9rORPF_XTs"
      }
    },
    {
      "cell_type": "code",
      "source": [
        "stage_10_files = [ \n",
        "    { \"label\": \"OTHER_SOURCE\", \"filename\": \"stage_10_other_source_nodes.csv\" },\n",
        "    { \"label\": \"BC_DATA_TYPE\", \"filename\": \"stage_10_bc_data_type_nodes.csv\" },\n",
        "    { \"label\": \"BC_ITEM\", \"filename\": \"stage_10_bc_item_nodes.csv\" },\n",
        "    { \"label\": \"BC_TEMPLATE\", \"filename\": \"stage_10_bc_template_nodes.csv\" },\n",
        "    { \"type\": \"FROM_SOURCE\", \"filename\": \"stage_10_from_source_relationships.csv\" },\n",
        "    { \"type\": \"HAS_DATA_TYPE\", \"filename\": \"stage_10_has_data_type_relationships.csv\" },\n",
        "    { \"type\": \"HAS_IDENTIFIER\", \"filename\": \"stage_10_has_identifier_relationships.csv\" },\n",
        "    { \"type\": \"HAS_ITEM\", \"filename\": \"stage_10_has_item_relationships.csv\" }\n",
        "  ]\n",
        "\n",
        "file_load(stage_10_files)"
      ],
      "metadata": {
        "colab": {
          "base_uri": "https://localhost:8080/"
        },
        "id": "95FBnpzp9T5z",
        "outputId": "650d1ee2-13a1-4176-8f58-55ad172d8cf1"
      },
      "execution_count": 147,
      "outputs": [
        {
          "output_type": "stream",
          "name": "stdout",
          "text": [
            "CALL apoc.import.csv( [{ fileName: 'https://raw.githubusercontent.com/data4knowledge/biomedical_concepts/main/data/csv_load/stage_10_other_source_nodes.csv', labels: ['OTHER_SOURCE'] }, { fileName: 'https://raw.githubusercontent.com/data4knowledge/biomedical_concepts/main/data/csv_load/stage_10_bc_data_type_nodes.csv', labels: ['BC_DATA_TYPE'] }, { fileName: 'https://raw.githubusercontent.com/data4knowledge/biomedical_concepts/main/data/csv_load/stage_10_bc_item_nodes.csv', labels: ['BC_ITEM'] }, { fileName: 'https://raw.githubusercontent.com/data4knowledge/biomedical_concepts/main/data/csv_load/stage_10_bc_template_nodes.csv', labels: ['BC_TEMPLATE'] }], [{ fileName: 'https://raw.githubusercontent.com/data4knowledge/biomedical_concepts/main/data/csv_load/stage_10_from_source_relationships.csv', type: 'FROM_SOURCE' }, { fileName: 'https://raw.githubusercontent.com/data4knowledge/biomedical_concepts/main/data/csv_load/stage_10_has_data_type_relationships.csv', type: 'HAS_DATA_TYPE' }, { fileName: 'https://raw.githubusercontent.com/data4knowledge/biomedical_concepts/main/data/csv_load/stage_10_has_identifier_relationships.csv', type: 'HAS_IDENTIFIER' }, { fileName: 'https://raw.githubusercontent.com/data4knowledge/biomedical_concepts/main/data/csv_load/stage_10_has_item_relationships.csv', type: 'HAS_ITEM' }], {stringIds: false})\n",
            "<neo4j.work.result.Result object at 0x7f29ab25aa90>\n",
            "<Record file='progress.csv' source='file' format='csv' nodes=37 relationships=38 properties=143 time=1499 rows=0 batchSize=-1 batches=0 done=True data=None>\n"
          ]
        }
      ]
    },
    {
      "cell_type": "markdown",
      "source": [
        "Now add in the data types notes for the templates. Copy from the data types to the templates "
      ],
      "metadata": {
        "id": "E0GmZ2_7IffV"
      }
    },
    {
      "cell_type": "code",
      "source": [
        "with driver.session() as session:\n",
        "  query = \"\"\"MATCH (m:BC_DATA_TYPE) RETURN m.uri as uri\"\"\" \n",
        "  result = session.run(query)\n",
        "  for record in result:\n",
        "    print(record[\"uri\"])\n",
        "    query = \"\"\"MATCH (n:BC_DATA_TYPE{uri:'%s'})\n",
        "      WITH n\n",
        "      MATCH (dt:FHIR_DATA_TYPE{name: n.name})\n",
        "      CREATE (n)-[:IS_A]->(dt)\n",
        "      RETURN n.name as bc_name, dt.name as dt_name;\n",
        "    \"\"\" % (record[\"uri\"])\n",
        "    inner_result = session.run(query)\n",
        "    for inner_record in inner_result:\n",
        "      print(\"%s, %s linked\" % (inner_record[\"bc_name\"], inner_record[\"dt_name\"]))\n",
        "\n",
        "driver.close()\n",
        "\n",
        "uri_data = []\n",
        "with driver.session() as session:\n",
        "  query = \"\"\"MATCH (n:BC_DATA_TYPE)-[:IS_A]->(dt:FHIR_DATA_TYPE) RETURN n.uri as bc_data_type, dt.uri as data_type\"\"\" \n",
        "  result = session.run(query)\n",
        "  for record in result:\n",
        "    query = \"\"\"MATCH (n:BC_DATA_TYPE{uri:'%s'}), (dt:FHIR_DATA_TYPE{uri:'%s'})\n",
        "      CALL apoc.path.subgraphAll(dt, {relationshipFilter:'HAS_DATA_TYPE_PROPERTY>'})\n",
        "      YIELD nodes, relationships\n",
        "      CALL apoc.refactor.cloneSubgraph(\n",
        "        nodes,\n",
        "        [rel in relationships WHERE type(rel) = 'HAS_DATA_TYPE_PROPERTY'],\n",
        "        { standinNodes:[[dt, n]] })\n",
        "      YIELD input, output, error\n",
        "      RETURN output;\n",
        "    \"\"\" % (record[\"bc_data_type\"], record[\"data_type\"])\n",
        "    inner_result = session.run(query)\n",
        "    for inner_record in inner_result:\n",
        "      node = inner_record[\"output\"]\n",
        "      print(node)\n",
        "      uri_data.append({\"id\": node.id, \"uri\": \"%s#%s\" % (record[\"bc_data_type\"], node[\"name\"]) })\n",
        "    print (\"Duplicated for: \", record[\"bc_data_type\"])\n",
        "\n",
        "driver.close()\n",
        "\n",
        "with driver.session() as session:\n",
        "  query = \"\"\"UNWIND $uri_data AS d\n",
        "    MATCH (n) WHERE ID(n)=d.id\n",
        "    SET n.uri = d.uri;\"\"\" \n",
        "  result = session.run(query, uri_data=uri_data)\n",
        "driver.close()\n",
        "print (\"URIs set.\")"
      ],
      "metadata": {
        "colab": {
          "base_uri": "https://localhost:8080/"
        },
        "id": "iCWSwyC5GLdm",
        "outputId": "46455215-4979-4065-e5b5-f286354b51d4"
      },
      "execution_count": 148,
      "outputs": [
        {
          "output_type": "stream",
          "name": "stdout",
          "text": [
            "http://id.d4k.dk/dataset/bc_template/base_observation/test/coding\n",
            "coding, coding linked\n",
            "http://id.d4k.dk/dataset/bc_template/base_observation/position/coding\n",
            "coding, coding linked\n",
            "http://id.d4k.dk/dataset/bc_template/base_observation/site_of_administration/coding\n",
            "coding, coding linked\n",
            "http://id.d4k.dk/dataset/bc_template/base_observation/laterality/coding\n",
            "coding, coding linked\n",
            "http://id.d4k.dk/dataset/bc_template/base_observation/method/coding\n",
            "coding, coding linked\n",
            "http://id.d4k.dk/dataset/bc_template/base_observation/date_time/datetime\n",
            "http://id.d4k.dk/dataset/bc_template/base_observation/result/quantity\n",
            "quantity, quantity linked\n",
            "http://id.d4k.dk/dataset/bc_template/base_observation/result/coding\n",
            "coding, coding linked\n",
            "http://id.d4k.dk/dataset/bc_template/base_laboratory/test/coding\n",
            "coding, coding linked\n",
            "http://id.d4k.dk/dataset/bc_template/base_laboratory/position/coding\n",
            "coding, coding linked\n",
            "http://id.d4k.dk/dataset/bc_template/base_laboratory/site_of_administration/coding\n",
            "coding, coding linked\n",
            "http://id.d4k.dk/dataset/bc_template/base_laboratory/laterality/coding\n",
            "coding, coding linked\n",
            "http://id.d4k.dk/dataset/bc_template/base_laboratory/directionality/coding\n",
            "coding, coding linked\n",
            "http://id.d4k.dk/dataset/bc_template/base_laboratory/method/coding\n",
            "coding, coding linked\n",
            "http://id.d4k.dk/dataset/bc_template/base_laboratory/date_time/datetime\n",
            "http://id.d4k.dk/dataset/bc_template/base_laboratory/result/quantity\n",
            "quantity, quantity linked\n",
            "http://id.d4k.dk/dataset/bc_template/base_laboratory/result/coding\n",
            "coding, coding linked\n",
            "http://id.d4k.dk/dataset/bc_template/base_laboratory/specimen/coding\n",
            "coding, coding linked\n",
            "<Node id=11851 labels=frozenset({'FHIR_DATA_TYPE_PROPERTY'}) properties={'name': 'display', 'simple_data_type': 'string', 'id': 11, 'uri': 'http://id.d4k.dk/dataset/hl7/fhir/datatypes#coding_display'}>\n",
            "<Node id=11852 labels=frozenset({'FHIR_DATA_TYPE_PROPERTY'}) properties={'name': 'system', 'simple_data_type': 'string', 'id': 10, 'uri': 'http://id.d4k.dk/dataset/hl7/fhir/datatypes#coding_system'}>\n",
            "<Node id=11853 labels=frozenset({'FHIR_DATA_TYPE_PROPERTY'}) properties={'name': 'version', 'simple_data_type': 'string', 'id': 14, 'uri': 'http://id.d4k.dk/dataset/hl7/fhir/datatypes#coding_version'}>\n",
            "<Node id=11854 labels=frozenset({'FHIR_DATA_TYPE_PROPERTY'}) properties={'name': 'code', 'simple_data_type': 'code', 'id': 13, 'uri': 'http://id.d4k.dk/dataset/hl7/fhir/datatypes#coding_code'}>\n",
            "<Node id=11855 labels=frozenset({'FHIR_DATA_TYPE_PROPERTY'}) properties={'name': 'user_selected', 'simple_data_type': 'boolean', 'id': 12, 'uri': 'http://id.d4k.dk/dataset/hl7/fhir/datatypes#coding_user_selected'}>\n",
            "Duplicated for:  http://id.d4k.dk/dataset/bc_template/base_laboratory/specimen/coding\n",
            "<Node id=11856 labels=frozenset({'FHIR_DATA_TYPE_PROPERTY'}) properties={'name': 'display', 'simple_data_type': 'string', 'id': 11, 'uri': 'http://id.d4k.dk/dataset/hl7/fhir/datatypes#coding_display'}>\n",
            "<Node id=11857 labels=frozenset({'FHIR_DATA_TYPE_PROPERTY'}) properties={'name': 'system', 'simple_data_type': 'string', 'id': 10, 'uri': 'http://id.d4k.dk/dataset/hl7/fhir/datatypes#coding_system'}>\n",
            "<Node id=11858 labels=frozenset({'FHIR_DATA_TYPE_PROPERTY'}) properties={'name': 'version', 'simple_data_type': 'string', 'id': 14, 'uri': 'http://id.d4k.dk/dataset/hl7/fhir/datatypes#coding_version'}>\n",
            "<Node id=11859 labels=frozenset({'FHIR_DATA_TYPE_PROPERTY'}) properties={'name': 'code', 'simple_data_type': 'code', 'id': 13, 'uri': 'http://id.d4k.dk/dataset/hl7/fhir/datatypes#coding_code'}>\n",
            "<Node id=11860 labels=frozenset({'FHIR_DATA_TYPE_PROPERTY'}) properties={'name': 'user_selected', 'simple_data_type': 'boolean', 'id': 12, 'uri': 'http://id.d4k.dk/dataset/hl7/fhir/datatypes#coding_user_selected'}>\n",
            "Duplicated for:  http://id.d4k.dk/dataset/bc_template/base_laboratory/result/coding\n",
            "<Node id=11861 labels=frozenset({'FHIR_DATA_TYPE_PROPERTY'}) properties={'name': 'display', 'simple_data_type': 'string', 'id': 11, 'uri': 'http://id.d4k.dk/dataset/hl7/fhir/datatypes#coding_display'}>\n",
            "<Node id=11862 labels=frozenset({'FHIR_DATA_TYPE_PROPERTY'}) properties={'name': 'system', 'simple_data_type': 'string', 'id': 10, 'uri': 'http://id.d4k.dk/dataset/hl7/fhir/datatypes#coding_system'}>\n",
            "<Node id=11863 labels=frozenset({'FHIR_DATA_TYPE_PROPERTY'}) properties={'name': 'version', 'simple_data_type': 'string', 'id': 14, 'uri': 'http://id.d4k.dk/dataset/hl7/fhir/datatypes#coding_version'}>\n",
            "<Node id=11864 labels=frozenset({'FHIR_DATA_TYPE_PROPERTY'}) properties={'name': 'code', 'simple_data_type': 'code', 'id': 13, 'uri': 'http://id.d4k.dk/dataset/hl7/fhir/datatypes#coding_code'}>\n",
            "<Node id=11865 labels=frozenset({'FHIR_DATA_TYPE_PROPERTY'}) properties={'name': 'user_selected', 'simple_data_type': 'boolean', 'id': 12, 'uri': 'http://id.d4k.dk/dataset/hl7/fhir/datatypes#coding_user_selected'}>\n",
            "Duplicated for:  http://id.d4k.dk/dataset/bc_template/base_laboratory/method/coding\n",
            "<Node id=11866 labels=frozenset({'FHIR_DATA_TYPE_PROPERTY'}) properties={'name': 'display', 'simple_data_type': 'string', 'id': 11, 'uri': 'http://id.d4k.dk/dataset/hl7/fhir/datatypes#coding_display'}>\n",
            "<Node id=11867 labels=frozenset({'FHIR_DATA_TYPE_PROPERTY'}) properties={'name': 'system', 'simple_data_type': 'string', 'id': 10, 'uri': 'http://id.d4k.dk/dataset/hl7/fhir/datatypes#coding_system'}>\n",
            "<Node id=11868 labels=frozenset({'FHIR_DATA_TYPE_PROPERTY'}) properties={'name': 'version', 'simple_data_type': 'string', 'id': 14, 'uri': 'http://id.d4k.dk/dataset/hl7/fhir/datatypes#coding_version'}>\n",
            "<Node id=11869 labels=frozenset({'FHIR_DATA_TYPE_PROPERTY'}) properties={'name': 'code', 'simple_data_type': 'code', 'id': 13, 'uri': 'http://id.d4k.dk/dataset/hl7/fhir/datatypes#coding_code'}>\n",
            "<Node id=11870 labels=frozenset({'FHIR_DATA_TYPE_PROPERTY'}) properties={'name': 'user_selected', 'simple_data_type': 'boolean', 'id': 12, 'uri': 'http://id.d4k.dk/dataset/hl7/fhir/datatypes#coding_user_selected'}>\n",
            "Duplicated for:  http://id.d4k.dk/dataset/bc_template/base_laboratory/directionality/coding\n",
            "<Node id=11871 labels=frozenset({'FHIR_DATA_TYPE_PROPERTY'}) properties={'name': 'display', 'simple_data_type': 'string', 'id': 11, 'uri': 'http://id.d4k.dk/dataset/hl7/fhir/datatypes#coding_display'}>\n",
            "<Node id=11872 labels=frozenset({'FHIR_DATA_TYPE_PROPERTY'}) properties={'name': 'system', 'simple_data_type': 'string', 'id': 10, 'uri': 'http://id.d4k.dk/dataset/hl7/fhir/datatypes#coding_system'}>\n",
            "<Node id=11873 labels=frozenset({'FHIR_DATA_TYPE_PROPERTY'}) properties={'name': 'version', 'simple_data_type': 'string', 'id': 14, 'uri': 'http://id.d4k.dk/dataset/hl7/fhir/datatypes#coding_version'}>\n",
            "<Node id=11874 labels=frozenset({'FHIR_DATA_TYPE_PROPERTY'}) properties={'name': 'code', 'simple_data_type': 'code', 'id': 13, 'uri': 'http://id.d4k.dk/dataset/hl7/fhir/datatypes#coding_code'}>\n",
            "<Node id=11875 labels=frozenset({'FHIR_DATA_TYPE_PROPERTY'}) properties={'name': 'user_selected', 'simple_data_type': 'boolean', 'id': 12, 'uri': 'http://id.d4k.dk/dataset/hl7/fhir/datatypes#coding_user_selected'}>\n",
            "Duplicated for:  http://id.d4k.dk/dataset/bc_template/base_laboratory/laterality/coding\n",
            "<Node id=11876 labels=frozenset({'FHIR_DATA_TYPE_PROPERTY'}) properties={'name': 'display', 'simple_data_type': 'string', 'id': 11, 'uri': 'http://id.d4k.dk/dataset/hl7/fhir/datatypes#coding_display'}>\n",
            "<Node id=11877 labels=frozenset({'FHIR_DATA_TYPE_PROPERTY'}) properties={'name': 'system', 'simple_data_type': 'string', 'id': 10, 'uri': 'http://id.d4k.dk/dataset/hl7/fhir/datatypes#coding_system'}>\n",
            "<Node id=11878 labels=frozenset({'FHIR_DATA_TYPE_PROPERTY'}) properties={'name': 'version', 'simple_data_type': 'string', 'id': 14, 'uri': 'http://id.d4k.dk/dataset/hl7/fhir/datatypes#coding_version'}>\n",
            "<Node id=11879 labels=frozenset({'FHIR_DATA_TYPE_PROPERTY'}) properties={'name': 'code', 'simple_data_type': 'code', 'id': 13, 'uri': 'http://id.d4k.dk/dataset/hl7/fhir/datatypes#coding_code'}>\n",
            "<Node id=11880 labels=frozenset({'FHIR_DATA_TYPE_PROPERTY'}) properties={'name': 'user_selected', 'simple_data_type': 'boolean', 'id': 12, 'uri': 'http://id.d4k.dk/dataset/hl7/fhir/datatypes#coding_user_selected'}>\n",
            "Duplicated for:  http://id.d4k.dk/dataset/bc_template/base_laboratory/site_of_administration/coding\n",
            "<Node id=11881 labels=frozenset({'FHIR_DATA_TYPE_PROPERTY'}) properties={'name': 'display', 'simple_data_type': 'string', 'id': 11, 'uri': 'http://id.d4k.dk/dataset/hl7/fhir/datatypes#coding_display'}>\n",
            "<Node id=11882 labels=frozenset({'FHIR_DATA_TYPE_PROPERTY'}) properties={'name': 'system', 'simple_data_type': 'string', 'id': 10, 'uri': 'http://id.d4k.dk/dataset/hl7/fhir/datatypes#coding_system'}>\n",
            "<Node id=11883 labels=frozenset({'FHIR_DATA_TYPE_PROPERTY'}) properties={'name': 'version', 'simple_data_type': 'string', 'id': 14, 'uri': 'http://id.d4k.dk/dataset/hl7/fhir/datatypes#coding_version'}>\n",
            "<Node id=11884 labels=frozenset({'FHIR_DATA_TYPE_PROPERTY'}) properties={'name': 'code', 'simple_data_type': 'code', 'id': 13, 'uri': 'http://id.d4k.dk/dataset/hl7/fhir/datatypes#coding_code'}>\n",
            "<Node id=11885 labels=frozenset({'FHIR_DATA_TYPE_PROPERTY'}) properties={'name': 'user_selected', 'simple_data_type': 'boolean', 'id': 12, 'uri': 'http://id.d4k.dk/dataset/hl7/fhir/datatypes#coding_user_selected'}>\n",
            "Duplicated for:  http://id.d4k.dk/dataset/bc_template/base_laboratory/position/coding\n",
            "<Node id=11886 labels=frozenset({'FHIR_DATA_TYPE_PROPERTY'}) properties={'name': 'display', 'simple_data_type': 'string', 'id': 11, 'uri': 'http://id.d4k.dk/dataset/hl7/fhir/datatypes#coding_display'}>\n",
            "<Node id=11887 labels=frozenset({'FHIR_DATA_TYPE_PROPERTY'}) properties={'name': 'system', 'simple_data_type': 'string', 'id': 10, 'uri': 'http://id.d4k.dk/dataset/hl7/fhir/datatypes#coding_system'}>\n",
            "<Node id=11888 labels=frozenset({'FHIR_DATA_TYPE_PROPERTY'}) properties={'name': 'version', 'simple_data_type': 'string', 'id': 14, 'uri': 'http://id.d4k.dk/dataset/hl7/fhir/datatypes#coding_version'}>\n",
            "<Node id=11889 labels=frozenset({'FHIR_DATA_TYPE_PROPERTY'}) properties={'name': 'code', 'simple_data_type': 'code', 'id': 13, 'uri': 'http://id.d4k.dk/dataset/hl7/fhir/datatypes#coding_code'}>\n",
            "<Node id=11890 labels=frozenset({'FHIR_DATA_TYPE_PROPERTY'}) properties={'name': 'user_selected', 'simple_data_type': 'boolean', 'id': 12, 'uri': 'http://id.d4k.dk/dataset/hl7/fhir/datatypes#coding_user_selected'}>\n",
            "Duplicated for:  http://id.d4k.dk/dataset/bc_template/base_laboratory/test/coding\n",
            "<Node id=11891 labels=frozenset({'FHIR_DATA_TYPE_PROPERTY'}) properties={'name': 'display', 'simple_data_type': 'string', 'id': 11, 'uri': 'http://id.d4k.dk/dataset/hl7/fhir/datatypes#coding_display'}>\n",
            "<Node id=11892 labels=frozenset({'FHIR_DATA_TYPE_PROPERTY'}) properties={'name': 'system', 'simple_data_type': 'string', 'id': 10, 'uri': 'http://id.d4k.dk/dataset/hl7/fhir/datatypes#coding_system'}>\n",
            "<Node id=11893 labels=frozenset({'FHIR_DATA_TYPE_PROPERTY'}) properties={'name': 'version', 'simple_data_type': 'string', 'id': 14, 'uri': 'http://id.d4k.dk/dataset/hl7/fhir/datatypes#coding_version'}>\n",
            "<Node id=11894 labels=frozenset({'FHIR_DATA_TYPE_PROPERTY'}) properties={'name': 'code', 'simple_data_type': 'code', 'id': 13, 'uri': 'http://id.d4k.dk/dataset/hl7/fhir/datatypes#coding_code'}>\n",
            "<Node id=11895 labels=frozenset({'FHIR_DATA_TYPE_PROPERTY'}) properties={'name': 'user_selected', 'simple_data_type': 'boolean', 'id': 12, 'uri': 'http://id.d4k.dk/dataset/hl7/fhir/datatypes#coding_user_selected'}>\n",
            "Duplicated for:  http://id.d4k.dk/dataset/bc_template/base_observation/result/coding\n",
            "<Node id=11896 labels=frozenset({'FHIR_DATA_TYPE_PROPERTY'}) properties={'name': 'display', 'simple_data_type': 'string', 'id': 11, 'uri': 'http://id.d4k.dk/dataset/hl7/fhir/datatypes#coding_display'}>\n",
            "<Node id=11897 labels=frozenset({'FHIR_DATA_TYPE_PROPERTY'}) properties={'name': 'system', 'simple_data_type': 'string', 'id': 10, 'uri': 'http://id.d4k.dk/dataset/hl7/fhir/datatypes#coding_system'}>\n",
            "<Node id=11898 labels=frozenset({'FHIR_DATA_TYPE_PROPERTY'}) properties={'name': 'version', 'simple_data_type': 'string', 'id': 14, 'uri': 'http://id.d4k.dk/dataset/hl7/fhir/datatypes#coding_version'}>\n",
            "<Node id=11899 labels=frozenset({'FHIR_DATA_TYPE_PROPERTY'}) properties={'name': 'code', 'simple_data_type': 'code', 'id': 13, 'uri': 'http://id.d4k.dk/dataset/hl7/fhir/datatypes#coding_code'}>\n",
            "<Node id=11900 labels=frozenset({'FHIR_DATA_TYPE_PROPERTY'}) properties={'name': 'user_selected', 'simple_data_type': 'boolean', 'id': 12, 'uri': 'http://id.d4k.dk/dataset/hl7/fhir/datatypes#coding_user_selected'}>\n",
            "Duplicated for:  http://id.d4k.dk/dataset/bc_template/base_observation/method/coding\n",
            "<Node id=11901 labels=frozenset({'FHIR_DATA_TYPE_PROPERTY'}) properties={'name': 'display', 'simple_data_type': 'string', 'id': 11, 'uri': 'http://id.d4k.dk/dataset/hl7/fhir/datatypes#coding_display'}>\n",
            "<Node id=11902 labels=frozenset({'FHIR_DATA_TYPE_PROPERTY'}) properties={'name': 'system', 'simple_data_type': 'string', 'id': 10, 'uri': 'http://id.d4k.dk/dataset/hl7/fhir/datatypes#coding_system'}>\n",
            "<Node id=11903 labels=frozenset({'FHIR_DATA_TYPE_PROPERTY'}) properties={'name': 'version', 'simple_data_type': 'string', 'id': 14, 'uri': 'http://id.d4k.dk/dataset/hl7/fhir/datatypes#coding_version'}>\n",
            "<Node id=11904 labels=frozenset({'FHIR_DATA_TYPE_PROPERTY'}) properties={'name': 'code', 'simple_data_type': 'code', 'id': 13, 'uri': 'http://id.d4k.dk/dataset/hl7/fhir/datatypes#coding_code'}>\n",
            "<Node id=11905 labels=frozenset({'FHIR_DATA_TYPE_PROPERTY'}) properties={'name': 'user_selected', 'simple_data_type': 'boolean', 'id': 12, 'uri': 'http://id.d4k.dk/dataset/hl7/fhir/datatypes#coding_user_selected'}>\n",
            "Duplicated for:  http://id.d4k.dk/dataset/bc_template/base_observation/laterality/coding\n",
            "<Node id=11906 labels=frozenset({'FHIR_DATA_TYPE_PROPERTY'}) properties={'name': 'display', 'simple_data_type': 'string', 'id': 11, 'uri': 'http://id.d4k.dk/dataset/hl7/fhir/datatypes#coding_display'}>\n",
            "<Node id=11907 labels=frozenset({'FHIR_DATA_TYPE_PROPERTY'}) properties={'name': 'system', 'simple_data_type': 'string', 'id': 10, 'uri': 'http://id.d4k.dk/dataset/hl7/fhir/datatypes#coding_system'}>\n",
            "<Node id=11908 labels=frozenset({'FHIR_DATA_TYPE_PROPERTY'}) properties={'name': 'version', 'simple_data_type': 'string', 'id': 14, 'uri': 'http://id.d4k.dk/dataset/hl7/fhir/datatypes#coding_version'}>\n",
            "<Node id=11909 labels=frozenset({'FHIR_DATA_TYPE_PROPERTY'}) properties={'name': 'code', 'simple_data_type': 'code', 'id': 13, 'uri': 'http://id.d4k.dk/dataset/hl7/fhir/datatypes#coding_code'}>\n",
            "<Node id=11910 labels=frozenset({'FHIR_DATA_TYPE_PROPERTY'}) properties={'name': 'user_selected', 'simple_data_type': 'boolean', 'id': 12, 'uri': 'http://id.d4k.dk/dataset/hl7/fhir/datatypes#coding_user_selected'}>\n",
            "Duplicated for:  http://id.d4k.dk/dataset/bc_template/base_observation/site_of_administration/coding\n",
            "<Node id=11911 labels=frozenset({'FHIR_DATA_TYPE_PROPERTY'}) properties={'name': 'display', 'simple_data_type': 'string', 'id': 11, 'uri': 'http://id.d4k.dk/dataset/hl7/fhir/datatypes#coding_display'}>\n",
            "<Node id=11912 labels=frozenset({'FHIR_DATA_TYPE_PROPERTY'}) properties={'name': 'system', 'simple_data_type': 'string', 'id': 10, 'uri': 'http://id.d4k.dk/dataset/hl7/fhir/datatypes#coding_system'}>\n",
            "<Node id=11913 labels=frozenset({'FHIR_DATA_TYPE_PROPERTY'}) properties={'name': 'version', 'simple_data_type': 'string', 'id': 14, 'uri': 'http://id.d4k.dk/dataset/hl7/fhir/datatypes#coding_version'}>\n",
            "<Node id=11914 labels=frozenset({'FHIR_DATA_TYPE_PROPERTY'}) properties={'name': 'code', 'simple_data_type': 'code', 'id': 13, 'uri': 'http://id.d4k.dk/dataset/hl7/fhir/datatypes#coding_code'}>\n",
            "<Node id=11915 labels=frozenset({'FHIR_DATA_TYPE_PROPERTY'}) properties={'name': 'user_selected', 'simple_data_type': 'boolean', 'id': 12, 'uri': 'http://id.d4k.dk/dataset/hl7/fhir/datatypes#coding_user_selected'}>\n",
            "Duplicated for:  http://id.d4k.dk/dataset/bc_template/base_observation/position/coding\n",
            "<Node id=11916 labels=frozenset({'FHIR_DATA_TYPE_PROPERTY'}) properties={'name': 'display', 'simple_data_type': 'string', 'id': 11, 'uri': 'http://id.d4k.dk/dataset/hl7/fhir/datatypes#coding_display'}>\n",
            "<Node id=11917 labels=frozenset({'FHIR_DATA_TYPE_PROPERTY'}) properties={'name': 'system', 'simple_data_type': 'string', 'id': 10, 'uri': 'http://id.d4k.dk/dataset/hl7/fhir/datatypes#coding_system'}>\n",
            "<Node id=11918 labels=frozenset({'FHIR_DATA_TYPE_PROPERTY'}) properties={'name': 'version', 'simple_data_type': 'string', 'id': 14, 'uri': 'http://id.d4k.dk/dataset/hl7/fhir/datatypes#coding_version'}>\n",
            "<Node id=11919 labels=frozenset({'FHIR_DATA_TYPE_PROPERTY'}) properties={'name': 'code', 'simple_data_type': 'code', 'id': 13, 'uri': 'http://id.d4k.dk/dataset/hl7/fhir/datatypes#coding_code'}>\n",
            "<Node id=11920 labels=frozenset({'FHIR_DATA_TYPE_PROPERTY'}) properties={'name': 'user_selected', 'simple_data_type': 'boolean', 'id': 12, 'uri': 'http://id.d4k.dk/dataset/hl7/fhir/datatypes#coding_user_selected'}>\n",
            "Duplicated for:  http://id.d4k.dk/dataset/bc_template/base_observation/test/coding\n",
            "<Node id=11921 labels=frozenset({'FHIR_DATA_TYPE_PROPERTY'}) properties={'name': 'code', 'simple_data_type': 'code', 'id': 9, 'uri': 'http://id.d4k.dk/dataset/hl7/fhir/datatypes#quantity_code'}>\n",
            "<Node id=11922 labels=frozenset({'FHIR_DATA_TYPE_PROPERTY'}) properties={'name': 'comparator', 'simple_data_type': 'code', 'id': 7, 'uri': 'http://id.d4k.dk/dataset/hl7/fhir/datatypes#quantity_comparator'}>\n",
            "<Node id=11923 labels=frozenset({'FHIR_DATA_TYPE_PROPERTY'}) properties={'name': 'system', 'simple_data_type': 'string', 'id': 5, 'uri': 'http://id.d4k.dk/dataset/hl7/fhir/datatypes#quantity_system'}>\n",
            "<Node id=11924 labels=frozenset({'FHIR_DATA_TYPE_PROPERTY'}) properties={'name': 'value', 'simple_data_type': 'float', 'id': 6, 'uri': 'http://id.d4k.dk/dataset/hl7/fhir/datatypes#quantity_value'}>\n",
            "<Node id=11925 labels=frozenset({'FHIR_DATA_TYPE_PROPERTY'}) properties={'name': 'unit', 'simple_data_type': 'string', 'id': 8, 'uri': 'http://id.d4k.dk/dataset/hl7/fhir/datatypes#quantity_unit'}>\n",
            "Duplicated for:  http://id.d4k.dk/dataset/bc_template/base_laboratory/result/quantity\n",
            "<Node id=11926 labels=frozenset({'FHIR_DATA_TYPE_PROPERTY'}) properties={'name': 'code', 'simple_data_type': 'code', 'id': 9, 'uri': 'http://id.d4k.dk/dataset/hl7/fhir/datatypes#quantity_code'}>\n",
            "<Node id=11927 labels=frozenset({'FHIR_DATA_TYPE_PROPERTY'}) properties={'name': 'comparator', 'simple_data_type': 'code', 'id': 7, 'uri': 'http://id.d4k.dk/dataset/hl7/fhir/datatypes#quantity_comparator'}>\n",
            "<Node id=11928 labels=frozenset({'FHIR_DATA_TYPE_PROPERTY'}) properties={'name': 'system', 'simple_data_type': 'string', 'id': 5, 'uri': 'http://id.d4k.dk/dataset/hl7/fhir/datatypes#quantity_system'}>\n",
            "<Node id=11929 labels=frozenset({'FHIR_DATA_TYPE_PROPERTY'}) properties={'name': 'value', 'simple_data_type': 'float', 'id': 6, 'uri': 'http://id.d4k.dk/dataset/hl7/fhir/datatypes#quantity_value'}>\n",
            "<Node id=11930 labels=frozenset({'FHIR_DATA_TYPE_PROPERTY'}) properties={'name': 'unit', 'simple_data_type': 'string', 'id': 8, 'uri': 'http://id.d4k.dk/dataset/hl7/fhir/datatypes#quantity_unit'}>\n",
            "Duplicated for:  http://id.d4k.dk/dataset/bc_template/base_observation/result/quantity\n",
            "URIs set.\n"
          ]
        }
      ]
    },
    {
      "cell_type": "code",
      "source": [
        "stage_11_files = [ \n",
        "    { \"label\": \"OTHER_SOURCE\", \"filename\": \"stage_11_other_source_nodes.csv\" },\n",
        "    { \"label\": \"BC_VALUE_SET\", \"filename\": \"stage_11_bc_value_set_nodes.csv\" },\n",
        "    { \"label\": \"BC_DATA_PROPERTY\", \"filename\": \"stage_11_bc_data_property_nodes.csv\" },\n",
        "    { \"label\": \"BC_DATA_TYPE\", \"filename\": \"stage_11_bc_data_type_nodes.csv\" },\n",
        "    { \"label\": \"BC_ITEM\", \"filename\": \"stage_11_bc_item_nodes.csv\" },\n",
        "    { \"label\": \"BC_INSTANCE\", \"filename\": \"stage_11_bc_instance_nodes.csv\" },\n",
        "    { \"type\": \"FROM_SOURCE\", \"filename\": \"stage_11_from_source_relationships.csv\" },\n",
        "    { \"type\": \"HAS_RESPONSE\", \"filename\": \"stage_11_has_response_relationships.csv\" },\n",
        "    { \"type\": \"HAS_DATA_PROPERTY\", \"filename\": \"stage_11_has_data_property_relationships.csv\" },\n",
        "    { \"type\": \"HAS_DATA_TYPE\", \"filename\": \"stage_11_has_data_type_relationships.csv\" },\n",
        "    { \"type\": \"HAS_IDENTIFIER\", \"filename\": \"stage_11_has_identifier_relationships.csv\" },\n",
        "    { \"type\": \"HAS_ITEM\", \"filename\": \"stage_11_has_item_relationships.csv\" }\n",
        "  ]\n",
        "\n",
        "file_load(stage_11_files)"
      ],
      "metadata": {
        "colab": {
          "base_uri": "https://localhost:8080/"
        },
        "id": "nKEod92dmIc_",
        "outputId": "edede9c0-e48e-496d-e35e-88103bc6bfb2"
      },
      "execution_count": 149,
      "outputs": [
        {
          "output_type": "stream",
          "name": "stdout",
          "text": [
            "CALL apoc.import.csv( [{ fileName: 'https://raw.githubusercontent.com/data4knowledge/biomedical_concepts/main/data/csv_load/stage_11_other_source_nodes.csv', labels: ['OTHER_SOURCE'] }, { fileName: 'https://raw.githubusercontent.com/data4knowledge/biomedical_concepts/main/data/csv_load/stage_11_bc_value_set_nodes.csv', labels: ['BC_VALUE_SET'] }, { fileName: 'https://raw.githubusercontent.com/data4knowledge/biomedical_concepts/main/data/csv_load/stage_11_bc_data_property_nodes.csv', labels: ['BC_DATA_PROPERTY'] }, { fileName: 'https://raw.githubusercontent.com/data4knowledge/biomedical_concepts/main/data/csv_load/stage_11_bc_data_type_nodes.csv', labels: ['BC_DATA_TYPE'] }, { fileName: 'https://raw.githubusercontent.com/data4knowledge/biomedical_concepts/main/data/csv_load/stage_11_bc_item_nodes.csv', labels: ['BC_ITEM'] }, { fileName: 'https://raw.githubusercontent.com/data4knowledge/biomedical_concepts/main/data/csv_load/stage_11_bc_instance_nodes.csv', labels: ['BC_INSTANCE'] }], [{ fileName: 'https://raw.githubusercontent.com/data4knowledge/biomedical_concepts/main/data/csv_load/stage_11_from_source_relationships.csv', type: 'FROM_SOURCE' }, { fileName: 'https://raw.githubusercontent.com/data4knowledge/biomedical_concepts/main/data/csv_load/stage_11_has_response_relationships.csv', type: 'HAS_RESPONSE' }, { fileName: 'https://raw.githubusercontent.com/data4knowledge/biomedical_concepts/main/data/csv_load/stage_11_has_data_property_relationships.csv', type: 'HAS_DATA_PROPERTY' }, { fileName: 'https://raw.githubusercontent.com/data4knowledge/biomedical_concepts/main/data/csv_load/stage_11_has_data_type_relationships.csv', type: 'HAS_DATA_TYPE' }, { fileName: 'https://raw.githubusercontent.com/data4knowledge/biomedical_concepts/main/data/csv_load/stage_11_has_identifier_relationships.csv', type: 'HAS_IDENTIFIER' }, { fileName: 'https://raw.githubusercontent.com/data4knowledge/biomedical_concepts/main/data/csv_load/stage_11_has_item_relationships.csv', type: 'HAS_ITEM' }], {stringIds: false})\n",
            "<neo4j.work.result.Result object at 0x7f29ab252810>\n",
            "<Record file='progress.csv' source='file' format='csv' nodes=24 relationships=24 properties=98 time=2193 rows=0 batchSize=-1 batches=0 done=True data=None>\n"
          ]
        }
      ]
    },
    {
      "cell_type": "markdown",
      "source": [
        "Check that we can see the coded values for the BC loaded. Should get three results\n",
        "\n",
        "- [C66741, C25208]\n",
        "- [C66770, C28252]\n",
        "- [C66770, C48531]"
      ],
      "metadata": {
        "id": "eLme2u3BCkcE"
      }
    },
    {
      "cell_type": "code",
      "source": [
        "with driver.session() as session:\n",
        "  query = \"\"\"MATCH (n:BC_DATA_PROPERTY)-[:HAS_RESPONSE]->(d) RETURN n.name as name, d.cl as cl, d.cli as cli, d.uri as uri\"\"\" \n",
        "  result = session.run(query)\n",
        "  for record in result:\n",
        "    print (\"%s: [%s, %s], uri=%s\" % (record[\"name\"], record[\"cl\"], record[\"cli\"], record[\"uri\"]))\n",
        "driver.close()"
      ],
      "metadata": {
        "colab": {
          "base_uri": "https://localhost:8080/"
        },
        "id": "cqgJqRtjwRWT",
        "outputId": "d0de08ce-8b1e-48c0-82db-32ea914a8591"
      },
      "execution_count": 150,
      "outputs": [
        {
          "output_type": "stream",
          "name": "stdout",
          "text": [
            "code: [C66741, C25208], uri=http://id.d4k.dk/dataset/bc_instance/weight/test/coding/code/c66741-c25208\n",
            "code: [C66770, C28252], uri=http://id.d4k.dk/dataset/bc_instance/weight/result/quantity/code/c66770-c28252\n",
            "code: [C66770, C48531], uri=http://id.d4k.dk/dataset/bc_instance/weight/result/quantity/code/c66770-c48531\n"
          ]
        }
      ]
    },
    {
      "cell_type": "markdown",
      "source": [
        "Now load any Code Lists used by the BCs. Check loaded OK.\n",
        "\n",
        "- C66741 - VSTESTCD\n",
        "- C66770 - VSRESU"
      ],
      "metadata": {
        "id": "afn_QfsHBHK1"
      }
    },
    {
      "cell_type": "code",
      "source": [
        "def dump_cl(cl):\n",
        "  with driver.session() as session:\n",
        "    query = \"\"\"MATCH (cs:SKOS_CONCEPT_SCHEME)-[]->(c1:SKOS_CONCEPT)-[]->(c2:SKOS_CONCEPT) WHERE c1.identifier = '%s' RETURN DISTINCT cs.version as version, c1.identifier as cl_identifier, c1.notation as cl_sub, c2.identifier as cli_identifier, c2.notation as cli_sub\"\"\" % (cl) \n",
        "    result = session.run(query, uri_data=uri_data)\n",
        "    for record in result:\n",
        "      print(\"%s: [%s, %s], [%s, %s]\" % (record[\"version\"], record[\"cl_identifier\"], record[\"cl_sub\"], record[\"cli_identifier\"], record[\"cli_sub\"]))\n",
        "  driver.close()\n",
        "\n",
        "load_cl(\"sdtm\", \"C66741\")\n",
        "load_cl(\"sdtm\", \"C66770\")\n",
        "dump_cl(\"C66741\")\n",
        "dump_cl(\"C66770\")\n"
      ],
      "metadata": {
        "colab": {
          "base_uri": "https://localhost:8080/"
        },
        "id": "X3LEAFoNBBwN",
        "outputId": "cddc3d31-cb64-4aa0-99a1-0574077528bc"
      },
      "execution_count": 151,
      "outputs": [
        {
          "output_type": "stream",
          "name": "stdout",
          "text": [
            "2021-12-17: [C66741, VSTESTCD], [C117976, IDEALWT]\n",
            "2021-12-17: [C66741, VSTESTCD], [C174233, MANDL]\n",
            "2021-12-17: [C66741, VSTESTCD], [C181552, WASTHEEL]\n",
            "2021-12-17: [C66741, VSTESTCD], [C172609, DBPHPCTL]\n",
            "2021-12-17: [C66741, VSTESTCD], [C49678, RESP]\n",
            "2021-12-17: [C66741, VSTESTCD], [C174446, TEMP]\n",
            "2021-12-17: [C66741, VSTESTCD], [C124475, MUARMCIR]\n",
            "2021-12-17: [C66741, VSTESTCD], [C172610, DBPAPCTL]\n",
            "2021-12-17: [C66741, VSTESTCD], [C174374, FTWTGAPL]\n",
            "2021-12-17: [C66741, VSTESTCD], [C81298, BODLNGTH]\n",
            "2021-12-17: [C66741, VSTESTCD], [C126083, BMR]\n",
            "2021-12-17: [C66741, VSTESTCD], [C100948, WSTCIR]\n",
            "2021-12-17: [C66741, VSTESTCD], [C147492, MAXPREHR]\n",
            "2021-12-17: [C66741, VSTESTCD], [C25347, HEIGHT]\n",
            "2021-12-17: [C66741, VSTESTCD], [C76325, BRTHWT]\n",
            "2021-12-17: [C66741, VSTESTCD], [C38082, FIO2]\n",
            "2021-12-17: [C66741, VSTESTCD], [C172607, SBPHPCTL]\n",
            "2021-12-17: [C66741, VSTESTCD], [C17651, WAISTHIP]\n",
            "2021-12-17: [C66741, VSTESTCD], [C92716, FTHR]\n",
            "2021-12-17: [C66741, VSTESTCD], [C84372, KNEEHEEL]\n",
            "2021-12-17: [C66741, VSTESTCD], [C178060, CALFCIR]\n",
            "2021-12-17: [C66741, VSTESTCD], [C163568, HTAPCTL]\n",
            "2021-12-17: [C66741, VSTESTCD], [C174370, TEMPCB]\n",
            "2021-12-17: [C66741, VSTESTCD], [C98793, TRSKNF]\n",
            "2021-12-17: [C66741, VSTESTCD], [C156606, CHESTCIR]\n",
            "2021-12-17: [C66741, VSTESTCD], [C81255, HDCIRC]\n",
            "2021-12-17: [C66741, VSTESTCD], [C163570, WTHTPCTL]\n",
            "2021-12-17: [C66741, VSTESTCD], [C174373, FTSAD]\n",
            "2021-12-17: [C66741, VSTESTCD], [C104622, TBW]\n",
            "2021-12-17: [C66741, VSTESTCD], [C100946, FARMCIR]\n",
            "2021-12-17: [C66741, VSTESTCD], [C147491, ENRGEXP]\n",
            "2021-12-17: [C66741, VSTESTCD], [C132482, EWEIGHT]\n",
            "2021-12-17: [C66741, VSTESTCD], [C163569, WTAPCTL]\n",
            "2021-12-17: [C66741, VSTESTCD], [C170639, CRWNHEEL]\n",
            "2021-12-17: [C66741, VSTESTCD], [C174371, TEMPPB]\n",
            "2021-12-17: [C66741, VSTESTCD], [C25157, BSA]\n",
            "2021-12-17: [C66741, VSTESTCD], [C174375, FTMANDL]\n",
            "2021-12-17: [C66741, VSTESTCD], [C168125, CPLRFLT]\n",
            "2021-12-17: [C66741, VSTESTCD], [C154891, NECKCIR]\n",
            "2021-12-17: [C66741, VSTESTCD], [C174376, ULNARL]\n",
            "2021-12-17: [C66741, VSTESTCD], [C172608, SBPAPCTL]\n",
            "2021-12-17: [C66741, VSTESTCD], [C174372, FTEWT]\n",
            "2021-12-17: [C66741, VSTESTCD], [C174311, SAO2FIO2]\n",
            "2021-12-17: [C66741, VSTESTCD], [C25208, WEIGHT]\n",
            "2021-12-17: [C66741, VSTESTCD], [C25298, SYSBP]\n",
            "2021-12-17: [C66741, VSTESTCD], [C25299, DIABP]\n",
            "2021-12-17: [C66741, VSTESTCD], [C87054, SAD]\n",
            "2021-12-17: [C66741, VSTESTCD], [C49677, HR]\n",
            "2021-12-17: [C66741, VSTESTCD], [C100947, HIPCIR]\n",
            "2021-12-17: [C66741, VSTESTCD], [C71258, LBM]\n",
            "2021-12-17: [C66741, VSTESTCD], [C49679, MAP]\n",
            "2021-12-17: [C66741, VSTESTCD], [C41255, INTP]\n",
            "2021-12-17: [C66741, VSTESTCD], [C98785, SSSKNF]\n",
            "2021-12-17: [C66741, VSTESTCD], [C100945, PULSEPR]\n",
            "2021-12-17: [C66741, VSTESTCD], [C181553, ARMSPAN]\n",
            "2021-12-17: [C66741, VSTESTCD], [C103346, ABSKNF]\n",
            "2021-12-17: [C66741, VSTESTCD], [C163567, BMIAPCTL]\n",
            "2021-12-17: [C66741, VSTESTCD], [C49676, PULSE]\n",
            "2021-12-17: [C66741, VSTESTCD], [C60832, OXYSAT]\n",
            "2021-12-17: [C66741, VSTESTCD], [C49680, FRMSIZE]\n",
            "2021-12-17: [C66741, VSTESTCD], [C122232, BODYFATM]\n",
            "2021-12-17: [C66741, VSTESTCD], [C16358, BMI]\n",
            "2021-12-17: [C66741, VSTESTCD], [C158297, FTHDCIRC]\n",
            "2021-12-17: [C66770, VSRESU], [C42545, Hz]\n",
            "2021-12-17: [C66770, VSRESU], [C44277, F]\n",
            "2021-12-17: [C66770, VSRESU], [C48500, in]\n",
            "2021-12-17: [C66770, VSRESU], [C42537, K]\n",
            "2021-12-17: [C66770, VSRESU], [C147129, cmHg]\n",
            "2021-12-17: [C66770, VSRESU], [C42549, Watt]\n",
            "2021-12-17: [C66770, VSRESU], [C48155, g]\n",
            "2021-12-17: [C66770, VSRESU], [C49674, breaths/min]\n",
            "2021-12-17: [C66770, VSRESU], [C28251, mm]\n",
            "2021-12-17: [C66770, VSRESU], [C42559, C]\n",
            "2021-12-17: [C66770, VSRESU], [C41139, m]\n",
            "2021-12-17: [C66770, VSRESU], [C42547, Pa]\n",
            "2021-12-17: [C66770, VSRESU], [C49668, cm]\n",
            "2021-12-17: [C66770, VSRESU], [C49670, mmHg]\n",
            "2021-12-17: [C66770, VSRESU], [C127805, MET]\n",
            "2021-12-17: [C66770, VSRESU], [C139135, kcal/day]\n",
            "2021-12-17: [C66770, VSRESU], [C44256, RATIO]\n",
            "2021-12-17: [C66770, VSRESU], [C25613, %]\n",
            "2021-12-17: [C66770, VSRESU], [C49671, kg/m2]\n",
            "2021-12-17: [C66770, VSRESU], [C49673, beats/min]\n",
            "2021-12-17: [C66770, VSRESU], [C28252, kg]\n",
            "2021-12-17: [C66770, VSRESU], [C42569, m2]\n",
            "2021-12-17: [C66770, VSRESU], [C48531, LB]\n"
          ]
        }
      ]
    },
    {
      "cell_type": "markdown",
      "source": [
        "Now load the DDF study example data. Provides an example of a \"industry standard\" design."
      ],
      "metadata": {
        "id": "cH-7_-DXzN_R"
      }
    },
    {
      "cell_type": "code",
      "source": [
        "stage_12_files = [    \n",
        "    { \"label\": \"ENDPOINT\", \"filename\": \"stage_12_endpoint_nodes.csv\" },\n",
        "    { \"label\": \"STUDY_DATA\", \"filename\": \"stage_12_study_data_nodes.csv\" },\n",
        "    { \"label\": \"PROCEDURE\", \"filename\": \"stage_12_procedure_nodes.csv\" },\n",
        "    { \"label\": \"ACTIVITY\", \"filename\": \"stage_12_activity_nodes.csv\" },\n",
        "    { \"label\": \"WORKFLOW_ITEM\", \"filename\": \"stage_12_workflow_item_nodes.csv\" },\n",
        "    { \"label\": \"VISIT\", \"filename\": \"stage_12_visit_nodes.csv\" },\n",
        "    { \"label\": \"STUDY_CELL\", \"filename\": \"stage_12_study_cell_nodes.csv\" },\n",
        "    { \"label\": \"RULE\", \"filename\": \"stage_12_rule_nodes.csv\" },\n",
        "    { \"label\": \"STUDY_ELEMENT\", \"filename\": \"stage_12_study_element_nodes.csv\" },\n",
        "    { \"label\": \"EPOCH\", \"filename\": \"stage_12_study_epoch_nodes.csv\" },\n",
        "    { \"label\": \"STUDY_ARM\", \"filename\": \"stage_12_study_arm_nodes.csv\" },\n",
        "    { \"label\": \"OBJECTIVE\", \"filename\": \"stage_12_objective_nodes.csv\" },\n",
        "    { \"label\": \"CODE\", \"filename\": \"stage_12_code_nodes.csv\" },\n",
        "    { \"label\": \"INVESTIGATIONAL_INTERVENTIONS\", \"filename\": \"stage_12_investigational_interventions_nodes.csv\" },\n",
        "    { \"label\": \"POPULATION\", \"filename\": \"stage_12_population_nodes.csv\" },\n",
        "    { \"label\": \"STUDY_DESIGN\", \"filename\": \"stage_12_study_design_nodes.csv\" },\n",
        "    { \"label\": \"INDICATION\", \"filename\": \"stage_12_indication_nodes.csv\" },\n",
        "    { \"label\": \"STUDY_PROTOCOL\", \"filename\": \"stage_12_study_protocol_nodes.csv\" },\n",
        "    { \"label\": \"STUDY_PHASE\", \"filename\": \"stage_12_study_phase_nodes.csv\" },\n",
        "    { \"label\": \"STUDY_TYPE\", \"filename\": \"stage_12_study_type_nodes.csv\" },\n",
        "    { \"label\": \"STUDY_IDENTIFIER\", \"filename\": \"stage_12_study_identifier_nodes.csv\" },\n",
        "    { \"label\": \"STUDY\", \"filename\": \"stage_12_study_nodes.csv\" },\n",
        "    { \"type\": \"HAS_CODED\", \"filename\": \"stage_12_has_coded_relationships.csv\" },\n",
        "    { \"type\": \"HAS_ENDPOINT\", \"filename\": \"stage_12_has_endpoint_relationships.csv\" },\n",
        "    { \"type\": \"HAS_STUDY_DATA\", \"filename\": \"stage_12_has_study_data_relationships.csv\" },\n",
        "    { \"type\": \"HAS_PROCEDURE\", \"filename\": \"stage_12_has_procedure_relationships.csv\" },\n",
        "    { \"type\": \"HAS_PREVIOUS_ACTIVITY\", \"filename\": \"stage_12_has_previous_activity_relationships.csv\" },\n",
        "    { \"type\": \"HAS_PREVIOUS_WORKFLOW\", \"filename\": \"stage_12_has_previous_workflow_relationships.csv\" },\n",
        "    { \"type\": \"USED_IN_VISIT\", \"filename\": \"stage_12_used_in_visit_relationships.csv\" },\n",
        "    { \"type\": \"HAS_ACTIVITY\", \"filename\": \"stage_12_has_activity_relationships.csv\" },\n",
        "    { \"type\": \"HAS_VISIT\", \"filename\": \"stage_12_has_visit_relationships.csv\" },\n",
        "    { \"type\": \"HAS_END_RULE\", \"filename\": \"stage_12_has_end_rule_relationships.csv\" },\n",
        "    { \"type\": \"HAS_START_RULE\", \"filename\": \"stage_12_has_start_rule_relationships.csv\" },\n",
        "    { \"type\": \"HAS_ELEMENT\", \"filename\": \"stage_12_has_element_relationships.csv\" },\n",
        "    { \"type\": \"HAS_EPOCH\", \"filename\": \"stage_12_has_epoch_relationships.csv\" },\n",
        "    { \"type\": \"HAS_ARM\", \"filename\": \"stage_12_has_arm_relationships.csv\" },\n",
        "    { \"type\": \"HAS_CELL\", \"filename\": \"stage_12_has_cell_relationships.csv\" },\n",
        "    { \"type\": \"HAS_OBJECTIVE\", \"filename\": \"stage_12_has_objective_relationships.csv\" },\n",
        "    { \"type\": \"HAS_INDICATION\", \"filename\": \"stage_12_has_indication_relationships.csv\" },\n",
        "    { \"type\": \"HAS_INVESTIGATIONAL_INTERVENTION\", \"filename\": \"stage_12_has_investigational_intervention_relationships.csv\" },\n",
        "    { \"type\": \"HAS_POPULATION\", \"filename\": \"stage_12_has_population_relationships.csv\" },\n",
        "    { \"type\": \"HAS_STUDY_DESIGN\", \"filename\": \"stage_12_has_study_design_relationships.csv\" },\n",
        "    { \"type\": \"HAS_PROTOCOL\", \"filename\": \"stage_12_has_protocol_relationships.csv\" },\n",
        "    { \"type\": \"HAS_STUDY_PHASE\", \"filename\": \"stage_12_has_study_phase_relationships.csv\" },\n",
        "    { \"type\": \"HAS_STUDY_TYPE\", \"filename\": \"stage_12_has_study_type_relationships.csv\" },\n",
        "    { \"type\": \"HAS_IDENTIFIER\", \"filename\": \"stage_12_has_identifier_relationships.csv\" }\n",
        "  ]\n",
        "\n",
        "file_load(stage_12_files)"
      ],
      "metadata": {
        "colab": {
          "base_uri": "https://localhost:8080/"
        },
        "id": "yLEatFJT6WGB",
        "outputId": "554ca2f8-85a4-4987-e913-de3541b7a16e"
      },
      "execution_count": 152,
      "outputs": [
        {
          "output_type": "stream",
          "name": "stdout",
          "text": [
            "CALL apoc.import.csv( [{ fileName: 'https://raw.githubusercontent.com/data4knowledge/biomedical_concepts/main/data/csv_load/stage_12_endpoint_nodes.csv', labels: ['ENDPOINT'] }, { fileName: 'https://raw.githubusercontent.com/data4knowledge/biomedical_concepts/main/data/csv_load/stage_12_study_data_nodes.csv', labels: ['STUDY_DATA'] }, { fileName: 'https://raw.githubusercontent.com/data4knowledge/biomedical_concepts/main/data/csv_load/stage_12_procedure_nodes.csv', labels: ['PROCEDURE'] }, { fileName: 'https://raw.githubusercontent.com/data4knowledge/biomedical_concepts/main/data/csv_load/stage_12_activity_nodes.csv', labels: ['ACTIVITY'] }, { fileName: 'https://raw.githubusercontent.com/data4knowledge/biomedical_concepts/main/data/csv_load/stage_12_workflow_item_nodes.csv', labels: ['WORKFLOW_ITEM'] }, { fileName: 'https://raw.githubusercontent.com/data4knowledge/biomedical_concepts/main/data/csv_load/stage_12_visit_nodes.csv', labels: ['VISIT'] }, { fileName: 'https://raw.githubusercontent.com/data4knowledge/biomedical_concepts/main/data/csv_load/stage_12_study_cell_nodes.csv', labels: ['STUDY_CELL'] }, { fileName: 'https://raw.githubusercontent.com/data4knowledge/biomedical_concepts/main/data/csv_load/stage_12_rule_nodes.csv', labels: ['RULE'] }, { fileName: 'https://raw.githubusercontent.com/data4knowledge/biomedical_concepts/main/data/csv_load/stage_12_study_element_nodes.csv', labels: ['STUDY_ELEMENT'] }, { fileName: 'https://raw.githubusercontent.com/data4knowledge/biomedical_concepts/main/data/csv_load/stage_12_study_epoch_nodes.csv', labels: ['EPOCH'] }, { fileName: 'https://raw.githubusercontent.com/data4knowledge/biomedical_concepts/main/data/csv_load/stage_12_study_arm_nodes.csv', labels: ['STUDY_ARM'] }, { fileName: 'https://raw.githubusercontent.com/data4knowledge/biomedical_concepts/main/data/csv_load/stage_12_objective_nodes.csv', labels: ['OBJECTIVE'] }, { fileName: 'https://raw.githubusercontent.com/data4knowledge/biomedical_concepts/main/data/csv_load/stage_12_code_nodes.csv', labels: ['CODE'] }, { fileName: 'https://raw.githubusercontent.com/data4knowledge/biomedical_concepts/main/data/csv_load/stage_12_investigational_interventions_nodes.csv', labels: ['INVESTIGATIONAL_INTERVENTIONS'] }, { fileName: 'https://raw.githubusercontent.com/data4knowledge/biomedical_concepts/main/data/csv_load/stage_12_population_nodes.csv', labels: ['POPULATION'] }, { fileName: 'https://raw.githubusercontent.com/data4knowledge/biomedical_concepts/main/data/csv_load/stage_12_study_design_nodes.csv', labels: ['STUDY_DESIGN'] }, { fileName: 'https://raw.githubusercontent.com/data4knowledge/biomedical_concepts/main/data/csv_load/stage_12_indication_nodes.csv', labels: ['INDICATION'] }, { fileName: 'https://raw.githubusercontent.com/data4knowledge/biomedical_concepts/main/data/csv_load/stage_12_study_protocol_nodes.csv', labels: ['STUDY_PROTOCOL'] }, { fileName: 'https://raw.githubusercontent.com/data4knowledge/biomedical_concepts/main/data/csv_load/stage_12_study_phase_nodes.csv', labels: ['STUDY_PHASE'] }, { fileName: 'https://raw.githubusercontent.com/data4knowledge/biomedical_concepts/main/data/csv_load/stage_12_study_type_nodes.csv', labels: ['STUDY_TYPE'] }, { fileName: 'https://raw.githubusercontent.com/data4knowledge/biomedical_concepts/main/data/csv_load/stage_12_study_identifier_nodes.csv', labels: ['STUDY_IDENTIFIER'] }, { fileName: 'https://raw.githubusercontent.com/data4knowledge/biomedical_concepts/main/data/csv_load/stage_12_study_nodes.csv', labels: ['STUDY'] }], [{ fileName: 'https://raw.githubusercontent.com/data4knowledge/biomedical_concepts/main/data/csv_load/stage_12_has_coded_relationships.csv', type: 'HAS_CODED' }, { fileName: 'https://raw.githubusercontent.com/data4knowledge/biomedical_concepts/main/data/csv_load/stage_12_has_endpoint_relationships.csv', type: 'HAS_ENDPOINT' }, { fileName: 'https://raw.githubusercontent.com/data4knowledge/biomedical_concepts/main/data/csv_load/stage_12_has_study_data_relationships.csv', type: 'HAS_STUDY_DATA' }, { fileName: 'https://raw.githubusercontent.com/data4knowledge/biomedical_concepts/main/data/csv_load/stage_12_has_procedure_relationships.csv', type: 'HAS_PROCEDURE' }, { fileName: 'https://raw.githubusercontent.com/data4knowledge/biomedical_concepts/main/data/csv_load/stage_12_has_previous_activity_relationships.csv', type: 'HAS_PREVIOUS_ACTIVITY' }, { fileName: 'https://raw.githubusercontent.com/data4knowledge/biomedical_concepts/main/data/csv_load/stage_12_has_previous_workflow_relationships.csv', type: 'HAS_PREVIOUS_WORKFLOW' }, { fileName: 'https://raw.githubusercontent.com/data4knowledge/biomedical_concepts/main/data/csv_load/stage_12_used_in_visit_relationships.csv', type: 'USED_IN_VISIT' }, { fileName: 'https://raw.githubusercontent.com/data4knowledge/biomedical_concepts/main/data/csv_load/stage_12_has_activity_relationships.csv', type: 'HAS_ACTIVITY' }, { fileName: 'https://raw.githubusercontent.com/data4knowledge/biomedical_concepts/main/data/csv_load/stage_12_has_visit_relationships.csv', type: 'HAS_VISIT' }, { fileName: 'https://raw.githubusercontent.com/data4knowledge/biomedical_concepts/main/data/csv_load/stage_12_has_end_rule_relationships.csv', type: 'HAS_END_RULE' }, { fileName: 'https://raw.githubusercontent.com/data4knowledge/biomedical_concepts/main/data/csv_load/stage_12_has_start_rule_relationships.csv', type: 'HAS_START_RULE' }, { fileName: 'https://raw.githubusercontent.com/data4knowledge/biomedical_concepts/main/data/csv_load/stage_12_has_element_relationships.csv', type: 'HAS_ELEMENT' }, { fileName: 'https://raw.githubusercontent.com/data4knowledge/biomedical_concepts/main/data/csv_load/stage_12_has_epoch_relationships.csv', type: 'HAS_EPOCH' }, { fileName: 'https://raw.githubusercontent.com/data4knowledge/biomedical_concepts/main/data/csv_load/stage_12_has_arm_relationships.csv', type: 'HAS_ARM' }, { fileName: 'https://raw.githubusercontent.com/data4knowledge/biomedical_concepts/main/data/csv_load/stage_12_has_cell_relationships.csv', type: 'HAS_CELL' }, { fileName: 'https://raw.githubusercontent.com/data4knowledge/biomedical_concepts/main/data/csv_load/stage_12_has_objective_relationships.csv', type: 'HAS_OBJECTIVE' }, { fileName: 'https://raw.githubusercontent.com/data4knowledge/biomedical_concepts/main/data/csv_load/stage_12_has_indication_relationships.csv', type: 'HAS_INDICATION' }, { fileName: 'https://raw.githubusercontent.com/data4knowledge/biomedical_concepts/main/data/csv_load/stage_12_has_investigational_intervention_relationships.csv', type: 'HAS_INVESTIGATIONAL_INTERVENTION' }, { fileName: 'https://raw.githubusercontent.com/data4knowledge/biomedical_concepts/main/data/csv_load/stage_12_has_population_relationships.csv', type: 'HAS_POPULATION' }, { fileName: 'https://raw.githubusercontent.com/data4knowledge/biomedical_concepts/main/data/csv_load/stage_12_has_study_design_relationships.csv', type: 'HAS_STUDY_DESIGN' }, { fileName: 'https://raw.githubusercontent.com/data4knowledge/biomedical_concepts/main/data/csv_load/stage_12_has_protocol_relationships.csv', type: 'HAS_PROTOCOL' }, { fileName: 'https://raw.githubusercontent.com/data4knowledge/biomedical_concepts/main/data/csv_load/stage_12_has_study_phase_relationships.csv', type: 'HAS_STUDY_PHASE' }, { fileName: 'https://raw.githubusercontent.com/data4knowledge/biomedical_concepts/main/data/csv_load/stage_12_has_study_type_relationships.csv', type: 'HAS_STUDY_TYPE' }, { fileName: 'https://raw.githubusercontent.com/data4knowledge/biomedical_concepts/main/data/csv_load/stage_12_has_identifier_relationships.csv', type: 'HAS_IDENTIFIER' }], {stringIds: false})\n",
            "<neo4j.work.result.Result object at 0x7f29afdb7e50>\n",
            "<Record file='progress.csv' source='file' format='csv' nodes=209 relationships=293 properties=746 time=8554 rows=0 batchSize=-1 batches=0 done=True data=None>\n"
          ]
        }
      ]
    },
    {
      "cell_type": "markdown",
      "source": [
        "Duplicate the BC. The study activity Study data node uses WGHT as a code, really need to update it to be \"Weight\" so we can name match all BCs. Just work round this for the moment."
      ],
      "metadata": {
        "id": "YKum1W4B4kFn"
      }
    },
    {
      "cell_type": "code",
      "source": [
        "with driver.session() as session:\n",
        "  query = \"\"\"MATCH (a:ACTIVITY)-[]->(sd:STUDY_DATA) WHERE sd.name = \"WGHT\"\n",
        "    WITH a, sd\n",
        "    MATCH (bc:BC_INSTANCE) WHERE bc.name = \"Weight\"\n",
        "    WITH a, sd, bc\n",
        "    CREATE (a)-[:HAS_BC]->(new:STUDY_BC_INSTANCE)\n",
        "    SET new = bc\n",
        "    WITH bc, new\n",
        "    CALL apoc.path.subgraphAll(bc, {relationshipFilter:'HAS_ITEM>|HAS_DATA_TYPE>|HAS_DATA_PROPERTY>|HAS_RESPONSE>'})\n",
        "    YIELD nodes, relationships\n",
        "    CALL apoc.refactor.cloneSubgraph(\n",
        "      nodes,\n",
        "      [rel in relationships WHERE type(rel) = 'HAS_DATA_TYPE_PROPERTY'],\n",
        "      { standinNodes:[[bc, new]] })\n",
        "    YIELD input, output, error\n",
        "    RETURN output;\n",
        "    \"\"\"\n",
        "  result = session.run(query)\n",
        "  for record in result:\n",
        "    node = inner_record[\"output\"]\n",
        "    print(node)\n",
        "\n",
        "driver.close()\n",
        "\n"
      ],
      "metadata": {
        "colab": {
          "base_uri": "https://localhost:8080/"
        },
        "id": "kuX-JoiR4msA",
        "outputId": "fa10998b-2798-4826-e107-f7d19740a549"
      },
      "execution_count": 153,
      "outputs": [
        {
          "output_type": "stream",
          "name": "stdout",
          "text": [
            "<Node id=11930 labels=frozenset({'FHIR_DATA_TYPE_PROPERTY'}) properties={'name': 'unit', 'simple_data_type': 'string', 'id': 8, 'uri': 'http://id.d4k.dk/dataset/hl7/fhir/datatypes#quantity_unit'}>\n",
            "<Node id=11930 labels=frozenset({'FHIR_DATA_TYPE_PROPERTY'}) properties={'name': 'unit', 'simple_data_type': 'string', 'id': 8, 'uri': 'http://id.d4k.dk/dataset/hl7/fhir/datatypes#quantity_unit'}>\n",
            "<Node id=11930 labels=frozenset({'FHIR_DATA_TYPE_PROPERTY'}) properties={'name': 'unit', 'simple_data_type': 'string', 'id': 8, 'uri': 'http://id.d4k.dk/dataset/hl7/fhir/datatypes#quantity_unit'}>\n",
            "<Node id=11930 labels=frozenset({'FHIR_DATA_TYPE_PROPERTY'}) properties={'name': 'unit', 'simple_data_type': 'string', 'id': 8, 'uri': 'http://id.d4k.dk/dataset/hl7/fhir/datatypes#quantity_unit'}>\n",
            "<Node id=11930 labels=frozenset({'FHIR_DATA_TYPE_PROPERTY'}) properties={'name': 'unit', 'simple_data_type': 'string', 'id': 8, 'uri': 'http://id.d4k.dk/dataset/hl7/fhir/datatypes#quantity_unit'}>\n",
            "<Node id=11930 labels=frozenset({'FHIR_DATA_TYPE_PROPERTY'}) properties={'name': 'unit', 'simple_data_type': 'string', 'id': 8, 'uri': 'http://id.d4k.dk/dataset/hl7/fhir/datatypes#quantity_unit'}>\n",
            "<Node id=11930 labels=frozenset({'FHIR_DATA_TYPE_PROPERTY'}) properties={'name': 'unit', 'simple_data_type': 'string', 'id': 8, 'uri': 'http://id.d4k.dk/dataset/hl7/fhir/datatypes#quantity_unit'}>\n",
            "<Node id=11930 labels=frozenset({'FHIR_DATA_TYPE_PROPERTY'}) properties={'name': 'unit', 'simple_data_type': 'string', 'id': 8, 'uri': 'http://id.d4k.dk/dataset/hl7/fhir/datatypes#quantity_unit'}>\n",
            "<Node id=11930 labels=frozenset({'FHIR_DATA_TYPE_PROPERTY'}) properties={'name': 'unit', 'simple_data_type': 'string', 'id': 8, 'uri': 'http://id.d4k.dk/dataset/hl7/fhir/datatypes#quantity_unit'}>\n",
            "<Node id=11930 labels=frozenset({'FHIR_DATA_TYPE_PROPERTY'}) properties={'name': 'unit', 'simple_data_type': 'string', 'id': 8, 'uri': 'http://id.d4k.dk/dataset/hl7/fhir/datatypes#quantity_unit'}>\n",
            "<Node id=11930 labels=frozenset({'FHIR_DATA_TYPE_PROPERTY'}) properties={'name': 'unit', 'simple_data_type': 'string', 'id': 8, 'uri': 'http://id.d4k.dk/dataset/hl7/fhir/datatypes#quantity_unit'}>\n",
            "<Node id=11930 labels=frozenset({'FHIR_DATA_TYPE_PROPERTY'}) properties={'name': 'unit', 'simple_data_type': 'string', 'id': 8, 'uri': 'http://id.d4k.dk/dataset/hl7/fhir/datatypes#quantity_unit'}>\n",
            "<Node id=11930 labels=frozenset({'FHIR_DATA_TYPE_PROPERTY'}) properties={'name': 'unit', 'simple_data_type': 'string', 'id': 8, 'uri': 'http://id.d4k.dk/dataset/hl7/fhir/datatypes#quantity_unit'}>\n",
            "<Node id=11930 labels=frozenset({'FHIR_DATA_TYPE_PROPERTY'}) properties={'name': 'unit', 'simple_data_type': 'string', 'id': 8, 'uri': 'http://id.d4k.dk/dataset/hl7/fhir/datatypes#quantity_unit'}>\n",
            "<Node id=11930 labels=frozenset({'FHIR_DATA_TYPE_PROPERTY'}) properties={'name': 'unit', 'simple_data_type': 'string', 'id': 8, 'uri': 'http://id.d4k.dk/dataset/hl7/fhir/datatypes#quantity_unit'}>\n",
            "<Node id=11930 labels=frozenset({'FHIR_DATA_TYPE_PROPERTY'}) properties={'name': 'unit', 'simple_data_type': 'string', 'id': 8, 'uri': 'http://id.d4k.dk/dataset/hl7/fhir/datatypes#quantity_unit'}>\n",
            "<Node id=11930 labels=frozenset({'FHIR_DATA_TYPE_PROPERTY'}) properties={'name': 'unit', 'simple_data_type': 'string', 'id': 8, 'uri': 'http://id.d4k.dk/dataset/hl7/fhir/datatypes#quantity_unit'}>\n",
            "<Node id=11930 labels=frozenset({'FHIR_DATA_TYPE_PROPERTY'}) properties={'name': 'unit', 'simple_data_type': 'string', 'id': 8, 'uri': 'http://id.d4k.dk/dataset/hl7/fhir/datatypes#quantity_unit'}>\n",
            "<Node id=11930 labels=frozenset({'FHIR_DATA_TYPE_PROPERTY'}) properties={'name': 'unit', 'simple_data_type': 'string', 'id': 8, 'uri': 'http://id.d4k.dk/dataset/hl7/fhir/datatypes#quantity_unit'}>\n",
            "<Node id=11930 labels=frozenset({'FHIR_DATA_TYPE_PROPERTY'}) properties={'name': 'unit', 'simple_data_type': 'string', 'id': 8, 'uri': 'http://id.d4k.dk/dataset/hl7/fhir/datatypes#quantity_unit'}>\n",
            "<Node id=11930 labels=frozenset({'FHIR_DATA_TYPE_PROPERTY'}) properties={'name': 'unit', 'simple_data_type': 'string', 'id': 8, 'uri': 'http://id.d4k.dk/dataset/hl7/fhir/datatypes#quantity_unit'}>\n",
            "<Node id=11930 labels=frozenset({'FHIR_DATA_TYPE_PROPERTY'}) properties={'name': 'unit', 'simple_data_type': 'string', 'id': 8, 'uri': 'http://id.d4k.dk/dataset/hl7/fhir/datatypes#quantity_unit'}>\n"
          ]
        }
      ]
    },
    {
      "cell_type": "markdown",
      "source": [
        "Now create a unique UUID (should really be a URI) for each leaf value node. This is a simple example of FAIR, each data point in a atudy has a unique id and can be addressed.\n",
        "\n",
        "Also, the DDF model does not allow us to easily get a unique BC instance for each actual BC, that is the WorkFlow Item. Keep it simple for the moment by going via the Activity and Study Data nodes."
      ],
      "metadata": {
        "id": "J-hC-_XMy-rn"
      }
    },
    {
      "cell_type": "code",
      "source": [
        "save_for_later = {}\n",
        "\n",
        "with driver.session() as session:\n",
        "  query = \"\"\"MATCH (bc:STUDY_BC_INSTANCE)-[*]->(v:BC_DATA_PROPERTY) WHERE v.name='value' OR v.name='unit'\n",
        "    WITH collect(v) as nodes, apoc.create.uuid() as uuid\n",
        "    FOREACH (n in nodes | SET n.uuid = uuid)\n",
        "    \"\"\"\n",
        "  result = session.run(query)\n",
        "  query = \"\"\"MATCH (bc:STUDY_BC_INSTANCE)-[]->(i:BC_ITEM)-[*]->(v:BC_DATA_PROPERTY) WHERE i.name='Result' AND v.name='value' OR v.name='unit'\n",
        "    RETURN DISTINCT bc.name as bc_name, v.name as name, v.uuid as uuid\"\"\"\n",
        "  result = session.run(query)\n",
        "  for record in result:\n",
        "    print(\"BC %s property '%s' has uuid: '%s'\" % (record[\"bc_name\"], record[\"name\"], record[\"uuid\"]))\n",
        "    save_for_later[record[\"name\"]] = record[\"uuid\"]\n",
        "\n",
        "driver.close()\n",
        "print(save_for_later)"
      ],
      "metadata": {
        "colab": {
          "base_uri": "https://localhost:8080/"
        },
        "id": "L7mIKGAby_H-",
        "outputId": "d064a9d7-4ea2-47f3-8ed9-a063a2675893"
      },
      "execution_count": 160,
      "outputs": [
        {
          "output_type": "stream",
          "name": "stdout",
          "text": [
            "BC Weight property 'value' has uuid: 'f8cdf8d7-5df7-4903-9c09-91adf9fe5aac'\n",
            "BC Weight property 'unit' has uuid: 'd3a99677-c8ac-47fc-b287-94367087a6b2'\n",
            "{'value': 'f8cdf8d7-5df7-4903-9c09-91adf9fe5aac', 'unit': 'd3a99677-c8ac-47fc-b287-94367087a6b2'}\n"
          ]
        }
      ]
    },
    {
      "cell_type": "markdown",
      "source": [
        "Now link up to the CT for the library BCs and the Study versions"
      ],
      "metadata": {
        "id": "HbJjJlWRvIst"
      }
    },
    {
      "cell_type": "code",
      "source": [
        "with driver.session() as session:\n",
        "  query = \"\"\"MATCH (n:BC_DATA_PROPERTY)-[:HAS_RESPONSE]->(d) \n",
        "    WITH n,d\n",
        "    MATCH (cl:SKOS_CONCEPT {identifier: d.cl})-[]->(cli:SKOS_CONCEPT {identifier: d.cli})\n",
        "    MERGE (n)-[:HAS_RESPONSE]->(cli)\n",
        "    DETACH DELETE d\n",
        "    RETURN n.name as name, cli.uri as uri\n",
        "  \"\"\" \n",
        "  result = session.run(query)\n",
        "  for record in result:\n",
        "    print (\"%s -> %s\" % (record[\"name\"], record[\"uri\"]))\n",
        "driver.close()"
      ],
      "metadata": {
        "colab": {
          "base_uri": "https://localhost:8080/"
        },
        "id": "SKmdXytqu964",
        "outputId": "992a41d2-2ec2-4d0c-93ca-fb28dc7bdd54"
      },
      "execution_count": 155,
      "outputs": [
        {
          "output_type": "stream",
          "name": "stdout",
          "text": [
            "code -> http://id.d4k.dk/dataset/cdisc/ct/v48/sdtm/C66770-C28252\n",
            "code -> http://id.d4k.dk/dataset/cdisc/ct/v48/sdtm/C66770-C28252\n",
            "code -> http://id.d4k.dk/dataset/cdisc/ct/v48/sdtm/C66770-C48531\n",
            "code -> http://id.d4k.dk/dataset/cdisc/ct/v48/sdtm/C66770-C48531\n",
            "code -> http://id.d4k.dk/dataset/cdisc/ct/v48/sdtm/C66741-C25208\n",
            "code -> http://id.d4k.dk/dataset/cdisc/ct/v48/sdtm/C66741-C25208\n"
          ]
        }
      ]
    },
    {
      "cell_type": "markdown",
      "source": [
        "Now add in some data points. A data point will point at the BC and the visit to which is applies (of the WorkFlow Item). This is th enature of the DDF model. I think we can make it better."
      ],
      "metadata": {
        "id": "2zF0UNGp-IS1"
      }
    },
    {
      "cell_type": "code",
      "source": [
        "with driver.session() as session:\n",
        "  query = \"\"\"MATCH (v:VISIT)<-[]-(w:WORKFLOW_ITEM)-[]->(a:ACTIVITY)-[]->(bc:STUDY_BC_INSTANCE) RETURN v.name as visit, w.id as wfi , a.description as activity, bc.name as bc\"\"\" \n",
        "  result = session.run(query)\n",
        "  for record in result:\n",
        "    print (\"%s -> %s -> %s -> %s\" % (record[\"visit\"], record[\"wfi\"], record[\"activity\"], record[\"bc\"]))\n",
        "driver.close()"
      ],
      "metadata": {
        "colab": {
          "base_uri": "https://localhost:8080/"
        },
        "id": "yWGusP1IAj9y",
        "outputId": "32a66254-8f66-40b6-e333-7fcae559ba17"
      },
      "execution_count": 157,
      "outputs": [
        {
          "output_type": "stream",
          "name": "stdout",
          "text": [
            "CYCLE 2, TREATMENT DAY 1 -> 1508 -> Weight -> Weight\n",
            "CYCLE 1, TREATMENT DAY 1 -> 1507 -> Weight -> Weight\n",
            "FU 1 -> 1509 -> Weight -> Weight\n"
          ]
        }
      ]
    },
    {
      "cell_type": "markdown",
      "source": [
        "Create some simple data. We need the actual data point plus just enough information to attach it to the study graph. So \n",
        "\n",
        "- Create subjects\n",
        "- Create data points and link into the study design and the BC attached to (the Study instance, not the definition of the BC that we copied earlier)"
      ],
      "metadata": {
        "id": "OGtpGMvUTNwa"
      }
    },
    {
      "cell_type": "code",
      "source": [
        "subjects = [ \n",
        "  { \"subject_id\": \"1234\"}, \n",
        "  { \"subject_id\": \"1235\" }, \n",
        "  { \"subject_id\": \"1236\" }, \n",
        "  { \"subject_id\": \"1237\" }\n",
        "]\n",
        "subject_data = [\n",
        "  { \"subject_id\": \"1234\", \"visit\": \"CYCLE 1, TREATMENT DAY 1\", \"data_point\": save_for_later[\"value\"], \"value\": \"76\" },\n",
        "  { \"subject_id\": \"1234\", \"visit\": \"CYCLE 1, TREATMENT DAY 1\", \"data_point\": save_for_later[\"unit\"], \"value\": \"kg\" },\n",
        "  { \"subject_id\": \"1234\", \"visit\": \"CYCLE 2, TREATMENT DAY 1\", \"data_point\": save_for_later[\"value\"], \"value\": \"78\" },\n",
        "  { \"subject_id\": \"1234\", \"visit\": \"CYCLE 2, TREATMENT DAY 1\", \"data_point\": save_for_later[\"unit\"], \"value\": \"kg\" },\n",
        "  { \"subject_id\": \"1234\", \"visit\": \"FU 1\", \"data_point\": save_for_later[\"value\"], \"value\": \"77\" },\n",
        "  { \"subject_id\": \"1234\", \"visit\": \"FU 1\", \"data_point\": save_for_later[\"unit\"], \"value\": \"kg\" },\n",
        "  { \"subject_id\": \"1235\", \"visit\": \"CYCLE 1, TREATMENT DAY 1\", \"data_point\": save_for_later[\"value\"], \"value\": \"42\" },\n",
        "  { \"subject_id\": \"1235\", \"visit\": \"CYCLE 1, TREATMENT DAY 1\", \"data_point\": save_for_later[\"unit\"], \"value\": \"kg\" },\n",
        "  { \"subject_id\": \"1235\", \"visit\": \"CYCLE 2, TREATMENT DAY 1\", \"data_point\": save_for_later[\"value\"], \"value\": \"44\" },\n",
        "  { \"subject_id\": \"1235\", \"visit\": \"CYCLE 2, TREATMENT DAY 1\", \"data_point\": save_for_later[\"unit\"], \"value\": \"kg\" },\n",
        "  { \"subject_id\": \"1235\", \"visit\": \"FU 1\", \"data_point\": save_for_later[\"value\"], \"value\": \"43\" },\n",
        "  { \"subject_id\": \"1235\", \"visit\": \"FU 1\", \"data_point\": save_for_later[\"unit\"], \"value\": \"kg\" },\n",
        "]\n",
        "\n",
        "print(subject_data)"
      ],
      "metadata": {
        "colab": {
          "base_uri": "https://localhost:8080/"
        },
        "id": "rCiifSaj-Cs_",
        "outputId": "5a3b88c3-ddb3-4313-e029-24cbd6f905f9"
      },
      "execution_count": 161,
      "outputs": [
        {
          "output_type": "stream",
          "name": "stdout",
          "text": [
            "[{'subject_id': '1234', 'visit': 'CYCLE 1, TREATMENT DAY 1', 'data_point': 'f8cdf8d7-5df7-4903-9c09-91adf9fe5aac', 'value': '76'}, {'subject_id': '1234', 'visit': 'CYCLE 1, TREATMENT DAY 1', 'data_point': 'd3a99677-c8ac-47fc-b287-94367087a6b2', 'value': 'kg'}, {'subject_id': '1234', 'visit': 'CYCLE 2, TREATMENT DAY 1', 'data_point': 'f8cdf8d7-5df7-4903-9c09-91adf9fe5aac', 'value': '78'}, {'subject_id': '1234', 'visit': 'CYCLE 2, TREATMENT DAY 1', 'data_point': 'd3a99677-c8ac-47fc-b287-94367087a6b2', 'value': 'kg'}, {'subject_id': '1234', 'visit': 'FU 1', 'data_point': 'f8cdf8d7-5df7-4903-9c09-91adf9fe5aac', 'value': '77'}, {'subject_id': '1234', 'visit': 'FU 1', 'data_point': 'd3a99677-c8ac-47fc-b287-94367087a6b2', 'value': 'kg'}, {'subject_id': '1235', 'visit': 'CYCLE 1, TREATMENT DAY 1', 'data_point': 'f8cdf8d7-5df7-4903-9c09-91adf9fe5aac', 'value': '42'}, {'subject_id': '1235', 'visit': 'CYCLE 1, TREATMENT DAY 1', 'data_point': 'd3a99677-c8ac-47fc-b287-94367087a6b2', 'value': 'kg'}, {'subject_id': '1235', 'visit': 'CYCLE 2, TREATMENT DAY 1', 'data_point': 'f8cdf8d7-5df7-4903-9c09-91adf9fe5aac', 'value': '44'}, {'subject_id': '1235', 'visit': 'CYCLE 2, TREATMENT DAY 1', 'data_point': 'd3a99677-c8ac-47fc-b287-94367087a6b2', 'value': 'kg'}, {'subject_id': '1235', 'visit': 'FU 1', 'data_point': 'f8cdf8d7-5df7-4903-9c09-91adf9fe5aac', 'value': '43'}, {'subject_id': '1235', 'visit': 'FU 1', 'data_point': 'd3a99677-c8ac-47fc-b287-94367087a6b2', 'value': 'kg'}]\n"
          ]
        }
      ]
    },
    {
      "cell_type": "markdown",
      "source": [
        "Create the subjects."
      ],
      "metadata": {
        "id": "-gz6-GXnWXdj"
      }
    },
    {
      "cell_type": "code",
      "source": [
        "with driver.session() as session:\n",
        "  for subject in subjects:\n",
        "    query = \"\"\"MATCH (p:STUDY_PROTOCOL {brief_title:'DDR'})<-[]-(s:STUDY)\n",
        "      WITH s\n",
        "      CREATE (s)<-[:ENROLLED_IN]-(ss:STUDY_SUBJECT)\n",
        "      SET ss.identifier = '%s'\n",
        "    \"\"\" % (subject[\"subject_id\"]) \n",
        "    result = session.run(query)\n",
        "  query = \"\"\"MATCH (s:STUDY_SUBJECT) RETURN s.identifier as subject\"\"\"\n",
        "  result = session.run(query)\n",
        "  for record in result:\n",
        "    print (\"Subject %s created\" % (record[\"subject\"]))\n",
        "driver.close()"
      ],
      "metadata": {
        "colab": {
          "base_uri": "https://localhost:8080/"
        },
        "id": "qXHRMNAkTZce",
        "outputId": "5e792e98-d101-42fc-c62c-550700669e4d"
      },
      "execution_count": 169,
      "outputs": [
        {
          "output_type": "stream",
          "name": "stdout",
          "text": [
            "Subject 1237 created\n",
            "Subject 1234 created\n",
            "Subject 1235 created\n",
            "Subject 1236 created\n",
            "Subject 1237 created\n"
          ]
        }
      ]
    },
    {
      "cell_type": "markdown",
      "source": [
        "Now add in the data"
      ],
      "metadata": {
        "id": "MHE4C6dUWaU2"
      }
    },
    {
      "cell_type": "code",
      "source": [
        "with driver.session() as session:\n",
        "  for item in subject_data:\n",
        "    query = \"\"\"MATCH (s:STUDY_SUBJECT {identifier: '%s'})\n",
        "      WITH s\n",
        "      MATCH (v:VISIT {name: '%s'})<-[]-(wi:WORKFLOW_ITEM)-[:HAS_ACTIVITY]->(a)-[:HAS_BC]->(bc)-[:HAS_ITEM]->\n",
        "        (i)-[:HAS_DATA_TYPE]->(dt)-[:HAS_DATA_PROPERTY]->(d:BC_DATA_PROPERTY {uuid: '%s'})\n",
        "      WITH s, wi, d\n",
        "      CREATE (s)<-[:FOR_SUBJECT]-(sdp:STUDY_DATA_POINT)-[:FOR_WORKFLOW_ITEM]->(wi)\n",
        "      WITH sdp\n",
        "      CREATE (sdp)-[:FOR_VALUE]->(d)\n",
        "      SET sdp.value = '%s'\n",
        "      SET sdp.uuid = apoc.create.uuid()\n",
        "    \"\"\" % (item[\"subject_id\"], item[\"visit\"], item[\"data_point\"], item[\"value\"]) \n",
        "    result = session.run(query)\n",
        "  query = \"\"\"MATCH (s:STUDY_DATA_POINT) RETURN DISTINCT s.value as value, s.uuid as uuid\"\"\"\n",
        "  result = session.run(query)\n",
        "  for record in result:\n",
        "    print (\"Value %s, %s created\" % (record[\"value\"], record[\"uuid\"]))\n",
        "driver.close()"
      ],
      "metadata": {
        "colab": {
          "base_uri": "https://localhost:8080/"
        },
        "id": "vuxeda8PWeFP",
        "outputId": "34149625-756e-4bf0-dd5e-a2d843db6837"
      },
      "execution_count": 185,
      "outputs": [
        {
          "output_type": "stream",
          "name": "stdout",
          "text": [
            "Value 76, 8517c859-8f8e-453f-9690-013a75c36204 created\n",
            "Value kg, dadda74b-7db1-4dbc-ba62-b9c1dd204531 created\n",
            "Value 78, 3c3bc094-3592-41c3-8ab8-a276eb5e5b82 created\n",
            "Value kg, 4c7f30e3-ecfd-417e-a84b-7e4ed5b68b07 created\n",
            "Value 77, 0ec15d80-5daa-4692-a714-0e0c40089656 created\n",
            "Value kg, 002592fe-f861-42b8-a1fc-04dadf27a69b created\n",
            "Value 42, d7a2e453-8e55-4530-90cf-b920bf741cd2 created\n",
            "Value kg, 60855da5-39cc-49f3-990e-64de547b6a26 created\n",
            "Value 44, 56fb7ff6-f6bc-41a9-901b-e37bd80d9d02 created\n",
            "Value kg, 23a0a9ce-dcb8-45c9-9981-2b58d45287d2 created\n",
            "Value 43, d8562507-6bd3-4338-b94f-41aa1e0faf75 created\n",
            "Value kg, 2da3b8b0-25c9-4089-9306-591e0b75779a created\n"
          ]
        }
      ]
    },
    {
      "cell_type": "markdown",
      "source": [
        "Now load the SDTM IG so we can link the SDTM to the canonical model."
      ],
      "metadata": {
        "id": "QsxAK7iarrAZ"
      }
    },
    {
      "cell_type": "code",
      "source": [
        "stage_13_files = [ \n",
        "    { \"label\": \"API_SOURCE\", \"filename\": \"stage_13_api_source_nodes.csv\" },\n",
        "    { \"label\": \"SDTM_IG\", \"filename\": \"stage_13_sdtm_ig_nodes.csv\" },\n",
        "    { \"label\": \"SDTM_DATASET\", \"filename\": \"stage_13_sdtm_dataset_nodes.csv\" },\n",
        "    { \"label\": \"SDTM_VARIABLE\", \"filename\": \"stage_13_sdtm_variable_nodes.csv\" },\n",
        "    { \"type\": \"FROM_SOURCE\", \"filename\": \"stage_13_from_source_relationships.csv\" },\n",
        "    { \"type\": \"HAS_DATASET\", \"filename\": \"stage_13_has_dataset_relationships.csv\" },\n",
        "    { \"type\": \"HAS_VARIABLE\", \"filename\": \"stage_13_has_variable_relationships.csv\" }\n",
        "  ]\n",
        "\n",
        "file_load(stage_13_files)"
      ],
      "metadata": {
        "colab": {
          "base_uri": "https://localhost:8080/"
        },
        "id": "xrGI4UvLq18A",
        "outputId": "3b53513f-13c1-4c5c-a2fb-cf46c7f3c69b"
      },
      "execution_count": 190,
      "outputs": [
        {
          "output_type": "stream",
          "name": "stdout",
          "text": [
            "CALL apoc.import.csv( [{ fileName: 'https://raw.githubusercontent.com/data4knowledge/biomedical_concepts/main/data/csv_load/stage_13_api_source_nodes.csv', labels: ['API_SOURCE'] }, { fileName: 'https://raw.githubusercontent.com/data4knowledge/biomedical_concepts/main/data/csv_load/stage_13_sdtm_ig_nodes.csv', labels: ['SDTM_IG'] }, { fileName: 'https://raw.githubusercontent.com/data4knowledge/biomedical_concepts/main/data/csv_load/stage_13_sdtm_dataset_nodes.csv', labels: ['SDTM_DATASET'] }, { fileName: 'https://raw.githubusercontent.com/data4knowledge/biomedical_concepts/main/data/csv_load/stage_13_sdtm_variable_nodes.csv', labels: ['SDTM_VARIABLE'] }], [{ fileName: 'https://raw.githubusercontent.com/data4knowledge/biomedical_concepts/main/data/csv_load/stage_13_from_source_relationships.csv', type: 'FROM_SOURCE' }, { fileName: 'https://raw.githubusercontent.com/data4knowledge/biomedical_concepts/main/data/csv_load/stage_13_has_dataset_relationships.csv', type: 'HAS_DATASET' }, { fileName: 'https://raw.githubusercontent.com/data4knowledge/biomedical_concepts/main/data/csv_load/stage_13_has_variable_relationships.csv', type: 'HAS_VARIABLE' }], {stringIds: false})\n",
            "<neo4j.work.result.Result object at 0x7f29ab155090>\n",
            "<Record file='progress.csv' source='file' format='csv' nodes=1982 relationships=1981 properties=10032 time=693 rows=0 batchSize=-1 batches=0 done=True data=None>\n"
          ]
        }
      ]
    },
    {
      "cell_type": "markdown",
      "source": [
        "Check SDTM loaded"
      ],
      "metadata": {
        "id": "nDPLkFicrzu9"
      }
    },
    {
      "cell_type": "code",
      "source": [
        "with driver.session() as session:\n",
        "  query = \"\"\"MATCH (ds:SDTM_DATASET) RETURN DISTINCT ds.name as name\"\"\"\n",
        "  result = session.run(query)\n",
        "  for record in result:\n",
        "    print (\"Dataset %s loaded\" % (record[\"name\"]))\n",
        "driver.close()"
      ],
      "metadata": {
        "colab": {
          "base_uri": "https://localhost:8080/"
        },
        "id": "XMP9ZqWsr1dW",
        "outputId": "b42e6648-ebf1-4283-e209-2aa3705a95d8"
      },
      "execution_count": 193,
      "outputs": [
        {
          "output_type": "stream",
          "name": "stdout",
          "text": [
            "Dataset AG loaded\n",
            "Dataset CM loaded\n",
            "Dataset EC loaded\n",
            "Dataset EX loaded\n",
            "Dataset ML loaded\n",
            "Dataset PR loaded\n",
            "Dataset SU loaded\n",
            "Dataset AE loaded\n",
            "Dataset BE loaded\n",
            "Dataset CE loaded\n",
            "Dataset DS loaded\n",
            "Dataset DV loaded\n",
            "Dataset HO loaded\n",
            "Dataset MH loaded\n",
            "Dataset BS loaded\n",
            "Dataset CP loaded\n",
            "Dataset CV loaded\n",
            "Dataset DA loaded\n",
            "Dataset DD loaded\n",
            "Dataset EG loaded\n",
            "Dataset FT loaded\n",
            "Dataset GF loaded\n",
            "Dataset IE loaded\n",
            "Dataset IS loaded\n",
            "Dataset LB loaded\n",
            "Dataset MB loaded\n",
            "Dataset MI loaded\n",
            "Dataset MK loaded\n",
            "Dataset MS loaded\n",
            "Dataset NV loaded\n",
            "Dataset OE loaded\n",
            "Dataset PC loaded\n",
            "Dataset PE loaded\n",
            "Dataset PP loaded\n",
            "Dataset QS loaded\n",
            "Dataset RE loaded\n",
            "Dataset RP loaded\n",
            "Dataset RS loaded\n",
            "Dataset SC loaded\n",
            "Dataset SS loaded\n",
            "Dataset TR loaded\n",
            "Dataset TU loaded\n",
            "Dataset UR loaded\n",
            "Dataset VS loaded\n",
            "Dataset FA loaded\n",
            "Dataset SR loaded\n",
            "Dataset CO loaded\n",
            "Dataset DM loaded\n",
            "Dataset SE loaded\n",
            "Dataset SM loaded\n",
            "Dataset SV loaded\n",
            "Dataset TA loaded\n",
            "Dataset TD loaded\n",
            "Dataset TE loaded\n",
            "Dataset TI loaded\n",
            "Dataset TM loaded\n",
            "Dataset TS loaded\n",
            "Dataset TV loaded\n",
            "Dataset OI loaded\n",
            "Dataset RELREC loaded\n",
            "Dataset RELSPEC loaded\n",
            "Dataset RELSUB loaded\n",
            "Dataset SUPPQUAL loaded\n"
          ]
        }
      ]
    },
    {
      "cell_type": "markdown",
      "source": [
        "So, next ...\n",
        "- Link VS to the canonical model\n",
        "- Export simple VS SDTM dataset for weight\n",
        "- Expand, adding more BCs, data etc\n",
        "- Add in EPOCH, VISIT for VS\n",
        "- Generate a CRF for the study\n",
        "- Generate an aCRF\n",
        "- Generate a define.xml\n",
        "- Expand, adding more BCs, data etc"
      ],
      "metadata": {
        "id": "BrEdmj0e9FL8"
      }
    }
  ],
  "metadata": {
    "colab": {
      "collapsed_sections": [],
      "name": "Biomedical_Concepts.ipynb",
      "provenance": []
    },
    "kernelspec": {
      "display_name": "Python 3",
      "name": "python3"
    },
    "language_info": {
      "name": "python"
    }
  },
  "nbformat": 4,
  "nbformat_minor": 0
}