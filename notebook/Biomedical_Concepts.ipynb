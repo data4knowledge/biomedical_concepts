{
  "cells": [
    {
      "cell_type": "markdown",
      "metadata": {
        "id": "FPlw5A04o23L"
      },
      "source": [
        "Install dependencies"
      ]
    },
    {
      "cell_type": "code",
      "execution_count": 41,
      "metadata": {
        "colab": {
          "base_uri": "https://localhost:8080/"
        },
        "id": "nsmOe6weo0Cl",
        "outputId": "89f2acdc-6fc3-4918-833d-3a9f940da28b"
      },
      "outputs": [
        {
          "output_type": "stream",
          "name": "stdout",
          "text": [
            "Requirement already satisfied: neo4j in /usr/local/lib/python3.7/dist-packages (4.4.1)\n",
            "Requirement already satisfied: pytz in /usr/local/lib/python3.7/dist-packages (from neo4j) (2018.9)\n",
            "Requirement already satisfied: requests in /usr/local/lib/python3.7/dist-packages (2.23.0)\n",
            "Requirement already satisfied: chardet<4,>=3.0.2 in /usr/local/lib/python3.7/dist-packages (from requests) (3.0.4)\n",
            "Requirement already satisfied: urllib3!=1.25.0,!=1.25.1,<1.26,>=1.21.1 in /usr/local/lib/python3.7/dist-packages (from requests) (1.24.3)\n",
            "Requirement already satisfied: certifi>=2017.4.17 in /usr/local/lib/python3.7/dist-packages (from requests) (2021.10.8)\n",
            "Requirement already satisfied: idna<3,>=2.5 in /usr/local/lib/python3.7/dist-packages (from requests) (2.10)\n"
          ]
        }
      ],
      "source": [
        "!pip install neo4j\n",
        "!pip install requests"
      ]
    },
    {
      "cell_type": "markdown",
      "metadata": {
        "id": "hCjYsNHTmpXP"
      },
      "source": [
        "First create the FHIR data types. Need this before anything else.\n"
      ]
    },
    {
      "cell_type": "code",
      "execution_count": 151,
      "metadata": {
        "colab": {
          "base_uri": "https://localhost:8080/"
        },
        "id": "fqbZcwbLnKkt",
        "outputId": "17aa5342-9f60-42e8-fdd5-6e7a7593dd3a"
      },
      "outputs": [
        {
          "output_type": "stream",
          "name": "stdout",
          "text": [
            "Ready ...\n"
          ]
        }
      ],
      "source": [
        "from neo4j import GraphDatabase\n",
        "import requests\n",
        "import json\n",
        "import urllib.request\n",
        "\n",
        "# Load file directory\n",
        "load_file_dir = \"https://raw.githubusercontent.com/data4knowledge/biomedical_concepts/main/data/csv_load/\"\n",
        "\n",
        "# Connect to the Neo4j DB. You need a line like one of these examples:\n",
        "# driver = GraphDatabase.driver(\"neo4j://n.n.n.n:7687\", auth=(\"username\", \"password\"))\n",
        "# driver = GraphDatabase.driver(\"neo4j+s://url_for_aura\", auth=(\"username\", \"password\"))\n",
        "\n",
        "\n",
        "# Methods\n",
        "def clear(tx):\n",
        "    tx.run(\"CALL apoc.periodic.iterate('MATCH (n) RETURN n', 'DETACH DELETE n', {batchSize:1000})\")\n",
        "\n",
        "def file_load(load_files):\n",
        "  with driver.session() as session:\n",
        "    nodes = []\n",
        "    relationships = []\n",
        "    for file_item in load_files:\n",
        "      filename = \"%s%s\" % (load_file_dir, file_item[\"filename\"])\n",
        "      if \"label\" in file_item:\n",
        "        nodes.append(\"{ fileName: '%s', labels: ['%s'] }\" % (filename, file_item[\"label\"]) )\n",
        "      else:\n",
        "        relationships.append(\"{ fileName: '%s', type: '%s' }\" % (filename, file_item[\"type\"]) )\n",
        "    query = \"\"\"CALL apoc.import.csv( [%s], [%s], {stringIds: false})\"\"\" % (\", \".join(nodes), \", \".join(relationships))\n",
        "    print(query)\n",
        "    result = session.run(query)\n",
        "    print(result)\n",
        "    for record in result:\n",
        "      print(record)\n",
        "  driver.close()\n",
        "\n",
        "with driver.session() as session:\n",
        "    session.write_transaction(clear)\n",
        "driver.close()\n",
        "\n",
        "print(\"Ready ...\")\n"
      ]
    },
    {
      "cell_type": "code",
      "source": [
        "stage_1_files = [ \n",
        "    { \"label\": \"FHIR\", \"filename\": \"stage_1_fhir_nodes.csv\" },\n",
        "    { \"label\": \"WEB_SOURCE\", \"filename\": \"stage_1_web_source_nodes.csv\" },\n",
        "    { \"label\": \"FHIR_DATA_TYPE\", \"filename\": \"stage_1_fhir_data_type_nodes.csv\" },\n",
        "    { \"label\": \"FHIR_DATA_TYPE_PROPERTY\", \"filename\": \"stage_1_fhir_data_type_property_nodes.csv\" },\n",
        "    { \"type\": \"HAS_DATA_TYPE_PROPERTY\", \"filename\": \"stage_1_has_data_type_property_relationships.csv\" },\n",
        "    { \"type\": \"FROM_SOURCE\", \"filename\": \"stage_1_from_source_relationships.csv\" },\n",
        "    { \"type\": \"HAS_DATA_TYPE\", \"filename\": \"stage_1_has_data_type_relationships.csv\" }\n",
        "  ]\n",
        "\n",
        "file_load(stage_1_files)"
      ],
      "metadata": {
        "colab": {
          "base_uri": "https://localhost:8080/"
        },
        "id": "p4ulFrLPkpJl",
        "outputId": "ed9e98a1-89b4-4fe0-956d-4594b725ba0a"
      },
      "execution_count": 152,
      "outputs": [
        {
          "output_type": "stream",
          "name": "stdout",
          "text": [
            "CALL apoc.import.csv( [{ fileName: 'https://raw.githubusercontent.com/data4knowledge/biomedical_concepts/main/data/csv_load/stage_1_fhir_nodes.csv', labels: ['FHIR'] }, { fileName: 'https://raw.githubusercontent.com/data4knowledge/biomedical_concepts/main/data/csv_load/stage_1_web_source_nodes.csv', labels: ['WEB_SOURCE'] }, { fileName: 'https://raw.githubusercontent.com/data4knowledge/biomedical_concepts/main/data/csv_load/stage_1_fhir_data_type_nodes.csv', labels: ['FHIR_DATA_TYPE'] }, { fileName: 'https://raw.githubusercontent.com/data4knowledge/biomedical_concepts/main/data/csv_load/stage_1_fhir_data_type_property_nodes.csv', labels: ['FHIR_DATA_TYPE_PROPERTY'] }], [{ fileName: 'https://raw.githubusercontent.com/data4knowledge/biomedical_concepts/main/data/csv_load/stage_1_has_data_type_property_relationships.csv', type: 'HAS_DATA_TYPE_PROPERTY' }, { fileName: 'https://raw.githubusercontent.com/data4knowledge/biomedical_concepts/main/data/csv_load/stage_1_from_source_relationships.csv', type: 'FROM_SOURCE' }, { fileName: 'https://raw.githubusercontent.com/data4knowledge/biomedical_concepts/main/data/csv_load/stage_1_has_data_type_relationships.csv', type: 'HAS_DATA_TYPE' }], {stringIds: false})\n",
            "<neo4j.work.result.Result object at 0x7f795c3cda50>\n",
            "<Record file='progress.csv' source='file' format='csv' nodes=14 relationships=13 properties=53 time=1239 rows=0 batchSize=-1 batches=0 done=True data=None>\n"
          ]
        }
      ]
    },
    {
      "cell_type": "markdown",
      "metadata": {
        "id": "y2X4GzLForm7"
      },
      "source": [
        "Now check we have loaded ok. Check the FHIR version, should be 4.0.1"
      ]
    },
    {
      "cell_type": "code",
      "execution_count": 153,
      "metadata": {
        "colab": {
          "base_uri": "https://localhost:8080/"
        },
        "id": "QNsq3ykEnysr",
        "outputId": "8821bd5f-a75f-45a2-f9b7-86a3a90dd4d5"
      },
      "outputs": [
        {
          "output_type": "stream",
          "name": "stdout",
          "text": [
            "Version:  4.0.1\n"
          ]
        }
      ],
      "source": [
        "with driver.session() as session:\n",
        "  query = \"\"\"MATCH (n:FHIR) Return n.version as version\"\"\" \n",
        "  result = session.run(query)\n",
        "  for record in result:\n",
        "    print(\"Version: \", record[\"version\"])\n",
        "\n",
        "driver.close()"
      ]
    },
    {
      "cell_type": "code",
      "execution_count": 154,
      "metadata": {
        "colab": {
          "base_uri": "https://localhost:8080/"
        },
        "id": "hklRXVFUKGNK",
        "outputId": "b93045b8-262a-46d8-f77e-a697a9eb04bf"
      },
      "outputs": [
        {
          "output_type": "stream",
          "name": "stdout",
          "text": [
            "CALL apoc.import.csv( [{ fileName: 'https://raw.githubusercontent.com/data4knowledge/biomedical_concepts/main/data/csv_load/stage_2_canonical_model_nodes.csv', labels: ['CANONICAL_MODEL'] }, { fileName: 'https://raw.githubusercontent.com/data4knowledge/biomedical_concepts/main/data/csv_load/stage_2_canonical_node_nodes.csv', labels: ['CANONICAL_NODE'] }, { fileName: 'https://raw.githubusercontent.com/data4knowledge/biomedical_concepts/main/data/csv_load/stage_2_canonical_data_type_nodes.csv', labels: ['CANONICAL_DATA_TYPE'] }, { fileName: 'https://raw.githubusercontent.com/data4knowledge/biomedical_concepts/main/data/csv_load/stage_2_other_source_nodes.csv', labels: ['OTHER_SOURCE'] }], [{ fileName: 'https://raw.githubusercontent.com/data4knowledge/biomedical_concepts/main/data/csv_load/stage_2_consists_of_relationships.csv', type: 'CONSISTS_OF' }, { fileName: 'https://raw.githubusercontent.com/data4knowledge/biomedical_concepts/main/data/csv_load/stage_2_from_source_relationships.csv', type: 'FROM_SOURCE' }, { fileName: 'https://raw.githubusercontent.com/data4knowledge/biomedical_concepts/main/data/csv_load/stage_2_has_sub_model_relationships.csv', type: 'HAS_SUB_MODEL' }, { fileName: 'https://raw.githubusercontent.com/data4knowledge/biomedical_concepts/main/data/csv_load/stage_2_has_data_type_relationships.csv', type: 'HAS_DATA_TYPE' }], {stringIds: false})\n",
            "<neo4j.work.result.Result object at 0x7f795c3e59d0>\n",
            "<Record file='progress.csv' source='file' format='csv' nodes=85 relationships=92 properties=255 time=1538 rows=0 batchSize=-1 batches=0 done=True data=None>\n"
          ]
        }
      ],
      "source": [
        "stage_2_files = [ \n",
        "    { \"label\": \"CANONICAL_MODEL\", \"filename\": \"stage_2_canonical_model_nodes.csv\" },\n",
        "    { \"label\": \"CANONICAL_NODE\", \"filename\": \"stage_2_canonical_node_nodes.csv\" },\n",
        "    { \"label\": \"CANONICAL_DATA_TYPE\", \"filename\": \"stage_2_canonical_data_type_nodes.csv\" },\n",
        "    { \"label\": \"OTHER_SOURCE\", \"filename\": \"stage_2_other_source_nodes.csv\" },\n",
        "    { \"type\": \"CONSISTS_OF\", \"filename\": \"stage_2_consists_of_relationships.csv\" },\n",
        "    { \"type\": \"FROM_SOURCE\", \"filename\": \"stage_2_from_source_relationships.csv\" },\n",
        "    { \"type\": \"HAS_SUB_MODEL\", \"filename\": \"stage_2_has_sub_model_relationships.csv\" },\n",
        "    { \"type\": \"HAS_DATA_TYPE\", \"filename\": \"stage_2_has_data_type_relationships.csv\" }\n",
        "]\n",
        "\n",
        "file_load(stage_2_files)"
      ]
    },
    {
      "cell_type": "markdown",
      "metadata": {
        "id": "592LExsq_Su0"
      },
      "source": [
        "Check a few relationships exist in the canonical model. Should get three results.\n",
        "\n",
        "* THERAPEUTIC INTERVENTION\n",
        "* OBSERVATION\n",
        "* ADVERSE EVENT\n",
        "\n"
      ]
    },
    {
      "cell_type": "code",
      "execution_count": 155,
      "metadata": {
        "colab": {
          "base_uri": "https://localhost:8080/"
        },
        "id": "Xn5dPGqB_Xj6",
        "outputId": "3ec4ecca-70ec-4a88-8ee5-7886177c07d5"
      },
      "outputs": [
        {
          "output_type": "stream",
          "name": "stdout",
          "text": [
            "CANONICAL MODEL -> ADVERSE EVENT -> Location: \n",
            "CANONICAL MODEL -> THERAPEUTIC INTERVENTION -> Location: \n",
            "CANONICAL MODEL -> OBSERVATION -> Location: \n"
          ]
        }
      ],
      "source": [
        "with driver.session() as session:\n",
        "  query = \"\"\"MATCH (r)-[]->(t)-[]->(n:CANONICAL_NODE) WHERE n.name=\"LOCATION\" RETURN r.name as root_name, t.name as name\"\"\" \n",
        "  result = session.run(query)\n",
        "  for record in result:\n",
        "    print(\"%s -> %s -> Location: \" % (record[\"root_name\"], record[\"name\"]))\n",
        "\n",
        "driver.close()"
      ]
    },
    {
      "cell_type": "markdown",
      "source": [
        "Now link the canonical nodes and the data types using the name as the key."
      ],
      "metadata": {
        "id": "7jVCaoeWtLjw"
      }
    },
    {
      "cell_type": "code",
      "source": [
        "with driver.session() as session:\n",
        "  query = \"\"\"MATCH (n:CANONICAL_NODE)-[]->(m:CANONICAL_DATA_TYPE) RETURN m.uri as uri\"\"\" \n",
        "  result = session.run(query)\n",
        "  for record in result:\n",
        "    print(record[\"uri\"])\n",
        "    query = \"\"\"MATCH (n:CANONICAL_DATA_TYPE{uri:'%s'})\n",
        "      WITH n\n",
        "      MATCH (dt:FHIR_DATA_TYPE{name: n.data_type})\n",
        "      CREATE (n)-[:IS_A]->(dt)\n",
        "      RETURN n.data_type as cn_name, dt.name as dt_name;\n",
        "    \"\"\" % (record[\"uri\"])\n",
        "    inner_result = session.run(query)\n",
        "    for inner_record in inner_result:\n",
        "      print(\"%s, %s linked\" % (inner_record[\"cn_name\"], inner_record[\"dt_name\"]))\n",
        "\n",
        "driver.close()"
      ],
      "metadata": {
        "id": "3X3RfadUrvAP",
        "colab": {
          "base_uri": "https://localhost:8080/"
        },
        "outputId": "45aeffeb-16d0-45a3-e618-2d06b7a22cbc"
      },
      "execution_count": 156,
      "outputs": [
        {
          "output_type": "stream",
          "name": "stdout",
          "text": [
            "http://id.d4k.dk/dataset/canonical/n8/coding\n",
            "coding, coding linked\n",
            "http://id.d4k.dk/dataset/canonical/n9/coding\n",
            "coding, coding linked\n",
            "http://id.d4k.dk/dataset/canonical/n18/coding\n",
            "coding, coding linked\n"
          ]
        }
      ]
    },
    {
      "cell_type": "markdown",
      "metadata": {
        "id": "x1ws1F7zpwdN"
      },
      "source": [
        "Now create the data type nodes for the canonical mode. For each canonical node that references a data type copy the properties for that data type to the canonical node. Give each canonical leaf a unique id. These nodes should also have a C code reference providig a definition for the data item.\n"
      ]
    },
    {
      "cell_type": "code",
      "execution_count": 157,
      "metadata": {
        "colab": {
          "base_uri": "https://localhost:8080/"
        },
        "id": "-EBgVQrPqDIe",
        "outputId": "e4b7fa6e-cf7c-4517-ccb3-0bff7a74a484"
      },
      "outputs": [
        {
          "output_type": "stream",
          "name": "stdout",
          "text": [
            "Duplicated for:  http://id.d4k.dk/dataset/canonical/n8/coding\n",
            "Duplicated for:  http://id.d4k.dk/dataset/canonical/n9/coding\n",
            "Duplicated for:  http://id.d4k.dk/dataset/canonical/n18/coding\n",
            "URIs set.\n"
          ]
        }
      ],
      "source": [
        "uri_data = []\n",
        "with driver.session() as session:\n",
        "  query = \"\"\"MATCH (n:CANONICAL_DATA_TYPE)-[:IS_A]->(dt:FHIR_DATA_TYPE) RETURN n.uri as canonical, dt.uri as data_type\"\"\" \n",
        "  result = session.run(query)\n",
        "  for record in result:\n",
        "    query = \"\"\"MATCH (n:CANONICAL_DATA_TYPE{uri:'%s'}), (dt:FHIR_DATA_TYPE{uri:'%s'})\n",
        "      CALL apoc.path.subgraphAll(dt, {relationshipFilter:'HAS_DATA_TYPE_PROPERTY>'})\n",
        "      YIELD nodes, relationships\n",
        "      CALL apoc.refactor.cloneSubgraph(\n",
        "        nodes,\n",
        "        [rel in relationships WHERE type(rel) = 'HAS_DATA_TYPE_PROPERTY'],\n",
        "        { standinNodes:[[dt, n]] })\n",
        "      YIELD input, output, error\n",
        "      RETURN output;\n",
        "    \"\"\" % (record[\"canonical\"], record[\"data_type\"])\n",
        "    inner_result = session.run(query)\n",
        "    for inner_record in inner_result:\n",
        "      node = inner_record[\"output\"]\n",
        "      uri_data.append({\"id\": node.id, \"uri\": \"%s#%s\" % (record[\"canonical\"], node[\"name\"]) })\n",
        "    print (\"Duplicated for: \", record[\"canonical\"])\n",
        "\n",
        "driver.close()\n",
        "\n",
        "with driver.session() as session:\n",
        "  query = \"\"\"UNWIND $uri_data AS d\n",
        "    MATCH (n) WHERE ID(n)=d.id\n",
        "    SET n.uri = d.uri;\"\"\" \n",
        "  result = session.run(query, uri_data=uri_data)\n",
        "driver.close()\n",
        "print (\"URIs set.\")\n",
        "\n"
      ]
    },
    {
      "cell_type": "code",
      "execution_count": 158,
      "metadata": {
        "id": "nZ8TGB5bLzuR",
        "colab": {
          "base_uri": "https://localhost:8080/"
        },
        "outputId": "8966f4f7-6203-40f0-b44c-42cea737477d"
      },
      "outputs": [
        {
          "output_type": "stream",
          "name": "stdout",
          "text": [
            "CALL apoc.import.csv( [{ fileName: 'https://raw.githubusercontent.com/data4knowledge/biomedical_concepts/main/data/csv_load/stage_3_api_source_nodes.csv', labels: ['API_SOURCE'] }, { fileName: 'https://raw.githubusercontent.com/data4knowledge/biomedical_concepts/main/data/csv_load/stage_3_skos_concept_nodes.csv', labels: ['SKOS_CONCEPT'] }, { fileName: 'https://raw.githubusercontent.com/data4knowledge/biomedical_concepts/main/data/csv_load/stage_3_skos_concept_scheme_nodes.csv', labels: ['SKOS_CONCEPT_SCHEME'] }], [{ fileName: 'https://raw.githubusercontent.com/data4knowledge/biomedical_concepts/main/data/csv_load/stage_3_from_source_relationships.csv', type: 'FROM_SOURCE' }, { fileName: 'https://raw.githubusercontent.com/data4knowledge/biomedical_concepts/main/data/csv_load/stage_3_skos_has_top_concept_relationships.csv', type: 'SKOS_HAS_TOP_CONCEPT' }, { fileName: 'https://raw.githubusercontent.com/data4knowledge/biomedical_concepts/main/data/csv_load/stage_3_skos_narrower_relationships.csv', type: 'SKOS_NARROWER' }], {stringIds: false})\n",
            "<neo4j.work.result.Result object at 0x7f795c37b050>\n",
            "<Record file='progress.csv' source='file' format='csv' nodes=986 relationships=985 properties=8868 time=1328 rows=0 batchSize=-1 batches=0 done=True data=None>\n"
          ]
        }
      ],
      "source": [
        "stage_3_files = [ \n",
        "    { \"label\": \"API_SOURCE\", \"filename\": \"stage_3_api_source_nodes.csv\" },\n",
        "    { \"label\": \"SKOS_CONCEPT\", \"filename\": \"stage_3_skos_concept_nodes.csv\" },\n",
        "    { \"label\": \"SKOS_CONCEPT_SCHEME\", \"filename\": \"stage_3_skos_concept_scheme_nodes.csv\" },\n",
        "    { \"type\": \"FROM_SOURCE\", \"filename\": \"stage_3_from_source_relationships.csv\" },\n",
        "    { \"type\": \"SKOS_HAS_TOP_CONCEPT\", \"filename\": \"stage_3_skos_has_top_concept_relationships.csv\" },\n",
        "    { \"type\": \"SKOS_NARROWER\", \"filename\": \"stage_3_skos_narrower_relationships.csv\" } # Should be empty\n",
        "  ]\n",
        "\n",
        "file_load(stage_3_files)\n"
      ]
    },
    {
      "cell_type": "markdown",
      "source": [
        "Do a quick test on the CT. Check AGEU and its links"
      ],
      "metadata": {
        "id": "QiRuZP8IAQRA"
      }
    },
    {
      "cell_type": "code",
      "source": [
        "with driver.session() as session:\n",
        "  query = \"\"\"MATCH (cs)-[]->(c1:SKOS_CONCEPT) WHERE c1.notation = 'AGEU' RETURN DISTINCT cs.version as version, c1.identifier as cl_identifier\"\"\" \n",
        "  result = session.run(query, uri_data=uri_data)\n",
        "  for record in result:\n",
        "    print (\"%s: %s\" % (record[\"version\"], record[\"cl_identifier\"]))\n",
        "driver.close()\n"
      ],
      "metadata": {
        "colab": {
          "base_uri": "https://localhost:8080/"
        },
        "id": "OsWcQe73_m5E",
        "outputId": "674693d3-afe6-44c4-ba5f-7daea18c9781"
      },
      "execution_count": 159,
      "outputs": [
        {
          "output_type": "stream",
          "name": "stdout",
          "text": [
            "2021-12-17: C66781\n"
          ]
        }
      ]
    },
    {
      "cell_type": "markdown",
      "source": [
        "Stage 4 to 9 are the CT files for the other areas, ADaM, Protocol, CDASH etc. Not loaded at the moment. Needed to split due to size and limited RAM on the Neo4j server."
      ],
      "metadata": {
        "id": "ra9rORPF_XTs"
      }
    },
    {
      "cell_type": "code",
      "source": [
        "stage_10_files = [ \n",
        "    { \"label\": \"OTHER_SOURCE\", \"filename\": \"stage_10_other_source_nodes.csv\" },\n",
        "    { \"label\": \"BC_DATA_TYPE\", \"filename\": \"stage_10_bc_data_type_nodes.csv\" },\n",
        "    { \"label\": \"BC_ITEM\", \"filename\": \"stage_10_bc_item_nodes.csv\" },\n",
        "    { \"label\": \"BC_TEMPLATE\", \"filename\": \"stage_10_bc_template_nodes.csv\" },\n",
        "    { \"type\": \"FROM_SOURCE\", \"filename\": \"stage_10_from_source_relationships.csv\" },\n",
        "    { \"type\": \"HAS_DATA_TYPE\", \"filename\": \"stage_10_has_data_type_relationships.csv\" },\n",
        "    { \"type\": \"HAS_IDENTIFIER\", \"filename\": \"stage_10_has_identifier_relationships.csv\" },\n",
        "    { \"type\": \"HAS_ITEM\", \"filename\": \"stage_10_has_item_relationships.csv\" }\n",
        "  ]\n",
        "\n",
        "file_load(stage_10_files)"
      ],
      "metadata": {
        "colab": {
          "base_uri": "https://localhost:8080/"
        },
        "id": "95FBnpzp9T5z",
        "outputId": "663a871c-c743-4e12-811a-4ea2f06ff7a8"
      },
      "execution_count": 160,
      "outputs": [
        {
          "output_type": "stream",
          "name": "stdout",
          "text": [
            "CALL apoc.import.csv( [{ fileName: 'https://raw.githubusercontent.com/data4knowledge/biomedical_concepts/main/data/csv_load/stage_10_other_source_nodes.csv', labels: ['OTHER_SOURCE'] }, { fileName: 'https://raw.githubusercontent.com/data4knowledge/biomedical_concepts/main/data/csv_load/stage_10_bc_data_type_nodes.csv', labels: ['BC_DATA_TYPE'] }, { fileName: 'https://raw.githubusercontent.com/data4knowledge/biomedical_concepts/main/data/csv_load/stage_10_bc_item_nodes.csv', labels: ['BC_ITEM'] }, { fileName: 'https://raw.githubusercontent.com/data4knowledge/biomedical_concepts/main/data/csv_load/stage_10_bc_template_nodes.csv', labels: ['BC_TEMPLATE'] }], [{ fileName: 'https://raw.githubusercontent.com/data4knowledge/biomedical_concepts/main/data/csv_load/stage_10_from_source_relationships.csv', type: 'FROM_SOURCE' }, { fileName: 'https://raw.githubusercontent.com/data4knowledge/biomedical_concepts/main/data/csv_load/stage_10_has_data_type_relationships.csv', type: 'HAS_DATA_TYPE' }, { fileName: 'https://raw.githubusercontent.com/data4knowledge/biomedical_concepts/main/data/csv_load/stage_10_has_identifier_relationships.csv', type: 'HAS_IDENTIFIER' }, { fileName: 'https://raw.githubusercontent.com/data4knowledge/biomedical_concepts/main/data/csv_load/stage_10_has_item_relationships.csv', type: 'HAS_ITEM' }], {stringIds: false})\n",
            "<neo4j.work.result.Result object at 0x7f795c498fd0>\n",
            "<Record file='progress.csv' source='file' format='csv' nodes=37 relationships=38 properties=143 time=1476 rows=0 batchSize=-1 batches=0 done=True data=None>\n"
          ]
        }
      ]
    },
    {
      "cell_type": "markdown",
      "source": [
        "Now add in the data types notes for the templates. Copy from the data types to the templates "
      ],
      "metadata": {
        "id": "E0GmZ2_7IffV"
      }
    },
    {
      "cell_type": "code",
      "source": [
        "with driver.session() as session:\n",
        "  query = \"\"\"MATCH (m:BC_DATA_TYPE) RETURN m.uri as uri\"\"\" \n",
        "  result = session.run(query)\n",
        "  for record in result:\n",
        "    print(record[\"uri\"])\n",
        "    query = \"\"\"MATCH (n:BC_DATA_TYPE{uri:'%s'})\n",
        "      WITH n\n",
        "      MATCH (dt:FHIR_DATA_TYPE{name: n.name})\n",
        "      CREATE (n)-[:IS_A]->(dt)\n",
        "      RETURN n.name as bc_name, dt.name as dt_name;\n",
        "    \"\"\" % (record[\"uri\"])\n",
        "    inner_result = session.run(query)\n",
        "    for inner_record in inner_result:\n",
        "      print(\"%s, %s linked\" % (inner_record[\"bc_name\"], inner_record[\"dt_name\"]))\n",
        "\n",
        "driver.close()\n",
        "\n",
        "uri_data = []\n",
        "with driver.session() as session:\n",
        "  query = \"\"\"MATCH (n:BC_DATA_TYPE)-[:IS_A]->(dt:FHIR_DATA_TYPE) RETURN n.uri as bc_data_type, dt.uri as data_type\"\"\" \n",
        "  result = session.run(query)\n",
        "  for record in result:\n",
        "    query = \"\"\"MATCH (n:BC_DATA_TYPE{uri:'%s'}), (dt:FHIR_DATA_TYPE{uri:'%s'})\n",
        "      CALL apoc.path.subgraphAll(dt, {relationshipFilter:'HAS_DATA_TYPE_PROPERTY>'})\n",
        "      YIELD nodes, relationships\n",
        "      CALL apoc.refactor.cloneSubgraph(\n",
        "        nodes,\n",
        "        [rel in relationships WHERE type(rel) = 'HAS_DATA_TYPE_PROPERTY'],\n",
        "        { standinNodes:[[dt, n]] })\n",
        "      YIELD input, output, error\n",
        "      RETURN output;\n",
        "    \"\"\" % (record[\"bc_data_type\"], record[\"data_type\"])\n",
        "    inner_result = session.run(query)\n",
        "    for inner_record in inner_result:\n",
        "      node = inner_record[\"output\"]\n",
        "      print(node)\n",
        "      uri_data.append({\"id\": node.id, \"uri\": \"%s#%s\" % (record[\"bc_data_type\"], node[\"name\"]) })\n",
        "    print (\"Duplicated for: \", record[\"bc_data_type\"])\n",
        "\n",
        "driver.close()\n",
        "\n",
        "with driver.session() as session:\n",
        "  query = \"\"\"UNWIND $uri_data AS d\n",
        "    MATCH (n) WHERE ID(n)=d.id\n",
        "    SET n.uri = d.uri;\"\"\" \n",
        "  result = session.run(query, uri_data=uri_data)\n",
        "driver.close()\n",
        "print (\"URIs set.\")"
      ],
      "metadata": {
        "colab": {
          "base_uri": "https://localhost:8080/"
        },
        "id": "iCWSwyC5GLdm",
        "outputId": "6ea08b2a-1abd-4d52-ba59-287c9072915b"
      },
      "execution_count": 161,
      "outputs": [
        {
          "output_type": "stream",
          "name": "stdout",
          "text": [
            "http://id.d4k.dk/dataset/bc_template/base_observation/test/coding\n",
            "coding, coding linked\n",
            "http://id.d4k.dk/dataset/bc_template/base_observation/position/coding\n",
            "coding, coding linked\n",
            "http://id.d4k.dk/dataset/bc_template/base_observation/site_of_administration/coding\n",
            "coding, coding linked\n",
            "http://id.d4k.dk/dataset/bc_template/base_observation/laterality/coding\n",
            "coding, coding linked\n",
            "http://id.d4k.dk/dataset/bc_template/base_observation/method/coding\n",
            "coding, coding linked\n",
            "http://id.d4k.dk/dataset/bc_template/base_observation/date_time/datetime\n",
            "http://id.d4k.dk/dataset/bc_template/base_observation/result/quantity\n",
            "quantity, quantity linked\n",
            "http://id.d4k.dk/dataset/bc_template/base_observation/result/coding\n",
            "coding, coding linked\n",
            "http://id.d4k.dk/dataset/bc_template/base_laboratory/test/coding\n",
            "coding, coding linked\n",
            "http://id.d4k.dk/dataset/bc_template/base_laboratory/position/coding\n",
            "coding, coding linked\n",
            "http://id.d4k.dk/dataset/bc_template/base_laboratory/site_of_administration/coding\n",
            "coding, coding linked\n",
            "http://id.d4k.dk/dataset/bc_template/base_laboratory/laterality/coding\n",
            "coding, coding linked\n",
            "http://id.d4k.dk/dataset/bc_template/base_laboratory/directionality/coding\n",
            "coding, coding linked\n",
            "http://id.d4k.dk/dataset/bc_template/base_laboratory/method/coding\n",
            "coding, coding linked\n",
            "http://id.d4k.dk/dataset/bc_template/base_laboratory/date_time/datetime\n",
            "http://id.d4k.dk/dataset/bc_template/base_laboratory/result/quantity\n",
            "quantity, quantity linked\n",
            "http://id.d4k.dk/dataset/bc_template/base_laboratory/result/coding\n",
            "coding, coding linked\n",
            "http://id.d4k.dk/dataset/bc_template/base_laboratory/specimen/coding\n",
            "coding, coding linked\n",
            "<Node id=112266 labels=frozenset({'FHIR_DATA_TYPE_PROPERTY'}) properties={'name': 'version', 'simple_data_type': 'string', 'id': 14, 'uri': 'http://id.d4k.dk/dataset/hl7/fhir/datatypes#coding_version'}>\n",
            "<Node id=112267 labels=frozenset({'FHIR_DATA_TYPE_PROPERTY'}) properties={'name': 'code', 'simple_data_type': 'code', 'id': 13, 'uri': 'http://id.d4k.dk/dataset/hl7/fhir/datatypes#coding_code'}>\n",
            "<Node id=112268 labels=frozenset({'FHIR_DATA_TYPE_PROPERTY'}) properties={'name': 'system', 'simple_data_type': 'string', 'id': 10, 'uri': 'http://id.d4k.dk/dataset/hl7/fhir/datatypes#coding_system'}>\n",
            "<Node id=112269 labels=frozenset({'FHIR_DATA_TYPE_PROPERTY'}) properties={'name': 'display', 'simple_data_type': 'string', 'id': 11, 'uri': 'http://id.d4k.dk/dataset/hl7/fhir/datatypes#coding_display'}>\n",
            "<Node id=112270 labels=frozenset({'FHIR_DATA_TYPE_PROPERTY'}) properties={'name': 'user_selected', 'simple_data_type': 'boolean', 'id': 12, 'uri': 'http://id.d4k.dk/dataset/hl7/fhir/datatypes#coding_user_selected'}>\n",
            "Duplicated for:  http://id.d4k.dk/dataset/bc_template/base_laboratory/specimen/coding\n",
            "<Node id=112271 labels=frozenset({'FHIR_DATA_TYPE_PROPERTY'}) properties={'name': 'version', 'simple_data_type': 'string', 'id': 14, 'uri': 'http://id.d4k.dk/dataset/hl7/fhir/datatypes#coding_version'}>\n",
            "<Node id=112272 labels=frozenset({'FHIR_DATA_TYPE_PROPERTY'}) properties={'name': 'code', 'simple_data_type': 'code', 'id': 13, 'uri': 'http://id.d4k.dk/dataset/hl7/fhir/datatypes#coding_code'}>\n",
            "<Node id=112273 labels=frozenset({'FHIR_DATA_TYPE_PROPERTY'}) properties={'name': 'system', 'simple_data_type': 'string', 'id': 10, 'uri': 'http://id.d4k.dk/dataset/hl7/fhir/datatypes#coding_system'}>\n",
            "<Node id=112274 labels=frozenset({'FHIR_DATA_TYPE_PROPERTY'}) properties={'name': 'display', 'simple_data_type': 'string', 'id': 11, 'uri': 'http://id.d4k.dk/dataset/hl7/fhir/datatypes#coding_display'}>\n",
            "<Node id=112275 labels=frozenset({'FHIR_DATA_TYPE_PROPERTY'}) properties={'name': 'user_selected', 'simple_data_type': 'boolean', 'id': 12, 'uri': 'http://id.d4k.dk/dataset/hl7/fhir/datatypes#coding_user_selected'}>\n",
            "Duplicated for:  http://id.d4k.dk/dataset/bc_template/base_laboratory/result/coding\n",
            "<Node id=112276 labels=frozenset({'FHIR_DATA_TYPE_PROPERTY'}) properties={'name': 'version', 'simple_data_type': 'string', 'id': 14, 'uri': 'http://id.d4k.dk/dataset/hl7/fhir/datatypes#coding_version'}>\n",
            "<Node id=112277 labels=frozenset({'FHIR_DATA_TYPE_PROPERTY'}) properties={'name': 'code', 'simple_data_type': 'code', 'id': 13, 'uri': 'http://id.d4k.dk/dataset/hl7/fhir/datatypes#coding_code'}>\n",
            "<Node id=112278 labels=frozenset({'FHIR_DATA_TYPE_PROPERTY'}) properties={'name': 'system', 'simple_data_type': 'string', 'id': 10, 'uri': 'http://id.d4k.dk/dataset/hl7/fhir/datatypes#coding_system'}>\n",
            "<Node id=112279 labels=frozenset({'FHIR_DATA_TYPE_PROPERTY'}) properties={'name': 'display', 'simple_data_type': 'string', 'id': 11, 'uri': 'http://id.d4k.dk/dataset/hl7/fhir/datatypes#coding_display'}>\n",
            "<Node id=112280 labels=frozenset({'FHIR_DATA_TYPE_PROPERTY'}) properties={'name': 'user_selected', 'simple_data_type': 'boolean', 'id': 12, 'uri': 'http://id.d4k.dk/dataset/hl7/fhir/datatypes#coding_user_selected'}>\n",
            "Duplicated for:  http://id.d4k.dk/dataset/bc_template/base_laboratory/method/coding\n",
            "<Node id=112281 labels=frozenset({'FHIR_DATA_TYPE_PROPERTY'}) properties={'name': 'version', 'simple_data_type': 'string', 'id': 14, 'uri': 'http://id.d4k.dk/dataset/hl7/fhir/datatypes#coding_version'}>\n",
            "<Node id=112282 labels=frozenset({'FHIR_DATA_TYPE_PROPERTY'}) properties={'name': 'code', 'simple_data_type': 'code', 'id': 13, 'uri': 'http://id.d4k.dk/dataset/hl7/fhir/datatypes#coding_code'}>\n",
            "<Node id=112283 labels=frozenset({'FHIR_DATA_TYPE_PROPERTY'}) properties={'name': 'system', 'simple_data_type': 'string', 'id': 10, 'uri': 'http://id.d4k.dk/dataset/hl7/fhir/datatypes#coding_system'}>\n",
            "<Node id=112284 labels=frozenset({'FHIR_DATA_TYPE_PROPERTY'}) properties={'name': 'display', 'simple_data_type': 'string', 'id': 11, 'uri': 'http://id.d4k.dk/dataset/hl7/fhir/datatypes#coding_display'}>\n",
            "<Node id=112285 labels=frozenset({'FHIR_DATA_TYPE_PROPERTY'}) properties={'name': 'user_selected', 'simple_data_type': 'boolean', 'id': 12, 'uri': 'http://id.d4k.dk/dataset/hl7/fhir/datatypes#coding_user_selected'}>\n",
            "Duplicated for:  http://id.d4k.dk/dataset/bc_template/base_laboratory/directionality/coding\n",
            "<Node id=112286 labels=frozenset({'FHIR_DATA_TYPE_PROPERTY'}) properties={'name': 'version', 'simple_data_type': 'string', 'id': 14, 'uri': 'http://id.d4k.dk/dataset/hl7/fhir/datatypes#coding_version'}>\n",
            "<Node id=112287 labels=frozenset({'FHIR_DATA_TYPE_PROPERTY'}) properties={'name': 'code', 'simple_data_type': 'code', 'id': 13, 'uri': 'http://id.d4k.dk/dataset/hl7/fhir/datatypes#coding_code'}>\n",
            "<Node id=112288 labels=frozenset({'FHIR_DATA_TYPE_PROPERTY'}) properties={'name': 'system', 'simple_data_type': 'string', 'id': 10, 'uri': 'http://id.d4k.dk/dataset/hl7/fhir/datatypes#coding_system'}>\n",
            "<Node id=112289 labels=frozenset({'FHIR_DATA_TYPE_PROPERTY'}) properties={'name': 'display', 'simple_data_type': 'string', 'id': 11, 'uri': 'http://id.d4k.dk/dataset/hl7/fhir/datatypes#coding_display'}>\n",
            "<Node id=112290 labels=frozenset({'FHIR_DATA_TYPE_PROPERTY'}) properties={'name': 'user_selected', 'simple_data_type': 'boolean', 'id': 12, 'uri': 'http://id.d4k.dk/dataset/hl7/fhir/datatypes#coding_user_selected'}>\n",
            "Duplicated for:  http://id.d4k.dk/dataset/bc_template/base_laboratory/laterality/coding\n",
            "<Node id=112291 labels=frozenset({'FHIR_DATA_TYPE_PROPERTY'}) properties={'name': 'version', 'simple_data_type': 'string', 'id': 14, 'uri': 'http://id.d4k.dk/dataset/hl7/fhir/datatypes#coding_version'}>\n",
            "<Node id=112292 labels=frozenset({'FHIR_DATA_TYPE_PROPERTY'}) properties={'name': 'code', 'simple_data_type': 'code', 'id': 13, 'uri': 'http://id.d4k.dk/dataset/hl7/fhir/datatypes#coding_code'}>\n",
            "<Node id=112293 labels=frozenset({'FHIR_DATA_TYPE_PROPERTY'}) properties={'name': 'system', 'simple_data_type': 'string', 'id': 10, 'uri': 'http://id.d4k.dk/dataset/hl7/fhir/datatypes#coding_system'}>\n",
            "<Node id=112294 labels=frozenset({'FHIR_DATA_TYPE_PROPERTY'}) properties={'name': 'display', 'simple_data_type': 'string', 'id': 11, 'uri': 'http://id.d4k.dk/dataset/hl7/fhir/datatypes#coding_display'}>\n",
            "<Node id=112295 labels=frozenset({'FHIR_DATA_TYPE_PROPERTY'}) properties={'name': 'user_selected', 'simple_data_type': 'boolean', 'id': 12, 'uri': 'http://id.d4k.dk/dataset/hl7/fhir/datatypes#coding_user_selected'}>\n",
            "Duplicated for:  http://id.d4k.dk/dataset/bc_template/base_laboratory/site_of_administration/coding\n",
            "<Node id=112296 labels=frozenset({'FHIR_DATA_TYPE_PROPERTY'}) properties={'name': 'version', 'simple_data_type': 'string', 'id': 14, 'uri': 'http://id.d4k.dk/dataset/hl7/fhir/datatypes#coding_version'}>\n",
            "<Node id=112297 labels=frozenset({'FHIR_DATA_TYPE_PROPERTY'}) properties={'name': 'code', 'simple_data_type': 'code', 'id': 13, 'uri': 'http://id.d4k.dk/dataset/hl7/fhir/datatypes#coding_code'}>\n",
            "<Node id=112298 labels=frozenset({'FHIR_DATA_TYPE_PROPERTY'}) properties={'name': 'system', 'simple_data_type': 'string', 'id': 10, 'uri': 'http://id.d4k.dk/dataset/hl7/fhir/datatypes#coding_system'}>\n",
            "<Node id=112299 labels=frozenset({'FHIR_DATA_TYPE_PROPERTY'}) properties={'name': 'display', 'simple_data_type': 'string', 'id': 11, 'uri': 'http://id.d4k.dk/dataset/hl7/fhir/datatypes#coding_display'}>\n",
            "<Node id=112300 labels=frozenset({'FHIR_DATA_TYPE_PROPERTY'}) properties={'name': 'user_selected', 'simple_data_type': 'boolean', 'id': 12, 'uri': 'http://id.d4k.dk/dataset/hl7/fhir/datatypes#coding_user_selected'}>\n",
            "Duplicated for:  http://id.d4k.dk/dataset/bc_template/base_laboratory/position/coding\n",
            "<Node id=112301 labels=frozenset({'FHIR_DATA_TYPE_PROPERTY'}) properties={'name': 'version', 'simple_data_type': 'string', 'id': 14, 'uri': 'http://id.d4k.dk/dataset/hl7/fhir/datatypes#coding_version'}>\n",
            "<Node id=112302 labels=frozenset({'FHIR_DATA_TYPE_PROPERTY'}) properties={'name': 'code', 'simple_data_type': 'code', 'id': 13, 'uri': 'http://id.d4k.dk/dataset/hl7/fhir/datatypes#coding_code'}>\n",
            "<Node id=112303 labels=frozenset({'FHIR_DATA_TYPE_PROPERTY'}) properties={'name': 'system', 'simple_data_type': 'string', 'id': 10, 'uri': 'http://id.d4k.dk/dataset/hl7/fhir/datatypes#coding_system'}>\n",
            "<Node id=112304 labels=frozenset({'FHIR_DATA_TYPE_PROPERTY'}) properties={'name': 'display', 'simple_data_type': 'string', 'id': 11, 'uri': 'http://id.d4k.dk/dataset/hl7/fhir/datatypes#coding_display'}>\n",
            "<Node id=112305 labels=frozenset({'FHIR_DATA_TYPE_PROPERTY'}) properties={'name': 'user_selected', 'simple_data_type': 'boolean', 'id': 12, 'uri': 'http://id.d4k.dk/dataset/hl7/fhir/datatypes#coding_user_selected'}>\n",
            "Duplicated for:  http://id.d4k.dk/dataset/bc_template/base_laboratory/test/coding\n",
            "<Node id=112306 labels=frozenset({'FHIR_DATA_TYPE_PROPERTY'}) properties={'name': 'version', 'simple_data_type': 'string', 'id': 14, 'uri': 'http://id.d4k.dk/dataset/hl7/fhir/datatypes#coding_version'}>\n",
            "<Node id=112307 labels=frozenset({'FHIR_DATA_TYPE_PROPERTY'}) properties={'name': 'code', 'simple_data_type': 'code', 'id': 13, 'uri': 'http://id.d4k.dk/dataset/hl7/fhir/datatypes#coding_code'}>\n",
            "<Node id=112308 labels=frozenset({'FHIR_DATA_TYPE_PROPERTY'}) properties={'name': 'system', 'simple_data_type': 'string', 'id': 10, 'uri': 'http://id.d4k.dk/dataset/hl7/fhir/datatypes#coding_system'}>\n",
            "<Node id=112309 labels=frozenset({'FHIR_DATA_TYPE_PROPERTY'}) properties={'name': 'display', 'simple_data_type': 'string', 'id': 11, 'uri': 'http://id.d4k.dk/dataset/hl7/fhir/datatypes#coding_display'}>\n",
            "<Node id=112310 labels=frozenset({'FHIR_DATA_TYPE_PROPERTY'}) properties={'name': 'user_selected', 'simple_data_type': 'boolean', 'id': 12, 'uri': 'http://id.d4k.dk/dataset/hl7/fhir/datatypes#coding_user_selected'}>\n",
            "Duplicated for:  http://id.d4k.dk/dataset/bc_template/base_observation/result/coding\n",
            "<Node id=112311 labels=frozenset({'FHIR_DATA_TYPE_PROPERTY'}) properties={'name': 'version', 'simple_data_type': 'string', 'id': 14, 'uri': 'http://id.d4k.dk/dataset/hl7/fhir/datatypes#coding_version'}>\n",
            "<Node id=112312 labels=frozenset({'FHIR_DATA_TYPE_PROPERTY'}) properties={'name': 'code', 'simple_data_type': 'code', 'id': 13, 'uri': 'http://id.d4k.dk/dataset/hl7/fhir/datatypes#coding_code'}>\n",
            "<Node id=112313 labels=frozenset({'FHIR_DATA_TYPE_PROPERTY'}) properties={'name': 'system', 'simple_data_type': 'string', 'id': 10, 'uri': 'http://id.d4k.dk/dataset/hl7/fhir/datatypes#coding_system'}>\n",
            "<Node id=112314 labels=frozenset({'FHIR_DATA_TYPE_PROPERTY'}) properties={'name': 'display', 'simple_data_type': 'string', 'id': 11, 'uri': 'http://id.d4k.dk/dataset/hl7/fhir/datatypes#coding_display'}>\n",
            "<Node id=112315 labels=frozenset({'FHIR_DATA_TYPE_PROPERTY'}) properties={'name': 'user_selected', 'simple_data_type': 'boolean', 'id': 12, 'uri': 'http://id.d4k.dk/dataset/hl7/fhir/datatypes#coding_user_selected'}>\n",
            "Duplicated for:  http://id.d4k.dk/dataset/bc_template/base_observation/method/coding\n",
            "<Node id=112316 labels=frozenset({'FHIR_DATA_TYPE_PROPERTY'}) properties={'name': 'version', 'simple_data_type': 'string', 'id': 14, 'uri': 'http://id.d4k.dk/dataset/hl7/fhir/datatypes#coding_version'}>\n",
            "<Node id=112317 labels=frozenset({'FHIR_DATA_TYPE_PROPERTY'}) properties={'name': 'code', 'simple_data_type': 'code', 'id': 13, 'uri': 'http://id.d4k.dk/dataset/hl7/fhir/datatypes#coding_code'}>\n",
            "<Node id=112318 labels=frozenset({'FHIR_DATA_TYPE_PROPERTY'}) properties={'name': 'system', 'simple_data_type': 'string', 'id': 10, 'uri': 'http://id.d4k.dk/dataset/hl7/fhir/datatypes#coding_system'}>\n",
            "<Node id=112319 labels=frozenset({'FHIR_DATA_TYPE_PROPERTY'}) properties={'name': 'display', 'simple_data_type': 'string', 'id': 11, 'uri': 'http://id.d4k.dk/dataset/hl7/fhir/datatypes#coding_display'}>\n",
            "<Node id=112320 labels=frozenset({'FHIR_DATA_TYPE_PROPERTY'}) properties={'name': 'user_selected', 'simple_data_type': 'boolean', 'id': 12, 'uri': 'http://id.d4k.dk/dataset/hl7/fhir/datatypes#coding_user_selected'}>\n",
            "Duplicated for:  http://id.d4k.dk/dataset/bc_template/base_observation/laterality/coding\n",
            "<Node id=112321 labels=frozenset({'FHIR_DATA_TYPE_PROPERTY'}) properties={'name': 'version', 'simple_data_type': 'string', 'id': 14, 'uri': 'http://id.d4k.dk/dataset/hl7/fhir/datatypes#coding_version'}>\n",
            "<Node id=112322 labels=frozenset({'FHIR_DATA_TYPE_PROPERTY'}) properties={'name': 'code', 'simple_data_type': 'code', 'id': 13, 'uri': 'http://id.d4k.dk/dataset/hl7/fhir/datatypes#coding_code'}>\n",
            "<Node id=112323 labels=frozenset({'FHIR_DATA_TYPE_PROPERTY'}) properties={'name': 'system', 'simple_data_type': 'string', 'id': 10, 'uri': 'http://id.d4k.dk/dataset/hl7/fhir/datatypes#coding_system'}>\n",
            "<Node id=112324 labels=frozenset({'FHIR_DATA_TYPE_PROPERTY'}) properties={'name': 'display', 'simple_data_type': 'string', 'id': 11, 'uri': 'http://id.d4k.dk/dataset/hl7/fhir/datatypes#coding_display'}>\n",
            "<Node id=112325 labels=frozenset({'FHIR_DATA_TYPE_PROPERTY'}) properties={'name': 'user_selected', 'simple_data_type': 'boolean', 'id': 12, 'uri': 'http://id.d4k.dk/dataset/hl7/fhir/datatypes#coding_user_selected'}>\n",
            "Duplicated for:  http://id.d4k.dk/dataset/bc_template/base_observation/site_of_administration/coding\n",
            "<Node id=112326 labels=frozenset({'FHIR_DATA_TYPE_PROPERTY'}) properties={'name': 'version', 'simple_data_type': 'string', 'id': 14, 'uri': 'http://id.d4k.dk/dataset/hl7/fhir/datatypes#coding_version'}>\n",
            "<Node id=112327 labels=frozenset({'FHIR_DATA_TYPE_PROPERTY'}) properties={'name': 'code', 'simple_data_type': 'code', 'id': 13, 'uri': 'http://id.d4k.dk/dataset/hl7/fhir/datatypes#coding_code'}>\n",
            "<Node id=112328 labels=frozenset({'FHIR_DATA_TYPE_PROPERTY'}) properties={'name': 'system', 'simple_data_type': 'string', 'id': 10, 'uri': 'http://id.d4k.dk/dataset/hl7/fhir/datatypes#coding_system'}>\n",
            "<Node id=112329 labels=frozenset({'FHIR_DATA_TYPE_PROPERTY'}) properties={'name': 'display', 'simple_data_type': 'string', 'id': 11, 'uri': 'http://id.d4k.dk/dataset/hl7/fhir/datatypes#coding_display'}>\n",
            "<Node id=112330 labels=frozenset({'FHIR_DATA_TYPE_PROPERTY'}) properties={'name': 'user_selected', 'simple_data_type': 'boolean', 'id': 12, 'uri': 'http://id.d4k.dk/dataset/hl7/fhir/datatypes#coding_user_selected'}>\n",
            "Duplicated for:  http://id.d4k.dk/dataset/bc_template/base_observation/position/coding\n",
            "<Node id=112331 labels=frozenset({'FHIR_DATA_TYPE_PROPERTY'}) properties={'name': 'version', 'simple_data_type': 'string', 'id': 14, 'uri': 'http://id.d4k.dk/dataset/hl7/fhir/datatypes#coding_version'}>\n",
            "<Node id=112332 labels=frozenset({'FHIR_DATA_TYPE_PROPERTY'}) properties={'name': 'code', 'simple_data_type': 'code', 'id': 13, 'uri': 'http://id.d4k.dk/dataset/hl7/fhir/datatypes#coding_code'}>\n",
            "<Node id=112333 labels=frozenset({'FHIR_DATA_TYPE_PROPERTY'}) properties={'name': 'system', 'simple_data_type': 'string', 'id': 10, 'uri': 'http://id.d4k.dk/dataset/hl7/fhir/datatypes#coding_system'}>\n",
            "<Node id=112334 labels=frozenset({'FHIR_DATA_TYPE_PROPERTY'}) properties={'name': 'display', 'simple_data_type': 'string', 'id': 11, 'uri': 'http://id.d4k.dk/dataset/hl7/fhir/datatypes#coding_display'}>\n",
            "<Node id=112335 labels=frozenset({'FHIR_DATA_TYPE_PROPERTY'}) properties={'name': 'user_selected', 'simple_data_type': 'boolean', 'id': 12, 'uri': 'http://id.d4k.dk/dataset/hl7/fhir/datatypes#coding_user_selected'}>\n",
            "Duplicated for:  http://id.d4k.dk/dataset/bc_template/base_observation/test/coding\n",
            "<Node id=112336 labels=frozenset({'FHIR_DATA_TYPE_PROPERTY'}) properties={'name': 'value', 'simple_data_type': 'float', 'id': 6, 'uri': 'http://id.d4k.dk/dataset/hl7/fhir/datatypes#quantity_value'}>\n",
            "<Node id=112337 labels=frozenset({'FHIR_DATA_TYPE_PROPERTY'}) properties={'name': 'system', 'simple_data_type': 'string', 'id': 5, 'uri': 'http://id.d4k.dk/dataset/hl7/fhir/datatypes#quantity_system'}>\n",
            "<Node id=112338 labels=frozenset({'FHIR_DATA_TYPE_PROPERTY'}) properties={'name': 'comparator', 'simple_data_type': 'code', 'id': 7, 'uri': 'http://id.d4k.dk/dataset/hl7/fhir/datatypes#quantity_comparator'}>\n",
            "<Node id=112339 labels=frozenset({'FHIR_DATA_TYPE_PROPERTY'}) properties={'name': 'code', 'simple_data_type': 'code', 'id': 9, 'uri': 'http://id.d4k.dk/dataset/hl7/fhir/datatypes#quantity_code'}>\n",
            "<Node id=112340 labels=frozenset({'FHIR_DATA_TYPE_PROPERTY'}) properties={'name': 'unit', 'simple_data_type': 'string', 'id': 8, 'uri': 'http://id.d4k.dk/dataset/hl7/fhir/datatypes#quantity_unit'}>\n",
            "Duplicated for:  http://id.d4k.dk/dataset/bc_template/base_laboratory/result/quantity\n",
            "<Node id=112341 labels=frozenset({'FHIR_DATA_TYPE_PROPERTY'}) properties={'name': 'value', 'simple_data_type': 'float', 'id': 6, 'uri': 'http://id.d4k.dk/dataset/hl7/fhir/datatypes#quantity_value'}>\n",
            "<Node id=112342 labels=frozenset({'FHIR_DATA_TYPE_PROPERTY'}) properties={'name': 'system', 'simple_data_type': 'string', 'id': 5, 'uri': 'http://id.d4k.dk/dataset/hl7/fhir/datatypes#quantity_system'}>\n",
            "<Node id=112343 labels=frozenset({'FHIR_DATA_TYPE_PROPERTY'}) properties={'name': 'comparator', 'simple_data_type': 'code', 'id': 7, 'uri': 'http://id.d4k.dk/dataset/hl7/fhir/datatypes#quantity_comparator'}>\n",
            "<Node id=112344 labels=frozenset({'FHIR_DATA_TYPE_PROPERTY'}) properties={'name': 'code', 'simple_data_type': 'code', 'id': 9, 'uri': 'http://id.d4k.dk/dataset/hl7/fhir/datatypes#quantity_code'}>\n",
            "<Node id=112345 labels=frozenset({'FHIR_DATA_TYPE_PROPERTY'}) properties={'name': 'unit', 'simple_data_type': 'string', 'id': 8, 'uri': 'http://id.d4k.dk/dataset/hl7/fhir/datatypes#quantity_unit'}>\n",
            "Duplicated for:  http://id.d4k.dk/dataset/bc_template/base_observation/result/quantity\n",
            "URIs set.\n"
          ]
        }
      ]
    },
    {
      "cell_type": "code",
      "source": [
        "stage_11_files = [ \n",
        "    { \"label\": \"OTHER_SOURCE\", \"filename\": \"stage_11_other_source_nodes.csv\" },\n",
        "    { \"label\": \"BC_VALUE_SET\", \"filename\": \"stage_11_bc_value_set_nodes.csv\" },\n",
        "    { \"label\": \"BC_DATA_PROPERTY\", \"filename\": \"stage_11_bc_data_property_nodes.csv\" },\n",
        "    { \"label\": \"BC_DATA_TYPE\", \"filename\": \"stage_11_bc_data_type_nodes.csv\" },\n",
        "    { \"label\": \"BC_ITEM\", \"filename\": \"stage_11_bc_item_nodes.csv\" },\n",
        "    { \"label\": \"BC_INSTANCE\", \"filename\": \"stage_11_bc_instance_nodes.csv\" },\n",
        "    { \"type\": \"FROM_SOURCE\", \"filename\": \"stage_11_from_source_relationships.csv\" },\n",
        "    { \"type\": \"HAS_RESPONSE\", \"filename\": \"stage_11_has_response_relationships.csv\" },\n",
        "    { \"type\": \"HAS_DATA_PROPERTY\", \"filename\": \"stage_11_has_data_property_relationships.csv\" },\n",
        "    { \"type\": \"HAS_DATA_TYPE\", \"filename\": \"stage_11_has_data_type_relationships.csv\" },\n",
        "    { \"type\": \"HAS_IDENTIFIER\", \"filename\": \"stage_11_has_identifier_relationships.csv\" },\n",
        "    { \"type\": \"HAS_ITEM\", \"filename\": \"stage_11_has_item_relationships.csv\" }\n",
        "  ]\n",
        "\n",
        "file_load(stage_11_files)"
      ],
      "metadata": {
        "colab": {
          "base_uri": "https://localhost:8080/"
        },
        "id": "nKEod92dmIc_",
        "outputId": "273db19d-7a2b-4f3a-a757-3a74a8846c5c"
      },
      "execution_count": 162,
      "outputs": [
        {
          "output_type": "stream",
          "name": "stdout",
          "text": [
            "CALL apoc.import.csv( [{ fileName: 'https://raw.githubusercontent.com/data4knowledge/biomedical_concepts/main/data/csv_load/stage_11_other_source_nodes.csv', labels: ['OTHER_SOURCE'] }, { fileName: 'https://raw.githubusercontent.com/data4knowledge/biomedical_concepts/main/data/csv_load/stage_11_bc_value_set_nodes.csv', labels: ['BC_VALUE_SET'] }, { fileName: 'https://raw.githubusercontent.com/data4knowledge/biomedical_concepts/main/data/csv_load/stage_11_bc_data_property_nodes.csv', labels: ['BC_DATA_PROPERTY'] }, { fileName: 'https://raw.githubusercontent.com/data4knowledge/biomedical_concepts/main/data/csv_load/stage_11_bc_data_type_nodes.csv', labels: ['BC_DATA_TYPE'] }, { fileName: 'https://raw.githubusercontent.com/data4knowledge/biomedical_concepts/main/data/csv_load/stage_11_bc_item_nodes.csv', labels: ['BC_ITEM'] }, { fileName: 'https://raw.githubusercontent.com/data4knowledge/biomedical_concepts/main/data/csv_load/stage_11_bc_instance_nodes.csv', labels: ['BC_INSTANCE'] }], [{ fileName: 'https://raw.githubusercontent.com/data4knowledge/biomedical_concepts/main/data/csv_load/stage_11_from_source_relationships.csv', type: 'FROM_SOURCE' }, { fileName: 'https://raw.githubusercontent.com/data4knowledge/biomedical_concepts/main/data/csv_load/stage_11_has_response_relationships.csv', type: 'HAS_RESPONSE' }, { fileName: 'https://raw.githubusercontent.com/data4knowledge/biomedical_concepts/main/data/csv_load/stage_11_has_data_property_relationships.csv', type: 'HAS_DATA_PROPERTY' }, { fileName: 'https://raw.githubusercontent.com/data4knowledge/biomedical_concepts/main/data/csv_load/stage_11_has_data_type_relationships.csv', type: 'HAS_DATA_TYPE' }, { fileName: 'https://raw.githubusercontent.com/data4knowledge/biomedical_concepts/main/data/csv_load/stage_11_has_identifier_relationships.csv', type: 'HAS_IDENTIFIER' }, { fileName: 'https://raw.githubusercontent.com/data4knowledge/biomedical_concepts/main/data/csv_load/stage_11_has_item_relationships.csv', type: 'HAS_ITEM' }], {stringIds: false})\n",
            "<neo4j.work.result.Result object at 0x7f795c3e7810>\n",
            "<Record file='progress.csv' source='file' format='csv' nodes=24 relationships=24 properties=98 time=2960 rows=0 batchSize=-1 batches=0 done=True data=None>\n"
          ]
        }
      ]
    },
    {
      "cell_type": "code",
      "source": [
        "with driver.session() as session:\n",
        "  query = \"\"\"MATCH (n:BC_DATA_PROPERTY)-[:HAS_RESPONSE]->(d) RETURN n.name as name, d.cl as cl, d.cli as cli, d.uri as uri\"\"\" \n",
        "  result = session.run(query)\n",
        "  for record in result:\n",
        "    print (\"%s: [%s, %s], uri=%s\" % (record[\"name\"], record[\"cl\"], record[\"cli\"], record[\"uri\"]))\n",
        "driver.close()"
      ],
      "metadata": {
        "colab": {
          "base_uri": "https://localhost:8080/"
        },
        "id": "cqgJqRtjwRWT",
        "outputId": "011c2443-75c2-4d99-a2a4-e1e4c285e366"
      },
      "execution_count": 163,
      "outputs": [
        {
          "output_type": "stream",
          "name": "stdout",
          "text": [
            "code: [c66741, c25208], uri=http://id.d4k.dk/dataset/bc_instance/weight/test/coding/code/c66741-c25208\n",
            "code: [c66770, c28252], uri=http://id.d4k.dk/dataset/bc_instance/weight/result/quantity/code/c66770-c28252\n",
            "code: [c66770, c48531], uri=http://id.d4k.dk/dataset/bc_instance/weight/result/quantity/code/c66770-c48531\n"
          ]
        }
      ]
    },
    {
      "cell_type": "markdown",
      "source": [
        "Need to\n",
        "- Link to the template\n",
        "- Link the BC to any CT"
      ],
      "metadata": {
        "id": "cH-7_-DXzN_R"
      }
    },
    {
      "cell_type": "code",
      "source": [
        "stage_12_files = [    \n",
        "    { \"label\": \"ENDPOINT\", \"filename\": \"stage_12_endpoint_nodes.csv\" },\n",
        "    { \"label\": \"STUDY_DATA\", \"filename\": \"stage_12_study_data_nodes.csv\" },\n",
        "    { \"label\": \"PROCEDURE\", \"filename\": \"stage_12_procedure_nodes.csv\" },\n",
        "    { \"label\": \"ACTIVITY\", \"filename\": \"stage_12_activity_nodes.csv\" },\n",
        "    { \"label\": \"WORKFLOW_ITEM\", \"filename\": \"stage_12_workflow_item_nodes.csv\" },\n",
        "    { \"label\": \"VISIT\", \"filename\": \"stage_12_visit_nodes.csv\" },\n",
        "    { \"label\": \"STUDY_CELL\", \"filename\": \"stage_12_study_cell_nodes.csv\" },\n",
        "    { \"label\": \"RULE\", \"filename\": \"stage_12_rule_nodes.csv\" },\n",
        "    { \"label\": \"STUDY_ELEMENT\", \"filename\": \"stage_12_study_element_nodes.csv\" },\n",
        "    { \"label\": \"EPOCH\", \"filename\": \"stage_12_study_epoch_nodes.csv\" },\n",
        "    { \"label\": \"STUDY_ARM\", \"filename\": \"stage_12_study_arm_nodes.csv\" },\n",
        "    { \"label\": \"OBJECTIVE\", \"filename\": \"stage_12_objective_nodes.csv\" },\n",
        "    { \"label\": \"CODE\", \"filename\": \"stage_12_code_nodes.csv\" },\n",
        "    { \"label\": \"INVESTIGATIONAL_INTERVENTIONS\", \"filename\": \"stage_12_investigational_interventions_nodes.csv\" },\n",
        "    { \"label\": \"POPULATION\", \"filename\": \"stage_12_population_nodes.csv\" },\n",
        "    { \"label\": \"STUDY_DESIGN\", \"filename\": \"stage_12_study_design_nodes.csv\" },\n",
        "    { \"label\": \"INDICATION\", \"filename\": \"stage_12_indication_nodes.csv\" },\n",
        "    { \"label\": \"STUDY_PROTOCOL\", \"filename\": \"stage_12_study_protocol_nodes.csv\" },\n",
        "    { \"label\": \"STUDY_PHASE\", \"filename\": \"stage_12_study_phase_nodes.csv\" },\n",
        "    { \"label\": \"STUDY_TYPE\", \"filename\": \"stage_12_study_type_nodes.csv\" },\n",
        "    { \"label\": \"STUDY_IDENTIFIER\", \"filename\": \"stage_12_study_identifier_nodes.csv\" },\n",
        "    { \"label\": \"STUDY\", \"filename\": \"stage_12_study_nodes.csv\" },\n",
        "    { \"type\": \"HAS_CODED\", \"filename\": \"stage_12_has_coded_relationships.csv\" },\n",
        "    { \"type\": \"HAS_ENDPOINT\", \"filename\": \"stage_12_has_endpoint_relationships.csv\" },\n",
        "    { \"type\": \"HAS_STUDY_DATA\", \"filename\": \"stage_12_has_study_data_relationships.csv\" },\n",
        "    { \"type\": \"HAS_PROCEDURE\", \"filename\": \"stage_12_has_procedure_relationships.csv\" },\n",
        "    { \"type\": \"HAS_PREVIOUS_ACTIVITY\", \"filename\": \"stage_12_has_previous_activity_relationships.csv\" },\n",
        "    { \"type\": \"HAS_PREVIOUS_WORKFLOW\", \"filename\": \"stage_12_has_previous_workflow_relationships.csv\" },\n",
        "    { \"type\": \"USED_IN_VISIT\", \"filename\": \"stage_12_used_in_visit_relationships.csv\" },\n",
        "    { \"type\": \"HAS_ACTIVITY\", \"filename\": \"stage_12_has_activity_relationships.csv\" },\n",
        "    { \"type\": \"HAS_VISIT\", \"filename\": \"stage_12_has_visit_relationships.csv\" },\n",
        "    { \"type\": \"HAS_END_RULE\", \"filename\": \"stage_12_has_end_rule_relationships.csv\" },\n",
        "    { \"type\": \"HAS_START_RULE\", \"filename\": \"stage_12_has_start_rule_relationships.csv\" },\n",
        "    { \"type\": \"HAS_ELEMENT\", \"filename\": \"stage_12_has_element_relationships.csv\" },\n",
        "    { \"type\": \"HAS_EPOCH\", \"filename\": \"stage_12_has_epoch_relationships.csv\" },\n",
        "    { \"type\": \"HAS_ARM\", \"filename\": \"stage_12_has_arm_relationships.csv\" },\n",
        "    { \"type\": \"HAS_CELL\", \"filename\": \"stage_12_has_cell_relationships.csv\" },\n",
        "    { \"type\": \"HAS_OBJECTIVE\", \"filename\": \"stage_12_has_objective_relationships.csv\" },\n",
        "    { \"type\": \"HAS_INDICATION\", \"filename\": \"stage_12_has_indication_relationships.csv\" },\n",
        "    { \"type\": \"HAS_INVESTIGATIONAL_INTERVENTION\", \"filename\": \"stage_12_has_investigational_intervention_relationships.csv\" },\n",
        "    { \"type\": \"HAS_POPULATION\", \"filename\": \"stage_12_has_population_relationships.csv\" },\n",
        "    { \"type\": \"HAS_STUDY_DESIGN\", \"filename\": \"stage_12_has_study_design_relationships.csv\" },\n",
        "    { \"type\": \"HAS_PROTOCOL\", \"filename\": \"stage_12_has_protocol_relationships.csv\" },\n",
        "    { \"type\": \"HAS_STUDY_PHASE\", \"filename\": \"stage_12_has_study_phase_relationships.csv\" },\n",
        "    { \"type\": \"HAS_STUDY_TYPE\", \"filename\": \"stage_12_has_study_type_relationships.csv\" },\n",
        "    { \"type\": \"HAS_IDENTIFIER\", \"filename\": \"stage_12_has_identifier_relationships.csv\" }\n",
        "  ]\n",
        "\n",
        "file_load(stage_12_files)"
      ],
      "metadata": {
        "colab": {
          "base_uri": "https://localhost:8080/"
        },
        "id": "yLEatFJT6WGB",
        "outputId": "89a3fa2e-912c-4a8c-f084-b37be4bc2a53"
      },
      "execution_count": 164,
      "outputs": [
        {
          "output_type": "stream",
          "name": "stdout",
          "text": [
            "CALL apoc.import.csv( [{ fileName: 'https://raw.githubusercontent.com/data4knowledge/biomedical_concepts/main/data/csv_load/stage_12_endpoint_nodes.csv', labels: ['ENDPOINT'] }, { fileName: 'https://raw.githubusercontent.com/data4knowledge/biomedical_concepts/main/data/csv_load/stage_12_study_data_nodes.csv', labels: ['STUDY_DATA'] }, { fileName: 'https://raw.githubusercontent.com/data4knowledge/biomedical_concepts/main/data/csv_load/stage_12_procedure_nodes.csv', labels: ['PROCEDURE'] }, { fileName: 'https://raw.githubusercontent.com/data4knowledge/biomedical_concepts/main/data/csv_load/stage_12_activity_nodes.csv', labels: ['ACTIVITY'] }, { fileName: 'https://raw.githubusercontent.com/data4knowledge/biomedical_concepts/main/data/csv_load/stage_12_workflow_item_nodes.csv', labels: ['WORKFLOW_ITEM'] }, { fileName: 'https://raw.githubusercontent.com/data4knowledge/biomedical_concepts/main/data/csv_load/stage_12_visit_nodes.csv', labels: ['VISIT'] }, { fileName: 'https://raw.githubusercontent.com/data4knowledge/biomedical_concepts/main/data/csv_load/stage_12_study_cell_nodes.csv', labels: ['STUDY_CELL'] }, { fileName: 'https://raw.githubusercontent.com/data4knowledge/biomedical_concepts/main/data/csv_load/stage_12_rule_nodes.csv', labels: ['RULE'] }, { fileName: 'https://raw.githubusercontent.com/data4knowledge/biomedical_concepts/main/data/csv_load/stage_12_study_element_nodes.csv', labels: ['STUDY_ELEMENT'] }, { fileName: 'https://raw.githubusercontent.com/data4knowledge/biomedical_concepts/main/data/csv_load/stage_12_study_epoch_nodes.csv', labels: ['EPOCH'] }, { fileName: 'https://raw.githubusercontent.com/data4knowledge/biomedical_concepts/main/data/csv_load/stage_12_study_arm_nodes.csv', labels: ['STUDY_ARM'] }, { fileName: 'https://raw.githubusercontent.com/data4knowledge/biomedical_concepts/main/data/csv_load/stage_12_objective_nodes.csv', labels: ['OBJECTIVE'] }, { fileName: 'https://raw.githubusercontent.com/data4knowledge/biomedical_concepts/main/data/csv_load/stage_12_code_nodes.csv', labels: ['CODE'] }, { fileName: 'https://raw.githubusercontent.com/data4knowledge/biomedical_concepts/main/data/csv_load/stage_12_investigational_interventions_nodes.csv', labels: ['INVESTIGATIONAL_INTERVENTIONS'] }, { fileName: 'https://raw.githubusercontent.com/data4knowledge/biomedical_concepts/main/data/csv_load/stage_12_population_nodes.csv', labels: ['POPULATION'] }, { fileName: 'https://raw.githubusercontent.com/data4knowledge/biomedical_concepts/main/data/csv_load/stage_12_study_design_nodes.csv', labels: ['STUDY_DESIGN'] }, { fileName: 'https://raw.githubusercontent.com/data4knowledge/biomedical_concepts/main/data/csv_load/stage_12_indication_nodes.csv', labels: ['INDICATION'] }, { fileName: 'https://raw.githubusercontent.com/data4knowledge/biomedical_concepts/main/data/csv_load/stage_12_study_protocol_nodes.csv', labels: ['STUDY_PROTOCOL'] }, { fileName: 'https://raw.githubusercontent.com/data4knowledge/biomedical_concepts/main/data/csv_load/stage_12_study_phase_nodes.csv', labels: ['STUDY_PHASE'] }, { fileName: 'https://raw.githubusercontent.com/data4knowledge/biomedical_concepts/main/data/csv_load/stage_12_study_type_nodes.csv', labels: ['STUDY_TYPE'] }, { fileName: 'https://raw.githubusercontent.com/data4knowledge/biomedical_concepts/main/data/csv_load/stage_12_study_identifier_nodes.csv', labels: ['STUDY_IDENTIFIER'] }, { fileName: 'https://raw.githubusercontent.com/data4knowledge/biomedical_concepts/main/data/csv_load/stage_12_study_nodes.csv', labels: ['STUDY'] }], [{ fileName: 'https://raw.githubusercontent.com/data4knowledge/biomedical_concepts/main/data/csv_load/stage_12_has_coded_relationships.csv', type: 'HAS_CODED' }, { fileName: 'https://raw.githubusercontent.com/data4knowledge/biomedical_concepts/main/data/csv_load/stage_12_has_endpoint_relationships.csv', type: 'HAS_ENDPOINT' }, { fileName: 'https://raw.githubusercontent.com/data4knowledge/biomedical_concepts/main/data/csv_load/stage_12_has_study_data_relationships.csv', type: 'HAS_STUDY_DATA' }, { fileName: 'https://raw.githubusercontent.com/data4knowledge/biomedical_concepts/main/data/csv_load/stage_12_has_procedure_relationships.csv', type: 'HAS_PROCEDURE' }, { fileName: 'https://raw.githubusercontent.com/data4knowledge/biomedical_concepts/main/data/csv_load/stage_12_has_previous_activity_relationships.csv', type: 'HAS_PREVIOUS_ACTIVITY' }, { fileName: 'https://raw.githubusercontent.com/data4knowledge/biomedical_concepts/main/data/csv_load/stage_12_has_previous_workflow_relationships.csv', type: 'HAS_PREVIOUS_WORKFLOW' }, { fileName: 'https://raw.githubusercontent.com/data4knowledge/biomedical_concepts/main/data/csv_load/stage_12_used_in_visit_relationships.csv', type: 'USED_IN_VISIT' }, { fileName: 'https://raw.githubusercontent.com/data4knowledge/biomedical_concepts/main/data/csv_load/stage_12_has_activity_relationships.csv', type: 'HAS_ACTIVITY' }, { fileName: 'https://raw.githubusercontent.com/data4knowledge/biomedical_concepts/main/data/csv_load/stage_12_has_visit_relationships.csv', type: 'HAS_VISIT' }, { fileName: 'https://raw.githubusercontent.com/data4knowledge/biomedical_concepts/main/data/csv_load/stage_12_has_end_rule_relationships.csv', type: 'HAS_END_RULE' }, { fileName: 'https://raw.githubusercontent.com/data4knowledge/biomedical_concepts/main/data/csv_load/stage_12_has_start_rule_relationships.csv', type: 'HAS_START_RULE' }, { fileName: 'https://raw.githubusercontent.com/data4knowledge/biomedical_concepts/main/data/csv_load/stage_12_has_element_relationships.csv', type: 'HAS_ELEMENT' }, { fileName: 'https://raw.githubusercontent.com/data4knowledge/biomedical_concepts/main/data/csv_load/stage_12_has_epoch_relationships.csv', type: 'HAS_EPOCH' }, { fileName: 'https://raw.githubusercontent.com/data4knowledge/biomedical_concepts/main/data/csv_load/stage_12_has_arm_relationships.csv', type: 'HAS_ARM' }, { fileName: 'https://raw.githubusercontent.com/data4knowledge/biomedical_concepts/main/data/csv_load/stage_12_has_cell_relationships.csv', type: 'HAS_CELL' }, { fileName: 'https://raw.githubusercontent.com/data4knowledge/biomedical_concepts/main/data/csv_load/stage_12_has_objective_relationships.csv', type: 'HAS_OBJECTIVE' }, { fileName: 'https://raw.githubusercontent.com/data4knowledge/biomedical_concepts/main/data/csv_load/stage_12_has_indication_relationships.csv', type: 'HAS_INDICATION' }, { fileName: 'https://raw.githubusercontent.com/data4knowledge/biomedical_concepts/main/data/csv_load/stage_12_has_investigational_intervention_relationships.csv', type: 'HAS_INVESTIGATIONAL_INTERVENTION' }, { fileName: 'https://raw.githubusercontent.com/data4knowledge/biomedical_concepts/main/data/csv_load/stage_12_has_population_relationships.csv', type: 'HAS_POPULATION' }, { fileName: 'https://raw.githubusercontent.com/data4knowledge/biomedical_concepts/main/data/csv_load/stage_12_has_study_design_relationships.csv', type: 'HAS_STUDY_DESIGN' }, { fileName: 'https://raw.githubusercontent.com/data4knowledge/biomedical_concepts/main/data/csv_load/stage_12_has_protocol_relationships.csv', type: 'HAS_PROTOCOL' }, { fileName: 'https://raw.githubusercontent.com/data4knowledge/biomedical_concepts/main/data/csv_load/stage_12_has_study_phase_relationships.csv', type: 'HAS_STUDY_PHASE' }, { fileName: 'https://raw.githubusercontent.com/data4knowledge/biomedical_concepts/main/data/csv_load/stage_12_has_study_type_relationships.csv', type: 'HAS_STUDY_TYPE' }, { fileName: 'https://raw.githubusercontent.com/data4knowledge/biomedical_concepts/main/data/csv_load/stage_12_has_identifier_relationships.csv', type: 'HAS_IDENTIFIER' }], {stringIds: false})\n",
            "<neo4j.work.result.Result object at 0x7f795c3f6710>\n",
            "<Record file='progress.csv' source='file' format='csv' nodes=209 relationships=293 properties=746 time=8127 rows=0 batchSize=-1 batches=0 done=True data=None>\n"
          ]
        }
      ]
    },
    {
      "cell_type": "code",
      "source": [
        "def load_cl(ct_type, cl):\n",
        "  filename = \"%scdisc_ct_%s_nodes_%s.csv\" % (load_file_dir, ct_type, cl)\n",
        "  with driver.session() as session:\n",
        "    query = \"\"\"MATCH (p:SKOS_CONCEPT) where p.identifier = '%s' \n",
        "      WITH p\n",
        "      LOAD CSV WITH HEADERS FROM '%s' AS row\n",
        "      CREATE (p)-[:SKOS_NARROWER]->(c:SKOS_CONCEPT {id: toInteger(row.id), alt_label: row.alt_label, definition: row.definition, identifier: row.identifier, notation: row.notation, pref_label: row.pref_label, uri: row.uri})\"\"\" % (cl, filename)\n",
        "    result = session.run(query)\n",
        "    for record in result:\n",
        "      print(record)\n",
        "\n",
        "load_cl(\"sdtm\", \"C66741\")\n",
        "load_cl(\"sdtm\", \"C66770\")\n",
        "\n",
        "with driver.session() as session:\n",
        "  query = \"\"\"MATCH (cs)-[]->(c1:SKOS_CONCEPT)-[]->(c2:SKOS_CONCEPT) WHERE c1.identifier = 'C66741' RETURN DISTINCT cs.version as version, c1.identifier as cl_identifier, c2.identifier as cli_identifier\"\"\" \n",
        "  result = session.run(query, uri_data=uri_data)\n",
        "  for record in result:\n",
        "    print(\"%s: %s, %s\" % (record[\"version\"], record[\"cl_identifier\"], record[\"cli_identifier\"]))\n",
        "driver.close()\n",
        "\n",
        "with driver.session() as session:\n",
        "  query = \"\"\"MATCH (cs)-[]->(c1:SKOS_CONCEPT)-[]->(c2:SKOS_CONCEPT) WHERE c1.identifier = 'C66770' RETURN DISTINCT cs.version as version, c1.identifier as cl_identifier, c2.identifier as cli_identifier\"\"\" \n",
        "  result = session.run(query, uri_data=uri_data)\n",
        "  for record in result:\n",
        "    print(\"%s: %s, %s\" % (record[\"version\"], record[\"cl_identifier\"], record[\"cli_identifier\"]))\n",
        "driver.close()\n"
      ],
      "metadata": {
        "colab": {
          "base_uri": "https://localhost:8080/"
        },
        "id": "g-wDr1OVrCpK",
        "outputId": "3650948c-1c9f-414f-f7c3-7276207163c3"
      },
      "execution_count": 165,
      "outputs": [
        {
          "output_type": "stream",
          "name": "stdout",
          "text": [
            "2021-12-17: C66741, C49678\n",
            "2021-12-17: C66741, C163567\n",
            "2021-12-17: C66741, C100948\n",
            "2021-12-17: C66741, C98793\n",
            "2021-12-17: C66741, C174375\n",
            "2021-12-17: C66741, C104622\n",
            "2021-12-17: C66741, C92716\n",
            "2021-12-17: C66741, C174233\n",
            "2021-12-17: C66741, C71258\n",
            "2021-12-17: C66741, C147492\n",
            "2021-12-17: C66741, C172607\n",
            "2021-12-17: C66741, C41255\n",
            "2021-12-17: C66741, C174372\n",
            "2021-12-17: C66741, C132482\n",
            "2021-12-17: C66741, C25208\n",
            "2021-12-17: C66741, C174374\n",
            "2021-12-17: C66741, C174371\n",
            "2021-12-17: C66741, C126083\n",
            "2021-12-17: C66741, C38082\n",
            "2021-12-17: C66741, C16358\n",
            "2021-12-17: C66741, C49679\n",
            "2021-12-17: C66741, C100945\n",
            "2021-12-17: C66741, C103346\n",
            "2021-12-17: C66741, C76325\n",
            "2021-12-17: C66741, C87054\n",
            "2021-12-17: C66741, C174373\n",
            "2021-12-17: C66741, C172608\n",
            "2021-12-17: C66741, C181553\n",
            "2021-12-17: C66741, C156606\n",
            "2021-12-17: C66741, C17651\n",
            "2021-12-17: C66741, C124475\n",
            "2021-12-17: C66741, C25298\n",
            "2021-12-17: C66741, C117976\n",
            "2021-12-17: C66741, C178060\n",
            "2021-12-17: C66741, C154891\n",
            "2021-12-17: C66741, C174311\n",
            "2021-12-17: C66741, C174446\n",
            "2021-12-17: C66741, C49680\n",
            "2021-12-17: C66741, C49676\n",
            "2021-12-17: C66741, C174370\n",
            "2021-12-17: C66741, C81298\n",
            "2021-12-17: C66741, C98785\n",
            "2021-12-17: C66741, C25347\n",
            "2021-12-17: C66741, C100947\n",
            "2021-12-17: C66741, C163568\n",
            "2021-12-17: C66741, C174376\n",
            "2021-12-17: C66741, C81255\n",
            "2021-12-17: C66741, C181552\n",
            "2021-12-17: C66741, C163569\n",
            "2021-12-17: C66741, C172610\n",
            "2021-12-17: C66741, C170639\n",
            "2021-12-17: C66741, C25299\n",
            "2021-12-17: C66741, C60832\n",
            "2021-12-17: C66741, C84372\n",
            "2021-12-17: C66741, C49677\n",
            "2021-12-17: C66741, C168125\n",
            "2021-12-17: C66741, C163570\n",
            "2021-12-17: C66741, C100946\n",
            "2021-12-17: C66741, C25157\n",
            "2021-12-17: C66741, C172609\n",
            "2021-12-17: C66741, C158297\n",
            "2021-12-17: C66741, C147491\n",
            "2021-12-17: C66741, C122232\n",
            "2021-12-17: C66770, C48500\n",
            "2021-12-17: C66770, C127805\n",
            "2021-12-17: C66770, C139135\n",
            "2021-12-17: C66770, C49673\n",
            "2021-12-17: C66770, C42547\n",
            "2021-12-17: C66770, C28252\n",
            "2021-12-17: C66770, C48531\n",
            "2021-12-17: C66770, C49670\n",
            "2021-12-17: C66770, C48155\n",
            "2021-12-17: C66770, C41139\n",
            "2021-12-17: C66770, C49674\n",
            "2021-12-17: C66770, C42549\n",
            "2021-12-17: C66770, C42545\n",
            "2021-12-17: C66770, C42569\n",
            "2021-12-17: C66770, C44277\n",
            "2021-12-17: C66770, C42537\n",
            "2021-12-17: C66770, C147129\n",
            "2021-12-17: C66770, C49668\n",
            "2021-12-17: C66770, C42559\n",
            "2021-12-17: C66770, C44256\n",
            "2021-12-17: C66770, C49671\n",
            "2021-12-17: C66770, C25613\n",
            "2021-12-17: C66770, C28251\n"
          ]
        }
      ]
    },
    {
      "cell_type": "markdown",
      "source": [
        "So, next ...\n",
        "- Duplicate the BC and link to the study via the Study Data element\n",
        "- We could link the Study to CT\n",
        "- Add more BCs\n",
        "- Add a second study"
      ],
      "metadata": {
        "id": "BrEdmj0e9FL8"
      }
    }
  ],
  "metadata": {
    "colab": {
      "collapsed_sections": [],
      "name": "Biomedical_Concepts.ipynb",
      "provenance": []
    },
    "kernelspec": {
      "display_name": "Python 3",
      "name": "python3"
    },
    "language_info": {
      "name": "python"
    }
  },
  "nbformat": 4,
  "nbformat_minor": 0
}