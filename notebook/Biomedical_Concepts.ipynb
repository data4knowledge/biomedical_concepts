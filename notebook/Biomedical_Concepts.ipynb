{
  "cells": [
    {
      "cell_type": "markdown",
      "metadata": {
        "id": "FPlw5A04o23L"
      },
      "source": [
        "Install dependencies"
      ]
    },
    {
      "cell_type": "code",
      "execution_count": 172,
      "metadata": {
        "colab": {
          "base_uri": "https://localhost:8080/"
        },
        "id": "nsmOe6weo0Cl",
        "outputId": "81674870-2ba4-4d71-e83d-7b395b8f3e11"
      },
      "outputs": [
        {
          "output_type": "stream",
          "name": "stdout",
          "text": [
            "Requirement already satisfied: neo4j in /usr/local/lib/python3.7/dist-packages (4.4.1)\n",
            "Requirement already satisfied: pytz in /usr/local/lib/python3.7/dist-packages (from neo4j) (2018.9)\n",
            "Requirement already satisfied: requests in /usr/local/lib/python3.7/dist-packages (2.23.0)\n",
            "Requirement already satisfied: certifi>=2017.4.17 in /usr/local/lib/python3.7/dist-packages (from requests) (2021.10.8)\n",
            "Requirement already satisfied: chardet<4,>=3.0.2 in /usr/local/lib/python3.7/dist-packages (from requests) (3.0.4)\n",
            "Requirement already satisfied: urllib3!=1.25.0,!=1.25.1,<1.26,>=1.21.1 in /usr/local/lib/python3.7/dist-packages (from requests) (1.24.3)\n",
            "Requirement already satisfied: idna<3,>=2.5 in /usr/local/lib/python3.7/dist-packages (from requests) (2.10)\n"
          ]
        }
      ],
      "source": [
        "!pip install neo4j\n",
        "!pip install requests"
      ]
    },
    {
      "cell_type": "markdown",
      "metadata": {
        "id": "hCjYsNHTmpXP"
      },
      "source": [
        "First create the FHIR data types. Need this before anything else.\n"
      ]
    },
    {
      "cell_type": "code",
      "execution_count": 173,
      "metadata": {
        "colab": {
          "base_uri": "https://localhost:8080/"
        },
        "id": "fqbZcwbLnKkt",
        "outputId": "dfabf838-ae77-45c6-e4f5-1b1d60d7cc32"
      },
      "outputs": [
        {
          "output_type": "stream",
          "name": "stdout",
          "text": [
            "Ready ...\n"
          ]
        }
      ],
      "source": [
        "from neo4j import GraphDatabase\n",
        "import requests\n",
        "import json\n",
        "import urllib.request\n",
        "\n",
        "# Connect to the Neo4j DB. You need a line like one of these examples:\n",
        "# driver = GraphDatabase.driver(\"neo4j://n.n.n.n:7687\", auth=(\"username\", \"password\"))\n",
        "# driver = GraphDatabase.driver(\"neo4j+s://url_for_aura\", auth=(\"username\", \"password\"))\n",
        "#\n",
        "load_file_dir = \"https://raw.githubusercontent.com/data4knowledge/biomedical_concepts/main/data/\"\n",
        "\n",
        "def clear(tx):\n",
        "    tx.run(\"CALL apoc.periodic.iterate('MATCH (n) RETURN n', 'DETACH DELETE n', {batchSize:1000})\")\n",
        "\n",
        "def file_load(load_files):\n",
        "  with driver.session() as session:\n",
        "    nodes = []\n",
        "    relationships = []\n",
        "    for file_item in load_files:\n",
        "      filename = \"%s%s\" % (load_file_dir, file_item[\"filename\"])#\n",
        "      if \"label\" in file_item:\n",
        "        nodes.append(\"{ fileName: '%s', labels: ['%s'] }\" % (filename, file_item[\"label\"]) )\n",
        "      else:\n",
        "        relationships.append(\"{ fileName: '%s', type: '%s' }\" % (filename, file_item[\"type\"]) )\n",
        "    query = \"\"\"CALL apoc.import.csv( [%s], [%s], {stringIds: false})\"\"\" % (\", \".join(nodes), \", \".join(relationships))\n",
        "    print(query)\n",
        "    result = session.run(query)\n",
        "    print(result)\n",
        "    for record in result:\n",
        "      print(record)\n",
        "  driver.close()\n",
        "\n",
        "with driver.session() as session:\n",
        "    session.write_transaction(clear)\n",
        "driver.close()\n",
        "\n",
        "print(\"Ready ...\")\n"
      ]
    },
    {
      "cell_type": "code",
      "source": [
        "stage_1_files = [ \n",
        "    { \"label\": \"FHIR\", \"filename\": \"stage_1_fhir_nodes.csv\" },\n",
        "    { \"label\": \"WEB_SOURCE\", \"filename\": \"stage_1_web_source_nodes.csv\" },\n",
        "    { \"type\": \"FROM_SOURCE\", \"filename\": \"stage_1_from_source_relationships.csv\" }\n",
        "  ]\n",
        "\n",
        "file_load(stage_1_files)"
      ],
      "metadata": {
        "colab": {
          "base_uri": "https://localhost:8080/"
        },
        "id": "YOaFqPzxNby-",
        "outputId": "67c235b4-2225-4afe-c1b1-f90087d595df"
      },
      "execution_count": null,
      "outputs": [
        {
          "output_type": "stream",
          "name": "stdout",
          "text": [
            "CALL apoc.periodic.iterate(\"CALL apoc.import.csv( [{ fileName: 'https://raw.githubusercontent.com/data4knowledge/biomedical_concepts/main/data/stage_1_fhir_nodes.csv', labels: ['FHIR'] }, { fileName: 'https://raw.githubusercontent.com/data4knowledge/biomedical_concepts/main/data/stage_1_web_source_nodes.csv', labels: ['WEB_SOURCE'] }], [{ fileName: 'https://raw.githubusercontent.com/data4knowledge/biomedical_concepts/main/data/stage_1_from_source_relationships.csv', type: 'FROM_SOURCE' }], {stringIds: false})\",\"\", {batchSize: 1000})\n",
            "<neo4j.work.result.Result object at 0x7f5e2c5ecf90>\n",
            "<Record batches=1 total=1 timeTaken=0 committedOperations=0 failedOperations=1 failedBatches=1 retries=0 errorMessages={'Query cannot conclude with WITH (must be a RETURN clause, an update clause, a unit subquery call, or a procedure call with no YIELD) (line 1, column 26 (offset: 25))\\n\"UNWIND $_batch AS _batch WITH _batch.file AS file,_batch.source AS source,_batch.format AS format,_batch.nodes AS nodes,_batch.relationships AS relationships,_batch.properties AS properties,_batch.time AS time,_batch.rows AS rows,_batch.batchSize AS batchSize,_batch.batches AS batches,_batch.done AS done,_batch.data AS data\"\\n                          ^': 1} batch={'total': 1, 'committed': 0, 'failed': 1, 'errors': {'org.neo4j.graphdb.QueryExecutionException: Query cannot conclude with WITH (must be a RETURN clause, an update clause, a unit subquery call, or a procedure call with no YIELD) (line 1, column 26 (offset: 25))\\n\"UNWIND $_batch AS _batch WITH _batch.file AS file,_batch.source AS source,_batch.format AS format,_batch.nodes AS nodes,_batch.relationships AS relationships,_batch.properties AS properties,_batch.time AS time,_batch.rows AS rows,_batch.batchSize AS batchSize,_batch.batches AS batches,_batch.done AS done,_batch.data AS data\"\\n                          ^': 1}} operations={'total': 1, 'committed': 0, 'failed': 1, 'errors': {'Query cannot conclude with WITH (must be a RETURN clause, an update clause, a unit subquery call, or a procedure call with no YIELD) (line 1, column 26 (offset: 25))\\n\"UNWIND $_batch AS _batch WITH _batch.file AS file,_batch.source AS source,_batch.format AS format,_batch.nodes AS nodes,_batch.relationships AS relationships,_batch.properties AS properties,_batch.time AS time,_batch.rows AS rows,_batch.batchSize AS batchSize,_batch.batches AS batches,_batch.done AS done,_batch.data AS data\"\\n                          ^': 1}} wasTerminated=False failedParams={} updateStatistics={'nodesDeleted': 0, 'labelsAdded': 0, 'relationshipsCreated': 0, 'nodesCreated': 0, 'propertiesSet': 0, 'relationshipsDeleted': 0, 'labelsRemoved': 0}>\n"
          ]
        }
      ]
    },
    {
      "cell_type": "code",
      "source": [
        "stage_1_files = [ \n",
        "    { \"label\": \"FHIR\", \"filename\": \"stage_1_fhir_nodes.csv\" },\n",
        "    { \"label\": \"WEB_SOURCE\", \"filename\": \"stage_1_web_source_nodes.csv\" },\n",
        "    { \"label\": \"FHIR_DATA_TYPE\", \"filename\": \"stage_1_fhir_data_type_nodes.csv\" },\n",
        "    { \"label\": \"FHIR_DATA_TYPE_PROPERTY\", \"filename\": \"stage_1_fhir_data_type_property_nodes.csv\" },\n",
        "    { \"type\": \"HAS_DATA_TYPE_PROPERTY\", \"filename\": \"stage_1_has_data_type_property_relationships.csv\" },\n",
        "    { \"type\": \"FROM_SOURCE\", \"filename\": \"stage_1_from_source_relationships.csv\" },\n",
        "    { \"type\": \"HAS_DATA_TYPE\", \"filename\": \"stage_1_has_data_type_relationships.csv\" }\n",
        "  ]\n",
        "\n",
        "file_load(stage_1_files)"
      ],
      "metadata": {
        "colab": {
          "base_uri": "https://localhost:8080/"
        },
        "id": "p4ulFrLPkpJl",
        "outputId": "445d578b-6e9b-446b-8d1e-6efeb08de607"
      },
      "execution_count": null,
      "outputs": [
        {
          "output_type": "stream",
          "name": "stdout",
          "text": [
            "CALL apoc.import.csv( [{ fileName: 'https://raw.githubusercontent.com/data4knowledge/biomedical_concepts/main/data/stage_1_fhir_nodes.csv', labels: ['FHIR'] }, { fileName: 'https://raw.githubusercontent.com/data4knowledge/biomedical_concepts/main/data/stage_1_web_source_nodes.csv', labels: ['WEB_SOURCE'] }, { fileName: 'https://raw.githubusercontent.com/data4knowledge/biomedical_concepts/main/data/stage_1_fhir_data_type_nodes.csv', labels: ['FHIR_DATA_TYPE'] }, { fileName: 'https://raw.githubusercontent.com/data4knowledge/biomedical_concepts/main/data/stage_1_fhir_data_type_property_nodes.csv', labels: ['FHIR_DATA_TYPE_PROPERTY'] }], [{ fileName: 'https://raw.githubusercontent.com/data4knowledge/biomedical_concepts/main/data/stage_1_has_data_type_property_relationships.csv', type: 'HAS_DATA_TYPE_PROPERTY' }, { fileName: 'https://raw.githubusercontent.com/data4knowledge/biomedical_concepts/main/data/stage_1_from_source_relationships.csv', type: 'FROM_SOURCE' }, { fileName: 'https://raw.githubusercontent.com/data4knowledge/biomedical_concepts/main/data/stage_1_has_data_type_relationships.csv', type: 'HAS_DATA_TYPE' }], {stringIds: false})\n",
            "<neo4j.work.result.Result object at 0x7f5e2c54fc90>\n",
            "<Record batches=1 total=1 timeTaken=0 committedOperations=0 failedOperations=1 failedBatches=1 retries=0 errorMessages={'Query cannot conclude with WITH (must be a RETURN clause, an update clause, a unit subquery call, or a procedure call with no YIELD) (line 1, column 26 (offset: 25))\\n\"UNWIND $_batch AS _batch WITH _batch.file AS file,_batch.source AS source,_batch.format AS format,_batch.nodes AS nodes,_batch.relationships AS relationships,_batch.properties AS properties,_batch.time AS time,_batch.rows AS rows,_batch.batchSize AS batchSize,_batch.batches AS batches,_batch.done AS done,_batch.data AS data\"\\n                          ^': 1} batch={'total': 1, 'committed': 0, 'failed': 1, 'errors': {'org.neo4j.graphdb.QueryExecutionException: Query cannot conclude with WITH (must be a RETURN clause, an update clause, a unit subquery call, or a procedure call with no YIELD) (line 1, column 26 (offset: 25))\\n\"UNWIND $_batch AS _batch WITH _batch.file AS file,_batch.source AS source,_batch.format AS format,_batch.nodes AS nodes,_batch.relationships AS relationships,_batch.properties AS properties,_batch.time AS time,_batch.rows AS rows,_batch.batchSize AS batchSize,_batch.batches AS batches,_batch.done AS done,_batch.data AS data\"\\n                          ^': 1}} operations={'total': 1, 'committed': 0, 'failed': 1, 'errors': {'Query cannot conclude with WITH (must be a RETURN clause, an update clause, a unit subquery call, or a procedure call with no YIELD) (line 1, column 26 (offset: 25))\\n\"UNWIND $_batch AS _batch WITH _batch.file AS file,_batch.source AS source,_batch.format AS format,_batch.nodes AS nodes,_batch.relationships AS relationships,_batch.properties AS properties,_batch.time AS time,_batch.rows AS rows,_batch.batchSize AS batchSize,_batch.batches AS batches,_batch.done AS done,_batch.data AS data\"\\n                          ^': 1}} wasTerminated=False failedParams={} updateStatistics={'nodesDeleted': 0, 'labelsAdded': 0, 'relationshipsCreated': 0, 'nodesCreated': 0, 'propertiesSet': 0, 'relationshipsDeleted': 0, 'labelsRemoved': 0}>\n"
          ]
        }
      ]
    },
    {
      "cell_type": "markdown",
      "metadata": {
        "id": "y2X4GzLForm7"
      },
      "source": [
        "Now check we have loaded ok. Check the FHIR version, should be 4.0.1"
      ]
    },
    {
      "cell_type": "code",
      "execution_count": null,
      "metadata": {
        "colab": {
          "base_uri": "https://localhost:8080/"
        },
        "id": "QNsq3ykEnysr",
        "outputId": "bd9c4725-7894-4154-c423-dec7dc08c57b"
      },
      "outputs": [
        {
          "output_type": "stream",
          "name": "stdout",
          "text": [
            "Version:  4.0.1\n"
          ]
        }
      ],
      "source": [
        "with driver.session() as session:\n",
        "  query = \"\"\"MATCH (n:FHIR) Return n.version as version\"\"\" \n",
        "  result = session.run(query)\n",
        "  for record in result:\n",
        "    print(\"Version: \", record[\"version\"])\n",
        "\n",
        "driver.close()"
      ]
    },
    {
      "cell_type": "code",
      "execution_count": null,
      "metadata": {
        "colab": {
          "base_uri": "https://localhost:8080/"
        },
        "id": "hklRXVFUKGNK",
        "outputId": "2556ca43-0ea4-48f7-b85a-fd965651a216"
      },
      "outputs": [
        {
          "output_type": "stream",
          "name": "stdout",
          "text": [
            "CALL apoc.import.csv( [{ fileName: 'https://raw.githubusercontent.com/data4knowledge/biomedical_concepts/main/data/stage_2_canonical_model_nodes.csv', labels: ['CANONICAL_MODEL'] }, { fileName: 'https://raw.githubusercontent.com/data4knowledge/biomedical_concepts/main/data/stage_2_canonical_node_nodes.csv', labels: ['CANONICAL_NODE'] }, { fileName: 'https://raw.githubusercontent.com/data4knowledge/biomedical_concepts/main/data/stage_2_canonical_data_type_nodes.csv', labels: ['CANONICAL_DATA_TYPE'] }, { fileName: 'https://raw.githubusercontent.com/data4knowledge/biomedical_concepts/main/data/stage_2_other_source_nodes.csv', labels: ['OTHER_SOURCE'] }], [{ fileName: 'https://raw.githubusercontent.com/data4knowledge/biomedical_concepts/main/data/stage_2_consists_of_relationships.csv', type: 'CONSISTS_OF' }, { fileName: 'https://raw.githubusercontent.com/data4knowledge/biomedical_concepts/main/data/stage_2_from_source_relationships.csv', type: 'FROM_SOURCE' }, { fileName: 'https://raw.githubusercontent.com/data4knowledge/biomedical_concepts/main/data/stage_2_has_sub_model_relationships.csv', type: 'HAS_SUB_MODEL' }, { fileName: 'https://raw.githubusercontent.com/data4knowledge/biomedical_concepts/main/data/stage_2_has_data_type_relationships.csv', type: 'HAS_DATA_TYPE' }], {stringIds: false})\n",
            "<neo4j.work.result.Result object at 0x7f5e2c55c810>\n",
            "<Record file='progress.csv' source='file' format='csv' nodes=85 relationships=92 properties=255 time=2287 rows=0 batchSize=-1 batches=0 done=True data=None>\n"
          ]
        }
      ],
      "source": [
        "stage_2_files = [ \n",
        "    { \"label\": \"CANONICAL_MODEL\", \"filename\": \"stage_2_canonical_model_nodes.csv\" },\n",
        "    { \"label\": \"CANONICAL_NODE\", \"filename\": \"stage_2_canonical_node_nodes.csv\" },\n",
        "    { \"label\": \"CANONICAL_DATA_TYPE\", \"filename\": \"stage_2_canonical_data_type_nodes.csv\" },\n",
        "    { \"label\": \"OTHER_SOURCE\", \"filename\": \"stage_2_other_source_nodes.csv\" },\n",
        "    { \"type\": \"CONSISTS_OF\", \"filename\": \"stage_2_consists_of_relationships.csv\" },\n",
        "    { \"type\": \"FROM_SOURCE\", \"filename\": \"stage_2_from_source_relationships.csv\" },\n",
        "    { \"type\": \"HAS_SUB_MODEL\", \"filename\": \"stage_2_has_sub_model_relationships.csv\" },\n",
        "    { \"type\": \"HAS_DATA_TYPE\", \"filename\": \"stage_2_has_data_type_relationships.csv\" }\n",
        "]\n",
        "\n",
        "file_load(stage_2_files)"
      ]
    },
    {
      "cell_type": "markdown",
      "metadata": {
        "id": "592LExsq_Su0"
      },
      "source": [
        "Check a few relationships exist in the canonical model. Should get three results.\n",
        "\n",
        "* THERAPEUTIC INTERVENTION\n",
        "* OBSERVATION\n",
        "* ADVERSE EVENT\n",
        "\n"
      ]
    },
    {
      "cell_type": "code",
      "execution_count": null,
      "metadata": {
        "colab": {
          "base_uri": "https://localhost:8080/"
        },
        "id": "Xn5dPGqB_Xj6",
        "outputId": "9eae2bef-8961-444f-818f-a396577beb2c"
      },
      "outputs": [
        {
          "output_type": "stream",
          "name": "stdout",
          "text": [
            "CANONICAL MODEL -> THERAPEUTIC INTERVENTION -> Location: \n",
            "CANONICAL MODEL -> OBSERVATION -> Location: \n",
            "CANONICAL MODEL -> ADVERSE EVENT -> Location: \n"
          ]
        }
      ],
      "source": [
        "with driver.session() as session:\n",
        "  query = \"\"\"MATCH (r)-[]->(t)-[]->(n:CANONICAL_NODE) WHERE n.name=\"LOCATION\" RETURN r.name as root_name, t.name as name\"\"\" \n",
        "  result = session.run(query)\n",
        "  for record in result:\n",
        "    print(\"%s -> %s -> Location: \" % (record[\"root_name\"], record[\"name\"]))\n",
        "\n",
        "driver.close()"
      ]
    },
    {
      "cell_type": "markdown",
      "source": [
        "Now link the canonical nodes and the data types using the name as the key."
      ],
      "metadata": {
        "id": "7jVCaoeWtLjw"
      }
    },
    {
      "cell_type": "code",
      "source": [
        "with driver.session() as session:\n",
        "  query = \"\"\"MATCH (n:CANONICAL_NODE)-[]->(m:CANONICAL_DATA_TYPE) RETURN m.uri as uri\"\"\" \n",
        "  result = session.run(query)\n",
        "  for record in result:\n",
        "    print(record[\"uri\"])\n",
        "    query = \"\"\"MATCH (n:CANONICAL_DATA_TYPE{uri:'%s'})\n",
        "      WITH n\n",
        "      MATCH (dt:FHIR_DATA_TYPE{name: n.data_type})\n",
        "      CREATE (n)-[:IS_A]->(dt)\n",
        "      RETURN n.data_type as cn_name, dt.name as dt_name;\n",
        "    \"\"\" % (record[\"uri\"])\n",
        "    inner_result = session.run(query)\n",
        "    for inner_record in inner_result:\n",
        "      print(\"%s, %s linked\" % (inner_record[\"cn_name\"], inner_record[\"dt_name\"]))\n",
        "\n",
        "driver.close()"
      ],
      "metadata": {
        "id": "3X3RfadUrvAP"
      },
      "execution_count": null,
      "outputs": []
    },
    {
      "cell_type": "markdown",
      "metadata": {
        "id": "x1ws1F7zpwdN"
      },
      "source": [
        "Now create the data type nodes for the canonical mode. For each canonical node that references a data type copy the properties for that data type to the canonical node. Give each canonical leaf a unique id. These nodes should also have a C code reference providig a definition for the data item.\n"
      ]
    },
    {
      "cell_type": "code",
      "execution_count": null,
      "metadata": {
        "colab": {
          "base_uri": "https://localhost:8080/"
        },
        "id": "-EBgVQrPqDIe",
        "outputId": "b480057d-bdb2-4d90-b840-b33e7dbdc600"
      },
      "outputs": [
        {
          "output_type": "stream",
          "name": "stdout",
          "text": [
            "Duplicated for:  http://id.d4k.dk/dataset/canonical/n8/coding\n",
            "Duplicated for:  http://id.d4k.dk/dataset/canonical/n9/coding\n",
            "Duplicated for:  http://id.d4k.dk/dataset/canonical/n18/coding\n",
            "URIs set.\n"
          ]
        }
      ],
      "source": [
        "uri_data = []\n",
        "with driver.session() as session:\n",
        "  query = \"\"\"MATCH (n:CANONICAL_DATA_TYPE)-[:IS_A]->(dt:FHIR_DATA_TYPE) RETURN n.uri as canonical, dt.uri as data_type\"\"\" \n",
        "  result = session.run(query)\n",
        "  for record in result:\n",
        "    query = \"\"\"MATCH (n:CANONICAL_DATA_TYPE{uri:'%s'}), (dt:FHIR_DATA_TYPE{uri:'%s'})\n",
        "      CALL apoc.path.subgraphAll(dt, {relationshipFilter:'HAS_DATA_TYPE_PROPERTY>'})\n",
        "      YIELD nodes, relationships\n",
        "      CALL apoc.refactor.cloneSubgraph(\n",
        "        nodes,\n",
        "        [rel in relationships WHERE type(rel) = 'HAS_DATA_TYPE_PROPERTY'],\n",
        "        { standinNodes:[[dt, n]] })\n",
        "      YIELD input, output, error\n",
        "      RETURN output;\n",
        "    \"\"\" % (record[\"canonical\"], record[\"data_type\"])\n",
        "    inner_result = session.run(query)\n",
        "    for inner_record in inner_result:\n",
        "      node = inner_record[\"output\"]\n",
        "      uri_data.append({\"id\": node.id, \"uri\": \"%s#%s\" % (record[\"canonical\"], node[\"name\"]) })\n",
        "    print (\"Duplicated for: \", record[\"canonical\"])\n",
        "\n",
        "driver.close()\n",
        "\n",
        "with driver.session() as session:\n",
        "  query = \"\"\"UNWIND $uri_data AS d\n",
        "    MATCH (n) WHERE ID(n)=d.id\n",
        "    SET n.uri = d.uri;\"\"\" \n",
        "  result = session.run(query, uri_data=uri_data)\n",
        "driver.close()\n",
        "print (\"URIs set.\")\n",
        "\n"
      ]
    },
    {
      "cell_type": "code",
      "execution_count": 174,
      "metadata": {
        "id": "nZ8TGB5bLzuR",
        "colab": {
          "base_uri": "https://localhost:8080/",
          "height": 418
        },
        "outputId": "caf9f70a-42e5-4697-a57a-1fb2bafbd808"
      },
      "outputs": [
        {
          "output_type": "stream",
          "name": "stdout",
          "text": [
            "CALL apoc.import.csv( [{ fileName: 'https://raw.githubusercontent.com/data4knowledge/biomedical_concepts/main/data/stage_3_api_source_nodes.csv', labels: ['API_SOURCE'] }, { fileName: 'https://raw.githubusercontent.com/data4knowledge/biomedical_concepts/main/data/stage_3_skos_concept_nodes.csv', labels: ['SKOS_CONCEPT'] }, { fileName: 'https://raw.githubusercontent.com/data4knowledge/biomedical_concepts/main/data/stage_3_skos_concept_scheme_nodes.csv', labels: ['SKOS_CONCEPT_SCHEME'] }], [{ fileName: 'https://raw.githubusercontent.com/data4knowledge/biomedical_concepts/main/data/stage_3_from_source_relationships.csv', type: 'FROM_SOURCE' }, { fileName: 'https://raw.githubusercontent.com/data4knowledge/biomedical_concepts/main/data/stage_3_skos_has_top_concept_relationships.csv', type: 'SKOS_HAS_TOP_CONCEPT' }, { fileName: 'https://raw.githubusercontent.com/data4knowledge/biomedical_concepts/main/data/stage_3_skos_narrower_relationships.csv', type: 'SKOS_NARROWER' }], {stringIds: false})\n",
            "<neo4j.work.result.Result object at 0x7f5e2c511110>\n"
          ]
        },
        {
          "output_type": "error",
          "ename": "ClientError",
          "evalue": "ignored",
          "traceback": [
            "\u001b[0;31m---------------------------------------------------------------------------\u001b[0m",
            "\u001b[0;31mClientError\u001b[0m                               Traceback (most recent call last)",
            "\u001b[0;32m<ipython-input-174-8928aba3d0c2>\u001b[0m in \u001b[0;36m<module>\u001b[0;34m()\u001b[0m\n\u001b[1;32m      8\u001b[0m   ]\n\u001b[1;32m      9\u001b[0m \u001b[0;34m\u001b[0m\u001b[0m\n\u001b[0;32m---> 10\u001b[0;31m \u001b[0mfile_load\u001b[0m\u001b[0;34m(\u001b[0m\u001b[0mstage_3_files\u001b[0m\u001b[0;34m)\u001b[0m\u001b[0;34m\u001b[0m\u001b[0;34m\u001b[0m\u001b[0m\n\u001b[0m",
            "\u001b[0;32m<ipython-input-173-e575e2b13ead>\u001b[0m in \u001b[0;36mfile_load\u001b[0;34m(load_files)\u001b[0m\n\u001b[1;32m     25\u001b[0m     \u001b[0mresult\u001b[0m \u001b[0;34m=\u001b[0m \u001b[0msession\u001b[0m\u001b[0;34m.\u001b[0m\u001b[0mrun\u001b[0m\u001b[0;34m(\u001b[0m\u001b[0mquery\u001b[0m\u001b[0;34m)\u001b[0m\u001b[0;34m\u001b[0m\u001b[0;34m\u001b[0m\u001b[0m\n\u001b[1;32m     26\u001b[0m     \u001b[0mprint\u001b[0m\u001b[0;34m(\u001b[0m\u001b[0mresult\u001b[0m\u001b[0;34m)\u001b[0m\u001b[0;34m\u001b[0m\u001b[0;34m\u001b[0m\u001b[0m\n\u001b[0;32m---> 27\u001b[0;31m     \u001b[0;32mfor\u001b[0m \u001b[0mrecord\u001b[0m \u001b[0;32min\u001b[0m \u001b[0mresult\u001b[0m\u001b[0;34m:\u001b[0m\u001b[0;34m\u001b[0m\u001b[0;34m\u001b[0m\u001b[0m\n\u001b[0m\u001b[1;32m     28\u001b[0m       \u001b[0mprint\u001b[0m\u001b[0;34m(\u001b[0m\u001b[0mrecord\u001b[0m\u001b[0;34m)\u001b[0m\u001b[0;34m\u001b[0m\u001b[0;34m\u001b[0m\u001b[0m\n\u001b[1;32m     29\u001b[0m   \u001b[0mdriver\u001b[0m\u001b[0;34m.\u001b[0m\u001b[0mclose\u001b[0m\u001b[0;34m(\u001b[0m\u001b[0;34m)\u001b[0m\u001b[0;34m\u001b[0m\u001b[0;34m\u001b[0m\u001b[0m\n",
            "\u001b[0;32m/usr/local/lib/python3.7/dist-packages/neo4j/work/result.py\u001b[0m in \u001b[0;36m__iter__\u001b[0;34m(self)\u001b[0m\n\u001b[1;32m    185\u001b[0m                 \u001b[0;32myield\u001b[0m \u001b[0mself\u001b[0m\u001b[0;34m.\u001b[0m\u001b[0m_record_buffer\u001b[0m\u001b[0;34m.\u001b[0m\u001b[0mpopleft\u001b[0m\u001b[0;34m(\u001b[0m\u001b[0;34m)\u001b[0m\u001b[0;34m\u001b[0m\u001b[0;34m\u001b[0m\u001b[0m\n\u001b[1;32m    186\u001b[0m             \u001b[0;32melif\u001b[0m \u001b[0mself\u001b[0m\u001b[0;34m.\u001b[0m\u001b[0m_streaming\u001b[0m\u001b[0;34m:\u001b[0m\u001b[0;34m\u001b[0m\u001b[0;34m\u001b[0m\u001b[0m\n\u001b[0;32m--> 187\u001b[0;31m                 \u001b[0mself\u001b[0m\u001b[0;34m.\u001b[0m\u001b[0m_connection\u001b[0m\u001b[0;34m.\u001b[0m\u001b[0mfetch_message\u001b[0m\u001b[0;34m(\u001b[0m\u001b[0;34m)\u001b[0m\u001b[0;34m\u001b[0m\u001b[0;34m\u001b[0m\u001b[0m\n\u001b[0m\u001b[1;32m    188\u001b[0m             \u001b[0;32melif\u001b[0m \u001b[0mself\u001b[0m\u001b[0;34m.\u001b[0m\u001b[0m_discarding\u001b[0m\u001b[0;34m:\u001b[0m\u001b[0;34m\u001b[0m\u001b[0;34m\u001b[0m\u001b[0m\n\u001b[1;32m    189\u001b[0m                 \u001b[0mself\u001b[0m\u001b[0;34m.\u001b[0m\u001b[0m_discard\u001b[0m\u001b[0;34m(\u001b[0m\u001b[0;34m)\u001b[0m\u001b[0;34m\u001b[0m\u001b[0;34m\u001b[0m\u001b[0m\n",
            "\u001b[0;32m/usr/local/lib/python3.7/dist-packages/neo4j/io/_common.py\u001b[0m in \u001b[0;36minner\u001b[0;34m(*args, **kwargs)\u001b[0m\n\u001b[1;32m    165\u001b[0m             \u001b[0;32mdef\u001b[0m \u001b[0minner\u001b[0m\u001b[0;34m(\u001b[0m\u001b[0;34m*\u001b[0m\u001b[0margs\u001b[0m\u001b[0;34m,\u001b[0m \u001b[0;34m**\u001b[0m\u001b[0mkwargs\u001b[0m\u001b[0;34m)\u001b[0m\u001b[0;34m:\u001b[0m\u001b[0;34m\u001b[0m\u001b[0;34m\u001b[0m\u001b[0m\n\u001b[1;32m    166\u001b[0m                 \u001b[0;32mtry\u001b[0m\u001b[0;34m:\u001b[0m\u001b[0;34m\u001b[0m\u001b[0;34m\u001b[0m\u001b[0m\n\u001b[0;32m--> 167\u001b[0;31m                     \u001b[0mfunc\u001b[0m\u001b[0;34m(\u001b[0m\u001b[0;34m*\u001b[0m\u001b[0margs\u001b[0m\u001b[0;34m,\u001b[0m \u001b[0;34m**\u001b[0m\u001b[0mkwargs\u001b[0m\u001b[0;34m)\u001b[0m\u001b[0;34m\u001b[0m\u001b[0;34m\u001b[0m\u001b[0m\n\u001b[0m\u001b[1;32m    168\u001b[0m                 \u001b[0;32mexcept\u001b[0m \u001b[0;34m(\u001b[0m\u001b[0mNeo4jError\u001b[0m\u001b[0;34m,\u001b[0m \u001b[0mServiceUnavailable\u001b[0m\u001b[0;34m,\u001b[0m \u001b[0mSessionExpired\u001b[0m\u001b[0;34m)\u001b[0m \u001b[0;32mas\u001b[0m \u001b[0mexc\u001b[0m\u001b[0;34m:\u001b[0m\u001b[0;34m\u001b[0m\u001b[0;34m\u001b[0m\u001b[0m\n\u001b[1;32m    169\u001b[0m                     \u001b[0mself\u001b[0m\u001b[0;34m.\u001b[0m\u001b[0m__on_error\u001b[0m\u001b[0;34m(\u001b[0m\u001b[0mexc\u001b[0m\u001b[0;34m)\u001b[0m\u001b[0;34m\u001b[0m\u001b[0;34m\u001b[0m\u001b[0m\n",
            "\u001b[0;32m/usr/local/lib/python3.7/dist-packages/neo4j/io/_bolt4.py\u001b[0m in \u001b[0;36mfetch_message\u001b[0;34m(self)\u001b[0m\n\u001b[1;32m    307\u001b[0m             \u001b[0mself\u001b[0m\u001b[0;34m.\u001b[0m\u001b[0m_server_state_manager\u001b[0m\u001b[0;34m.\u001b[0m\u001b[0mstate\u001b[0m \u001b[0;34m=\u001b[0m \u001b[0mServerStates\u001b[0m\u001b[0;34m.\u001b[0m\u001b[0mFAILED\u001b[0m\u001b[0;34m\u001b[0m\u001b[0;34m\u001b[0m\u001b[0m\n\u001b[1;32m    308\u001b[0m             \u001b[0;32mtry\u001b[0m\u001b[0;34m:\u001b[0m\u001b[0;34m\u001b[0m\u001b[0;34m\u001b[0m\u001b[0m\n\u001b[0;32m--> 309\u001b[0;31m                 \u001b[0mresponse\u001b[0m\u001b[0;34m.\u001b[0m\u001b[0mon_failure\u001b[0m\u001b[0;34m(\u001b[0m\u001b[0msummary_metadata\u001b[0m \u001b[0;32mor\u001b[0m \u001b[0;34m{\u001b[0m\u001b[0;34m}\u001b[0m\u001b[0;34m)\u001b[0m\u001b[0;34m\u001b[0m\u001b[0;34m\u001b[0m\u001b[0m\n\u001b[0m\u001b[1;32m    310\u001b[0m             \u001b[0;32mexcept\u001b[0m \u001b[0;34m(\u001b[0m\u001b[0mServiceUnavailable\u001b[0m\u001b[0;34m,\u001b[0m \u001b[0mDatabaseUnavailable\u001b[0m\u001b[0;34m)\u001b[0m\u001b[0;34m:\u001b[0m\u001b[0;34m\u001b[0m\u001b[0;34m\u001b[0m\u001b[0m\n\u001b[1;32m    311\u001b[0m                 \u001b[0;32mif\u001b[0m \u001b[0mself\u001b[0m\u001b[0;34m.\u001b[0m\u001b[0mpool\u001b[0m\u001b[0;34m:\u001b[0m\u001b[0;34m\u001b[0m\u001b[0;34m\u001b[0m\u001b[0m\n",
            "\u001b[0;32m/usr/local/lib/python3.7/dist-packages/neo4j/io/_common.py\u001b[0m in \u001b[0;36mon_failure\u001b[0;34m(self, metadata)\u001b[0m\n\u001b[1;32m    223\u001b[0m         \u001b[0;32mif\u001b[0m \u001b[0mcallable\u001b[0m\u001b[0;34m(\u001b[0m\u001b[0mhandler\u001b[0m\u001b[0;34m)\u001b[0m\u001b[0;34m:\u001b[0m\u001b[0;34m\u001b[0m\u001b[0;34m\u001b[0m\u001b[0m\n\u001b[1;32m    224\u001b[0m             \u001b[0mhandler\u001b[0m\u001b[0;34m(\u001b[0m\u001b[0;34m)\u001b[0m\u001b[0;34m\u001b[0m\u001b[0;34m\u001b[0m\u001b[0m\n\u001b[0;32m--> 225\u001b[0;31m         \u001b[0;32mraise\u001b[0m \u001b[0mNeo4jError\u001b[0m\u001b[0;34m.\u001b[0m\u001b[0mhydrate\u001b[0m\u001b[0;34m(\u001b[0m\u001b[0;34m**\u001b[0m\u001b[0mmetadata\u001b[0m\u001b[0;34m)\u001b[0m\u001b[0;34m\u001b[0m\u001b[0;34m\u001b[0m\u001b[0m\n\u001b[0m\u001b[1;32m    226\u001b[0m \u001b[0;34m\u001b[0m\u001b[0m\n\u001b[1;32m    227\u001b[0m     \u001b[0;32mdef\u001b[0m \u001b[0mon_ignored\u001b[0m\u001b[0;34m(\u001b[0m\u001b[0mself\u001b[0m\u001b[0;34m,\u001b[0m \u001b[0mmetadata\u001b[0m\u001b[0;34m=\u001b[0m\u001b[0;32mNone\u001b[0m\u001b[0;34m)\u001b[0m\u001b[0;34m:\u001b[0m\u001b[0;34m\u001b[0m\u001b[0;34m\u001b[0m\u001b[0m\n",
            "\u001b[0;31mClientError\u001b[0m: {code: Neo.ClientError.Procedure.ProcedureCallFailed} {message: Failed to invoke procedure `apoc.import.csv`: Caused by: org.neo4j.memory.MemoryLimitExceededException: The allocation of an extra 2.0 MiB would use more than the limit 100.0 MiB. Currently using 99.0 MiB. dbms.memory.transaction.global_max_size threshold reached}"
          ]
        }
      ],
      "source": [
        "stage_3_files = [ \n",
        "    { \"label\": \"API_SOURCE\", \"filename\": \"stage_3_api_source_nodes.csv\" },\n",
        "    { \"label\": \"SKOS_CONCEPT\", \"filename\": \"stage_3_skos_concept_nodes.csv\" },\n",
        "    { \"label\": \"SKOS_CONCEPT_SCHEME\", \"filename\": \"stage_3_skos_concept_scheme_nodes.csv\" },\n",
        "    { \"type\": \"FROM_SOURCE\", \"filename\": \"stage_3_from_source_relationships.csv\" },\n",
        "    { \"type\": \"SKOS_HAS_TOP_CONCEPT\", \"filename\": \"stage_3_skos_has_top_concept_relationships.csv\" },\n",
        "    { \"type\": \"SKOS_NARROWER\", \"filename\": \"stage_3_skos_narrower_relationships.csv\" }\n",
        "  ]\n",
        "\n",
        "file_load(stage_3_files)\n"
      ]
    },
    {
      "cell_type": "markdown",
      "source": [
        "Do a quick test on the CT. Check AGEU and its links"
      ],
      "metadata": {
        "id": "QiRuZP8IAQRA"
      }
    },
    {
      "cell_type": "code",
      "source": [
        "with driver.session() as session:\n",
        "  query = \"\"\"MATCH (cs)-[]->(c1:SKOS_CONCEPT)-[]->(c2) WHERE c1.notation = 'AGEU' RETURN DISTINCT cs.version as version, c1.identifier as cl_identifier, c2.identifier as cli_identifier, c2.notation as cli_notation\"\"\" \n",
        "  result = session.run(query, uri_data=uri_data)\n",
        "  for record in result:\n",
        "    print (\"%s: %s, %s, %s\" % (record[\"version\"], record[\"cl_identifier\"], record[\"cli_identifier\"], record[\"cli_notation\"]))\n",
        "driver.close()\n"
      ],
      "metadata": {
        "colab": {
          "base_uri": "https://localhost:8080/"
        },
        "id": "OsWcQe73_m5E",
        "outputId": "5f020a43-c1fc-4abe-af89-046b7691bb1d"
      },
      "execution_count": null,
      "outputs": [
        {
          "output_type": "stream",
          "name": "stdout",
          "text": [
            "2021-12-17: C66781, C25529, HOURS\n",
            "2021-12-17: C66781, C29848, YEARS\n",
            "2021-12-17: C66781, C29846, MONTHS\n",
            "2021-12-17: C66781, C29844, WEEKS\n",
            "2021-12-17: C66781, C25301, DAYS\n"
          ]
        }
      ]
    },
    {
      "cell_type": "markdown",
      "source": [
        "Stage 4 to 9 are the CT files for the other areas, ADaM, Protocol, CDASH etc. Not loaded at the moment. Needed to split due to size and limited RAM on the Neo4j server."
      ],
      "metadata": {
        "id": "ra9rORPF_XTs"
      }
    },
    {
      "cell_type": "code",
      "source": [
        "stage_10_files = [ \n",
        "    { \"label\": \"OTHER_SOURCE\", \"filename\": \"stage_10_other_source_nodes.csv\" },\n",
        "    { \"label\": \"BC_DATA_TYPE\", \"filename\": \"stage_10_bc_data_type_nodes.csv\" },\n",
        "    { \"label\": \"BC_ITEM\", \"filename\": \"stage_10_bc_item_nodes.csv\" },\n",
        "    { \"label\": \"BC_TEMPLATE\", \"filename\": \"stage_10_bc_template_nodes.csv\" },\n",
        "    { \"type\": \"FROM_SOURCE\", \"filename\": \"stage_10_from_source_relationships.csv\" },\n",
        "    { \"type\": \"HAS_DATA_TYPE\", \"filename\": \"stage_10_has_data_type_relationships.csv\" },\n",
        "    { \"type\": \"HAS_IDENTIFIER\", \"filename\": \"stage_10_has_identifier_relationships.csv\" },\n",
        "    { \"type\": \"HAS_ITEM\", \"filename\": \"stage_10_has_item_relationships.csv\" }\n",
        "  ]\n",
        "\n",
        "file_load(stage_10_files)"
      ],
      "metadata": {
        "colab": {
          "base_uri": "https://localhost:8080/"
        },
        "id": "95FBnpzp9T5z",
        "outputId": "96a9886e-2a87-4e66-d3cf-19f5377cebbe"
      },
      "execution_count": null,
      "outputs": [
        {
          "output_type": "stream",
          "name": "stdout",
          "text": [
            "CALL apoc.import.csv( [{ fileName: 'https://raw.githubusercontent.com/data4knowledge/biomedical_concepts/main/data/stage_10_other_source_nodes.csv', labels: ['OTHER_SOURCE'] }, { fileName: 'https://raw.githubusercontent.com/data4knowledge/biomedical_concepts/main/data/stage_10_bc_data_type_nodes.csv', labels: ['BC_DATA_TYPE'] }, { fileName: 'https://raw.githubusercontent.com/data4knowledge/biomedical_concepts/main/data/stage_10_bc_item_nodes.csv', labels: ['BC_ITEM'] }, { fileName: 'https://raw.githubusercontent.com/data4knowledge/biomedical_concepts/main/data/stage_10_bc_template_nodes.csv', labels: ['BC_TEMPLATE'] }], [{ fileName: 'https://raw.githubusercontent.com/data4knowledge/biomedical_concepts/main/data/stage_10_from_source_relationships.csv', type: 'FROM_SOURCE' }, { fileName: 'https://raw.githubusercontent.com/data4knowledge/biomedical_concepts/main/data/stage_10_has_data_type_relationships.csv', type: 'HAS_DATA_TYPE' }, { fileName: 'https://raw.githubusercontent.com/data4knowledge/biomedical_concepts/main/data/stage_10_has_identifier_relationships.csv', type: 'HAS_IDENTIFIER' }, { fileName: 'https://raw.githubusercontent.com/data4knowledge/biomedical_concepts/main/data/stage_10_has_item_relationships.csv', type: 'HAS_ITEM' }], {stringIds: false})\n",
            "<neo4j.work.result.Result object at 0x7f5e34426c90>\n",
            "<Record file='progress.csv' source='file' format='csv' nodes=37 relationships=38 properties=143 time=682 rows=0 batchSize=-1 batches=0 done=True data=None>\n"
          ]
        }
      ]
    },
    {
      "cell_type": "markdown",
      "source": [
        "Now add in the data types notes for the templates. Copy from the data types to the templates "
      ],
      "metadata": {
        "id": "E0GmZ2_7IffV"
      }
    },
    {
      "cell_type": "code",
      "source": [
        "with driver.session() as session:\n",
        "  query = \"\"\"MATCH (m:BC_DATA_TYPE) RETURN m.uri as uri\"\"\" \n",
        "  result = session.run(query)\n",
        "  for record in result:\n",
        "    print(record[\"uri\"])\n",
        "    query = \"\"\"MATCH (n:BC_DATA_TYPE{uri:'%s'})\n",
        "      WITH n\n",
        "      MATCH (dt:FHIR_DATA_TYPE{name: n.name})\n",
        "      CREATE (n)-[:IS_A]->(dt)\n",
        "      RETURN n.name as bc_name, dt.name as dt_name;\n",
        "    \"\"\" % (record[\"uri\"])\n",
        "    inner_result = session.run(query)\n",
        "    for inner_record in inner_result:\n",
        "      print(\"%s, %s linked\" % (inner_record[\"bc_name\"], inner_record[\"dt_name\"]))\n",
        "\n",
        "driver.close()\n",
        "\n",
        "uri_data = []\n",
        "with driver.session() as session:\n",
        "  query = \"\"\"MATCH (n:BC_DATA_TYPE)-[:IS_A]->(dt:FHIR_DATA_TYPE) RETURN n.uri as bc_data_type, dt.uri as data_type\"\"\" \n",
        "  result = session.run(query)\n",
        "  for record in result:\n",
        "    query = \"\"\"MATCH (n:BC_DATA_TYPE{uri:'%s'}), (dt:FHIR_DATA_TYPE{uri:'%s'})\n",
        "      CALL apoc.path.subgraphAll(dt, {relationshipFilter:'HAS_DATA_TYPE_PROPERTY>'})\n",
        "      YIELD nodes, relationships\n",
        "      CALL apoc.refactor.cloneSubgraph(\n",
        "        nodes,\n",
        "        [rel in relationships WHERE type(rel) = 'HAS_DATA_TYPE_PROPERTY'],\n",
        "        { standinNodes:[[dt, n]] })\n",
        "      YIELD input, output, error\n",
        "      RETURN output;\n",
        "    \"\"\" % (record[\"bc_data_type\"], record[\"data_type\"])\n",
        "    inner_result = session.run(query)\n",
        "    for inner_record in inner_result:\n",
        "      node = inner_record[\"output\"]\n",
        "      print(node)\n",
        "      uri_data.append({\"id\": node.id, \"uri\": \"%s#%s\" % (record[\"bc_data_type\"], node[\"name\"]) })\n",
        "    print (\"Duplicated for: \", record[\"bc_data_type\"])\n",
        "\n",
        "driver.close()\n",
        "\n",
        "with driver.session() as session:\n",
        "  query = \"\"\"UNWIND $uri_data AS d\n",
        "    MATCH (n) WHERE ID(n)=d.id\n",
        "    SET n.uri = d.uri;\"\"\" \n",
        "  result = session.run(query, uri_data=uri_data)\n",
        "driver.close()\n",
        "print (\"URIs set.\")"
      ],
      "metadata": {
        "colab": {
          "base_uri": "https://localhost:8080/"
        },
        "id": "iCWSwyC5GLdm",
        "outputId": "802163cc-5ff8-4abf-e9a2-35c0a3ff3662"
      },
      "execution_count": null,
      "outputs": [
        {
          "output_type": "stream",
          "name": "stdout",
          "text": [
            "http://id.d4k.dk/dataset/bc_template/base_observation/test/coding\n",
            "coding, coding linked\n",
            "http://id.d4k.dk/dataset/bc_template/base_observation/position/coding\n",
            "coding, coding linked\n",
            "http://id.d4k.dk/dataset/bc_template/base_observation/site_of_administration/coding\n",
            "coding, coding linked\n",
            "http://id.d4k.dk/dataset/bc_template/base_observation/laterality/coding\n",
            "coding, coding linked\n",
            "http://id.d4k.dk/dataset/bc_template/base_observation/method/coding\n",
            "coding, coding linked\n",
            "http://id.d4k.dk/dataset/bc_template/base_observation/date_time/datetime\n",
            "http://id.d4k.dk/dataset/bc_template/base_observation/result/quantity\n",
            "quantity, quantity linked\n",
            "http://id.d4k.dk/dataset/bc_template/base_observation/result/coding\n",
            "coding, coding linked\n",
            "http://id.d4k.dk/dataset/bc_template/base_laboratory/test/coding\n",
            "coding, coding linked\n",
            "http://id.d4k.dk/dataset/bc_template/base_laboratory/position/coding\n",
            "coding, coding linked\n",
            "http://id.d4k.dk/dataset/bc_template/base_laboratory/site_of_administration/coding\n",
            "coding, coding linked\n",
            "http://id.d4k.dk/dataset/bc_template/base_laboratory/laterality/coding\n",
            "coding, coding linked\n",
            "http://id.d4k.dk/dataset/bc_template/base_laboratory/directionality/coding\n",
            "coding, coding linked\n",
            "http://id.d4k.dk/dataset/bc_template/base_laboratory/method/coding\n",
            "coding, coding linked\n",
            "http://id.d4k.dk/dataset/bc_template/base_laboratory/date_time/datetime\n",
            "http://id.d4k.dk/dataset/bc_template/base_laboratory/result/quantity\n",
            "quantity, quantity linked\n",
            "http://id.d4k.dk/dataset/bc_template/base_laboratory/result/coding\n",
            "coding, coding linked\n",
            "http://id.d4k.dk/dataset/bc_template/base_laboratory/specimen/coding\n",
            "coding, coding linked\n",
            "<Node id=103050 labels=frozenset({'FHIR_DATA_TYPE_PROPERTY'}) properties={'name': 'version', 'simple_data_type': 'string', 'id': 14, 'uri': 'http://id.d4k.dk/dataset/hl7/fhir/datatypes#coding_version'}>\n",
            "<Node id=103051 labels=frozenset({'FHIR_DATA_TYPE_PROPERTY'}) properties={'name': 'user_selected', 'simple_data_type': 'boolean', 'id': 12, 'uri': 'http://id.d4k.dk/dataset/hl7/fhir/datatypes#coding_user_selected'}>\n",
            "<Node id=103052 labels=frozenset({'FHIR_DATA_TYPE_PROPERTY'}) properties={'name': 'display', 'simple_data_type': 'string', 'id': 11, 'uri': 'http://id.d4k.dk/dataset/hl7/fhir/datatypes#coding_display'}>\n",
            "<Node id=103053 labels=frozenset({'FHIR_DATA_TYPE_PROPERTY'}) properties={'name': 'system', 'simple_data_type': 'string', 'id': 10, 'uri': 'http://id.d4k.dk/dataset/hl7/fhir/datatypes#coding_system'}>\n",
            "<Node id=103054 labels=frozenset({'FHIR_DATA_TYPE_PROPERTY'}) properties={'name': 'code', 'simple_data_type': 'code', 'id': 13, 'uri': 'http://id.d4k.dk/dataset/hl7/fhir/datatypes#coding_code'}>\n",
            "Duplicated for:  http://id.d4k.dk/dataset/bc_template/base_laboratory/specimen/coding\n",
            "<Node id=103055 labels=frozenset({'FHIR_DATA_TYPE_PROPERTY'}) properties={'name': 'version', 'simple_data_type': 'string', 'id': 14, 'uri': 'http://id.d4k.dk/dataset/hl7/fhir/datatypes#coding_version'}>\n",
            "<Node id=103056 labels=frozenset({'FHIR_DATA_TYPE_PROPERTY'}) properties={'name': 'user_selected', 'simple_data_type': 'boolean', 'id': 12, 'uri': 'http://id.d4k.dk/dataset/hl7/fhir/datatypes#coding_user_selected'}>\n",
            "<Node id=103057 labels=frozenset({'FHIR_DATA_TYPE_PROPERTY'}) properties={'name': 'display', 'simple_data_type': 'string', 'id': 11, 'uri': 'http://id.d4k.dk/dataset/hl7/fhir/datatypes#coding_display'}>\n",
            "<Node id=103058 labels=frozenset({'FHIR_DATA_TYPE_PROPERTY'}) properties={'name': 'system', 'simple_data_type': 'string', 'id': 10, 'uri': 'http://id.d4k.dk/dataset/hl7/fhir/datatypes#coding_system'}>\n",
            "<Node id=103059 labels=frozenset({'FHIR_DATA_TYPE_PROPERTY'}) properties={'name': 'code', 'simple_data_type': 'code', 'id': 13, 'uri': 'http://id.d4k.dk/dataset/hl7/fhir/datatypes#coding_code'}>\n",
            "Duplicated for:  http://id.d4k.dk/dataset/bc_template/base_laboratory/result/coding\n",
            "<Node id=103060 labels=frozenset({'FHIR_DATA_TYPE_PROPERTY'}) properties={'name': 'version', 'simple_data_type': 'string', 'id': 14, 'uri': 'http://id.d4k.dk/dataset/hl7/fhir/datatypes#coding_version'}>\n",
            "<Node id=103061 labels=frozenset({'FHIR_DATA_TYPE_PROPERTY'}) properties={'name': 'user_selected', 'simple_data_type': 'boolean', 'id': 12, 'uri': 'http://id.d4k.dk/dataset/hl7/fhir/datatypes#coding_user_selected'}>\n",
            "<Node id=103062 labels=frozenset({'FHIR_DATA_TYPE_PROPERTY'}) properties={'name': 'display', 'simple_data_type': 'string', 'id': 11, 'uri': 'http://id.d4k.dk/dataset/hl7/fhir/datatypes#coding_display'}>\n",
            "<Node id=103063 labels=frozenset({'FHIR_DATA_TYPE_PROPERTY'}) properties={'name': 'system', 'simple_data_type': 'string', 'id': 10, 'uri': 'http://id.d4k.dk/dataset/hl7/fhir/datatypes#coding_system'}>\n",
            "<Node id=103064 labels=frozenset({'FHIR_DATA_TYPE_PROPERTY'}) properties={'name': 'code', 'simple_data_type': 'code', 'id': 13, 'uri': 'http://id.d4k.dk/dataset/hl7/fhir/datatypes#coding_code'}>\n",
            "Duplicated for:  http://id.d4k.dk/dataset/bc_template/base_laboratory/method/coding\n",
            "<Node id=103065 labels=frozenset({'FHIR_DATA_TYPE_PROPERTY'}) properties={'name': 'version', 'simple_data_type': 'string', 'id': 14, 'uri': 'http://id.d4k.dk/dataset/hl7/fhir/datatypes#coding_version'}>\n",
            "<Node id=103066 labels=frozenset({'FHIR_DATA_TYPE_PROPERTY'}) properties={'name': 'user_selected', 'simple_data_type': 'boolean', 'id': 12, 'uri': 'http://id.d4k.dk/dataset/hl7/fhir/datatypes#coding_user_selected'}>\n",
            "<Node id=103067 labels=frozenset({'FHIR_DATA_TYPE_PROPERTY'}) properties={'name': 'display', 'simple_data_type': 'string', 'id': 11, 'uri': 'http://id.d4k.dk/dataset/hl7/fhir/datatypes#coding_display'}>\n",
            "<Node id=103068 labels=frozenset({'FHIR_DATA_TYPE_PROPERTY'}) properties={'name': 'system', 'simple_data_type': 'string', 'id': 10, 'uri': 'http://id.d4k.dk/dataset/hl7/fhir/datatypes#coding_system'}>\n",
            "<Node id=103069 labels=frozenset({'FHIR_DATA_TYPE_PROPERTY'}) properties={'name': 'code', 'simple_data_type': 'code', 'id': 13, 'uri': 'http://id.d4k.dk/dataset/hl7/fhir/datatypes#coding_code'}>\n",
            "Duplicated for:  http://id.d4k.dk/dataset/bc_template/base_laboratory/directionality/coding\n",
            "<Node id=103070 labels=frozenset({'FHIR_DATA_TYPE_PROPERTY'}) properties={'name': 'version', 'simple_data_type': 'string', 'id': 14, 'uri': 'http://id.d4k.dk/dataset/hl7/fhir/datatypes#coding_version'}>\n",
            "<Node id=103071 labels=frozenset({'FHIR_DATA_TYPE_PROPERTY'}) properties={'name': 'user_selected', 'simple_data_type': 'boolean', 'id': 12, 'uri': 'http://id.d4k.dk/dataset/hl7/fhir/datatypes#coding_user_selected'}>\n",
            "<Node id=103072 labels=frozenset({'FHIR_DATA_TYPE_PROPERTY'}) properties={'name': 'display', 'simple_data_type': 'string', 'id': 11, 'uri': 'http://id.d4k.dk/dataset/hl7/fhir/datatypes#coding_display'}>\n",
            "<Node id=103073 labels=frozenset({'FHIR_DATA_TYPE_PROPERTY'}) properties={'name': 'system', 'simple_data_type': 'string', 'id': 10, 'uri': 'http://id.d4k.dk/dataset/hl7/fhir/datatypes#coding_system'}>\n",
            "<Node id=103074 labels=frozenset({'FHIR_DATA_TYPE_PROPERTY'}) properties={'name': 'code', 'simple_data_type': 'code', 'id': 13, 'uri': 'http://id.d4k.dk/dataset/hl7/fhir/datatypes#coding_code'}>\n",
            "Duplicated for:  http://id.d4k.dk/dataset/bc_template/base_laboratory/laterality/coding\n",
            "<Node id=103075 labels=frozenset({'FHIR_DATA_TYPE_PROPERTY'}) properties={'name': 'version', 'simple_data_type': 'string', 'id': 14, 'uri': 'http://id.d4k.dk/dataset/hl7/fhir/datatypes#coding_version'}>\n",
            "<Node id=103076 labels=frozenset({'FHIR_DATA_TYPE_PROPERTY'}) properties={'name': 'user_selected', 'simple_data_type': 'boolean', 'id': 12, 'uri': 'http://id.d4k.dk/dataset/hl7/fhir/datatypes#coding_user_selected'}>\n",
            "<Node id=103077 labels=frozenset({'FHIR_DATA_TYPE_PROPERTY'}) properties={'name': 'display', 'simple_data_type': 'string', 'id': 11, 'uri': 'http://id.d4k.dk/dataset/hl7/fhir/datatypes#coding_display'}>\n",
            "<Node id=103078 labels=frozenset({'FHIR_DATA_TYPE_PROPERTY'}) properties={'name': 'system', 'simple_data_type': 'string', 'id': 10, 'uri': 'http://id.d4k.dk/dataset/hl7/fhir/datatypes#coding_system'}>\n",
            "<Node id=103079 labels=frozenset({'FHIR_DATA_TYPE_PROPERTY'}) properties={'name': 'code', 'simple_data_type': 'code', 'id': 13, 'uri': 'http://id.d4k.dk/dataset/hl7/fhir/datatypes#coding_code'}>\n",
            "Duplicated for:  http://id.d4k.dk/dataset/bc_template/base_laboratory/site_of_administration/coding\n",
            "<Node id=103080 labels=frozenset({'FHIR_DATA_TYPE_PROPERTY'}) properties={'name': 'version', 'simple_data_type': 'string', 'id': 14, 'uri': 'http://id.d4k.dk/dataset/hl7/fhir/datatypes#coding_version'}>\n",
            "<Node id=103081 labels=frozenset({'FHIR_DATA_TYPE_PROPERTY'}) properties={'name': 'user_selected', 'simple_data_type': 'boolean', 'id': 12, 'uri': 'http://id.d4k.dk/dataset/hl7/fhir/datatypes#coding_user_selected'}>\n",
            "<Node id=103082 labels=frozenset({'FHIR_DATA_TYPE_PROPERTY'}) properties={'name': 'display', 'simple_data_type': 'string', 'id': 11, 'uri': 'http://id.d4k.dk/dataset/hl7/fhir/datatypes#coding_display'}>\n",
            "<Node id=103083 labels=frozenset({'FHIR_DATA_TYPE_PROPERTY'}) properties={'name': 'system', 'simple_data_type': 'string', 'id': 10, 'uri': 'http://id.d4k.dk/dataset/hl7/fhir/datatypes#coding_system'}>\n",
            "<Node id=103084 labels=frozenset({'FHIR_DATA_TYPE_PROPERTY'}) properties={'name': 'code', 'simple_data_type': 'code', 'id': 13, 'uri': 'http://id.d4k.dk/dataset/hl7/fhir/datatypes#coding_code'}>\n",
            "Duplicated for:  http://id.d4k.dk/dataset/bc_template/base_laboratory/position/coding\n",
            "<Node id=103085 labels=frozenset({'FHIR_DATA_TYPE_PROPERTY'}) properties={'name': 'version', 'simple_data_type': 'string', 'id': 14, 'uri': 'http://id.d4k.dk/dataset/hl7/fhir/datatypes#coding_version'}>\n",
            "<Node id=103086 labels=frozenset({'FHIR_DATA_TYPE_PROPERTY'}) properties={'name': 'user_selected', 'simple_data_type': 'boolean', 'id': 12, 'uri': 'http://id.d4k.dk/dataset/hl7/fhir/datatypes#coding_user_selected'}>\n",
            "<Node id=103087 labels=frozenset({'FHIR_DATA_TYPE_PROPERTY'}) properties={'name': 'display', 'simple_data_type': 'string', 'id': 11, 'uri': 'http://id.d4k.dk/dataset/hl7/fhir/datatypes#coding_display'}>\n",
            "<Node id=103088 labels=frozenset({'FHIR_DATA_TYPE_PROPERTY'}) properties={'name': 'system', 'simple_data_type': 'string', 'id': 10, 'uri': 'http://id.d4k.dk/dataset/hl7/fhir/datatypes#coding_system'}>\n",
            "<Node id=103089 labels=frozenset({'FHIR_DATA_TYPE_PROPERTY'}) properties={'name': 'code', 'simple_data_type': 'code', 'id': 13, 'uri': 'http://id.d4k.dk/dataset/hl7/fhir/datatypes#coding_code'}>\n",
            "Duplicated for:  http://id.d4k.dk/dataset/bc_template/base_laboratory/test/coding\n",
            "<Node id=103090 labels=frozenset({'FHIR_DATA_TYPE_PROPERTY'}) properties={'name': 'version', 'simple_data_type': 'string', 'id': 14, 'uri': 'http://id.d4k.dk/dataset/hl7/fhir/datatypes#coding_version'}>\n",
            "<Node id=103091 labels=frozenset({'FHIR_DATA_TYPE_PROPERTY'}) properties={'name': 'user_selected', 'simple_data_type': 'boolean', 'id': 12, 'uri': 'http://id.d4k.dk/dataset/hl7/fhir/datatypes#coding_user_selected'}>\n",
            "<Node id=103092 labels=frozenset({'FHIR_DATA_TYPE_PROPERTY'}) properties={'name': 'display', 'simple_data_type': 'string', 'id': 11, 'uri': 'http://id.d4k.dk/dataset/hl7/fhir/datatypes#coding_display'}>\n",
            "<Node id=103093 labels=frozenset({'FHIR_DATA_TYPE_PROPERTY'}) properties={'name': 'system', 'simple_data_type': 'string', 'id': 10, 'uri': 'http://id.d4k.dk/dataset/hl7/fhir/datatypes#coding_system'}>\n",
            "<Node id=103094 labels=frozenset({'FHIR_DATA_TYPE_PROPERTY'}) properties={'name': 'code', 'simple_data_type': 'code', 'id': 13, 'uri': 'http://id.d4k.dk/dataset/hl7/fhir/datatypes#coding_code'}>\n",
            "Duplicated for:  http://id.d4k.dk/dataset/bc_template/base_observation/result/coding\n",
            "<Node id=103095 labels=frozenset({'FHIR_DATA_TYPE_PROPERTY'}) properties={'name': 'version', 'simple_data_type': 'string', 'id': 14, 'uri': 'http://id.d4k.dk/dataset/hl7/fhir/datatypes#coding_version'}>\n",
            "<Node id=103096 labels=frozenset({'FHIR_DATA_TYPE_PROPERTY'}) properties={'name': 'user_selected', 'simple_data_type': 'boolean', 'id': 12, 'uri': 'http://id.d4k.dk/dataset/hl7/fhir/datatypes#coding_user_selected'}>\n",
            "<Node id=103097 labels=frozenset({'FHIR_DATA_TYPE_PROPERTY'}) properties={'name': 'display', 'simple_data_type': 'string', 'id': 11, 'uri': 'http://id.d4k.dk/dataset/hl7/fhir/datatypes#coding_display'}>\n",
            "<Node id=103098 labels=frozenset({'FHIR_DATA_TYPE_PROPERTY'}) properties={'name': 'system', 'simple_data_type': 'string', 'id': 10, 'uri': 'http://id.d4k.dk/dataset/hl7/fhir/datatypes#coding_system'}>\n",
            "<Node id=103099 labels=frozenset({'FHIR_DATA_TYPE_PROPERTY'}) properties={'name': 'code', 'simple_data_type': 'code', 'id': 13, 'uri': 'http://id.d4k.dk/dataset/hl7/fhir/datatypes#coding_code'}>\n",
            "Duplicated for:  http://id.d4k.dk/dataset/bc_template/base_observation/method/coding\n",
            "<Node id=103100 labels=frozenset({'FHIR_DATA_TYPE_PROPERTY'}) properties={'name': 'version', 'simple_data_type': 'string', 'id': 14, 'uri': 'http://id.d4k.dk/dataset/hl7/fhir/datatypes#coding_version'}>\n",
            "<Node id=103101 labels=frozenset({'FHIR_DATA_TYPE_PROPERTY'}) properties={'name': 'user_selected', 'simple_data_type': 'boolean', 'id': 12, 'uri': 'http://id.d4k.dk/dataset/hl7/fhir/datatypes#coding_user_selected'}>\n",
            "<Node id=103102 labels=frozenset({'FHIR_DATA_TYPE_PROPERTY'}) properties={'name': 'display', 'simple_data_type': 'string', 'id': 11, 'uri': 'http://id.d4k.dk/dataset/hl7/fhir/datatypes#coding_display'}>\n",
            "<Node id=103103 labels=frozenset({'FHIR_DATA_TYPE_PROPERTY'}) properties={'name': 'system', 'simple_data_type': 'string', 'id': 10, 'uri': 'http://id.d4k.dk/dataset/hl7/fhir/datatypes#coding_system'}>\n",
            "<Node id=103104 labels=frozenset({'FHIR_DATA_TYPE_PROPERTY'}) properties={'name': 'code', 'simple_data_type': 'code', 'id': 13, 'uri': 'http://id.d4k.dk/dataset/hl7/fhir/datatypes#coding_code'}>\n",
            "Duplicated for:  http://id.d4k.dk/dataset/bc_template/base_observation/laterality/coding\n",
            "<Node id=103105 labels=frozenset({'FHIR_DATA_TYPE_PROPERTY'}) properties={'name': 'version', 'simple_data_type': 'string', 'id': 14, 'uri': 'http://id.d4k.dk/dataset/hl7/fhir/datatypes#coding_version'}>\n",
            "<Node id=103106 labels=frozenset({'FHIR_DATA_TYPE_PROPERTY'}) properties={'name': 'user_selected', 'simple_data_type': 'boolean', 'id': 12, 'uri': 'http://id.d4k.dk/dataset/hl7/fhir/datatypes#coding_user_selected'}>\n",
            "<Node id=103107 labels=frozenset({'FHIR_DATA_TYPE_PROPERTY'}) properties={'name': 'display', 'simple_data_type': 'string', 'id': 11, 'uri': 'http://id.d4k.dk/dataset/hl7/fhir/datatypes#coding_display'}>\n",
            "<Node id=103108 labels=frozenset({'FHIR_DATA_TYPE_PROPERTY'}) properties={'name': 'system', 'simple_data_type': 'string', 'id': 10, 'uri': 'http://id.d4k.dk/dataset/hl7/fhir/datatypes#coding_system'}>\n",
            "<Node id=103109 labels=frozenset({'FHIR_DATA_TYPE_PROPERTY'}) properties={'name': 'code', 'simple_data_type': 'code', 'id': 13, 'uri': 'http://id.d4k.dk/dataset/hl7/fhir/datatypes#coding_code'}>\n",
            "Duplicated for:  http://id.d4k.dk/dataset/bc_template/base_observation/site_of_administration/coding\n",
            "<Node id=103110 labels=frozenset({'FHIR_DATA_TYPE_PROPERTY'}) properties={'name': 'version', 'simple_data_type': 'string', 'id': 14, 'uri': 'http://id.d4k.dk/dataset/hl7/fhir/datatypes#coding_version'}>\n",
            "<Node id=103111 labels=frozenset({'FHIR_DATA_TYPE_PROPERTY'}) properties={'name': 'user_selected', 'simple_data_type': 'boolean', 'id': 12, 'uri': 'http://id.d4k.dk/dataset/hl7/fhir/datatypes#coding_user_selected'}>\n",
            "<Node id=103112 labels=frozenset({'FHIR_DATA_TYPE_PROPERTY'}) properties={'name': 'display', 'simple_data_type': 'string', 'id': 11, 'uri': 'http://id.d4k.dk/dataset/hl7/fhir/datatypes#coding_display'}>\n",
            "<Node id=103113 labels=frozenset({'FHIR_DATA_TYPE_PROPERTY'}) properties={'name': 'system', 'simple_data_type': 'string', 'id': 10, 'uri': 'http://id.d4k.dk/dataset/hl7/fhir/datatypes#coding_system'}>\n",
            "<Node id=103114 labels=frozenset({'FHIR_DATA_TYPE_PROPERTY'}) properties={'name': 'code', 'simple_data_type': 'code', 'id': 13, 'uri': 'http://id.d4k.dk/dataset/hl7/fhir/datatypes#coding_code'}>\n",
            "Duplicated for:  http://id.d4k.dk/dataset/bc_template/base_observation/position/coding\n",
            "<Node id=103115 labels=frozenset({'FHIR_DATA_TYPE_PROPERTY'}) properties={'name': 'version', 'simple_data_type': 'string', 'id': 14, 'uri': 'http://id.d4k.dk/dataset/hl7/fhir/datatypes#coding_version'}>\n",
            "<Node id=103116 labels=frozenset({'FHIR_DATA_TYPE_PROPERTY'}) properties={'name': 'user_selected', 'simple_data_type': 'boolean', 'id': 12, 'uri': 'http://id.d4k.dk/dataset/hl7/fhir/datatypes#coding_user_selected'}>\n",
            "<Node id=103117 labels=frozenset({'FHIR_DATA_TYPE_PROPERTY'}) properties={'name': 'display', 'simple_data_type': 'string', 'id': 11, 'uri': 'http://id.d4k.dk/dataset/hl7/fhir/datatypes#coding_display'}>\n",
            "<Node id=103118 labels=frozenset({'FHIR_DATA_TYPE_PROPERTY'}) properties={'name': 'system', 'simple_data_type': 'string', 'id': 10, 'uri': 'http://id.d4k.dk/dataset/hl7/fhir/datatypes#coding_system'}>\n",
            "<Node id=103119 labels=frozenset({'FHIR_DATA_TYPE_PROPERTY'}) properties={'name': 'code', 'simple_data_type': 'code', 'id': 13, 'uri': 'http://id.d4k.dk/dataset/hl7/fhir/datatypes#coding_code'}>\n",
            "Duplicated for:  http://id.d4k.dk/dataset/bc_template/base_observation/test/coding\n",
            "<Node id=103120 labels=frozenset({'FHIR_DATA_TYPE_PROPERTY'}) properties={'name': 'code', 'simple_data_type': 'code', 'id': 9, 'uri': 'http://id.d4k.dk/dataset/hl7/fhir/datatypes#quantity_code'}>\n",
            "<Node id=103121 labels=frozenset({'FHIR_DATA_TYPE_PROPERTY'}) properties={'name': 'unit', 'simple_data_type': 'string', 'id': 8, 'uri': 'http://id.d4k.dk/dataset/hl7/fhir/datatypes#quantity_unit'}>\n",
            "<Node id=103122 labels=frozenset({'FHIR_DATA_TYPE_PROPERTY'}) properties={'name': 'comparator', 'simple_data_type': 'code', 'id': 7, 'uri': 'http://id.d4k.dk/dataset/hl7/fhir/datatypes#quantity_comparator'}>\n",
            "<Node id=103123 labels=frozenset({'FHIR_DATA_TYPE_PROPERTY'}) properties={'name': 'system', 'simple_data_type': 'string', 'id': 5, 'uri': 'http://id.d4k.dk/dataset/hl7/fhir/datatypes#quantity_system'}>\n",
            "<Node id=103124 labels=frozenset({'FHIR_DATA_TYPE_PROPERTY'}) properties={'name': 'value', 'simple_data_type': 'float', 'id': 6, 'uri': 'http://id.d4k.dk/dataset/hl7/fhir/datatypes#quantity_value'}>\n",
            "Duplicated for:  http://id.d4k.dk/dataset/bc_template/base_laboratory/result/quantity\n",
            "<Node id=103125 labels=frozenset({'FHIR_DATA_TYPE_PROPERTY'}) properties={'name': 'code', 'simple_data_type': 'code', 'id': 9, 'uri': 'http://id.d4k.dk/dataset/hl7/fhir/datatypes#quantity_code'}>\n",
            "<Node id=103126 labels=frozenset({'FHIR_DATA_TYPE_PROPERTY'}) properties={'name': 'unit', 'simple_data_type': 'string', 'id': 8, 'uri': 'http://id.d4k.dk/dataset/hl7/fhir/datatypes#quantity_unit'}>\n",
            "<Node id=103127 labels=frozenset({'FHIR_DATA_TYPE_PROPERTY'}) properties={'name': 'comparator', 'simple_data_type': 'code', 'id': 7, 'uri': 'http://id.d4k.dk/dataset/hl7/fhir/datatypes#quantity_comparator'}>\n",
            "<Node id=103128 labels=frozenset({'FHIR_DATA_TYPE_PROPERTY'}) properties={'name': 'system', 'simple_data_type': 'string', 'id': 5, 'uri': 'http://id.d4k.dk/dataset/hl7/fhir/datatypes#quantity_system'}>\n",
            "<Node id=103129 labels=frozenset({'FHIR_DATA_TYPE_PROPERTY'}) properties={'name': 'value', 'simple_data_type': 'float', 'id': 6, 'uri': 'http://id.d4k.dk/dataset/hl7/fhir/datatypes#quantity_value'}>\n",
            "Duplicated for:  http://id.d4k.dk/dataset/bc_template/base_observation/result/quantity\n",
            "URIs set.\n"
          ]
        }
      ]
    },
    {
      "cell_type": "code",
      "source": [
        "stage_11_files = [ \n",
        "    { \"label\": \"OTHER_SOURCE\", \"filename\": \"stage_11_other_source_nodes.csv\" },\n",
        "    { \"label\": \"BC_VALUE_SET\", \"filename\": \"stage_11_bc_value_set_nodes.csv\" },\n",
        "    { \"label\": \"BC_DATA_PROPERTY\", \"filename\": \"stage_11_bc_data_property_nodes.csv\" },\n",
        "    { \"label\": \"BC_DATA_TYPE\", \"filename\": \"stage_11_bc_data_type_nodes.csv\" },\n",
        "    { \"label\": \"BC_ITEM\", \"filename\": \"stage_11_bc_item_nodes.csv\" },\n",
        "    { \"label\": \"BC_INSTANCE\", \"filename\": \"stage_11_bc_instance_nodes.csv\" },\n",
        "    { \"type\": \"FROM_SOURCE\", \"filename\": \"stage_11_from_source_relationships.csv\" },\n",
        "    { \"type\": \"HAS_RESPONSE\", \"filename\": \"stage_11_has_response_relationships.csv\" },\n",
        "    { \"type\": \"HAS_DATA_PROPERTY\", \"filename\": \"stage_11_has_data_property_relationships.csv\" },\n",
        "    { \"type\": \"HAS_DATA_TYPE\", \"filename\": \"stage_11_has_data_type_relationships.csv\" },\n",
        "    { \"type\": \"HAS_IDENTIFIER\", \"filename\": \"stage_11_has_identifier_relationships.csv\" },\n",
        "    { \"type\": \"HAS_ITEM\", \"filename\": \"stage_11_has_item_relationships.csv\" }\n",
        "  ]\n",
        "\n",
        "file_load(stage_11_files)"
      ],
      "metadata": {
        "colab": {
          "base_uri": "https://localhost:8080/"
        },
        "id": "nKEod92dmIc_",
        "outputId": "045aeca9-e745-41e0-efd5-a09d67cd108b"
      },
      "execution_count": null,
      "outputs": [
        {
          "output_type": "stream",
          "name": "stdout",
          "text": [
            "CALL apoc.import.csv( [{ fileName: 'https://raw.githubusercontent.com/data4knowledge/biomedical_concepts/main/data/stage_11_other_source_nodes.csv', labels: ['OTHER_SOURCE'] }, { fileName: 'https://raw.githubusercontent.com/data4knowledge/biomedical_concepts/main/data/stage_11_bc_value_set_nodes.csv', labels: ['BC_VALUE_SET'] }, { fileName: 'https://raw.githubusercontent.com/data4knowledge/biomedical_concepts/main/data/stage_11_bc_data_property_nodes.csv', labels: ['BC_DATA_PROPERTY'] }, { fileName: 'https://raw.githubusercontent.com/data4knowledge/biomedical_concepts/main/data/stage_11_bc_data_type_nodes.csv', labels: ['BC_DATA_TYPE'] }, { fileName: 'https://raw.githubusercontent.com/data4knowledge/biomedical_concepts/main/data/stage_11_bc_item_nodes.csv', labels: ['BC_ITEM'] }, { fileName: 'https://raw.githubusercontent.com/data4knowledge/biomedical_concepts/main/data/stage_11_bc_instance_nodes.csv', labels: ['BC_INSTANCE'] }], [{ fileName: 'https://raw.githubusercontent.com/data4knowledge/biomedical_concepts/main/data/stage_11_from_source_relationships.csv', type: 'FROM_SOURCE' }, { fileName: 'https://raw.githubusercontent.com/data4knowledge/biomedical_concepts/main/data/stage_11_has_response_relationships.csv', type: 'HAS_RESPONSE' }, { fileName: 'https://raw.githubusercontent.com/data4knowledge/biomedical_concepts/main/data/stage_11_has_data_property_relationships.csv', type: 'HAS_DATA_PROPERTY' }, { fileName: 'https://raw.githubusercontent.com/data4knowledge/biomedical_concepts/main/data/stage_11_has_data_type_relationships.csv', type: 'HAS_DATA_TYPE' }, { fileName: 'https://raw.githubusercontent.com/data4knowledge/biomedical_concepts/main/data/stage_11_has_identifier_relationships.csv', type: 'HAS_IDENTIFIER' }, { fileName: 'https://raw.githubusercontent.com/data4knowledge/biomedical_concepts/main/data/stage_11_has_item_relationships.csv', type: 'HAS_ITEM' }], {stringIds: false})\n",
            "<neo4j.work.result.Result object at 0x7f5e34464410>\n",
            "<Record file='progress.csv' source='file' format='csv' nodes=24 relationships=24 properties=98 time=971 rows=0 batchSize=-1 batches=0 done=True data=None>\n"
          ]
        }
      ]
    },
    {
      "cell_type": "code",
      "source": [
        "with driver.session() as session:\n",
        "  query = \"\"\"MATCH (n:BC_DATA_PROPERTY)-[:HAS_RESPONSE]->(d) RETURN n.name as name, d.cl as cl, d.cli as cli, d.uri as uri\"\"\" \n",
        "  result = session.run(query)\n",
        "  for record in result:\n",
        "    print (\"%s: [%s, %s], uri=%s\" % (record[\"name\"], record[\"cl\"], record[\"cli\"], record[\"uri\"]))\n",
        "driver.close()"
      ],
      "metadata": {
        "colab": {
          "base_uri": "https://localhost:8080/"
        },
        "id": "cqgJqRtjwRWT",
        "outputId": "b078a993-32e1-4de4-ce54-fc490adc8d80"
      },
      "execution_count": null,
      "outputs": [
        {
          "output_type": "stream",
          "name": "stdout",
          "text": [
            "code: [c66741, c25208], uri=http://id.d4k.dk/dataset/bc_instance/weight/test/coding/code/c66741-c25208\n",
            "code: [c66770, c28252], uri=http://id.d4k.dk/dataset/bc_instance/weight/result/quantity/code/c66770-c28252\n",
            "code: [c66770, c48531], uri=http://id.d4k.dk/dataset/bc_instance/weight/result/quantity/code/c66770-c48531\n"
          ]
        }
      ]
    },
    {
      "cell_type": "markdown",
      "source": [
        "Need to\n",
        "- Link to the template\n",
        "- Link the BC to any CT"
      ],
      "metadata": {
        "id": "cH-7_-DXzN_R"
      }
    },
    {
      "cell_type": "code",
      "source": [
        " stage_12_files = [    \n",
        "    { \"label\": \"ENDPOINT\", \"filename\": \"stage_12_endpoint_nodes.csv\" },\n",
        "    { \"label\": \"STUDY_DATA\", \"filename\": \"stage_12_study_data_nodes.csv\" },\n",
        "    { \"label\": \"PROCEDURE\", \"filename\": \"stage_12_procedure_nodes.csv\" },\n",
        "    { \"label\": \"ACTIVITY\", \"filename\": \"stage_12_activity_nodes.csv\" },\n",
        "    { \"label\": \"WORKFLOW_ITEM\", \"filename\": \"stage_12_workflow_item_nodes.csv\" },\n",
        "    { \"label\": \"VISIT\", \"filename\": \"stage_12_visit_nodes.csv\" },\n",
        "    { \"label\": \"STUDY_CELL\", \"filename\": \"stage_12_study_cell_nodes.csv\" },\n",
        "    { \"label\": \"RULE\", \"filename\": \"stage_12_rule_nodes.csv\" },\n",
        "    { \"label\": \"STUDY_ELEMENT\", \"filename\": \"stage_12_study_element_nodes.csv\" },\n",
        "    { \"label\": \"EPOCH\", \"filename\": \"stage_12_study_epoch_nodes.csv\" },\n",
        "    { \"label\": \"STUDY_ARM\", \"filename\": \"stage_12_study_arm_nodes.csv\" },\n",
        "    { \"label\": \"OBJECTIVE\", \"filename\": \"stage_12_objective_nodes.csv\" },\n",
        "    { \"label\": \"CODE\", \"filename\": \"stage_12_code_nodes.csv\" },\n",
        "    { \"label\": \"INVESTIGATIONAL_INTERVENTIONS\", \"filename\": \"stage_12_investigational_interventions_nodes.csv\" },\n",
        "    { \"label\": \"POPULATION\", \"filename\": \"stage_12_population_nodes.csv\" },\n",
        "    { \"label\": \"STUDY_DESIGN\", \"filename\": \"stage_12_study_design_nodes.csv\" },\n",
        "    { \"label\": \"INDICATION\", \"filename\": \"stage_12_indication_nodes.csv\" },\n",
        "    { \"label\": \"STUDY_PROTOCOL\", \"filename\": \"stage_12_study_protocol_nodes.csv\" },\n",
        "    { \"label\": \"STUDY_PHASE\", \"filename\": \"stage_12_study_phase_nodes.csv\" },\n",
        "    { \"label\": \"STUDY_TYPE\", \"filename\": \"stage_12_study_type_nodes.csv\" },\n",
        "    { \"label\": \"STUDY_IDENTIFIER\", \"filename\": \"stage_12_study_identifier_nodes.csv\" },\n",
        "    { \"label\": \"STUDY\", \"filename\": \"stage_12_study_nodes.csv\" },\n",
        "    { \"type\": \"HAS_CODED\", \"filename\": \"stage_12_has_coded_relationships.csv\" },\n",
        "    { \"type\": \"HAS_ENDPOINT\", \"filename\": \"stage_12_has_endpoint_relationships.csv\" },\n",
        "    { \"type\": \"HAS_STUDY_DATA\", \"filename\": \"stage_12_has_study_data_relationships.csv\" },\n",
        "    { \"type\": \"HAS_PROCEDURE\", \"filename\": \"stage_12_has_procedure_relationships.csv\" },\n",
        "    { \"type\": \"HAS_PREVIOUS_ACTIVITY\", \"filename\": \"stage_12_has_previous_activity_relationships.csv\" },\n",
        "    { \"type\": \"HAS_PREVIOUS_WORKFLOW\", \"filename\": \"stage_12_has_previous_workflow_relationships.csv\" },\n",
        "    { \"type\": \"USED_IN_VISIT\", \"filename\": \"stage_12_used_in_visit_relationships.csv\" },\n",
        "    { \"type\": \"HAS_ACTIVITY\", \"filename\": \"stage_12_has_activity_relationships.csv\" },\n",
        "    { \"type\": \"HAS_VISIT\", \"filename\": \"stage_12_has_visit_relationships.csv\" },\n",
        "    { \"type\": \"HAS_END_RULE\", \"filename\": \"stage_12_has_end_rule_relationships.csv\" },\n",
        "    { \"type\": \"HAS_START_RULE\", \"filename\": \"stage_12_has_start_rule_relationships.csv\" },\n",
        "    { \"type\": \"HAS_ELEMENT\", \"filename\": \"stage_12_has_element_relationships.csv\" },\n",
        "    { \"type\": \"HAS_EPOCH\", \"filename\": \"stage_12_has_epoch_relationships.csv\" },\n",
        "    { \"type\": \"HAS_ARM\", \"filename\": \"stage_12_has_arm_relationships.csv\" },\n",
        "    { \"type\": \"HAS_CELL\", \"filename\": \"stage_12_has_cell_relationships.csv\" },\n",
        "    { \"type\": \"HAS_OBJECTIVE\", \"filename\": \"stage_12_has_objective_relationships.csv\" },\n",
        "    { \"type\": \"HAS_INDICATION\", \"filename\": \"stage_12_has_indication_relationships.csv\" },\n",
        "    { \"type\": \"HAS_INVESTIGATIONAL_INTERVENTION\", \"filename\": \"stage_12_has_investigational_intervention_relationships.csv\" },\n",
        "    { \"type\": \"HAS_POPULATION\", \"filename\": \"stage_12_has_population_relationships.csv\" },\n",
        "    { \"type\": \"HAS_STUDY_DESIGN\", \"filename\": \"stage_12_has_study_design_relationships.csv\" },\n",
        "    { \"type\": \"HAS_PROTOCOL\", \"filename\": \"stage_12_has_protocol_relationships.csv\" },\n",
        "    { \"type\": \"HAS_STUDY_PHASE\", \"filename\": \"stage_12_has_study_phase_relationships.csv\" },\n",
        "    { \"type\": \"HAS_STUDY_TYPE\", \"filename\": \"stage_12_has_study_type_relationships.csv\" },\n",
        "    { \"type\": \"HAS_IDENTIFIER\", \"filename\": \"stage_12_has_identifier_relationships.csv\" }\n",
        "  ]\n",
        "\n",
        "file_load(stage_12_files)"
      ],
      "metadata": {
        "colab": {
          "base_uri": "https://localhost:8080/"
        },
        "id": "yLEatFJT6WGB",
        "outputId": "bd0e1942-7b80-4c3c-d961-bbbc6b171981"
      },
      "execution_count": null,
      "outputs": [
        {
          "output_type": "stream",
          "name": "stdout",
          "text": [
            "CALL apoc.import.csv( [{ fileName: 'https://raw.githubusercontent.com/data4knowledge/biomedical_concepts/main/data/stage_12_endpoint_nodes.csv', labels: ['ENDPOINT'] }, { fileName: 'https://raw.githubusercontent.com/data4knowledge/biomedical_concepts/main/data/stage_12_study_data_nodes.csv', labels: ['STUDY_DATA'] }, { fileName: 'https://raw.githubusercontent.com/data4knowledge/biomedical_concepts/main/data/stage_12_procedure_nodes.csv', labels: ['PROCEDURE'] }, { fileName: 'https://raw.githubusercontent.com/data4knowledge/biomedical_concepts/main/data/stage_12_activity_nodes.csv', labels: ['ACTIVITY'] }, { fileName: 'https://raw.githubusercontent.com/data4knowledge/biomedical_concepts/main/data/stage_12_workflow_item_nodes.csv', labels: ['WORKFLOW_ITEM'] }, { fileName: 'https://raw.githubusercontent.com/data4knowledge/biomedical_concepts/main/data/stage_12_visit_nodes.csv', labels: ['VISIT'] }, { fileName: 'https://raw.githubusercontent.com/data4knowledge/biomedical_concepts/main/data/stage_12_study_cell_nodes.csv', labels: ['STUDY_CELL'] }, { fileName: 'https://raw.githubusercontent.com/data4knowledge/biomedical_concepts/main/data/stage_12_rule_nodes.csv', labels: ['RULE'] }, { fileName: 'https://raw.githubusercontent.com/data4knowledge/biomedical_concepts/main/data/stage_12_study_element_nodes.csv', labels: ['STUDY_ELEMENT'] }, { fileName: 'https://raw.githubusercontent.com/data4knowledge/biomedical_concepts/main/data/stage_12_study_epoch_nodes.csv', labels: ['EPOCH'] }, { fileName: 'https://raw.githubusercontent.com/data4knowledge/biomedical_concepts/main/data/stage_12_study_arm_nodes.csv', labels: ['STUDY_ARM'] }, { fileName: 'https://raw.githubusercontent.com/data4knowledge/biomedical_concepts/main/data/stage_12_objective_nodes.csv', labels: ['OBJECTIVE'] }, { fileName: 'https://raw.githubusercontent.com/data4knowledge/biomedical_concepts/main/data/stage_12_code_nodes.csv', labels: ['CODE'] }, { fileName: 'https://raw.githubusercontent.com/data4knowledge/biomedical_concepts/main/data/stage_12_investigational_interventions_nodes.csv', labels: ['INVESTIGATIONAL_INTERVENTIONS'] }, { fileName: 'https://raw.githubusercontent.com/data4knowledge/biomedical_concepts/main/data/stage_12_population_nodes.csv', labels: ['POPULATION'] }, { fileName: 'https://raw.githubusercontent.com/data4knowledge/biomedical_concepts/main/data/stage_12_study_design_nodes.csv', labels: ['STUDY_DESIGN'] }, { fileName: 'https://raw.githubusercontent.com/data4knowledge/biomedical_concepts/main/data/stage_12_indication_nodes.csv', labels: ['INDICATION'] }, { fileName: 'https://raw.githubusercontent.com/data4knowledge/biomedical_concepts/main/data/stage_12_study_protocol_nodes.csv', labels: ['STUDY_PROTOCOL'] }, { fileName: 'https://raw.githubusercontent.com/data4knowledge/biomedical_concepts/main/data/stage_12_study_phase_nodes.csv', labels: ['STUDY_PHASE'] }, { fileName: 'https://raw.githubusercontent.com/data4knowledge/biomedical_concepts/main/data/stage_12_study_type_nodes.csv', labels: ['STUDY_TYPE'] }, { fileName: 'https://raw.githubusercontent.com/data4knowledge/biomedical_concepts/main/data/stage_12_study_identifier_nodes.csv', labels: ['STUDY_IDENTIFIER'] }, { fileName: 'https://raw.githubusercontent.com/data4knowledge/biomedical_concepts/main/data/stage_12_study_nodes.csv', labels: ['STUDY'] }], [{ fileName: 'https://raw.githubusercontent.com/data4knowledge/biomedical_concepts/main/data/stage_12_has_coded_relationships.csv', type: 'HAS_CODED' }, { fileName: 'https://raw.githubusercontent.com/data4knowledge/biomedical_concepts/main/data/stage_12_has_endpoint_relationships.csv', type: 'HAS_ENDPOINT' }, { fileName: 'https://raw.githubusercontent.com/data4knowledge/biomedical_concepts/main/data/stage_12_has_study_data_relationships.csv', type: 'HAS_STUDY_DATA' }, { fileName: 'https://raw.githubusercontent.com/data4knowledge/biomedical_concepts/main/data/stage_12_has_procedure_relationships.csv', type: 'HAS_PROCEDURE' }, { fileName: 'https://raw.githubusercontent.com/data4knowledge/biomedical_concepts/main/data/stage_12_has_previous_activity_relationships.csv', type: 'HAS_PREVIOUS_ACTIVITY' }, { fileName: 'https://raw.githubusercontent.com/data4knowledge/biomedical_concepts/main/data/stage_12_has_previous_workflow_relationships.csv', type: 'HAS_PREVIOUS_WORKFLOW' }, { fileName: 'https://raw.githubusercontent.com/data4knowledge/biomedical_concepts/main/data/stage_12_used_in_visit_relationships.csv', type: 'USED_IN_VISIT' }, { fileName: 'https://raw.githubusercontent.com/data4knowledge/biomedical_concepts/main/data/stage_12_has_activity_relationships.csv', type: 'HAS_ACTIVITY' }, { fileName: 'https://raw.githubusercontent.com/data4knowledge/biomedical_concepts/main/data/stage_12_has_visit_relationships.csv', type: 'HAS_VISIT' }, { fileName: 'https://raw.githubusercontent.com/data4knowledge/biomedical_concepts/main/data/stage_12_has_end_rule_relationships.csv', type: 'HAS_END_RULE' }, { fileName: 'https://raw.githubusercontent.com/data4knowledge/biomedical_concepts/main/data/stage_12_has_start_rule_relationships.csv', type: 'HAS_START_RULE' }, { fileName: 'https://raw.githubusercontent.com/data4knowledge/biomedical_concepts/main/data/stage_12_has_element_relationships.csv', type: 'HAS_ELEMENT' }, { fileName: 'https://raw.githubusercontent.com/data4knowledge/biomedical_concepts/main/data/stage_12_has_epoch_relationships.csv', type: 'HAS_EPOCH' }, { fileName: 'https://raw.githubusercontent.com/data4knowledge/biomedical_concepts/main/data/stage_12_has_arm_relationships.csv', type: 'HAS_ARM' }, { fileName: 'https://raw.githubusercontent.com/data4knowledge/biomedical_concepts/main/data/stage_12_has_cell_relationships.csv', type: 'HAS_CELL' }, { fileName: 'https://raw.githubusercontent.com/data4knowledge/biomedical_concepts/main/data/stage_12_has_objective_relationships.csv', type: 'HAS_OBJECTIVE' }, { fileName: 'https://raw.githubusercontent.com/data4knowledge/biomedical_concepts/main/data/stage_12_has_indication_relationships.csv', type: 'HAS_INDICATION' }, { fileName: 'https://raw.githubusercontent.com/data4knowledge/biomedical_concepts/main/data/stage_12_has_investigational_intervention_relationships.csv', type: 'HAS_INVESTIGATIONAL_INTERVENTION' }, { fileName: 'https://raw.githubusercontent.com/data4knowledge/biomedical_concepts/main/data/stage_12_has_population_relationships.csv', type: 'HAS_POPULATION' }, { fileName: 'https://raw.githubusercontent.com/data4knowledge/biomedical_concepts/main/data/stage_12_has_study_design_relationships.csv', type: 'HAS_STUDY_DESIGN' }, { fileName: 'https://raw.githubusercontent.com/data4knowledge/biomedical_concepts/main/data/stage_12_has_protocol_relationships.csv', type: 'HAS_PROTOCOL' }, { fileName: 'https://raw.githubusercontent.com/data4knowledge/biomedical_concepts/main/data/stage_12_has_study_phase_relationships.csv', type: 'HAS_STUDY_PHASE' }, { fileName: 'https://raw.githubusercontent.com/data4knowledge/biomedical_concepts/main/data/stage_12_has_study_type_relationships.csv', type: 'HAS_STUDY_TYPE' }, { fileName: 'https://raw.githubusercontent.com/data4knowledge/biomedical_concepts/main/data/stage_12_has_identifier_relationships.csv', type: 'HAS_IDENTIFIER' }], {stringIds: false})\n",
            "<neo4j.work.result.Result object at 0x7f5e34409450>\n",
            "<Record file='progress.csv' source='file' format='csv' nodes=209 relationships=293 properties=746 time=3251 rows=0 batchSize=-1 batches=0 done=True data=None>\n"
          ]
        }
      ]
    },
    {
      "cell_type": "markdown",
      "source": [
        "So, next ...\n",
        "- Duplicate the BC and link to the study via the Study Data element\n",
        "- We could link the Study to CT\n",
        "- Add more BCs\n",
        "- Add a second study"
      ],
      "metadata": {
        "id": "BrEdmj0e9FL8"
      }
    }
  ],
  "metadata": {
    "colab": {
      "collapsed_sections": [],
      "name": "Biomedical_Concepts.ipynb",
      "provenance": []
    },
    "kernelspec": {
      "display_name": "Python 3",
      "name": "python3"
    },
    "language_info": {
      "name": "python"
    }
  },
  "nbformat": 4,
  "nbformat_minor": 0
}