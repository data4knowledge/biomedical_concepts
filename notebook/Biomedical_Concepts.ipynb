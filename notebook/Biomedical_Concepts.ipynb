{
  "cells": [
    {
      "cell_type": "markdown",
      "metadata": {
        "id": "FPlw5A04o23L"
      },
      "source": [
        "Install dependencies. There are not too many\n",
        "- Neo4j python driver\n",
        "- Library for API calls etc"
      ]
    },
    {
      "cell_type": "code",
      "execution_count": 145,
      "metadata": {
        "colab": {
          "base_uri": "https://localhost:8080/"
        },
        "id": "nsmOe6weo0Cl",
        "outputId": "098eea9d-82fc-40a6-dcd3-9a7fb51d8b9b"
      },
      "outputs": [
        {
          "output_type": "stream",
          "name": "stdout",
          "text": [
            "Requirement already satisfied: neo4j in /usr/local/lib/python3.7/dist-packages (4.4.2)\n",
            "Requirement already satisfied: pytz in /usr/local/lib/python3.7/dist-packages (from neo4j) (2018.9)\n",
            "Requirement already satisfied: requests in /usr/local/lib/python3.7/dist-packages (2.23.0)\n",
            "Requirement already satisfied: urllib3!=1.25.0,!=1.25.1,<1.26,>=1.21.1 in /usr/local/lib/python3.7/dist-packages (from requests) (1.24.3)\n",
            "Requirement already satisfied: certifi>=2017.4.17 in /usr/local/lib/python3.7/dist-packages (from requests) (2021.10.8)\n",
            "Requirement already satisfied: idna<3,>=2.5 in /usr/local/lib/python3.7/dist-packages (from requests) (2.10)\n",
            "Requirement already satisfied: chardet<4,>=3.0.2 in /usr/local/lib/python3.7/dist-packages (from requests) (3.0.4)\n"
          ]
        }
      ],
      "source": [
        "!pip install neo4j\n",
        "!pip install requests"
      ]
    },
    {
      "cell_type": "markdown",
      "metadata": {
        "id": "RPHd4d5Bkhdc"
      },
      "source": [
        "Do the imports etc."
      ]
    },
    {
      "cell_type": "code",
      "execution_count": 146,
      "metadata": {
        "id": "295nSI66kgCm"
      },
      "outputs": [],
      "source": [
        "from neo4j import GraphDatabase\n",
        "import requests\n",
        "import yaml\n",
        "import json\n",
        "import urllib.request"
      ]
    },
    {
      "cell_type": "markdown",
      "metadata": {
        "id": "wT8_2l3fAOvQ"
      },
      "source": [
        "Some general purpose methods"
      ]
    },
    {
      "cell_type": "code",
      "execution_count": 147,
      "metadata": {
        "id": "4OghcYQh_ZhR"
      },
      "outputs": [],
      "source": [
        "# Methods\n",
        "def clear(tx):\n",
        "    tx.run(\"CALL apoc.periodic.iterate('MATCH (n) WHERE NOT n:`_Neodash_Dashboard` RETURN n', 'DETACH DELETE n', {batchSize:1000})\")\n",
        "\n",
        "def file_load(load_files):\n",
        "  with driver.session() as session:\n",
        "    nodes = []\n",
        "    relationships = []\n",
        "    for file_item in load_files:\n",
        "      filename = \"%s%s\" % (load_file_dir, file_item[\"filename\"])\n",
        "      if \"label\" in file_item:\n",
        "        nodes.append(\"{ fileName: '%s', labels: ['%s'] }\" % (filename, file_item[\"label\"]) )\n",
        "      else:\n",
        "        relationships.append(\"{ fileName: '%s', type: '%s' }\" % (filename, file_item[\"type\"]) )\n",
        "    query = \"\"\"CALL apoc.import.csv( [%s], [%s], {stringIds: false})\"\"\" % (\", \".join(nodes), \", \".join(relationships))\n",
        "    print(query)\n",
        "    result = session.run(query)\n",
        "    #print(result)\n",
        "    for record in result:\n",
        "      print(record)\n",
        "  driver.close()\n",
        "\n",
        "def load_cl(ct_type, cl):\n",
        "  filename = \"%scdisc_ct_%s_nodes_%s.csv\" % (load_file_dir, ct_type, cl)\n",
        "  with driver.session() as session:\n",
        "    query = \"\"\"MATCH (p:SKOS_CONCEPT) where p.identifier = '%s' \n",
        "      WITH p\n",
        "      LOAD CSV WITH HEADERS FROM '%s' AS row\n",
        "      CREATE (p)-[:SKOS_NARROWER]->(c:SKOS_CONCEPT {id: toInteger(row.id), alt_label: row.alt_label, definition: row.definition, identifier: row.identifier, notation: row.notation, pref_label: row.pref_label, uri: row.uri})\"\"\" % (cl, filename)\n",
        "    result = session.run(query)\n",
        "    for record in result:\n",
        "      print(record)\n",
        "\n",
        "def dump_cl(cl):\n",
        "  with driver.session() as session:\n",
        "    query = \"\"\"MATCH (cs:SKOS_CONCEPT_SCHEME)-[]->(c1:SKOS_CONCEPT)-[]->(c2:SKOS_CONCEPT) WHERE c1.identifier = '%s' RETURN DISTINCT cs.version as version, c1.identifier as cl_identifier, c1.notation as cl_sub, c2.identifier as cli_identifier, c2.notation as cli_sub\"\"\" % (cl) \n",
        "    result = session.run(query)\n",
        "    for record in result:\n",
        "      print(\"%s: [%s, %s], [%s, %s]\" % (record[\"version\"], record[\"cl_identifier\"], record[\"cl_sub\"], record[\"cli_identifier\"], record[\"cli_sub\"]))\n",
        "  driver.close()\n",
        "\n",
        "def set_version(version, update, previous_version=\"\"):\n",
        "  with driver.session() as session:\n",
        "    previous_clause = \"\"\n",
        "    if previous_version != \"\":\n",
        "      previous_clause = \"\"\"\n",
        "      WITH v\n",
        "        MATCH (p:VERSION {version: '%s'})\n",
        "        MERGE (v)-[:PREVIOUS_VERSION]->(p)\"\"\" % (previous_version)\n",
        "    query = \"\"\"CREATE (v:VERSION)\n",
        "      SET v.version = '%s', v.updates = '%s'\n",
        "      %s\n",
        "    \"\"\" % (version, update, previous_clause)\n",
        "    result = session.run(query)\n",
        "  driver.close()"
      ]
    },
    {
      "cell_type": "markdown",
      "metadata": {
        "id": "lUfZpfdtFmEw"
      },
      "source": [
        "First thing we need to do is connect to the database. So to get setup\n",
        "- Connect to the DB\n",
        "- Clear the DB\n",
        "- Insert some version management nodes just so we can keep track\n"
      ]
    },
    {
      "cell_type": "code",
      "execution_count": 148,
      "metadata": {
        "colab": {
          "base_uri": "https://localhost:8080/"
        },
        "id": "fqbZcwbLnKkt",
        "outputId": "34e94827-5879-46db-b5e2-40c68994e1bc"
      },
      "outputs": [
        {
          "output_type": "stream",
          "name": "stdout",
          "text": [
            "Ready ...\n"
          ]
        }
      ],
      "source": [
        "# Load file directory\n",
        "load_file_dir = \"https://raw.githubusercontent.com/data4knowledge/biomedical_concepts/main/data/csv_load/\"\n",
        "\n",
        "# Connect to the Neo4j DB. You need a line like one of these examples ...\n",
        "# For Neo4j Sandbox use: driver = GraphDatabase.driver(\"neo4j://n.n.n.n:7687\", auth=(\"username\", \"password\"))\n",
        "# For Neo4j Aura use:    driver = GraphDatabase.driver(\"neo4j+s://url_for_aura\", auth=(\"username\", \"password\"))\n",
        "\n",
        "\n",
        "with driver.session() as session:\n",
        "    session.write_transaction(clear)\n",
        "driver.close()\n",
        "\n",
        "# USeful query for MATCH path=(a:ACTIVITY)-[r:HAS_PREVIOUS_ACTIVITY]->(b:ACTIVITY) RETURN b.description as desc ORDER BY LENGTH(path) ASC;\n",
        "set_version(\"0.1\", \"First version, basic SDTM domain ganeration.\")\n",
        "set_version(\"0.2\", \"Add more BCs for DM domain.\", \"0.1\")\n",
        "set_version(\"0.3\", \"Set up DM from the study.\", \"0.2\")\n",
        "set_version(\"0.4\", \"Associate BCs with domains.\", \"0.3\")\n",
        "print(\"Ready ...\")\n"
      ]
    },
    {
      "cell_type": "markdown",
      "metadata": {
        "id": "hCjYsNHTmpXP"
      },
      "source": [
        "First create the FHIR data types. Need this before anything else.\n"
      ]
    },
    {
      "cell_type": "code",
      "execution_count": 149,
      "metadata": {
        "colab": {
          "base_uri": "https://localhost:8080/"
        },
        "id": "p4ulFrLPkpJl",
        "outputId": "f8eb5003-88f9-4713-9615-dcbf88c36f05"
      },
      "outputs": [
        {
          "output_type": "stream",
          "name": "stdout",
          "text": [
            "CALL apoc.import.csv( [{ fileName: 'https://raw.githubusercontent.com/data4knowledge/biomedical_concepts/main/data/csv_load/stage_1_fhir_nodes.csv', labels: ['FHIR'] }, { fileName: 'https://raw.githubusercontent.com/data4knowledge/biomedical_concepts/main/data/csv_load/stage_1_web_source_nodes.csv', labels: ['WEB_SOURCE'] }, { fileName: 'https://raw.githubusercontent.com/data4knowledge/biomedical_concepts/main/data/csv_load/stage_1_fhir_data_type_nodes.csv', labels: ['FHIR_DATA_TYPE'] }, { fileName: 'https://raw.githubusercontent.com/data4knowledge/biomedical_concepts/main/data/csv_load/stage_1_fhir_data_type_property_nodes.csv', labels: ['FHIR_DATA_TYPE_PROPERTY'] }], [{ fileName: 'https://raw.githubusercontent.com/data4knowledge/biomedical_concepts/main/data/csv_load/stage_1_has_data_type_property_relationships.csv', type: 'HAS_DATA_TYPE_PROPERTY' }, { fileName: 'https://raw.githubusercontent.com/data4knowledge/biomedical_concepts/main/data/csv_load/stage_1_from_source_relationships.csv', type: 'FROM_SOURCE' }, { fileName: 'https://raw.githubusercontent.com/data4knowledge/biomedical_concepts/main/data/csv_load/stage_1_has_data_type_relationships.csv', type: 'HAS_DATA_TYPE' }], {stringIds: false})\n",
            "<Record file='progress.csv' source='file' format='csv' nodes=16 relationships=15 properties=60 time=1342 rows=0 batchSize=-1 batches=0 done=True data=None>\n"
          ]
        }
      ],
      "source": [
        "stage_1_files = [ \n",
        "    { \"label\": \"FHIR\", \"filename\": \"stage_1_fhir_nodes.csv\" },\n",
        "    { \"label\": \"WEB_SOURCE\", \"filename\": \"stage_1_web_source_nodes.csv\" },\n",
        "    { \"label\": \"FHIR_DATA_TYPE\", \"filename\": \"stage_1_fhir_data_type_nodes.csv\" },\n",
        "    { \"label\": \"FHIR_DATA_TYPE_PROPERTY\", \"filename\": \"stage_1_fhir_data_type_property_nodes.csv\" },\n",
        "    { \"type\": \"HAS_DATA_TYPE_PROPERTY\", \"filename\": \"stage_1_has_data_type_property_relationships.csv\" },\n",
        "    { \"type\": \"FROM_SOURCE\", \"filename\": \"stage_1_from_source_relationships.csv\" },\n",
        "    { \"type\": \"HAS_DATA_TYPE\", \"filename\": \"stage_1_has_data_type_relationships.csv\" }\n",
        "  ]\n",
        "\n",
        "file_load(stage_1_files)"
      ]
    },
    {
      "cell_type": "markdown",
      "metadata": {
        "id": "y2X4GzLForm7"
      },
      "source": [
        "Now check we have loaded ok. Check the FHIR version, should be 4.0.1\n",
        "\n",
        "View the dashboard to see the types loaded."
      ]
    },
    {
      "cell_type": "code",
      "execution_count": 150,
      "metadata": {
        "colab": {
          "base_uri": "https://localhost:8080/"
        },
        "id": "QNsq3ykEnysr",
        "outputId": "cfb33fff-51eb-468b-a508-df56c71ba649"
      },
      "outputs": [
        {
          "output_type": "stream",
          "name": "stdout",
          "text": [
            "Version:  4.0.1\n"
          ]
        }
      ],
      "source": [
        "with driver.session() as session:\n",
        "  query = \"\"\"MATCH (n:FHIR) Return n.version as version\"\"\" \n",
        "  result = session.run(query)\n",
        "  for record in result:\n",
        "    print(\"Version: \", record[\"version\"])\n",
        "\n",
        "driver.close()"
      ]
    },
    {
      "cell_type": "markdown",
      "metadata": {
        "id": "ARXjjZrAGFbi"
      },
      "source": [
        "Now load the canonical model."
      ]
    },
    {
      "cell_type": "code",
      "execution_count": 151,
      "metadata": {
        "colab": {
          "base_uri": "https://localhost:8080/"
        },
        "id": "hklRXVFUKGNK",
        "outputId": "857eb466-019b-47d1-f7fc-5ec5aa2fdc0b"
      },
      "outputs": [
        {
          "output_type": "stream",
          "name": "stdout",
          "text": [
            "CALL apoc.import.csv( [{ fileName: 'https://raw.githubusercontent.com/data4knowledge/biomedical_concepts/main/data/csv_load/stage_2_canonical_model_nodes.csv', labels: ['CANONICAL_MODEL'] }, { fileName: 'https://raw.githubusercontent.com/data4knowledge/biomedical_concepts/main/data/csv_load/stage_2_canonical_node_nodes.csv', labels: ['CANONICAL_NODE'] }, { fileName: 'https://raw.githubusercontent.com/data4knowledge/biomedical_concepts/main/data/csv_load/stage_2_canonical_data_type_nodes.csv', labels: ['CANONICAL_DATA_TYPE'] }, { fileName: 'https://raw.githubusercontent.com/data4knowledge/biomedical_concepts/main/data/csv_load/stage_2_other_source_nodes.csv', labels: ['OTHER_SOURCE'] }], [{ fileName: 'https://raw.githubusercontent.com/data4knowledge/biomedical_concepts/main/data/csv_load/stage_2_consists_of_relationships.csv', type: 'CONSISTS_OF' }, { fileName: 'https://raw.githubusercontent.com/data4knowledge/biomedical_concepts/main/data/csv_load/stage_2_from_source_relationships.csv', type: 'FROM_SOURCE' }, { fileName: 'https://raw.githubusercontent.com/data4knowledge/biomedical_concepts/main/data/csv_load/stage_2_has_sub_model_relationships.csv', type: 'HAS_SUB_MODEL' }, { fileName: 'https://raw.githubusercontent.com/data4knowledge/biomedical_concepts/main/data/csv_load/stage_2_has_data_type_relationships.csv', type: 'HAS_DATA_TYPE' }], {stringIds: false})\n",
            "<Record file='progress.csv' source='file' format='csv' nodes=73 relationships=82 properties=219 time=1465 rows=0 batchSize=-1 batches=0 done=True data=None>\n"
          ]
        }
      ],
      "source": [
        "stage_2_files = [ \n",
        "    { \"label\": \"CANONICAL_MODEL\", \"filename\": \"stage_2_canonical_model_nodes.csv\" },\n",
        "    { \"label\": \"CANONICAL_NODE\", \"filename\": \"stage_2_canonical_node_nodes.csv\" },\n",
        "    { \"label\": \"CANONICAL_DATA_TYPE\", \"filename\": \"stage_2_canonical_data_type_nodes.csv\" },\n",
        "    { \"label\": \"OTHER_SOURCE\", \"filename\": \"stage_2_other_source_nodes.csv\" },\n",
        "    { \"type\": \"CONSISTS_OF\", \"filename\": \"stage_2_consists_of_relationships.csv\" },\n",
        "    { \"type\": \"FROM_SOURCE\", \"filename\": \"stage_2_from_source_relationships.csv\" },\n",
        "    { \"type\": \"HAS_SUB_MODEL\", \"filename\": \"stage_2_has_sub_model_relationships.csv\" },\n",
        "    { \"type\": \"HAS_DATA_TYPE\", \"filename\": \"stage_2_has_data_type_relationships.csv\" }\n",
        "]\n",
        "\n",
        "file_load(stage_2_files)"
      ]
    },
    {
      "cell_type": "markdown",
      "metadata": {
        "id": "592LExsq_Su0"
      },
      "source": [
        "Check a few relationships exist in the canonical model. Should get three results.\n",
        "\n",
        "* THERAPEUTIC INTERVENTION\n",
        "* OBSERVATION\n",
        "* ADVERSE EVENT\n",
        "\n"
      ]
    },
    {
      "cell_type": "code",
      "execution_count": 152,
      "metadata": {
        "colab": {
          "base_uri": "https://localhost:8080/"
        },
        "id": "Xn5dPGqB_Xj6",
        "outputId": "a30aa1c8-150d-450c-81eb-5dd05ce54053"
      },
      "outputs": [
        {
          "output_type": "stream",
          "name": "stdout",
          "text": [
            "CANONICAL MODEL -> THERAPEUTIC INTERVENTION -> Location: \n",
            "CANONICAL MODEL -> OBSERVATION -> Location: \n",
            "CANONICAL MODEL -> ADVERSE EVENT -> Location: \n"
          ]
        }
      ],
      "source": [
        "with driver.session() as session:\n",
        "  query = \"\"\"MATCH (r)-[]->(t)-[]->(n:CANONICAL_NODE) WHERE n.name=\"LOCATION\" RETURN r.name as root_name, t.name as name\"\"\" \n",
        "  result = session.run(query)\n",
        "  for record in result:\n",
        "    print(\"%s -> %s -> Location: \" % (record[\"root_name\"], record[\"name\"]))\n",
        "\n",
        "driver.close()"
      ]
    },
    {
      "cell_type": "markdown",
      "metadata": {
        "id": "7jVCaoeWtLjw"
      },
      "source": [
        "Now link the canonical nodes and the data types using the name as the key. For each \"leaf\" Canonical node we have the meaningful nodes (LOCATION, METHOD etc) and a child node defining the type of data that can be collected. This is keyed by the data type name so we can match them up. Note that there may be more than one data type for each meaningful node."
      ]
    },
    {
      "cell_type": "code",
      "execution_count": 153,
      "metadata": {
        "colab": {
          "base_uri": "https://localhost:8080/"
        },
        "id": "3X3RfadUrvAP",
        "outputId": "467a7e5b-0d51-4b4e-cd71-a952fe04bac4"
      },
      "outputs": [
        {
          "output_type": "stream",
          "name": "stdout",
          "text": [
            "[PORTION, coding] -> [FHIR, coding]\n",
            "[DIRECTIONALITY, coding] -> [FHIR, coding]\n",
            "[LATERALITY, coding] -> [FHIR, coding]\n",
            "[TEST, coding] -> [FHIR, coding]\n",
            "[RESULT, coding] -> [FHIR, coding]\n",
            "[RESULT, quantity] -> [FHIR, quantity]\n",
            "[DATE TIME, date_time] -> [FHIR, date_time]\n"
          ]
        }
      ],
      "source": [
        "def link_data_types(parent_node_label, data_type_label):\n",
        "  with driver.session() as session:\n",
        "    query = \"\"\"MATCH (dt:%s) WHERE NOT (dt)-[:IS_A]->()\n",
        "      WITH dt\n",
        "      MATCH (pn:%s)-[]->(dt)\n",
        "      WITH pn, dt\n",
        "      MATCH (n:FHIR_DATA_TYPE) WHERE dt.name = n.name\n",
        "      CREATE (dt)-[:IS_A]->(n)\n",
        "      RETURN pn.uri as uri, pn.name as parent_name, n.name as fdt_name, dt.name as dt_name;\n",
        "    \"\"\" % (data_type_label, parent_node_label)\n",
        "    result = session.run(query)\n",
        "    for record in result:\n",
        "      print(\"[%s, %s] -> [FHIR, %s]\" % (record['parent_name'], record[\"dt_name\"], record[\"fdt_name\"]))\n",
        "\n",
        "  driver.close()\n",
        "\n",
        "link_data_types(\"CANONICAL_NODE\", \"CANONICAL_DATA_TYPE\")"
      ]
    },
    {
      "cell_type": "markdown",
      "metadata": {
        "id": "x1ws1F7zpwdN"
      },
      "source": [
        "Now create the data type nodes for the canonical mode. For each canonical node that references a data type copy the properties of that data type to the canonical node. Give each canonical leaf a unique id (a uri). Also change the lable of the node so they are Canonical Data Type nodes rather than FHIR ones.\n",
        "\n",
        "In the future these nodes should also have a C code reference providing a definition for the data item.\n"
      ]
    },
    {
      "cell_type": "code",
      "execution_count": 154,
      "metadata": {
        "colab": {
          "base_uri": "https://localhost:8080/"
        },
        "id": "-EBgVQrPqDIe",
        "outputId": "fd4135f0-f15f-4ca2-aa55-15da0c2bffd3"
      },
      "outputs": [
        {
          "output_type": "stream",
          "name": "stdout",
          "text": [
            "Node duplicated: http://id.d4k.dk/dataset/canonical/common/location/portion/coding/user_selected, user_selected\n",
            "Node duplicated: http://id.d4k.dk/dataset/canonical/common/location/portion/coding/display, display\n",
            "Node duplicated: http://id.d4k.dk/dataset/canonical/common/location/portion/coding/code, code\n",
            "Node duplicated: http://id.d4k.dk/dataset/canonical/common/location/portion/coding/version, version\n",
            "Node duplicated: http://id.d4k.dk/dataset/canonical/common/location/portion/coding/system, system\n",
            "Node duplicated: http://id.d4k.dk/dataset/canonical/common/location/directionality/coding/user_selected, user_selected\n",
            "Node duplicated: http://id.d4k.dk/dataset/canonical/common/location/directionality/coding/display, display\n",
            "Node duplicated: http://id.d4k.dk/dataset/canonical/common/location/directionality/coding/code, code\n",
            "Node duplicated: http://id.d4k.dk/dataset/canonical/common/location/directionality/coding/version, version\n",
            "Node duplicated: http://id.d4k.dk/dataset/canonical/common/location/directionality/coding/system, system\n",
            "Node duplicated: http://id.d4k.dk/dataset/canonical/common/location/laterality/coding/user_selected, user_selected\n",
            "Node duplicated: http://id.d4k.dk/dataset/canonical/common/location/laterality/coding/display, display\n",
            "Node duplicated: http://id.d4k.dk/dataset/canonical/common/location/laterality/coding/code, code\n",
            "Node duplicated: http://id.d4k.dk/dataset/canonical/common/location/laterality/coding/version, version\n",
            "Node duplicated: http://id.d4k.dk/dataset/canonical/common/location/laterality/coding/system, system\n",
            "Node duplicated: http://id.d4k.dk/dataset/canonical/common/date_time/date_time/value, value\n",
            "Node duplicated: http://id.d4k.dk/dataset/canonical/observation/test/coding/user_selected, user_selected\n",
            "Node duplicated: http://id.d4k.dk/dataset/canonical/observation/test/coding/display, display\n",
            "Node duplicated: http://id.d4k.dk/dataset/canonical/observation/test/coding/code, code\n",
            "Node duplicated: http://id.d4k.dk/dataset/canonical/observation/test/coding/version, version\n",
            "Node duplicated: http://id.d4k.dk/dataset/canonical/observation/test/coding/system, system\n",
            "Node duplicated: http://id.d4k.dk/dataset/canonical/observation/observation_result/result/coding/user_selected, user_selected\n",
            "Node duplicated: http://id.d4k.dk/dataset/canonical/observation/observation_result/result/coding/display, display\n",
            "Node duplicated: http://id.d4k.dk/dataset/canonical/observation/observation_result/result/coding/code, code\n",
            "Node duplicated: http://id.d4k.dk/dataset/canonical/observation/observation_result/result/coding/version, version\n",
            "Node duplicated: http://id.d4k.dk/dataset/canonical/observation/observation_result/result/coding/system, system\n",
            "Node duplicated: http://id.d4k.dk/dataset/canonical/observation/observation_result/result/quantity/unit, unit\n",
            "Node duplicated: http://id.d4k.dk/dataset/canonical/observation/observation_result/result/quantity/code, code\n",
            "Node duplicated: http://id.d4k.dk/dataset/canonical/observation/observation_result/result/quantity/comparator, comparator\n",
            "Node duplicated: http://id.d4k.dk/dataset/canonical/observation/observation_result/result/quantity/value, value\n",
            "Node duplicated: http://id.d4k.dk/dataset/canonical/observation/observation_result/result/quantity/system, system\n"
          ]
        }
      ],
      "source": [
        "def duplicate_data_type_nodes(data_type_label, data_type_property_label):\n",
        "  uri_data = []\n",
        "  with driver.session() as session:\n",
        "  \n",
        "    query = \"\"\"MATCH (n:%s) WHERE NOT (n)-[:HAS_DATA_TYPE_PROPERTY]->()\n",
        "      WITH n\n",
        "      MATCH (n)-[:IS_A]->(dt:FHIR_DATA_TYPE)\n",
        "      WITH n, dt\n",
        "      CALL apoc.path.subgraphAll(dt, {relationshipFilter:'HAS_DATA_TYPE_PROPERTY>'})\n",
        "      YIELD nodes, relationships\n",
        "      CALL apoc.refactor.cloneSubgraph(\n",
        "        nodes,\n",
        "        [rel in relationships WHERE type(rel) = 'HAS_DATA_TYPE_PROPERTY'],\n",
        "        { standinNodes:[[dt, n]] })\n",
        "      YIELD input, output, error\n",
        "      RETURN output;\n",
        "    \"\"\" % (data_type_label)\n",
        "    result = session.run(query)\n",
        "    for record in result:\n",
        "      node = record[\"output\"]\n",
        "      uri_data.append({\"id\": node.id})\n",
        " \n",
        "    query = \"\"\"UNWIND $uri_data AS d\n",
        "      MATCH (p)-[]->(n) WHERE ID(n)=d.id\n",
        "      SET n.uri = p.uri + '/' + n.name\n",
        "      REMOVE n:FHIR_DATA_TYPE_PROPERTY\n",
        "      SET n:%s RETURN n.uri as uri, n.name as name\"\"\" % (data_type_property_label)\n",
        "    result = session.run(query, uri_data=uri_data)\n",
        "    for record in result:\n",
        "      print(\"Node duplicated: %s, %s\" % (record[\"uri\"], record[\"name\"]))\n",
        "  driver.close()\n",
        "\n",
        "duplicate_data_type_nodes(\"CANONICAL_DATA_TYPE\", \"CANONICAL_DATA_TYPE_PROPERTY\")\n"
      ]
    },
    {
      "cell_type": "markdown",
      "metadata": {
        "id": "V7gprmFPLtzs"
      },
      "source": [
        "Now load some terminology. We load just the SDTM terms (it is all we need for the moment). Just load the Code List definitions not every single item with every code list, just too big a load in one go."
      ]
    },
    {
      "cell_type": "code",
      "execution_count": 155,
      "metadata": {
        "colab": {
          "base_uri": "https://localhost:8080/"
        },
        "id": "nZ8TGB5bLzuR",
        "outputId": "13fcecce-f06a-4ad5-cf3d-5780bc2b94dd"
      },
      "outputs": [
        {
          "output_type": "stream",
          "name": "stdout",
          "text": [
            "CALL apoc.import.csv( [{ fileName: 'https://raw.githubusercontent.com/data4knowledge/biomedical_concepts/main/data/csv_load/stage_3_api_source_nodes.csv', labels: ['API_SOURCE'] }, { fileName: 'https://raw.githubusercontent.com/data4knowledge/biomedical_concepts/main/data/csv_load/stage_3_skos_concept_nodes.csv', labels: ['SKOS_CONCEPT'] }, { fileName: 'https://raw.githubusercontent.com/data4knowledge/biomedical_concepts/main/data/csv_load/stage_3_skos_concept_scheme_nodes.csv', labels: ['SKOS_CONCEPT_SCHEME'] }], [{ fileName: 'https://raw.githubusercontent.com/data4knowledge/biomedical_concepts/main/data/csv_load/stage_3_from_source_relationships.csv', type: 'FROM_SOURCE' }, { fileName: 'https://raw.githubusercontent.com/data4knowledge/biomedical_concepts/main/data/csv_load/stage_3_skos_has_top_concept_relationships.csv', type: 'SKOS_HAS_TOP_CONCEPT' }], {stringIds: false})\n",
            "<Record file='progress.csv' source='file' format='csv' nodes=986 relationships=985 properties=8868 time=1057 rows=0 batchSize=-1 batches=0 done=True data=None>\n"
          ]
        }
      ],
      "source": [
        "stage_3_files = [ \n",
        "    { \"label\": \"API_SOURCE\", \"filename\": \"stage_3_api_source_nodes.csv\" },\n",
        "    { \"label\": \"SKOS_CONCEPT\", \"filename\": \"stage_3_skos_concept_nodes.csv\" },\n",
        "    { \"label\": \"SKOS_CONCEPT_SCHEME\", \"filename\": \"stage_3_skos_concept_scheme_nodes.csv\" },\n",
        "    { \"type\": \"FROM_SOURCE\", \"filename\": \"stage_3_from_source_relationships.csv\" },\n",
        "    { \"type\": \"SKOS_HAS_TOP_CONCEPT\", \"filename\": \"stage_3_skos_has_top_concept_relationships.csv\" }\n",
        "  ]\n",
        "\n",
        "file_load(stage_3_files)"
      ]
    },
    {
      "cell_type": "markdown",
      "metadata": {
        "id": "QiRuZP8IAQRA"
      },
      "source": [
        "Do a quick test on the CT. Check AGEU and its links"
      ]
    },
    {
      "cell_type": "code",
      "execution_count": 156,
      "metadata": {
        "colab": {
          "base_uri": "https://localhost:8080/"
        },
        "id": "OsWcQe73_m5E",
        "outputId": "bab898f0-3771-4c78-eb53-e252b480951f"
      },
      "outputs": [
        {
          "output_type": "stream",
          "name": "stdout",
          "text": [
            "2021-12-17: C66781\n"
          ]
        }
      ],
      "source": [
        "with driver.session() as session:\n",
        "  query = \"\"\"MATCH (cs)-[]->(c1:SKOS_CONCEPT) WHERE c1.notation = 'AGEU' RETURN DISTINCT cs.version as version, c1.identifier as cl_identifier\"\"\" \n",
        "  result = session.run(query)\n",
        "  for record in result:\n",
        "    print (\"%s: %s\" % (record[\"version\"], record[\"cl_identifier\"]))\n",
        "driver.close()"
      ]
    },
    {
      "cell_type": "markdown",
      "metadata": {
        "id": "ra9rORPF_XTs"
      },
      "source": [
        "Stage 4 to 9 are the CT files for the other areas, ADaM, Protocol, CDASH etc. Not loaded at the moment. Needed to split due to size and limited RAM on the Neo4j server."
      ]
    },
    {
      "cell_type": "markdown",
      "metadata": {
        "id": "XqSSsdqjegVr"
      },
      "source": [
        "Now load BC Templates"
      ]
    },
    {
      "cell_type": "code",
      "execution_count": 157,
      "metadata": {
        "colab": {
          "base_uri": "https://localhost:8080/"
        },
        "id": "95FBnpzp9T5z",
        "outputId": "a9cba8d9-0a33-40f2-842c-17569c10db18"
      },
      "outputs": [
        {
          "output_type": "stream",
          "name": "stdout",
          "text": [
            "CALL apoc.import.csv( [{ fileName: 'https://raw.githubusercontent.com/data4knowledge/biomedical_concepts/main/data/csv_load/stage_10_other_source_nodes.csv', labels: ['OTHER_SOURCE'] }, { fileName: 'https://raw.githubusercontent.com/data4knowledge/biomedical_concepts/main/data/csv_load/stage_10_bc_data_type_nodes.csv', labels: ['BC_DATA_TYPE'] }, { fileName: 'https://raw.githubusercontent.com/data4knowledge/biomedical_concepts/main/data/csv_load/stage_10_bc_item_nodes.csv', labels: ['BC_ITEM'] }, { fileName: 'https://raw.githubusercontent.com/data4knowledge/biomedical_concepts/main/data/csv_load/stage_10_bc_template_nodes.csv', labels: ['BC_TEMPLATE'] }], [{ fileName: 'https://raw.githubusercontent.com/data4knowledge/biomedical_concepts/main/data/csv_load/stage_10_from_source_relationships.csv', type: 'FROM_SOURCE' }, { fileName: 'https://raw.githubusercontent.com/data4knowledge/biomedical_concepts/main/data/csv_load/stage_10_has_data_type_relationships.csv', type: 'HAS_DATA_TYPE' }, { fileName: 'https://raw.githubusercontent.com/data4knowledge/biomedical_concepts/main/data/csv_load/stage_10_has_identifier_relationships.csv', type: 'HAS_IDENTIFIER' }, { fileName: 'https://raw.githubusercontent.com/data4knowledge/biomedical_concepts/main/data/csv_load/stage_10_has_item_relationships.csv', type: 'HAS_ITEM' }], {stringIds: false})\n",
            "<Record file='progress.csv' source='file' format='csv' nodes=37 relationships=38 properties=159 time=1496 rows=0 batchSize=-1 batches=0 done=True data=None>\n"
          ]
        }
      ],
      "source": [
        "stage_10_files = [ \n",
        "    { \"label\": \"OTHER_SOURCE\", \"filename\": \"stage_10_other_source_nodes.csv\" },\n",
        "    { \"label\": \"BC_DATA_TYPE\", \"filename\": \"stage_10_bc_data_type_nodes.csv\" },\n",
        "    { \"label\": \"BC_ITEM\", \"filename\": \"stage_10_bc_item_nodes.csv\" },\n",
        "    { \"label\": \"BC_TEMPLATE\", \"filename\": \"stage_10_bc_template_nodes.csv\" },\n",
        "    { \"type\": \"FROM_SOURCE\", \"filename\": \"stage_10_from_source_relationships.csv\" },\n",
        "    { \"type\": \"HAS_DATA_TYPE\", \"filename\": \"stage_10_has_data_type_relationships.csv\" },\n",
        "    { \"type\": \"HAS_IDENTIFIER\", \"filename\": \"stage_10_has_identifier_relationships.csv\" },\n",
        "    { \"type\": \"HAS_ITEM\", \"filename\": \"stage_10_has_item_relationships.csv\" }\n",
        "  ]\n",
        "\n",
        "file_load(stage_10_files)"
      ]
    },
    {
      "cell_type": "markdown",
      "metadata": {
        "id": "E0GmZ2_7IffV"
      },
      "source": [
        "Now add in the data types nodes for the templates. Copy from the data types to the templates "
      ]
    },
    {
      "cell_type": "code",
      "execution_count": 158,
      "metadata": {
        "colab": {
          "base_uri": "https://localhost:8080/"
        },
        "id": "iCWSwyC5GLdm",
        "outputId": "83fabf5f-2aa4-45b2-d3dc-6258a3f7b648"
      },
      "outputs": [
        {
          "output_type": "stream",
          "name": "stdout",
          "text": [
            "[Test, coding] -> [FHIR, coding]\n",
            "[Position, coding] -> [FHIR, coding]\n",
            "[Site of Administration, coding] -> [FHIR, coding]\n",
            "[Laterality, coding] -> [FHIR, coding]\n",
            "[Method, coding] -> [FHIR, coding]\n",
            "[Result, coding] -> [FHIR, coding]\n",
            "[Test, coding] -> [FHIR, coding]\n",
            "[Position, coding] -> [FHIR, coding]\n",
            "[Site of Administration, coding] -> [FHIR, coding]\n",
            "[Laterality, coding] -> [FHIR, coding]\n",
            "[Directionality, coding] -> [FHIR, coding]\n",
            "[Method, coding] -> [FHIR, coding]\n",
            "[Result, coding] -> [FHIR, coding]\n",
            "[Specimen, coding] -> [FHIR, coding]\n",
            "[Result, quantity] -> [FHIR, quantity]\n",
            "[Result, quantity] -> [FHIR, quantity]\n",
            "[Date Time, date_time] -> [FHIR, date_time]\n",
            "[Date Time, date_time] -> [FHIR, date_time]\n",
            "Node duplicated: http://id.d4k.dk/dataset/bc_template/base_observation/test/coding/user_selected, user_selected\n",
            "Node duplicated: http://id.d4k.dk/dataset/bc_template/base_observation/test/coding/display, display\n",
            "Node duplicated: http://id.d4k.dk/dataset/bc_template/base_observation/test/coding/code, code\n",
            "Node duplicated: http://id.d4k.dk/dataset/bc_template/base_observation/test/coding/version, version\n",
            "Node duplicated: http://id.d4k.dk/dataset/bc_template/base_observation/test/coding/system, system\n",
            "Node duplicated: http://id.d4k.dk/dataset/bc_template/base_observation/position/coding/user_selected, user_selected\n",
            "Node duplicated: http://id.d4k.dk/dataset/bc_template/base_observation/position/coding/display, display\n",
            "Node duplicated: http://id.d4k.dk/dataset/bc_template/base_observation/position/coding/code, code\n",
            "Node duplicated: http://id.d4k.dk/dataset/bc_template/base_observation/position/coding/version, version\n",
            "Node duplicated: http://id.d4k.dk/dataset/bc_template/base_observation/position/coding/system, system\n",
            "Node duplicated: http://id.d4k.dk/dataset/bc_template/base_observation/site_of_administration/coding/user_selected, user_selected\n",
            "Node duplicated: http://id.d4k.dk/dataset/bc_template/base_observation/site_of_administration/coding/display, display\n",
            "Node duplicated: http://id.d4k.dk/dataset/bc_template/base_observation/site_of_administration/coding/code, code\n",
            "Node duplicated: http://id.d4k.dk/dataset/bc_template/base_observation/site_of_administration/coding/version, version\n",
            "Node duplicated: http://id.d4k.dk/dataset/bc_template/base_observation/site_of_administration/coding/system, system\n",
            "Node duplicated: http://id.d4k.dk/dataset/bc_template/base_observation/laterality/coding/user_selected, user_selected\n",
            "Node duplicated: http://id.d4k.dk/dataset/bc_template/base_observation/laterality/coding/display, display\n",
            "Node duplicated: http://id.d4k.dk/dataset/bc_template/base_observation/laterality/coding/code, code\n",
            "Node duplicated: http://id.d4k.dk/dataset/bc_template/base_observation/laterality/coding/version, version\n",
            "Node duplicated: http://id.d4k.dk/dataset/bc_template/base_observation/laterality/coding/system, system\n",
            "Node duplicated: http://id.d4k.dk/dataset/bc_template/base_observation/method/coding/user_selected, user_selected\n",
            "Node duplicated: http://id.d4k.dk/dataset/bc_template/base_observation/method/coding/display, display\n",
            "Node duplicated: http://id.d4k.dk/dataset/bc_template/base_observation/method/coding/code, code\n",
            "Node duplicated: http://id.d4k.dk/dataset/bc_template/base_observation/method/coding/version, version\n",
            "Node duplicated: http://id.d4k.dk/dataset/bc_template/base_observation/method/coding/system, system\n",
            "Node duplicated: http://id.d4k.dk/dataset/bc_template/base_observation/date_time/date_time/value, value\n",
            "Node duplicated: http://id.d4k.dk/dataset/bc_template/base_observation/result/quantity/unit, unit\n",
            "Node duplicated: http://id.d4k.dk/dataset/bc_template/base_observation/result/quantity/code, code\n",
            "Node duplicated: http://id.d4k.dk/dataset/bc_template/base_observation/result/quantity/comparator, comparator\n",
            "Node duplicated: http://id.d4k.dk/dataset/bc_template/base_observation/result/quantity/value, value\n",
            "Node duplicated: http://id.d4k.dk/dataset/bc_template/base_observation/result/quantity/system, system\n",
            "Node duplicated: http://id.d4k.dk/dataset/bc_template/base_observation/result/coding/user_selected, user_selected\n",
            "Node duplicated: http://id.d4k.dk/dataset/bc_template/base_observation/result/coding/display, display\n",
            "Node duplicated: http://id.d4k.dk/dataset/bc_template/base_observation/result/coding/code, code\n",
            "Node duplicated: http://id.d4k.dk/dataset/bc_template/base_observation/result/coding/version, version\n",
            "Node duplicated: http://id.d4k.dk/dataset/bc_template/base_observation/result/coding/system, system\n",
            "Node duplicated: http://id.d4k.dk/dataset/bc_template/base_laboratory/test/coding/user_selected, user_selected\n",
            "Node duplicated: http://id.d4k.dk/dataset/bc_template/base_laboratory/test/coding/display, display\n",
            "Node duplicated: http://id.d4k.dk/dataset/bc_template/base_laboratory/test/coding/code, code\n",
            "Node duplicated: http://id.d4k.dk/dataset/bc_template/base_laboratory/test/coding/version, version\n",
            "Node duplicated: http://id.d4k.dk/dataset/bc_template/base_laboratory/test/coding/system, system\n",
            "Node duplicated: http://id.d4k.dk/dataset/bc_template/base_laboratory/position/coding/user_selected, user_selected\n",
            "Node duplicated: http://id.d4k.dk/dataset/bc_template/base_laboratory/position/coding/display, display\n",
            "Node duplicated: http://id.d4k.dk/dataset/bc_template/base_laboratory/position/coding/code, code\n",
            "Node duplicated: http://id.d4k.dk/dataset/bc_template/base_laboratory/position/coding/version, version\n",
            "Node duplicated: http://id.d4k.dk/dataset/bc_template/base_laboratory/position/coding/system, system\n",
            "Node duplicated: http://id.d4k.dk/dataset/bc_template/base_laboratory/site_of_administration/coding/user_selected, user_selected\n",
            "Node duplicated: http://id.d4k.dk/dataset/bc_template/base_laboratory/site_of_administration/coding/display, display\n",
            "Node duplicated: http://id.d4k.dk/dataset/bc_template/base_laboratory/site_of_administration/coding/code, code\n",
            "Node duplicated: http://id.d4k.dk/dataset/bc_template/base_laboratory/site_of_administration/coding/version, version\n",
            "Node duplicated: http://id.d4k.dk/dataset/bc_template/base_laboratory/site_of_administration/coding/system, system\n",
            "Node duplicated: http://id.d4k.dk/dataset/bc_template/base_laboratory/laterality/coding/user_selected, user_selected\n",
            "Node duplicated: http://id.d4k.dk/dataset/bc_template/base_laboratory/laterality/coding/display, display\n",
            "Node duplicated: http://id.d4k.dk/dataset/bc_template/base_laboratory/laterality/coding/code, code\n",
            "Node duplicated: http://id.d4k.dk/dataset/bc_template/base_laboratory/laterality/coding/version, version\n",
            "Node duplicated: http://id.d4k.dk/dataset/bc_template/base_laboratory/laterality/coding/system, system\n",
            "Node duplicated: http://id.d4k.dk/dataset/bc_template/base_laboratory/directionality/coding/user_selected, user_selected\n",
            "Node duplicated: http://id.d4k.dk/dataset/bc_template/base_laboratory/directionality/coding/display, display\n",
            "Node duplicated: http://id.d4k.dk/dataset/bc_template/base_laboratory/directionality/coding/code, code\n",
            "Node duplicated: http://id.d4k.dk/dataset/bc_template/base_laboratory/directionality/coding/version, version\n",
            "Node duplicated: http://id.d4k.dk/dataset/bc_template/base_laboratory/directionality/coding/system, system\n",
            "Node duplicated: http://id.d4k.dk/dataset/bc_template/base_laboratory/method/coding/user_selected, user_selected\n",
            "Node duplicated: http://id.d4k.dk/dataset/bc_template/base_laboratory/method/coding/display, display\n",
            "Node duplicated: http://id.d4k.dk/dataset/bc_template/base_laboratory/method/coding/code, code\n",
            "Node duplicated: http://id.d4k.dk/dataset/bc_template/base_laboratory/method/coding/version, version\n",
            "Node duplicated: http://id.d4k.dk/dataset/bc_template/base_laboratory/method/coding/system, system\n",
            "Node duplicated: http://id.d4k.dk/dataset/bc_template/base_laboratory/date_time/date_time/value, value\n",
            "Node duplicated: http://id.d4k.dk/dataset/bc_template/base_laboratory/result/quantity/unit, unit\n",
            "Node duplicated: http://id.d4k.dk/dataset/bc_template/base_laboratory/result/quantity/code, code\n",
            "Node duplicated: http://id.d4k.dk/dataset/bc_template/base_laboratory/result/quantity/comparator, comparator\n",
            "Node duplicated: http://id.d4k.dk/dataset/bc_template/base_laboratory/result/quantity/value, value\n",
            "Node duplicated: http://id.d4k.dk/dataset/bc_template/base_laboratory/result/quantity/system, system\n",
            "Node duplicated: http://id.d4k.dk/dataset/bc_template/base_laboratory/result/coding/user_selected, user_selected\n",
            "Node duplicated: http://id.d4k.dk/dataset/bc_template/base_laboratory/result/coding/display, display\n",
            "Node duplicated: http://id.d4k.dk/dataset/bc_template/base_laboratory/result/coding/code, code\n",
            "Node duplicated: http://id.d4k.dk/dataset/bc_template/base_laboratory/result/coding/version, version\n",
            "Node duplicated: http://id.d4k.dk/dataset/bc_template/base_laboratory/result/coding/system, system\n",
            "Node duplicated: http://id.d4k.dk/dataset/bc_template/base_laboratory/specimen/coding/user_selected, user_selected\n",
            "Node duplicated: http://id.d4k.dk/dataset/bc_template/base_laboratory/specimen/coding/display, display\n",
            "Node duplicated: http://id.d4k.dk/dataset/bc_template/base_laboratory/specimen/coding/code, code\n",
            "Node duplicated: http://id.d4k.dk/dataset/bc_template/base_laboratory/specimen/coding/version, version\n",
            "Node duplicated: http://id.d4k.dk/dataset/bc_template/base_laboratory/specimen/coding/system, system\n"
          ]
        }
      ],
      "source": [
        "link_data_types(\"BC_ITEM\", \"BC_DATA_TYPE\")\n",
        "duplicate_data_type_nodes(\"BC_DATA_TYPE\", \"BC_DATA_TYPE_PROPERTY\")"
      ]
    },
    {
      "cell_type": "markdown",
      "metadata": {
        "id": "Vrb5vlkfz-PG"
      },
      "source": [
        "Now link the BCs to the canonical model. "
      ]
    },
    {
      "cell_type": "code",
      "execution_count": 159,
      "metadata": {
        "id": "n6vOeu33z-uV",
        "colab": {
          "base_uri": "https://localhost:8080/"
        },
        "outputId": "5e4a895b-2a8c-4d46-d6a1-ee8cfb686ef7"
      },
      "outputs": [
        {
          "output_type": "stream",
          "name": "stdout",
          "text": [
            "[Test, coding, display] -> [TEST, coding, display]\n",
            "[Test, coding, code] -> [TEST, coding, code]\n",
            "[Test, coding, version] -> [TEST, coding, version]\n",
            "[Test, coding, user_selected] -> [TEST, coding, user_selected]\n",
            "[Test, coding, system] -> [TEST, coding, system]\n",
            "[Laterality, coding, code] -> [LATERALITY, coding, code]\n",
            "[Laterality, coding, version] -> [LATERALITY, coding, version]\n",
            "[Laterality, coding, system] -> [LATERALITY, coding, system]\n",
            "[Laterality, coding, user_selected] -> [LATERALITY, coding, user_selected]\n",
            "[Laterality, coding, display] -> [LATERALITY, coding, display]\n",
            "[Date Time, date_time, value] -> [DATE TIME, date_time, value]\n",
            "[Result, quantity, comparator] -> [RESULT, quantity, comparator]\n",
            "[Result, quantity, code] -> [RESULT, quantity, code]\n",
            "[Result, quantity, unit] -> [RESULT, quantity, unit]\n",
            "[Result, quantity, value] -> [RESULT, quantity, value]\n",
            "[Result, quantity, system] -> [RESULT, quantity, system]\n",
            "[Result, coding, display] -> [RESULT, coding, display]\n",
            "[Result, coding, version] -> [RESULT, coding, version]\n",
            "[Result, coding, system] -> [RESULT, coding, system]\n",
            "[Result, coding, code] -> [RESULT, coding, code]\n",
            "[Result, coding, user_selected] -> [RESULT, coding, user_selected]\n",
            "[Test, coding, display] -> [TEST, coding, display]\n",
            "[Test, coding, code] -> [TEST, coding, code]\n",
            "[Test, coding, version] -> [TEST, coding, version]\n",
            "[Test, coding, system] -> [TEST, coding, system]\n",
            "[Test, coding, user_selected] -> [TEST, coding, user_selected]\n",
            "[Date Time, date_time, value] -> [DATE TIME, date_time, value]\n"
          ]
        }
      ],
      "source": [
        "with driver.session() as session:\n",
        "  query = \"\"\"MATCH (n:BC_ITEM) WHERE n.canonical <> \"\"\n",
        "    WITH n\n",
        "    MATCH (m:CANONICAL_NODE {name: n.canonical})\n",
        "    WITH n, m\n",
        "    MATCH (n)-[]->(bdt:BC_DATA_TYPE)-[]->(bdtp:BC_DATA_TYPE_PROPERTY)\n",
        "    WITH bdt, bdtp, n, m\n",
        "    MATCH (m)-[]->(cdt:CANONICAL_DATA_TYPE {name: bdt.name})-[]->(cdtp:CANONICAL_DATA_TYPE_PROPERTY {name: bdtp.name})\n",
        "    CREATE (bdtp)-[:IS_CANONICAL_REF]->(cdtp)\n",
        "    RETURN n.name as b_name, bdt.name as bdt_name, bdtp.name as bdtp_name, m.name as c_name, cdt.name as cdt_name, cdtp.name as cdtp_name\n",
        "  \"\"\" \n",
        "  result = session.run(query)\n",
        "  for record in result:\n",
        "    print (\"[%s, %s, %s] -> [%s, %s, %s]\" % (record[\"b_name\"], record[\"bdt_name\"], record[\"bdtp_name\"], record[\"c_name\"], record[\"cdt_name\"], record[\"cdtp_name\"]))\n",
        "driver.close()"
      ]
    },
    {
      "cell_type": "markdown",
      "metadata": {
        "id": "nmGJ_Bxz44GM"
      },
      "source": [
        "Now load the BC instances"
      ]
    },
    {
      "cell_type": "code",
      "execution_count": 160,
      "metadata": {
        "id": "nKEod92dmIc_",
        "colab": {
          "base_uri": "https://localhost:8080/"
        },
        "outputId": "d58958ea-2112-44b1-c6ea-c99618a365a0"
      },
      "outputs": [
        {
          "output_type": "stream",
          "name": "stdout",
          "text": [
            "CALL apoc.import.csv( [{ fileName: 'https://raw.githubusercontent.com/data4knowledge/biomedical_concepts/main/data/csv_load/stage_11_other_source_nodes.csv', labels: ['OTHER_SOURCE'] }, { fileName: 'https://raw.githubusercontent.com/data4knowledge/biomedical_concepts/main/data/csv_load/stage_11_bc_value_set_nodes.csv', labels: ['BC_VALUE_SET'] }, { fileName: 'https://raw.githubusercontent.com/data4knowledge/biomedical_concepts/main/data/csv_load/stage_11_bc_data_type_nodes.csv', labels: ['BC_DATA_TYPE'] }, { fileName: 'https://raw.githubusercontent.com/data4knowledge/biomedical_concepts/main/data/csv_load/stage_11_bc_item_nodes.csv', labels: ['BC_ITEM'] }, { fileName: 'https://raw.githubusercontent.com/data4knowledge/biomedical_concepts/main/data/csv_load/stage_11_bc_instance_nodes.csv', labels: ['BC_INSTANCE'] }], [{ fileName: 'https://raw.githubusercontent.com/data4knowledge/biomedical_concepts/main/data/csv_load/stage_11_from_source_relationships.csv', type: 'FROM_SOURCE' }, { fileName: 'https://raw.githubusercontent.com/data4knowledge/biomedical_concepts/main/data/csv_load/stage_11_has_response_relationships.csv', type: 'HAS_RESPONSE' }, { fileName: 'https://raw.githubusercontent.com/data4knowledge/biomedical_concepts/main/data/csv_load/stage_11_has_data_type_relationships.csv', type: 'HAS_DATA_TYPE' }, { fileName: 'https://raw.githubusercontent.com/data4knowledge/biomedical_concepts/main/data/csv_load/stage_11_has_identifier_relationships.csv', type: 'HAS_IDENTIFIER' }, { fileName: 'https://raw.githubusercontent.com/data4knowledge/biomedical_concepts/main/data/csv_load/stage_11_has_item_relationships.csv', type: 'HAS_ITEM' }], {stringIds: false})\n",
            "<Record file='progress.csv' source='file' format='csv' nodes=83 relationships=87 properties=351 time=1981 rows=0 batchSize=-1 batches=0 done=True data=None>\n"
          ]
        }
      ],
      "source": [
        "stage_11_files = [ \n",
        "    { \"label\": \"OTHER_SOURCE\", \"filename\": \"stage_11_other_source_nodes.csv\" },\n",
        "    { \"label\": \"BC_VALUE_SET\", \"filename\": \"stage_11_bc_value_set_nodes.csv\" },\n",
        "    { \"label\": \"BC_DATA_TYPE\", \"filename\": \"stage_11_bc_data_type_nodes.csv\" },\n",
        "    { \"label\": \"BC_ITEM\", \"filename\": \"stage_11_bc_item_nodes.csv\" },\n",
        "    { \"label\": \"BC_INSTANCE\", \"filename\": \"stage_11_bc_instance_nodes.csv\" },\n",
        "    { \"type\": \"FROM_SOURCE\", \"filename\": \"stage_11_from_source_relationships.csv\" },\n",
        "    { \"type\": \"HAS_RESPONSE\", \"filename\": \"stage_11_has_response_relationships.csv\" },\n",
        "    { \"type\": \"HAS_DATA_TYPE\", \"filename\": \"stage_11_has_data_type_relationships.csv\" },\n",
        "    { \"type\": \"HAS_IDENTIFIER\", \"filename\": \"stage_11_has_identifier_relationships.csv\" },\n",
        "    { \"type\": \"HAS_ITEM\", \"filename\": \"stage_11_has_item_relationships.csv\" }\n",
        "  ]\n",
        "\n",
        "file_load(stage_11_files)"
      ]
    },
    {
      "cell_type": "markdown",
      "metadata": {
        "id": "KF_UDoVe5V7O"
      },
      "source": [
        "Now link the BC instances to the data types"
      ]
    },
    {
      "cell_type": "code",
      "execution_count": 161,
      "metadata": {
        "id": "0otM1XxS5U5F",
        "colab": {
          "base_uri": "https://localhost:8080/"
        },
        "outputId": "66b401c9-6ab9-46ab-e1fc-84aa27a7ff6a"
      },
      "outputs": [
        {
          "output_type": "stream",
          "name": "stdout",
          "text": [
            "[Test, coding] -> [FHIR, coding]\n",
            "[Test, coding] -> [FHIR, coding]\n",
            "[Result, coding] -> [FHIR, coding]\n",
            "[Test, coding] -> [FHIR, coding]\n",
            "[Result, coding] -> [FHIR, coding]\n",
            "[Test, coding] -> [FHIR, coding]\n",
            "[Test, coding] -> [FHIR, coding]\n",
            "[Result, coding] -> [FHIR, coding]\n",
            "[Result, quantity] -> [FHIR, quantity]\n",
            "[Result, quantity] -> [FHIR, quantity]\n",
            "[Date Time, date_time] -> [FHIR, date_time]\n",
            "[Date Time, date_time] -> [FHIR, date_time]\n",
            "[Date Time, date_time] -> [FHIR, date_time]\n",
            "[Date Time, date_time] -> [FHIR, date_time]\n",
            "[Date Time, date_time] -> [FHIR, date_time]\n",
            "Node duplicated: http://id.d4k.dk/dataset/bc_instance/weight/test/coding/user_selected, user_selected\n",
            "Node duplicated: http://id.d4k.dk/dataset/bc_instance/weight/test/coding/display, display\n",
            "Node duplicated: http://id.d4k.dk/dataset/bc_instance/weight/test/coding/code, code\n",
            "Node duplicated: http://id.d4k.dk/dataset/bc_instance/weight/test/coding/version, version\n",
            "Node duplicated: http://id.d4k.dk/dataset/bc_instance/weight/test/coding/system, system\n",
            "Node duplicated: http://id.d4k.dk/dataset/bc_instance/weight/date_time/date_time/value, value\n",
            "Node duplicated: http://id.d4k.dk/dataset/bc_instance/weight/result/quantity/unit, unit\n",
            "Node duplicated: http://id.d4k.dk/dataset/bc_instance/weight/result/quantity/code, code\n",
            "Node duplicated: http://id.d4k.dk/dataset/bc_instance/weight/result/quantity/comparator, comparator\n",
            "Node duplicated: http://id.d4k.dk/dataset/bc_instance/weight/result/quantity/value, value\n",
            "Node duplicated: http://id.d4k.dk/dataset/bc_instance/weight/result/quantity/system, system\n",
            "Node duplicated: http://id.d4k.dk/dataset/bc_instance/race/test/coding/user_selected, user_selected\n",
            "Node duplicated: http://id.d4k.dk/dataset/bc_instance/race/test/coding/display, display\n",
            "Node duplicated: http://id.d4k.dk/dataset/bc_instance/race/test/coding/code, code\n",
            "Node duplicated: http://id.d4k.dk/dataset/bc_instance/race/test/coding/version, version\n",
            "Node duplicated: http://id.d4k.dk/dataset/bc_instance/race/test/coding/system, system\n",
            "Node duplicated: http://id.d4k.dk/dataset/bc_instance/race/date_time/date_time/value, value\n",
            "Node duplicated: http://id.d4k.dk/dataset/bc_instance/race/result/coding/user_selected, user_selected\n",
            "Node duplicated: http://id.d4k.dk/dataset/bc_instance/race/result/coding/display, display\n",
            "Node duplicated: http://id.d4k.dk/dataset/bc_instance/race/result/coding/code, code\n",
            "Node duplicated: http://id.d4k.dk/dataset/bc_instance/race/result/coding/version, version\n",
            "Node duplicated: http://id.d4k.dk/dataset/bc_instance/race/result/coding/system, system\n",
            "Node duplicated: http://id.d4k.dk/dataset/bc_instance/sex/test/coding/user_selected, user_selected\n",
            "Node duplicated: http://id.d4k.dk/dataset/bc_instance/sex/test/coding/display, display\n",
            "Node duplicated: http://id.d4k.dk/dataset/bc_instance/sex/test/coding/code, code\n",
            "Node duplicated: http://id.d4k.dk/dataset/bc_instance/sex/test/coding/version, version\n",
            "Node duplicated: http://id.d4k.dk/dataset/bc_instance/sex/test/coding/system, system\n",
            "Node duplicated: http://id.d4k.dk/dataset/bc_instance/sex/date_time/date_time/value, value\n",
            "Node duplicated: http://id.d4k.dk/dataset/bc_instance/sex/result/coding/user_selected, user_selected\n",
            "Node duplicated: http://id.d4k.dk/dataset/bc_instance/sex/result/coding/display, display\n",
            "Node duplicated: http://id.d4k.dk/dataset/bc_instance/sex/result/coding/code, code\n",
            "Node duplicated: http://id.d4k.dk/dataset/bc_instance/sex/result/coding/version, version\n",
            "Node duplicated: http://id.d4k.dk/dataset/bc_instance/sex/result/coding/system, system\n",
            "Node duplicated: http://id.d4k.dk/dataset/bc_instance/age/test/coding/user_selected, user_selected\n",
            "Node duplicated: http://id.d4k.dk/dataset/bc_instance/age/test/coding/display, display\n",
            "Node duplicated: http://id.d4k.dk/dataset/bc_instance/age/test/coding/code, code\n",
            "Node duplicated: http://id.d4k.dk/dataset/bc_instance/age/test/coding/version, version\n",
            "Node duplicated: http://id.d4k.dk/dataset/bc_instance/age/test/coding/system, system\n",
            "Node duplicated: http://id.d4k.dk/dataset/bc_instance/age/date_time/date_time/value, value\n",
            "Node duplicated: http://id.d4k.dk/dataset/bc_instance/age/result/quantity/unit, unit\n",
            "Node duplicated: http://id.d4k.dk/dataset/bc_instance/age/result/quantity/code, code\n",
            "Node duplicated: http://id.d4k.dk/dataset/bc_instance/age/result/quantity/comparator, comparator\n",
            "Node duplicated: http://id.d4k.dk/dataset/bc_instance/age/result/quantity/value, value\n",
            "Node duplicated: http://id.d4k.dk/dataset/bc_instance/age/result/quantity/system, system\n",
            "Node duplicated: http://id.d4k.dk/dataset/bc_instance/ethnicity/test/coding/user_selected, user_selected\n",
            "Node duplicated: http://id.d4k.dk/dataset/bc_instance/ethnicity/test/coding/display, display\n",
            "Node duplicated: http://id.d4k.dk/dataset/bc_instance/ethnicity/test/coding/code, code\n",
            "Node duplicated: http://id.d4k.dk/dataset/bc_instance/ethnicity/test/coding/version, version\n",
            "Node duplicated: http://id.d4k.dk/dataset/bc_instance/ethnicity/test/coding/system, system\n",
            "Node duplicated: http://id.d4k.dk/dataset/bc_instance/ethnicity/date_time/date_time/value, value\n",
            "Node duplicated: http://id.d4k.dk/dataset/bc_instance/ethnicity/result/coding/user_selected, user_selected\n",
            "Node duplicated: http://id.d4k.dk/dataset/bc_instance/ethnicity/result/coding/display, display\n",
            "Node duplicated: http://id.d4k.dk/dataset/bc_instance/ethnicity/result/coding/code, code\n",
            "Node duplicated: http://id.d4k.dk/dataset/bc_instance/ethnicity/result/coding/version, version\n",
            "Node duplicated: http://id.d4k.dk/dataset/bc_instance/ethnicity/result/coding/system, system\n"
          ]
        }
      ],
      "source": [
        "link_data_types(\"BC_ITEM\", \"BC_DATA_TYPE\")\n",
        "duplicate_data_type_nodes(\"BC_DATA_TYPE\", \"BC_DATA_TYPE_PROPERTY\")"
      ]
    },
    {
      "cell_type": "markdown",
      "metadata": {
        "id": "48z9NnEi6-TM"
      },
      "source": [
        "Now link the BC Instances to the BC Template that is based on"
      ]
    },
    {
      "cell_type": "code",
      "execution_count": 162,
      "metadata": {
        "id": "EAnRsRd27hZD",
        "colab": {
          "base_uri": "https://localhost:8080/"
        },
        "outputId": "0c4449fb-09a6-4055-dca5-33497cb83d5e"
      },
      "outputs": [
        {
          "output_type": "stream",
          "name": "stdout",
          "text": [
            "Weight -> Base Observation\n",
            "Race -> Base Observation\n",
            "Sex -> Base Observation\n",
            "Age -> Base Observation\n",
            "Ethnicity -> Base Observation\n"
          ]
        }
      ],
      "source": [
        "with driver.session() as session:\n",
        "  query = \"\"\"MATCH (n:BC_INSTANCE)\n",
        "    WITH n\n",
        "    MATCH (m:BC_TEMPLATE {name: n.based_on})\n",
        "    WITH n, m\n",
        "    CREATE (n)-[:BASED_ON]->(m)\n",
        "    RETURN n.name as i_name, m.name as t_name\n",
        "  \"\"\" \n",
        "  result = session.run(query)\n",
        "  for record in result:\n",
        "    print (\"%s -> %s\" % (record[\"i_name\"], record[\"t_name\"]))\n",
        "driver.close()"
      ]
    },
    {
      "cell_type": "markdown",
      "metadata": {
        "id": "QsxAK7iarrAZ"
      },
      "source": [
        "Now load the SDTM IG so we can link the SDTM to the canonical model."
      ]
    },
    {
      "cell_type": "code",
      "execution_count": 163,
      "metadata": {
        "id": "xrGI4UvLq18A",
        "colab": {
          "base_uri": "https://localhost:8080/"
        },
        "outputId": "7d901d6a-7b9f-400d-92db-10f3365323b9"
      },
      "outputs": [
        {
          "output_type": "stream",
          "name": "stdout",
          "text": [
            "CALL apoc.import.csv( [{ fileName: 'https://raw.githubusercontent.com/data4knowledge/biomedical_concepts/main/data/csv_load/stage_13_api_source_nodes.csv', labels: ['API_SOURCE'] }, { fileName: 'https://raw.githubusercontent.com/data4knowledge/biomedical_concepts/main/data/csv_load/stage_13_other_source_nodes.csv', labels: ['OTHER_SOURCE'] }, { fileName: 'https://raw.githubusercontent.com/data4knowledge/biomedical_concepts/main/data/csv_load/stage_13_sdtm_model_nodes.csv', labels: ['SDTM_MODEL'] }, { fileName: 'https://raw.githubusercontent.com/data4knowledge/biomedical_concepts/main/data/csv_load/stage_13_sdtm_class_nodes.csv', labels: ['SDTM_CLASS'] }, { fileName: 'https://raw.githubusercontent.com/data4knowledge/biomedical_concepts/main/data/csv_load/stage_13_sdtm_model_variable_nodes.csv', labels: ['SDTM_MODEL_VARIABLE'] }, { fileName: 'https://raw.githubusercontent.com/data4knowledge/biomedical_concepts/main/data/csv_load/stage_13_sdtm_ig_nodes.csv', labels: ['SDTM_IG'] }, { fileName: 'https://raw.githubusercontent.com/data4knowledge/biomedical_concepts/main/data/csv_load/stage_13_sdtm_dataset_nodes.csv', labels: ['SDTM_DATASET'] }, { fileName: 'https://raw.githubusercontent.com/data4knowledge/biomedical_concepts/main/data/csv_load/stage_13_sdtm_variable_nodes.csv', labels: ['SDTM_VARIABLE'] }, { fileName: 'https://raw.githubusercontent.com/data4knowledge/biomedical_concepts/main/data/csv_load/stage_13_canonical_ref_nodes.csv', labels: ['CANONICAL_REF'] }], [{ fileName: 'https://raw.githubusercontent.com/data4knowledge/biomedical_concepts/main/data/csv_load/stage_13_from_source_relationships.csv', type: 'FROM_SOURCE' }, { fileName: 'https://raw.githubusercontent.com/data4knowledge/biomedical_concepts/main/data/csv_load/stage_13_has_canonical_ref_relationships.csv', type: 'HAS_CANONICAL_REF' }, { fileName: 'https://raw.githubusercontent.com/data4knowledge/biomedical_concepts/main/data/csv_load/stage_13_has_class_relationships.csv', type: 'HAS_CLASS' }, { fileName: 'https://raw.githubusercontent.com/data4knowledge/biomedical_concepts/main/data/csv_load/stage_13_has_dataset_relationships.csv', type: 'HAS_DATASET' }, { fileName: 'https://raw.githubusercontent.com/data4knowledge/biomedical_concepts/main/data/csv_load/stage_13_has_variable_relationships.csv', type: 'HAS_VARIABLE' }], {stringIds: false})\n",
            "<Record file='progress.csv' source='file' format='csv' nodes=2003 relationships=2001 properties=21623 time=2843 rows=0 batchSize=-1 batches=0 done=True data=None>\n"
          ]
        }
      ],
      "source": [
        "stage_13_files = [ \n",
        "    { \"label\": \"API_SOURCE\", \"filename\": \"stage_13_api_source_nodes.csv\" },\n",
        "    { \"label\": \"OTHER_SOURCE\", \"filename\": \"stage_13_other_source_nodes.csv\" },\n",
        "    { \"label\": \"SDTM_MODEL\", \"filename\": \"stage_13_sdtm_model_nodes.csv\" },\n",
        "    { \"label\": \"SDTM_CLASS\", \"filename\": \"stage_13_sdtm_class_nodes.csv\" },\n",
        "    { \"label\": \"SDTM_MODEL_VARIABLE\", \"filename\": \"stage_13_sdtm_model_variable_nodes.csv\" },\n",
        "    { \"label\": \"SDTM_IG\", \"filename\": \"stage_13_sdtm_ig_nodes.csv\" },\n",
        "    { \"label\": \"SDTM_DATASET\", \"filename\": \"stage_13_sdtm_dataset_nodes.csv\" },\n",
        "    { \"label\": \"SDTM_VARIABLE\", \"filename\": \"stage_13_sdtm_variable_nodes.csv\" },\n",
        "    { \"label\": \"CANONICAL_REF\", \"filename\": \"stage_13_canonical_ref_nodes.csv\" },\n",
        "    { \"type\": \"FROM_SOURCE\", \"filename\": \"stage_13_from_source_relationships.csv\" },\n",
        "    { \"type\": \"HAS_CANONICAL_REF\", \"filename\": \"stage_13_has_canonical_ref_relationships.csv\" },\n",
        "    { \"type\": \"HAS_CLASS\", \"filename\": \"stage_13_has_class_relationships.csv\" },\n",
        "    { \"type\": \"HAS_DATASET\", \"filename\": \"stage_13_has_dataset_relationships.csv\" },\n",
        "    { \"type\": \"HAS_VARIABLE\", \"filename\": \"stage_13_has_variable_relationships.csv\" }\n",
        "  ]\n",
        "\n",
        "file_load(stage_13_files)"
      ]
    },
    {
      "cell_type": "markdown",
      "metadata": {
        "id": "qIQMVKkYEThB"
      },
      "source": [
        "Check that SDTM Model and IG loaded"
      ]
    },
    {
      "cell_type": "code",
      "execution_count": 164,
      "metadata": {
        "id": "XMP9ZqWsr1dW",
        "colab": {
          "base_uri": "https://localhost:8080/"
        },
        "outputId": "f7498321-b731-4301-91fc-fc9f3db497f6"
      },
      "outputs": [
        {
          "output_type": "stream",
          "name": "stdout",
          "text": [
            "[AG, AGENDTC] loaded\n",
            "[AG, AGOCCUR] loaded\n",
            "[AG, AGDECOD] loaded\n",
            "[AG, AGSTRTPT] loaded\n",
            "[AG, STUDYID] loaded\n",
            "[AG, AGSTTPT] loaded\n",
            "[AG, AGCLAS] loaded\n",
            "[AG, AGREASND] loaded\n",
            "[AG, AGDOSTXT] loaded\n",
            "[AG, VISITNUM] loaded\n",
            "[AG, AGPRESP] loaded\n",
            "[AG, DOMAIN] loaded\n",
            "[AG, VISIT] loaded\n",
            "[AG, TAETORD] loaded\n",
            "[AG, AGDOSU] loaded\n",
            "[AG, AGSTRF] loaded\n",
            "[AG, AGSCAT] loaded\n",
            "[AG, AGLNKID] loaded\n",
            "[AG, AGENRF] loaded\n",
            "[AG, AGDOSFRM] loaded\n",
            "[SDTM Model, demographics, AGEU] loaded\n",
            "[SDTM Model, demographics, AGE] loaded\n",
            "[SDTM Model, demographics, SEX] loaded\n",
            "[SDTM Model, demographics, ETHNIC] loaded\n",
            "[SDTM Model, demographics, RACE] loaded\n",
            "[SDTM Model, findings, --ORRES] loaded\n",
            "[SDTM Model, findings, --DTC] loaded\n",
            "[SDTM Model, findings, --ORRESU] loaded\n"
          ]
        }
      ],
      "source": [
        "with driver.session() as session:\n",
        "  query = \"\"\"MATCH (ds:SDTM_DATASET)-[]->(v:SDTM_VARIABLE) RETURN DISTINCT ds.name as ds_name, v.name as v_name LIMIT 20\"\"\"\n",
        "  result = session.run(query)\n",
        "  for record in result:\n",
        "    print (\"[%s, %s] loaded\" % (record[\"ds_name\"], record[\"v_name\"]))\n",
        "driver.close()\n",
        "\n",
        "with driver.session() as session:\n",
        "  query = \"\"\"MATCH (m:SDTM_MODEL)-[]->(c:SDTM_CLASS)-[]->(v:SDTM_MODEL_VARIABLE) RETURN DISTINCT m.name as m_name, c.name as c_name, v.name as v_name\"\"\"\n",
        "  result = session.run(query)\n",
        "  for record in result:\n",
        "    print (\"[%s, %s, %s] loaded\" % (record[\"m_name\"], record[\"c_name\"], record[\"v_name\"]))\n",
        "driver.close()"
      ]
    },
    {
      "cell_type": "markdown",
      "metadata": {
        "id": "neqitlp_IvUI"
      },
      "source": [
        "Now link up the SDTM Model and IG variables. We need to \n",
        "- Do the vertical domains, the \"--\" cases\n",
        "- Things like DM"
      ]
    },
    {
      "cell_type": "code",
      "execution_count": 165,
      "metadata": {
        "id": "9sEoyBhgI4Kw",
        "colab": {
          "base_uri": "https://localhost:8080/"
        },
        "outputId": "8cc7a90f-cda7-4fb1-f3ae-18c1deae4793"
      },
      "outputs": [
        {
          "output_type": "stream",
          "name": "stdout",
          "text": [
            "BSORRES -> --ORRES linked\n",
            "CPORRES -> --ORRES linked\n",
            "CVORRES -> --ORRES linked\n",
            "DAORRES -> --ORRES linked\n",
            "DDORRES -> --ORRES linked\n",
            "EGORRES -> --ORRES linked\n",
            "FTORRES -> --ORRES linked\n",
            "GFORRES -> --ORRES linked\n",
            "IEORRES -> --ORRES linked\n",
            "ISORRES -> --ORRES linked\n",
            "LBORRES -> --ORRES linked\n",
            "MBORRES -> --ORRES linked\n",
            "MIORRES -> --ORRES linked\n",
            "BSORRESU -> --ORRESU linked\n",
            "CPORRESU -> --ORRESU linked\n",
            "CVORRESU -> --ORRESU linked\n",
            "DAORRESU -> --ORRESU linked\n",
            "EGORRESU -> --ORRESU linked\n",
            "FTORRESU -> --ORRESU linked\n",
            "GFORRESU -> --ORRESU linked\n",
            "ISORRESU -> --ORRESU linked\n",
            "LBORRESU -> --ORRESU linked\n",
            "MBORRESU -> --ORRESU linked\n",
            "MIORRESU -> --ORRESU linked\n",
            "MLDTC -> --DTC linked\n",
            "BEDTC -> --DTC linked\n",
            "CEDTC -> --DTC linked\n",
            "DSDTC -> --DTC linked\n",
            "HODTC -> --DTC linked\n",
            "MHDTC -> --DTC linked\n",
            "BSDTC -> --DTC linked\n",
            "CPDTC -> --DTC linked\n",
            "CVDTC -> --DTC linked\n",
            "DADTC -> --DTC linked\n",
            "DDDTC -> --DTC linked\n",
            "EGDTC -> --DTC linked\n",
            "FTDTC -> --DTC linked\n",
            "GFDTC -> --DTC linked\n",
            "IEDTC -> --DTC linked\n",
            "ISDTC -> --DTC linked\n",
            "LBDTC -> --DTC linked\n",
            "MBDTC -> --DTC linked\n",
            "MIDTC -> --DTC linked\n",
            "MKORRES -> --ORRES linked\n",
            "MSORRES -> --ORRES linked\n",
            "NVORRES -> --ORRES linked\n",
            "OEORRES -> --ORRES linked\n",
            "PCORRES -> --ORRES linked\n",
            "PEORRES -> --ORRES linked\n",
            "PPORRES -> --ORRES linked\n",
            "QSORRES -> --ORRES linked\n",
            "REORRES -> --ORRES linked\n",
            "RPORRES -> --ORRES linked\n",
            "RSORRES -> --ORRES linked\n",
            "SCORRES -> --ORRES linked\n",
            "SSORRES -> --ORRES linked\n",
            "TRORRES -> --ORRES linked\n",
            "TUORRES -> --ORRES linked\n",
            "URORRES -> --ORRES linked\n",
            "VSORRES -> --ORRES linked\n",
            "FAORRES -> --ORRES linked\n",
            "SRORRES -> --ORRES linked\n",
            "MKORRESU -> --ORRESU linked\n",
            "MSORRESU -> --ORRESU linked\n",
            "NVORRESU -> --ORRESU linked\n",
            "OEORRESU -> --ORRESU linked\n",
            "PCORRESU -> --ORRESU linked\n",
            "PEORRESU -> --ORRESU linked\n",
            "PPORRESU -> --ORRESU linked\n",
            "QSORRESU -> --ORRESU linked\n",
            "REORRESU -> --ORRESU linked\n",
            "RPORRESU -> --ORRESU linked\n",
            "RSORRESU -> --ORRESU linked\n",
            "SCORRESU -> --ORRESU linked\n",
            "TRORRESU -> --ORRESU linked\n",
            "URORRESU -> --ORRESU linked\n",
            "VSORRESU -> --ORRESU linked\n",
            "FAORRESU -> --ORRESU linked\n",
            "SRORRESU -> --ORRESU linked\n",
            "MKDTC -> --DTC linked\n",
            "MSDTC -> --DTC linked\n",
            "NVDTC -> --DTC linked\n",
            "OEDTC -> --DTC linked\n",
            "PCDTC -> --DTC linked\n",
            "PEDTC -> --DTC linked\n",
            "PPDTC -> --DTC linked\n",
            "QSDTC -> --DTC linked\n",
            "REDTC -> --DTC linked\n",
            "RPDTC -> --DTC linked\n",
            "RSDTC -> --DTC linked\n",
            "SCDTC -> --DTC linked\n",
            "SSDTC -> --DTC linked\n",
            "TRDTC -> --DTC linked\n",
            "TUDTC -> --DTC linked\n",
            "URDTC -> --DTC linked\n",
            "VSDTC -> --DTC linked\n",
            "FADTC -> --DTC linked\n",
            "SRDTC -> --DTC linked\n",
            "CODTC -> --DTC linked\n",
            "DMDTC -> --DTC linked\n",
            "AGE -> AGE linked\n",
            "AGEU -> AGEU linked\n",
            "SEX -> SEX linked\n",
            "RACE -> RACE linked\n",
            "ETHNIC -> ETHNIC linked\n"
          ]
        }
      ],
      "source": [
        "with driver.session() as session:\n",
        "  # Vertical \n",
        "  query = \"\"\"MATCH (smv:SDTM_MODEL_VARIABLE)\n",
        "    MATCH (igv:SDTM_VARIABLE) WHERE substring(smv.name, 2) = substring(igv.name, 2) AND left(smv.name, 2) = \"--\"\n",
        "    MERGE (igv)-[:BASED_ON]->(smv)\n",
        "    RETURN igv.name as ig_name, smv.name as m_name\n",
        "  \"\"\"\n",
        "  result = session.run(query)\n",
        "  for record in result:\n",
        "    print (\"%s -> %s linked\" % (record[\"ig_name\"], record[\"m_name\"]))\n",
        "\n",
        "  # DM type, no \"--\" prefix involved\n",
        "  query = \"\"\"MATCH (smv:SDTM_MODEL_VARIABLE)\n",
        "    MATCH (igv:SDTM_VARIABLE) WHERE smv.name = igv.name\n",
        "    MERGE (igv)-[:BASED_ON]->(smv)\n",
        "    RETURN igv.name as ig_name, smv.name as m_name\n",
        "  \"\"\"\n",
        "  result = session.run(query)\n",
        "  for record in result:\n",
        "    print (\"%s -> %s linked\" % (record[\"ig_name\"], record[\"m_name\"]))\n",
        "driver.close()"
      ]
    },
    {
      "cell_type": "markdown",
      "metadata": {
        "id": "-a_Vt3rqK-Y3"
      },
      "source": [
        "And link the model variables to the canonical model."
      ]
    },
    {
      "cell_type": "code",
      "execution_count": 166,
      "metadata": {
        "id": "p0M3CJ5dLDsd",
        "colab": {
          "base_uri": "https://localhost:8080/"
        },
        "outputId": "f2a6b61f-2db9-4882-917a-42759c5a457d"
      },
      "outputs": [
        {
          "output_type": "stream",
          "name": "stdout",
          "text": [
            "--DTC -> [DATE TIME, date_time, value] -> http://id.d4k.dk/dataset/canonical/common/date_time/date_time/value linked\n",
            "SEX -> [RESULT, coding, code] -> http://id.d4k.dk/dataset/canonical/observation/observation_result/result/coding/code linked\n",
            "RACE -> [RESULT, coding, code] -> http://id.d4k.dk/dataset/canonical/observation/observation_result/result/coding/code linked\n",
            "ETHNIC -> [RESULT, coding, code] -> http://id.d4k.dk/dataset/canonical/observation/observation_result/result/coding/code linked\n",
            "--ORRES -> [RESULT, coding, code] -> http://id.d4k.dk/dataset/canonical/observation/observation_result/result/coding/code linked\n",
            "AGEU -> [RESULT, quantity, unit] -> http://id.d4k.dk/dataset/canonical/observation/observation_result/result/quantity/unit linked\n",
            "--ORRESU -> [RESULT, quantity, unit] -> http://id.d4k.dk/dataset/canonical/observation/observation_result/result/quantity/unit linked\n",
            "AGE -> [RESULT, quantity, value] -> http://id.d4k.dk/dataset/canonical/observation/observation_result/result/quantity/value linked\n",
            "--ORRES -> [RESULT, quantity, value] -> http://id.d4k.dk/dataset/canonical/observation/observation_result/result/quantity/value linked\n"
          ]
        }
      ],
      "source": [
        "with driver.session() as session:\n",
        "  query = \"\"\"MATCH (smv:SDTM_MODEL_VARIABLE)-[]->(cr:CANONICAL_REF)\n",
        "    MATCH (CANONICAL_NODE {name: cr.node})-[]->(CANONICAL_DATA_TYPE {name: cr.data_type})-[]->(cdtp:CANONICAL_DATA_TYPE_PROPERTY {name: cr.property})\n",
        "    MERGE (smv)-[:IS_CANONICAL_REF]->(cdtp)\n",
        "    RETURN smv.name as v_name, cr.node as c_node, cr.data_type as c_dt, cr.property as c_property, cdtp.uri as uri\n",
        "  \"\"\"\n",
        "  result = session.run(query)\n",
        "  for record in result:\n",
        "    print (\"%s -> [%s, %s, %s] -> %s linked\" % (record[\"v_name\"], record[\"c_node\"], record[\"c_dt\"], record[\"c_property\"], record[\"uri\"]))\n",
        "driver.close()"
      ]
    },
    {
      "cell_type": "markdown",
      "metadata": {
        "id": "bkvZqY0ufS2J"
      },
      "source": [
        "So we now have linked in the SDTM IG, the model to the canonical model. The last thing we want to do is link the domains to the BCs targetted at each domain. Do this from a configuration file. This would normally be part of the metadata of the standards."
      ]
    },
    {
      "cell_type": "code",
      "execution_count": 167,
      "metadata": {
        "colab": {
          "base_uri": "https://localhost:8080/"
        },
        "id": "DAiV6D_VfemL",
        "outputId": "b02dff5a-f210-4695-d892-626ea1e7782b"
      },
      "outputs": [
        {
          "output_type": "stream",
          "name": "stdout",
          "text": [
            "{'root': {'domains': [{'name': 'VS', 'bcs': [{'name': 'Weight'}]}, {'name': 'DM', 'bcs': [{'name': 'Age'}, {'name': 'Sex'}, {'name': 'Race'}, {'name': 'Ethnicity'}]}]}}\n",
            "Set VS -> Weight\n",
            "Set DM -> Age\n",
            "Set DM -> Sex\n",
            "Set DM -> Race\n",
            "Set DM -> Ethnicity\n",
            "Checked VS -> Weight\n",
            "Checked DM -> Race\n",
            "Checked DM -> Sex\n",
            "Checked DM -> Age\n",
            "Checked DM -> Ethnicity\n"
          ]
        }
      ],
      "source": [
        "file_dir = \"https://raw.githubusercontent.com/data4knowledge/biomedical_concepts/main/data/cdisc_sdtm/\"\n",
        "\n",
        "x = urllib.request.urlopen(\"%scdisc_sdtm_bc.yaml\" % (file_dir))\n",
        "mapping = yaml.load(x)\n",
        "print(mapping)\n",
        "\n",
        "for domain in mapping[\"root\"][\"domains\"]:\n",
        "  with driver.session() as session:\n",
        "    query = \"\"\"MATCH (d:SDTM_DATASET {name: '%s'})\n",
        "      WITH d\n",
        "      UNWIND $bcs AS bc\n",
        "      MATCH (bci:BC_INSTANCE {name: bc.name})\n",
        "      MERGE (d)-[:CAN_USE_BC]->(bci)\n",
        "      RETURN d.name as domain, bci.name as bc_name\"\"\" % (domain[\"name\"])\n",
        "    result = session.run(query, bcs=domain[\"bcs\"])\n",
        "    for record in result:\n",
        "      print (\"Set %s -> %s\" % (record[\"domain\"], record[\"bc_name\"]))\n",
        "  driver.close()\n",
        "\n",
        "with driver.session() as session:\n",
        "  query = \"\"\"MATCH (d:SDTM_DATASET)-[:CAN_USE_BC]->(bc:BC_INSTANCE)\n",
        "    RETURN d.name as domain, bc.name as bc\"\"\"\n",
        "  result = session.run(query)\n",
        "  for record in result:\n",
        "    print (\"Checked %s -> %s\" % (record[\"domain\"], record[\"bc\"]))\n",
        "driver.close()\n"
      ]
    },
    {
      "cell_type": "markdown",
      "metadata": {
        "id": "cH-7_-DXzN_R"
      },
      "source": [
        "Now load the DDF study example data. Provides an example of a \"industry standard\" design."
      ]
    },
    {
      "cell_type": "code",
      "execution_count": 168,
      "metadata": {
        "id": "yLEatFJT6WGB",
        "colab": {
          "base_uri": "https://localhost:8080/"
        },
        "outputId": "aa7756ec-3de2-4b31-b40f-e89804d4f951"
      },
      "outputs": [
        {
          "output_type": "stream",
          "name": "stdout",
          "text": [
            "CALL apoc.import.csv( [{ fileName: 'https://raw.githubusercontent.com/data4knowledge/biomedical_concepts/main/data/csv_load/stage_12_endpoint_nodes.csv', labels: ['ENDPOINT'] }, { fileName: 'https://raw.githubusercontent.com/data4knowledge/biomedical_concepts/main/data/csv_load/stage_12_study_data_nodes.csv', labels: ['STUDY_DATA'] }, { fileName: 'https://raw.githubusercontent.com/data4knowledge/biomedical_concepts/main/data/csv_load/stage_12_procedure_nodes.csv', labels: ['PROCEDURE'] }, { fileName: 'https://raw.githubusercontent.com/data4knowledge/biomedical_concepts/main/data/csv_load/stage_12_activity_nodes.csv', labels: ['ACTIVITY'] }, { fileName: 'https://raw.githubusercontent.com/data4knowledge/biomedical_concepts/main/data/csv_load/stage_12_workflow_item_nodes.csv', labels: ['WORKFLOW_ITEM'] }, { fileName: 'https://raw.githubusercontent.com/data4knowledge/biomedical_concepts/main/data/csv_load/stage_12_visit_nodes.csv', labels: ['VISIT'] }, { fileName: 'https://raw.githubusercontent.com/data4knowledge/biomedical_concepts/main/data/csv_load/stage_12_study_cell_nodes.csv', labels: ['STUDY_CELL'] }, { fileName: 'https://raw.githubusercontent.com/data4knowledge/biomedical_concepts/main/data/csv_load/stage_12_rule_nodes.csv', labels: ['RULE'] }, { fileName: 'https://raw.githubusercontent.com/data4knowledge/biomedical_concepts/main/data/csv_load/stage_12_study_element_nodes.csv', labels: ['STUDY_ELEMENT'] }, { fileName: 'https://raw.githubusercontent.com/data4knowledge/biomedical_concepts/main/data/csv_load/stage_12_study_epoch_nodes.csv', labels: ['EPOCH'] }, { fileName: 'https://raw.githubusercontent.com/data4knowledge/biomedical_concepts/main/data/csv_load/stage_12_study_arm_nodes.csv', labels: ['STUDY_ARM'] }, { fileName: 'https://raw.githubusercontent.com/data4knowledge/biomedical_concepts/main/data/csv_load/stage_12_objective_nodes.csv', labels: ['OBJECTIVE'] }, { fileName: 'https://raw.githubusercontent.com/data4knowledge/biomedical_concepts/main/data/csv_load/stage_12_code_nodes.csv', labels: ['CODE'] }, { fileName: 'https://raw.githubusercontent.com/data4knowledge/biomedical_concepts/main/data/csv_load/stage_12_investigational_interventions_nodes.csv', labels: ['INVESTIGATIONAL_INTERVENTIONS'] }, { fileName: 'https://raw.githubusercontent.com/data4knowledge/biomedical_concepts/main/data/csv_load/stage_12_population_nodes.csv', labels: ['POPULATION'] }, { fileName: 'https://raw.githubusercontent.com/data4knowledge/biomedical_concepts/main/data/csv_load/stage_12_study_design_nodes.csv', labels: ['STUDY_DESIGN'] }, { fileName: 'https://raw.githubusercontent.com/data4knowledge/biomedical_concepts/main/data/csv_load/stage_12_indication_nodes.csv', labels: ['INDICATION'] }, { fileName: 'https://raw.githubusercontent.com/data4knowledge/biomedical_concepts/main/data/csv_load/stage_12_study_protocol_nodes.csv', labels: ['STUDY_PROTOCOL'] }, { fileName: 'https://raw.githubusercontent.com/data4knowledge/biomedical_concepts/main/data/csv_load/stage_12_study_phase_nodes.csv', labels: ['STUDY_PHASE'] }, { fileName: 'https://raw.githubusercontent.com/data4knowledge/biomedical_concepts/main/data/csv_load/stage_12_study_type_nodes.csv', labels: ['STUDY_TYPE'] }, { fileName: 'https://raw.githubusercontent.com/data4knowledge/biomedical_concepts/main/data/csv_load/stage_12_study_identifier_nodes.csv', labels: ['STUDY_IDENTIFIER'] }, { fileName: 'https://raw.githubusercontent.com/data4knowledge/biomedical_concepts/main/data/csv_load/stage_12_study_nodes.csv', labels: ['STUDY'] }], [{ fileName: 'https://raw.githubusercontent.com/data4knowledge/biomedical_concepts/main/data/csv_load/stage_12_has_coded_relationships.csv', type: 'HAS_CODED' }, { fileName: 'https://raw.githubusercontent.com/data4knowledge/biomedical_concepts/main/data/csv_load/stage_12_has_endpoint_relationships.csv', type: 'HAS_ENDPOINT' }, { fileName: 'https://raw.githubusercontent.com/data4knowledge/biomedical_concepts/main/data/csv_load/stage_12_has_study_data_relationships.csv', type: 'HAS_STUDY_DATA' }, { fileName: 'https://raw.githubusercontent.com/data4knowledge/biomedical_concepts/main/data/csv_load/stage_12_has_procedure_relationships.csv', type: 'HAS_PROCEDURE' }, { fileName: 'https://raw.githubusercontent.com/data4knowledge/biomedical_concepts/main/data/csv_load/stage_12_has_previous_activity_relationships.csv', type: 'HAS_PREVIOUS_ACTIVITY' }, { fileName: 'https://raw.githubusercontent.com/data4knowledge/biomedical_concepts/main/data/csv_load/stage_12_used_in_visit_relationships.csv', type: 'USED_IN_VISIT' }, { fileName: 'https://raw.githubusercontent.com/data4knowledge/biomedical_concepts/main/data/csv_load/stage_12_has_activity_relationships.csv', type: 'HAS_ACTIVITY' }, { fileName: 'https://raw.githubusercontent.com/data4knowledge/biomedical_concepts/main/data/csv_load/stage_12_has_visit_relationships.csv', type: 'HAS_VISIT' }, { fileName: 'https://raw.githubusercontent.com/data4knowledge/biomedical_concepts/main/data/csv_load/stage_12_has_end_rule_relationships.csv', type: 'HAS_END_RULE' }, { fileName: 'https://raw.githubusercontent.com/data4knowledge/biomedical_concepts/main/data/csv_load/stage_12_has_start_rule_relationships.csv', type: 'HAS_START_RULE' }, { fileName: 'https://raw.githubusercontent.com/data4knowledge/biomedical_concepts/main/data/csv_load/stage_12_has_element_relationships.csv', type: 'HAS_ELEMENT' }, { fileName: 'https://raw.githubusercontent.com/data4knowledge/biomedical_concepts/main/data/csv_load/stage_12_has_epoch_relationships.csv', type: 'HAS_EPOCH' }, { fileName: 'https://raw.githubusercontent.com/data4knowledge/biomedical_concepts/main/data/csv_load/stage_12_has_arm_relationships.csv', type: 'HAS_ARM' }, { fileName: 'https://raw.githubusercontent.com/data4knowledge/biomedical_concepts/main/data/csv_load/stage_12_has_cell_relationships.csv', type: 'HAS_CELL' }, { fileName: 'https://raw.githubusercontent.com/data4knowledge/biomedical_concepts/main/data/csv_load/stage_12_has_objective_relationships.csv', type: 'HAS_OBJECTIVE' }, { fileName: 'https://raw.githubusercontent.com/data4knowledge/biomedical_concepts/main/data/csv_load/stage_12_has_indication_relationships.csv', type: 'HAS_INDICATION' }, { fileName: 'https://raw.githubusercontent.com/data4knowledge/biomedical_concepts/main/data/csv_load/stage_12_has_investigational_intervention_relationships.csv', type: 'HAS_INVESTIGATIONAL_INTERVENTION' }, { fileName: 'https://raw.githubusercontent.com/data4knowledge/biomedical_concepts/main/data/csv_load/stage_12_has_population_relationships.csv', type: 'HAS_POPULATION' }, { fileName: 'https://raw.githubusercontent.com/data4knowledge/biomedical_concepts/main/data/csv_load/stage_12_has_study_design_relationships.csv', type: 'HAS_STUDY_DESIGN' }, { fileName: 'https://raw.githubusercontent.com/data4knowledge/biomedical_concepts/main/data/csv_load/stage_12_has_protocol_relationships.csv', type: 'HAS_PROTOCOL' }, { fileName: 'https://raw.githubusercontent.com/data4knowledge/biomedical_concepts/main/data/csv_load/stage_12_has_study_phase_relationships.csv', type: 'HAS_STUDY_PHASE' }, { fileName: 'https://raw.githubusercontent.com/data4knowledge/biomedical_concepts/main/data/csv_load/stage_12_has_study_type_relationships.csv', type: 'HAS_STUDY_TYPE' }, { fileName: 'https://raw.githubusercontent.com/data4knowledge/biomedical_concepts/main/data/csv_load/stage_12_has_identifier_relationships.csv', type: 'HAS_IDENTIFIER' }], {stringIds: false})\n",
            "<Record file='progress.csv' source='file' format='csv' nodes=212 relationships=296 properties=761 time=8118 rows=0 batchSize=-1 batches=0 done=True data=None>\n"
          ]
        }
      ],
      "source": [
        "stage_12_files = [    \n",
        "    { \"label\": \"ENDPOINT\", \"filename\": \"stage_12_endpoint_nodes.csv\" },\n",
        "    { \"label\": \"STUDY_DATA\", \"filename\": \"stage_12_study_data_nodes.csv\" },\n",
        "    { \"label\": \"PROCEDURE\", \"filename\": \"stage_12_procedure_nodes.csv\" },\n",
        "    { \"label\": \"ACTIVITY\", \"filename\": \"stage_12_activity_nodes.csv\" },\n",
        "    { \"label\": \"WORKFLOW_ITEM\", \"filename\": \"stage_12_workflow_item_nodes.csv\" },\n",
        "    { \"label\": \"VISIT\", \"filename\": \"stage_12_visit_nodes.csv\" },\n",
        "    { \"label\": \"STUDY_CELL\", \"filename\": \"stage_12_study_cell_nodes.csv\" },\n",
        "    { \"label\": \"RULE\", \"filename\": \"stage_12_rule_nodes.csv\" },\n",
        "    { \"label\": \"STUDY_ELEMENT\", \"filename\": \"stage_12_study_element_nodes.csv\" },\n",
        "    { \"label\": \"EPOCH\", \"filename\": \"stage_12_study_epoch_nodes.csv\" },\n",
        "    { \"label\": \"STUDY_ARM\", \"filename\": \"stage_12_study_arm_nodes.csv\" },\n",
        "    { \"label\": \"OBJECTIVE\", \"filename\": \"stage_12_objective_nodes.csv\" },\n",
        "    { \"label\": \"CODE\", \"filename\": \"stage_12_code_nodes.csv\" },\n",
        "    { \"label\": \"INVESTIGATIONAL_INTERVENTIONS\", \"filename\": \"stage_12_investigational_interventions_nodes.csv\" },\n",
        "    { \"label\": \"POPULATION\", \"filename\": \"stage_12_population_nodes.csv\" },\n",
        "    { \"label\": \"STUDY_DESIGN\", \"filename\": \"stage_12_study_design_nodes.csv\" },\n",
        "    { \"label\": \"INDICATION\", \"filename\": \"stage_12_indication_nodes.csv\" },\n",
        "    { \"label\": \"STUDY_PROTOCOL\", \"filename\": \"stage_12_study_protocol_nodes.csv\" },\n",
        "    { \"label\": \"STUDY_PHASE\", \"filename\": \"stage_12_study_phase_nodes.csv\" },\n",
        "    { \"label\": \"STUDY_TYPE\", \"filename\": \"stage_12_study_type_nodes.csv\" },\n",
        "    { \"label\": \"STUDY_IDENTIFIER\", \"filename\": \"stage_12_study_identifier_nodes.csv\" },\n",
        "    { \"label\": \"STUDY\", \"filename\": \"stage_12_study_nodes.csv\" },\n",
        "    { \"type\": \"HAS_CODED\", \"filename\": \"stage_12_has_coded_relationships.csv\" },\n",
        "    { \"type\": \"HAS_ENDPOINT\", \"filename\": \"stage_12_has_endpoint_relationships.csv\" },\n",
        "    { \"type\": \"HAS_STUDY_DATA\", \"filename\": \"stage_12_has_study_data_relationships.csv\" },\n",
        "    { \"type\": \"HAS_PROCEDURE\", \"filename\": \"stage_12_has_procedure_relationships.csv\" },\n",
        "    { \"type\": \"HAS_PREVIOUS_ACTIVITY\", \"filename\": \"stage_12_has_previous_activity_relationships.csv\" },\n",
        "    { \"type\": \"USED_IN_VISIT\", \"filename\": \"stage_12_used_in_visit_relationships.csv\" },\n",
        "    { \"type\": \"HAS_ACTIVITY\", \"filename\": \"stage_12_has_activity_relationships.csv\" },\n",
        "    { \"type\": \"HAS_VISIT\", \"filename\": \"stage_12_has_visit_relationships.csv\" },\n",
        "    { \"type\": \"HAS_END_RULE\", \"filename\": \"stage_12_has_end_rule_relationships.csv\" },\n",
        "    { \"type\": \"HAS_START_RULE\", \"filename\": \"stage_12_has_start_rule_relationships.csv\" },\n",
        "    { \"type\": \"HAS_ELEMENT\", \"filename\": \"stage_12_has_element_relationships.csv\" },\n",
        "    { \"type\": \"HAS_EPOCH\", \"filename\": \"stage_12_has_epoch_relationships.csv\" },\n",
        "    { \"type\": \"HAS_ARM\", \"filename\": \"stage_12_has_arm_relationships.csv\" },\n",
        "    { \"type\": \"HAS_CELL\", \"filename\": \"stage_12_has_cell_relationships.csv\" },\n",
        "    { \"type\": \"HAS_OBJECTIVE\", \"filename\": \"stage_12_has_objective_relationships.csv\" },\n",
        "    { \"type\": \"HAS_INDICATION\", \"filename\": \"stage_12_has_indication_relationships.csv\" },\n",
        "    { \"type\": \"HAS_INVESTIGATIONAL_INTERVENTION\", \"filename\": \"stage_12_has_investigational_intervention_relationships.csv\" },\n",
        "    { \"type\": \"HAS_POPULATION\", \"filename\": \"stage_12_has_population_relationships.csv\" },\n",
        "    { \"type\": \"HAS_STUDY_DESIGN\", \"filename\": \"stage_12_has_study_design_relationships.csv\" },\n",
        "    { \"type\": \"HAS_PROTOCOL\", \"filename\": \"stage_12_has_protocol_relationships.csv\" },\n",
        "    { \"type\": \"HAS_STUDY_PHASE\", \"filename\": \"stage_12_has_study_phase_relationships.csv\" },\n",
        "    { \"type\": \"HAS_STUDY_TYPE\", \"filename\": \"stage_12_has_study_type_relationships.csv\" },\n",
        "    { \"type\": \"HAS_IDENTIFIER\", \"filename\": \"stage_12_has_identifier_relationships.csv\" }\n",
        "  ]\n",
        "\n",
        "file_load(stage_12_files)"
      ]
    },
    {
      "cell_type": "markdown",
      "metadata": {
        "id": "GA0K3-bOT5Sp"
      },
      "source": [
        "Add in a study URI for the study"
      ]
    },
    {
      "cell_type": "code",
      "execution_count": 169,
      "metadata": {
        "id": "pyPLkrVgT6CS",
        "colab": {
          "base_uri": "https://localhost:8080/"
        },
        "outputId": "f443d3e3-3db6-4252-c7fb-845f982d8bc5"
      },
      "outputs": [
        {
          "output_type": "stream",
          "name": "stdout",
          "text": [
            "URI for study DDR is http://id.d4k.dk/dataset/study/ddr\n"
          ]
        }
      ],
      "source": [
        "def set_study_uri(brief_title, uri):\n",
        "  with driver.session() as session:\n",
        "    query = \"\"\"MATCH (p:STUDY_PROTOCOL {brief_title: '%s'})<-[]-(s:STUDY)\n",
        "      SET s.uri = '%s'\n",
        "      \"\"\" % (brief_title, uri)\n",
        "    result = session.run(query)\n",
        "  driver.close()\n",
        "\n",
        "def get_study_uri(brief_title):\n",
        "  with driver.session() as session:\n",
        "    query = \"\"\"MATCH (p:STUDY_PROTOCOL {brief_title: '%s'})<-[]-(s:STUDY)\n",
        "      RETURN s.uri as uri;\n",
        "      \"\"\" % (brief_title)\n",
        "    result = session.run(query)\n",
        "    for record in result:\n",
        "      the_result = record[\"uri\"]\n",
        "  driver.close()\n",
        "  return the_result\n",
        "\n",
        "set_study_uri(\"DDR\", \"http://id.d4k.dk/dataset/study/ddr\")\n",
        "print(\"URI for study DDR is %s\" % (get_study_uri(\"DDR\")))"
      ]
    },
    {
      "cell_type": "markdown",
      "metadata": {
        "id": "YKum1W4B4kFn"
      },
      "source": [
        "Duplicate the BC. The study activity Study data node uses WGHT as a code, really need to update it to be \"Weight\" so we can name match all BCs. Just work round this for the moment."
      ]
    },
    {
      "cell_type": "code",
      "execution_count": null,
      "metadata": {
        "id": "kuX-JoiR4msA",
        "colab": {
          "base_uri": "https://localhost:8080/"
        },
        "outputId": "a8f49aeb-56f0-4530-9778-b29420dfea26"
      },
      "outputs": [
        {
          "output_type": "stream",
          "name": "stdout",
          "text": [
            "13 nodes duplicated for BC Weight\n",
            "16 nodes duplicated for BC Age\n",
            "18 nodes duplicated for BC Race\n",
            "15 nodes duplicated for BC Sex\n",
            "15 nodes duplicated for BC Ethnicity\n",
            "[Test, coding] -> [FHIR, coding]\n",
            "[Test, coding] -> [FHIR, coding]\n",
            "[Test, coding] -> [FHIR, coding]\n",
            "[Result, coding] -> [FHIR, coding]\n",
            "[Result, coding] -> [FHIR, coding]\n",
            "[Test, coding] -> [FHIR, coding]\n",
            "[Result, coding] -> [FHIR, coding]\n",
            "[Test, coding] -> [FHIR, coding]\n",
            "[Result, quantity] -> [FHIR, quantity]\n",
            "[Result, quantity] -> [FHIR, quantity]\n",
            "[Date Time, date_time] -> [FHIR, date_time]\n",
            "[Date Time, date_time] -> [FHIR, date_time]\n",
            "[Date Time, date_time] -> [FHIR, date_time]\n",
            "[Date Time, date_time] -> [FHIR, date_time]\n",
            "[Date Time, date_time] -> [FHIR, date_time]\n",
            "Node duplicated: http://id.d4k.dk/dataset/bc_instance/weight/result/quantity/unit, unit\n",
            "Node duplicated: http://id.d4k.dk/dataset/bc_instance/weight/result/quantity/code, code\n",
            "Node duplicated: http://id.d4k.dk/dataset/bc_instance/weight/result/quantity/comparator, comparator\n",
            "Node duplicated: http://id.d4k.dk/dataset/bc_instance/weight/result/quantity/value, value\n",
            "Node duplicated: http://id.d4k.dk/dataset/bc_instance/weight/result/quantity/system, system\n",
            "Node duplicated: http://id.d4k.dk/dataset/bc_instance/weight/date_time/date_time/value, value\n",
            "Node duplicated: http://id.d4k.dk/dataset/bc_instance/weight/test/coding/user_selected, user_selected\n",
            "Node duplicated: http://id.d4k.dk/dataset/bc_instance/weight/test/coding/display, display\n",
            "Node duplicated: http://id.d4k.dk/dataset/bc_instance/weight/test/coding/code, code\n",
            "Node duplicated: http://id.d4k.dk/dataset/bc_instance/weight/test/coding/version, version\n",
            "Node duplicated: http://id.d4k.dk/dataset/bc_instance/weight/test/coding/system, system\n",
            "Node duplicated: http://id.d4k.dk/dataset/bc_instance/age/test/coding/user_selected, user_selected\n",
            "Node duplicated: http://id.d4k.dk/dataset/bc_instance/age/test/coding/display, display\n",
            "Node duplicated: http://id.d4k.dk/dataset/bc_instance/age/test/coding/code, code\n",
            "Node duplicated: http://id.d4k.dk/dataset/bc_instance/age/test/coding/version, version\n",
            "Node duplicated: http://id.d4k.dk/dataset/bc_instance/age/test/coding/system, system\n",
            "Node duplicated: http://id.d4k.dk/dataset/bc_instance/age/date_time/date_time/value, value\n",
            "Node duplicated: http://id.d4k.dk/dataset/bc_instance/age/result/quantity/unit, unit\n",
            "Node duplicated: http://id.d4k.dk/dataset/bc_instance/age/result/quantity/code, code\n",
            "Node duplicated: http://id.d4k.dk/dataset/bc_instance/age/result/quantity/comparator, comparator\n",
            "Node duplicated: http://id.d4k.dk/dataset/bc_instance/age/result/quantity/value, value\n",
            "Node duplicated: http://id.d4k.dk/dataset/bc_instance/age/result/quantity/system, system\n",
            "Node duplicated: http://id.d4k.dk/dataset/bc_instance/race/test/coding/user_selected, user_selected\n",
            "Node duplicated: http://id.d4k.dk/dataset/bc_instance/race/test/coding/display, display\n",
            "Node duplicated: http://id.d4k.dk/dataset/bc_instance/race/test/coding/code, code\n",
            "Node duplicated: http://id.d4k.dk/dataset/bc_instance/race/test/coding/version, version\n",
            "Node duplicated: http://id.d4k.dk/dataset/bc_instance/race/test/coding/system, system\n",
            "Node duplicated: http://id.d4k.dk/dataset/bc_instance/race/result/coding/user_selected, user_selected\n",
            "Node duplicated: http://id.d4k.dk/dataset/bc_instance/race/result/coding/display, display\n",
            "Node duplicated: http://id.d4k.dk/dataset/bc_instance/race/result/coding/code, code\n",
            "Node duplicated: http://id.d4k.dk/dataset/bc_instance/race/result/coding/version, version\n",
            "Node duplicated: http://id.d4k.dk/dataset/bc_instance/race/result/coding/system, system\n",
            "Node duplicated: http://id.d4k.dk/dataset/bc_instance/race/date_time/date_time/value, value\n",
            "Node duplicated: http://id.d4k.dk/dataset/bc_instance/sex/result/coding/user_selected, user_selected\n",
            "Node duplicated: http://id.d4k.dk/dataset/bc_instance/sex/result/coding/display, display\n",
            "Node duplicated: http://id.d4k.dk/dataset/bc_instance/sex/result/coding/code, code\n",
            "Node duplicated: http://id.d4k.dk/dataset/bc_instance/sex/result/coding/version, version\n",
            "Node duplicated: http://id.d4k.dk/dataset/bc_instance/sex/result/coding/system, system\n",
            "Node duplicated: http://id.d4k.dk/dataset/bc_instance/sex/date_time/date_time/value, value\n",
            "Node duplicated: http://id.d4k.dk/dataset/bc_instance/sex/test/coding/user_selected, user_selected\n",
            "Node duplicated: http://id.d4k.dk/dataset/bc_instance/sex/test/coding/display, display\n",
            "Node duplicated: http://id.d4k.dk/dataset/bc_instance/sex/test/coding/code, code\n",
            "Node duplicated: http://id.d4k.dk/dataset/bc_instance/sex/test/coding/version, version\n",
            "Node duplicated: http://id.d4k.dk/dataset/bc_instance/sex/test/coding/system, system\n",
            "Node duplicated: http://id.d4k.dk/dataset/bc_instance/ethnicity/date_time/date_time/value, value\n",
            "Node duplicated: http://id.d4k.dk/dataset/bc_instance/ethnicity/result/coding/user_selected, user_selected\n",
            "Node duplicated: http://id.d4k.dk/dataset/bc_instance/ethnicity/result/coding/display, display\n",
            "Node duplicated: http://id.d4k.dk/dataset/bc_instance/ethnicity/result/coding/code, code\n",
            "Node duplicated: http://id.d4k.dk/dataset/bc_instance/ethnicity/result/coding/version, version\n",
            "Node duplicated: http://id.d4k.dk/dataset/bc_instance/ethnicity/result/coding/system, system\n",
            "Node duplicated: http://id.d4k.dk/dataset/bc_instance/ethnicity/test/coding/user_selected, user_selected\n",
            "Node duplicated: http://id.d4k.dk/dataset/bc_instance/ethnicity/test/coding/display, display\n",
            "Node duplicated: http://id.d4k.dk/dataset/bc_instance/ethnicity/test/coding/code, code\n",
            "Node duplicated: http://id.d4k.dk/dataset/bc_instance/ethnicity/test/coding/version, version\n",
            "Node duplicated: http://id.d4k.dk/dataset/bc_instance/ethnicity/test/coding/system, system\n",
            "Node uri updated: http://id.d4k.dk/dataset/study/ddr/bc/Age/site_of_administration\n",
            "Node uri updated: http://id.d4k.dk/dataset/study/ddr/bc/Age/position\n",
            "Node uri updated: http://id.d4k.dk/dataset/study/ddr/bc/Age/laterality\n",
            "Node uri updated: http://id.d4k.dk/dataset/study/ddr/bc/Age/date_time\n",
            "Node uri updated: http://id.d4k.dk/dataset/study/ddr/bc/Age/method\n",
            "Node uri updated: http://id.d4k.dk/dataset/study/ddr/bc/Age/result\n",
            "Node uri updated: http://id.d4k.dk/dataset/study/ddr/bc/Age/test\n",
            "Node uri updated: http://id.d4k.dk/dataset/study/ddr/bc/Age/test\n",
            "Node uri updated: http://id.d4k.dk/dataset/study/ddr/bc/Age/date_time/date_time\n",
            "Node uri updated: http://id.d4k.dk/dataset/study/ddr/bc/Age/result/quantity\n",
            "Node uri updated: http://id.d4k.dk/dataset/study/ddr/bc/Age/test/coding\n",
            "Node uri updated: http://id.d4k.dk/dataset/study/ddr/bc/Age/date_time/date_time/value\n",
            "Node uri updated: http://id.d4k.dk/dataset/study/ddr/bc/Age/result/quantity/unit\n",
            "Node uri updated: http://id.d4k.dk/dataset/study/ddr/bc/Age/result/quantity/system\n",
            "Node uri updated: http://id.d4k.dk/dataset/study/ddr/bc/Age/result/quantity/code\n",
            "Node uri updated: http://id.d4k.dk/dataset/study/ddr/bc/Age/result/quantity/comparator\n",
            "Node uri updated: http://id.d4k.dk/dataset/study/ddr/bc/Age/result/quantity/value\n",
            "Node uri updated: None\n",
            "Node uri updated: None\n",
            "Node uri updated: None\n",
            "Node uri updated: None\n",
            "Node uri updated: None\n",
            "Node uri updated: http://id.d4k.dk/dataset/study/ddr/bc/Age/test/coding/display\n",
            "Node uri updated: http://id.d4k.dk/dataset/study/ddr/bc/Age/test/coding/version\n",
            "Node uri updated: http://id.d4k.dk/dataset/study/ddr/bc/Age/test/coding/user_selected\n",
            "Node uri updated: http://id.d4k.dk/dataset/study/ddr/bc/Age/test/coding/code\n",
            "Node uri updated: http://id.d4k.dk/dataset/study/ddr/bc/Age/test/coding/system\n",
            "Node uri updated: None\n",
            "Node uri updated: http://id.d4k.dk/dataset/study/ddr/bc/Race/site_of_administration\n",
            "Node uri updated: http://id.d4k.dk/dataset/study/ddr/bc/Race/result\n",
            "Node uri updated: http://id.d4k.dk/dataset/study/ddr/bc/Race/laterality\n",
            "Node uri updated: http://id.d4k.dk/dataset/study/ddr/bc/Race/position\n",
            "Node uri updated: http://id.d4k.dk/dataset/study/ddr/bc/Race/test\n",
            "Node uri updated: http://id.d4k.dk/dataset/study/ddr/bc/Race/test\n",
            "Node uri updated: http://id.d4k.dk/dataset/study/ddr/bc/Race/date_time\n",
            "Node uri updated: http://id.d4k.dk/dataset/study/ddr/bc/Race/method\n",
            "Node uri updated: http://id.d4k.dk/dataset/study/ddr/bc/Race/result/coding\n",
            "Node uri updated: http://id.d4k.dk/dataset/study/ddr/bc/Race/test/coding\n",
            "Node uri updated: http://id.d4k.dk/dataset/study/ddr/bc/Race/date_time/date_time\n",
            "Node uri updated: http://id.d4k.dk/dataset/study/ddr/bc/Race/result/coding/user_selected\n",
            "Node uri updated: http://id.d4k.dk/dataset/study/ddr/bc/Race/result/coding/display\n",
            "Node uri updated: http://id.d4k.dk/dataset/study/ddr/bc/Race/result/coding/code\n",
            "Node uri updated: http://id.d4k.dk/dataset/study/ddr/bc/Race/result/coding/version\n",
            "Node uri updated: http://id.d4k.dk/dataset/study/ddr/bc/Race/result/coding/system\n",
            "Node uri updated: None\n",
            "Node uri updated: None\n",
            "Node uri updated: None\n",
            "Node uri updated: None\n",
            "Node uri updated: None\n",
            "Node uri updated: None\n",
            "Node uri updated: None\n",
            "Node uri updated: http://id.d4k.dk/dataset/study/ddr/bc/Race/test/coding/display\n",
            "Node uri updated: http://id.d4k.dk/dataset/study/ddr/bc/Race/test/coding/user_selected\n",
            "Node uri updated: http://id.d4k.dk/dataset/study/ddr/bc/Race/test/coding/system\n",
            "Node uri updated: http://id.d4k.dk/dataset/study/ddr/bc/Race/test/coding/code\n",
            "Node uri updated: http://id.d4k.dk/dataset/study/ddr/bc/Race/test/coding/version\n",
            "Node uri updated: None\n",
            "Node uri updated: http://id.d4k.dk/dataset/study/ddr/bc/Race/date_time/date_time/value\n",
            "Node uri updated: http://id.d4k.dk/dataset/study/ddr/bc/Sex/result\n",
            "Node uri updated: http://id.d4k.dk/dataset/study/ddr/bc/Sex/laterality\n",
            "Node uri updated: http://id.d4k.dk/dataset/study/ddr/bc/Sex/test\n",
            "Node uri updated: http://id.d4k.dk/dataset/study/ddr/bc/Sex/test\n",
            "Node uri updated: http://id.d4k.dk/dataset/study/ddr/bc/Sex/position\n",
            "Node uri updated: http://id.d4k.dk/dataset/study/ddr/bc/Sex/date_time\n",
            "Node uri updated: http://id.d4k.dk/dataset/study/ddr/bc/Sex/site_of_administration\n",
            "Node uri updated: http://id.d4k.dk/dataset/study/ddr/bc/Sex/method\n",
            "Node uri updated: http://id.d4k.dk/dataset/study/ddr/bc/Sex/result/coding\n",
            "Node uri updated: http://id.d4k.dk/dataset/study/ddr/bc/Sex/test/coding\n",
            "Node uri updated: http://id.d4k.dk/dataset/study/ddr/bc/Sex/date_time/date_time\n",
            "Node uri updated: http://id.d4k.dk/dataset/study/ddr/bc/Sex/result/coding/version\n",
            "Node uri updated: http://id.d4k.dk/dataset/study/ddr/bc/Sex/result/coding/display\n",
            "Node uri updated: http://id.d4k.dk/dataset/study/ddr/bc/Sex/result/coding/user_selected\n",
            "Node uri updated: http://id.d4k.dk/dataset/study/ddr/bc/Sex/result/coding/system\n",
            "Node uri updated: http://id.d4k.dk/dataset/study/ddr/bc/Sex/result/coding/code\n",
            "Node uri updated: None\n",
            "Node uri updated: None\n",
            "Node uri updated: None\n",
            "Node uri updated: None\n",
            "Node uri updated: http://id.d4k.dk/dataset/study/ddr/bc/Sex/test/coding/display\n",
            "Node uri updated: http://id.d4k.dk/dataset/study/ddr/bc/Sex/test/coding/user_selected\n",
            "Node uri updated: http://id.d4k.dk/dataset/study/ddr/bc/Sex/test/coding/system\n",
            "Node uri updated: http://id.d4k.dk/dataset/study/ddr/bc/Sex/test/coding/version\n",
            "Node uri updated: http://id.d4k.dk/dataset/study/ddr/bc/Sex/test/coding/code\n",
            "Node uri updated: None\n",
            "Node uri updated: http://id.d4k.dk/dataset/study/ddr/bc/Sex/date_time/date_time/value\n"
          ]
        }
      ],
      "source": [
        "def duplicate_bc(study_data_name, bc_name, study_uri):\n",
        "  bc_uri = \"%s/bc/%s\" % (study_uri, bc_name)\n",
        "  with driver.session() as session:\n",
        "    query = \"\"\"MATCH (a:ACTIVITY)-[]->(sd:STUDY_DATA) WHERE sd.name = '%s'\n",
        "      WITH a, sd\n",
        "      MATCH (bc:BC_INSTANCE) WHERE bc.name = '%s'\n",
        "      WITH a, sd, bc\n",
        "      CREATE (a)-[:HAS_BC]->(new:STUDY_BC_INSTANCE)\n",
        "      SET new = bc\n",
        "      SET new.uri = '%s'\n",
        "      CREATE (new)-[:BASED_ON]->(bc)\n",
        "      WITH bc, new\n",
        "      CALL apoc.path.subgraphAll(bc, {relationshipFilter:'HAS_ITEM>|HAS_DATA_TYPE>|HAS_RESPONSE>'})\n",
        "      YIELD nodes, relationships\n",
        "      CALL apoc.refactor.cloneSubgraph(\n",
        "        nodes,\n",
        "        [rel in relationships WHERE type(rel) = 'HAS_DATA_TYPE_PROPERTY'],\n",
        "        { standinNodes:[[bc, new]] })\n",
        "      YIELD input, output, error\n",
        "      RETURN output;\n",
        "      \"\"\" % (study_data_name, bc_name, bc_uri)\n",
        "    result = session.run(query)\n",
        "    print(\"%i nodes duplicated for BC %s\" % (len(result.values()), bc_name))\n",
        "  driver.close()\n",
        "  return bc_uri\n",
        "\n",
        "def update_bc_uris(bc_uri):\n",
        "  with driver.session() as session:\n",
        "    ids = []\n",
        "    query = \"\"\"MATCH (bc:STUDY_BC_INSTANCE) WHERE bc.uri = '%s'\n",
        "      WITH bc\n",
        "      CALL apoc.path.subgraphAll(bc, {relationshipFilter:'HAS_ITEM>|HAS_DATA_TYPE>|HAS_DATA_TYPE_PROPERTY>|HAS_RESPONSE>'})\n",
        "      YIELD nodes, relationships\n",
        "      RETURN nodes;\n",
        "    \"\"\" % (bc_uri)\n",
        "    result = session.run(query)\n",
        "    for record in result:\n",
        "      for node in record:\n",
        "        for node1 in node:\n",
        "          if node1['uri'] == bc_uri:\n",
        "            continue\n",
        "          ids.append({\"id\": node1.id})\n",
        " \n",
        "    query = \"\"\"UNWIND $id_data AS d\n",
        "      MATCH (p)-[]->(n) WHERE ID(n)=d.id\n",
        "      SET n.uri = p.uri + '/' + replace(toLower(n.name), \" \", \"_\")\n",
        "      RETURN n.uri as uri\"\"\"\n",
        "    result = session.run(query, id_data=ids)\n",
        "    for record in result:\n",
        "      print(\"Node uri updated: %s\" % (record[\"uri\"]))\n",
        "  driver.close()\n",
        "\n",
        "def add_bc_canonical_refs(bc_uri):\n",
        "  with driver.session() as session:\n",
        "    query = \"\"\"MATCH (n:STUDY_BC_INSTANCE {uri: '%s'})-[:BASED_ON]->(in)-[:BASED_ON]->(t)-[]->(i:BC_ITEM)\n",
        "      -[]->(dt:BC_DATA_TYPE)\n",
        "      -[]->(p:BC_DATA_TYPE_PROPERTY)\n",
        "      -[]->(cr:CANONICAL_DATA_TYPE_PROPERTY) \n",
        "      WITH n, i.name as i_name, dt.name as dt_name, p.name as p_name, cr\n",
        "      MATCH (n:STUDY_BC_INSTANCE {uri: '%s'})-[]->(BC_ITEM {name: i_name})\n",
        "      -[]->(BC_DATA_TYPE {name: dt_name})\n",
        "      -[]->(sp:BC_DATA_TYPE_PROPERTY {name: p_name})\n",
        "      WITH sp, cr\n",
        "      CREATE (sp)-[:IS_CANONICAL_REF]->(cr) \n",
        "      RETURN sp.name as name, cr.uri as uri\n",
        "    \"\"\" % (bc_uri, bc_uri)\n",
        "    result = session.run(query)\n",
        "    for record in result:\n",
        "      print(\"Canonical reference set: %s -> %s\" % (record[\"name\"], record[\"uri\"]))\n",
        "  driver.close()\n",
        "\n",
        "# Get the study URI, will be used as the base URI for the BC URIs\n",
        "study_uri = get_study_uri(\"DDR\")\n",
        "\n",
        "# Duplicate the BCs for the study\n",
        "weight_bc_uri = duplicate_bc(\"WGHT\", \"Weight\", study_uri)\n",
        "age_bc_uri = duplicate_bc(\"AGE\", \"Age\", study_uri)\n",
        "race_bc_uri = duplicate_bc(\"RACE\", \"Race\", study_uri)\n",
        "sex_bc_uri = duplicate_bc(\"SEX\", \"Sex\", study_uri)\n",
        "ethnicity_bc_uri = duplicate_bc(\"ETHNICITY\", \"Ethnicity\", study_uri)\n",
        "\n",
        "# Add in all the data type nodes for all BCs\n",
        "link_data_types(\"BC_ITEM\", \"BC_DATA_TYPE\")\n",
        "duplicate_data_type_nodes(\"BC_DATA_TYPE\", \"BC_DATA_TYPE_PROPERTY\")\n",
        "\n",
        "# Set the URIs for the BCs and add in the lines to the canonical nodes\n",
        "update_bc_uris(age_bc_uri)\n",
        "update_bc_uris(race_bc_uri)\n",
        "update_bc_uris(sex_bc_uri)\n",
        "update_bc_uris(ethnicity_bc_uri)\n",
        "update_bc_uris(weight_bc_uri)\n",
        "add_bc_canonical_refs(age_bc_uri)\n",
        "add_bc_canonical_refs(race_bc_uri)\n",
        "add_bc_canonical_refs(sex_bc_uri)\n",
        "add_bc_canonical_refs(ethnicity_bc_uri)\n",
        "add_bc_canonical_refs(weight_bc_uri)"
      ]
    },
    {
      "cell_type": "markdown",
      "metadata": {
        "id": "Nb03qGwqr8XC"
      },
      "source": [
        "And the final configuration needed is to link Domains to the Study BC Instances. The BC Instances are already linked, so we are inheriting the links"
      ]
    },
    {
      "cell_type": "code",
      "execution_count": null,
      "metadata": {
        "id": "WULn_Q0ZsNh-"
      },
      "outputs": [],
      "source": [
        "with driver.session() as session:\n",
        "\n",
        "  query = \"\"\"MATCH (n:SDTM_DATASET)-[:CAN_USE_BC]->(bc:BC_INSTANCE) WHERE NOT (n)-[:USE_BC]->()\n",
        "    WITH n, bc\n",
        "    MATCH (sbc:STUDY_BC_INSTANCE)-[:BASED_ON]->(bc)\n",
        "    MERGE (n)-[:USE_BC {enabled: true}]->(sbc)\n",
        "    RETURN sbc.name as bc_name, n.name as domain\n",
        "  \"\"\"\n",
        "  result = session.run(query)\n",
        "  for record in result:\n",
        "    print (\"%s -> %s\" % (record[\"domain\"], record[\"bc_name\"]))\n"
      ]
    },
    {
      "cell_type": "markdown",
      "metadata": {
        "id": "afn_QfsHBHK1"
      },
      "source": [
        "Now load any Code Lists used by the BCs. Check loaded OK.\n",
        "\n",
        "- C66741 - VSTESTCD\n",
        "- C66770 - VSRESU"
      ]
    },
    {
      "cell_type": "code",
      "execution_count": null,
      "metadata": {
        "id": "X3LEAFoNBBwN"
      },
      "outputs": [],
      "source": [
        "load_cl(\"sdtm\", \"C66741\")\n",
        "load_cl(\"sdtm\", \"C66770\")\n",
        "load_cl(\"sdtm\", \"C74457\")\n",
        "load_cl(\"sdtm\", \"C66731\")\n",
        "load_cl(\"sdtm\", \"C66781\")\n",
        "load_cl(\"sdtm\", \"C66790\")\n",
        "dump_cl(\"C66741\")\n",
        "dump_cl(\"C66770\")\n",
        "dump_cl(\"C74457\")\n",
        "\n"
      ]
    },
    {
      "cell_type": "markdown",
      "metadata": {
        "id": "6Hu2OWWgEOGF"
      },
      "source": [
        "LOad the sponsor CT"
      ]
    },
    {
      "cell_type": "code",
      "execution_count": null,
      "metadata": {
        "id": "Er-QzPgyEL-c"
      },
      "outputs": [],
      "source": [
        "stage_14_files = [ \n",
        "    { \"label\": \"OTHER_SOURCE\", \"filename\": \"stage_14_other_source_nodes.csv\" },\n",
        "    { \"label\": \"SKOS_CONCEPT\", \"filename\": \"stage_14_skos_concept_nodes.csv\" },\n",
        "    { \"label\": \"SKOS_CONCEPT_SCHEME\", \"filename\": \"stage_14_skos_concept_scheme_nodes.csv\" },\n",
        "    { \"type\": \"FROM_SOURCE\", \"filename\": \"stage_14_from_source_relationships.csv\" },\n",
        "    { \"type\": \"SKOS_HAS_TOP_CONCEPT\", \"filename\": \"stage_14_skos_has_top_concept_relationships.csv\" },\n",
        "    { \"type\": \"SKOS_NARROWER\", \"filename\": \"stage_14_skos_narrower_relationships.csv\" }\n",
        "  ]\n",
        "\n",
        "file_load(stage_14_files)\n",
        "\n",
        "dump_cl(\"D000001\")"
      ]
    },
    {
      "cell_type": "markdown",
      "metadata": {
        "id": "HbJjJlWRvIst"
      },
      "source": [
        "Now link up to the CT for the library BCs and the Study versions"
      ]
    },
    {
      "cell_type": "code",
      "execution_count": null,
      "metadata": {
        "id": "SKmdXytqu964"
      },
      "outputs": [],
      "source": [
        "with driver.session() as session:\n",
        "  query = \"\"\"MATCH (n:BC_DATA_TYPE)-[:HAS_RESPONSE]->(d) \n",
        "    WITH n,d\n",
        "    MATCH (cl:SKOS_CONCEPT {identifier: d.cl})-[]->(cli:SKOS_CONCEPT {identifier: d.cli})\n",
        "    MERGE (n)-[:HAS_RESPONSE]->(cli)\n",
        "    DETACH DELETE d\n",
        "    RETURN n.name as name, cli.uri as uri\n",
        "  \"\"\" \n",
        "  result = session.run(query)\n",
        "  for record in result:\n",
        "    print (\"%s -> %s\" % (record[\"name\"], record[\"uri\"]))\n",
        "driver.close()"
      ]
    },
    {
      "cell_type": "markdown",
      "metadata": {
        "id": "2zF0UNGp-IS1"
      },
      "source": [
        "Now add in some data points. A data point will point at the BC and the visit to which is applies (it will point to the WorkFlow Item). This is the nature of the DDF model. I think we can make it better."
      ]
    },
    {
      "cell_type": "code",
      "execution_count": null,
      "metadata": {
        "id": "yWGusP1IAj9y"
      },
      "outputs": [],
      "source": [
        "with driver.session() as session:\n",
        "  query = \"\"\"MATCH (v:VISIT)<-[]-(w:WORKFLOW_ITEM)-[]->(a:ACTIVITY)-[]->(bc:STUDY_BC_INSTANCE) RETURN v.name as visit, w.id as wfi , a.description as activity, bc.name as bc\"\"\" \n",
        "  result = session.run(query)\n",
        "  for record in result:\n",
        "    print (\"%s -> %s -> %s -> %s\" % (record[\"visit\"], record[\"wfi\"], record[\"activity\"], record[\"bc\"]))\n",
        "driver.close()"
      ]
    },
    {
      "cell_type": "markdown",
      "metadata": {
        "id": "N3qjZSP9DXPm"
      },
      "source": [
        "A query just to print out the URIs of the Study BC Instances so we can find them easily to setup the data. In a real system this would be automatic. This is an expansion of the above query."
      ]
    },
    {
      "cell_type": "code",
      "execution_count": null,
      "metadata": {
        "id": "c_iDlAQPDXlt"
      },
      "outputs": [],
      "source": [
        "with driver.session() as session:\n",
        "  query = \"\"\"MATCH (v:VISIT)<-[]-(w:WORKFLOW_ITEM)-[]->(a:ACTIVITY)-[]->(bc:STUDY_BC_INSTANCE)-[HAS_ITEM]->()\n",
        "    -[HAS_DATA_TYPE]->()-[HAS_DATA_TYPE_PROPERTY]->(bdtp:BC_DATA_TYPE_PROPERTY) \n",
        "    RETURN DISTINCT v.name as visit, w.id as wfi, a.description as activity, bc.name as bc, bdtp.uri as uri\"\"\" \n",
        "  result = session.run(query)\n",
        "  for record in result:\n",
        "    print (\"%s -> %s -> %s -> %s -> %s\" % (record[\"visit\"], record[\"wfi\"], record[\"activity\"], record[\"bc\"], record[\"uri\"]))\n",
        "driver.close()"
      ]
    },
    {
      "cell_type": "markdown",
      "metadata": {
        "id": "OGtpGMvUTNwa"
      },
      "source": [
        "Create some simple data. We need the actual data point plus just enough information to attach it to the study graph. So \n",
        "\n",
        "- Create subjects\n",
        "- Create data points and link into the study design and the BC attached to (the Study instance, not the definition of the BC that we copied earlier)"
      ]
    },
    {
      "cell_type": "code",
      "execution_count": null,
      "metadata": {
        "id": "rCiifSaj-Cs_"
      },
      "outputs": [],
      "source": [
        "uri_refs = { \"weight\": {}, \"age\": {}, \"race\": {}, \"sex\": {}, \"ethnicity\": {} }\n",
        "uri_refs[\"weight\"][\"value\"] = \"http://id.d4k.dk/dataset/study/ddr/bc/Weight/result/quantity/value\"\n",
        "uri_refs[\"weight\"][\"unit\"] = \"http://id.d4k.dk/dataset/study/ddr/bc/Weight/result/quantity/unit\"\n",
        "uri_refs[\"weight\"][\"date_time\"] = \"http://id.d4k.dk/dataset/study/ddr/bc/Weight/date_time/date_time/value\"\n",
        "\n",
        "uri_refs[\"age\"][\"value\"] = \"http://id.d4k.dk/dataset/study/ddr/bc/Age/result/quantity/value\"\n",
        "uri_refs[\"age\"][\"unit\"] = \"http://id.d4k.dk/dataset/study/ddr/bc/Age/result/quantity/unit\"\n",
        "uri_refs[\"age\"][\"date_time\"] = \"http://id.d4k.dk/dataset/study/ddr/bc/Age/date_time/date_time/value\"\n",
        "\n",
        "uri_refs[\"race\"][\"value\"] = \"http://id.d4k.dk/dataset/study/ddr/bc/Race/result/coding/code\"\n",
        "uri_refs[\"race\"][\"date_time\"] = \"http://id.d4k.dk/dataset/study/ddr/bc/Race/date_time/date_time/value\"\n",
        "\n",
        "uri_refs[\"sex\"][\"value\"] = \"http://id.d4k.dk/dataset/study/ddr/bc/Sex/result/coding/code\"\n",
        "uri_refs[\"sex\"][\"date_time\"] = \"http://id.d4k.dk/dataset/study/ddr/bc/Sex/date_time/date_time/value\"\n",
        "\n",
        "uri_refs[\"ethnicity\"][\"value\"] = \"http://id.d4k.dk/dataset/study/ddr/bc/Ethnicity/result/coding/code\"\n",
        "uri_refs[\"ethnicity\"][\"date_time\"] = \"http://id.d4k.dk/dataset/study/ddr/bc/Ethnicity/date_time/date_time/value\"\n",
        "\n",
        "subjects = [ \n",
        "  { \"subject_id\": \"1234\"}, \n",
        "  { \"subject_id\": \"1235\" }, \n",
        "  { \"subject_id\": \"1236\" }, \n",
        "  { \"subject_id\": \"1237\" }\n",
        "]\n",
        "\n",
        "time_1234 = \"2022-02-11T09:57:00\" \n",
        "time_1235 = \"2022-02-12T10:17:00\"\n",
        "time_1236 = \"2022-02-13T13:27:00\"\n",
        "time_1237 = \"2022-02-15T11:17:00\"\n",
        "  \n",
        "subject_data = [\n",
        "  { \"subject_id\": \"1234\", \"visit\": \"SCREENING VISIT\", \"data_point\": uri_refs[\"age\"][\"value\"], \"value\": \"22\" },\n",
        "  { \"subject_id\": \"1234\", \"visit\": \"SCREENING VISIT\", \"data_point\": uri_refs[\"age\"][\"unit\"], \"value\": \"YEARS\" },\n",
        "  { \"subject_id\": \"1234\", \"visit\": \"SCREENING VISIT\", \"data_point\": uri_refs[\"age\"][\"date_time\"], \"value\": time_1234 },\n",
        "  { \"subject_id\": \"1234\", \"visit\": \"SCREENING VISIT\", \"data_point\": uri_refs[\"race\"][\"value\"], \"value\": \"WHITE\" },\n",
        "  { \"subject_id\": \"1234\", \"visit\": \"SCREENING VISIT\", \"data_point\": uri_refs[\"race\"][\"date_time\"], \"value\": time_1234 },\n",
        "  { \"subject_id\": \"1234\", \"visit\": \"SCREENING VISIT\", \"data_point\": uri_refs[\"sex\"][\"value\"], \"value\": \"M\" },\n",
        "  { \"subject_id\": \"1234\", \"visit\": \"SCREENING VISIT\", \"data_point\": uri_refs[\"sex\"][\"date_time\"], \"value\": time_1234 },\n",
        "  { \"subject_id\": \"1234\", \"visit\": \"SCREENING VISIT\", \"data_point\": uri_refs[\"ethnicity\"][\"value\"], \"value\": \"NOT HISPANIC OR LATINO\" },\n",
        "  { \"subject_id\": \"1234\", \"visit\": \"SCREENING VISIT\", \"data_point\": uri_refs[\"ethnicity\"][\"date_time\"], \"value\": time_1234 },\n",
        "  \n",
        "  { \"subject_id\": \"1235\", \"visit\": \"SCREENING VISIT\", \"data_point\": uri_refs[\"age\"][\"value\"], \"value\": \"62\" },\n",
        "  { \"subject_id\": \"1235\", \"visit\": \"SCREENING VISIT\", \"data_point\": uri_refs[\"age\"][\"unit\"], \"value\": \"YEARS\" },\n",
        "  { \"subject_id\": \"1235\", \"visit\": \"SCREENING VISIT\", \"data_point\": uri_refs[\"age\"][\"date_time\"], \"value\": time_1235 },\n",
        "  { \"subject_id\": \"1235\", \"visit\": \"SCREENING VISIT\", \"data_point\": uri_refs[\"race\"][\"value\"], \"value\": \"ASIAN\" },\n",
        "  { \"subject_id\": \"1235\", \"visit\": \"SCREENING VISIT\", \"data_point\": uri_refs[\"race\"][\"date_time\"], \"value\": time_1235 },\n",
        "  { \"subject_id\": \"1235\", \"visit\": \"SCREENING VISIT\", \"data_point\": uri_refs[\"sex\"][\"value\"], \"value\": \"M\" },\n",
        "  { \"subject_id\": \"1235\", \"visit\": \"SCREENING VISIT\", \"data_point\": uri_refs[\"sex\"][\"date_time\"], \"value\": time_1235 },\n",
        "  { \"subject_id\": \"1235\", \"visit\": \"SCREENING VISIT\", \"data_point\": uri_refs[\"ethnicity\"][\"value\"], \"value\": \"NOT HISPANIC OR LATINO\" },\n",
        "  { \"subject_id\": \"1235\", \"visit\": \"SCREENING VISIT\", \"data_point\": uri_refs[\"ethnicity\"][\"date_time\"], \"value\": time_1235 },\n",
        "  \n",
        "  { \"subject_id\": \"1236\", \"visit\": \"SCREENING VISIT\", \"data_point\": uri_refs[\"age\"][\"value\"], \"value\": \"37\" },\n",
        "  { \"subject_id\": \"1236\", \"visit\": \"SCREENING VISIT\", \"data_point\": uri_refs[\"age\"][\"unit\"], \"value\": \"YEARS\" },\n",
        "  { \"subject_id\": \"1236\", \"visit\": \"SCREENING VISIT\", \"data_point\": uri_refs[\"age\"][\"date_time\"], \"value\": time_1236 },\n",
        "  { \"subject_id\": \"1236\", \"visit\": \"SCREENING VISIT\", \"data_point\": uri_refs[\"race\"][\"value\"], \"value\": \"ASIAN\" },\n",
        "  { \"subject_id\": \"1236\", \"visit\": \"SCREENING VISIT\", \"data_point\": uri_refs[\"race\"][\"date_time\"], \"value\": time_1236 },\n",
        "  { \"subject_id\": \"1236\", \"visit\": \"SCREENING VISIT\", \"data_point\": uri_refs[\"sex\"][\"value\"], \"value\": \"M\" },\n",
        "  { \"subject_id\": \"1236\", \"visit\": \"SCREENING VISIT\", \"data_point\": uri_refs[\"sex\"][\"date_time\"], \"value\": time_1236 },\n",
        "  { \"subject_id\": \"1236\", \"visit\": \"SCREENING VISIT\", \"data_point\": uri_refs[\"ethnicity\"][\"value\"], \"value\": \"NOT HISPANIC OR LATINO\" },\n",
        "  { \"subject_id\": \"1236\", \"visit\": \"SCREENING VISIT\", \"data_point\": uri_refs[\"ethnicity\"][\"date_time\"], \"value\": time_1236 },\n",
        "  \n",
        "  { \"subject_id\": \"1237\", \"visit\": \"SCREENING VISIT\", \"data_point\": uri_refs[\"age\"][\"value\"], \"value\": \"28\" },\n",
        "  { \"subject_id\": \"1237\", \"visit\": \"SCREENING VISIT\", \"data_point\": uri_refs[\"age\"][\"unit\"], \"value\": \"YEARS\" },\n",
        "  { \"subject_id\": \"1237\", \"visit\": \"SCREENING VISIT\", \"data_point\": uri_refs[\"age\"][\"date_time\"], \"value\": time_1237 },\n",
        "  { \"subject_id\": \"1237\", \"visit\": \"SCREENING VISIT\", \"data_point\": uri_refs[\"race\"][\"value\"], \"value\": \"WHITE\" },\n",
        "  { \"subject_id\": \"1237\", \"visit\": \"SCREENING VISIT\", \"data_point\": uri_refs[\"race\"][\"date_time\"], \"value\": time_1237 },\n",
        "  { \"subject_id\": \"1237\", \"visit\": \"SCREENING VISIT\", \"data_point\": uri_refs[\"sex\"][\"value\"], \"value\": \"M\" },\n",
        "  { \"subject_id\": \"1237\", \"visit\": \"SCREENING VISIT\", \"data_point\": uri_refs[\"sex\"][\"date_time\"], \"value\": time_1237 },\n",
        "  { \"subject_id\": \"1237\", \"visit\": \"SCREENING VISIT\", \"data_point\": uri_refs[\"ethnicity\"][\"value\"], \"value\": \"NOT HISPANIC OR LATINO\" },\n",
        "  { \"subject_id\": \"1237\", \"visit\": \"SCREENING VISIT\", \"data_point\": uri_refs[\"ethnicity\"][\"date_time\"], \"value\": time_1237 },\n",
        "  \n",
        "  { \"subject_id\": \"1234\", \"visit\": \"CYCLE 1, TREATMENT DAY 1\", \"data_point\": uri_refs[\"weight\"][\"value\"], \"value\": \"76\" },\n",
        "  { \"subject_id\": \"1234\", \"visit\": \"CYCLE 1, TREATMENT DAY 1\", \"data_point\": uri_refs[\"weight\"][\"unit\"], \"value\": \"kg\" },\n",
        "  { \"subject_id\": \"1234\", \"visit\": \"CYCLE 1, TREATMENT DAY 1\", \"data_point\": uri_refs[\"weight\"][\"date_time\"], \"value\": \"2022-03-01T13:57:00\" },\n",
        "  \n",
        "  { \"subject_id\": \"1234\", \"visit\": \"CYCLE 2, TREATMENT DAY 1\", \"data_point\": uri_refs[\"weight\"][\"value\"], \"value\": \"78\" },\n",
        "  { \"subject_id\": \"1234\", \"visit\": \"CYCLE 2, TREATMENT DAY 1\", \"data_point\": uri_refs[\"weight\"][\"unit\"], \"value\": \"kg\" },\n",
        "  { \"subject_id\": \"1234\", \"visit\": \"CYCLE 2, TREATMENT DAY 1\", \"data_point\": uri_refs[\"weight\"][\"date_time\"], \"value\": \"2022-03-10T13:57:00\" },\n",
        "  \n",
        "  { \"subject_id\": \"1234\", \"visit\": \"FU 1\", \"data_point\": uri_refs[\"weight\"][\"value\"], \"value\": \"77\" },\n",
        "  { \"subject_id\": \"1234\", \"visit\": \"FU 1\", \"data_point\": uri_refs[\"weight\"][\"unit\"], \"value\": \"kg\" },\n",
        "  { \"subject_id\": \"1234\", \"visit\": \"FU 1\", \"data_point\": uri_refs[\"weight\"][\"date_time\"], \"value\": \"2022-03-19T13:57:00\" },\n",
        "  \n",
        "  { \"subject_id\": \"1235\", \"visit\": \"CYCLE 1, TREATMENT DAY 1\", \"data_point\": uri_refs[\"weight\"][\"value\"], \"value\": \"42\" },\n",
        "  { \"subject_id\": \"1235\", \"visit\": \"CYCLE 1, TREATMENT DAY 1\", \"data_point\": uri_refs[\"weight\"][\"unit\"], \"value\": \"kg\" },\n",
        "  { \"subject_id\": \"1235\", \"visit\": \"CYCLE 1, TREATMENT DAY 1\", \"data_point\": uri_refs[\"weight\"][\"date_time\"], \"value\": \"2022-03-03T13:57:00\" },\n",
        "  \n",
        "  { \"subject_id\": \"1235\", \"visit\": \"CYCLE 2, TREATMENT DAY 1\", \"data_point\": uri_refs[\"weight\"][\"value\"], \"value\": \"44\" },\n",
        "  { \"subject_id\": \"1235\", \"visit\": \"CYCLE 2, TREATMENT DAY 1\", \"data_point\": uri_refs[\"weight\"][\"unit\"], \"value\": \"kg\" },\n",
        "  { \"subject_id\": \"1235\", \"visit\": \"CYCLE 2, TREATMENT DAY 1\", \"data_point\": uri_refs[\"weight\"][\"date_time\"], \"value\": \"2022-03-13T13:57:00\" },\n",
        "  \n",
        "  { \"subject_id\": \"1235\", \"visit\": \"FU 1\", \"data_point\": uri_refs[\"weight\"][\"value\"], \"value\": \"43\" },\n",
        "  { \"subject_id\": \"1235\", \"visit\": \"FU 1\", \"data_point\": uri_refs[\"weight\"][\"unit\"], \"value\": \"kg\" },\n",
        "  { \"subject_id\": \"1235\", \"visit\": \"FU 1\", \"data_point\": uri_refs[\"weight\"][\"date_time\"], \"value\": \"2022-03-22T13:57:00\" },\n",
        "]\n",
        "\n",
        "print(subject_data)"
      ]
    },
    {
      "cell_type": "markdown",
      "metadata": {
        "id": "-gz6-GXnWXdj"
      },
      "source": [
        "Create the subjects."
      ]
    },
    {
      "cell_type": "code",
      "execution_count": null,
      "metadata": {
        "id": "qXHRMNAkTZce"
      },
      "outputs": [],
      "source": [
        "with driver.session() as session:\n",
        "  for subject in subjects:\n",
        "    query = \"\"\"MATCH (p:STUDY_PROTOCOL {brief_title:'DDR'})<-[]-(s:STUDY)\n",
        "      WITH s\n",
        "      CREATE (s)<-[:ENROLLED_IN]-(ss:STUDY_SUBJECT)\n",
        "      SET ss.identifier = '%s'\n",
        "    \"\"\" % (subject[\"subject_id\"]) \n",
        "    result = session.run(query)\n",
        "  query = \"\"\"MATCH (s:STUDY_SUBJECT) RETURN s.identifier as subject\"\"\"\n",
        "  result = session.run(query)\n",
        "  for record in result:\n",
        "    print (\"Subject %s created\" % (record[\"subject\"]))\n",
        "driver.close()"
      ]
    },
    {
      "cell_type": "markdown",
      "metadata": {
        "id": "MHE4C6dUWaU2"
      },
      "source": [
        "Now add in the data"
      ]
    },
    {
      "cell_type": "code",
      "execution_count": null,
      "metadata": {
        "id": "vuxeda8PWeFP"
      },
      "outputs": [],
      "source": [
        "with driver.session() as session:\n",
        "  for item in subject_data:\n",
        "    query = \"\"\"MATCH (s:STUDY_SUBJECT {identifier: '%s'})\n",
        "      WITH s\n",
        "      MATCH (v:VISIT {name: '%s'})<-[]-(wi:WORKFLOW_ITEM)-[:HAS_ACTIVITY]->(a)-[:HAS_BC]->(bc)-[:HAS_ITEM]->\n",
        "        (i)-[:HAS_DATA_TYPE]->(dt)-[:HAS_DATA_TYPE_PROPERTY]->(d:BC_DATA_TYPE_PROPERTY {uri: '%s'})\n",
        "      WITH s, wi, d\n",
        "      CREATE (s)<-[:FOR_SUBJECT]-(sdp:STUDY_DATA_POINT)-[:FOR_WORKFLOW_ITEM]->(wi)\n",
        "      WITH sdp, d\n",
        "      CREATE (sdp)-[:FOR_VALUE]->(d)\n",
        "      SET sdp.value = '%s'\n",
        "      SET sdp.uuid = apoc.create.uuid()\n",
        "    \"\"\" % (item[\"subject_id\"], item[\"visit\"], item[\"data_point\"], item[\"value\"])\n",
        "    result = session.run(query)\n",
        "  query = \"\"\"MATCH (s:STUDY_DATA_POINT) RETURN DISTINCT s.value as value, s.uuid as uuid\"\"\"\n",
        "  result = session.run(query)\n",
        "  for record in result:\n",
        "    print (\"Value %s, %s created\" % (record[\"value\"], record[\"uuid\"]))\n",
        "driver.close()"
      ]
    },
    {
      "cell_type": "markdown",
      "metadata": {
        "id": "2SnRZjSE7gD5"
      },
      "source": [
        "So having linked the very basic data we have all the pieces in place. We can now start getting data out, simple at the moment but ...\n",
        "\n",
        "Query the VS domain and, though we should not, the DM domain."
      ]
    },
    {
      "cell_type": "code",
      "execution_count": 181,
      "metadata": {
        "id": "o4Ox-rCR7gRa",
        "colab": {
          "base_uri": "https://localhost:8080/"
        },
        "outputId": "7a3446df-08f6-4cc5-cb51-ab292d36fcc5"
      },
      "outputs": [
        {
          "output_type": "stream",
          "name": "stdout",
          "text": [
            "VS\n",
            "==\n",
            "\n",
            "VS, VSDTC, WEIGHT, 1235, 1558, 2022-03-22T13:57:00, [FU 1 -> FOLLOW-UP]\n",
            "VS, VSDTC, WEIGHT, 1235, 1557, 2022-03-13T13:57:00, [CYCLE 2, TREATMENT DAY 1 -> TREATMENT]\n",
            "VS, VSDTC, WEIGHT, 1235, 1556, 2022-03-03T13:57:00, [CYCLE 1, TREATMENT DAY 1 -> TREATMENT]\n",
            "VS, VSDTC, WEIGHT, 1234, 1558, 2022-03-19T13:57:00, [FU 1 -> FOLLOW-UP]\n",
            "VS, VSDTC, WEIGHT, 1234, 1557, 2022-03-10T13:57:00, [CYCLE 2, TREATMENT DAY 1 -> TREATMENT]\n",
            "VS, VSDTC, WEIGHT, 1234, 1556, 2022-03-01T13:57:00, [CYCLE 1, TREATMENT DAY 1 -> TREATMENT]\n",
            "VS, VSORRES, WEIGHT, 1235, 1558, 43, [FU 1 -> FOLLOW-UP]\n",
            "VS, VSORRES, WEIGHT, 1235, 1557, 44, [CYCLE 2, TREATMENT DAY 1 -> TREATMENT]\n",
            "VS, VSORRES, WEIGHT, 1235, 1556, 42, [CYCLE 1, TREATMENT DAY 1 -> TREATMENT]\n",
            "VS, VSORRES, WEIGHT, 1234, 1558, 77, [FU 1 -> FOLLOW-UP]\n",
            "VS, VSORRES, WEIGHT, 1234, 1557, 78, [CYCLE 2, TREATMENT DAY 1 -> TREATMENT]\n",
            "VS, VSORRES, WEIGHT, 1234, 1556, 76, [CYCLE 1, TREATMENT DAY 1 -> TREATMENT]\n",
            "VS, VSORRESU, WEIGHT, 1235, 1558, kg, [FU 1 -> FOLLOW-UP]\n",
            "VS, VSORRESU, WEIGHT, 1235, 1557, kg, [CYCLE 2, TREATMENT DAY 1 -> TREATMENT]\n",
            "VS, VSORRESU, WEIGHT, 1235, 1556, kg, [CYCLE 1, TREATMENT DAY 1 -> TREATMENT]\n",
            "VS, VSORRESU, WEIGHT, 1234, 1558, kg, [FU 1 -> FOLLOW-UP]\n",
            "VS, VSORRESU, WEIGHT, 1234, 1557, kg, [CYCLE 2, TREATMENT DAY 1 -> TREATMENT]\n",
            "VS, VSORRESU, WEIGHT, 1234, 1556, kg, [CYCLE 1, TREATMENT DAY 1 -> TREATMENT]\n",
            "\n",
            "DM\n",
            "==\n",
            "\n",
            "DM, DMDTC, AGE, 1237, 1517, 2022-02-15T11:17:00, [SCREENING VISIT -> SCREEN]\n",
            "DM, DMDTC, AGE, 1236, 1517, 2022-02-13T13:27:00, [SCREENING VISIT -> SCREEN]\n",
            "DM, DMDTC, AGE, 1235, 1517, 2022-02-12T10:17:00, [SCREENING VISIT -> SCREEN]\n",
            "DM, DMDTC, AGE, 1234, 1517, 2022-02-11T09:57:00, [SCREENING VISIT -> SCREEN]\n",
            "DM, AGE, AGE, 1237, 1517, 28, [SCREENING VISIT -> SCREEN]\n",
            "DM, AGE, AGE, 1236, 1517, 37, [SCREENING VISIT -> SCREEN]\n",
            "DM, AGE, AGE, 1235, 1517, 62, [SCREENING VISIT -> SCREEN]\n",
            "DM, AGE, AGE, 1234, 1517, 22, [SCREENING VISIT -> SCREEN]\n",
            "DM, AGEU, AGE, 1237, 1517, YEARS, [SCREENING VISIT -> SCREEN]\n",
            "DM, AGEU, AGE, 1236, 1517, YEARS, [SCREENING VISIT -> SCREEN]\n",
            "DM, AGEU, AGE, 1235, 1517, YEARS, [SCREENING VISIT -> SCREEN]\n",
            "DM, AGEU, AGE, 1234, 1517, YEARS, [SCREENING VISIT -> SCREEN]\n",
            "DM, DMDTC, RACE, 1237, 1517, 2022-02-15T11:17:00, [SCREENING VISIT -> SCREEN]\n",
            "DM, DMDTC, RACE, 1236, 1517, 2022-02-13T13:27:00, [SCREENING VISIT -> SCREEN]\n",
            "DM, DMDTC, RACE, 1235, 1517, 2022-02-12T10:17:00, [SCREENING VISIT -> SCREEN]\n",
            "DM, DMDTC, RACE, 1234, 1517, 2022-02-11T09:57:00, [SCREENING VISIT -> SCREEN]\n",
            "DM, RACE, RACE, 1237, 1517, WHITE, [SCREENING VISIT -> SCREEN]\n",
            "DM, RACE, RACE, 1236, 1517, ASIAN, [SCREENING VISIT -> SCREEN]\n",
            "DM, RACE, RACE, 1235, 1517, ASIAN, [SCREENING VISIT -> SCREEN]\n",
            "DM, RACE, RACE, 1234, 1517, WHITE, [SCREENING VISIT -> SCREEN]\n",
            "DM, DMDTC, SEX, 1237, 1517, 2022-02-15T11:17:00, [SCREENING VISIT -> SCREEN]\n",
            "DM, DMDTC, SEX, 1236, 1517, 2022-02-13T13:27:00, [SCREENING VISIT -> SCREEN]\n",
            "DM, DMDTC, SEX, 1235, 1517, 2022-02-12T10:17:00, [SCREENING VISIT -> SCREEN]\n",
            "DM, DMDTC, SEX, 1234, 1517, 2022-02-11T09:57:00, [SCREENING VISIT -> SCREEN]\n",
            "DM, SEX, SEX, 1237, 1517, M, [SCREENING VISIT -> SCREEN]\n",
            "DM, SEX, SEX, 1236, 1517, M, [SCREENING VISIT -> SCREEN]\n",
            "DM, SEX, SEX, 1235, 1517, M, [SCREENING VISIT -> SCREEN]\n",
            "DM, SEX, SEX, 1234, 1517, M, [SCREENING VISIT -> SCREEN]\n",
            "DM, DMDTC, ETHNIC, 1237, 1517, 2022-02-15T11:17:00, [SCREENING VISIT -> SCREEN]\n",
            "DM, DMDTC, ETHNIC, 1236, 1517, 2022-02-13T13:27:00, [SCREENING VISIT -> SCREEN]\n",
            "DM, DMDTC, ETHNIC, 1235, 1517, 2022-02-12T10:17:00, [SCREENING VISIT -> SCREEN]\n",
            "DM, DMDTC, ETHNIC, 1234, 1517, 2022-02-11T09:57:00, [SCREENING VISIT -> SCREEN]\n",
            "DM, ETHNIC, ETHNIC, 1237, 1517, NOT HISPANIC OR LATINO, [SCREENING VISIT -> SCREEN]\n",
            "DM, ETHNIC, ETHNIC, 1236, 1517, NOT HISPANIC OR LATINO, [SCREENING VISIT -> SCREEN]\n",
            "DM, ETHNIC, ETHNIC, 1235, 1517, NOT HISPANIC OR LATINO, [SCREENING VISIT -> SCREEN]\n",
            "DM, ETHNIC, ETHNIC, 1234, 1517, NOT HISPANIC OR LATINO, [SCREENING VISIT -> SCREEN]\n"
          ]
        }
      ],
      "source": [
        "def get_domain_data(domain):\n",
        "  with driver.session() as session:\n",
        "    query = \"\"\"MATCH (bc:STUDY_BC_INSTANCE)<-[:USE_BC {enabled: true}]-(sd:SDTM_DATASET {name: '%s'})-[]->(sv:SDTM_VARIABLE)-[]->(cv:SDTM_MODEL_VARIABLE)-[:IS_CANONICAL_REF]->(fdt:CANONICAL_DATA_TYPE_PROPERTY)\n",
        "      <-[:IS_CANONICAL_REF]-(bdt:BC_DATA_TYPE_PROPERTY)<-[:FOR_VALUE]-(sdp:STUDY_DATA_POINT)-[]->(wfi:WORKFLOW_ITEM) WHERE bc.name = cv.bc OR cv.bc = \"\"\n",
        "      WITH bc, sd, sv, cv, fdt, bdt, sdp, wfi\n",
        "      MATCH (wfi)-[:USED_IN_VISIT]->(v:VISIT)<-[]-(e:EPOCH), \n",
        "      (sdp)-[:FOR_SUBJECT]->(subj:STUDY_SUBJECT),\n",
        "      (ct)<-[:HAS_RESPONSE]-()<-[:HAS_DATA_TYPE]-()<-[:HAS_IDENTIFIER]-(bc:STUDY_BC_INSTANCE)-[*]->(bdt)\n",
        "    RETURN sd.name as domain, sv.name as variable, sdp.value as data, wfi.id as uuid, v.name as visit, e.study_epoch_name as epoch, subj.identifier as subject, ct.notation as test_code\n",
        "  \"\"\" % (domain)\n",
        "    result = session.run(query)\n",
        "    for record in result:\n",
        "      print (\"%s, %s, %s, %s, %s, %s, [%s -> %s]\" % (record[\"domain\"], record[\"variable\"], record[\"test_code\"], record[\"subject\"], record[\"uuid\"], record[\"data\"], record[\"visit\"], record[\"epoch\"]))\n",
        "  driver.close()\n",
        "\n",
        "print(\"VS\")\n",
        "print(\"==\")\n",
        "print(\"\")\n",
        "get_domain_data('VS')\n",
        "print(\"\")\n",
        "print(\"DM\")\n",
        "print(\"==\")\n",
        "print(\"\")\n",
        "get_domain_data('DM')"
      ]
    }
  ],
  "metadata": {
    "colab": {
      "collapsed_sections": [],
      "name": "Biomedical_Concepts.ipynb",
      "provenance": []
    },
    "kernelspec": {
      "display_name": "Python 3",
      "name": "python3"
    },
    "language_info": {
      "name": "python"
    }
  },
  "nbformat": 4,
  "nbformat_minor": 0
}