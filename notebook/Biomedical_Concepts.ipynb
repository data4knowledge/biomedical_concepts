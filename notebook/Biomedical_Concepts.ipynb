{
  "cells": [
    {
      "cell_type": "markdown",
      "metadata": {
        "id": "FPlw5A04o23L"
      },
      "source": [
        "Install dependencies"
      ]
    },
    {
      "cell_type": "code",
      "execution_count": 736,
      "metadata": {
        "colab": {
          "base_uri": "https://localhost:8080/"
        },
        "id": "nsmOe6weo0Cl",
        "outputId": "d3b7b72f-90c5-4323-885b-b9b48e0de8ee"
      },
      "outputs": [
        {
          "output_type": "stream",
          "name": "stdout",
          "text": [
            "Requirement already satisfied: neo4j in /usr/local/lib/python3.7/dist-packages (4.4.2)\n",
            "Requirement already satisfied: pytz in /usr/local/lib/python3.7/dist-packages (from neo4j) (2018.9)\n",
            "Requirement already satisfied: requests in /usr/local/lib/python3.7/dist-packages (2.23.0)\n",
            "Requirement already satisfied: chardet<4,>=3.0.2 in /usr/local/lib/python3.7/dist-packages (from requests) (3.0.4)\n",
            "Requirement already satisfied: certifi>=2017.4.17 in /usr/local/lib/python3.7/dist-packages (from requests) (2021.10.8)\n",
            "Requirement already satisfied: idna<3,>=2.5 in /usr/local/lib/python3.7/dist-packages (from requests) (2.10)\n",
            "Requirement already satisfied: urllib3!=1.25.0,!=1.25.1,<1.26,>=1.21.1 in /usr/local/lib/python3.7/dist-packages (from requests) (1.24.3)\n"
          ]
        }
      ],
      "source": [
        "!pip install neo4j\n",
        "!pip install requests"
      ]
    },
    {
      "cell_type": "markdown",
      "source": [
        "First thing we need to do is connect to the database. We also define some general purpose methods in this section."
      ],
      "metadata": {
        "id": "lUfZpfdtFmEw"
      }
    },
    {
      "cell_type": "code",
      "execution_count": 737,
      "metadata": {
        "colab": {
          "base_uri": "https://localhost:8080/"
        },
        "id": "fqbZcwbLnKkt",
        "outputId": "23f3ab86-f284-4ef9-9fd9-efef1f40b07e"
      },
      "outputs": [
        {
          "output_type": "stream",
          "name": "stdout",
          "text": [
            "Ready ...\n"
          ]
        }
      ],
      "source": [
        "from neo4j import GraphDatabase\n",
        "import requests\n",
        "import json\n",
        "import urllib.request\n",
        "\n",
        "# Load file directory\n",
        "load_file_dir = \"https://raw.githubusercontent.com/data4knowledge/biomedical_concepts/main/data/csv_load/\"\n",
        "\n",
        "# Connect to the Neo4j DB. You need a line like one of these examples:\n",
        "# driver = GraphDatabase.driver(\"neo4j://n.n.n.n:7687\", auth=(\"username\", \"password\"))\n",
        "# driver = GraphDatabase.driver(\"neo4j+s://url_for_aura\", auth=(\"username\", \"password\"))\n",
        "\n",
        "\n",
        "# Methods\n",
        "def clear(tx):\n",
        "    tx.run(\"CALL apoc.periodic.iterate('MATCH (n) RETURN n', 'DETACH DELETE n', {batchSize:1000})\")\n",
        "\n",
        "def file_load(load_files):\n",
        "  with driver.session() as session:\n",
        "    nodes = []\n",
        "    relationships = []\n",
        "    for file_item in load_files:\n",
        "      filename = \"%s%s\" % (load_file_dir, file_item[\"filename\"])\n",
        "      if \"label\" in file_item:\n",
        "        nodes.append(\"{ fileName: '%s', labels: ['%s'] }\" % (filename, file_item[\"label\"]) )\n",
        "      else:\n",
        "        relationships.append(\"{ fileName: '%s', type: '%s' }\" % (filename, file_item[\"type\"]) )\n",
        "    query = \"\"\"CALL apoc.import.csv( [%s], [%s], {stringIds: false})\"\"\" % (\", \".join(nodes), \", \".join(relationships))\n",
        "    print(query)\n",
        "    result = session.run(query)\n",
        "    #print(result)\n",
        "    for record in result:\n",
        "      print(record)\n",
        "  driver.close()\n",
        "\n",
        "def load_cl(ct_type, cl):\n",
        "  filename = \"%scdisc_ct_%s_nodes_%s.csv\" % (load_file_dir, ct_type, cl)\n",
        "  with driver.session() as session:\n",
        "    query = \"\"\"MATCH (p:SKOS_CONCEPT) where p.identifier = '%s' \n",
        "      WITH p\n",
        "      LOAD CSV WITH HEADERS FROM '%s' AS row\n",
        "      CREATE (p)-[:SKOS_NARROWER]->(c:SKOS_CONCEPT {id: toInteger(row.id), alt_label: row.alt_label, definition: row.definition, identifier: row.identifier, notation: row.notation, pref_label: row.pref_label, uri: row.uri})\"\"\" % (cl, filename)\n",
        "    result = session.run(query)\n",
        "    for record in result:\n",
        "      print(record)\n",
        "\n",
        "def dump_cl(cl):\n",
        "  with driver.session() as session:\n",
        "    query = \"\"\"MATCH (cs:SKOS_CONCEPT_SCHEME)-[]->(c1:SKOS_CONCEPT)-[]->(c2:SKOS_CONCEPT) WHERE c1.identifier = '%s' RETURN DISTINCT cs.version as version, c1.identifier as cl_identifier, c1.notation as cl_sub, c2.identifier as cli_identifier, c2.notation as cli_sub\"\"\" % (cl) \n",
        "    result = session.run(query)\n",
        "    for record in result:\n",
        "      print(\"%s: [%s, %s], [%s, %s]\" % (record[\"version\"], record[\"cl_identifier\"], record[\"cl_sub\"], record[\"cli_identifier\"], record[\"cli_sub\"]))\n",
        "  driver.close()\n",
        "\n",
        "def set_version(version, update):\n",
        "  with driver.session() as session:\n",
        "    query = \"\"\"CREATE (v:VERSION)\n",
        "      SET v.version = '%s', v.updates = '%s'\n",
        "    \"\"\" % (version, update)\n",
        "    result = session.run(query)\n",
        "  driver.close()\n",
        "\n",
        "with driver.session() as session:\n",
        "    session.write_transaction(clear)\n",
        "driver.close()\n",
        "\n",
        "set_version(0.1, \"First version, basic SDTM domain ganeration.\")\n",
        "print(\"Ready ...\")\n"
      ]
    },
    {
      "cell_type": "markdown",
      "metadata": {
        "id": "hCjYsNHTmpXP"
      },
      "source": [
        "First create the FHIR data types. Need this before anything else.\n"
      ]
    },
    {
      "cell_type": "code",
      "source": [
        "stage_1_files = [ \n",
        "    { \"label\": \"FHIR\", \"filename\": \"stage_1_fhir_nodes.csv\" },\n",
        "    { \"label\": \"WEB_SOURCE\", \"filename\": \"stage_1_web_source_nodes.csv\" },\n",
        "    { \"label\": \"FHIR_DATA_TYPE\", \"filename\": \"stage_1_fhir_data_type_nodes.csv\" },\n",
        "    { \"label\": \"FHIR_DATA_TYPE_PROPERTY\", \"filename\": \"stage_1_fhir_data_type_property_nodes.csv\" },\n",
        "    { \"type\": \"HAS_DATA_TYPE_PROPERTY\", \"filename\": \"stage_1_has_data_type_property_relationships.csv\" },\n",
        "    { \"type\": \"FROM_SOURCE\", \"filename\": \"stage_1_from_source_relationships.csv\" },\n",
        "    { \"type\": \"HAS_DATA_TYPE\", \"filename\": \"stage_1_has_data_type_relationships.csv\" }\n",
        "  ]\n",
        "\n",
        "file_load(stage_1_files)"
      ],
      "metadata": {
        "colab": {
          "base_uri": "https://localhost:8080/"
        },
        "id": "p4ulFrLPkpJl",
        "outputId": "4ba1d36e-93cb-4eb6-8635-13db9f018139"
      },
      "execution_count": 738,
      "outputs": [
        {
          "output_type": "stream",
          "name": "stdout",
          "text": [
            "CALL apoc.import.csv( [{ fileName: 'https://raw.githubusercontent.com/data4knowledge/biomedical_concepts/main/data/csv_load/stage_1_fhir_nodes.csv', labels: ['FHIR'] }, { fileName: 'https://raw.githubusercontent.com/data4knowledge/biomedical_concepts/main/data/csv_load/stage_1_web_source_nodes.csv', labels: ['WEB_SOURCE'] }, { fileName: 'https://raw.githubusercontent.com/data4knowledge/biomedical_concepts/main/data/csv_load/stage_1_fhir_data_type_nodes.csv', labels: ['FHIR_DATA_TYPE'] }, { fileName: 'https://raw.githubusercontent.com/data4knowledge/biomedical_concepts/main/data/csv_load/stage_1_fhir_data_type_property_nodes.csv', labels: ['FHIR_DATA_TYPE_PROPERTY'] }], [{ fileName: 'https://raw.githubusercontent.com/data4knowledge/biomedical_concepts/main/data/csv_load/stage_1_has_data_type_property_relationships.csv', type: 'HAS_DATA_TYPE_PROPERTY' }, { fileName: 'https://raw.githubusercontent.com/data4knowledge/biomedical_concepts/main/data/csv_load/stage_1_from_source_relationships.csv', type: 'FROM_SOURCE' }, { fileName: 'https://raw.githubusercontent.com/data4knowledge/biomedical_concepts/main/data/csv_load/stage_1_has_data_type_relationships.csv', type: 'HAS_DATA_TYPE' }], {stringIds: false})\n",
            "<Record file='progress.csv' source='file' format='csv' nodes=16 relationships=15 properties=60 time=1226 rows=0 batchSize=-1 batches=0 done=True data=None>\n"
          ]
        }
      ]
    },
    {
      "cell_type": "markdown",
      "metadata": {
        "id": "y2X4GzLForm7"
      },
      "source": [
        "Now check we have loaded ok. Check the FHIR version, should be 4.0.1\n",
        "\n",
        "View the dashboard to see the types loaded."
      ]
    },
    {
      "cell_type": "code",
      "execution_count": 739,
      "metadata": {
        "colab": {
          "base_uri": "https://localhost:8080/"
        },
        "id": "QNsq3ykEnysr",
        "outputId": "7f26597b-97d7-41a2-c8cb-a5939670c89c"
      },
      "outputs": [
        {
          "output_type": "stream",
          "name": "stdout",
          "text": [
            "Version:  4.0.1\n"
          ]
        }
      ],
      "source": [
        "with driver.session() as session:\n",
        "  query = \"\"\"MATCH (n:FHIR) Return n.version as version\"\"\" \n",
        "  result = session.run(query)\n",
        "  for record in result:\n",
        "    print(\"Version: \", record[\"version\"])\n",
        "\n",
        "driver.close()"
      ]
    },
    {
      "cell_type": "markdown",
      "source": [
        "Now load the canonical model."
      ],
      "metadata": {
        "id": "ARXjjZrAGFbi"
      }
    },
    {
      "cell_type": "code",
      "execution_count": 740,
      "metadata": {
        "colab": {
          "base_uri": "https://localhost:8080/"
        },
        "id": "hklRXVFUKGNK",
        "outputId": "c1aa0e6f-b192-4984-bf5b-2d75134bf5fe"
      },
      "outputs": [
        {
          "output_type": "stream",
          "name": "stdout",
          "text": [
            "CALL apoc.import.csv( [{ fileName: 'https://raw.githubusercontent.com/data4knowledge/biomedical_concepts/main/data/csv_load/stage_2_canonical_model_nodes.csv', labels: ['CANONICAL_MODEL'] }, { fileName: 'https://raw.githubusercontent.com/data4knowledge/biomedical_concepts/main/data/csv_load/stage_2_canonical_node_nodes.csv', labels: ['CANONICAL_NODE'] }, { fileName: 'https://raw.githubusercontent.com/data4knowledge/biomedical_concepts/main/data/csv_load/stage_2_canonical_data_type_nodes.csv', labels: ['CANONICAL_DATA_TYPE'] }, { fileName: 'https://raw.githubusercontent.com/data4knowledge/biomedical_concepts/main/data/csv_load/stage_2_other_source_nodes.csv', labels: ['OTHER_SOURCE'] }], [{ fileName: 'https://raw.githubusercontent.com/data4knowledge/biomedical_concepts/main/data/csv_load/stage_2_consists_of_relationships.csv', type: 'CONSISTS_OF' }, { fileName: 'https://raw.githubusercontent.com/data4knowledge/biomedical_concepts/main/data/csv_load/stage_2_from_source_relationships.csv', type: 'FROM_SOURCE' }, { fileName: 'https://raw.githubusercontent.com/data4knowledge/biomedical_concepts/main/data/csv_load/stage_2_has_sub_model_relationships.csv', type: 'HAS_SUB_MODEL' }, { fileName: 'https://raw.githubusercontent.com/data4knowledge/biomedical_concepts/main/data/csv_load/stage_2_has_data_type_relationships.csv', type: 'HAS_DATA_TYPE' }], {stringIds: false})\n",
            "<Record file='progress.csv' source='file' format='csv' nodes=73 relationships=82 properties=219 time=1385 rows=0 batchSize=-1 batches=0 done=True data=None>\n"
          ]
        }
      ],
      "source": [
        "stage_2_files = [ \n",
        "    { \"label\": \"CANONICAL_MODEL\", \"filename\": \"stage_2_canonical_model_nodes.csv\" },\n",
        "    { \"label\": \"CANONICAL_NODE\", \"filename\": \"stage_2_canonical_node_nodes.csv\" },\n",
        "    { \"label\": \"CANONICAL_DATA_TYPE\", \"filename\": \"stage_2_canonical_data_type_nodes.csv\" },\n",
        "    { \"label\": \"OTHER_SOURCE\", \"filename\": \"stage_2_other_source_nodes.csv\" },\n",
        "    { \"type\": \"CONSISTS_OF\", \"filename\": \"stage_2_consists_of_relationships.csv\" },\n",
        "    { \"type\": \"FROM_SOURCE\", \"filename\": \"stage_2_from_source_relationships.csv\" },\n",
        "    { \"type\": \"HAS_SUB_MODEL\", \"filename\": \"stage_2_has_sub_model_relationships.csv\" },\n",
        "    { \"type\": \"HAS_DATA_TYPE\", \"filename\": \"stage_2_has_data_type_relationships.csv\" }\n",
        "]\n",
        "\n",
        "file_load(stage_2_files)"
      ]
    },
    {
      "cell_type": "markdown",
      "metadata": {
        "id": "592LExsq_Su0"
      },
      "source": [
        "Check a few relationships exist in the canonical model. Should get three results.\n",
        "\n",
        "* THERAPEUTIC INTERVENTION\n",
        "* OBSERVATION\n",
        "* ADVERSE EVENT\n",
        "\n"
      ]
    },
    {
      "cell_type": "code",
      "execution_count": 741,
      "metadata": {
        "colab": {
          "base_uri": "https://localhost:8080/"
        },
        "id": "Xn5dPGqB_Xj6",
        "outputId": "7f8da04e-fb90-4189-d262-7e4713dba17d"
      },
      "outputs": [
        {
          "output_type": "stream",
          "name": "stdout",
          "text": [
            "CANONICAL MODEL -> THERAPEUTIC INTERVENTION -> Location: \n",
            "CANONICAL MODEL -> OBSERVATION -> Location: \n",
            "CANONICAL MODEL -> ADVERSE EVENT -> Location: \n"
          ]
        }
      ],
      "source": [
        "with driver.session() as session:\n",
        "  query = \"\"\"MATCH (r)-[]->(t)-[]->(n:CANONICAL_NODE) WHERE n.name=\"LOCATION\" RETURN r.name as root_name, t.name as name\"\"\" \n",
        "  result = session.run(query)\n",
        "  for record in result:\n",
        "    print(\"%s -> %s -> Location: \" % (record[\"root_name\"], record[\"name\"]))\n",
        "\n",
        "driver.close()"
      ]
    },
    {
      "cell_type": "markdown",
      "source": [
        "Now link the canonical nodes and the data types using the name as the key. For each \"leaf\" Canonical node we have the meaningful nodes (LOCATION, METHOD etc) and a child node defining the type of data that can be collected. This is keyed by the data type name so we can match them up. Note that there may be more than one data type for each meaningful node."
      ],
      "metadata": {
        "id": "7jVCaoeWtLjw"
      }
    },
    {
      "cell_type": "code",
      "source": [
        "def link_data_types(parent_node_label, data_type_label):\n",
        "  with driver.session() as session:\n",
        "    query = \"\"\"MATCH (dt:%s) WHERE NOT (dt)-[:IS_A]->()\n",
        "      WITH dt\n",
        "      MATCH (pn:%s)-[]->(dt)\n",
        "      WITH pn, dt\n",
        "      MATCH (n:FHIR_DATA_TYPE) WHERE dt.name = n.name\n",
        "      CREATE (dt)-[:IS_A]->(n)\n",
        "      RETURN pn.uri as uri, pn.name as parent_name, n.name as fdt_name, dt.name as dt_name;\n",
        "    \"\"\" % (data_type_label, parent_node_label)\n",
        "    result = session.run(query)\n",
        "    for record in result:\n",
        "      print(\"[%s, %s] -> [FHIR, %s]\" % (record['parent_name'], record[\"dt_name\"], record[\"fdt_name\"]))\n",
        "\n",
        "  driver.close()\n",
        "\n",
        "link_data_types(\"CANONICAL_NODE\", \"CANONICAL_DATA_TYPE\")"
      ],
      "metadata": {
        "id": "3X3RfadUrvAP",
        "colab": {
          "base_uri": "https://localhost:8080/"
        },
        "outputId": "6af6bbbd-53ce-4d58-bfb3-83e7273c7424"
      },
      "execution_count": 742,
      "outputs": [
        {
          "output_type": "stream",
          "name": "stdout",
          "text": [
            "[PORTION, coding] -> [FHIR, coding]\n",
            "[DIRECTIONALITY, coding] -> [FHIR, coding]\n",
            "[LATERALITY, coding] -> [FHIR, coding]\n",
            "[TEST, coding] -> [FHIR, coding]\n",
            "[RESULT, coding] -> [FHIR, coding]\n",
            "[RESULT, quantity] -> [FHIR, quantity]\n",
            "[DATE TIME, date_time] -> [FHIR, date_time]\n"
          ]
        }
      ]
    },
    {
      "cell_type": "markdown",
      "metadata": {
        "id": "x1ws1F7zpwdN"
      },
      "source": [
        "Now create the data type nodes for the canonical mode. For each canonical node that references a data type copy the properties of that data type to the canonical node. Give each canonical leaf a unique id (a uri). Also change the lable of the node so they are Canonical Data Type nodes rather than FHIR ones.\n",
        "\n",
        "In the future these nodes should also have a C code reference providing a definition for the data item.\n"
      ]
    },
    {
      "cell_type": "code",
      "execution_count": 743,
      "metadata": {
        "colab": {
          "base_uri": "https://localhost:8080/"
        },
        "id": "-EBgVQrPqDIe",
        "outputId": "6a8593dc-c308-497d-e865-d9086b000f56"
      },
      "outputs": [
        {
          "output_type": "stream",
          "name": "stdout",
          "text": [
            "Node duplicated: http://id.d4k.dk/dataset/canonical/common/location/portion/coding/version, version\n",
            "Node duplicated: http://id.d4k.dk/dataset/canonical/common/location/portion/coding/system, system\n",
            "Node duplicated: http://id.d4k.dk/dataset/canonical/common/location/portion/coding/code, code\n",
            "Node duplicated: http://id.d4k.dk/dataset/canonical/common/location/portion/coding/user_selected, user_selected\n",
            "Node duplicated: http://id.d4k.dk/dataset/canonical/common/location/portion/coding/display, display\n",
            "Node duplicated: http://id.d4k.dk/dataset/canonical/common/location/directionality/coding/version, version\n",
            "Node duplicated: http://id.d4k.dk/dataset/canonical/common/location/directionality/coding/system, system\n",
            "Node duplicated: http://id.d4k.dk/dataset/canonical/common/location/directionality/coding/code, code\n",
            "Node duplicated: http://id.d4k.dk/dataset/canonical/common/location/directionality/coding/user_selected, user_selected\n",
            "Node duplicated: http://id.d4k.dk/dataset/canonical/common/location/directionality/coding/display, display\n",
            "Node duplicated: http://id.d4k.dk/dataset/canonical/common/location/laterality/coding/version, version\n",
            "Node duplicated: http://id.d4k.dk/dataset/canonical/common/location/laterality/coding/system, system\n",
            "Node duplicated: http://id.d4k.dk/dataset/canonical/common/location/laterality/coding/code, code\n",
            "Node duplicated: http://id.d4k.dk/dataset/canonical/common/location/laterality/coding/user_selected, user_selected\n",
            "Node duplicated: http://id.d4k.dk/dataset/canonical/common/location/laterality/coding/display, display\n",
            "Node duplicated: http://id.d4k.dk/dataset/canonical/common/date_time/date_time/value, value\n",
            "Node duplicated: http://id.d4k.dk/dataset/canonical/observation/test/coding/version, version\n",
            "Node duplicated: http://id.d4k.dk/dataset/canonical/observation/test/coding/system, system\n",
            "Node duplicated: http://id.d4k.dk/dataset/canonical/observation/test/coding/code, code\n",
            "Node duplicated: http://id.d4k.dk/dataset/canonical/observation/test/coding/user_selected, user_selected\n",
            "Node duplicated: http://id.d4k.dk/dataset/canonical/observation/test/coding/display, display\n",
            "Node duplicated: http://id.d4k.dk/dataset/canonical/observation/observation_result/result/coding/version, version\n",
            "Node duplicated: http://id.d4k.dk/dataset/canonical/observation/observation_result/result/coding/system, system\n",
            "Node duplicated: http://id.d4k.dk/dataset/canonical/observation/observation_result/result/coding/code, code\n",
            "Node duplicated: http://id.d4k.dk/dataset/canonical/observation/observation_result/result/coding/user_selected, user_selected\n",
            "Node duplicated: http://id.d4k.dk/dataset/canonical/observation/observation_result/result/coding/display, display\n",
            "Node duplicated: http://id.d4k.dk/dataset/canonical/observation/observation_result/result/quantity/code, code\n",
            "Node duplicated: http://id.d4k.dk/dataset/canonical/observation/observation_result/result/quantity/value, value\n",
            "Node duplicated: http://id.d4k.dk/dataset/canonical/observation/observation_result/result/quantity/unit, unit\n",
            "Node duplicated: http://id.d4k.dk/dataset/canonical/observation/observation_result/result/quantity/system, system\n",
            "Node duplicated: http://id.d4k.dk/dataset/canonical/observation/observation_result/result/quantity/comparator, comparator\n"
          ]
        }
      ],
      "source": [
        "def duplicate_data_type_nodes(data_type_label, data_type_property_label):\n",
        "  uri_data = []\n",
        "  with driver.session() as session:\n",
        "  \n",
        "    query = \"\"\"MATCH (n:%s) WHERE NOT (n)-[:HAS_DATA_TYPE_PROPERTY]->()\n",
        "      WITH n\n",
        "      MATCH (n)-[:IS_A]->(dt:FHIR_DATA_TYPE)\n",
        "      WITH n, dt\n",
        "      CALL apoc.path.subgraphAll(dt, {relationshipFilter:'HAS_DATA_TYPE_PROPERTY>'})\n",
        "      YIELD nodes, relationships\n",
        "      CALL apoc.refactor.cloneSubgraph(\n",
        "        nodes,\n",
        "        [rel in relationships WHERE type(rel) = 'HAS_DATA_TYPE_PROPERTY'],\n",
        "        { standinNodes:[[dt, n]] })\n",
        "      YIELD input, output, error\n",
        "      RETURN output;\n",
        "    \"\"\" % (data_type_label)\n",
        "    result = session.run(query)\n",
        "    for record in result:\n",
        "      node = record[\"output\"]\n",
        "      uri_data.append({\"id\": node.id})\n",
        " \n",
        "    query = \"\"\"UNWIND $uri_data AS d\n",
        "      MATCH (p)-[]->(n) WHERE ID(n)=d.id\n",
        "      SET n.uri = p.uri + '/' + n.name\n",
        "      REMOVE n:FHIR_DATA_TYPE_PROPERTY\n",
        "      SET n:%s RETURN n.uri as uri, n.name as name\"\"\" % (data_type_property_label)\n",
        "    result = session.run(query, uri_data=uri_data)\n",
        "    for record in result:\n",
        "      print(\"Node duplicated: %s, %s\" % (record[\"uri\"], record[\"name\"]))\n",
        "  driver.close()\n",
        "\n",
        "duplicate_data_type_nodes(\"CANONICAL_DATA_TYPE\", \"CANONICAL_DATA_TYPE_PROPERTY\")\n"
      ]
    },
    {
      "cell_type": "markdown",
      "source": [
        "Now load some terminology. We load just the SDTM terms (it is all we need for the moment). Just load the Code List definitions not every single item with every code list, just too big a load in one go."
      ],
      "metadata": {
        "id": "V7gprmFPLtzs"
      }
    },
    {
      "cell_type": "code",
      "execution_count": 744,
      "metadata": {
        "id": "nZ8TGB5bLzuR",
        "colab": {
          "base_uri": "https://localhost:8080/"
        },
        "outputId": "0615e3da-7f9a-4f27-8d2e-57cbad5a81cd"
      },
      "outputs": [
        {
          "output_type": "stream",
          "name": "stdout",
          "text": [
            "CALL apoc.import.csv( [{ fileName: 'https://raw.githubusercontent.com/data4knowledge/biomedical_concepts/main/data/csv_load/stage_3_api_source_nodes.csv', labels: ['API_SOURCE'] }, { fileName: 'https://raw.githubusercontent.com/data4knowledge/biomedical_concepts/main/data/csv_load/stage_3_skos_concept_nodes.csv', labels: ['SKOS_CONCEPT'] }, { fileName: 'https://raw.githubusercontent.com/data4knowledge/biomedical_concepts/main/data/csv_load/stage_3_skos_concept_scheme_nodes.csv', labels: ['SKOS_CONCEPT_SCHEME'] }], [{ fileName: 'https://raw.githubusercontent.com/data4knowledge/biomedical_concepts/main/data/csv_load/stage_3_from_source_relationships.csv', type: 'FROM_SOURCE' }, { fileName: 'https://raw.githubusercontent.com/data4knowledge/biomedical_concepts/main/data/csv_load/stage_3_skos_has_top_concept_relationships.csv', type: 'SKOS_HAS_TOP_CONCEPT' }], {stringIds: false})\n",
            "<Record file='progress.csv' source='file' format='csv' nodes=986 relationships=985 properties=8868 time=918 rows=0 batchSize=-1 batches=0 done=True data=None>\n"
          ]
        }
      ],
      "source": [
        "stage_3_files = [ \n",
        "    { \"label\": \"API_SOURCE\", \"filename\": \"stage_3_api_source_nodes.csv\" },\n",
        "    { \"label\": \"SKOS_CONCEPT\", \"filename\": \"stage_3_skos_concept_nodes.csv\" },\n",
        "    { \"label\": \"SKOS_CONCEPT_SCHEME\", \"filename\": \"stage_3_skos_concept_scheme_nodes.csv\" },\n",
        "    { \"type\": \"FROM_SOURCE\", \"filename\": \"stage_3_from_source_relationships.csv\" },\n",
        "    { \"type\": \"SKOS_HAS_TOP_CONCEPT\", \"filename\": \"stage_3_skos_has_top_concept_relationships.csv\" }\n",
        "  ]\n",
        "\n",
        "file_load(stage_3_files)"
      ]
    },
    {
      "cell_type": "markdown",
      "source": [
        "Do a quick test on the CT. Check AGEU and its links"
      ],
      "metadata": {
        "id": "QiRuZP8IAQRA"
      }
    },
    {
      "cell_type": "code",
      "source": [
        "with driver.session() as session:\n",
        "  query = \"\"\"MATCH (cs)-[]->(c1:SKOS_CONCEPT) WHERE c1.notation = 'AGEU' RETURN DISTINCT cs.version as version, c1.identifier as cl_identifier\"\"\" \n",
        "  result = session.run(query)\n",
        "  for record in result:\n",
        "    print (\"%s: %s\" % (record[\"version\"], record[\"cl_identifier\"]))\n",
        "driver.close()"
      ],
      "metadata": {
        "colab": {
          "base_uri": "https://localhost:8080/"
        },
        "id": "OsWcQe73_m5E",
        "outputId": "ab37ca31-d6f2-42eb-9376-4da350585ace"
      },
      "execution_count": 745,
      "outputs": [
        {
          "output_type": "stream",
          "name": "stdout",
          "text": [
            "2021-12-17: C66781\n"
          ]
        }
      ]
    },
    {
      "cell_type": "markdown",
      "source": [
        "Stage 4 to 9 are the CT files for the other areas, ADaM, Protocol, CDASH etc. Not loaded at the moment. Needed to split due to size and limited RAM on the Neo4j server."
      ],
      "metadata": {
        "id": "ra9rORPF_XTs"
      }
    },
    {
      "cell_type": "markdown",
      "source": [
        "Now load BC Templates"
      ],
      "metadata": {
        "id": "XqSSsdqjegVr"
      }
    },
    {
      "cell_type": "code",
      "source": [
        "stage_10_files = [ \n",
        "    { \"label\": \"OTHER_SOURCE\", \"filename\": \"stage_10_other_source_nodes.csv\" },\n",
        "    { \"label\": \"BC_DATA_TYPE\", \"filename\": \"stage_10_bc_data_type_nodes.csv\" },\n",
        "    { \"label\": \"BC_ITEM\", \"filename\": \"stage_10_bc_item_nodes.csv\" },\n",
        "    { \"label\": \"BC_TEMPLATE\", \"filename\": \"stage_10_bc_template_nodes.csv\" },\n",
        "    { \"type\": \"FROM_SOURCE\", \"filename\": \"stage_10_from_source_relationships.csv\" },\n",
        "    { \"type\": \"HAS_DATA_TYPE\", \"filename\": \"stage_10_has_data_type_relationships.csv\" },\n",
        "    { \"type\": \"HAS_IDENTIFIER\", \"filename\": \"stage_10_has_identifier_relationships.csv\" },\n",
        "    { \"type\": \"HAS_ITEM\", \"filename\": \"stage_10_has_item_relationships.csv\" }\n",
        "  ]\n",
        "\n",
        "file_load(stage_10_files)"
      ],
      "metadata": {
        "colab": {
          "base_uri": "https://localhost:8080/"
        },
        "id": "95FBnpzp9T5z",
        "outputId": "f377f425-6fdd-4285-9103-241815c91b57"
      },
      "execution_count": 746,
      "outputs": [
        {
          "output_type": "stream",
          "name": "stdout",
          "text": [
            "CALL apoc.import.csv( [{ fileName: 'https://raw.githubusercontent.com/data4knowledge/biomedical_concepts/main/data/csv_load/stage_10_other_source_nodes.csv', labels: ['OTHER_SOURCE'] }, { fileName: 'https://raw.githubusercontent.com/data4knowledge/biomedical_concepts/main/data/csv_load/stage_10_bc_data_type_nodes.csv', labels: ['BC_DATA_TYPE'] }, { fileName: 'https://raw.githubusercontent.com/data4knowledge/biomedical_concepts/main/data/csv_load/stage_10_bc_item_nodes.csv', labels: ['BC_ITEM'] }, { fileName: 'https://raw.githubusercontent.com/data4knowledge/biomedical_concepts/main/data/csv_load/stage_10_bc_template_nodes.csv', labels: ['BC_TEMPLATE'] }], [{ fileName: 'https://raw.githubusercontent.com/data4knowledge/biomedical_concepts/main/data/csv_load/stage_10_from_source_relationships.csv', type: 'FROM_SOURCE' }, { fileName: 'https://raw.githubusercontent.com/data4knowledge/biomedical_concepts/main/data/csv_load/stage_10_has_data_type_relationships.csv', type: 'HAS_DATA_TYPE' }, { fileName: 'https://raw.githubusercontent.com/data4knowledge/biomedical_concepts/main/data/csv_load/stage_10_has_identifier_relationships.csv', type: 'HAS_IDENTIFIER' }, { fileName: 'https://raw.githubusercontent.com/data4knowledge/biomedical_concepts/main/data/csv_load/stage_10_has_item_relationships.csv', type: 'HAS_ITEM' }], {stringIds: false})\n",
            "<Record file='progress.csv' source='file' format='csv' nodes=37 relationships=38 properties=159 time=1515 rows=0 batchSize=-1 batches=0 done=True data=None>\n"
          ]
        }
      ]
    },
    {
      "cell_type": "markdown",
      "source": [
        "Now add in the data types nodes for the templates. Copy from the data types to the templates "
      ],
      "metadata": {
        "id": "E0GmZ2_7IffV"
      }
    },
    {
      "cell_type": "code",
      "source": [
        "link_data_types(\"BC_ITEM\", \"BC_DATA_TYPE\")\n",
        "duplicate_data_type_nodes(\"BC_DATA_TYPE\", \"BC_DATA_TYPE_PROPERTY\")"
      ],
      "metadata": {
        "colab": {
          "base_uri": "https://localhost:8080/"
        },
        "id": "iCWSwyC5GLdm",
        "outputId": "204c725c-2071-4a82-dc9e-d1fb49d610ff"
      },
      "execution_count": 747,
      "outputs": [
        {
          "output_type": "stream",
          "name": "stdout",
          "text": [
            "[Position, coding] -> [FHIR, coding]\n",
            "[Site of Administration, coding] -> [FHIR, coding]\n",
            "[Laterality, coding] -> [FHIR, coding]\n",
            "[Method, coding] -> [FHIR, coding]\n",
            "[Result, coding] -> [FHIR, coding]\n",
            "[Test, coding] -> [FHIR, coding]\n",
            "[Position, coding] -> [FHIR, coding]\n",
            "[Site of Administration, coding] -> [FHIR, coding]\n",
            "[Laterality, coding] -> [FHIR, coding]\n",
            "[Directionality, coding] -> [FHIR, coding]\n",
            "[Method, coding] -> [FHIR, coding]\n",
            "[Result, coding] -> [FHIR, coding]\n",
            "[Specimen, coding] -> [FHIR, coding]\n",
            "[Test, coding] -> [FHIR, coding]\n",
            "[Result, quantity] -> [FHIR, quantity]\n",
            "[Result, quantity] -> [FHIR, quantity]\n",
            "[Date Time, date_time] -> [FHIR, date_time]\n",
            "[Date Time, date_time] -> [FHIR, date_time]\n",
            "Node duplicated: http://id.d4k.dk/dataset/bc_template/base_observation/position/coding/version, version\n",
            "Node duplicated: http://id.d4k.dk/dataset/bc_template/base_observation/position/coding/system, system\n",
            "Node duplicated: http://id.d4k.dk/dataset/bc_template/base_observation/position/coding/code, code\n",
            "Node duplicated: http://id.d4k.dk/dataset/bc_template/base_observation/position/coding/user_selected, user_selected\n",
            "Node duplicated: http://id.d4k.dk/dataset/bc_template/base_observation/position/coding/display, display\n",
            "Node duplicated: http://id.d4k.dk/dataset/bc_template/base_observation/site_of_administration/coding/version, version\n",
            "Node duplicated: http://id.d4k.dk/dataset/bc_template/base_observation/site_of_administration/coding/system, system\n",
            "Node duplicated: http://id.d4k.dk/dataset/bc_template/base_observation/site_of_administration/coding/code, code\n",
            "Node duplicated: http://id.d4k.dk/dataset/bc_template/base_observation/site_of_administration/coding/user_selected, user_selected\n",
            "Node duplicated: http://id.d4k.dk/dataset/bc_template/base_observation/site_of_administration/coding/display, display\n",
            "Node duplicated: http://id.d4k.dk/dataset/bc_template/base_observation/laterality/coding/version, version\n",
            "Node duplicated: http://id.d4k.dk/dataset/bc_template/base_observation/laterality/coding/system, system\n",
            "Node duplicated: http://id.d4k.dk/dataset/bc_template/base_observation/laterality/coding/code, code\n",
            "Node duplicated: http://id.d4k.dk/dataset/bc_template/base_observation/laterality/coding/user_selected, user_selected\n",
            "Node duplicated: http://id.d4k.dk/dataset/bc_template/base_observation/laterality/coding/display, display\n",
            "Node duplicated: http://id.d4k.dk/dataset/bc_template/base_observation/method/coding/version, version\n",
            "Node duplicated: http://id.d4k.dk/dataset/bc_template/base_observation/method/coding/system, system\n",
            "Node duplicated: http://id.d4k.dk/dataset/bc_template/base_observation/method/coding/code, code\n",
            "Node duplicated: http://id.d4k.dk/dataset/bc_template/base_observation/method/coding/user_selected, user_selected\n",
            "Node duplicated: http://id.d4k.dk/dataset/bc_template/base_observation/method/coding/display, display\n",
            "Node duplicated: http://id.d4k.dk/dataset/bc_template/base_observation/date_time/date_time/value, value\n",
            "Node duplicated: http://id.d4k.dk/dataset/bc_template/base_observation/result/quantity/code, code\n",
            "Node duplicated: http://id.d4k.dk/dataset/bc_template/base_observation/result/quantity/value, value\n",
            "Node duplicated: http://id.d4k.dk/dataset/bc_template/base_observation/result/quantity/unit, unit\n",
            "Node duplicated: http://id.d4k.dk/dataset/bc_template/base_observation/result/quantity/system, system\n",
            "Node duplicated: http://id.d4k.dk/dataset/bc_template/base_observation/result/quantity/comparator, comparator\n",
            "Node duplicated: http://id.d4k.dk/dataset/bc_template/base_observation/result/coding/version, version\n",
            "Node duplicated: http://id.d4k.dk/dataset/bc_template/base_observation/result/coding/system, system\n",
            "Node duplicated: http://id.d4k.dk/dataset/bc_template/base_observation/result/coding/code, code\n",
            "Node duplicated: http://id.d4k.dk/dataset/bc_template/base_observation/result/coding/user_selected, user_selected\n",
            "Node duplicated: http://id.d4k.dk/dataset/bc_template/base_observation/result/coding/display, display\n",
            "Node duplicated: http://id.d4k.dk/dataset/bc_template/base_laboratory/test/coding/version, version\n",
            "Node duplicated: http://id.d4k.dk/dataset/bc_template/base_laboratory/test/coding/system, system\n",
            "Node duplicated: http://id.d4k.dk/dataset/bc_template/base_laboratory/test/coding/code, code\n",
            "Node duplicated: http://id.d4k.dk/dataset/bc_template/base_laboratory/test/coding/user_selected, user_selected\n",
            "Node duplicated: http://id.d4k.dk/dataset/bc_template/base_laboratory/test/coding/display, display\n",
            "Node duplicated: http://id.d4k.dk/dataset/bc_template/base_laboratory/position/coding/version, version\n",
            "Node duplicated: http://id.d4k.dk/dataset/bc_template/base_laboratory/position/coding/system, system\n",
            "Node duplicated: http://id.d4k.dk/dataset/bc_template/base_laboratory/position/coding/code, code\n",
            "Node duplicated: http://id.d4k.dk/dataset/bc_template/base_laboratory/position/coding/user_selected, user_selected\n",
            "Node duplicated: http://id.d4k.dk/dataset/bc_template/base_laboratory/position/coding/display, display\n",
            "Node duplicated: http://id.d4k.dk/dataset/bc_template/base_laboratory/site_of_administration/coding/version, version\n",
            "Node duplicated: http://id.d4k.dk/dataset/bc_template/base_laboratory/site_of_administration/coding/system, system\n",
            "Node duplicated: http://id.d4k.dk/dataset/bc_template/base_laboratory/site_of_administration/coding/code, code\n",
            "Node duplicated: http://id.d4k.dk/dataset/bc_template/base_laboratory/site_of_administration/coding/user_selected, user_selected\n",
            "Node duplicated: http://id.d4k.dk/dataset/bc_template/base_laboratory/site_of_administration/coding/display, display\n",
            "Node duplicated: http://id.d4k.dk/dataset/bc_template/base_laboratory/laterality/coding/version, version\n",
            "Node duplicated: http://id.d4k.dk/dataset/bc_template/base_laboratory/laterality/coding/system, system\n",
            "Node duplicated: http://id.d4k.dk/dataset/bc_template/base_laboratory/laterality/coding/code, code\n",
            "Node duplicated: http://id.d4k.dk/dataset/bc_template/base_laboratory/laterality/coding/user_selected, user_selected\n",
            "Node duplicated: http://id.d4k.dk/dataset/bc_template/base_laboratory/laterality/coding/display, display\n",
            "Node duplicated: http://id.d4k.dk/dataset/bc_template/base_laboratory/directionality/coding/version, version\n",
            "Node duplicated: http://id.d4k.dk/dataset/bc_template/base_laboratory/directionality/coding/system, system\n",
            "Node duplicated: http://id.d4k.dk/dataset/bc_template/base_laboratory/directionality/coding/code, code\n",
            "Node duplicated: http://id.d4k.dk/dataset/bc_template/base_laboratory/directionality/coding/user_selected, user_selected\n",
            "Node duplicated: http://id.d4k.dk/dataset/bc_template/base_laboratory/directionality/coding/display, display\n",
            "Node duplicated: http://id.d4k.dk/dataset/bc_template/base_laboratory/method/coding/version, version\n",
            "Node duplicated: http://id.d4k.dk/dataset/bc_template/base_laboratory/method/coding/system, system\n",
            "Node duplicated: http://id.d4k.dk/dataset/bc_template/base_laboratory/method/coding/code, code\n",
            "Node duplicated: http://id.d4k.dk/dataset/bc_template/base_laboratory/method/coding/user_selected, user_selected\n",
            "Node duplicated: http://id.d4k.dk/dataset/bc_template/base_laboratory/method/coding/display, display\n",
            "Node duplicated: http://id.d4k.dk/dataset/bc_template/base_laboratory/date_time/date_time/value, value\n",
            "Node duplicated: http://id.d4k.dk/dataset/bc_template/base_laboratory/result/quantity/code, code\n",
            "Node duplicated: http://id.d4k.dk/dataset/bc_template/base_laboratory/result/quantity/value, value\n",
            "Node duplicated: http://id.d4k.dk/dataset/bc_template/base_laboratory/result/quantity/unit, unit\n",
            "Node duplicated: http://id.d4k.dk/dataset/bc_template/base_laboratory/result/quantity/system, system\n",
            "Node duplicated: http://id.d4k.dk/dataset/bc_template/base_laboratory/result/quantity/comparator, comparator\n",
            "Node duplicated: http://id.d4k.dk/dataset/bc_template/base_laboratory/result/coding/version, version\n",
            "Node duplicated: http://id.d4k.dk/dataset/bc_template/base_laboratory/result/coding/system, system\n",
            "Node duplicated: http://id.d4k.dk/dataset/bc_template/base_laboratory/result/coding/code, code\n",
            "Node duplicated: http://id.d4k.dk/dataset/bc_template/base_laboratory/result/coding/user_selected, user_selected\n",
            "Node duplicated: http://id.d4k.dk/dataset/bc_template/base_laboratory/result/coding/display, display\n",
            "Node duplicated: http://id.d4k.dk/dataset/bc_template/base_laboratory/specimen/coding/version, version\n",
            "Node duplicated: http://id.d4k.dk/dataset/bc_template/base_laboratory/specimen/coding/system, system\n",
            "Node duplicated: http://id.d4k.dk/dataset/bc_template/base_laboratory/specimen/coding/code, code\n",
            "Node duplicated: http://id.d4k.dk/dataset/bc_template/base_laboratory/specimen/coding/user_selected, user_selected\n",
            "Node duplicated: http://id.d4k.dk/dataset/bc_template/base_laboratory/specimen/coding/display, display\n",
            "Node duplicated: http://id.d4k.dk/dataset/bc_template/base_observation/test/coding/version, version\n",
            "Node duplicated: http://id.d4k.dk/dataset/bc_template/base_observation/test/coding/system, system\n",
            "Node duplicated: http://id.d4k.dk/dataset/bc_template/base_observation/test/coding/code, code\n",
            "Node duplicated: http://id.d4k.dk/dataset/bc_template/base_observation/test/coding/user_selected, user_selected\n",
            "Node duplicated: http://id.d4k.dk/dataset/bc_template/base_observation/test/coding/display, display\n"
          ]
        }
      ]
    },
    {
      "cell_type": "markdown",
      "source": [
        "Now link the BCs to the canonical model. "
      ],
      "metadata": {
        "id": "Vrb5vlkfz-PG"
      }
    },
    {
      "cell_type": "code",
      "source": [
        "with driver.session() as session:\n",
        "  query = \"\"\"MATCH (n:BC_ITEM) WHERE n.canonical <> \"\"\n",
        "    WITH n\n",
        "    MATCH (m:CANONICAL_NODE {name: n.canonical})\n",
        "    WITH n, m\n",
        "    MATCH (n)-[]->(bdt:BC_DATA_TYPE)-[]->(bdtp:BC_DATA_TYPE_PROPERTY)\n",
        "    WITH bdt, bdtp, n, m\n",
        "    MATCH (m)-[]->(cdt:CANONICAL_DATA_TYPE {name: bdt.name})-[]->(cdtp:CANONICAL_DATA_TYPE_PROPERTY {name: bdtp.name})\n",
        "    CREATE (bdtp)-[:IS_CANONICAL_REF]->(cdtp)\n",
        "    RETURN n.name as b_name, bdt.name as bdt_name, bdtp.name as bdtp_name, m.name as c_name, cdt.name as cdt_name, cdtp.name as cdtp_name\n",
        "  \"\"\" \n",
        "  result = session.run(query)\n",
        "  for record in result:\n",
        "    print (\"[%s, %s, %s] -> [%s, %s, %s]\" % (record[\"b_name\"], record[\"bdt_name\"], record[\"bdtp_name\"], record[\"c_name\"], record[\"cdt_name\"], record[\"cdtp_name\"]))\n",
        "driver.close()"
      ],
      "metadata": {
        "colab": {
          "base_uri": "https://localhost:8080/"
        },
        "id": "n6vOeu33z-uV",
        "outputId": "430cc0fb-3eef-4833-a8aa-a6b4a9443355"
      },
      "execution_count": 748,
      "outputs": [
        {
          "output_type": "stream",
          "name": "stdout",
          "text": [
            "[Test, coding, display] -> [TEST, coding, display]\n",
            "[Test, coding, user_selected] -> [TEST, coding, user_selected]\n",
            "[Test, coding, version] -> [TEST, coding, version]\n",
            "[Test, coding, system] -> [TEST, coding, system]\n",
            "[Test, coding, code] -> [TEST, coding, code]\n",
            "[Laterality, coding, version] -> [LATERALITY, coding, version]\n",
            "[Laterality, coding, display] -> [LATERALITY, coding, display]\n",
            "[Laterality, coding, user_selected] -> [LATERALITY, coding, user_selected]\n",
            "[Laterality, coding, code] -> [LATERALITY, coding, code]\n",
            "[Laterality, coding, system] -> [LATERALITY, coding, system]\n",
            "[Date Time, date_time, value] -> [DATE TIME, date_time, value]\n",
            "[Result, coding, user_selected] -> [RESULT, coding, user_selected]\n",
            "[Result, coding, version] -> [RESULT, coding, version]\n",
            "[Result, coding, system] -> [RESULT, coding, system]\n",
            "[Result, coding, code] -> [RESULT, coding, code]\n",
            "[Result, coding, display] -> [RESULT, coding, display]\n",
            "[Result, quantity, comparator] -> [RESULT, quantity, comparator]\n",
            "[Result, quantity, value] -> [RESULT, quantity, value]\n",
            "[Result, quantity, unit] -> [RESULT, quantity, unit]\n",
            "[Result, quantity, code] -> [RESULT, quantity, code]\n",
            "[Result, quantity, system] -> [RESULT, quantity, system]\n",
            "[Test, coding, user_selected] -> [TEST, coding, user_selected]\n",
            "[Test, coding, version] -> [TEST, coding, version]\n",
            "[Test, coding, system] -> [TEST, coding, system]\n",
            "[Test, coding, code] -> [TEST, coding, code]\n",
            "[Test, coding, display] -> [TEST, coding, display]\n",
            "[Date Time, date_time, value] -> [DATE TIME, date_time, value]\n"
          ]
        }
      ]
    },
    {
      "cell_type": "markdown",
      "source": [
        "Now load the BC instances"
      ],
      "metadata": {
        "id": "nmGJ_Bxz44GM"
      }
    },
    {
      "cell_type": "code",
      "source": [
        "stage_11_files = [ \n",
        "    { \"label\": \"OTHER_SOURCE\", \"filename\": \"stage_11_other_source_nodes.csv\" },\n",
        "    { \"label\": \"BC_VALUE_SET\", \"filename\": \"stage_11_bc_value_set_nodes.csv\" },\n",
        "    { \"label\": \"BC_DATA_TYPE\", \"filename\": \"stage_11_bc_data_type_nodes.csv\" },\n",
        "    { \"label\": \"BC_ITEM\", \"filename\": \"stage_11_bc_item_nodes.csv\" },\n",
        "    { \"label\": \"BC_INSTANCE\", \"filename\": \"stage_11_bc_instance_nodes.csv\" },\n",
        "    { \"type\": \"FROM_SOURCE\", \"filename\": \"stage_11_from_source_relationships.csv\" },\n",
        "    { \"type\": \"HAS_RESPONSE\", \"filename\": \"stage_11_has_response_relationships.csv\" },\n",
        "    { \"type\": \"HAS_DATA_TYPE\", \"filename\": \"stage_11_has_data_type_relationships.csv\" },\n",
        "    { \"type\": \"HAS_IDENTIFIER\", \"filename\": \"stage_11_has_identifier_relationships.csv\" },\n",
        "    { \"type\": \"HAS_ITEM\", \"filename\": \"stage_11_has_item_relationships.csv\" }\n",
        "  ]\n",
        "\n",
        "file_load(stage_11_files)"
      ],
      "metadata": {
        "colab": {
          "base_uri": "https://localhost:8080/"
        },
        "id": "nKEod92dmIc_",
        "outputId": "ea3b3e18-2417-4cb9-c700-6b8071a6d768"
      },
      "execution_count": 749,
      "outputs": [
        {
          "output_type": "stream",
          "name": "stdout",
          "text": [
            "CALL apoc.import.csv( [{ fileName: 'https://raw.githubusercontent.com/data4knowledge/biomedical_concepts/main/data/csv_load/stage_11_other_source_nodes.csv', labels: ['OTHER_SOURCE'] }, { fileName: 'https://raw.githubusercontent.com/data4knowledge/biomedical_concepts/main/data/csv_load/stage_11_bc_value_set_nodes.csv', labels: ['BC_VALUE_SET'] }, { fileName: 'https://raw.githubusercontent.com/data4knowledge/biomedical_concepts/main/data/csv_load/stage_11_bc_data_type_nodes.csv', labels: ['BC_DATA_TYPE'] }, { fileName: 'https://raw.githubusercontent.com/data4knowledge/biomedical_concepts/main/data/csv_load/stage_11_bc_item_nodes.csv', labels: ['BC_ITEM'] }, { fileName: 'https://raw.githubusercontent.com/data4knowledge/biomedical_concepts/main/data/csv_load/stage_11_bc_instance_nodes.csv', labels: ['BC_INSTANCE'] }], [{ fileName: 'https://raw.githubusercontent.com/data4knowledge/biomedical_concepts/main/data/csv_load/stage_11_from_source_relationships.csv', type: 'FROM_SOURCE' }, { fileName: 'https://raw.githubusercontent.com/data4knowledge/biomedical_concepts/main/data/csv_load/stage_11_has_response_relationships.csv', type: 'HAS_RESPONSE' }, { fileName: 'https://raw.githubusercontent.com/data4knowledge/biomedical_concepts/main/data/csv_load/stage_11_has_data_type_relationships.csv', type: 'HAS_DATA_TYPE' }, { fileName: 'https://raw.githubusercontent.com/data4knowledge/biomedical_concepts/main/data/csv_load/stage_11_has_identifier_relationships.csv', type: 'HAS_IDENTIFIER' }, { fileName: 'https://raw.githubusercontent.com/data4knowledge/biomedical_concepts/main/data/csv_load/stage_11_has_item_relationships.csv', type: 'HAS_ITEM' }], {stringIds: false})\n",
            "<Record file='progress.csv' source='file' format='csv' nodes=15 relationships=15 properties=63 time=1583 rows=0 batchSize=-1 batches=0 done=True data=None>\n"
          ]
        }
      ]
    },
    {
      "cell_type": "markdown",
      "source": [
        "Now link the BC instances to the data types"
      ],
      "metadata": {
        "id": "KF_UDoVe5V7O"
      }
    },
    {
      "cell_type": "code",
      "source": [
        "link_data_types(\"BC_ITEM\", \"BC_DATA_TYPE\")\n",
        "duplicate_data_type_nodes(\"BC_DATA_TYPE\", \"BC_DATA_TYPE_PROPERTY\")"
      ],
      "metadata": {
        "colab": {
          "base_uri": "https://localhost:8080/"
        },
        "id": "0otM1XxS5U5F",
        "outputId": "515a6368-e1de-48b4-ae48-48522d1ee7db"
      },
      "execution_count": 750,
      "outputs": [
        {
          "output_type": "stream",
          "name": "stdout",
          "text": [
            "[Test, coding] -> [FHIR, coding]\n",
            "[Result, quantity] -> [FHIR, quantity]\n",
            "[Date Time, date_time] -> [FHIR, date_time]\n",
            "Node duplicated: http://id.d4k.dk/dataset/bc_instance/weight/test/coding/version, version\n",
            "Node duplicated: http://id.d4k.dk/dataset/bc_instance/weight/test/coding/system, system\n",
            "Node duplicated: http://id.d4k.dk/dataset/bc_instance/weight/test/coding/code, code\n",
            "Node duplicated: http://id.d4k.dk/dataset/bc_instance/weight/test/coding/user_selected, user_selected\n",
            "Node duplicated: http://id.d4k.dk/dataset/bc_instance/weight/test/coding/display, display\n",
            "Node duplicated: http://id.d4k.dk/dataset/bc_instance/weight/date_time/date_time/value, value\n",
            "Node duplicated: http://id.d4k.dk/dataset/bc_instance/weight/result/quantity/code, code\n",
            "Node duplicated: http://id.d4k.dk/dataset/bc_instance/weight/result/quantity/value, value\n",
            "Node duplicated: http://id.d4k.dk/dataset/bc_instance/weight/result/quantity/unit, unit\n",
            "Node duplicated: http://id.d4k.dk/dataset/bc_instance/weight/result/quantity/system, system\n",
            "Node duplicated: http://id.d4k.dk/dataset/bc_instance/weight/result/quantity/comparator, comparator\n"
          ]
        }
      ]
    },
    {
      "cell_type": "markdown",
      "source": [
        "Now link the BC Instances to the BC Template that is based on"
      ],
      "metadata": {
        "id": "48z9NnEi6-TM"
      }
    },
    {
      "cell_type": "code",
      "source": [
        "with driver.session() as session:\n",
        "  query = \"\"\"MATCH (n:BC_INSTANCE)\n",
        "    WITH n\n",
        "    MATCH (m:BC_TEMPLATE {name: n.based_on})\n",
        "    WITH n, m\n",
        "    CREATE (n)-[:BASED_ON]->(m)\n",
        "    RETURN n.name as i_name, m.name as t_name\n",
        "  \"\"\" \n",
        "  result = session.run(query)\n",
        "  for record in result:\n",
        "    print (\"%s -> %s\" % (record[\"i_name\"], record[\"t_name\"]))\n",
        "driver.close()"
      ],
      "metadata": {
        "colab": {
          "base_uri": "https://localhost:8080/"
        },
        "id": "EAnRsRd27hZD",
        "outputId": "c8bcc46d-a372-4272-bd4a-01632b0cc4c1"
      },
      "execution_count": 751,
      "outputs": [
        {
          "output_type": "stream",
          "name": "stdout",
          "text": [
            "Weight -> Base Observation\n"
          ]
        }
      ]
    },
    {
      "cell_type": "markdown",
      "source": [
        "Now load the SDTM IG so we can link the SDTM to the canonical model."
      ],
      "metadata": {
        "id": "QsxAK7iarrAZ"
      }
    },
    {
      "cell_type": "code",
      "source": [
        "stage_13_files = [ \n",
        "    { \"label\": \"API_SOURCE\", \"filename\": \"stage_13_api_source_nodes.csv\" },\n",
        "    { \"label\": \"OTHER_SOURCE\", \"filename\": \"stage_13_other_source_nodes.csv\" },\n",
        "    { \"label\": \"SDTM_MODEL\", \"filename\": \"stage_13_sdtm_model_nodes.csv\" },\n",
        "    { \"label\": \"SDTM_CLASS\", \"filename\": \"stage_13_sdtm_class_nodes.csv\" },\n",
        "    { \"label\": \"SDTM_MODEL_VARIABLE\", \"filename\": \"stage_13_sdtm_model_variable_nodes.csv\" },\n",
        "    { \"label\": \"SDTM_IG\", \"filename\": \"stage_13_sdtm_ig_nodes.csv\" },\n",
        "    { \"label\": \"SDTM_DATASET\", \"filename\": \"stage_13_sdtm_dataset_nodes.csv\" },\n",
        "    { \"label\": \"SDTM_VARIABLE\", \"filename\": \"stage_13_sdtm_variable_nodes.csv\" },\n",
        "    { \"label\": \"CANONICAL_REF\", \"filename\": \"stage_13_canonical_ref_nodes.csv\" },\n",
        "    { \"type\": \"FROM_SOURCE\", \"filename\": \"stage_13_from_source_relationships.csv\" },\n",
        "    { \"type\": \"HAS_CANONICAL_REF\", \"filename\": \"stage_13_has_canonical_ref_relationships.csv\" },\n",
        "    { \"type\": \"HAS_CLASS\", \"filename\": \"stage_13_has_class_relationships.csv\" },\n",
        "    { \"type\": \"HAS_DATASET\", \"filename\": \"stage_13_has_dataset_relationships.csv\" },\n",
        "    { \"type\": \"HAS_VARIABLE\", \"filename\": \"stage_13_has_variable_relationships.csv\" }\n",
        "  ]\n",
        "\n",
        "file_load(stage_13_files)"
      ],
      "metadata": {
        "colab": {
          "base_uri": "https://localhost:8080/"
        },
        "id": "xrGI4UvLq18A",
        "outputId": "1511f573-287f-4a83-dd4e-2ce4fe58739b"
      },
      "execution_count": 752,
      "outputs": [
        {
          "output_type": "stream",
          "name": "stdout",
          "text": [
            "CALL apoc.import.csv( [{ fileName: 'https://raw.githubusercontent.com/data4knowledge/biomedical_concepts/main/data/csv_load/stage_13_api_source_nodes.csv', labels: ['API_SOURCE'] }, { fileName: 'https://raw.githubusercontent.com/data4knowledge/biomedical_concepts/main/data/csv_load/stage_13_other_source_nodes.csv', labels: ['OTHER_SOURCE'] }, { fileName: 'https://raw.githubusercontent.com/data4knowledge/biomedical_concepts/main/data/csv_load/stage_13_sdtm_model_nodes.csv', labels: ['SDTM_MODEL'] }, { fileName: 'https://raw.githubusercontent.com/data4knowledge/biomedical_concepts/main/data/csv_load/stage_13_sdtm_class_nodes.csv', labels: ['SDTM_CLASS'] }, { fileName: 'https://raw.githubusercontent.com/data4knowledge/biomedical_concepts/main/data/csv_load/stage_13_sdtm_model_variable_nodes.csv', labels: ['SDTM_MODEL_VARIABLE'] }, { fileName: 'https://raw.githubusercontent.com/data4knowledge/biomedical_concepts/main/data/csv_load/stage_13_sdtm_ig_nodes.csv', labels: ['SDTM_IG'] }, { fileName: 'https://raw.githubusercontent.com/data4knowledge/biomedical_concepts/main/data/csv_load/stage_13_sdtm_dataset_nodes.csv', labels: ['SDTM_DATASET'] }, { fileName: 'https://raw.githubusercontent.com/data4knowledge/biomedical_concepts/main/data/csv_load/stage_13_sdtm_variable_nodes.csv', labels: ['SDTM_VARIABLE'] }, { fileName: 'https://raw.githubusercontent.com/data4knowledge/biomedical_concepts/main/data/csv_load/stage_13_canonical_ref_nodes.csv', labels: ['CANONICAL_REF'] }], [{ fileName: 'https://raw.githubusercontent.com/data4knowledge/biomedical_concepts/main/data/csv_load/stage_13_from_source_relationships.csv', type: 'FROM_SOURCE' }, { fileName: 'https://raw.githubusercontent.com/data4knowledge/biomedical_concepts/main/data/csv_load/stage_13_has_canonical_ref_relationships.csv', type: 'HAS_CANONICAL_REF' }, { fileName: 'https://raw.githubusercontent.com/data4knowledge/biomedical_concepts/main/data/csv_load/stage_13_has_class_relationships.csv', type: 'HAS_CLASS' }, { fileName: 'https://raw.githubusercontent.com/data4knowledge/biomedical_concepts/main/data/csv_load/stage_13_has_dataset_relationships.csv', type: 'HAS_DATASET' }, { fileName: 'https://raw.githubusercontent.com/data4knowledge/biomedical_concepts/main/data/csv_load/stage_13_has_variable_relationships.csv', type: 'HAS_VARIABLE' }], {stringIds: false})\n",
            "<Record file='progress.csv' source='file' format='csv' nodes=1992 relationships=1990 properties=21572 time=2636 rows=0 batchSize=-1 batches=0 done=True data=None>\n"
          ]
        }
      ]
    },
    {
      "cell_type": "markdown",
      "source": [
        "Check that SDTM Model and IG loaded"
      ],
      "metadata": {
        "id": "qIQMVKkYEThB"
      }
    },
    {
      "cell_type": "code",
      "source": [
        "with driver.session() as session:\n",
        "  query = \"\"\"MATCH (ds:SDTM_DATASET)-[]->(v:SDTM_VARIABLE) RETURN DISTINCT ds.name as ds_name, v.name as v_name LIMIT 20\"\"\"\n",
        "  result = session.run(query)\n",
        "  for record in result:\n",
        "    print (\"[%s, %s] loaded\" % (record[\"ds_name\"], record[\"v_name\"]))\n",
        "driver.close()\n",
        "\n",
        "with driver.session() as session:\n",
        "  query = \"\"\"MATCH (m:SDTM_MODEL)-[]->(c:SDTM_CLASS)-[]->(v:SDTM_MODEL_VARIABLE) RETURN DISTINCT m.name as m_name, c.name as c_name, v.name as v_name\"\"\"\n",
        "  result = session.run(query)\n",
        "  for record in result:\n",
        "    print (\"[%s, %s, %s] loaded\" % (record[\"m_name\"], record[\"c_name\"], record[\"v_name\"]))\n",
        "driver.close()"
      ],
      "metadata": {
        "colab": {
          "base_uri": "https://localhost:8080/"
        },
        "id": "XMP9ZqWsr1dW",
        "outputId": "2f132619-371c-4fc7-ac92-455d52bac90a"
      },
      "execution_count": 753,
      "outputs": [
        {
          "output_type": "stream",
          "name": "stdout",
          "text": [
            "[AG, AGPRESP] loaded\n",
            "[AG, AGSTDTC] loaded\n",
            "[AG, DOMAIN] loaded\n",
            "[AG, AGENRF] loaded\n",
            "[AG, AGSTAT] loaded\n",
            "[AG, AGSEQ] loaded\n",
            "[AG, AGSTRTPT] loaded\n",
            "[AG, AGSTDY] loaded\n",
            "[AG, AGDOSE] loaded\n",
            "[AG, AGDOSFRM] loaded\n",
            "[AG, VISITNUM] loaded\n",
            "[AG, TAETORD] loaded\n",
            "[AG, AGDOSU] loaded\n",
            "[AG, AGDOSTXT] loaded\n",
            "[AG, AGLNKID] loaded\n",
            "[AG, AGROUTE] loaded\n",
            "[AG, AGENDTC] loaded\n",
            "[AG, AGTRT] loaded\n",
            "[AG, USUBJID] loaded\n",
            "[AG, AGSCAT] loaded\n",
            "[SDTM Model, findings, --ORRES] loaded\n",
            "[SDTM Model, findings, --DTC] loaded\n",
            "[SDTM Model, findings, --ORRESU] loaded\n"
          ]
        }
      ]
    },
    {
      "cell_type": "markdown",
      "source": [
        "Now link up the SDTM Model and IG variables"
      ],
      "metadata": {
        "id": "neqitlp_IvUI"
      }
    },
    {
      "cell_type": "code",
      "source": [
        "with driver.session() as session:\n",
        "  query = \"\"\"MATCH (smv:SDTM_MODEL_VARIABLE)\n",
        "    MATCH (igv:SDTM_VARIABLE) WHERE substring(smv.name, 2) = substring(igv.name, 2)\n",
        "    MERGE (igv)-[:BASED_ON]->(smv)\n",
        "    RETURN igv.name as ig_name, smv.name as m_name\n",
        "  \"\"\"\n",
        "  result = session.run(query)\n",
        "  for record in result:\n",
        "    print (\"%s -> %s linked\" % (record[\"ig_name\"], record[\"m_name\"]))\n",
        "driver.close()"
      ],
      "metadata": {
        "colab": {
          "base_uri": "https://localhost:8080/"
        },
        "id": "9sEoyBhgI4Kw",
        "outputId": "b56e9edd-e3c6-4a50-bfa3-7f41094abde2"
      },
      "execution_count": 754,
      "outputs": [
        {
          "output_type": "stream",
          "name": "stdout",
          "text": [
            "BSORRES -> --ORRES linked\n",
            "CPORRES -> --ORRES linked\n",
            "CVORRES -> --ORRES linked\n",
            "DAORRES -> --ORRES linked\n",
            "DDORRES -> --ORRES linked\n",
            "EGORRES -> --ORRES linked\n",
            "FTORRES -> --ORRES linked\n",
            "GFORRES -> --ORRES linked\n",
            "IEORRES -> --ORRES linked\n",
            "ISORRES -> --ORRES linked\n",
            "LBORRES -> --ORRES linked\n",
            "MBORRES -> --ORRES linked\n",
            "MIORRES -> --ORRES linked\n",
            "BSORRESU -> --ORRESU linked\n",
            "CPORRESU -> --ORRESU linked\n",
            "CVORRESU -> --ORRESU linked\n",
            "DAORRESU -> --ORRESU linked\n",
            "EGORRESU -> --ORRESU linked\n",
            "FTORRESU -> --ORRESU linked\n",
            "GFORRESU -> --ORRESU linked\n",
            "ISORRESU -> --ORRESU linked\n",
            "LBORRESU -> --ORRESU linked\n",
            "MBORRESU -> --ORRESU linked\n",
            "MIORRESU -> --ORRESU linked\n",
            "MLDTC -> --DTC linked\n",
            "BEDTC -> --DTC linked\n",
            "CEDTC -> --DTC linked\n",
            "DSDTC -> --DTC linked\n",
            "HODTC -> --DTC linked\n",
            "MHDTC -> --DTC linked\n",
            "BSDTC -> --DTC linked\n",
            "CPDTC -> --DTC linked\n",
            "CVDTC -> --DTC linked\n",
            "DADTC -> --DTC linked\n",
            "DDDTC -> --DTC linked\n",
            "EGDTC -> --DTC linked\n",
            "FTDTC -> --DTC linked\n",
            "GFDTC -> --DTC linked\n",
            "IEDTC -> --DTC linked\n",
            "ISDTC -> --DTC linked\n",
            "LBDTC -> --DTC linked\n",
            "MBDTC -> --DTC linked\n",
            "MIDTC -> --DTC linked\n",
            "MKORRES -> --ORRES linked\n",
            "MSORRES -> --ORRES linked\n",
            "NVORRES -> --ORRES linked\n",
            "OEORRES -> --ORRES linked\n",
            "PCORRES -> --ORRES linked\n",
            "PEORRES -> --ORRES linked\n",
            "PPORRES -> --ORRES linked\n",
            "QSORRES -> --ORRES linked\n",
            "REORRES -> --ORRES linked\n",
            "RPORRES -> --ORRES linked\n",
            "RSORRES -> --ORRES linked\n",
            "SCORRES -> --ORRES linked\n",
            "SSORRES -> --ORRES linked\n",
            "TRORRES -> --ORRES linked\n",
            "TUORRES -> --ORRES linked\n",
            "URORRES -> --ORRES linked\n",
            "VSORRES -> --ORRES linked\n",
            "FAORRES -> --ORRES linked\n",
            "SRORRES -> --ORRES linked\n",
            "MKORRESU -> --ORRESU linked\n",
            "MSORRESU -> --ORRESU linked\n",
            "NVORRESU -> --ORRESU linked\n",
            "OEORRESU -> --ORRESU linked\n",
            "PCORRESU -> --ORRESU linked\n",
            "PEORRESU -> --ORRESU linked\n",
            "PPORRESU -> --ORRESU linked\n",
            "QSORRESU -> --ORRESU linked\n",
            "REORRESU -> --ORRESU linked\n",
            "RPORRESU -> --ORRESU linked\n",
            "RSORRESU -> --ORRESU linked\n",
            "SCORRESU -> --ORRESU linked\n",
            "TRORRESU -> --ORRESU linked\n",
            "URORRESU -> --ORRESU linked\n",
            "VSORRESU -> --ORRESU linked\n",
            "FAORRESU -> --ORRESU linked\n",
            "SRORRESU -> --ORRESU linked\n",
            "MKDTC -> --DTC linked\n",
            "MSDTC -> --DTC linked\n",
            "NVDTC -> --DTC linked\n",
            "OEDTC -> --DTC linked\n",
            "PCDTC -> --DTC linked\n",
            "PEDTC -> --DTC linked\n",
            "PPDTC -> --DTC linked\n",
            "QSDTC -> --DTC linked\n",
            "REDTC -> --DTC linked\n",
            "RPDTC -> --DTC linked\n",
            "RSDTC -> --DTC linked\n",
            "SCDTC -> --DTC linked\n",
            "SSDTC -> --DTC linked\n",
            "TRDTC -> --DTC linked\n",
            "TUDTC -> --DTC linked\n",
            "URDTC -> --DTC linked\n",
            "VSDTC -> --DTC linked\n",
            "FADTC -> --DTC linked\n",
            "SRDTC -> --DTC linked\n",
            "CODTC -> --DTC linked\n",
            "DMDTC -> --DTC linked\n"
          ]
        }
      ]
    },
    {
      "cell_type": "markdown",
      "source": [
        "And link the model variables to the canonical model."
      ],
      "metadata": {
        "id": "-a_Vt3rqK-Y3"
      }
    },
    {
      "cell_type": "code",
      "source": [
        "with driver.session() as session:\n",
        "  query = \"\"\"MATCH (smv:SDTM_MODEL_VARIABLE)-[]->(cr:CANONICAL_REF)\n",
        "    MATCH (CANONICAL_NODE {name: cr.node})-[]->(CANONICAL_DATA_TYPE {name: cr.data_type})-[]->(cdtp:CANONICAL_DATA_TYPE_PROPERTY {name: cr.property})\n",
        "    MERGE (smv)-[:IS_CANONICAL_REF]->(cdtp)\n",
        "    RETURN smv.name as v_name, cr.node as c_node, cr.data_type as c_dt, cr.property as c_property, cdtp.uri as uri\n",
        "  \"\"\"\n",
        "  result = session.run(query)\n",
        "  for record in result:\n",
        "    print (\"%s -> [%s, %s, %s] -> %s linked\" % (record[\"v_name\"], record[\"c_node\"], record[\"c_dt\"], record[\"c_property\"], record[\"uri\"]))\n",
        "driver.close()"
      ],
      "metadata": {
        "colab": {
          "base_uri": "https://localhost:8080/"
        },
        "id": "p0M3CJ5dLDsd",
        "outputId": "5f3ed19b-3ff4-44ea-de1e-fb62039f8b3a"
      },
      "execution_count": 755,
      "outputs": [
        {
          "output_type": "stream",
          "name": "stdout",
          "text": [
            "--DTC -> [DATE TIME, date_time, value] -> http://id.d4k.dk/dataset/canonical/common/date_time/date_time/value linked\n",
            "--ORRES -> [RESULT, coding, code] -> http://id.d4k.dk/dataset/canonical/observation/observation_result/result/coding/code linked\n",
            "--ORRES -> [RESULT, quantity, value] -> http://id.d4k.dk/dataset/canonical/observation/observation_result/result/quantity/value linked\n",
            "--ORRESU -> [RESULT, quantity, unit] -> http://id.d4k.dk/dataset/canonical/observation/observation_result/result/quantity/unit linked\n"
          ]
        }
      ]
    },
    {
      "cell_type": "markdown",
      "source": [
        "Now load the DDF study example data. Provides an example of a \"industry standard\" design."
      ],
      "metadata": {
        "id": "cH-7_-DXzN_R"
      }
    },
    {
      "cell_type": "code",
      "source": [
        "stage_12_files = [    \n",
        "    { \"label\": \"ENDPOINT\", \"filename\": \"stage_12_endpoint_nodes.csv\" },\n",
        "    { \"label\": \"STUDY_DATA\", \"filename\": \"stage_12_study_data_nodes.csv\" },\n",
        "    { \"label\": \"PROCEDURE\", \"filename\": \"stage_12_procedure_nodes.csv\" },\n",
        "    { \"label\": \"ACTIVITY\", \"filename\": \"stage_12_activity_nodes.csv\" },\n",
        "    { \"label\": \"WORKFLOW_ITEM\", \"filename\": \"stage_12_workflow_item_nodes.csv\" },\n",
        "    { \"label\": \"VISIT\", \"filename\": \"stage_12_visit_nodes.csv\" },\n",
        "    { \"label\": \"STUDY_CELL\", \"filename\": \"stage_12_study_cell_nodes.csv\" },\n",
        "    { \"label\": \"RULE\", \"filename\": \"stage_12_rule_nodes.csv\" },\n",
        "    { \"label\": \"STUDY_ELEMENT\", \"filename\": \"stage_12_study_element_nodes.csv\" },\n",
        "    { \"label\": \"EPOCH\", \"filename\": \"stage_12_study_epoch_nodes.csv\" },\n",
        "    { \"label\": \"STUDY_ARM\", \"filename\": \"stage_12_study_arm_nodes.csv\" },\n",
        "    { \"label\": \"OBJECTIVE\", \"filename\": \"stage_12_objective_nodes.csv\" },\n",
        "    { \"label\": \"CODE\", \"filename\": \"stage_12_code_nodes.csv\" },\n",
        "    { \"label\": \"INVESTIGATIONAL_INTERVENTIONS\", \"filename\": \"stage_12_investigational_interventions_nodes.csv\" },\n",
        "    { \"label\": \"POPULATION\", \"filename\": \"stage_12_population_nodes.csv\" },\n",
        "    { \"label\": \"STUDY_DESIGN\", \"filename\": \"stage_12_study_design_nodes.csv\" },\n",
        "    { \"label\": \"INDICATION\", \"filename\": \"stage_12_indication_nodes.csv\" },\n",
        "    { \"label\": \"STUDY_PROTOCOL\", \"filename\": \"stage_12_study_protocol_nodes.csv\" },\n",
        "    { \"label\": \"STUDY_PHASE\", \"filename\": \"stage_12_study_phase_nodes.csv\" },\n",
        "    { \"label\": \"STUDY_TYPE\", \"filename\": \"stage_12_study_type_nodes.csv\" },\n",
        "    { \"label\": \"STUDY_IDENTIFIER\", \"filename\": \"stage_12_study_identifier_nodes.csv\" },\n",
        "    { \"label\": \"STUDY\", \"filename\": \"stage_12_study_nodes.csv\" },\n",
        "    { \"type\": \"HAS_CODED\", \"filename\": \"stage_12_has_coded_relationships.csv\" },\n",
        "    { \"type\": \"HAS_ENDPOINT\", \"filename\": \"stage_12_has_endpoint_relationships.csv\" },\n",
        "    { \"type\": \"HAS_STUDY_DATA\", \"filename\": \"stage_12_has_study_data_relationships.csv\" },\n",
        "    { \"type\": \"HAS_PROCEDURE\", \"filename\": \"stage_12_has_procedure_relationships.csv\" },\n",
        "    { \"type\": \"HAS_PREVIOUS_ACTIVITY\", \"filename\": \"stage_12_has_previous_activity_relationships.csv\" },\n",
        "    { \"type\": \"USED_IN_VISIT\", \"filename\": \"stage_12_used_in_visit_relationships.csv\" },\n",
        "    { \"type\": \"HAS_ACTIVITY\", \"filename\": \"stage_12_has_activity_relationships.csv\" },\n",
        "    { \"type\": \"HAS_VISIT\", \"filename\": \"stage_12_has_visit_relationships.csv\" },\n",
        "    { \"type\": \"HAS_END_RULE\", \"filename\": \"stage_12_has_end_rule_relationships.csv\" },\n",
        "    { \"type\": \"HAS_START_RULE\", \"filename\": \"stage_12_has_start_rule_relationships.csv\" },\n",
        "    { \"type\": \"HAS_ELEMENT\", \"filename\": \"stage_12_has_element_relationships.csv\" },\n",
        "    { \"type\": \"HAS_EPOCH\", \"filename\": \"stage_12_has_epoch_relationships.csv\" },\n",
        "    { \"type\": \"HAS_ARM\", \"filename\": \"stage_12_has_arm_relationships.csv\" },\n",
        "    { \"type\": \"HAS_CELL\", \"filename\": \"stage_12_has_cell_relationships.csv\" },\n",
        "    { \"type\": \"HAS_OBJECTIVE\", \"filename\": \"stage_12_has_objective_relationships.csv\" },\n",
        "    { \"type\": \"HAS_INDICATION\", \"filename\": \"stage_12_has_indication_relationships.csv\" },\n",
        "    { \"type\": \"HAS_INVESTIGATIONAL_INTERVENTION\", \"filename\": \"stage_12_has_investigational_intervention_relationships.csv\" },\n",
        "    { \"type\": \"HAS_POPULATION\", \"filename\": \"stage_12_has_population_relationships.csv\" },\n",
        "    { \"type\": \"HAS_STUDY_DESIGN\", \"filename\": \"stage_12_has_study_design_relationships.csv\" },\n",
        "    { \"type\": \"HAS_PROTOCOL\", \"filename\": \"stage_12_has_protocol_relationships.csv\" },\n",
        "    { \"type\": \"HAS_STUDY_PHASE\", \"filename\": \"stage_12_has_study_phase_relationships.csv\" },\n",
        "    { \"type\": \"HAS_STUDY_TYPE\", \"filename\": \"stage_12_has_study_type_relationships.csv\" },\n",
        "    { \"type\": \"HAS_IDENTIFIER\", \"filename\": \"stage_12_has_identifier_relationships.csv\" }\n",
        "  ]\n",
        "\n",
        "file_load(stage_12_files)"
      ],
      "metadata": {
        "colab": {
          "base_uri": "https://localhost:8080/"
        },
        "id": "yLEatFJT6WGB",
        "outputId": "e6d09bca-fef3-4392-cff8-3c182554f3c9"
      },
      "execution_count": 756,
      "outputs": [
        {
          "output_type": "stream",
          "name": "stdout",
          "text": [
            "CALL apoc.import.csv( [{ fileName: 'https://raw.githubusercontent.com/data4knowledge/biomedical_concepts/main/data/csv_load/stage_12_endpoint_nodes.csv', labels: ['ENDPOINT'] }, { fileName: 'https://raw.githubusercontent.com/data4knowledge/biomedical_concepts/main/data/csv_load/stage_12_study_data_nodes.csv', labels: ['STUDY_DATA'] }, { fileName: 'https://raw.githubusercontent.com/data4knowledge/biomedical_concepts/main/data/csv_load/stage_12_procedure_nodes.csv', labels: ['PROCEDURE'] }, { fileName: 'https://raw.githubusercontent.com/data4knowledge/biomedical_concepts/main/data/csv_load/stage_12_activity_nodes.csv', labels: ['ACTIVITY'] }, { fileName: 'https://raw.githubusercontent.com/data4knowledge/biomedical_concepts/main/data/csv_load/stage_12_workflow_item_nodes.csv', labels: ['WORKFLOW_ITEM'] }, { fileName: 'https://raw.githubusercontent.com/data4knowledge/biomedical_concepts/main/data/csv_load/stage_12_visit_nodes.csv', labels: ['VISIT'] }, { fileName: 'https://raw.githubusercontent.com/data4knowledge/biomedical_concepts/main/data/csv_load/stage_12_study_cell_nodes.csv', labels: ['STUDY_CELL'] }, { fileName: 'https://raw.githubusercontent.com/data4knowledge/biomedical_concepts/main/data/csv_load/stage_12_rule_nodes.csv', labels: ['RULE'] }, { fileName: 'https://raw.githubusercontent.com/data4knowledge/biomedical_concepts/main/data/csv_load/stage_12_study_element_nodes.csv', labels: ['STUDY_ELEMENT'] }, { fileName: 'https://raw.githubusercontent.com/data4knowledge/biomedical_concepts/main/data/csv_load/stage_12_study_epoch_nodes.csv', labels: ['EPOCH'] }, { fileName: 'https://raw.githubusercontent.com/data4knowledge/biomedical_concepts/main/data/csv_load/stage_12_study_arm_nodes.csv', labels: ['STUDY_ARM'] }, { fileName: 'https://raw.githubusercontent.com/data4knowledge/biomedical_concepts/main/data/csv_load/stage_12_objective_nodes.csv', labels: ['OBJECTIVE'] }, { fileName: 'https://raw.githubusercontent.com/data4knowledge/biomedical_concepts/main/data/csv_load/stage_12_code_nodes.csv', labels: ['CODE'] }, { fileName: 'https://raw.githubusercontent.com/data4knowledge/biomedical_concepts/main/data/csv_load/stage_12_investigational_interventions_nodes.csv', labels: ['INVESTIGATIONAL_INTERVENTIONS'] }, { fileName: 'https://raw.githubusercontent.com/data4knowledge/biomedical_concepts/main/data/csv_load/stage_12_population_nodes.csv', labels: ['POPULATION'] }, { fileName: 'https://raw.githubusercontent.com/data4knowledge/biomedical_concepts/main/data/csv_load/stage_12_study_design_nodes.csv', labels: ['STUDY_DESIGN'] }, { fileName: 'https://raw.githubusercontent.com/data4knowledge/biomedical_concepts/main/data/csv_load/stage_12_indication_nodes.csv', labels: ['INDICATION'] }, { fileName: 'https://raw.githubusercontent.com/data4knowledge/biomedical_concepts/main/data/csv_load/stage_12_study_protocol_nodes.csv', labels: ['STUDY_PROTOCOL'] }, { fileName: 'https://raw.githubusercontent.com/data4knowledge/biomedical_concepts/main/data/csv_load/stage_12_study_phase_nodes.csv', labels: ['STUDY_PHASE'] }, { fileName: 'https://raw.githubusercontent.com/data4knowledge/biomedical_concepts/main/data/csv_load/stage_12_study_type_nodes.csv', labels: ['STUDY_TYPE'] }, { fileName: 'https://raw.githubusercontent.com/data4knowledge/biomedical_concepts/main/data/csv_load/stage_12_study_identifier_nodes.csv', labels: ['STUDY_IDENTIFIER'] }, { fileName: 'https://raw.githubusercontent.com/data4knowledge/biomedical_concepts/main/data/csv_load/stage_12_study_nodes.csv', labels: ['STUDY'] }], [{ fileName: 'https://raw.githubusercontent.com/data4knowledge/biomedical_concepts/main/data/csv_load/stage_12_has_coded_relationships.csv', type: 'HAS_CODED' }, { fileName: 'https://raw.githubusercontent.com/data4knowledge/biomedical_concepts/main/data/csv_load/stage_12_has_endpoint_relationships.csv', type: 'HAS_ENDPOINT' }, { fileName: 'https://raw.githubusercontent.com/data4knowledge/biomedical_concepts/main/data/csv_load/stage_12_has_study_data_relationships.csv', type: 'HAS_STUDY_DATA' }, { fileName: 'https://raw.githubusercontent.com/data4knowledge/biomedical_concepts/main/data/csv_load/stage_12_has_procedure_relationships.csv', type: 'HAS_PROCEDURE' }, { fileName: 'https://raw.githubusercontent.com/data4knowledge/biomedical_concepts/main/data/csv_load/stage_12_has_previous_activity_relationships.csv', type: 'HAS_PREVIOUS_ACTIVITY' }, { fileName: 'https://raw.githubusercontent.com/data4knowledge/biomedical_concepts/main/data/csv_load/stage_12_used_in_visit_relationships.csv', type: 'USED_IN_VISIT' }, { fileName: 'https://raw.githubusercontent.com/data4knowledge/biomedical_concepts/main/data/csv_load/stage_12_has_activity_relationships.csv', type: 'HAS_ACTIVITY' }, { fileName: 'https://raw.githubusercontent.com/data4knowledge/biomedical_concepts/main/data/csv_load/stage_12_has_visit_relationships.csv', type: 'HAS_VISIT' }, { fileName: 'https://raw.githubusercontent.com/data4knowledge/biomedical_concepts/main/data/csv_load/stage_12_has_end_rule_relationships.csv', type: 'HAS_END_RULE' }, { fileName: 'https://raw.githubusercontent.com/data4knowledge/biomedical_concepts/main/data/csv_load/stage_12_has_start_rule_relationships.csv', type: 'HAS_START_RULE' }, { fileName: 'https://raw.githubusercontent.com/data4knowledge/biomedical_concepts/main/data/csv_load/stage_12_has_element_relationships.csv', type: 'HAS_ELEMENT' }, { fileName: 'https://raw.githubusercontent.com/data4knowledge/biomedical_concepts/main/data/csv_load/stage_12_has_epoch_relationships.csv', type: 'HAS_EPOCH' }, { fileName: 'https://raw.githubusercontent.com/data4knowledge/biomedical_concepts/main/data/csv_load/stage_12_has_arm_relationships.csv', type: 'HAS_ARM' }, { fileName: 'https://raw.githubusercontent.com/data4knowledge/biomedical_concepts/main/data/csv_load/stage_12_has_cell_relationships.csv', type: 'HAS_CELL' }, { fileName: 'https://raw.githubusercontent.com/data4knowledge/biomedical_concepts/main/data/csv_load/stage_12_has_objective_relationships.csv', type: 'HAS_OBJECTIVE' }, { fileName: 'https://raw.githubusercontent.com/data4knowledge/biomedical_concepts/main/data/csv_load/stage_12_has_indication_relationships.csv', type: 'HAS_INDICATION' }, { fileName: 'https://raw.githubusercontent.com/data4knowledge/biomedical_concepts/main/data/csv_load/stage_12_has_investigational_intervention_relationships.csv', type: 'HAS_INVESTIGATIONAL_INTERVENTION' }, { fileName: 'https://raw.githubusercontent.com/data4knowledge/biomedical_concepts/main/data/csv_load/stage_12_has_population_relationships.csv', type: 'HAS_POPULATION' }, { fileName: 'https://raw.githubusercontent.com/data4knowledge/biomedical_concepts/main/data/csv_load/stage_12_has_study_design_relationships.csv', type: 'HAS_STUDY_DESIGN' }, { fileName: 'https://raw.githubusercontent.com/data4knowledge/biomedical_concepts/main/data/csv_load/stage_12_has_protocol_relationships.csv', type: 'HAS_PROTOCOL' }, { fileName: 'https://raw.githubusercontent.com/data4knowledge/biomedical_concepts/main/data/csv_load/stage_12_has_study_phase_relationships.csv', type: 'HAS_STUDY_PHASE' }, { fileName: 'https://raw.githubusercontent.com/data4knowledge/biomedical_concepts/main/data/csv_load/stage_12_has_study_type_relationships.csv', type: 'HAS_STUDY_TYPE' }, { fileName: 'https://raw.githubusercontent.com/data4knowledge/biomedical_concepts/main/data/csv_load/stage_12_has_identifier_relationships.csv', type: 'HAS_IDENTIFIER' }], {stringIds: false})\n",
            "<Record file='progress.csv' source='file' format='csv' nodes=209 relationships=293 properties=746 time=7395 rows=0 batchSize=-1 batches=0 done=True data=None>\n"
          ]
        }
      ]
    },
    {
      "cell_type": "markdown",
      "source": [
        "Add in a study URI for the study"
      ],
      "metadata": {
        "id": "GA0K3-bOT5Sp"
      }
    },
    {
      "cell_type": "code",
      "source": [
        "def set_study_uri(brief_title, uri):\n",
        "  with driver.session() as session:\n",
        "    query = \"\"\"MATCH (p:STUDY_PROTOCOL {brief_title: '%s'})<-[]-(s:STUDY)\n",
        "      SET s.uri = '%s'\n",
        "      \"\"\" % (brief_title, uri)\n",
        "    result = session.run(query)\n",
        "  driver.close()\n",
        "\n",
        "def get_study_uri(brief_title):\n",
        "  with driver.session() as session:\n",
        "    query = \"\"\"MATCH (p:STUDY_PROTOCOL {brief_title: '%s'})<-[]-(s:STUDY)\n",
        "      RETURN s.uri as uri;\n",
        "      \"\"\" % (brief_title)\n",
        "    result = session.run(query)\n",
        "    for record in result:\n",
        "      the_result = record[\"uri\"]\n",
        "  driver.close()\n",
        "  return the_result\n",
        "\n",
        "set_study_uri(\"DDR\", \"http://id.d4k.dk/dataset/study/ddr\")\n",
        "print(\"URI for study DDR is %s\" % (get_study_uri(\"DDR\")))"
      ],
      "metadata": {
        "colab": {
          "base_uri": "https://localhost:8080/"
        },
        "id": "pyPLkrVgT6CS",
        "outputId": "4c5cbe67-64e5-49de-dab7-3cfbc2b621b1"
      },
      "execution_count": 757,
      "outputs": [
        {
          "output_type": "stream",
          "name": "stdout",
          "text": [
            "URI for study DDR is http://id.d4k.dk/dataset/study/ddr\n"
          ]
        }
      ]
    },
    {
      "cell_type": "markdown",
      "source": [
        "Duplicate the BC. The study activity Study data node uses WGHT as a code, really need to update it to be \"Weight\" so we can name match all BCs. Just work round this for the moment."
      ],
      "metadata": {
        "id": "YKum1W4B4kFn"
      }
    },
    {
      "cell_type": "code",
      "source": [
        "def duplicate_bc(study_data_name, bc_name, study_uri):\n",
        "  bc_uri = \"%s/bc/%s\" % (study_uri, bc_name)\n",
        "  with driver.session() as session:\n",
        "    query = \"\"\"MATCH (a:ACTIVITY)-[]->(sd:STUDY_DATA) WHERE sd.name = '%s'\n",
        "      WITH a, sd\n",
        "      MATCH (bc:BC_INSTANCE) WHERE bc.name = '%s'\n",
        "      WITH a, sd, bc\n",
        "      CREATE (a)-[:HAS_BC]->(new:STUDY_BC_INSTANCE)\n",
        "      SET new = bc\n",
        "      SET new.uri = '%s'\n",
        "      CREATE (new)-[:BASED_ON]->(bc)\n",
        "      WITH bc, new\n",
        "      CALL apoc.path.subgraphAll(bc, {relationshipFilter:'HAS_ITEM>|HAS_DATA_TYPE>|HAS_RESPONSE>'})\n",
        "      YIELD nodes, relationships\n",
        "      CALL apoc.refactor.cloneSubgraph(\n",
        "        nodes,\n",
        "        [rel in relationships WHERE type(rel) = 'HAS_DATA_TYPE_PROPERTY'],\n",
        "        { standinNodes:[[bc, new]] })\n",
        "      YIELD input, output, error\n",
        "      RETURN output;\n",
        "      \"\"\" % (study_data_name, bc_name, bc_uri)\n",
        "    result = session.run(query)\n",
        "    print(\"%i nodes duplicated for BC %s\" % (len(result.values()), bc_name))\n",
        "  driver.close()\n",
        "  return bc_uri\n",
        "\n",
        "def update_bc_uris(bc_uri):\n",
        "  with driver.session() as session:\n",
        "    ids = []\n",
        "    query = \"\"\"MATCH (bc:STUDY_BC_INSTANCE) WHERE bc.uri = '%s'\n",
        "      WITH bc\n",
        "      CALL apoc.path.subgraphAll(bc, {relationshipFilter:'HAS_ITEM>|HAS_DATA_TYPE>|HAS_DATA_TYPE_PROPERTY>|HAS_RESPONSE>'})\n",
        "      YIELD nodes, relationships\n",
        "      RETURN nodes;\n",
        "    \"\"\" % (bc_uri)\n",
        "    result = session.run(query)\n",
        "    for record in result:\n",
        "      for node in record:\n",
        "        for node1 in node:\n",
        "          if node1['uri'] == bc_uri:\n",
        "            continue\n",
        "          ids.append({\"id\": node1.id})\n",
        " \n",
        "    query = \"\"\"UNWIND $id_data AS d\n",
        "      MATCH (p)-[]->(n) WHERE ID(n)=d.id\n",
        "      SET n.uri = p.uri + '/' + replace(toLower(n.name), \" \", \"_\")\n",
        "      RETURN n.uri as uri\"\"\"\n",
        "    result = session.run(query, id_data=ids)\n",
        "    for record in result:\n",
        "      print(\"Node uri updated: %s\" % (record[\"uri\"]))\n",
        "  driver.close()\n",
        "\n",
        "def add_bc_canonical_refs(bc_uri):\n",
        "  with driver.session() as session:\n",
        "    query = \"\"\"MATCH (n:STUDY_BC_INSTANCE {uri: '%s'})-[:BASED_ON]->(in)-[:BASED_ON]->(t)-[]->(i:BC_ITEM)\n",
        "      -[]->(dt:BC_DATA_TYPE)\n",
        "      -[]->(p:BC_DATA_TYPE_PROPERTY)\n",
        "      -[]->(cr:CANONICAL_DATA_TYPE_PROPERTY) \n",
        "      WITH n, i.name as i_name, dt.name as dt_name, p.name as p_name, cr\n",
        "      MATCH (n:STUDY_BC_INSTANCE {uri: '%s'})-[]->(BC_ITEM {name: i_name})\n",
        "      -[]->(BC_DATA_TYPE {name: dt_name})\n",
        "      -[]->(sp:BC_DATA_TYPE_PROPERTY {name: p_name})\n",
        "      WITH sp, cr\n",
        "      CREATE (sp)-[:IS_CANONICAL_REF]->(cr) \n",
        "      RETURN sp.name as name, cr.uri as uri\n",
        "    \"\"\" % (bc_uri, bc_uri)\n",
        "    result = session.run(query)\n",
        "    for record in result:\n",
        "      print(\"Canonical reference set: %s -> %s\" % (record[\"name\"], record[\"uri\"]))\n",
        "  driver.close()\n",
        "\n",
        "study_uri = get_study_uri(\"DDR\")\n",
        "bc_uri = duplicate_bc(\"WGHT\", \"Weight\", study_uri)\n",
        "link_data_types(\"BC_ITEM\", \"BC_DATA_TYPE\")\n",
        "duplicate_data_type_nodes(\"BC_DATA_TYPE\", \"BC_DATA_TYPE_PROPERTY\")\n",
        "update_bc_uris(bc_uri)\n",
        "add_bc_canonical_refs(bc_uri)"
      ],
      "metadata": {
        "colab": {
          "base_uri": "https://localhost:8080/"
        },
        "id": "kuX-JoiR4msA",
        "outputId": "5916489a-53bb-4c9c-8830-123e6af975c0"
      },
      "execution_count": 758,
      "outputs": [
        {
          "output_type": "stream",
          "name": "stdout",
          "text": [
            "13 nodes duplicated for BC Weight\n",
            "[Test, coding] -> [FHIR, coding]\n",
            "[Result, quantity] -> [FHIR, quantity]\n",
            "[Date Time, date_time] -> [FHIR, date_time]\n",
            "Node duplicated: http://id.d4k.dk/dataset/bc_instance/weight/test/coding/version, version\n",
            "Node duplicated: http://id.d4k.dk/dataset/bc_instance/weight/test/coding/system, system\n",
            "Node duplicated: http://id.d4k.dk/dataset/bc_instance/weight/test/coding/code, code\n",
            "Node duplicated: http://id.d4k.dk/dataset/bc_instance/weight/test/coding/user_selected, user_selected\n",
            "Node duplicated: http://id.d4k.dk/dataset/bc_instance/weight/test/coding/display, display\n",
            "Node duplicated: http://id.d4k.dk/dataset/bc_instance/weight/result/quantity/code, code\n",
            "Node duplicated: http://id.d4k.dk/dataset/bc_instance/weight/result/quantity/value, value\n",
            "Node duplicated: http://id.d4k.dk/dataset/bc_instance/weight/result/quantity/unit, unit\n",
            "Node duplicated: http://id.d4k.dk/dataset/bc_instance/weight/result/quantity/system, system\n",
            "Node duplicated: http://id.d4k.dk/dataset/bc_instance/weight/result/quantity/comparator, comparator\n",
            "Node duplicated: http://id.d4k.dk/dataset/bc_instance/weight/date_time/date_time/value, value\n",
            "Node uri updated: http://id.d4k.dk/dataset/study/ddr/bc/Weight/site_of_administration\n",
            "Node uri updated: http://id.d4k.dk/dataset/study/ddr/bc/Weight/method\n",
            "Node uri updated: http://id.d4k.dk/dataset/study/ddr/bc/Weight/laterality\n",
            "Node uri updated: http://id.d4k.dk/dataset/study/ddr/bc/Weight/result\n",
            "Node uri updated: http://id.d4k.dk/dataset/study/ddr/bc/Weight/position\n",
            "Node uri updated: http://id.d4k.dk/dataset/study/ddr/bc/Weight/test\n",
            "Node uri updated: http://id.d4k.dk/dataset/study/ddr/bc/Weight/test\n",
            "Node uri updated: http://id.d4k.dk/dataset/study/ddr/bc/Weight/date_time\n",
            "Node uri updated: http://id.d4k.dk/dataset/study/ddr/bc/Weight/result/quantity\n",
            "Node uri updated: http://id.d4k.dk/dataset/study/ddr/bc/Weight/test/coding\n",
            "Node uri updated: http://id.d4k.dk/dataset/study/ddr/bc/Weight/date_time/date_time\n",
            "Node uri updated: http://id.d4k.dk/dataset/study/ddr/bc/Weight/result/quantity/code\n",
            "Node uri updated: http://id.d4k.dk/dataset/study/ddr/bc/Weight/result/quantity/comparator\n",
            "Node uri updated: http://id.d4k.dk/dataset/study/ddr/bc/Weight/result/quantity/value\n",
            "Node uri updated: http://id.d4k.dk/dataset/study/ddr/bc/Weight/result/quantity/unit\n",
            "Node uri updated: http://id.d4k.dk/dataset/study/ddr/bc/Weight/result/quantity/system\n",
            "Node uri updated: None\n",
            "Node uri updated: None\n",
            "Node uri updated: http://id.d4k.dk/dataset/study/ddr/bc/Weight/test/coding/display\n",
            "Node uri updated: http://id.d4k.dk/dataset/study/ddr/bc/Weight/test/coding/user_selected\n",
            "Node uri updated: http://id.d4k.dk/dataset/study/ddr/bc/Weight/test/coding/code\n",
            "Node uri updated: http://id.d4k.dk/dataset/study/ddr/bc/Weight/test/coding/system\n",
            "Node uri updated: http://id.d4k.dk/dataset/study/ddr/bc/Weight/test/coding/version\n",
            "Node uri updated: None\n",
            "Node uri updated: http://id.d4k.dk/dataset/study/ddr/bc/Weight/date_time/date_time/value\n",
            "Canonical reference set: comparator -> http://id.d4k.dk/dataset/canonical/observation/observation_result/result/quantity/comparator\n",
            "Canonical reference set: value -> http://id.d4k.dk/dataset/canonical/observation/observation_result/result/quantity/value\n",
            "Canonical reference set: unit -> http://id.d4k.dk/dataset/canonical/observation/observation_result/result/quantity/unit\n",
            "Canonical reference set: code -> http://id.d4k.dk/dataset/canonical/observation/observation_result/result/quantity/code\n",
            "Canonical reference set: system -> http://id.d4k.dk/dataset/canonical/observation/observation_result/result/quantity/system\n",
            "Canonical reference set: display -> http://id.d4k.dk/dataset/canonical/observation/test/coding/display\n",
            "Canonical reference set: display -> http://id.d4k.dk/dataset/canonical/observation/test/coding/display\n",
            "Canonical reference set: user_selected -> http://id.d4k.dk/dataset/canonical/observation/test/coding/user_selected\n",
            "Canonical reference set: user_selected -> http://id.d4k.dk/dataset/canonical/observation/test/coding/user_selected\n",
            "Canonical reference set: version -> http://id.d4k.dk/dataset/canonical/observation/test/coding/version\n",
            "Canonical reference set: version -> http://id.d4k.dk/dataset/canonical/observation/test/coding/version\n",
            "Canonical reference set: system -> http://id.d4k.dk/dataset/canonical/observation/test/coding/system\n",
            "Canonical reference set: system -> http://id.d4k.dk/dataset/canonical/observation/test/coding/system\n",
            "Canonical reference set: code -> http://id.d4k.dk/dataset/canonical/observation/test/coding/code\n",
            "Canonical reference set: code -> http://id.d4k.dk/dataset/canonical/observation/test/coding/code\n",
            "Canonical reference set: value -> http://id.d4k.dk/dataset/canonical/common/date_time/date_time/value\n",
            "Canonical reference set: display -> http://id.d4k.dk/dataset/canonical/observation/test/coding/display\n",
            "Canonical reference set: display -> http://id.d4k.dk/dataset/canonical/observation/test/coding/display\n",
            "Canonical reference set: user_selected -> http://id.d4k.dk/dataset/canonical/observation/test/coding/user_selected\n",
            "Canonical reference set: user_selected -> http://id.d4k.dk/dataset/canonical/observation/test/coding/user_selected\n",
            "Canonical reference set: version -> http://id.d4k.dk/dataset/canonical/observation/test/coding/version\n",
            "Canonical reference set: version -> http://id.d4k.dk/dataset/canonical/observation/test/coding/version\n",
            "Canonical reference set: system -> http://id.d4k.dk/dataset/canonical/observation/test/coding/system\n",
            "Canonical reference set: system -> http://id.d4k.dk/dataset/canonical/observation/test/coding/system\n",
            "Canonical reference set: code -> http://id.d4k.dk/dataset/canonical/observation/test/coding/code\n",
            "Canonical reference set: code -> http://id.d4k.dk/dataset/canonical/observation/test/coding/code\n"
          ]
        }
      ]
    },
    {
      "cell_type": "markdown",
      "source": [
        "Now load any Code Lists used by the BCs. Check loaded OK.\n",
        "\n",
        "- C66741 - VSTESTCD\n",
        "- C66770 - VSRESU"
      ],
      "metadata": {
        "id": "afn_QfsHBHK1"
      }
    },
    {
      "cell_type": "code",
      "source": [
        "load_cl(\"sdtm\", \"C66741\")\n",
        "load_cl(\"sdtm\", \"C66770\")\n",
        "dump_cl(\"C66741\")\n",
        "dump_cl(\"C66770\")\n"
      ],
      "metadata": {
        "colab": {
          "base_uri": "https://localhost:8080/"
        },
        "id": "X3LEAFoNBBwN",
        "outputId": "25980154-aa84-4707-ec3b-a2c47e8a619a"
      },
      "execution_count": 759,
      "outputs": [
        {
          "output_type": "stream",
          "name": "stdout",
          "text": [
            "2021-12-17: [C66741, VSTESTCD], [C81298, BODLNGTH]\n",
            "2021-12-17: [C66741, VSTESTCD], [C98793, TRSKNF]\n",
            "2021-12-17: [C66741, VSTESTCD], [C163569, WTAPCTL]\n",
            "2021-12-17: [C66741, VSTESTCD], [C172610, DBPAPCTL]\n",
            "2021-12-17: [C66741, VSTESTCD], [C168125, CPLRFLT]\n",
            "2021-12-17: [C66741, VSTESTCD], [C178060, CALFCIR]\n",
            "2021-12-17: [C66741, VSTESTCD], [C174371, TEMPPB]\n",
            "2021-12-17: [C66741, VSTESTCD], [C81255, HDCIRC]\n",
            "2021-12-17: [C66741, VSTESTCD], [C147491, ENRGEXP]\n",
            "2021-12-17: [C66741, VSTESTCD], [C117976, IDEALWT]\n",
            "2021-12-17: [C66741, VSTESTCD], [C98785, SSSKNF]\n",
            "2021-12-17: [C66741, VSTESTCD], [C174376, ULNARL]\n",
            "2021-12-17: [C66741, VSTESTCD], [C174374, FTWTGAPL]\n",
            "2021-12-17: [C66741, VSTESTCD], [C174311, SAO2FIO2]\n",
            "2021-12-17: [C66741, VSTESTCD], [C132482, EWEIGHT]\n",
            "2021-12-17: [C66741, VSTESTCD], [C100947, HIPCIR]\n",
            "2021-12-17: [C66741, VSTESTCD], [C154891, NECKCIR]\n",
            "2021-12-17: [C66741, VSTESTCD], [C49676, PULSE]\n",
            "2021-12-17: [C66741, VSTESTCD], [C156606, CHESTCIR]\n",
            "2021-12-17: [C66741, VSTESTCD], [C181552, WASTHEEL]\n",
            "2021-12-17: [C66741, VSTESTCD], [C25299, DIABP]\n",
            "2021-12-17: [C66741, VSTESTCD], [C25298, SYSBP]\n",
            "2021-12-17: [C66741, VSTESTCD], [C49677, HR]\n",
            "2021-12-17: [C66741, VSTESTCD], [C163570, WTHTPCTL]\n",
            "2021-12-17: [C66741, VSTESTCD], [C172607, SBPHPCTL]\n",
            "2021-12-17: [C66741, VSTESTCD], [C103346, ABSKNF]\n",
            "2021-12-17: [C66741, VSTESTCD], [C41255, INTP]\n",
            "2021-12-17: [C66741, VSTESTCD], [C92716, FTHR]\n",
            "2021-12-17: [C66741, VSTESTCD], [C16358, BMI]\n",
            "2021-12-17: [C66741, VSTESTCD], [C174375, FTMANDL]\n",
            "2021-12-17: [C66741, VSTESTCD], [C100945, PULSEPR]\n",
            "2021-12-17: [C66741, VSTESTCD], [C174370, TEMPCB]\n",
            "2021-12-17: [C66741, VSTESTCD], [C172609, DBPHPCTL]\n",
            "2021-12-17: [C66741, VSTESTCD], [C49679, MAP]\n",
            "2021-12-17: [C66741, VSTESTCD], [C38082, FIO2]\n",
            "2021-12-17: [C66741, VSTESTCD], [C25157, BSA]\n",
            "2021-12-17: [C66741, VSTESTCD], [C122232, BODYFATM]\n",
            "2021-12-17: [C66741, VSTESTCD], [C84372, KNEEHEEL]\n",
            "2021-12-17: [C66741, VSTESTCD], [C100946, FARMCIR]\n",
            "2021-12-17: [C66741, VSTESTCD], [C87054, SAD]\n",
            "2021-12-17: [C66741, VSTESTCD], [C100948, WSTCIR]\n",
            "2021-12-17: [C66741, VSTESTCD], [C124475, MUARMCIR]\n",
            "2021-12-17: [C66741, VSTESTCD], [C25347, HEIGHT]\n",
            "2021-12-17: [C66741, VSTESTCD], [C174233, MANDL]\n",
            "2021-12-17: [C66741, VSTESTCD], [C76325, BRTHWT]\n",
            "2021-12-17: [C66741, VSTESTCD], [C49680, FRMSIZE]\n",
            "2021-12-17: [C66741, VSTESTCD], [C181553, ARMSPAN]\n",
            "2021-12-17: [C66741, VSTESTCD], [C158297, FTHDCIRC]\n",
            "2021-12-17: [C66741, VSTESTCD], [C17651, WAISTHIP]\n",
            "2021-12-17: [C66741, VSTESTCD], [C174446, TEMP]\n",
            "2021-12-17: [C66741, VSTESTCD], [C126083, BMR]\n",
            "2021-12-17: [C66741, VSTESTCD], [C60832, OXYSAT]\n",
            "2021-12-17: [C66741, VSTESTCD], [C174373, FTSAD]\n",
            "2021-12-17: [C66741, VSTESTCD], [C163568, HTAPCTL]\n",
            "2021-12-17: [C66741, VSTESTCD], [C147492, MAXPREHR]\n",
            "2021-12-17: [C66741, VSTESTCD], [C71258, LBM]\n",
            "2021-12-17: [C66741, VSTESTCD], [C172608, SBPAPCTL]\n",
            "2021-12-17: [C66741, VSTESTCD], [C174372, FTEWT]\n",
            "2021-12-17: [C66741, VSTESTCD], [C170639, CRWNHEEL]\n",
            "2021-12-17: [C66741, VSTESTCD], [C25208, WEIGHT]\n",
            "2021-12-17: [C66741, VSTESTCD], [C163567, BMIAPCTL]\n",
            "2021-12-17: [C66741, VSTESTCD], [C104622, TBW]\n",
            "2021-12-17: [C66741, VSTESTCD], [C49678, RESP]\n",
            "2021-12-17: [C66770, VSRESU], [C48155, g]\n",
            "2021-12-17: [C66770, VSRESU], [C42545, Hz]\n",
            "2021-12-17: [C66770, VSRESU], [C48531, LB]\n",
            "2021-12-17: [C66770, VSRESU], [C44256, RATIO]\n",
            "2021-12-17: [C66770, VSRESU], [C139135, kcal/day]\n",
            "2021-12-17: [C66770, VSRESU], [C42547, Pa]\n",
            "2021-12-17: [C66770, VSRESU], [C42537, K]\n",
            "2021-12-17: [C66770, VSRESU], [C49671, kg/m2]\n",
            "2021-12-17: [C66770, VSRESU], [C25613, %]\n",
            "2021-12-17: [C66770, VSRESU], [C49668, cm]\n",
            "2021-12-17: [C66770, VSRESU], [C49674, breaths/min]\n",
            "2021-12-17: [C66770, VSRESU], [C49670, mmHg]\n",
            "2021-12-17: [C66770, VSRESU], [C28251, mm]\n",
            "2021-12-17: [C66770, VSRESU], [C28252, kg]\n",
            "2021-12-17: [C66770, VSRESU], [C48500, in]\n",
            "2021-12-17: [C66770, VSRESU], [C41139, m]\n",
            "2021-12-17: [C66770, VSRESU], [C147129, cmHg]\n",
            "2021-12-17: [C66770, VSRESU], [C49673, beats/min]\n",
            "2021-12-17: [C66770, VSRESU], [C44277, F]\n",
            "2021-12-17: [C66770, VSRESU], [C127805, MET]\n",
            "2021-12-17: [C66770, VSRESU], [C42549, Watt]\n",
            "2021-12-17: [C66770, VSRESU], [C42569, m2]\n",
            "2021-12-17: [C66770, VSRESU], [C42559, C]\n"
          ]
        }
      ]
    },
    {
      "cell_type": "markdown",
      "source": [
        "Now link up to the CT for the library BCs and the Study versions"
      ],
      "metadata": {
        "id": "HbJjJlWRvIst"
      }
    },
    {
      "cell_type": "code",
      "source": [
        "with driver.session() as session:\n",
        "  query = \"\"\"MATCH (n:BC_DATA_TYPE)-[:HAS_RESPONSE]->(d) \n",
        "    WITH n,d\n",
        "    MATCH (cl:SKOS_CONCEPT {identifier: d.cl})-[]->(cli:SKOS_CONCEPT {identifier: d.cli})\n",
        "    MERGE (n)-[:HAS_RESPONSE]->(cli)\n",
        "    DETACH DELETE d\n",
        "    RETURN n.name as name, cli.uri as uri\n",
        "  \"\"\" \n",
        "  result = session.run(query)\n",
        "  for record in result:\n",
        "    print (\"%s -> %s\" % (record[\"name\"], record[\"uri\"]))\n",
        "driver.close()"
      ],
      "metadata": {
        "colab": {
          "base_uri": "https://localhost:8080/"
        },
        "id": "SKmdXytqu964",
        "outputId": "c8638643-5206-4754-d805-125e4e743ea1"
      },
      "execution_count": 760,
      "outputs": [
        {
          "output_type": "stream",
          "name": "stdout",
          "text": [
            "quantity -> http://id.d4k.dk/dataset/cdisc/ct/v48/sdtm/C66770-C48531\n",
            "quantity -> http://id.d4k.dk/dataset/cdisc/ct/v48/sdtm/C66770-C48531\n",
            "quantity -> http://id.d4k.dk/dataset/cdisc/ct/v48/sdtm/C66770-C28252\n",
            "quantity -> http://id.d4k.dk/dataset/cdisc/ct/v48/sdtm/C66770-C28252\n",
            "coding -> http://id.d4k.dk/dataset/cdisc/ct/v48/sdtm/C66741-C25208\n",
            "coding -> http://id.d4k.dk/dataset/cdisc/ct/v48/sdtm/C66741-C25208\n"
          ]
        }
      ]
    },
    {
      "cell_type": "markdown",
      "source": [
        "Now add in some data points. A data point will point at the BC and the visit to which is applies (of the WorkFlow Item). This is the nature of the DDF model. I think we can make it better."
      ],
      "metadata": {
        "id": "2zF0UNGp-IS1"
      }
    },
    {
      "cell_type": "code",
      "source": [
        "with driver.session() as session:\n",
        "  query = \"\"\"MATCH (v:VISIT)<-[]-(w:WORKFLOW_ITEM)-[]->(a:ACTIVITY)-[]->(bc:STUDY_BC_INSTANCE) RETURN v.name as visit, w.id as wfi , a.description as activity, bc.name as bc\"\"\" \n",
        "  result = session.run(query)\n",
        "  for record in result:\n",
        "    print (\"%s -> %s -> %s -> %s\" % (record[\"visit\"], record[\"wfi\"], record[\"activity\"], record[\"bc\"]))\n",
        "driver.close()"
      ],
      "metadata": {
        "colab": {
          "base_uri": "https://localhost:8080/"
        },
        "id": "yWGusP1IAj9y",
        "outputId": "1f2944fd-9f37-46d5-a8b7-cc544f8c4a1d"
      },
      "execution_count": 761,
      "outputs": [
        {
          "output_type": "stream",
          "name": "stdout",
          "text": [
            "FU 1 -> 1490 -> Weight -> Weight\n",
            "CYCLE 1, TREATMENT DAY 1 -> 1488 -> Weight -> Weight\n",
            "CYCLE 2, TREATMENT DAY 1 -> 1489 -> Weight -> Weight\n"
          ]
        }
      ]
    },
    {
      "cell_type": "markdown",
      "source": [
        "Create some simple data. We need the actual data point plus just enough information to attach it to the study graph. So \n",
        "\n",
        "- Create subjects\n",
        "- Create data points and link into the study design and the BC attached to (the Study instance, not the definition of the BC that we copied earlier)"
      ],
      "metadata": {
        "id": "OGtpGMvUTNwa"
      }
    },
    {
      "cell_type": "code",
      "source": [
        "uri_refs = {}\n",
        "uri_refs[\"value\"] = \"http://id.d4k.dk/dataset/study/ddr/bc/Weight/result/quantity/value\"\n",
        "uri_refs[\"unit\"] = \"http://id.d4k.dk/dataset/study/ddr/bc/Weight/result/quantity/unit\"\n",
        "uri_refs[\"date_time\"] = \"http://id.d4k.dk/dataset/study/ddr/bc/Weight/date_time/date_time/value\"\n",
        "\n",
        "subjects = [ \n",
        "  { \"subject_id\": \"1234\"}, \n",
        "  { \"subject_id\": \"1235\" }, \n",
        "  { \"subject_id\": \"1236\" }, \n",
        "  { \"subject_id\": \"1237\" }\n",
        "]\n",
        "subject_data = [\n",
        "  { \"subject_id\": \"1234\", \"visit\": \"CYCLE 1, TREATMENT DAY 1\", \"data_point\": uri_refs[\"value\"], \"value\": \"76\" },\n",
        "  { \"subject_id\": \"1234\", \"visit\": \"CYCLE 1, TREATMENT DAY 1\", \"data_point\": uri_refs[\"unit\"], \"value\": \"kg\" },\n",
        "  { \"subject_id\": \"1234\", \"visit\": \"CYCLE 1, TREATMENT DAY 1\", \"data_point\": uri_refs[\"date_time\"], \"value\": \"2022-03-01T13:57:00\" },\n",
        "  \n",
        "  { \"subject_id\": \"1234\", \"visit\": \"CYCLE 2, TREATMENT DAY 1\", \"data_point\": uri_refs[\"value\"], \"value\": \"78\" },\n",
        "  { \"subject_id\": \"1234\", \"visit\": \"CYCLE 2, TREATMENT DAY 1\", \"data_point\": uri_refs[\"unit\"], \"value\": \"kg\" },\n",
        "  { \"subject_id\": \"1234\", \"visit\": \"CYCLE 2, TREATMENT DAY 1\", \"data_point\": uri_refs[\"date_time\"], \"value\": \"2022-03-10T13:57:00\" },\n",
        "  \n",
        "  { \"subject_id\": \"1234\", \"visit\": \"FU 1\", \"data_point\": uri_refs[\"value\"], \"value\": \"77\" },\n",
        "  { \"subject_id\": \"1234\", \"visit\": \"FU 1\", \"data_point\": uri_refs[\"unit\"], \"value\": \"kg\" },\n",
        "  { \"subject_id\": \"1234\", \"visit\": \"FU 1\", \"data_point\": uri_refs[\"date_time\"], \"value\": \"2022-03-19T13:57:00\" },\n",
        "  \n",
        "  { \"subject_id\": \"1235\", \"visit\": \"CYCLE 1, TREATMENT DAY 1\", \"data_point\": uri_refs[\"value\"], \"value\": \"42\" },\n",
        "  { \"subject_id\": \"1235\", \"visit\": \"CYCLE 1, TREATMENT DAY 1\", \"data_point\": uri_refs[\"unit\"], \"value\": \"kg\" },\n",
        "  { \"subject_id\": \"1235\", \"visit\": \"CYCLE 1, TREATMENT DAY 1\", \"data_point\": uri_refs[\"date_time\"], \"value\": \"2022-03-03T13:57:00\" },\n",
        "  \n",
        "  { \"subject_id\": \"1235\", \"visit\": \"CYCLE 2, TREATMENT DAY 1\", \"data_point\": uri_refs[\"value\"], \"value\": \"44\" },\n",
        "  { \"subject_id\": \"1235\", \"visit\": \"CYCLE 2, TREATMENT DAY 1\", \"data_point\": uri_refs[\"unit\"], \"value\": \"kg\" },\n",
        "  { \"subject_id\": \"1235\", \"visit\": \"CYCLE 2, TREATMENT DAY 1\", \"data_point\": uri_refs[\"date_time\"], \"value\": \"2022-03-13T13:57:00\" },\n",
        "  \n",
        "  { \"subject_id\": \"1235\", \"visit\": \"FU 1\", \"data_point\": uri_refs[\"value\"], \"value\": \"43\" },\n",
        "  { \"subject_id\": \"1235\", \"visit\": \"FU 1\", \"data_point\": uri_refs[\"unit\"], \"value\": \"kg\" },\n",
        "  { \"subject_id\": \"1235\", \"visit\": \"FU 1\", \"data_point\": uri_refs[\"date_time\"], \"value\": \"2022-03-22T13:57:00\" },\n",
        "]\n",
        "\n",
        "print(subject_data)"
      ],
      "metadata": {
        "colab": {
          "base_uri": "https://localhost:8080/"
        },
        "id": "rCiifSaj-Cs_",
        "outputId": "220a360b-993a-40a8-ac6d-59f523592f0c"
      },
      "execution_count": 762,
      "outputs": [
        {
          "output_type": "stream",
          "name": "stdout",
          "text": [
            "[{'subject_id': '1234', 'visit': 'CYCLE 1, TREATMENT DAY 1', 'data_point': 'http://id.d4k.dk/dataset/study/ddr/bc/Weight/result/quantity/value', 'value': '76'}, {'subject_id': '1234', 'visit': 'CYCLE 1, TREATMENT DAY 1', 'data_point': 'http://id.d4k.dk/dataset/study/ddr/bc/Weight/result/quantity/unit', 'value': 'kg'}, {'subject_id': '1234', 'visit': 'CYCLE 1, TREATMENT DAY 1', 'data_point': 'http://id.d4k.dk/dataset/study/ddr/bc/Weight/date_time/date_time/value', 'value': '2022-03-01T13:57:00'}, {'subject_id': '1234', 'visit': 'CYCLE 2, TREATMENT DAY 1', 'data_point': 'http://id.d4k.dk/dataset/study/ddr/bc/Weight/result/quantity/value', 'value': '78'}, {'subject_id': '1234', 'visit': 'CYCLE 2, TREATMENT DAY 1', 'data_point': 'http://id.d4k.dk/dataset/study/ddr/bc/Weight/result/quantity/unit', 'value': 'kg'}, {'subject_id': '1234', 'visit': 'CYCLE 2, TREATMENT DAY 1', 'data_point': 'http://id.d4k.dk/dataset/study/ddr/bc/Weight/date_time/date_time/value', 'value': '2022-03-10T13:57:00'}, {'subject_id': '1234', 'visit': 'FU 1', 'data_point': 'http://id.d4k.dk/dataset/study/ddr/bc/Weight/result/quantity/value', 'value': '77'}, {'subject_id': '1234', 'visit': 'FU 1', 'data_point': 'http://id.d4k.dk/dataset/study/ddr/bc/Weight/result/quantity/unit', 'value': 'kg'}, {'subject_id': '1234', 'visit': 'FU 1', 'data_point': 'http://id.d4k.dk/dataset/study/ddr/bc/Weight/date_time/date_time/value', 'value': '2022-03-19T13:57:00'}, {'subject_id': '1235', 'visit': 'CYCLE 1, TREATMENT DAY 1', 'data_point': 'http://id.d4k.dk/dataset/study/ddr/bc/Weight/result/quantity/value', 'value': '42'}, {'subject_id': '1235', 'visit': 'CYCLE 1, TREATMENT DAY 1', 'data_point': 'http://id.d4k.dk/dataset/study/ddr/bc/Weight/result/quantity/unit', 'value': 'kg'}, {'subject_id': '1235', 'visit': 'CYCLE 1, TREATMENT DAY 1', 'data_point': 'http://id.d4k.dk/dataset/study/ddr/bc/Weight/date_time/date_time/value', 'value': '2022-03-03T13:57:00'}, {'subject_id': '1235', 'visit': 'CYCLE 2, TREATMENT DAY 1', 'data_point': 'http://id.d4k.dk/dataset/study/ddr/bc/Weight/result/quantity/value', 'value': '44'}, {'subject_id': '1235', 'visit': 'CYCLE 2, TREATMENT DAY 1', 'data_point': 'http://id.d4k.dk/dataset/study/ddr/bc/Weight/result/quantity/unit', 'value': 'kg'}, {'subject_id': '1235', 'visit': 'CYCLE 2, TREATMENT DAY 1', 'data_point': 'http://id.d4k.dk/dataset/study/ddr/bc/Weight/date_time/date_time/value', 'value': '2022-03-13T13:57:00'}, {'subject_id': '1235', 'visit': 'FU 1', 'data_point': 'http://id.d4k.dk/dataset/study/ddr/bc/Weight/result/quantity/value', 'value': '43'}, {'subject_id': '1235', 'visit': 'FU 1', 'data_point': 'http://id.d4k.dk/dataset/study/ddr/bc/Weight/result/quantity/unit', 'value': 'kg'}, {'subject_id': '1235', 'visit': 'FU 1', 'data_point': 'http://id.d4k.dk/dataset/study/ddr/bc/Weight/date_time/date_time/value', 'value': '2022-03-22T13:57:00'}]\n"
          ]
        }
      ]
    },
    {
      "cell_type": "markdown",
      "source": [
        "Create the subjects."
      ],
      "metadata": {
        "id": "-gz6-GXnWXdj"
      }
    },
    {
      "cell_type": "code",
      "source": [
        "with driver.session() as session:\n",
        "  for subject in subjects:\n",
        "    query = \"\"\"MATCH (p:STUDY_PROTOCOL {brief_title:'DDR'})<-[]-(s:STUDY)\n",
        "      WITH s\n",
        "      CREATE (s)<-[:ENROLLED_IN]-(ss:STUDY_SUBJECT)\n",
        "      SET ss.identifier = '%s'\n",
        "    \"\"\" % (subject[\"subject_id\"]) \n",
        "    result = session.run(query)\n",
        "  query = \"\"\"MATCH (s:STUDY_SUBJECT) RETURN s.identifier as subject\"\"\"\n",
        "  result = session.run(query)\n",
        "  for record in result:\n",
        "    print (\"Subject %s created\" % (record[\"subject\"]))\n",
        "driver.close()"
      ],
      "metadata": {
        "colab": {
          "base_uri": "https://localhost:8080/"
        },
        "id": "qXHRMNAkTZce",
        "outputId": "18c61857-dbcd-470b-cd1d-45dc8fa70702"
      },
      "execution_count": 763,
      "outputs": [
        {
          "output_type": "stream",
          "name": "stdout",
          "text": [
            "Subject 1234 created\n",
            "Subject 1235 created\n",
            "Subject 1236 created\n",
            "Subject 1237 created\n"
          ]
        }
      ]
    },
    {
      "cell_type": "markdown",
      "source": [
        "Now add in the data"
      ],
      "metadata": {
        "id": "MHE4C6dUWaU2"
      }
    },
    {
      "cell_type": "code",
      "source": [
        "with driver.session() as session:\n",
        "  for item in subject_data:\n",
        "    query = \"\"\"MATCH (s:STUDY_SUBJECT {identifier: '%s'})\n",
        "      WITH s\n",
        "      MATCH (v:VISIT {name: '%s'})<-[]-(wi:WORKFLOW_ITEM)-[:HAS_ACTIVITY]->(a)-[:HAS_BC]->(bc)-[:HAS_ITEM]->\n",
        "        (i)-[:HAS_DATA_TYPE]->(dt)-[:HAS_DATA_TYPE_PROPERTY]->(d:BC_DATA_TYPE_PROPERTY {uri: '%s'})\n",
        "      WITH s, wi, d\n",
        "      CREATE (s)<-[:FOR_SUBJECT]-(sdp:STUDY_DATA_POINT)-[:FOR_WORKFLOW_ITEM]->(wi)\n",
        "      WITH sdp, d\n",
        "      CREATE (sdp)-[:FOR_VALUE]->(d)\n",
        "      SET sdp.value = '%s'\n",
        "      SET sdp.uuid = apoc.create.uuid()\n",
        "    \"\"\" % (item[\"subject_id\"], item[\"visit\"], item[\"data_point\"], item[\"value\"])\n",
        "    result = session.run(query)\n",
        "  query = \"\"\"MATCH (s:STUDY_DATA_POINT) RETURN DISTINCT s.value as value, s.uuid as uuid\"\"\"\n",
        "  result = session.run(query)\n",
        "  for record in result:\n",
        "    print (\"Value %s, %s created\" % (record[\"value\"], record[\"uuid\"]))\n",
        "driver.close()"
      ],
      "metadata": {
        "colab": {
          "base_uri": "https://localhost:8080/"
        },
        "id": "vuxeda8PWeFP",
        "outputId": "82bd9bfa-f96e-4609-9979-19b2c396680e"
      },
      "execution_count": 764,
      "outputs": [
        {
          "output_type": "stream",
          "name": "stdout",
          "text": [
            "Value 76, a799847e-62a9-43ac-93a9-aeb3c41b71b4 created\n",
            "Value kg, 0dc34279-56bc-44e6-896f-7a0156f0fc69 created\n",
            "Value 2022-03-01T13:57:00, c03f385b-20ec-44c0-9488-81141a464d59 created\n",
            "Value 78, 01bf974d-d420-4623-8e66-955f45cc7a23 created\n",
            "Value kg, 03befc73-b97b-43b8-939f-a2ecd688ea5c created\n",
            "Value 2022-03-10T13:57:00, e38e3de4-dbeb-4b67-b9d1-ad07bee1f67e created\n",
            "Value 77, 65059f85-bf29-476f-a46d-8d06f134e781 created\n",
            "Value kg, b81fa913-e5b9-4240-8f2c-32f4034f3c52 created\n",
            "Value 2022-03-19T13:57:00, d16f6335-48d9-4652-9538-004b42e1738a created\n",
            "Value 42, 33f665ab-6f96-4ae2-a498-5412ab5003a4 created\n",
            "Value kg, d485b50a-c803-428a-af7b-cac252300174 created\n",
            "Value 2022-03-03T13:57:00, 5231c023-5443-4d58-8e7f-8e730f78584a created\n",
            "Value 44, 541e5f4b-0b5b-4e8b-9eb0-b687425a3fee created\n",
            "Value kg, 6393dc6e-7034-4224-8bb6-07d4f5747804 created\n",
            "Value 2022-03-13T13:57:00, ff44ce37-c2f9-4bb6-b590-501d2621948a created\n",
            "Value 43, 69ad39c3-a4d9-4402-a33a-e03dba74d246 created\n",
            "Value kg, 4c48906e-2c88-428b-b064-0934d5a98cbf created\n",
            "Value 2022-03-22T13:57:00, 9f72a696-0bf4-4fb6-95ed-ae43ed15b266 created\n"
          ]
        }
      ]
    },
    {
      "cell_type": "markdown",
      "source": [
        "So having linked the very basic data we have all the pieces in place. We can now start getting data out, simple at the moment but ...\n",
        "\n",
        "Query the VS domain"
      ],
      "metadata": {
        "id": "2SnRZjSE7gD5"
      }
    },
    {
      "cell_type": "code",
      "source": [
        "with driver.session() as session:\n",
        "  query = \"\"\"MATCH (sd:SDTM_DATASET {name: 'VS'})-[]->(sv:SDTM_VARIABLE)-[]->(cv:SDTM_MODEL_VARIABLE)-[:IS_CANONICAL_REF]->(fdt:CANONICAL_DATA_TYPE_PROPERTY)\n",
        "  <-[:IS_CANONICAL_REF]-(bdt:BC_DATA_TYPE_PROPERTY)<-[:FOR_VALUE]-(sdp:STUDY_DATA_POINT)-[]->(wfi:WORKFLOW_ITEM), \n",
        "  (wfi)-[:USED_IN_VISIT]->(v:VISIT), \n",
        "  (sdp)-[:FOR_SUBJECT]->(subj:STUDY_SUBJECT),\n",
        "  (e:EPOCH)-[]->(v),\n",
        "  (ct)<-[:HAS_RESPONSE]-()<-[:HAS_DATA_TYPE]-()<-[:HAS_IDENTIFIER]-(bc:STUDY_BC_INSTANCE)-[*]->(bdt)\n",
        "RETURN sd.name as domain, sv.name as variable, sdp.value as data, wfi.id as uuid, v.name as visit, e.study_epoch_name as epoch, subj.identifier as subject, ct.notation as test_code\n",
        "  \"\"\"\n",
        "  result = session.run(query)\n",
        "  for record in result:\n",
        "    print (\"%s, %s, %s, %s, %s, %s, [%s -> %s]\" % (record[\"domain\"], record[\"variable\"], record[\"test_code\"], record[\"subject\"], record[\"uuid\"], record[\"data\"], record[\"visit\"], record[\"epoch\"]))\n",
        "driver.close()"
      ],
      "metadata": {
        "colab": {
          "base_uri": "https://localhost:8080/"
        },
        "id": "o4Ox-rCR7gRa",
        "outputId": "fb49f63d-bb79-42f4-d9ea-3fd38be216b3"
      },
      "execution_count": 765,
      "outputs": [
        {
          "output_type": "stream",
          "name": "stdout",
          "text": [
            "VS, VSORRES, WEIGHT, 1235, 1490, 43, [FU 1 -> FOLLOW-UP]\n",
            "VS, VSORRES, WEIGHT, 1235, 1489, 44, [CYCLE 2, TREATMENT DAY 1 -> TREATMENT]\n",
            "VS, VSORRES, WEIGHT, 1235, 1488, 42, [CYCLE 1, TREATMENT DAY 1 -> TREATMENT]\n",
            "VS, VSORRES, WEIGHT, 1234, 1490, 77, [FU 1 -> FOLLOW-UP]\n",
            "VS, VSORRES, WEIGHT, 1234, 1489, 78, [CYCLE 2, TREATMENT DAY 1 -> TREATMENT]\n",
            "VS, VSORRES, WEIGHT, 1234, 1488, 76, [CYCLE 1, TREATMENT DAY 1 -> TREATMENT]\n",
            "VS, VSORRESU, WEIGHT, 1235, 1490, kg, [FU 1 -> FOLLOW-UP]\n",
            "VS, VSORRESU, WEIGHT, 1235, 1489, kg, [CYCLE 2, TREATMENT DAY 1 -> TREATMENT]\n",
            "VS, VSORRESU, WEIGHT, 1235, 1488, kg, [CYCLE 1, TREATMENT DAY 1 -> TREATMENT]\n",
            "VS, VSORRESU, WEIGHT, 1234, 1490, kg, [FU 1 -> FOLLOW-UP]\n",
            "VS, VSORRESU, WEIGHT, 1234, 1489, kg, [CYCLE 2, TREATMENT DAY 1 -> TREATMENT]\n",
            "VS, VSORRESU, WEIGHT, 1234, 1488, kg, [CYCLE 1, TREATMENT DAY 1 -> TREATMENT]\n",
            "VS, VSDTC, WEIGHT, 1235, 1490, 2022-03-22T13:57:00, [FU 1 -> FOLLOW-UP]\n",
            "VS, VSDTC, WEIGHT, 1235, 1489, 2022-03-13T13:57:00, [CYCLE 2, TREATMENT DAY 1 -> TREATMENT]\n",
            "VS, VSDTC, WEIGHT, 1235, 1488, 2022-03-03T13:57:00, [CYCLE 1, TREATMENT DAY 1 -> TREATMENT]\n",
            "VS, VSDTC, WEIGHT, 1234, 1490, 2022-03-19T13:57:00, [FU 1 -> FOLLOW-UP]\n",
            "VS, VSDTC, WEIGHT, 1234, 1489, 2022-03-10T13:57:00, [CYCLE 2, TREATMENT DAY 1 -> TREATMENT]\n",
            "VS, VSDTC, WEIGHT, 1234, 1488, 2022-03-01T13:57:00, [CYCLE 1, TREATMENT DAY 1 -> TREATMENT]\n"
          ]
        }
      ]
    },
    {
      "cell_type": "markdown",
      "source": [
        "So, next ...\n",
        "- Expand, adding more BCs, data etc\n",
        "- Generate a CRF for the study\n",
        "- Generate an aCRF\n",
        "- Generate a define.xml\n",
        "- Expand, adding more BCs, data etc"
      ],
      "metadata": {
        "id": "BrEdmj0e9FL8"
      }
    }
  ],
  "metadata": {
    "colab": {
      "collapsed_sections": [],
      "name": "Biomedical_Concepts.ipynb",
      "provenance": []
    },
    "kernelspec": {
      "display_name": "Python 3",
      "name": "python3"
    },
    "language_info": {
      "name": "python"
    }
  },
  "nbformat": 4,
  "nbformat_minor": 0
}