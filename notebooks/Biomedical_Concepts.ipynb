{
  "cells": [
    {
      "cell_type": "markdown",
      "metadata": {
        "id": "FPlw5A04o23L"
      },
      "source": [
        "Install dependencies"
      ]
    },
    {
      "cell_type": "code",
      "execution_count": 2,
      "metadata": {
        "colab": {
          "base_uri": "https://localhost:8080/"
        },
        "id": "nsmOe6weo0Cl",
        "outputId": "8c6bdc4e-200f-4be1-877e-de13b628dbdd"
      },
      "outputs": [
        {
          "output_type": "stream",
          "name": "stdout",
          "text": [
            "Collecting neo4j\n",
            "  Downloading neo4j-4.4.1.tar.gz (89 kB)\n",
            "\u001b[?25l\r\u001b[K     |███▊                            | 10 kB 22.9 MB/s eta 0:00:01\r\u001b[K     |███████▍                        | 20 kB 24.0 MB/s eta 0:00:01\r\u001b[K     |███████████                     | 30 kB 28.6 MB/s eta 0:00:01\r\u001b[K     |██████████████▊                 | 40 kB 23.1 MB/s eta 0:00:01\r\u001b[K     |██████████████████▍             | 51 kB 17.4 MB/s eta 0:00:01\r\u001b[K     |██████████████████████          | 61 kB 19.7 MB/s eta 0:00:01\r\u001b[K     |█████████████████████████▊      | 71 kB 21.4 MB/s eta 0:00:01\r\u001b[K     |█████████████████████████████▍  | 81 kB 23.1 MB/s eta 0:00:01\r\u001b[K     |████████████████████████████████| 89 kB 6.8 MB/s \n",
            "\u001b[?25hRequirement already satisfied: pytz in /usr/local/lib/python3.7/dist-packages (from neo4j) (2018.9)\n",
            "Building wheels for collected packages: neo4j\n",
            "  Building wheel for neo4j (setup.py) ... \u001b[?25l\u001b[?25hdone\n",
            "  Created wheel for neo4j: filename=neo4j-4.4.1-py3-none-any.whl size=114783 sha256=78e61276ddf5c22f890581b6524a4f94a60514c715636bb67335c1e1bae66784\n",
            "  Stored in directory: /root/.cache/pip/wheels/fd/15/02/8379f87426cd1b74fd5891f49df9fb978423feb97650cd639b\n",
            "Successfully built neo4j\n",
            "Installing collected packages: neo4j\n",
            "Successfully installed neo4j-4.4.1\n",
            "Requirement already satisfied: requests in /usr/local/lib/python3.7/dist-packages (2.23.0)\n",
            "Requirement already satisfied: chardet<4,>=3.0.2 in /usr/local/lib/python3.7/dist-packages (from requests) (3.0.4)\n",
            "Requirement already satisfied: certifi>=2017.4.17 in /usr/local/lib/python3.7/dist-packages (from requests) (2021.10.8)\n",
            "Requirement already satisfied: idna<3,>=2.5 in /usr/local/lib/python3.7/dist-packages (from requests) (2.10)\n",
            "Requirement already satisfied: urllib3!=1.25.0,!=1.25.1,<1.26,>=1.21.1 in /usr/local/lib/python3.7/dist-packages (from requests) (1.24.3)\n"
          ]
        }
      ],
      "source": [
        "!pip install neo4j\n",
        "!pip install requests"
      ]
    },
    {
      "cell_type": "markdown",
      "metadata": {
        "id": "hCjYsNHTmpXP"
      },
      "source": [
        "First create the FHIR data types. Need this before anything else.\n"
      ]
    },
    {
      "cell_type": "code",
      "execution_count": 36,
      "metadata": {
        "colab": {
          "base_uri": "https://localhost:8080/"
        },
        "id": "fqbZcwbLnKkt",
        "outputId": "59abcaee-875c-4628-e98a-455e6b8f4efe"
      },
      "outputs": [
        {
          "output_type": "stream",
          "name": "stdout",
          "text": [
            "Ready ...\n"
          ]
        }
      ],
      "source": [
        "from neo4j import GraphDatabase\n",
        "import requests\n",
        "import json\n",
        "import urllib.request\n",
        "\n",
        "driver = GraphDatabase.driver(\"neo4j://3.83.17.192:7687\", auth=(\"neo4j\", \"troubleshooters-decreases-helicopters\"))\n",
        "load_file_dir = \"https://raw.githubusercontent.com/data4knowledge/biomedical_concepts/main/data/\"\n",
        "\n",
        "def clear(tx):\n",
        "    tx.run(\"CALL apoc.periodic.iterate('MATCH (n) RETURN n', 'DETACH DELETE n', {batchSize:1000})\")\n",
        "\n",
        "def file_load(load_files):\n",
        "  with driver.session() as session:\n",
        "    nodes = []\n",
        "    relationships = []\n",
        "    for file_item in load_files:\n",
        "      filename = \"%s%s\" % (load_file_dir, file_item[\"filename\"])#\n",
        "      if \"label\" in file_item:\n",
        "        nodes.append(\"{ fileName: '%s', labels: ['%s'] }\" % (filename, file_item[\"label\"]) )\n",
        "      else:\n",
        "        relationships.append(\"{ fileName: '%s', type: '%s' }\" % (filename, file_item[\"type\"]) )\n",
        "    query = \"\"\"CALL apoc.import.csv( [%s], [%s], {stringIds: false})\"\"\" % (\", \".join(nodes), \", \".join(relationships))\n",
        "    print(query)\n",
        "    result = session.run(query)\n",
        "    print(result)\n",
        "    for record in result:\n",
        "      print(record)\n",
        "  driver.close()\n",
        "\n",
        "with driver.session() as session:\n",
        "    session.write_transaction(clear)\n",
        "driver.close()\n",
        "\n",
        "print(\"Ready ...\")\n"
      ]
    },
    {
      "cell_type": "code",
      "source": [
        "stage_1_files = [ \n",
        "    { \"label\": \"FHIR\", \"filename\": \"stage_1_fhir_nodes.csv\" },\n",
        "    { \"label\": \"WEB_SOURCE\", \"filename\": \"stage_1_web_source_nodes.csv\" },\n",
        "    { \"label\": \"FHIR_DATA_TYPE\", \"filename\": \"stage_1_fhir_data_type_nodes.csv\" },\n",
        "    { \"label\": \"FHIR_DATA_TYPE_PROPERTY\", \"filename\": \"stage_1_fhir_data_type_property_nodes.csv\" },\n",
        "    { \"type\": \"HAS_DATA_TYPE_PROPERTY\", \"filename\": \"stage_1_has_data_type_property_relationships.csv\" },\n",
        "    { \"type\": \"FROM_SOURCE\", \"filename\": \"stage_1_from_source_relationships.csv\" },\n",
        "    { \"type\": \"HAS_DATA_TYPE\", \"filename\": \"stage_1_has_data_type_relationships.csv\" }\n",
        "  ]\n",
        "\n",
        "file_load(stage_1_files)"
      ],
      "metadata": {
        "colab": {
          "base_uri": "https://localhost:8080/"
        },
        "id": "p4ulFrLPkpJl",
        "outputId": "8c6234e3-98e5-41b6-d8c9-d7bfc4da3478"
      },
      "execution_count": 37,
      "outputs": [
        {
          "output_type": "stream",
          "name": "stdout",
          "text": [
            "CALL apoc.import.csv( [{ fileName: 'https://raw.githubusercontent.com/data4knowledge/biomedical_concepts/main/data/stage_1_fhir_nodes.csv', labels: ['FHIR'] }, { fileName: 'https://raw.githubusercontent.com/data4knowledge/biomedical_concepts/main/data/stage_1_web_source_nodes.csv', labels: ['WEB_SOURCE'] }, { fileName: 'https://raw.githubusercontent.com/data4knowledge/biomedical_concepts/main/data/stage_1_fhir_data_type_nodes.csv', labels: ['FHIR_DATA_TYPE'] }, { fileName: 'https://raw.githubusercontent.com/data4knowledge/biomedical_concepts/main/data/stage_1_fhir_data_type_property_nodes.csv', labels: ['FHIR_DATA_TYPE_PROPERTY'] }], [{ fileName: 'https://raw.githubusercontent.com/data4knowledge/biomedical_concepts/main/data/stage_1_has_data_type_property_relationships.csv', type: 'HAS_DATA_TYPE_PROPERTY' }, { fileName: 'https://raw.githubusercontent.com/data4knowledge/biomedical_concepts/main/data/stage_1_from_source_relationships.csv', type: 'FROM_SOURCE' }, { fileName: 'https://raw.githubusercontent.com/data4knowledge/biomedical_concepts/main/data/stage_1_has_data_type_relationships.csv', type: 'HAS_DATA_TYPE' }], {stringIds: false})\n",
            "<neo4j.work.result.Result object at 0x7f2158ed1f90>\n",
            "<Record file='progress.csv' source='file' format='csv' nodes=14 relationships=13 properties=53 time=505 rows=0 batchSize=-1 batches=0 done=True data=None>\n"
          ]
        }
      ]
    },
    {
      "cell_type": "markdown",
      "metadata": {
        "id": "y2X4GzLForm7"
      },
      "source": [
        "Now check we have loaded ok. Check the FHIR version, should be 4.0.1"
      ]
    },
    {
      "cell_type": "code",
      "execution_count": 38,
      "metadata": {
        "colab": {
          "base_uri": "https://localhost:8080/"
        },
        "id": "QNsq3ykEnysr",
        "outputId": "ae3afc56-754e-440e-f170-a4bdaf3a1141"
      },
      "outputs": [
        {
          "output_type": "stream",
          "name": "stdout",
          "text": [
            "Version:  4.0.1\n"
          ]
        }
      ],
      "source": [
        "with driver.session() as session:\n",
        "  query = \"\"\"MATCH (n:FHIR) Return n.version as version\"\"\" \n",
        "  result = session.run(query)\n",
        "  for record in result:\n",
        "    print(\"Version: \", record[\"version\"])\n",
        "\n",
        "driver.close()"
      ]
    },
    {
      "cell_type": "code",
      "execution_count": 39,
      "metadata": {
        "colab": {
          "base_uri": "https://localhost:8080/"
        },
        "id": "hklRXVFUKGNK",
        "outputId": "7f263c83-cd46-4387-cff1-7364ea6675bc"
      },
      "outputs": [
        {
          "output_type": "stream",
          "name": "stdout",
          "text": [
            "CALL apoc.import.csv( [{ fileName: 'https://raw.githubusercontent.com/data4knowledge/biomedical_concepts/main/data/stage_2_canonical_model_nodes.csv', labels: ['CANONICAL_MODEL'] }, { fileName: 'https://raw.githubusercontent.com/data4knowledge/biomedical_concepts/main/data/stage_2_canonical_node_nodes.csv', labels: ['CANONICAL_NODE'] }, { fileName: 'https://raw.githubusercontent.com/data4knowledge/biomedical_concepts/main/data/stage_2_canonical_data_type_nodes.csv', labels: ['CANONICAL_DATA_TYPE'] }, { fileName: 'https://raw.githubusercontent.com/data4knowledge/biomedical_concepts/main/data/stage_2_other_source_nodes.csv', labels: ['OTHER_SOURCE'] }], [{ fileName: 'https://raw.githubusercontent.com/data4knowledge/biomedical_concepts/main/data/stage_2_consists_of_relationships.csv', type: 'CONSISTS_OF' }, { fileName: 'https://raw.githubusercontent.com/data4knowledge/biomedical_concepts/main/data/stage_2_from_source_relationships.csv', type: 'FROM_SOURCE' }, { fileName: 'https://raw.githubusercontent.com/data4knowledge/biomedical_concepts/main/data/stage_2_has_sub_model_relationships.csv', type: 'HAS_SUB_MODEL' }, { fileName: 'https://raw.githubusercontent.com/data4knowledge/biomedical_concepts/main/data/stage_2_has_data_type_relationships.csv', type: 'HAS_DATA_TYPE' }], {stringIds: false})\n",
            "<neo4j.work.result.Result object at 0x7f2158e6d410>\n",
            "<Record file='progress.csv' source='file' format='csv' nodes=85 relationships=92 properties=255 time=728 rows=0 batchSize=-1 batches=0 done=True data=None>\n"
          ]
        }
      ],
      "source": [
        "stage_2_files = [ \n",
        "    { \"label\": \"CANONICAL_MODEL\", \"filename\": \"stage_2_canonical_model_nodes.csv\" },\n",
        "    { \"label\": \"CANONICAL_NODE\", \"filename\": \"stage_2_canonical_node_nodes.csv\" },\n",
        "    { \"label\": \"CANONICAL_DATA_TYPE\", \"filename\": \"stage_2_canonical_data_type_nodes.csv\" },\n",
        "    { \"label\": \"OTHER_SOURCE\", \"filename\": \"stage_2_other_source_nodes.csv\" },\n",
        "    { \"type\": \"CONSISTS_OF\", \"filename\": \"stage_2_consists_of_relationships.csv\" },\n",
        "    { \"type\": \"FROM_SOURCE\", \"filename\": \"stage_2_from_source_relationships.csv\" },\n",
        "    { \"type\": \"HAS_SUB_MODEL\", \"filename\": \"stage_2_has_sub_model_relationships.csv\" },\n",
        "    { \"type\": \"HAS_DATA_TYPE\", \"filename\": \"stage_2_has_data_type_relationships.csv\" }\n",
        "]\n",
        "\n",
        "file_load(stage_2_files)"
      ]
    },
    {
      "cell_type": "markdown",
      "metadata": {
        "id": "592LExsq_Su0"
      },
      "source": [
        "Check a few relationships exist in the canonical model. Should get three results.\n",
        "\n",
        "* THERAPEUTIC INTERVENTION\n",
        "* OBSERVATION\n",
        "* ADVERSE EVENT\n",
        "\n"
      ]
    },
    {
      "cell_type": "code",
      "execution_count": 40,
      "metadata": {
        "colab": {
          "base_uri": "https://localhost:8080/"
        },
        "id": "Xn5dPGqB_Xj6",
        "outputId": "f3e12172-cf54-4d95-ee9e-30a5c757c4aa"
      },
      "outputs": [
        {
          "output_type": "stream",
          "name": "stdout",
          "text": [
            "CANONICAL MODEL -> ADVERSE EVENT -> Location: \n",
            "CANONICAL MODEL -> THERAPEUTIC INTERVENTION -> Location: \n",
            "CANONICAL MODEL -> OBSERVATION -> Location: \n"
          ]
        }
      ],
      "source": [
        "with driver.session() as session:\n",
        "  query = \"\"\"MATCH (r)-[]->(t)-[]->(n:CANONICAL_NODE) WHERE n.name=\"LOCATION\" RETURN r.name as root_name, t.name as name\"\"\" \n",
        "  result = session.run(query)\n",
        "  for record in result:\n",
        "    print(\"%s -> %s -> Location: \" % (record[\"root_name\"], record[\"name\"]))\n",
        "\n",
        "driver.close()"
      ]
    },
    {
      "cell_type": "markdown",
      "source": [
        "Now link the canonical nodes and the data types using the name as the key."
      ],
      "metadata": {
        "id": "7jVCaoeWtLjw"
      }
    },
    {
      "cell_type": "code",
      "source": [
        "with driver.session() as session:\n",
        "  query = \"\"\"MATCH (n:CANONICAL_NODE)-[]->(m:CANONICAL_DATA_TYPE) RETURN m.uri as uri\"\"\" \n",
        "  result = session.run(query)\n",
        "  for record in result:\n",
        "    print(record[\"uri\"])\n",
        "    query = \"\"\"MATCH (n:CANONICAL_DATA_TYPE{uri:'%s'})\n",
        "      WITH n\n",
        "      MATCH (dt:FHIR_DATA_TYPE{name: n.data_type})\n",
        "      CREATE (n)-[:IS_A]->(dt)\n",
        "      RETURN n.data_type as cn_name, dt.name as dt_name;\n",
        "    \"\"\" % (record[\"uri\"])\n",
        "    inner_result = session.run(query)\n",
        "    for inner_record in inner_result:\n",
        "      print(\"%s, %s linked\" % (inner_record[\"cn_name\"], inner_record[\"dt_name\"]))\n",
        "\n",
        "driver.close()"
      ],
      "metadata": {
        "colab": {
          "base_uri": "https://localhost:8080/"
        },
        "id": "3X3RfadUrvAP",
        "outputId": "c89abc37-cdf0-4bc8-cbae-02e47583aaea"
      },
      "execution_count": 41,
      "outputs": [
        {
          "output_type": "stream",
          "name": "stdout",
          "text": [
            "http://id.d4k.dk/dataset/canonical/n8/coding\n",
            "coding, coding linked\n",
            "http://id.d4k.dk/dataset/canonical/n9/coding\n",
            "coding, coding linked\n",
            "http://id.d4k.dk/dataset/canonical/n18/coding\n",
            "coding, coding linked\n"
          ]
        }
      ]
    },
    {
      "cell_type": "markdown",
      "metadata": {
        "id": "x1ws1F7zpwdN"
      },
      "source": [
        "Now create the data type nodes for the canonical mode. For each canonical node that references a data type copy the properties for that data type to the canonical node. Give each canonical leaf a unique id. These nodes should also have a C code reference providig a definition for the data item.\n"
      ]
    },
    {
      "cell_type": "code",
      "execution_count": 42,
      "metadata": {
        "colab": {
          "base_uri": "https://localhost:8080/"
        },
        "id": "-EBgVQrPqDIe",
        "outputId": "ca280975-bd90-45ba-dad4-d6a0a589722f"
      },
      "outputs": [
        {
          "output_type": "stream",
          "name": "stdout",
          "text": [
            "Duplicated for:  http://id.d4k.dk/dataset/canonical/n18/coding\n",
            "Duplicated for:  http://id.d4k.dk/dataset/canonical/n9/coding\n",
            "Duplicated for:  http://id.d4k.dk/dataset/canonical/n8/coding\n",
            "URIs set.\n"
          ]
        }
      ],
      "source": [
        "uri_data = []\n",
        "with driver.session() as session:\n",
        "  query = \"\"\"MATCH (n:CANONICAL_DATA_TYPE)-[:IS_A]->(dt:FHIR_DATA_TYPE) RETURN n.uri as canonical, dt.uri as data_type\"\"\" \n",
        "  result = session.run(query)\n",
        "  for record in result:\n",
        "    query = \"\"\"MATCH (n:CANONICAL_DATA_TYPE{uri:'%s'}), (dt:FHIR_DATA_TYPE{uri:'%s'})\n",
        "      CALL apoc.path.subgraphAll(dt, {relationshipFilter:'HAS_DATA_TYPE_PROPERTY>'})\n",
        "      YIELD nodes, relationships\n",
        "      CALL apoc.refactor.cloneSubgraph(\n",
        "        nodes,\n",
        "        [rel in relationships WHERE type(rel) = 'HAS_DATA_TYPE_PROPERTY'],\n",
        "        { standinNodes:[[dt, n]] })\n",
        "      YIELD input, output, error\n",
        "      RETURN output;\n",
        "    \"\"\" % (record[\"canonical\"], record[\"data_type\"])\n",
        "    inner_result = session.run(query)\n",
        "    for inner_record in inner_result:\n",
        "      node = inner_record[\"output\"]\n",
        "      uri_data.append({\"id\": node.id, \"uri\": \"%s#%s\" % (record[\"canonical\"], node[\"name\"]) })\n",
        "    print (\"Duplicated for: \", record[\"canonical\"])\n",
        "\n",
        "driver.close()\n",
        "\n",
        "with driver.session() as session:\n",
        "  query = \"\"\"UNWIND $uri_data AS d\n",
        "    MATCH (n) WHERE ID(n)=d.id\n",
        "    SET n.uri = d.uri;\"\"\" \n",
        "  result = session.run(query, uri_data=uri_data)\n",
        "driver.close()\n",
        "print (\"URIs set.\")\n",
        "\n"
      ]
    },
    {
      "cell_type": "code",
      "execution_count": 43,
      "metadata": {
        "colab": {
          "base_uri": "https://localhost:8080/"
        },
        "id": "nZ8TGB5bLzuR",
        "outputId": "6b5eb9af-1d3f-48c7-f4ae-a4445431f6a9"
      },
      "outputs": [
        {
          "output_type": "stream",
          "name": "stdout",
          "text": [
            "CALL apoc.import.csv( [{ fileName: 'https://raw.githubusercontent.com/data4knowledge/biomedical_concepts/main/data/stage_3_api_source_nodes.csv', labels: ['API_SOURCE'] }, { fileName: 'https://raw.githubusercontent.com/data4knowledge/biomedical_concepts/main/data/stage_3_skos_concept_nodes.csv', labels: ['SKOS_CONCEPT'] }, { fileName: 'https://raw.githubusercontent.com/data4knowledge/biomedical_concepts/main/data/stage_3_skos_concept_scheme_nodes.csv', labels: ['SKOS_CONCEPT_SCHEME'] }], [{ fileName: 'https://raw.githubusercontent.com/data4knowledge/biomedical_concepts/main/data/stage_3_from_source_relationships.csv', type: 'HAS_SOURCE' }, { fileName: 'https://raw.githubusercontent.com/data4knowledge/biomedical_concepts/main/data/stage_3_skos_has_top_concept_relationships.csv', type: 'SKOS_HAS_TOP_CONCEPT' }, { fileName: 'https://raw.githubusercontent.com/data4knowledge/biomedical_concepts/main/data/stage_3_skos_narrower_relationships.csv', type: 'SKOS_NARROWER' }], {stringIds: false})\n",
            "<neo4j.work.result.Result object at 0x7f2158e6e250>\n",
            "<Record file='progress.csv' source='file' format='csv' nodes=36788 relationships=36787 properties=331086 time=14081 rows=0 batchSize=-1 batches=0 done=True data=None>\n"
          ]
        }
      ],
      "source": [
        "stage_3_files = [ \n",
        "    { \"label\": \"API_SOURCE\", \"filename\": \"stage_3_api_source_nodes.csv\" },\n",
        "    { \"label\": \"SKOS_CONCEPT\", \"filename\": \"stage_3_skos_concept_nodes.csv\" },\n",
        "    { \"label\": \"SKOS_CONCEPT_SCHEME\", \"filename\": \"stage_3_skos_concept_scheme_nodes.csv\" },\n",
        "    { \"type\": \"HAS_SOURCE\", \"filename\": \"stage_3_from_source_relationships.csv\" },\n",
        "    { \"type\": \"SKOS_HAS_TOP_CONCEPT\", \"filename\": \"stage_3_skos_has_top_concept_relationships.csv\" },\n",
        "    { \"type\": \"SKOS_NARROWER\", \"filename\": \"stage_3_skos_narrower_relationships.csv\" }\n",
        "  ]\n",
        "\n",
        "file_load(stage_3_files)\n"
      ]
    },
    {
      "cell_type": "markdown",
      "source": [
        "Do a quick test on the CT. Check AGEU and its links"
      ],
      "metadata": {
        "id": "QiRuZP8IAQRA"
      }
    },
    {
      "cell_type": "code",
      "source": [
        "with driver.session() as session:\n",
        "  query = \"\"\"MATCH (cs)-[]->(c1:SKOS_CONCEPT)-[]->(c2) WHERE c1.notation = 'AGEU' RETURN DISTINCT cs.version as version, c1.identifier as cl_identifier, c2.identifier as cli_identifier, c2.notation as cli_notation\"\"\" \n",
        "  result = session.run(query, uri_data=uri_data)\n",
        "  for record in result:\n",
        "    print (\"%s: %s, %s, %s\" % (record[\"version\"], record[\"cl_identifier\"], record[\"cli_identifier\"], record[\"cli_notation\"]))\n",
        "driver.close()\n"
      ],
      "metadata": {
        "colab": {
          "base_uri": "https://localhost:8080/"
        },
        "id": "OsWcQe73_m5E",
        "outputId": "ec6df22f-6f84-4afa-c80f-5e2c5a95c406"
      },
      "execution_count": 44,
      "outputs": [
        {
          "output_type": "stream",
          "name": "stdout",
          "text": [
            "2021-12-17: C66781, C29846, MONTHS\n",
            "2021-12-17: C66781, C29848, YEARS\n",
            "2021-12-17: C66781, C29844, WEEKS\n",
            "2021-12-17: C66781, C25301, DAYS\n",
            "2021-12-17: C66781, C25529, HOURS\n"
          ]
        }
      ]
    },
    {
      "cell_type": "markdown",
      "source": [
        "Stage 4 to 9 are the CT files for the other areas, ADaM, Protocol, CDASH etc. Not loaded at the moment. Needed to split due to size and limited RAM on the Neo4j server."
      ],
      "metadata": {
        "id": "ra9rORPF_XTs"
      }
    }
  ],
  "metadata": {
    "colab": {
      "collapsed_sections": [],
      "name": "Biomedical_Concepts.ipynb",
      "provenance": []
    },
    "kernelspec": {
      "display_name": "Python 3",
      "name": "python3"
    },
    "language_info": {
      "name": "python"
    }
  },
  "nbformat": 4,
  "nbformat_minor": 0
}