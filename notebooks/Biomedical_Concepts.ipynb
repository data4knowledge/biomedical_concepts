{
  "nbformat": 4,
  "nbformat_minor": 0,
  "metadata": {
    "colab": {
      "name": "Biomedical_Concepts.ipynb",
      "provenance": [],
      "collapsed_sections": []
    },
    "kernelspec": {
      "name": "python3",
      "display_name": "Python 3"
    },
    "language_info": {
      "name": "python"
    }
  },
  "cells": [
    {
      "cell_type": "markdown",
      "source": [
        "Install dependencies"
      ],
      "metadata": {
        "id": "FPlw5A04o23L"
      }
    },
    {
      "cell_type": "code",
      "source": [
        "!pip install neo4j\n",
        "!pip install requests"
      ],
      "metadata": {
        "colab": {
          "base_uri": "https://localhost:8080/"
        },
        "id": "nsmOe6weo0Cl",
        "outputId": "3c67c7f7-557c-46a3-c695-8b3168ed2cfb"
      },
      "execution_count": 1,
      "outputs": [
        {
          "output_type": "stream",
          "name": "stdout",
          "text": [
            "Collecting neo4j\n",
            "  Downloading neo4j-4.4.1.tar.gz (89 kB)\n",
            "\u001b[?25l\r\u001b[K     |███▊                            | 10 kB 18.1 MB/s eta 0:00:01\r\u001b[K     |███████▍                        | 20 kB 8.9 MB/s eta 0:00:01\r\u001b[K     |███████████                     | 30 kB 5.6 MB/s eta 0:00:01\r\u001b[K     |██████████████▊                 | 40 kB 5.5 MB/s eta 0:00:01\r\u001b[K     |██████████████████▍             | 51 kB 5.3 MB/s eta 0:00:01\r\u001b[K     |██████████████████████          | 61 kB 6.1 MB/s eta 0:00:01\r\u001b[K     |█████████████████████████▊      | 71 kB 6.6 MB/s eta 0:00:01\r\u001b[K     |█████████████████████████████▍  | 81 kB 6.8 MB/s eta 0:00:01\r\u001b[K     |████████████████████████████████| 89 kB 2.5 MB/s \n",
            "\u001b[?25hRequirement already satisfied: pytz in /usr/local/lib/python3.7/dist-packages (from neo4j) (2018.9)\n",
            "Building wheels for collected packages: neo4j\n",
            "  Building wheel for neo4j (setup.py) ... \u001b[?25l\u001b[?25hdone\n",
            "  Created wheel for neo4j: filename=neo4j-4.4.1-py3-none-any.whl size=114783 sha256=38762c2c75b16cbe1d56b6dbcfd5b41b51240fc5eb78d2786260e05e16e91986\n",
            "  Stored in directory: /root/.cache/pip/wheels/fd/15/02/8379f87426cd1b74fd5891f49df9fb978423feb97650cd639b\n",
            "Successfully built neo4j\n",
            "Installing collected packages: neo4j\n",
            "Successfully installed neo4j-4.4.1\n",
            "Requirement already satisfied: requests in /usr/local/lib/python3.7/dist-packages (2.23.0)\n",
            "Requirement already satisfied: idna<3,>=2.5 in /usr/local/lib/python3.7/dist-packages (from requests) (2.10)\n",
            "Requirement already satisfied: chardet<4,>=3.0.2 in /usr/local/lib/python3.7/dist-packages (from requests) (3.0.4)\n",
            "Requirement already satisfied: urllib3!=1.25.0,!=1.25.1,<1.26,>=1.21.1 in /usr/local/lib/python3.7/dist-packages (from requests) (1.24.3)\n",
            "Requirement already satisfied: certifi>=2017.4.17 in /usr/local/lib/python3.7/dist-packages (from requests) (2021.10.8)\n"
          ]
        }
      ]
    },
    {
      "cell_type": "markdown",
      "source": [
        "First create the FHIR data types. Need this before anything else.\n"
      ],
      "metadata": {
        "id": "hCjYsNHTmpXP"
      }
    },
    {
      "cell_type": "code",
      "source": [
        "from neo4j import GraphDatabase\n",
        "import requests\n",
        "import json\n",
        "\n",
        "def clear(tx):\n",
        "    tx.run(\"MATCH (n) DETACH DELETE n\")\n",
        "\n",
        "driver = GraphDatabase.driver(\"neo4j://3.83.17.192:7687\", auth=(\"neo4j\", \"troubleshooters-decreases-helicopters\"))\n",
        "\n",
        "response = requests.get('https://raw.githubusercontent.com/data4knowledge/biomedical_concepts/main/data/fhir_data_type_nodes.json')\n",
        "the_nodes = json.loads(response.text)\n",
        "response = requests.get('https://raw.githubusercontent.com/data4knowledge/biomedical_concepts/main/data/fhir_data_type_relationships.json')\n",
        "the_relationships = json.loads(response.text)\n",
        "\n",
        "with driver.session() as session:\n",
        "    session.write_transaction(clear)\n",
        "    for key, value in the_nodes.items():\n",
        "        query = \"UNWIND $nodes as data CREATE (n:%s) SET n = data;\" % (key)\n",
        "        print(query)\n",
        "        result = session.run(query, nodes=value)\n",
        "\n",
        "    for key, value in the_relationships.items():\n",
        "        query = \"UNWIND $rels as data MATCH (n {uri: data.from}) MATCH (m {uri: data.to}) CREATE (n)-[:%s]->(m)\" % (key)\n",
        "        print(query)\n",
        "        result = session.run(query, rels=value)\n",
        "\n",
        "driver.close()"
      ],
      "metadata": {
        "colab": {
          "base_uri": "https://localhost:8080/"
        },
        "id": "fqbZcwbLnKkt",
        "outputId": "d13cb8d4-bb73-47ba-a0d8-abbb5bad5fd2"
      },
      "execution_count": 51,
      "outputs": [
        {
          "output_type": "stream",
          "name": "stdout",
          "text": [
            "UNWIND $nodes as data CREATE (n:FHIR) SET n = data;\n",
            "UNWIND $nodes as data CREATE (n:WEB_SOURCE) SET n = data;\n",
            "UNWIND $nodes as data CREATE (n:FHIR_DATA_TYPE) SET n = data;\n",
            "UNWIND $nodes as data CREATE (n:FHIR_DATA_TYPE_PROPERTY) SET n = data;\n",
            "UNWIND $rels as data MATCH (n {uri: data.from}) MATCH (m {uri: data.to}) CREATE (n)-[:FROM_SOURCE]->(m)\n",
            "UNWIND $rels as data MATCH (n {uri: data.from}) MATCH (m {uri: data.to}) CREATE (n)-[:HAS_DATA_TYPE]->(m)\n",
            "UNWIND $rels as data MATCH (n {uri: data.from}) MATCH (m {uri: data.to}) CREATE (n)-[:HAS_DATA_TYPE_PROPERTY]->(m)\n"
          ]
        }
      ]
    },
    {
      "cell_type": "markdown",
      "source": [
        "Now check we have loaded ok. Check the FHIR version, should be 4.0.1"
      ],
      "metadata": {
        "id": "y2X4GzLForm7"
      }
    },
    {
      "cell_type": "code",
      "source": [
        "with driver.session() as session:\n",
        "  query = \"\"\"MATCH (n:FHIR) Return n.version as version\"\"\" \n",
        "  result = session.run(query)\n",
        "  for record in result:\n",
        "    print(\"Version: \", record[\"version\"])\n",
        "\n",
        "driver.close()"
      ],
      "metadata": {
        "colab": {
          "base_uri": "https://localhost:8080/"
        },
        "id": "QNsq3ykEnysr",
        "outputId": "d791d0e8-e28c-4835-d81d-ca687574652a"
      },
      "execution_count": 3,
      "outputs": [
        {
          "output_type": "stream",
          "name": "stdout",
          "text": [
            "Version:  4.0.1\n"
          ]
        }
      ]
    },
    {
      "cell_type": "code",
      "source": [
        "response = requests.get('https://raw.githubusercontent.com/data4knowledge/biomedical_concepts/main/data/canonical_model_nodes.json')\n",
        "the_nodes = json.loads(response.text)\n",
        "response = requests.get('https://raw.githubusercontent.com/data4knowledge/biomedical_concepts/main/data/canonical_model_relationships.json')\n",
        "the_relationships = json.loads(response.text)\n",
        "\n",
        "with driver.session() as session:\n",
        "    for key, value in the_nodes.items():\n",
        "        query = \"UNWIND $nodes as data CREATE (n:%s) SET n = data;\" % (key)\n",
        "        print(query)\n",
        "        result = session.run(query, nodes=value)\n",
        "\n",
        "    for key, value in the_relationships.items():\n",
        "        query = \"UNWIND $rels as data MATCH (n {uri: data.from}) MATCH (m {uri: data.to}) CREATE (n)-[:%s]->(m)\" % (key)\n",
        "        print(query)\n",
        "        result = session.run(query, rels=value)\n",
        "\n",
        "driver.close()"
      ],
      "metadata": {
        "colab": {
          "base_uri": "https://localhost:8080/"
        },
        "id": "hklRXVFUKGNK",
        "outputId": "22f0b62c-2951-46f0-e348-f0c47cbb4ed1"
      },
      "execution_count": 52,
      "outputs": [
        {
          "output_type": "stream",
          "name": "stdout",
          "text": [
            "UNWIND $nodes as data CREATE (n:CANONICAL_NODE) SET n = data;\n",
            "UNWIND $rels as data MATCH (n {uri: data.from}) MATCH (m {uri: data.to}) CREATE (n)-[:CONSISTS_OF]->(m)\n",
            "UNWIND $rels as data MATCH (n {uri: data.from}) MATCH (m {uri: data.to}) CREATE (n)-[:IS_A]->(m)\n"
          ]
        }
      ]
    },
    {
      "cell_type": "markdown",
      "source": [
        "Check a few relationships exist in the canonical model. Should get three results.\n",
        "\n",
        "* THERAPEUTIC INTERVENTION\n",
        "* OBSERVATION\n",
        "* ADVERSE EVENT\n",
        "\n"
      ],
      "metadata": {
        "id": "592LExsq_Su0"
      }
    },
    {
      "cell_type": "code",
      "source": [
        "with driver.session() as session:\n",
        "  query = \"\"\"MATCH (t)-[]->(n:CANONICAL_NODE) WHERE n.name=\"LOCATION\" RETURN t.name as name\"\"\" \n",
        "  result = session.run(query)\n",
        "  for record in result:\n",
        "    print(\"Linked to Location: \", record[\"name\"])\n",
        "\n",
        "driver.close()"
      ],
      "metadata": {
        "colab": {
          "base_uri": "https://localhost:8080/"
        },
        "id": "Xn5dPGqB_Xj6",
        "outputId": "63838863-4bae-484e-b52a-cf231fc072fe"
      },
      "execution_count": 5,
      "outputs": [
        {
          "output_type": "stream",
          "name": "stdout",
          "text": [
            "Linked to Location:  ADVERSE EVENT\n",
            "Linked to Location:  THERAPEUTIC INTERVENTION\n",
            "Linked to Location:  OBSERVATION\n"
          ]
        }
      ]
    },
    {
      "cell_type": "markdown",
      "source": [
        "Now create the data type nodes for the canonical mode. For each canonical node that references a data type copy the properties for that data type to the canonical node. Give each canonical leaf a unique id. These nodes should also have a C code reference providig a definition for the data item.\n"
      ],
      "metadata": {
        "id": "x1ws1F7zpwdN"
      }
    },
    {
      "cell_type": "code",
      "source": [
        "uri_data = []\n",
        "with driver.session() as session:\n",
        "  query = \"\"\"MATCH (n:CANONICAL_NODE)-[:IS_A]->(dt:FHIR_DATA_TYPE) RETURN n.uri as canonical, dt.uri as data_type\"\"\" \n",
        "  result = session.run(query)\n",
        "  for record in result:\n",
        "    query = \"\"\"MATCH (n:CANONICAL_NODE{uri:'%s'}), (dt:FHIR_DATA_TYPE{uri:'%s'})\n",
        "      CALL apoc.path.subgraphAll(dt, {relationshipFilter:'HAS_DATA_TYPE_PROPERTY>'})\n",
        "      YIELD nodes, relationships\n",
        "      CALL apoc.refactor.cloneSubgraph(\n",
        "        nodes,\n",
        "        [rel in relationships WHERE type(rel) = 'HAS_DATA_TYPE_PROPERTY'],\n",
        "        { standinNodes:[[dt, n]] })\n",
        "      YIELD input, output, error\n",
        "      RETURN output;\n",
        "    \"\"\" % (record[\"canonical\"], record[\"data_type\"])\n",
        "    inner_result = session.run(query)\n",
        "    for inner_record in inner_result:\n",
        "      node = inner_record[\"output\"]\n",
        "      uri_data.append({\"id\": node.id, \"uri\": \"%s#%s\" % (record[\"canonical\"], node[\"name\"]) })\n",
        "    print (\"Duplicated for: \", record[\"canonical\"])\n",
        "\n",
        "driver.close()\n",
        "\n",
        "with driver.session() as session:\n",
        "  query = \"\"\"UNWIND $uri_data AS d\n",
        "    MATCH (n) WHERE ID(n)=d.id\n",
        "    SET n.uri = d.uri;\"\"\" \n",
        "  result = session.run(query, uri_data=uri_data)\n",
        "driver.close()\n",
        "print (\"URIs set.\")\n",
        "\n"
      ],
      "metadata": {
        "colab": {
          "base_uri": "https://localhost:8080/"
        },
        "id": "-EBgVQrPqDIe",
        "outputId": "7db30b7a-319d-4d56-da23-54ccb0b422bb"
      },
      "execution_count": 50,
      "outputs": [
        {
          "output_type": "stream",
          "name": "stdout",
          "text": [
            "Duplicated for:  http://id.d4k.dk/dataset/canonical/n8\n",
            "Duplicated for:  http://id.d4k.dk/dataset/canonical/n9\n",
            "Duplicated for:  http://id.d4k.dk/dataset/canonical/n18\n",
            "URIs set.\n"
          ]
        }
      ]
    }
  ]
}