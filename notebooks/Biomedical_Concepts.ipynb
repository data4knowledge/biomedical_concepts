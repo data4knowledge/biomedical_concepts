{
  "nbformat": 4,
  "nbformat_minor": 0,
  "metadata": {
    "colab": {
      "name": "Biomedical_Concepts.ipynb",
      "provenance": [],
      "collapsed_sections": []
    },
    "kernelspec": {
      "name": "python3",
      "display_name": "Python 3"
    },
    "language_info": {
      "name": "python"
    }
  },
  "cells": [
    {
      "cell_type": "markdown",
      "source": [
        "Install dependencies"
      ],
      "metadata": {
        "id": "FPlw5A04o23L"
      }
    },
    {
      "cell_type": "code",
      "source": [
        "!pip install neo4j\n",
        "!pip install requests"
      ],
      "metadata": {
        "colab": {
          "base_uri": "https://localhost:8080/"
        },
        "id": "nsmOe6weo0Cl",
        "outputId": "70684d0a-eda4-44cd-ac06-306143579b32"
      },
      "execution_count": 8,
      "outputs": [
        {
          "output_type": "stream",
          "name": "stdout",
          "text": [
            "Requirement already satisfied: neo4j in /usr/local/lib/python3.7/dist-packages (4.4.1)\n",
            "Requirement already satisfied: pytz in /usr/local/lib/python3.7/dist-packages (from neo4j) (2018.9)\n",
            "Requirement already satisfied: requests in /usr/local/lib/python3.7/dist-packages (2.23.0)\n",
            "Requirement already satisfied: idna<3,>=2.5 in /usr/local/lib/python3.7/dist-packages (from requests) (2.10)\n",
            "Requirement already satisfied: urllib3!=1.25.0,!=1.25.1,<1.26,>=1.21.1 in /usr/local/lib/python3.7/dist-packages (from requests) (1.24.3)\n",
            "Requirement already satisfied: chardet<4,>=3.0.2 in /usr/local/lib/python3.7/dist-packages (from requests) (3.0.4)\n",
            "Requirement already satisfied: certifi>=2017.4.17 in /usr/local/lib/python3.7/dist-packages (from requests) (2021.10.8)\n"
          ]
        }
      ]
    },
    {
      "cell_type": "markdown",
      "source": [
        "First create the FHIR data types. Need this before anything else.\n"
      ],
      "metadata": {
        "id": "hCjYsNHTmpXP"
      }
    },
    {
      "cell_type": "code",
      "source": [
        "from neo4j import GraphDatabase\n",
        "import requests\n",
        "import json\n",
        "\n",
        "def clear(tx):\n",
        "    tx.run(\"MATCH (n) DETACH DELETE n\")\n",
        "\n",
        "driver = GraphDatabase.driver(\"neo4j://3.83.17.192:7687\", auth=(\"neo4j\", \"troubleshooters-decreases-helicopters\"))\n",
        "\n",
        "response = requests.get('https://raw.githubusercontent.com/data4knowledge/biomedical_concepts/main/data/fhir_data_type_nodes.json')\n",
        "the_nodes = json.loads(response.text)\n",
        "response = requests.get('https://raw.githubusercontent.com/data4knowledge/biomedical_concepts/main/data/fhir_data_type_relationships.json')\n",
        "the_relationships = json.loads(response.text)\n",
        "\n",
        "with driver.session() as session:\n",
        "    session.write_transaction(clear)\n",
        "    for key, value in the_nodes.items():\n",
        "        query = \"UNWIND $nodes as data CREATE (n:%s) SET n = data;\" % (key)\n",
        "        print(query)\n",
        "        result = session.run(query, nodes=value)\n",
        "\n",
        "    for key, value in the_relationships.items():\n",
        "        query = \"UNWIND $rels as data MATCH (n {uri: data.from}) MATCH (m {uri: data.to}) CREATE (n)-[:%s]->(m)\" % (key)\n",
        "        print(query)\n",
        "        result = session.run(query, rels=value)\n",
        "\n",
        "driver.close()"
      ],
      "metadata": {
        "colab": {
          "base_uri": "https://localhost:8080/"
        },
        "id": "fqbZcwbLnKkt",
        "outputId": "a8d5921e-1db7-4d97-d7d0-5b569fc2609d"
      },
      "execution_count": 20,
      "outputs": [
        {
          "output_type": "stream",
          "name": "stdout",
          "text": [
            "UNWIND $nodes as data CREATE (n:FHIR) SET n = data;\n",
            "UNWIND $nodes as data CREATE (n:WEB_SOURCE) SET n = data;\n",
            "UNWIND $nodes as data CREATE (n:FHIR_DATA_TYPE) SET n = data;\n",
            "UNWIND $nodes as data CREATE (n:FHIR_DATA_TYPE_PROPERTY) SET n = data;\n",
            "UNWIND $rels as data MATCH (n {uri: data.from}) MATCH (m {uri: data.to}) CREATE (n)-[:FROM_SOURCE]->(m)\n",
            "UNWIND $rels as data MATCH (n {uri: data.from}) MATCH (m {uri: data.to}) CREATE (n)-[:HAS_DATA_TYPE]->(m)\n",
            "UNWIND $rels as data MATCH (n {uri: data.from}) MATCH (m {uri: data.to}) CREATE (n)-[:HAS_DATA_TYPE_PROPERTY]->(m)\n"
          ]
        }
      ]
    },
    {
      "cell_type": "markdown",
      "source": [
        "Now check we have loaded ok. Check the FHIR version, should be 4.0.1"
      ],
      "metadata": {
        "id": "y2X4GzLForm7"
      }
    },
    {
      "cell_type": "code",
      "source": [
        "with driver.session() as session:\n",
        "  query = \"\"\"MATCH (n:FHIR) Return n.version as version\"\"\" \n",
        "  result = session.run(query)\n",
        "  for record in result:\n",
        "    print(\"Version: \", record[\"version\"])\n",
        "\n",
        "driver.close()"
      ],
      "metadata": {
        "colab": {
          "base_uri": "https://localhost:8080/"
        },
        "id": "QNsq3ykEnysr",
        "outputId": "7079f468-adb2-4bbc-f0c2-06207bbf9758"
      },
      "execution_count": 21,
      "outputs": [
        {
          "output_type": "stream",
          "name": "stdout",
          "text": [
            "Version:  4.0.1\n"
          ]
        }
      ]
    },
    {
      "cell_type": "code",
      "source": [
        "response = requests.get('https://raw.githubusercontent.com/data4knowledge/biomedical_concepts/main/data/canonical_model_nodes.json')\n",
        "the_nodes = json.loads(response.text)\n",
        "response = requests.get('https://raw.githubusercontent.com/data4knowledge/biomedical_concepts/main/data/canonical_model_relationships.json')\n",
        "the_relationships = json.loads(response.text)\n",
        "\n",
        "with driver.session() as session:\n",
        "    for key, value in the_nodes.items():\n",
        "        query = \"UNWIND $nodes as data CREATE (n:%s) SET n = data;\" % (key)\n",
        "        print(query)\n",
        "        result = session.run(query, nodes=value)\n",
        "\n",
        "    for key, value in the_relationships.items():\n",
        "        query = \"UNWIND $rels as data MATCH (n {uri: data.from}) MATCH (m {uri: data.to}) CREATE (n)-[:%s]->(m)\" % (key)\n",
        "        print(query)\n",
        "        result = session.run(query, rels=value)\n",
        "\n",
        "driver.close()"
      ],
      "metadata": {
        "colab": {
          "base_uri": "https://localhost:8080/"
        },
        "id": "hklRXVFUKGNK",
        "outputId": "3ab3f76d-5ac6-4043-beca-56b71f12fd64"
      },
      "execution_count": 22,
      "outputs": [
        {
          "output_type": "stream",
          "name": "stdout",
          "text": [
            "UNWIND $nodes as data CREATE (n:CANONICAL_NODE) SET n = data;\n",
            "UNWIND $rels as data MATCH (n {uri: data.from}) MATCH (m {uri: data.to}) CREATE (n)-[:CONSISTS_OF]->(m)\n"
          ]
        }
      ]
    }
  ]
}